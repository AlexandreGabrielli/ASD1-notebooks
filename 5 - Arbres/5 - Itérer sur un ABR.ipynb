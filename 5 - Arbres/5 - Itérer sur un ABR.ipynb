{
 "cells": [
  {
   "cell_type": "markdown",
   "metadata": {
    "slideshow": {
     "slide_type": "slide"
    }
   },
   "source": [
    "## Itérer sur un ABR"
   ]
  },
  {
   "cell_type": "markdown",
   "metadata": {
    "slideshow": {
     "slide_type": "slide"
    }
   },
   "source": [
    "Itérer sur un ABR, c'est être capable d'écrire une boucle qui parcourt tous les éléments de l'arbre dans l'ordre"
   ]
  },
  {
   "cell_type": "markdown",
   "metadata": {
    "slideshow": {
     "slide_type": "fragment"
    }
   },
   "source": [
    "En python, pour un arbre de racine R, on voudrait avoir \n",
    "\n",
    "&nbsp;&nbsp;&nbsp;`for n in R: print(n)`"
   ]
  },
  {
   "cell_type": "markdown",
   "metadata": {
    "slideshow": {
     "slide_type": "fragment"
    }
   },
   "source": [
    "En C++, pour parcourir un `std::set S`, on peut écrire \n",
    "\n",
    "&nbsp;&nbsp;&nbsp;`for(auto it = S.begin(); it != S.end(); ++it) \n",
    "      cout << *it;`"
   ]
  },
  {
   "cell_type": "markdown",
   "metadata": {
    "slideshow": {
     "slide_type": "slide"
    }
   },
   "source": [
    "## En python\n",
    "\n",
    "Commençons par noter que dans certains langages - dont python - savoir parcourir suffit à savoir itérer.\n",
    "\n",
    "Pour rendre itérable par ordre croissant les noeuds de l'arbre, il suffit d'écrire un parcours symétrique en utilisant le mot clé `yield`. "
   ]
  },
  {
   "cell_type": "code",
   "execution_count": 1,
   "metadata": {},
   "outputs": [],
   "source": [
    "class Noeud:\n",
    "    def __init__(self,val):\n",
    "        self.clef = val; self.gauche = None; self.droite = None\n",
    "    def __str__(self):\n",
    "        return \"{}\".format(self.clef)\n",
    "    \n",
    "    def __iter__(self):\n",
    "        if self.gauche:\n",
    "            yield from self.gauche\n",
    "        yield self\n",
    "        if self.droite:\n",
    "            yield from self.droite"
   ]
  },
  {
   "cell_type": "code",
   "execution_count": 2,
   "metadata": {
    "slideshow": {
     "slide_type": "skip"
    }
   },
   "outputs": [],
   "source": [
    "R = Noeud(4)\n",
    "R.gauche = G = Noeud(2)\n",
    "G.gauche = Noeud(1); G.droite = Noeud(3)\n",
    "R.droite = D = Noeud(5)\n",
    "D.droite = DD = Noeud(7)\n",
    "DD.gauche = Noeud(6)\n",
    "import include.helpers as h"
   ]
  },
  {
   "cell_type": "code",
   "execution_count": 3,
   "metadata": {
    "slideshow": {
     "slide_type": "subslide"
    }
   },
   "outputs": [
    {
     "data": {
      "image/png": "[encoded data removed]",
      "text/plain": [
       "<IPython.core.display.Image object>"
      ]
     },
     "metadata": {},
     "output_type": "display_data"
    }
   ],
   "source": [
    "h.afficher_arbre_binaire(R)"
   ]
  },
  {
   "cell_type": "markdown",
   "metadata": {},
   "source": [
    "La méthode `__iter__` de la classe `Noeud` nous permet d'écrire "
   ]
  },
  {
   "cell_type": "code",
   "execution_count": 4,
   "metadata": {},
   "outputs": [
    {
     "name": "stdout",
     "output_type": "stream",
     "text": [
      "1 2 3 4 5 6 7 "
     ]
    }
   ],
   "source": [
    "for n in R: print(n, end = \" \")"
   ]
  },
  {
   "cell_type": "markdown",
   "metadata": {
    "slideshow": {
     "slide_type": "subslide"
    }
   },
   "source": [
    "Cette approche se base sur les [coroutines](https://en.wikipedia.org/wiki/Coroutine), i.e. des fonctions dont l'exécution peut être suspendue et reprise. \n",
    "\n",
    "Ce n'est pas actuellement disponible en C++ standard, mais \n",
    "\n",
    "* proposé, mais pas encore approuvé, pour C++20 \n",
    "\n",
    "\n",
    "* disponible dans MSVC 2017 et clang 5.0, dans le namespace `std::experimental`"
   ]
  },
  {
   "cell_type": "markdown",
   "metadata": {
    "slideshow": {
     "slide_type": "slide"
    }
   },
   "source": [
    "## Element suivant \n",
    "\n",
    "En l'absence de coroutine, il nous faut pouvoir écrire une fonction "
   ]
  },
  {
   "cell_type": "code",
   "execution_count": 5,
   "metadata": {},
   "outputs": [],
   "source": [
    "def noeud_suivant(n):\n",
    "    return # le noeud suivant dans l'ordre croissant"
   ]
  },
  {
   "cell_type": "markdown",
   "metadata": {},
   "source": [
    "qui soit capable de se déplacer dans l'arbre indépendemment de lui, éventuellement sans en connaître la racine. "
   ]
  },
  {
   "cell_type": "code",
   "execution_count": 6,
   "metadata": {
    "slideshow": {
     "slide_type": "subslide"
    }
   },
   "outputs": [
    {
     "data": {
      "image/png": "[encoded data removed]",
      "text/plain": [
       "<IPython.core.display.Image object>"
      ]
     },
     "metadata": {},
     "output_type": "display_data"
    }
   ],
   "source": [
    "h.afficher_arbre_binaire(R)"
   ]
  },
  {
   "cell_type": "markdown",
   "metadata": {
    "slideshow": {
     "slide_type": "-"
    }
   },
   "source": [
    "* Les noeuds suivants de 2, 4, et 5 sont le minimum de leur sous-arbre droit. il suffira d'appeler notre fonction `noeud_min` pour y accéder\n",
    "\n",
    "\n",
    "* Les noeuds suivants de 1 ,3, et 6 sont parmi leurs ancêtres. Plus exactement, ils sont le premier ancêtre pour lequel on remonte depuis l'enfant gauche. \n",
    "\n",
    "\n",
    "* Le noeud suivant de 7 est `None`"
   ]
  },
  {
   "cell_type": "markdown",
   "metadata": {
    "slideshow": {
     "slide_type": "subslide"
    }
   },
   "source": [
    "La méthode la plus simple pour accéder aux ancêtres est d'ajouter un pointeur vers le noeud parent à chaque noeud. C'est la technique utilisée par la STL en C++. "
   ]
  },
  {
   "cell_type": "code",
   "execution_count": 7,
   "metadata": {},
   "outputs": [],
   "source": [
    "class Noeud:\n",
    "    def __init__(self,val,parent):\n",
    "        self.clef = val\n",
    "        self.parent = parent\n",
    "        self.gauche = None \n",
    "        self.droite = None\n",
    "    def __str__(self): \n",
    "        return \"{}\".format(self.clef)"
   ]
  },
  {
   "cell_type": "code",
   "execution_count": 8,
   "metadata": {
    "slideshow": {
     "slide_type": "skip"
    }
   },
   "outputs": [],
   "source": [
    "R         = N4 = Noeud(4,None)\n",
    "N4.gauche = N2 = Noeud(2,N4)\n",
    "N4.droite = N5 = Noeud(5,N4)\n",
    "N2.gauche = N1 = Noeud(1,N2)\n",
    "N2.droite = N3 = Noeud(3,N2)\n",
    "N5.droite = N7 = Noeud(7,N5)\n",
    "N7.gauche = N6 = Noeud(6,N7)"
   ]
  },
  {
   "cell_type": "code",
   "execution_count": 9,
   "metadata": {
    "slideshow": {
     "slide_type": "subslide"
    }
   },
   "outputs": [
    {
     "data": {
      "image/png": "[encoded data removed]",
      "text/plain": [
       "<IPython.core.display.Image object>"
      ]
     },
     "metadata": {},
     "output_type": "display_data"
    }
   ],
   "source": [
    "def clef(R): return R.clef if R else \"⌀\"\n",
    "\n",
    "def afficher_liens(R):\n",
    "    return \"[{}] P{} G{} D{}\".format(clef(R),\n",
    "           clef(R.parent), clef(R.gauche), clef(R.droite))\n",
    "\n",
    "Noeud.__str__ = afficher_liens\n",
    "\n",
    "h.afficher_arbre_binaire(R)"
   ]
  },
  {
   "cell_type": "markdown",
   "metadata": {
    "slideshow": {
     "slide_type": "subslide"
    }
   },
   "source": [
    "Le noeud suivant est donc \n",
    "* le minimum du sous-arbre droit s'il existe\n",
    "* sinon, le premier ancêtre dont on remonte depuis la gauche\n",
    "* sinon, `None` s'il n'y a plus de parent en remontant. "
   ]
  },
  {
   "cell_type": "code",
   "execution_count": 10,
   "metadata": {},
   "outputs": [],
   "source": [
    "def noeud_min(R):     \n",
    "    return noeud_min(R.gauche) if R.gauche else R\n",
    "\n",
    "def noeud_suivant(n):\n",
    "    if n.droite:\n",
    "        return noeud_min(n.droite)\n",
    "    else:\n",
    "        while n.parent and n.parent.gauche != n:\n",
    "            n = n.parent\n",
    "        return n.parent"
   ]
  },
  {
   "cell_type": "markdown",
   "metadata": {
    "slideshow": {
     "slide_type": "subslide"
    }
   },
   "source": [
    "Ces fonctions nous permettent d'itérer sur l'arbre par ordre croissant à partir du premier noeud (`noeud_min(R)`)"
   ]
  },
  {
   "cell_type": "code",
   "execution_count": 11,
   "metadata": {},
   "outputs": [
    {
     "name": "stdout",
     "output_type": "stream",
     "text": [
      "1 2 3 4 5 6 7 "
     ]
    }
   ],
   "source": [
    "n = noeud_min(R)\n",
    "while n:\n",
    "    print(n.clef, end=\" \")\n",
    "    n = noeud_suivant(n)"
   ]
  },
  {
   "cell_type": "markdown",
   "metadata": {
    "slideshow": {
     "slide_type": "slide"
    }
   },
   "source": [
    "## Sans lien vers le parent\n",
    "\n",
    "Il est aussi possible de trouver le noeud suivant sans avoir d'attribut `parent` à chaque noeud. Mais cela requiert\n",
    "\n",
    "* de connaitre la racine de l'arbre\n",
    "\n",
    "\n",
    "* quand le noeud courrant n'a pas d'enfant droit\n",
    "    * de chercher le noeud courrant\n",
    "    * en se souvenant du dernier noeud pour lequel on a tourné à gauche en cherchant"
   ]
  },
  {
   "cell_type": "code",
   "execution_count": 12,
   "metadata": {
    "slideshow": {
     "slide_type": "subslide"
    }
   },
   "outputs": [],
   "source": [
    "def noeud_suivant(R,n):\n",
    "    if n.droite:\n",
    "        return noeud_min(n.droite)\n",
    "    else:\n",
    "        suivant = None\n",
    "        r = R\n",
    "        while r.clef != n.clef:\n",
    "            if n.clef < r.clef:\n",
    "                suivant = r\n",
    "                r = r.gauche\n",
    "            else:\n",
    "                r = r.droite\n",
    "        return suivant"
   ]
  },
  {
   "cell_type": "markdown",
   "metadata": {
    "slideshow": {
     "slide_type": "subslide"
    }
   },
   "source": [
    "Cet algorithme fonctionne aussi, mais avec une complexité temporelle plus élevée (logarithmique au lieu de constant en temps amorti)"
   ]
  },
  {
   "cell_type": "code",
   "execution_count": 13,
   "metadata": {},
   "outputs": [
    {
     "name": "stdout",
     "output_type": "stream",
     "text": [
      "1 2 3 4 5 6 7 "
     ]
    }
   ],
   "source": [
    "n = noeud_min(R)\n",
    "while n:\n",
    "    print(n.clef, end=\" \")\n",
    "    n = noeud_suivant(R,n)"
   ]
  },
  {
   "cell_type": "markdown",
   "metadata": {
    "slideshow": {
     "slide_type": "slide"
    }
   },
   "source": [
    "<table style=\"width: 100%; border: 0px\">\n",
    "<tr style=\"background-color:white; border:0px\">\n",
    "<td style=\"width: 120px; border: 0px\">\n",
    "    <img src=\"https://heig-vd.ch/ResourcePackages/WhiteFox/assets/images/logo-heig-vd.svg\" height=200px align=left >\n",
    "    </td>\n",
    "    <td style=\"vertical-align: middle; border: 0px\" height=200px>\n",
    "    <p style=\"text-align: left\">\n",
    "        <a href=\"https://ocuisenaire.github.io/ASD1-notebooks/\">ASD1 Notebooks on GitHub.io</a>\n",
    " </p>        \n",
    "<p style=\"text-align: left\">\n",
    "© Olivier Cuisenaire, 2018 </p>\n",
    "</td>\n",
    "</tr>\n",
    "</table>"
   ]
  },
  {
   "cell_type": "raw",
   "metadata": {},
   "source": [
    "<style type=\"text/css\">\n",
    ".reveal {\n",
    "font-size: 200%;\n",
    "}</style>"
   ]
  }
 ],
 "metadata": {
  "celltoolbar": "Slideshow",
  "kernelspec": {
   "display_name": "Python 3",
   "language": "python",
   "name": "python3"
  },
  "language_info": {
   "codemirror_mode": {
    "name": "ipython",
    "version": 3
   },
   "file_extension": ".py",
   "mimetype": "text/x-python",
   "name": "python",
   "nbconvert_exporter": "python",
   "pygments_lexer": "ipython3",
   "version": "3.6.5"
  }
 },
 "nbformat": 4,
 "nbformat_minor": 2
}
