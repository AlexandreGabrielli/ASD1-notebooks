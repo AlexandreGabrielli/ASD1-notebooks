{
 "cells": [
  {
   "cell_type": "markdown",
   "metadata": {},
   "source": [
    "## Itérer sur un ABR"
   ]
  },
  {
   "cell_type": "code",
   "execution_count": null,
   "metadata": {},
   "outputs": [],
   "source": [
    "class Node:\n",
    "    def __init__(self,\n",
    "                 valeur,\n",
    "                 parent = None,\n",
    "                 gauche = None,\n",
    "                 droite = None):\n",
    "        self.valeur = valeur\n",
    "        self.gauche = gauche\n",
    "        self.droite = droite\n",
    "        self.parent = parent"
   ]
  },
  {
   "cell_type": "code",
   "execution_count": null,
   "metadata": {},
   "outputs": [],
   "source": [
    "def suivant_en_ordre(n):\n",
    "    if n.droite:\n",
    "        return minimum(n.droite)\n",
    "    else:\n",
    "        while n.parent and n.parent.gauche != n:\n",
    "            n = n.parent\n",
    "        return n.parent"
   ]
  }
 ],
 "metadata": {
  "kernelspec": {
   "display_name": "Python 3",
   "language": "python",
   "name": "python3"
  },
  "language_info": {
   "codemirror_mode": {
    "name": "ipython",
    "version": 3
   },
   "file_extension": ".py",
   "mimetype": "text/x-python",
   "name": "python",
   "nbconvert_exporter": "python",
   "pygments_lexer": "ipython3",
   "version": "3.6.5"
  }
 },
 "nbformat": 4,
 "nbformat_minor": 2
}
