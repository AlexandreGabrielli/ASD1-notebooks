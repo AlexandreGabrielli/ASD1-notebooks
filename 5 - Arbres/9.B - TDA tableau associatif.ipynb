{
 "cells": [
  {
   "cell_type": "markdown",
   "metadata": {
    "slideshow": {
     "slide_type": "slide"
    }
   },
   "source": [
    "# TDA Tableau Associatif (`map`)"
   ]
  },
  {
   "cell_type": "markdown",
   "metadata": {
    "slideshow": {
     "slide_type": "slide"
    }
   },
   "source": [
    "Un **tableau associatif** (ou dictionnaire) est un type de données abstrait associant des **clefs uniques** à des **valeurs**. \n",
    "\n",
    "C'est une généralisation de la notion de tableau à des indices de type arbitraire, pas nécessairement consécutifs\n",
    "\n",
    "Les opérations usuellement fournies sont :\n",
    "\n",
    "* *ajouter* - associer une nouvelle valeur à une nouvelle clef\n",
    "\n",
    "\n",
    "* *modifier* - associer une nouvelle valeur à une ancienne clef\n",
    "\n",
    "\n",
    "* *supprimer* - supprimer une clef et la valeur associée\n",
    "\n",
    "\n",
    "* *chercher* - déterminer la valeur associée à une clef, si elle existe."
   ]
  },
  {
   "cell_type": "markdown",
   "metadata": {
    "slideshow": {
     "slide_type": "subslide"
    }
   },
   "source": [
    "La **mise en oeuvre** de ce TDA peut se faire efficacement au moyen  \n",
    "\n",
    "* d'arbres binaires de recherche\n",
    "\n",
    "\n",
    "* de tables de hachage (ASD2)\n",
    "\n",
    "\n",
    "L'utilisation d'un ABR offre en plus le maintien trié des paires clef/valeur par ordre de clef croissante. Les opérations sur un ABR équilibré sont $\\Theta( \\log n )$ en moyenne et dans le pire des cas. \n",
    "\n",
    "Les opérations sur une table de hachage ont une complexité moyenne $\\Theta(1)$, mais $\\Theta(n)$ dans le pire des cas. "
   ]
  },
  {
   "cell_type": "code",
   "execution_count": 1,
   "metadata": {
    "slideshow": {
     "slide_type": "skip"
    }
   },
   "outputs": [],
   "source": [
    "import include.helpers as h"
   ]
  },
  {
   "cell_type": "markdown",
   "metadata": {
    "slideshow": {
     "slide_type": "slide"
    }
   },
   "source": [
    "## Mise en oeuvre \n",
    "\n",
    "Nous utilisons ici un arbre binaire de recherche dont les noeuds stockent des attributs **clef** et **valeur** en plus des liens vers les autres noeuds.  "
   ]
  },
  {
   "cell_type": "code",
   "execution_count": 2,
   "metadata": {},
   "outputs": [],
   "source": [
    "class Noeud:\n",
    "    \n",
    "    def __init__(self,clef,valeur):\n",
    "        \n",
    "        self.clef = clef\n",
    "        self.valeur = valeur\n",
    "        \n",
    "        self.gauche = None\n",
    "        self.droite = None   "
   ]
  },
  {
   "cell_type": "markdown",
   "metadata": {
    "slideshow": {
     "slide_type": "subslide"
    }
   },
   "source": [
    "La fonction d'insertion sert à la fois à l'ajout et à la modification"
   ]
  },
  {
   "cell_type": "code",
   "execution_count": 3,
   "metadata": {},
   "outputs": [],
   "source": [
    "def inserer(R,clef,valeur):\n",
    "    \n",
    "    if R == None: # ajouter une nouvelle clef\n",
    "        R = Noeud(clef,valeur)  \n",
    "        \n",
    "    elif clef < R.clef: \n",
    "        R.gauche = inserer(R.gauche,clef,valeur)    \n",
    "    elif clef > R.clef: \n",
    "        R.droite = inserer(R.droite,clef,valeur)\n",
    "        \n",
    "    else:  # modifier la valeur associée\n",
    "        R.valeur = valeur  \n",
    "        \n",
    "    return R"
   ]
  },
  {
   "cell_type": "markdown",
   "metadata": {
    "slideshow": {
     "slide_type": "subslide"
    }
   },
   "source": [
    "La fonction de recherche retourne le noeud trouvé ou `None`"
   ]
  },
  {
   "cell_type": "code",
   "execution_count": 4,
   "metadata": {},
   "outputs": [],
   "source": [
    "def chercher(R,clef):\n",
    "    if R == None:      return None      \n",
    "    elif clef < R.clef: return chercher(R.gauche,clef)    \n",
    "    elif clef > R.clef: return chercher(R.droite,clef)\n",
    "    else:              return R"
   ]
  },
  {
   "cell_type": "markdown",
   "metadata": {
    "slideshow": {
     "slide_type": "fragment"
    }
   },
   "source": [
    "Nous y ajoutons une fonction de création de l'arbre à partir d'une liste."
   ]
  },
  {
   "cell_type": "code",
   "execution_count": 5,
   "metadata": {},
   "outputs": [],
   "source": [
    "def creer_ABR(T):\n",
    "    R = None\n",
    "    for (clef,valeur) in T: \n",
    "        R = inserer(R,clef,valeur)\n",
    "    return R"
   ]
  },
  {
   "cell_type": "markdown",
   "metadata": {
    "slideshow": {
     "slide_type": "subslide"
    }
   },
   "source": [
    "Ainsi qu'une fonction de parcours par ordre croissant "
   ]
  },
  {
   "cell_type": "code",
   "execution_count": 6,
   "metadata": {},
   "outputs": [],
   "source": [
    "def to_string(R):\n",
    "    s = \"\"\n",
    "    if R:\n",
    "        s += to_string(R.gauche)\n",
    "        s += \"{}: {} \\n\".format(R.clef,R.valeur)\n",
    "        s += to_string(R.droite)\n",
    "    return s"
   ]
  },
  {
   "cell_type": "markdown",
   "metadata": {
    "slideshow": {
     "slide_type": "subslide"
    }
   },
   "source": [
    "Ces fonctions suffisent à mettre en oeuvre un tableau associatif simple (sans suppression)"
   ]
  },
  {
   "cell_type": "code",
   "execution_count": 7,
   "metadata": {},
   "outputs": [],
   "source": [
    "class TreeMap:\n",
    "    \n",
    "    def __init__(self,T = []):\n",
    "        self.R = creer_ABR(T)\n",
    "        \n",
    "    def __setitem__(self,clef,valeur):\n",
    "        self.R = inserer(self.R,clef,valeur)\n",
    "        \n",
    "    def __getitem__(self,clef):\n",
    "        n = chercher(self.R,clef)\n",
    "        if n: return n.valeur\n",
    "        else: raise IndexError()\n",
    "            \n",
    "    def __str__(self):\n",
    "        return to_string(self.R)"
   ]
  },
  {
   "cell_type": "code",
   "execution_count": 11,
   "metadata": {
    "slideshow": {
     "slide_type": "subslide"
    }
   },
   "outputs": [
    {
     "name": "stdout",
     "output_type": "stream",
     "text": [
      "ASD: 4 \n",
      "Hello: 1 \n",
      "World: 2 \n",
      "and: 3 \n",
      "students: 5 \n",
      "\n"
     ]
    }
   ],
   "source": [
    "# Testons notre classe \n",
    "\n",
    "M = TreeMap()\n",
    "\n",
    "# Ajouts \n",
    "\n",
    "M[\"Hello\"] = 1\n",
    "M[\"World\"] = 2\n",
    "M[\"and\"] = 3\n",
    "M[\"ASD\"] = 4\n",
    "M[\"students\"] = 5\n",
    "\n",
    "\n",
    "# Parcours croissant \n",
    "\n",
    "print(M)"
   ]
  },
  {
   "cell_type": "code",
   "execution_count": 12,
   "metadata": {
    "slideshow": {
     "slide_type": "subslide"
    }
   },
   "outputs": [
    {
     "name": "stdout",
     "output_type": "stream",
     "text": [
      "1\n"
     ]
    }
   ],
   "source": [
    "# Recherche \n",
    "\n",
    "print(M[\"Hello\"])"
   ]
  },
  {
   "cell_type": "code",
   "execution_count": 13,
   "metadata": {
    "slideshow": {
     "slide_type": "fragment"
    }
   },
   "outputs": [
    {
     "name": "stdout",
     "output_type": "stream",
     "text": [
      "ASD: 4 \n",
      "Hello: 42 \n",
      "World: 2 \n",
      "and: 3 \n",
      "students: 5 \n",
      "\n"
     ]
    }
   ],
   "source": [
    "# Modification\n",
    "    \n",
    "M[\"Hello\"] = 42   \n",
    "\n",
    "# Parcours croissant \n",
    "\n",
    "print(M)"
   ]
  },
  {
   "cell_type": "markdown",
   "metadata": {
    "slideshow": {
     "slide_type": "slide"
    }
   },
   "source": [
    "<table style=\"width: 100%; border: 0px\">\n",
    "<tr style=\"background-color:white; border:0px\">\n",
    "<td style=\"width: 120px; border: 0px\">\n",
    "    <img src=\"https://heig-vd.ch/ResourcePackages/WhiteFox/assets/images/logo-heig-vd.svg\" height=200px align=left >\n",
    "    </td>\n",
    "    <td style=\"vertical-align: middle; border: 0px\" height=200px>\n",
    "    <p style=\"text-align: left\">\n",
    "        <a href=\"https://ocuisenaire.github.io/ASD1-notebooks/\">ASD1 Notebooks on GitHub.io</a>\n",
    " </p>        \n",
    "<p style=\"text-align: left\">\n",
    "© Olivier Cuisenaire, 2018 </p>\n",
    "</td>\n",
    "</tr>\n",
    "</table>"
   ]
  },
  {
   "cell_type": "raw",
   "metadata": {},
   "source": [
    "<style type=\"text/css\">\n",
    ".reveal {\n",
    "font-size: 200%;\n",
    "}</style>"
   ]
  }
 ],
 "metadata": {
  "celltoolbar": "Slideshow",
  "kernelspec": {
   "display_name": "Python 3",
   "language": "python",
   "name": "python3"
  },
  "language_info": {
   "codemirror_mode": {
    "name": "ipython",
    "version": 3
   },
   "file_extension": ".py",
   "mimetype": "text/x-python",
   "name": "python",
   "nbconvert_exporter": "python",
   "pygments_lexer": "ipython3",
   "version": "3.6.5"
  }
 },
 "nbformat": 4,
 "nbformat_minor": 2
}
