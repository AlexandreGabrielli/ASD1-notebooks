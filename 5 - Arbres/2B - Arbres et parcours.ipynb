{
 "cells": [
  {
   "cell_type": "code",
   "execution_count": 12,
   "metadata": {},
   "outputs": [],
   "source": [
    "class Noeud:\n",
    "    def __init__(self,val):\n",
    "        self.donnee = val\n",
    "        self.gauche = None\n",
    "        self.droite = None"
   ]
  },
  {
   "cell_type": "code",
   "execution_count": 28,
   "metadata": {},
   "outputs": [
    {
     "data": {
      "image/png": "[encoded data removed]",
      "text/plain": [
       "<IPython.core.display.Image object>"
      ]
     },
     "metadata": {},
     "output_type": "display_data"
    }
   ],
   "source": [
    "racine  = a = Noeud('A')\n",
    "a.gauche = b = Noeud('B')\n",
    "a.droite = c = Noeud('C')\n",
    "b.gauche = d = Noeud('D')\n",
    "b.droite = e = Noeud('E')\n",
    "c.gauche = f = Noeud('F')\n",
    "f.gauche = g = Noeud('G')\n",
    "\n",
    "import include.helpers as h\n",
    "h.afficher_arbre_binaire(racine)"
   ]
  },
  {
   "cell_type": "code",
   "execution_count": 29,
   "metadata": {},
   "outputs": [],
   "source": [
    "def preordonne(R):\n",
    "    if R:\n",
    "        p = [ R.donnee ]\n",
    "        p.extend( preordonne(R.gauche))\n",
    "        p.extend( preordonne(R.droite))\n",
    "        return p\n",
    "    else:\n",
    "        return [ ] "
   ]
  },
  {
   "cell_type": "code",
   "execution_count": 30,
   "metadata": {},
   "outputs": [],
   "source": [
    "def symetrique(R):\n",
    "    if R:\n",
    "        p = symetrique(R.gauche)\n",
    "        p.append(R.donnee)\n",
    "        p.extend( symetrique(R.droite))\n",
    "        return p\n",
    "    else:\n",
    "        return [ ] "
   ]
  },
  {
   "cell_type": "code",
   "execution_count": 31,
   "metadata": {},
   "outputs": [],
   "source": [
    "def postordonne(R):\n",
    "    if R:\n",
    "        p = postordonne(R.gauche)\n",
    "        p.extend( postordonne(R.droite))\n",
    "        p.append( R.donnee )\n",
    "        return p\n",
    "    else:\n",
    "        return [ ] "
   ]
  },
  {
   "cell_type": "code",
   "execution_count": 32,
   "metadata": {},
   "outputs": [
    {
     "name": "stdout",
     "output_type": "stream",
     "text": [
      "['A', 'B', 'D', 'E', 'C', 'F', 'G']\n",
      "['D', 'B', 'E', 'A', 'G', 'F', 'C']\n",
      "['D', 'E', 'B', 'G', 'F', 'C', 'A']\n"
     ]
    }
   ],
   "source": [
    "pre = preordonne(racine)\n",
    "print(pre)\n",
    "sym = symetrique(racine)\n",
    "print(sym)\n",
    "post = postordonne(racine)\n",
    "print(post)"
   ]
  },
  {
   "cell_type": "code",
   "execution_count": 33,
   "metadata": {},
   "outputs": [],
   "source": [
    "def arbre_depuis_parcours(pre,sym):\n",
    "    assert(len(pre) == len(sym))\n",
    "    \n",
    "    if len(pre) == 0:\n",
    "        return None\n",
    "    \n",
    "    position_racine_dans_pre = 0\n",
    "    cle_racine = pre[position_racine_dans_pre]\n",
    "    i = position_racine_dans_sym = sym.index(cle_racine)\n",
    "    \n",
    "    R = Noeud(pre[0])\n",
    "    R.gauche = arbre_depuis_parcours( pre[1:i+1], sym[0:i] )\n",
    "    R.droite = arbre_depuis_parcours( pre[i+1:], sym[i+1:] )\n",
    "    return R"
   ]
  },
  {
   "cell_type": "code",
   "execution_count": 34,
   "metadata": {},
   "outputs": [
    {
     "data": {
      "image/png": "[encoded data removed]",
      "text/plain": [
       "<IPython.core.display.Image object>"
      ]
     },
     "metadata": {},
     "output_type": "display_data"
    }
   ],
   "source": [
    "R = arbre_depuis_parcours(pre,sym)\n",
    "h.afficher_arbre_binaire(R)"
   ]
  }
 ],
 "metadata": {
  "kernelspec": {
   "display_name": "Python 3",
   "language": "python",
   "name": "python3"
  },
  "language_info": {
   "codemirror_mode": {
    "name": "ipython",
    "version": 3
   },
   "file_extension": ".py",
   "mimetype": "text/x-python",
   "name": "python",
   "nbconvert_exporter": "python",
   "pygments_lexer": "ipython3",
   "version": "3.6.5"
  }
 },
 "nbformat": 4,
 "nbformat_minor": 2
}
