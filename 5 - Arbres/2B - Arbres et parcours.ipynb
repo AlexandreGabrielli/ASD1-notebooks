{
 "cells": [
  {
   "cell_type": "markdown",
   "metadata": {
    "slideshow": {
     "slide_type": "slide"
    }
   },
   "source": [
    "# Arbres et parcours"
   ]
  },
  {
   "cell_type": "markdown",
   "metadata": {
    "slideshow": {
     "slide_type": "slide"
    }
   },
   "source": [
    "Il est possible de retrouver la topologie exacte d'un arbre binaire à partir de deux de ses parcours parmi les trois parcours en profondeur \n",
    "\n",
    "* pré-ordonné\n",
    "* symétrique\n",
    "* post-ordonné"
   ]
  },
  {
   "cell_type": "markdown",
   "metadata": {
    "slideshow": {
     "slide_type": "subslide"
    }
   },
   "source": [
    "En effet, ces parcours nous donnent des renseignements complémentaires. Pour un arbre de racine `R`, \n",
    "\n",
    "* le pré-ordonné liste `R`, `R.gauche`, le sous-arbre de `R.gauche`, `R.droite`, le sous arbre de `R.droite`\n",
    "\n",
    "\n",
    "* le symétrique liste le sous-arbre de `R.gauche` y compris `R.gauche`, la racine `R`, le sous-arbre de `R.droite` y compris `R.droite`\n",
    "\n",
    "\n",
    "* le post-ordonné liste le sous-arbre de `R.gauche`, `R.gauche`, le sous arbre de `R.droite`, `R.droite` et enfin `R`\n",
    "\n",
    "Recouper ces informations nous permet de reconstruire l'arbre"
   ]
  },
  {
   "cell_type": "markdown",
   "metadata": {
    "slideshow": {
     "slide_type": "slide"
    }
   },
   "source": [
    "Considérons l'arbre suivant"
   ]
  },
  {
   "cell_type": "code",
   "execution_count": 1,
   "metadata": {},
   "outputs": [],
   "source": [
    "class Noeud:\n",
    "    def __init__(self,val):\n",
    "        self.etiquette = val\n",
    "        self.gauche = None\n",
    "        self.droite = None\n",
    "        \n",
    "    def __str__(self): \n",
    "        return self.etiquette.__str__()"
   ]
  },
  {
   "cell_type": "code",
   "execution_count": 2,
   "metadata": {
    "slideshow": {
     "slide_type": "subslide"
    }
   },
   "outputs": [
    {
     "data": {
      "image/png": "[encoded data removed]",
      "text/plain": [
       "<IPython.core.display.Image object>"
      ]
     },
     "metadata": {},
     "output_type": "display_data"
    }
   ],
   "source": [
    "racine  = a = Noeud('A')\n",
    "a.gauche = b = Noeud('B'); a.droite = c = Noeud('C')\n",
    "b.gauche = d = Noeud('D'); b.droite = e = Noeud('E')\n",
    "c.gauche = f = Noeud('F'); f.gauche = g = Noeud('G')\n",
    "\n",
    "import include.helpers as h\n",
    "h.afficher_arbre_binaire(racine)"
   ]
  },
  {
   "cell_type": "markdown",
   "metadata": {
    "slideshow": {
     "slide_type": "subslide"
    }
   },
   "source": [
    "Les fonctions suivantes nous donnent les parcours sous forme de liste"
   ]
  },
  {
   "cell_type": "code",
   "execution_count": 3,
   "metadata": {},
   "outputs": [
    {
     "name": "stdout",
     "output_type": "stream",
     "text": [
      "['A', 'B', 'D', 'E', 'C', 'F', 'G']\n"
     ]
    }
   ],
   "source": [
    "def preordonne(R):\n",
    "    if R:\n",
    "        p = [ R.etiquette ]\n",
    "        p.extend( preordonne(R.gauche))\n",
    "        p.extend( preordonne(R.droite))\n",
    "        return p\n",
    "    else:\n",
    "        return [ ] \n",
    "    \n",
    "pre = preordonne(racine); print(pre)"
   ]
  },
  {
   "cell_type": "code",
   "execution_count": 4,
   "metadata": {
    "slideshow": {
     "slide_type": "subslide"
    }
   },
   "outputs": [
    {
     "name": "stdout",
     "output_type": "stream",
     "text": [
      "['D', 'B', 'E', 'A', 'G', 'F', 'C']\n"
     ]
    }
   ],
   "source": [
    "def symetrique(R):\n",
    "    if R:\n",
    "        p = symetrique(R.gauche)\n",
    "        p.append(R.etiquette)\n",
    "        p.extend( symetrique(R.droite))\n",
    "        return p\n",
    "    else:\n",
    "        return [ ] \n",
    "    \n",
    "sym = symetrique(racine); print(sym)"
   ]
  },
  {
   "cell_type": "code",
   "execution_count": 5,
   "metadata": {
    "slideshow": {
     "slide_type": "subslide"
    }
   },
   "outputs": [
    {
     "name": "stdout",
     "output_type": "stream",
     "text": [
      "['D', 'E', 'B', 'G', 'F', 'C', 'A']\n"
     ]
    }
   ],
   "source": [
    "def postordonne(R):\n",
    "    if R:\n",
    "        p = postordonne(R.gauche)\n",
    "        p.extend( postordonne(R.droite))\n",
    "        p.append( R.etiquette )\n",
    "        return p\n",
    "    else:\n",
    "        return [ ] \n",
    "\n",
    "post = postordonne(racine); print(post)"
   ]
  },
  {
   "cell_type": "code",
   "execution_count": 6,
   "metadata": {
    "slideshow": {
     "slide_type": "slide"
    }
   },
   "outputs": [
    {
     "name": "stdout",
     "output_type": "stream",
     "text": [
      "['A', 'B', 'D', 'E', 'C', 'F', 'G']\n",
      "['D', 'B', 'E', 'A', 'G', 'F', 'C']\n"
     ]
    }
   ],
   "source": [
    "# Reconstruisons l'arbre à partir de ses parcours pré-ordonné et symétrique\n",
    "print(pre); print(sym)"
   ]
  },
  {
   "cell_type": "code",
   "execution_count": 7,
   "metadata": {
    "slideshow": {
     "slide_type": "fragment"
    }
   },
   "outputs": [
    {
     "name": "stdout",
     "output_type": "stream",
     "text": [
      "Racine:  A\n"
     ]
    }
   ],
   "source": [
    "# Le parcours pré-ordonné nous donne la racine\n",
    "etiquette_racine = pre[0]; print(\"Racine: \",etiquette_racine)"
   ]
  },
  {
   "cell_type": "code",
   "execution_count": 8,
   "metadata": {
    "slideshow": {
     "slide_type": "fragment"
    }
   },
   "outputs": [
    {
     "name": "stdout",
     "output_type": "stream",
     "text": [
      "R.gauche: pre = ['B', 'D', 'E'] , sym = ['D', 'B', 'E']\n",
      "R.droite: pre = ['C', 'F', 'G'] , sym = ['G', 'F', 'C']\n"
     ]
    }
   ],
   "source": [
    "# La position de la racine dans le parcours symétrique nous donne les 2 sous arbres\n",
    "p = sym.index(etiquette_racine)\n",
    "print(\"R.gauche: pre =\",pre[1:p+1],\", sym =\",sym[0:p])\n",
    "print(\"R.droite: pre =\",pre[p+1:],\", sym =\",sym[p+1:])"
   ]
  },
  {
   "cell_type": "markdown",
   "metadata": {
    "slideshow": {
     "slide_type": "fragment"
    }
   },
   "source": [
    "il suffit de refaire le même raisonnement pour les sous-arbres jusqu'à obtenir un parcours de 0 ou 1 élément"
   ]
  },
  {
   "cell_type": "markdown",
   "metadata": {
    "slideshow": {
     "slide_type": "slide"
    }
   },
   "source": [
    "L'algorithme récursif s'écrit"
   ]
  },
  {
   "cell_type": "code",
   "execution_count": 9,
   "metadata": {},
   "outputs": [],
   "source": [
    "def arbre_depuis_parcours(pre,sym):\n",
    "    assert(len(pre) == len(sym))\n",
    "    \n",
    "    if len(pre) == 0:\n",
    "        return None\n",
    "    \n",
    "    position_racine_dans_pre = 0\n",
    "    etiquette_racine = pre[position_racine_dans_pre]\n",
    "    i = position_racine_dans_sym = sym.index(etiquette_racine)\n",
    "    \n",
    "    R = Noeud(pre[0])\n",
    "    R.gauche = arbre_depuis_parcours( pre[1:i+1], sym[0:i] )\n",
    "    R.droite = arbre_depuis_parcours( pre[i+1:], sym[i+1:] )\n",
    "    return R"
   ]
  },
  {
   "cell_type": "code",
   "execution_count": 10,
   "metadata": {
    "slideshow": {
     "slide_type": "subslide"
    }
   },
   "outputs": [
    {
     "name": "stdout",
     "output_type": "stream",
     "text": [
      "['A', 'B', 'D', 'E', 'C', 'F', 'G']\n",
      "['D', 'B', 'E', 'A', 'G', 'F', 'C']\n"
     ]
    },
    {
     "data": {
      "image/png": "[encoded data removed]",
      "text/plain": [
       "<IPython.core.display.Image object>"
      ]
     },
     "metadata": {},
     "output_type": "display_data"
    }
   ],
   "source": [
    "print(pre); print(sym)\n",
    "R = arbre_depuis_parcours(pre,sym)\n",
    "h.afficher_arbre_binaire(R)"
   ]
  },
  {
   "cell_type": "markdown",
   "metadata": {
    "slideshow": {
     "slide_type": "slide"
    }
   },
   "source": [
    "<table style=\"width: 100%; border: 0px\">\n",
    "<tr style=\"background-color:white; border:0px\">\n",
    "<td style=\"width: 120px; border: 0px\">\n",
    "    <img src=\"https://heig-vd.ch/ResourcePackages/WhiteFox/assets/images/logo-heig-vd.svg\" height=200px align=left >\n",
    "    </td>\n",
    "    <td style=\"vertical-align: middle; border: 0px\" height=200px>\n",
    "    <p style=\"text-align: left\">\n",
    "        <a href=\"https://ocuisenaire.github.io/ASD1-notebooks/\">ASD1 Notebooks on GitHub.io</a>\n",
    " </p>        \n",
    "<p style=\"text-align: left\">\n",
    "© Olivier Cuisenaire, 2018 </p>\n",
    "</td>\n",
    "</tr>\n",
    "</table>"
   ]
  },
  {
   "cell_type": "raw",
   "metadata": {},
   "source": [
    "<style type=\"text/css\">\n",
    ".reveal {\n",
    "font-size: 200%;\n",
    "}</style>"
   ]
  }
 ],
 "metadata": {
  "celltoolbar": "Slideshow",
  "kernelspec": {
   "display_name": "Python 3",
   "language": "python",
   "name": "python3"
  },
  "language_info": {
   "codemirror_mode": {
    "name": "ipython",
    "version": 3
   },
   "file_extension": ".py",
   "mimetype": "text/x-python",
   "name": "python",
   "nbconvert_exporter": "python",
   "pygments_lexer": "ipython3",
   "version": "3.6.5"
  }
 },
 "nbformat": 4,
 "nbformat_minor": 2
}
