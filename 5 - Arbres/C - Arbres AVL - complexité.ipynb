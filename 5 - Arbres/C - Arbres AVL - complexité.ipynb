{
 "cells": [
  {
   "cell_type": "markdown",
   "metadata": {
    "slideshow": {
     "slide_type": "slide"
    }
   },
   "source": [
    "# Arbres AVL\n",
    "\n",
    "*Complexités temporelles et spatiales*"
   ]
  },
  {
   "cell_type": "markdown",
   "metadata": {
    "slideshow": {
     "slide_type": "slide"
    }
   },
   "source": [
    "Les opérations les plus importantes - insertion, suppression, recherche - ont une complexité temporelle en $\\Theta(h)$ avec $h$ la hauteur de l'arbre. \n",
    "\n",
    "Il est donc essentielle de calculer cette hauteur $h$ en fonction du nombre $n$ stockés dans l'arbre. "
   ]
  },
  {
   "cell_type": "markdown",
   "metadata": {
    "slideshow": {
     "slide_type": "slide"
    }
   },
   "source": [
    "## Meilleur cas \n",
    "\n",
    "Calculons $S_{max}(h)$, le nombre maximum d'éléments que l'on peut stocké dans un arbre AVL de hauteur $h$. \n",
    "\n",
    "On se souvient de la formule générale permettant de calculer le nombre d'élément dans un arbre à partir de ce nombre pour les sous-arbres gauche et droit. \n",
    "\n",
    "`S(R) = S(R.gauche) + S(R.droite) + 1`"
   ]
  },
  {
   "cell_type": "markdown",
   "metadata": {
    "slideshow": {
     "slide_type": "subslide"
    }
   },
   "source": [
    "Dans le meilleur cas, l'arbre doit être parfaitement équilibré en tous ses noeuds. On a donc une hauteur $h-1$ pour les sous-arbres gauche et droit, et donc \n",
    "\n",
    "$S_{max}(h) = S_{max}(h-1) + S_{max}(h-1) + 1 = 2 \\cdot S_{max}(h-1) + 1$ \n",
    "\n",
    "ce qui donne \n",
    "\n",
    "$S_{max}(h) = 2^h - 1$"
   ]
  },
  {
   "cell_type": "markdown",
   "metadata": {
    "slideshow": {
     "slide_type": "subslide"
    }
   },
   "source": [
    "Par exemple, l'arbre AVL de hauteur 4 peut contenir jusqu'à $2^4-1 = 15$ éléments."
   ]
  },
  {
   "cell_type": "code",
   "execution_count": 2,
   "metadata": {},
   "outputs": [
    {
     "data": {
      "image/png": "[encoded data removed]",
      "text/plain": [
       "<IPython.core.display.Image object>"
      ]
     },
     "metadata": {},
     "output_type": "display_data"
    }
   ],
   "source": [
    "import include.helpers as h\n",
    "h.afficher_arbre_binaire(h.meilleurs_cas_AVL())"
   ]
  },
  {
   "cell_type": "markdown",
   "metadata": {
    "slideshow": {
     "slide_type": "slide"
    }
   },
   "source": [
    "## Pire cas\n",
    "\n",
    "Dans le pire des cas, l'arbre doit être déséquilibré de $\\pm1$ en chaque noeud. Les sous-arbres gauche et droit d'un arbre de hauteur $h$ ont donc une hauteur $h-1$ et $h-2$ respectivement. \n",
    "\n",
    "$S_{min}(h) = S_{min}(h-1) + S_{min}(h-2) + 1$\n",
    "\n",
    "avec $S_{min}(0) = 0$ et $S_{min}(1) = 1$"
   ]
  },
  {
   "cell_type": "markdown",
   "metadata": {
    "slideshow": {
     "slide_type": "subslide"
    }
   },
   "source": [
    "Obvervons les premières valeurs de cette suite"
   ]
  },
  {
   "cell_type": "code",
   "execution_count": 8,
   "metadata": {},
   "outputs": [],
   "source": [
    "def Smin(h):\n",
    "    if h < 2: \n",
    "        return h\n",
    "    else:\n",
    "        return Smin(h-1)+Smin(h-2)+1"
   ]
  },
  {
   "cell_type": "code",
   "execution_count": 9,
   "metadata": {
    "slideshow": {
     "slide_type": "fragment"
    }
   },
   "outputs": [
    {
     "name": "stdout",
     "output_type": "stream",
     "text": [
      "0 1 2 4 7 12 20 33 54 88 "
     ]
    }
   ],
   "source": [
    "for i in range(10): print(Smin(i), end = \" \")"
   ]
  },
  {
   "cell_type": "markdown",
   "metadata": {
    "slideshow": {
     "slide_type": "subslide"
    }
   },
   "source": [
    "Par exemple, dans le pire cas, un arbre AVL de hauteur 4 contient le minimum de 7 éléments."
   ]
  },
  {
   "cell_type": "code",
   "execution_count": 3,
   "metadata": {},
   "outputs": [
    {
     "data": {
      "image/png": "[encoded data removed]",
      "text/plain": [
       "<IPython.core.display.Image object>"
      ]
     },
     "metadata": {},
     "output_type": "display_data"
    }
   ],
   "source": [
    "h.afficher_arbre_binaire(R = h.pire_cas_AVL())"
   ]
  },
  {
   "cell_type": "markdown",
   "metadata": {
    "slideshow": {
     "slide_type": "subslide"
    }
   },
   "source": [
    "La similitude avec la suite de Fibonacci est frappante. Notons que comme pour la suite de Fibonacci, la mise en oeuvre doublement récursive de la fonction `Smin(h)` ci-dessus est de complexité exponentielle. On peut faire mieux:\n",
    "\n",
    "* complexité linéaire en l'écrivant itérativement\n",
    "\n",
    "\n",
    "* complexité logarithmique et utilisant le produit matriciel et la multiplication russe pour calculer l'exposant $h$. "
   ]
  },
  {
   "cell_type": "markdown",
   "metadata": {
    "slideshow": {
     "slide_type": "subslide"
    }
   },
   "source": [
    "Mais il n'est pas nécessaire d'écrire une fonction spécifique. En effet, on note que la solution est \n",
    "\n",
    "$S_{min}(h) = F(h+1) - 1$ \n",
    "\n",
    "avec $F(i)$ le $i^{eme}$ nombre de Fibonacci. \n",
    "\n",
    "Le comportement asymptotique est donc le même que celui de la suite de Fibonacci. $S_{min}(h) \\approx \\phi^h$ avec $\\phi = \\frac{1 + \\sqrt{5}}{2} \\approx 1.618$, le nombre d'or.  "
   ]
  },
  {
   "cell_type": "markdown",
   "metadata": {
    "slideshow": {
     "slide_type": "subslide"
    }
   },
   "source": [
    "Pour un nombre d'éléments $n$ donné, la profondeur maximale $h(n)$ d'un arbre AVL est donc bornée par \n",
    "\n",
    "$ \\log_2(n) < h(n) < log_\\phi(n) $\n",
    "\n",
    "La complexité temporelle de toutes les opérations est donc logarithmique. "
   ]
  },
  {
   "cell_type": "markdown",
   "metadata": {
    "slideshow": {
     "slide_type": "slide"
    }
   },
   "source": [
    "## Complexité spatiale\n",
    "\n",
    "Pour mettre en oeuvre l'équilibrage AVL, nous avons stocké en chaque noeud la hauteur du sous-arbre dont il est la racine. \n",
    "\n",
    "Si l'on code cette hauteur sur $b$ bits, on couvre toutes les valeurs de $0$ à $2^{b}-1$. \n",
    "\n",
    "Réciproquement, pour pouvoir stocker une hauteur $h$, on a besoin de $\\log_2(h)$ bits. \n",
    "\n",
    "Pour un arbre AVL de $n$ éléments, il faut donc de l'ordre de $\\log \\log n$ bits par élément, ce qui donne une complexité spatialle quasi-linéaire $\\Theta(n \\log\\log n)$"
   ]
  },
  {
   "cell_type": "markdown",
   "metadata": {
    "slideshow": {
     "slide_type": "subslide"
    }
   },
   "source": [
    "En pratique, en utilisant un octet pour stocker cette hauteur, on peut stocker $S_{min}(255)$ éléments, ce qui sera toujours suffisant. "
   ]
  },
  {
   "cell_type": "code",
   "execution_count": 25,
   "metadata": {},
   "outputs": [
    {
     "name": "stdout",
     "output_type": "stream",
     "text": [
      "229265413057075367692743352179590077832064383222590236\n"
     ]
    }
   ],
   "source": [
    "def Smin(h):\n",
    "    s0 = 0; s1 = 1\n",
    "    for i in range(2,h+1):\n",
    "        si = s0 + s1 + 1\n",
    "        s0 = s1\n",
    "        s1 = si\n",
    "    return si\n",
    "\n",
    "print(Smin(255))"
   ]
  },
  {
   "cell_type": "markdown",
   "metadata": {
    "slideshow": {
     "slide_type": "subslide"
    }
   },
   "source": [
    "## Complexité spatiale linéaire\n",
    "\n",
    "Si un octet par élément est excessif, il est possible de n'utiliser que 2 bits par élément en ne stockant pas les hauteurs mais les déséquilibres. \n",
    "\n",
    "Il est même possible de n'utiliser qu'un seul bit en délégant le calcul du déséquilibre aux enfants. Le bit indique alors si un noeud est plus petit que son frère. \n",
    "\n",
    "Le retour de récursion doit alors indiquer au parent si la hauteur de l'enfant a été modifiée de $\\pm 1$ ou pas pour lui permettre de mettre à jour son déséquilibre. \n",
    "\n",
    "Le code est un peu [plus complexe à écrire](https://en.wikipedia.org/wiki/AVL_tree). Il est plus simple d'écrire séparément l'équilibrage après insertion et l'équilibrage après suppression. "
   ]
  },
  {
   "cell_type": "markdown",
   "metadata": {
    "slideshow": {
     "slide_type": "slide"
    }
   },
   "source": [
    "<table style=\"width: 100%; border: 0px\">\n",
    "<tr style=\"background-color:white; border:0px\">\n",
    "<td style=\"width: 120px; border: 0px\">\n",
    "    <img src=\"https://heig-vd.ch/ResourcePackages/WhiteFox/assets/images/logo-heig-vd.svg\" height=200px align=left >\n",
    "    </td>\n",
    "    <td style=\"vertical-align: middle; border: 0px\" height=200px>\n",
    "    <p style=\"text-align: left\">\n",
    "        <a href=\"https://ocuisenaire.github.io/ASD1-notebooks/\">ASD1 Notebooks on GitHub.io</a>\n",
    " </p>        \n",
    "<p style=\"text-align: left\">\n",
    "© Olivier Cuisenaire, 2018 </p>\n",
    "</td>\n",
    "</tr>\n",
    "</table>"
   ]
  },
  {
   "cell_type": "raw",
   "metadata": {},
   "source": [
    "<style type=\"text/css\">\n",
    ".reveal {\n",
    "font-size: 200%;\n",
    "}</style>"
   ]
  }
 ],
 "metadata": {
  "celltoolbar": "Slideshow",
  "kernelspec": {
   "display_name": "Python 3",
   "language": "python",
   "name": "python3"
  },
  "language_info": {
   "codemirror_mode": {
    "name": "ipython",
    "version": 3
   },
   "file_extension": ".py",
   "mimetype": "text/x-python",
   "name": "python",
   "nbconvert_exporter": "python",
   "pygments_lexer": "ipython3",
   "version": "3.6.5"
  }
 },
 "nbformat": 4,
 "nbformat_minor": 2
}
