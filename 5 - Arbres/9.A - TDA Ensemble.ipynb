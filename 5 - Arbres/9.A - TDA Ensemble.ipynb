{
 "cells": [
  {
   "cell_type": "markdown",
   "metadata": {
    "slideshow": {
     "slide_type": "slide"
    }
   },
   "source": [
    "# Le Type de Donnée Abstrait<BR>Ensemble (Set)"
   ]
  },
  {
   "cell_type": "code",
   "execution_count": 1,
   "metadata": {
    "slideshow": {
     "slide_type": "skip"
    }
   },
   "outputs": [],
   "source": [
    "import include.helpers as h"
   ]
  },
  {
   "cell_type": "code",
   "execution_count": 20,
   "metadata": {},
   "outputs": [],
   "source": [
    "class Noeud:\n",
    "    def __init__(self,val):\n",
    "        self.clef = val\n",
    "        self.gauche = None\n",
    "        self.droite = None   \n",
    "    def __str__(self): \n",
    "        return \"{}\".format(self.clef)\n",
    "    def copy(self):\n",
    "        return Noeud(self.clef)\n",
    "    \n",
    "def inserer(R,val):\n",
    "    if R == None:      R = Noeud(val)      \n",
    "    elif val < R.clef: R.gauche = inserer(R.gauche,val)    \n",
    "    elif val > R.clef: R.droite = inserer(R.droite,val)\n",
    "    else:              pass\n",
    "    return R\n",
    "\n",
    "def creer_ABR(T):\n",
    "    R = None\n",
    "    for t in T: R = inserer(R,t)\n",
    "    return R\n",
    "\n",
    "def str_trie(R):\n",
    "    s = \"\"\n",
    "    if R:\n",
    "        s += str_trie(R.gauche)\n",
    "        s += R.__str__() + \" \"\n",
    "        s += str_trie(R.droite)\n",
    "    return s\n",
    "\n",
    "def copier_rec(R):\n",
    "    if R:\n",
    "        C = Noeud(R.clef)\n",
    "        C.gauche = copier_rec(R.gauche)\n",
    "        C.droite = copier_rec(R.droite)\n",
    "        return C\n",
    "    else: return None"
   ]
  },
  {
   "cell_type": "code",
   "execution_count": 31,
   "metadata": {},
   "outputs": [],
   "source": [
    "class Ensemble:\n",
    "    def __init__(self,T = []):\n",
    "        self.R = creer_ABR(T)\n",
    "    def __str__(self):\n",
    "        return str_trie(self.R)\n",
    "    def copier(self):\n",
    "        E = Ensemble()\n",
    "        E.R = copier_rec(self.R)\n",
    "        return E\n",
    "    def inserer(self,val):\n",
    "        self.R = inserer(self.R,val)"
   ]
  },
  {
   "cell_type": "code",
   "execution_count": 33,
   "metadata": {},
   "outputs": [
    {
     "name": "stdout",
     "output_type": "stream",
     "text": [
      "0 3 6 9 12 \n"
     ]
    },
    {
     "data": {
      "image/png": "[encoded data removed]",
      "text/plain": [
       "<IPython.core.display.Image object>"
      ]
     },
     "metadata": {},
     "output_type": "display_data"
    }
   ],
   "source": [
    "T1 = [ 6, 9, 3, 0, 12 ]\n",
    "E1 = Ensemble(T1)\n",
    "print(E1)\n",
    "h.afficher_arbre_binaire(E1.R)"
   ]
  },
  {
   "cell_type": "code",
   "execution_count": 34,
   "metadata": {},
   "outputs": [
    {
     "name": "stdout",
     "output_type": "stream",
     "text": [
      "0 2 4 6 8 10 12 \n"
     ]
    },
    {
     "data": {
      "image/png": "[encoded data removed]",
      "text/plain": [
       "<IPython.core.display.Image object>"
      ]
     },
     "metadata": {},
     "output_type": "display_data"
    }
   ],
   "source": [
    "T2 = [ 8, 4, 0, 2, 6, 10, 12 ]\n",
    "E2 = Ensemble(T2)\n",
    "print(E2)\n",
    "h.afficher_arbre_binaire(E2.R)"
   ]
  },
  {
   "cell_type": "code",
   "execution_count": 23,
   "metadata": {},
   "outputs": [],
   "source": [
    "# Entrées: arbre de racine R\n",
    "#          liste L en cours de création, \n",
    "#          nombre n d'éléments dans L  \n",
    "# Sorties: L et n mis à jour par l'ajout de R et de ses descendants\n",
    "\n",
    "def lineariser(R, L = None, n = 0):\n",
    "    if R == None: return L, n\n",
    "\n",
    "    L, n = lineariser(R.droite, L, n)\n",
    "        \n",
    "    R.droite = L   # ajouter R en tête de liste L\n",
    "    L = R        \n",
    "    n += 1\n",
    "    \n",
    "    L, n = lineariser(R.gauche, L, n)\n",
    "    R.gauche = None\n",
    "    \n",
    "    return L, n"
   ]
  },
  {
   "cell_type": "code",
   "execution_count": 6,
   "metadata": {},
   "outputs": [],
   "source": [
    "def arboriser(L,n):\n",
    "    if n == 0: return None, L\n",
    "        \n",
    "    RG, L = arboriser(L,(n-1)//2)\n",
    "    \n",
    "    R = L\n",
    "    R.gauche = RG\n",
    "    L = L.droite\n",
    "    \n",
    "    R.droite , L = arboriser(L,n//2)\n",
    "    return R, L"
   ]
  },
  {
   "cell_type": "code",
   "execution_count": 24,
   "metadata": {},
   "outputs": [],
   "source": [
    "def union_ABR_degeneres(L1,L2,n1,n2):\n",
    "    L = Noeud(\"\"); Q = L;\n",
    "    n = n1 + n2\n",
    "    while L1 != None and L2 != None:\n",
    "        if L1.clef < L2.clef:\n",
    "            Q.droite = L1; \n",
    "            L1 = L1.droite\n",
    "        elif L1.clef > L2.clef: \n",
    "            Q.droite = L2\n",
    "            L2 = L2.droite\n",
    "        else: # clé dupliquée\n",
    "            Q.droite = L1\n",
    "            L1 = L1.droite; L2 = L2.droite\n",
    "            n -= 1\n",
    "        Q = Q.droite\n",
    "    if L1: Q.droite = L1; \n",
    "    if L2: Q.droite = L2; \n",
    "    L = L.droite\n",
    "    return L, n"
   ]
  },
  {
   "cell_type": "code",
   "execution_count": 25,
   "metadata": {},
   "outputs": [
    {
     "data": {
      "image/png": "[encoded data removed]",
      "text/plain": [
       "<IPython.core.display.Image object>"
      ]
     },
     "metadata": {},
     "output_type": "display_data"
    }
   ],
   "source": [
    "L1,n1 = lineariser(R1)\n",
    "h.afficher_arbre_binaire(L1)"
   ]
  },
  {
   "cell_type": "code",
   "execution_count": 26,
   "metadata": {},
   "outputs": [
    {
     "data": {
      "image/png": "[encoded data removed]",
      "text/plain": [
       "<IPython.core.display.Image object>"
      ]
     },
     "metadata": {},
     "output_type": "display_data"
    }
   ],
   "source": [
    "L2,n2 = lineariser(R2)\n",
    "h.afficher_arbre_binaire(L2)"
   ]
  },
  {
   "cell_type": "code",
   "execution_count": 29,
   "metadata": {},
   "outputs": [
    {
     "data": {
      "image/png": "[encoded data removed]",
      "text/plain": [
       "<IPython.core.display.Image object>"
      ]
     },
     "metadata": {},
     "output_type": "display_data"
    }
   ],
   "source": [
    "L,n = union_ABR_degeneres(L1,L2,n1,n2)\n",
    "h.afficher_arbre_binaire(L)"
   ]
  },
  {
   "cell_type": "code",
   "execution_count": 30,
   "metadata": {},
   "outputs": [
    {
     "data": {
      "image/png": "[encoded data removed]",
      "text/plain": [
       "<IPython.core.display.Image object>"
      ]
     },
     "metadata": {},
     "output_type": "display_data"
    }
   ],
   "source": [
    "R,L = arboriser(L,n)\n",
    "h.afficher_arbre_binaire(R)"
   ]
  },
  {
   "cell_type": "code",
   "execution_count": 35,
   "metadata": {},
   "outputs": [],
   "source": [
    "def union_ensembles(E1,E2):\n",
    "    U = Ensemble()\n",
    "    C1 = E1.copier() \n",
    "    C2 = E2.copier()\n",
    "    L1,n1 = lineariser(C1.R)\n",
    "    L2,n2 = lineariser(C2.R)\n",
    "    L,n = union_ABR_degeneres(L1,L2,n1,n2)\n",
    "    U.R, L = arboriser(L,n)\n",
    "    return U"
   ]
  },
  {
   "cell_type": "code",
   "execution_count": 36,
   "metadata": {},
   "outputs": [
    {
     "name": "stdout",
     "output_type": "stream",
     "text": [
      "0 3 6 9 12 \n",
      "0 2 4 6 8 10 12 \n",
      "0 2 3 4 6 8 9 10 12 \n"
     ]
    }
   ],
   "source": [
    "U = union_ensembles(E1,E2)\n",
    "print(E1)\n",
    "print(E2)\n",
    "print(U)"
   ]
  },
  {
   "cell_type": "code",
   "execution_count": 46,
   "metadata": {},
   "outputs": [],
   "source": [
    "def intersection_ABR_degeneres(L1,L2):\n",
    "    L = Noeud(\"\"); Q = L;\n",
    "    n = 0\n",
    "    while L1 != None and L2 != None:\n",
    "        if L1.clef < L2.clef:\n",
    "            L1 = L1.droite\n",
    "        elif L1.clef > L2.clef: \n",
    "            L2 = L2.droite\n",
    "        else: # clé dupliquée\n",
    "            Q.droite = L1\n",
    "            Q = Q.droite\n",
    "            L1 = L1.droite; L2 = L2.droite\n",
    "            n += 1\n",
    "    L = L.droite\n",
    "    Q.droite = None\n",
    "    return L, n"
   ]
  },
  {
   "cell_type": "code",
   "execution_count": 58,
   "metadata": {},
   "outputs": [],
   "source": [
    "def intersection_ensembles(E1,E2):\n",
    "    I = Ensemble()\n",
    "    C1 = E1.copier(); \n",
    "    C2 = E2.copier(); \n",
    "    L1,n1 = lineariser(C1.R); \n",
    "    L2,n2 = lineariser(C2.R); \n",
    "    L,n = intersection_ABR_degeneres(L1,L2); \n",
    "    I.R, L = arboriser(L,n)\n",
    "    return I"
   ]
  },
  {
   "cell_type": "code",
   "execution_count": 59,
   "metadata": {},
   "outputs": [
    {
     "name": "stdout",
     "output_type": "stream",
     "text": [
      "0 3 6 9 12 \n",
      "0 2 4 6 8 10 12 \n",
      "0 6 12 \n"
     ]
    }
   ],
   "source": [
    "I = intersection_ensembles(E1,E2)\n",
    "print(E1)\n",
    "print(E2)\n",
    "print(I)"
   ]
  },
  {
   "cell_type": "markdown",
   "metadata": {},
   "source": [
    "<table style=\"width: 100%; border: 0px\">\n",
    "<tr style=\"background-color:white; border:0px\">\n",
    "<td style=\"width: 120px; border: 0px\">\n",
    "    <img src=\"https://heig-vd.ch/ResourcePackages/WhiteFox/assets/images/logo-heig-vd.svg\" height=200px align=left >\n",
    "    </td>\n",
    "    <td style=\"vertical-align: middle; border: 0px\" height=200px>\n",
    "    <p style=\"text-align: left\">\n",
    "        <a href=\"https://ocuisenaire.github.io/ASD1-notebooks/\">ASD1 Notebooks on GitHub.io</a>\n",
    " </p>        \n",
    "<p style=\"text-align: left\">\n",
    "© Olivier Cuisenaire, 2018 </p>\n",
    "</td>\n",
    "</tr>\n",
    "</table>"
   ]
  },
  {
   "cell_type": "raw",
   "metadata": {},
   "source": [
    "<style type=\"text/css\">\n",
    ".reveal {\n",
    "font-size: 200%;\n",
    "}</style>"
   ]
  }
 ],
 "metadata": {
  "celltoolbar": "Slideshow",
  "kernelspec": {
   "display_name": "Python 3",
   "language": "python",
   "name": "python3"
  },
  "language_info": {
   "codemirror_mode": {
    "name": "ipython",
    "version": 3
   },
   "file_extension": ".py",
   "mimetype": "text/x-python",
   "name": "python",
   "nbconvert_exporter": "python",
   "pygments_lexer": "ipython3",
   "version": "3.6.5"
  }
 },
 "nbformat": 4,
 "nbformat_minor": 2
}
