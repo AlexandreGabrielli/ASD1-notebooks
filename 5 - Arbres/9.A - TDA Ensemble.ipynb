{
 "cells": [
  {
   "cell_type": "markdown",
   "metadata": {
    "slideshow": {
     "slide_type": "slide"
    }
   },
   "source": [
    "# TDA Ensemble (Set)"
   ]
  },
  {
   "cell_type": "markdown",
   "metadata": {
    "slideshow": {
     "slide_type": "slide"
    }
   },
   "source": [
    "Un **ensemble** est un type de donnéee abstrait qui stocke des valeurs **sans répétition**: ajouter une valeur déjà présente est sans effet. Les opérations essentielles sont\n",
    "\n",
    "* vérifier si un élément est présent\n",
    "* ajouter un élément s'il est absent\n",
    "* supprimer un élément \n",
    "\n",
    "Un **ensemble ordonné** est un ensemble qui stocke les valeurs triées selon un critère. Cela peut faciliter l'opération de recherche d'un élément.  \n",
    "\n",
    "Les ensembles ordonnés sont typiquement **mis en oeuvre** au moyen d'arbres binaires de recherche. Les ensemble non-ordonnés utilisent plutôt des tables de hachage (voir ASD2) "
   ]
  },
  {
   "cell_type": "markdown",
   "metadata": {
    "slideshow": {
     "slide_type": "subslide"
    }
   },
   "source": [
    "On doit pouvoir mettre en oeuvre efficement les opérations de [théorie des ensembles](https://fr.wikipedia.org/wiki/Théorie_des_ensembles) (Georg Cantor, $19^{eme}$ siècle).\n",
    "\n",
    "* Union: $A \\cup B = \\{ x : x \\in A \\lor x \\in B \\}$\n",
    "\n",
    "\n",
    "* Intersection: $A \\cap B = \\{ x : x \\in A \\land x \\in B \\}$\n",
    "\n",
    "\n",
    "* Différence: $A \\setminus B = \\{ x : x \\in A \\land x \\notin B \\}$\n",
    "\n",
    "\n",
    "* Sous-ensemble: $A \\subseteq B$ si $\\forall x \\in A, x \\in B$"
   ]
  },
  {
   "cell_type": "code",
   "execution_count": 171,
   "metadata": {
    "slideshow": {
     "slide_type": "skip"
    }
   },
   "outputs": [],
   "source": [
    "import include.helpers as h"
   ]
  },
  {
   "cell_type": "markdown",
   "metadata": {
    "slideshow": {
     "slide_type": "slide"
    }
   },
   "source": [
    "## Arbre binaire de recherche\n",
    "\n",
    "Pour écrire notre classe, nous utilisons un arbre binaire de recherche dont les noeuds sont "
   ]
  },
  {
   "cell_type": "code",
   "execution_count": 172,
   "metadata": {},
   "outputs": [],
   "source": [
    "class Noeud:\n",
    "    def __init__(self,val,p = None, \n",
    "                 g = None, d = None):\n",
    "        self.clef = val\n",
    "        self.parent = p\n",
    "        self.gauche = g\n",
    "        self.droite = d   \n",
    "    def __str__(self): \n",
    "        return \"{}\".format(self.clef)"
   ]
  },
  {
   "cell_type": "markdown",
   "metadata": {
    "slideshow": {
     "slide_type": "subslide"
    }
   },
   "source": [
    "Nous y ajoutons les fonctions suivantes"
   ]
  },
  {
   "cell_type": "code",
   "execution_count": 181,
   "metadata": {},
   "outputs": [],
   "source": [
    "# insère dans l'ABR de racine R si val est absent \n",
    "\n",
    "def inserer(R,val,p = None):\n",
    "    c = 1\n",
    "    if R == None:      R = Noeud(val, p);   \n",
    "    elif val < R.clef: R.gauche, c = inserer(R.gauche,val,R)    \n",
    "    elif val > R.clef: R.droite, c = inserer(R.droite,val,R)\n",
    "    else:              c = 0\n",
    "    return R, c"
   ]
  },
  {
   "cell_type": "code",
   "execution_count": 182,
   "metadata": {
    "slideshow": {
     "slide_type": "fragment"
    }
   },
   "outputs": [],
   "source": [
    "# construit un ABR à partir d'un contenant T itérable, sans duplication\n",
    "\n",
    "def creer_ABR(T):\n",
    "    R = None; n = 0\n",
    "    for t in T: \n",
    "        R, c = inserer(R,t)\n",
    "        n += c\n",
    "    return R, n"
   ]
  },
  {
   "cell_type": "code",
   "execution_count": 183,
   "metadata": {
    "slideshow": {
     "slide_type": "subslide"
    }
   },
   "outputs": [],
   "source": [
    "# retourne le contenu trié de l'ABR dans une string\n",
    "\n",
    "def str_trie(R):\n",
    "    s = \"\"\n",
    "    if R:\n",
    "        s += str_trie(R.gauche)\n",
    "        s += R.__str__() + \" \"\n",
    "        s += str_trie(R.droite)\n",
    "    return s"
   ]
  },
  {
   "cell_type": "code",
   "execution_count": 184,
   "metadata": {
    "slideshow": {
     "slide_type": "fragment"
    }
   },
   "outputs": [],
   "source": [
    "# copie récursivement tout l'ABR dont R est la racine\n",
    "\n",
    "def copier_rec(R, p = None):\n",
    "    if R:\n",
    "        C = Noeud(R.clef, p)\n",
    "        C.gauche = copier_rec(R.gauche,C)\n",
    "        C.droite = copier_rec(R.droite,C)\n",
    "        return C\n",
    "    else: return None"
   ]
  },
  {
   "cell_type": "code",
   "execution_count": 185,
   "metadata": {
    "slideshow": {
     "slide_type": "subslide"
    }
   },
   "outputs": [],
   "source": [
    "# fonctions d'itération\n",
    "\n",
    "def noeud_min(R):     \n",
    "    return noeud_min(R.gauche) if R.gauche else R\n",
    "\n",
    "def suivant(n):\n",
    "    if n.droite:\n",
    "        return noeud_min(n.droite)\n",
    "    else:\n",
    "        while n.parent and n.parent.gauche != n:\n",
    "            n = n.parent\n",
    "        return n.parent"
   ]
  },
  {
   "cell_type": "markdown",
   "metadata": {
    "slideshow": {
     "slide_type": "slide"
    }
   },
   "source": [
    "## Classe Ensemble\n",
    "\n",
    "Ces fonctions nous permettent de définir une classe Ensemble minimaliste, qui a comme  attributs `R` la racine de l'ABR stockant les éléments, et `n` le nombre d'éléments"
   ]
  },
  {
   "cell_type": "code",
   "execution_count": 186,
   "metadata": {},
   "outputs": [],
   "source": [
    "class Ensemble:\n",
    "    def __init__(self,T = []):\n",
    "        self.R, self.n = creer_ABR(T)  \n",
    "    def __str__(self):\n",
    "        return str_trie(self.R)\n",
    "    def copier(self):\n",
    "        E = Ensemble()\n",
    "        E.R = copier_rec(self.R)\n",
    "        E.n = self.n\n",
    "        return E\n",
    "    def inserer(self,val):\n",
    "        self.R, c = inserer(self.R,val)\n",
    "        self.n += c"
   ]
  },
  {
   "cell_type": "markdown",
   "metadata": {
    "slideshow": {
     "slide_type": "subslide"
    }
   },
   "source": [
    "Créons un ensemble `E1` avec les multiples de 3 de 0 à 15"
   ]
  },
  {
   "cell_type": "code",
   "execution_count": 187,
   "metadata": {},
   "outputs": [
    {
     "name": "stdout",
     "output_type": "stream",
     "text": [
      "0 3 6 9 12 15 \n"
     ]
    },
    {
     "data": {
      "image/png": "[encoded data removed]",
      "text/plain": [
       "<IPython.core.display.Image object>"
      ]
     },
     "metadata": {},
     "output_type": "display_data"
    }
   ],
   "source": [
    "T1 = [ 6, 12, 3, 0, 9, 15 , 3, 6, 3, 12 ]\n",
    "E1 = Ensemble(T1)\n",
    "print(E1)\n",
    "h.afficher_arbre_binaire(E1.R)"
   ]
  },
  {
   "cell_type": "markdown",
   "metadata": {
    "slideshow": {
     "slide_type": "subslide"
    }
   },
   "source": [
    "Créons un ensemble `E2` avec les multiples de 2 de 0 à 12"
   ]
  },
  {
   "cell_type": "code",
   "execution_count": 188,
   "metadata": {},
   "outputs": [
    {
     "name": "stdout",
     "output_type": "stream",
     "text": [
      "0 2 4 6 8 10 12 \n"
     ]
    },
    {
     "data": {
      "image/png": "[encoded data removed]",
      "text/plain": [
       "<IPython.core.display.Image object>"
      ]
     },
     "metadata": {},
     "output_type": "display_data"
    }
   ],
   "source": [
    "T2 = [ 8, 4, 0, 2, 6, 10, 12 ]\n",
    "E2 = Ensemble(T2)\n",
    "print(E2)\n",
    "h.afficher_arbre_binaire(E2.R)"
   ]
  },
  {
   "cell_type": "markdown",
   "metadata": {
    "slideshow": {
     "slide_type": "slide"
    }
   },
   "source": [
    "## Union\n",
    "\n",
    "Pour mettre en oeuvre l'union ensembliste $A \\cup B = \\{ x : x \\in A \\lor x \\in B \\}$, le plus simple est d'insérer tous les éléments d'un ensemble dans l'autre"
   ]
  },
  {
   "cell_type": "code",
   "execution_count": 189,
   "metadata": {},
   "outputs": [],
   "source": [
    "def union_ensembles(A,B):\n",
    "    U = A.copier()\n",
    "    b = noeud_min(B.R)\n",
    "    while b:\n",
    "        U.inserer(b.clef)\n",
    "        b = suivant(b)\n",
    "    return U"
   ]
  },
  {
   "cell_type": "code",
   "execution_count": 190,
   "metadata": {
    "slideshow": {
     "slide_type": "fragment"
    }
   },
   "outputs": [
    {
     "name": "stdout",
     "output_type": "stream",
     "text": [
      "0 3 6 9 12 15 \n",
      "0 2 4 6 8 10 12 \n",
      "0 2 3 4 6 8 9 10 12 15 \n"
     ]
    }
   ],
   "source": [
    "E3 = union_ensembles(E1,E2)\n",
    "print(E1); print(E2); print(E3)"
   ]
  },
  {
   "cell_type": "markdown",
   "metadata": {
    "slideshow": {
     "slide_type": "subslide"
    }
   },
   "source": [
    "Soient $n$ et $m$ les tailles des ensembles `A` et `B`.\n",
    "\n",
    "* La copie de A a une complexité $O(n)$. \n",
    "\n",
    "* Si les arbres sont équilibrés, chacune des $m$ insertions a une complexité $O(\\log(m+n))$ \n",
    "\n",
    "La complexité totale est donc $O(n + m \\log(m+n))$. \n",
    "\n",
    "Peut-on faire mieux ?"
   ]
  },
  {
   "cell_type": "markdown",
   "metadata": {
    "slideshow": {
     "slide_type": "subslide"
    }
   },
   "source": [
    "Oui. Il faut\n",
    "\n",
    "* parcourir les deux arbres simultanément par ordre croissant\n",
    "\n",
    "\n",
    "* en n'avançant que dans l'arbre ayant l'élément courrant le plus petit\n",
    "\n",
    "\n",
    "* en insérant dans l'union comme si son ABR était une liste simplement chainée par les pointeurs gauches, \n",
    "\n",
    "\n",
    "* donc en tête de liste, l'élément à insérer étant plus grand que les précédents\n",
    "\n",
    "\n",
    "Toutes ces opérations sont individuellement $\\Theta(1)$, et donc en tout $\\Theta(m+n)$"
   ]
  },
  {
   "cell_type": "code",
   "execution_count": 191,
   "metadata": {
    "slideshow": {
     "slide_type": "subslide"
    }
   },
   "outputs": [],
   "source": [
    "def union_ensembles(A,B):\n",
    "    U = Ensemble();\n",
    "    a = noeud_min(A.R); b = noeud_min(B.R)\n",
    "    while a and b:\n",
    "        if a.clef < b.clef:\n",
    "            U.R = Noeud(a.clef,g = U.R); a = suivant(a)\n",
    "        elif a.clef > b.clef:\n",
    "            U.R = Noeud(b.clef,g = U.R); b = suivant(b)\n",
    "        else: # a == b\n",
    "            U.R = Noeud(a.clef,g = U.R)\n",
    "            a = suivant(a); b = suivant(b)\n",
    "        U.n += 1  \n",
    "    while a:\n",
    "        U.R = Noeud(a.clef,g = U.R)\n",
    "        a = suivant(a); U.n += 1     \n",
    "    while b:\n",
    "        U.R = Noeud(a.clef,g = U.R)\n",
    "        a = suivant(a); U.n += 1\n",
    "    return U"
   ]
  },
  {
   "cell_type": "markdown",
   "metadata": {
    "slideshow": {
     "slide_type": "subslide"
    }
   },
   "source": [
    "L'algorithme fonctionne en temps linéaire, mais il produit un arbre dégénéré"
   ]
  },
  {
   "cell_type": "code",
   "execution_count": 197,
   "metadata": {},
   "outputs": [
    {
     "name": "stdout",
     "output_type": "stream",
     "text": [
      "0 3 6 9 12 15 \n",
      "0 2 4 6 8 10 12 \n",
      "0 2 3 4 6 8 9 10 12 15 \n"
     ]
    },
    {
     "data": {
      "image/png": "[encoded data removed]",
      "text/plain": [
       "<IPython.core.display.Image object>"
      ]
     },
     "metadata": {},
     "output_type": "display_data"
    }
   ],
   "source": [
    "E4 = union_ensembles(E1,E2)\n",
    "print(E1); print(E2); print(E4)\n",
    "h.afficher_arbre_binaire(E4.R)"
   ]
  },
  {
   "cell_type": "markdown",
   "metadata": {
    "slideshow": {
     "slide_type": "subslide"
    }
   },
   "source": [
    "Heureusement, on peut l'arboriser similairement à l'algorithme vu précédemment pour un ABR dégénéré vers la droite. "
   ]
  },
  {
   "cell_type": "code",
   "execution_count": 192,
   "metadata": {
    "slideshow": {
     "slide_type": "-"
    }
   },
   "outputs": [],
   "source": [
    "def arboriser_gauche(L,n):\n",
    "    if n == 0: return None, L\n",
    "        \n",
    "    RD, L = arboriser_gauche(L,(n-1)//2)\n",
    "    \n",
    "    R = L\n",
    "    R.droite = RD\n",
    "    L = L.gauche\n",
    "    \n",
    "    R.gauche , L = arboriser_gauche(L,n//2)\n",
    "\n",
    "    R.parent = None\n",
    "    if R.gauche: R.gauche.parent = R\n",
    "    if R.droite: R.droite.parent = R\n",
    "    return R, L"
   ]
  },
  {
   "cell_type": "markdown",
   "metadata": {
    "slideshow": {
     "slide_type": "subslide"
    }
   },
   "source": [
    "Le résultat est probant"
   ]
  },
  {
   "cell_type": "code",
   "execution_count": 199,
   "metadata": {},
   "outputs": [
    {
     "data": {
      "image/png": "[encoded data removed]",
      "text/plain": [
       "<IPython.core.display.Image object>"
      ]
     },
     "metadata": {},
     "output_type": "display_data"
    }
   ],
   "source": [
    "E4.R, L = arboriser_gauche(E4.R,E4.n)\n",
    "h.afficher_arbre_binaire(E4.R)"
   ]
  },
  {
   "cell_type": "markdown",
   "metadata": {
    "slideshow": {
     "slide_type": "slide"
    }
   },
   "source": [
    "## Intersection\n",
    "\n",
    "L'algorithme d'intersection $A \\cap B = \\{ x : x \\in A \\land x \\in B \\}$ fonctionne sur le même principe"
   ]
  },
  {
   "cell_type": "code",
   "execution_count": 201,
   "metadata": {
    "slideshow": {
     "slide_type": "-"
    }
   },
   "outputs": [],
   "source": [
    "def intersection_ensembles(A,B):\n",
    "    U = Ensemble();\n",
    "    a = noeud_min(A.R); b = noeud_min(B.R)\n",
    "    while a and b:\n",
    "        if a.clef < b.clef:\n",
    "            a = suivant(a)\n",
    "        elif a.clef > b.clef:\n",
    "            b = suivant(b)\n",
    "        else: # a == b\n",
    "            U.R = Noeud(a.clef,g = U.R)\n",
    "            a = suivant(a); b = suivant(b)\n",
    "            U.n += 1 \n",
    "    U.R, L = arboriser_gauche(U.R,U.n)\n",
    "    return U"
   ]
  },
  {
   "cell_type": "code",
   "execution_count": 202,
   "metadata": {
    "slideshow": {
     "slide_type": "subslide"
    }
   },
   "outputs": [
    {
     "name": "stdout",
     "output_type": "stream",
     "text": [
      "0 3 6 9 12 15 \n",
      "0 2 4 6 8 10 12 \n",
      "0 6 12 \n"
     ]
    },
    {
     "data": {
      "image/png": "[encoded data removed]",
      "text/plain": [
       "<IPython.core.display.Image object>"
      ]
     },
     "metadata": {},
     "output_type": "display_data"
    }
   ],
   "source": [
    "E5 = intersection_ensembles(E1,E2)\n",
    "print(E1); print(E2); print(E5)\n",
    "h.afficher_arbre_binaire(E5.R)"
   ]
  },
  {
   "cell_type": "markdown",
   "metadata": {
    "slideshow": {
     "slide_type": "slide"
    }
   },
   "source": [
    "## Différence\n",
    "\n",
    "De même pour la différence $A \\setminus B = \\{ x : x \\in A \\land x \\notin B \\}$."
   ]
  },
  {
   "cell_type": "code",
   "execution_count": 206,
   "metadata": {},
   "outputs": [],
   "source": [
    "def difference_ensembles(A,B):\n",
    "    U = Ensemble();\n",
    "    a = noeud_min(A.R); b = noeud_min(B.R)\n",
    "    while a:\n",
    "        while b and b.clef < a.clef:\n",
    "            b = suivant(b)\n",
    "        if b == None or a.clef < b.clef:\n",
    "            U.R = Noeud(a.clef,g = U.R)\n",
    "            U.n += 1 \n",
    "        a = suivant(a)\n",
    "    U.R, L = arboriser_gauche(U.R,U.n)\n",
    "    return U"
   ]
  },
  {
   "cell_type": "code",
   "execution_count": 207,
   "metadata": {
    "slideshow": {
     "slide_type": "subslide"
    }
   },
   "outputs": [
    {
     "name": "stdout",
     "output_type": "stream",
     "text": [
      "0 3 6 9 12 15 \n",
      "0 2 4 6 8 10 12 \n",
      "3 9 15 \n"
     ]
    },
    {
     "data": {
      "image/png": "[encoded data removed]",
      "text/plain": [
       "<IPython.core.display.Image object>"
      ]
     },
     "metadata": {},
     "output_type": "display_data"
    }
   ],
   "source": [
    "E6 = difference_ensembles(E1,E2)\n",
    "print(E1); print(E2); print(E6)\n",
    "h.afficher_arbre_binaire(E6.R)"
   ]
  },
  {
   "cell_type": "markdown",
   "metadata": {
    "slideshow": {
     "slide_type": "slide"
    }
   },
   "source": [
    "## Sous-ensemble\n",
    "\n",
    "Et de même pour le test de sous-ensemble $A \\subseteq B$ si $\\forall x \\in A, x \\in B$"
   ]
  },
  {
   "cell_type": "code",
   "execution_count": 209,
   "metadata": {},
   "outputs": [],
   "source": [
    "def est_sous_ensemble(A,B):\n",
    "    a = noeud_min(A.R); b = noeud_min(B.R)\n",
    "    while a:\n",
    "        while b and b.clef < a.clef:\n",
    "            b = suivant(b)\n",
    "        if b == None or a.clef < b.clef:\n",
    "            return False \n",
    "        a = suivant(a)\n",
    "    return True"
   ]
  },
  {
   "cell_type": "code",
   "execution_count": 220,
   "metadata": {
    "slideshow": {
     "slide_type": "subslide"
    }
   },
   "outputs": [
    {
     "name": "stdout",
     "output_type": "stream",
     "text": [
      "{0 3 6 9 12 15 } ⊆ {0 3 6 9 12 15 }                True\n",
      "{0 3 6 9 12 15 } ⊆ {0 2 4 6 8 10 12 }              False\n",
      "{0 2 4 6 8 10 12 } ⊆ {0 3 6 9 12 15 }              False\n",
      "{0 3 6 9 12 15 } ⊆ {0 2 3 4 6 8 9 10 12 15 }       True\n",
      "{0 3 6 9 12 15 } ⊆ {0 6 12 }                       False\n",
      "{0 6 12 } ⊆ {0 3 6 9 12 15 }                       True\n",
      "{3 9 15 } ⊆ {0 6 12 }                              False\n"
     ]
    }
   ],
   "source": [
    "def test(A,B):\n",
    "    print(\"{{{}}} ⊆ {{{}}}\".format(A,B).ljust(50),\n",
    "            est_sous_ensemble(A,B))\n",
    "    \n",
    "test(E1,E1)\n",
    "test(E1,E2)\n",
    "test(E2,E1)\n",
    "test(E1,E3)\n",
    "test(E1,E5)\n",
    "test(E5,E1)\n",
    "test(E6,E5)"
   ]
  },
  {
   "cell_type": "markdown",
   "metadata": {
    "slideshow": {
     "slide_type": "slide"
    }
   },
   "source": [
    "## Conclusion\n",
    "\n",
    "Les arbres binaires de recherche permettent de mettre en oeuvre le type de donnée abstrait `Ensemble` efficacement. En pratique, il s'agit même d'un **ensemble ordonné** \n",
    "\n",
    "Les **opérations élémentaires** (insertion, recherche, suppression) ont une complexité **logarithmique** si les arbres sont équilibrés. \n",
    "\n",
    "Les **opérations ensemblistes** (union, intersection, différence, inclusion) ont une complexité\n",
    "\n",
    "* linéarithmique s'ils sont mis en oeuvre naïvement au moyen des opérations élémentaires\n",
    "\n",
    "\n",
    "* **linéraire** en utilisant les parcours par itérateur et l'arborisation "
   ]
  },
  {
   "cell_type": "markdown",
   "metadata": {
    "slideshow": {
     "slide_type": "slide"
    }
   },
   "source": [
    "<table style=\"width: 100%; border: 0px\">\n",
    "<tr style=\"background-color:white; border:0px\">\n",
    "<td style=\"width: 120px; border: 0px\">\n",
    "    <img src=\"https://heig-vd.ch/ResourcePackages/WhiteFox/assets/images/logo-heig-vd.svg\" height=200px align=left >\n",
    "    </td>\n",
    "    <td style=\"vertical-align: middle; border: 0px\" height=200px>\n",
    "    <p style=\"text-align: left\">\n",
    "        <a href=\"https://ocuisenaire.github.io/ASD1-notebooks/\">ASD1 Notebooks on GitHub.io</a>\n",
    " </p>        \n",
    "<p style=\"text-align: left\">\n",
    "© Olivier Cuisenaire, 2018 </p>\n",
    "</td>\n",
    "</tr>\n",
    "</table>"
   ]
  },
  {
   "cell_type": "raw",
   "metadata": {},
   "source": [
    "<style type=\"text/css\">\n",
    ".reveal {\n",
    "font-size: 200%;\n",
    "}</style>"
   ]
  }
 ],
 "metadata": {
  "celltoolbar": "Slideshow",
  "kernelspec": {
   "display_name": "Python 3",
   "language": "python",
   "name": "python3"
  },
  "language_info": {
   "codemirror_mode": {
    "name": "ipython",
    "version": 3
   },
   "file_extension": ".py",
   "mimetype": "text/x-python",
   "name": "python",
   "nbconvert_exporter": "python",
   "pygments_lexer": "ipython3",
   "version": "3.6.5"
  }
 },
 "nbformat": 4,
 "nbformat_minor": 2
}
