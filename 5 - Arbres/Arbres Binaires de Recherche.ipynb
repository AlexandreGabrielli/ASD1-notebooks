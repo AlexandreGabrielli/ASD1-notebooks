{
 "cells": [
  {
   "cell_type": "code",
   "execution_count": 85,
   "metadata": {},
   "outputs": [],
   "source": [
    "class Node:\n",
    "    def __init__(self,val,left=None,right=None):\n",
    "        self.val = val\n",
    "        self.left = left\n",
    "        self.right = right"
   ]
  },
  {
   "cell_type": "code",
   "execution_count": 95,
   "metadata": {},
   "outputs": [],
   "source": [
    "def insert(root,val):\n",
    "    if root == None:\n",
    "        return Node(val)\n",
    "    else:\n",
    "        if val < root.val:\n",
    "            root.left = insert(root.left,val)\n",
    "        elif val > root.val:\n",
    "            root.right = insert(root.right,val)\n",
    "        else: # val == root.val\n",
    "            pass\n",
    "        return root"
   ]
  },
  {
   "cell_type": "code",
   "execution_count": 96,
   "metadata": {},
   "outputs": [],
   "source": [
    "T = [ 5, 3, 7, 6, 3, 9, 1, 8, 1 ]\n",
    "\n",
    "R = None\n",
    "for t in T:\n",
    "    R = insert(R,t)"
   ]
  },
  {
   "cell_type": "code",
   "execution_count": 97,
   "metadata": {},
   "outputs": [],
   "source": [
    "def parcours_symetrique(root):\n",
    "    if root:\n",
    "        parcours_symetrique(root.left)\n",
    "        print(root.val, end=\" \")\n",
    "        parcours_symetrique(root.right)"
   ]
  },
  {
   "cell_type": "code",
   "execution_count": 98,
   "metadata": {},
   "outputs": [
    {
     "name": "stdout",
     "output_type": "stream",
     "text": [
      "1 3 5 6 7 8 9 "
     ]
    }
   ],
   "source": [
    "parcours_symetrique(R)"
   ]
  },
  {
   "cell_type": "code",
   "execution_count": 99,
   "metadata": {},
   "outputs": [],
   "source": [
    "def min(root):\n",
    "    if root == None:\n",
    "        raise RuntimeError(\"\")\n",
    "    else:\n",
    "        if root.left:\n",
    "            return min(root.left)\n",
    "        else:\n",
    "            return root.val"
   ]
  },
  {
   "cell_type": "code",
   "execution_count": 100,
   "metadata": {},
   "outputs": [
    {
     "data": {
      "text/plain": [
       "1"
      ]
     },
     "execution_count": 100,
     "metadata": {},
     "output_type": "execute_result"
    }
   ],
   "source": [
    "min(R)"
   ]
  },
  {
   "cell_type": "code",
   "execution_count": 101,
   "metadata": {},
   "outputs": [],
   "source": [
    "def delete_min(root):\n",
    "    if root == None:\n",
    "        raise RuntimeError(\"\")\n",
    "    else:\n",
    "        if root.left:\n",
    "            root.left = delete_min(root.left)\n",
    "            return root\n",
    "        else:\n",
    "            return root.right"
   ]
  },
  {
   "cell_type": "code",
   "execution_count": 102,
   "metadata": {},
   "outputs": [
    {
     "name": "stdout",
     "output_type": "stream",
     "text": [
      "3 5 6 7 8 9 \n",
      "5 6 7 8 9 \n",
      "6 7 8 9 \n",
      "7 8 9 \n",
      "8 9 \n",
      "9 \n",
      "\n"
     ]
    }
   ],
   "source": [
    "while R:\n",
    "    R = delete_min(R)\n",
    "    parcours_symetrique(R)\n",
    "    print()"
   ]
  },
  {
   "cell_type": "code",
   "execution_count": null,
   "metadata": {},
   "outputs": [],
   "source": [
    "def delete(root,val):\n",
    "    # a completer"
   ]
  },
  {
   "cell_type": "code",
   "execution_count": 66,
   "metadata": {},
   "outputs": [],
   "source": [
    "class BST(object):\n",
    "    def __init__(self):\n",
    "        self.root = None\n",
    "        \n",
    "    def insert(self,val):\n",
    "        self.root = insert(self.root,val)\n",
    "    \n",
    "    def display(self):\n",
    "        parcours_symetrique(self.root)"
   ]
  },
  {
   "cell_type": "code",
   "execution_count": 39,
   "metadata": {},
   "outputs": [
    {
     "name": "stdout",
     "output_type": "stream",
     "text": [
      "1 3 5 6 7 8 9 "
     ]
    }
   ],
   "source": [
    "bst = BST()\n",
    "for t in T:\n",
    "    bst.insert(t)\n",
    "bst.display()"
   ]
  },
  {
   "cell_type": "code",
   "execution_count": null,
   "metadata": {},
   "outputs": [],
   "source": []
  }
 ],
 "metadata": {
  "kernelspec": {
   "display_name": "Python 3",
   "language": "python",
   "name": "python3"
  },
  "language_info": {
   "codemirror_mode": {
    "name": "ipython",
    "version": 3
   },
   "file_extension": ".py",
   "mimetype": "text/x-python",
   "name": "python",
   "nbconvert_exporter": "python",
   "pygments_lexer": "ipython3",
   "version": "3.6.5"
  }
 },
 "nbformat": 4,
 "nbformat_minor": 2
}
