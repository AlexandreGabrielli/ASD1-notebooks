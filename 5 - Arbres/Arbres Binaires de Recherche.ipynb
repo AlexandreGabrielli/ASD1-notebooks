{
 "cells": [
  {
   "cell_type": "code",
   "execution_count": 1,
   "metadata": {},
   "outputs": [],
   "source": [
    "class Node:\n",
    "    def __init__(self,val,left=None,right=None):\n",
    "        self.val = val\n",
    "        self.left = left\n",
    "        self.right = right"
   ]
  },
  {
   "cell_type": "code",
   "execution_count": 2,
   "metadata": {},
   "outputs": [],
   "source": [
    "def insert(root,val):\n",
    "    if root == None:\n",
    "        return Node(val)\n",
    "    else:\n",
    "        if val < root.val:\n",
    "            root.left = insert(root.left,val)\n",
    "        elif val > root.val:\n",
    "            root.right = insert(root.right,val)\n",
    "        else: # val == root.val\n",
    "            pass\n",
    "        return root"
   ]
  },
  {
   "cell_type": "code",
   "execution_count": 3,
   "metadata": {},
   "outputs": [],
   "source": [
    "T = [ 5, 3, 7, 6, 3, 9, 1, 8, 1 ]\n",
    "\n",
    "R = None\n",
    "for t in T:\n",
    "    R = insert(R,t)"
   ]
  },
  {
   "cell_type": "code",
   "execution_count": 4,
   "metadata": {},
   "outputs": [],
   "source": [
    "def display(root,level):\n",
    "    if root == None:\n",
    "        print(''.rjust(2*level),'-')\n",
    "    else:\n",
    "        print(''.rjust(2*level),root.val)\n",
    "        display(root.left,level+1)\n",
    "        display(root.right,level+1)"
   ]
  },
  {
   "cell_type": "code",
   "execution_count": 5,
   "metadata": {},
   "outputs": [
    {
     "name": "stdout",
     "output_type": "stream",
     "text": [
      " 5\n",
      "   3\n",
      "     1\n",
      "       -\n",
      "       -\n",
      "     -\n",
      "   7\n",
      "     6\n",
      "       -\n",
      "       -\n",
      "     9\n",
      "       8\n",
      "         -\n",
      "         -\n",
      "       -\n"
     ]
    }
   ],
   "source": [
    "display(R,0)"
   ]
  },
  {
   "cell_type": "code",
   "execution_count": 6,
   "metadata": {},
   "outputs": [],
   "source": [
    "def parcours_symetrique(root):\n",
    "    if root:\n",
    "        parcours_symetrique(root.left)\n",
    "        print(root.val, end=\" \")\n",
    "        parcours_symetrique(root.right)"
   ]
  },
  {
   "cell_type": "code",
   "execution_count": 7,
   "metadata": {},
   "outputs": [
    {
     "name": "stdout",
     "output_type": "stream",
     "text": [
      "1 3 5 6 7 8 9 "
     ]
    }
   ],
   "source": [
    "parcours_symetrique(R)"
   ]
  },
  {
   "cell_type": "code",
   "execution_count": 8,
   "metadata": {},
   "outputs": [],
   "source": [
    "def search(root,val):\n",
    "    if root == None:\n",
    "        return None\n",
    "    else:\n",
    "        if val < root.val:\n",
    "            return search(root.left,val)\n",
    "        elif val > root.val:\n",
    "            return search(root.right,val)\n",
    "        else: \n",
    "            return root\n",
    "\n",
    "def contains(root,val):\n",
    "    return search(root,val) != None"
   ]
  },
  {
   "cell_type": "code",
   "execution_count": 9,
   "metadata": {},
   "outputs": [
    {
     "name": "stdout",
     "output_type": "stream",
     "text": [
      "0 False\n",
      "1 True\n",
      "2 False\n",
      "3 True\n",
      "4 False\n",
      "5 True\n",
      "6 True\n",
      "7 True\n",
      "8 True\n",
      "9 True\n"
     ]
    }
   ],
   "source": [
    "for i in range(0,10):\n",
    "    print(i,contains(R,i))"
   ]
  },
  {
   "cell_type": "code",
   "execution_count": 10,
   "metadata": {},
   "outputs": [],
   "source": [
    "def min_node(root):\n",
    "    if root == None:\n",
    "        raise RuntimeError(\"\")\n",
    "    else:\n",
    "        if root.left:\n",
    "            return min_node(root.left)\n",
    "        else:\n",
    "            return root\n",
    "        \n",
    "def min(root):\n",
    "    return min_node(root).val\n",
    "    "
   ]
  },
  {
   "cell_type": "code",
   "execution_count": 11,
   "metadata": {},
   "outputs": [
    {
     "data": {
      "text/plain": [
       "1"
      ]
     },
     "execution_count": 11,
     "metadata": {},
     "output_type": "execute_result"
    }
   ],
   "source": [
    "min(R)"
   ]
  },
  {
   "cell_type": "code",
   "execution_count": 12,
   "metadata": {},
   "outputs": [],
   "source": [
    "def delete_min(root):\n",
    "    if root == None:\n",
    "        raise RuntimeError(\"\")\n",
    "    else:\n",
    "        if root.left:\n",
    "            root.left = delete_min(root.left)\n",
    "            return root\n",
    "        else:\n",
    "            return root.right"
   ]
  },
  {
   "cell_type": "code",
   "execution_count": 13,
   "metadata": {},
   "outputs": [
    {
     "name": "stdout",
     "output_type": "stream",
     "text": [
      "3 5 6 7 8 9 \n",
      "5 6 7 8 9 \n",
      "6 7 8 9 \n",
      "7 8 9 \n",
      "8 9 \n",
      "9 \n",
      "\n"
     ]
    }
   ],
   "source": [
    "while R:\n",
    "    R = delete_min(R)\n",
    "    parcours_symetrique(R)\n",
    "    print()"
   ]
  },
  {
   "cell_type": "code",
   "execution_count": 14,
   "metadata": {},
   "outputs": [],
   "source": [
    "def delete(root,val):\n",
    "    if root:\n",
    "        if val < root.val:\n",
    "            root.left = delete(root.left,val)\n",
    "        elif val > root.val:\n",
    "            root.right = delete(root.right,val)\n",
    "        else: # val found, delete root\n",
    "            if root.left == None:\n",
    "                return root.right\n",
    "            elif root.right == None:\n",
    "                return root.left\n",
    "            else:\n",
    "                n = min_node(root.right)\n",
    "                delete_min(root.right)\n",
    "                n.left = root.left\n",
    "                n.right = root.right\n",
    "                return n\n",
    "    return root    "
   ]
  },
  {
   "cell_type": "code",
   "execution_count": 15,
   "metadata": {},
   "outputs": [
    {
     "name": "stdout",
     "output_type": "stream",
     "text": [
      " 5\n",
      "   3\n",
      "     1\n",
      "       -\n",
      "       -\n",
      "     -\n",
      "   7\n",
      "     6\n",
      "       -\n",
      "       -\n",
      "     9\n",
      "       8\n",
      "         -\n",
      "         -\n",
      "       -\n"
     ]
    }
   ],
   "source": [
    "T = [ 5, 3, 7, 6, 3, 9, 1, 8, 1 ]\n",
    "\n",
    "R = None\n",
    "for t in T:\n",
    "    R = insert(R,t)\n",
    "    \n",
    "display(R,0)"
   ]
  },
  {
   "cell_type": "code",
   "execution_count": 16,
   "metadata": {},
   "outputs": [
    {
     "name": "stdout",
     "output_type": "stream",
     "text": [
      " 5\n",
      "   3\n",
      "     1\n",
      "       -\n",
      "       -\n",
      "     -\n",
      "   8\n",
      "     6\n",
      "       -\n",
      "       -\n",
      "     9\n",
      "       -\n",
      "       -\n"
     ]
    }
   ],
   "source": [
    "R = delete(R,7)\n",
    "display(R,0)"
   ]
  },
  {
   "cell_type": "code",
   "execution_count": 17,
   "metadata": {},
   "outputs": [],
   "source": [
    "class BST(object):\n",
    "    def __init__(self):\n",
    "        self.root = None\n",
    "        \n",
    "    def insert(self,val):\n",
    "        self.root = insert(self.root,val)\n",
    "    \n",
    "    def display(self):\n",
    "        parcours_symetrique(self.root)"
   ]
  },
  {
   "cell_type": "code",
   "execution_count": 18,
   "metadata": {},
   "outputs": [
    {
     "name": "stdout",
     "output_type": "stream",
     "text": [
      "1 3 5 6 7 8 9 "
     ]
    }
   ],
   "source": [
    "bst = BST()\n",
    "for t in T:\n",
    "    bst.insert(t)\n",
    "bst.display()"
   ]
  },
  {
   "cell_type": "code",
   "execution_count": null,
   "metadata": {},
   "outputs": [],
   "source": []
  }
 ],
 "metadata": {
  "kernelspec": {
   "display_name": "Python 3",
   "language": "python",
   "name": "python3"
  },
  "language_info": {
   "codemirror_mode": {
    "name": "ipython",
    "version": 3
   },
   "file_extension": ".py",
   "mimetype": "text/x-python",
   "name": "python",
   "nbconvert_exporter": "python",
   "pygments_lexer": "ipython3",
   "version": "3.6.5"
  }
 },
 "nbformat": 4,
 "nbformat_minor": 2
}
