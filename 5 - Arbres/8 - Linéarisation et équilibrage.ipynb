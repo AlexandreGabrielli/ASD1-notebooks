{
 "cells": [
  {
   "cell_type": "markdown",
   "metadata": {
    "slideshow": {
     "slide_type": "slide"
    }
   },
   "source": [
    "# Linéarisation et équilibrage <BR> d'un arbre binaire de recherche"
   ]
  },
  {
   "cell_type": "markdown",
   "metadata": {
    "slideshow": {
     "slide_type": "slide"
    }
   },
   "source": [
    "## Principe\n",
    "\n",
    "La complexité des opérations sur un ABR est $\\Theta(p)$ avec $p$ la profondeur du noeud cherché/ajouté/modifié/supprimé. \n",
    "\n",
    "Pour être efficace, l’arbre doit être suffisamment équilibré pour que sa hauteur soit de l’ordre de $\\Theta(\\log n)$. Trois approches sont possibles:\n",
    "\n",
    "* équilibrage de tout l’arbre sur demande (ASD1) \n",
    "\n",
    "\n",
    "* re-équilibrage automatique lors de chaque modification (ASD2) \n",
    "    * AVL, rouge-noir, Andersson\n",
    "\n",
    "\n",
    "* arbres parfaitement équilibrés par construction, mais à nombre de fils variable par noeud (ASD2) \n",
    "    * arbres 2-3, 2-3-4, B-arbres"
   ]
  },
  {
   "cell_type": "markdown",
   "metadata": {
    "slideshow": {
     "slide_type": "subslide"
    }
   },
   "source": [
    "Dans ce cours, nous voyons comment équilibrer a posteriori l'arbre vu précédemment"
   ]
  },
  {
   "cell_type": "code",
   "execution_count": 1,
   "metadata": {
    "slideshow": {
     "slide_type": "skip"
    }
   },
   "outputs": [],
   "source": [
    "import include.helpers as h"
   ]
  },
  {
   "cell_type": "code",
   "execution_count": 2,
   "metadata": {},
   "outputs": [],
   "source": [
    "class Noeud:\n",
    "    def __init__(self,val):\n",
    "        self.clef = val\n",
    "        self.gauche = None\n",
    "        self.droite = None   \n",
    "    def __str__(self): \n",
    "        return \"{}\".format(self.clef)\n",
    "    \n",
    "def inserer(R,val):\n",
    "    if R == None:      R = Noeud(val)      \n",
    "    elif val < R.clef: R.gauche = inserer(R.gauche,val)    \n",
    "    elif val > R.clef: R.droite = inserer(R.droite,val)\n",
    "    else:              pass\n",
    "    return R"
   ]
  },
  {
   "cell_type": "markdown",
   "metadata": {
    "slideshow": {
     "slide_type": "subslide"
    }
   },
   "source": [
    "La technique choisie consiste à modifier deux fois la structure de l'arbre\n",
    "\n",
    "* Premièrement, le **linéariser** \n",
    "    * i.e. en faire un ABR dégénéré dont tous les enfants gauches sont absents. \n",
    "    * Il est alors équivalent à une liste simplement chainée triée.\n",
    "    * on en profite pour compter le nombre d'éléments"
   ]
  },
  {
   "cell_type": "markdown",
   "metadata": {
    "slideshow": {
     "slide_type": "fragment"
    }
   },
   "source": [
    "* Deuxièmement, l'**arboriser**\n",
    "    * i.e. transformer cette liste triée en arbre équilibré\n",
    "    * la racine en est l'élément médian\n",
    "    * le sous-arbre gauche la première partie de la liste\n",
    "    * le sous-arbre droit le second partie"
   ]
  },
  {
   "cell_type": "markdown",
   "metadata": {
    "slideshow": {
     "slide_type": "slide"
    }
   },
   "source": [
    "## Linéarisation\n",
    "\n",
    "L'algorithme de linéarisation prend l'arbre `R` en entrée. En sortie, il \n",
    "\n",
    "* ré-organise l'ABR pour qu'il n'aie aucun enfant gauche\n",
    "* en retourne la racine `L`\n",
    "* compte le nombre d'éléments `n`\n",
    "\n",
    "L'arbre réorganisé `L` est topologiquement équivalent à une liste simplement chainée. Le plus simple est donc d'y insérer les éléments en tête, et donc du plus grand au plus petit. \n",
    "\n",
    "Il faut donc effectuer un **parcours décroissant** de l'arbre `R`: `R.droite`, puis `R`, puis `R.gauche`"
   ]
  },
  {
   "cell_type": "code",
   "execution_count": 3,
   "metadata": {
    "slideshow": {
     "slide_type": "subslide"
    }
   },
   "outputs": [],
   "source": [
    "# Entrées: arbre de racine R\n",
    "#          liste L en cours de création, \n",
    "#          nombre n d'éléments dans L  \n",
    "# Sorties: L et n mis à jour par l'ajout de R et de ses descendants\n",
    "\n",
    "def lineariser(R, L = None, n = 0):\n",
    "    if R == None: return L, n\n",
    "\n",
    "    L, n = lineariser(R.droite, L, n)\n",
    "        \n",
    "    R.droite = L   # ajouter R en tête de liste L\n",
    "    L = R        \n",
    "    n += 1\n",
    "    \n",
    "    L, n = lineariser(R.gauche, L, n)\n",
    "    R.gauche = None\n",
    "    \n",
    "    return L, n"
   ]
  },
  {
   "cell_type": "markdown",
   "metadata": {
    "slideshow": {
     "slide_type": "subslide"
    }
   },
   "source": [
    "Voyons l'effet de cette fonction sur l'arbre suivant"
   ]
  },
  {
   "cell_type": "code",
   "execution_count": 4,
   "metadata": {
    "slideshow": {
     "slide_type": "-"
    }
   },
   "outputs": [
    {
     "data": {
      "image/png": "[encoded data removed]",
      "text/plain": [
       "<IPython.core.display.Image object>"
      ]
     },
     "metadata": {},
     "output_type": "display_data"
    }
   ],
   "source": [
    "T = [ 5, 3, 2, 8, 6, 4, 1, 7 ]; R = None;\n",
    "for t in T: R = inserer(R,t)\n",
    "h.afficher_arbre_binaire(R)"
   ]
  },
  {
   "cell_type": "code",
   "execution_count": 5,
   "metadata": {
    "slideshow": {
     "slide_type": "-"
    }
   },
   "outputs": [],
   "source": [
    "L, n = lineariser(R.droite,None,0)"
   ]
  },
  {
   "cell_type": "code",
   "execution_count": 6,
   "metadata": {
    "slideshow": {
     "slide_type": "subslide"
    }
   },
   "outputs": [
    {
     "data": {
      "image/png": "[encoded data removed]",
      "text/plain": [
       "<IPython.core.display.Image object>"
      ]
     },
     "metadata": {},
     "output_type": "display_data"
    }
   ],
   "source": [
    "# L, n = lineariser(R.droite,None,0)\n",
    "h.afficher_arbre_binaire(L)"
   ]
  },
  {
   "cell_type": "code",
   "execution_count": 7,
   "metadata": {},
   "outputs": [
    {
     "data": {
      "image/png": "[encoded data removed]",
      "text/plain": [
       "<IPython.core.display.Image object>"
      ]
     },
     "metadata": {},
     "output_type": "display_data"
    }
   ],
   "source": [
    "h.afficher_arbre_binaire(R)"
   ]
  },
  {
   "cell_type": "code",
   "execution_count": 8,
   "metadata": {},
   "outputs": [],
   "source": [
    "R.droite = L; L = R; n += 1"
   ]
  },
  {
   "cell_type": "code",
   "execution_count": 9,
   "metadata": {
    "slideshow": {
     "slide_type": "subslide"
    }
   },
   "outputs": [
    {
     "data": {
      "image/png": "[encoded data removed]",
      "text/plain": [
       "<IPython.core.display.Image object>"
      ]
     },
     "metadata": {},
     "output_type": "display_data"
    }
   ],
   "source": [
    "# R.droite = L; L = R; n += 1\n",
    "h.afficher_arbre_binaire(R) "
   ]
  },
  {
   "cell_type": "code",
   "execution_count": 10,
   "metadata": {
    "slideshow": {
     "slide_type": "-"
    }
   },
   "outputs": [],
   "source": [
    "L, n = lineariser(R.gauche, L, n); R.gauche = None"
   ]
  },
  {
   "cell_type": "code",
   "execution_count": 11,
   "metadata": {
    "slideshow": {
     "slide_type": "subslide"
    }
   },
   "outputs": [
    {
     "name": "stdout",
     "output_type": "stream",
     "text": [
      "Il y a 8 éléments\n"
     ]
    },
    {
     "data": {
      "image/png": "[encoded data removed]",
      "text/plain": [
       "<IPython.core.display.Image object>"
      ]
     },
     "metadata": {},
     "output_type": "display_data"
    }
   ],
   "source": [
    "# L, n = lineariser(R.gauche, L, n); R.gauche = None\n",
    "print(\"Il y a\",n,\"éléments\")\n",
    "h.afficher_arbre_binaire(L)"
   ]
  },
  {
   "cell_type": "markdown",
   "metadata": {
    "slideshow": {
     "slide_type": "slide"
    }
   },
   "source": [
    "## Arborisation\n",
    "\n",
    "L'algorithme d'arborisation prend en entrée\n",
    "\n",
    "* l'ABR dégénéré `L` dont tous les enfants gauches sont absents\n",
    "* le nombre `n` d'éléments de `L`\n",
    "\n",
    "il le réorganise pour que \n",
    "\n",
    "* l'élément médian en devienne la racine\n",
    "* le sous arbre gauche arborise la première partie de la liste\n",
    "* le sous arbre droit arborise la seconde partie de la liste"
   ]
  },
  {
   "cell_type": "markdown",
   "metadata": {
    "slideshow": {
     "slide_type": "subslide"
    }
   },
   "source": [
    "Comme on ne peut parcourir la liste que dans l'ordre\n",
    "* on arborise d'abord à droite, puis la racine, puis à gauche, comme dans un **parcours croissant**\n",
    "* l'arborisation retourne la partie de la liste qu'elle n'a pas \"consommée\"."
   ]
  },
  {
   "cell_type": "code",
   "execution_count": 12,
   "metadata": {},
   "outputs": [],
   "source": [
    "def arboriser(L,n):\n",
    "    if n == 0: return None, L\n",
    "        \n",
    "    RG, L = arboriser(L,(n-1)//2)\n",
    "    \n",
    "    R = L\n",
    "    R.gauche = RG\n",
    "    L = L.droite\n",
    "    \n",
    "    R.droite , L = arboriser(L,n//2)\n",
    "    return R, L"
   ]
  },
  {
   "cell_type": "markdown",
   "metadata": {
    "slideshow": {
     "slide_type": "subslide"
    }
   },
   "source": [
    "Visualisons le résultat sur notre arbre précédemment linéarisé"
   ]
  },
  {
   "cell_type": "code",
   "execution_count": 13,
   "metadata": {},
   "outputs": [
    {
     "data": {
      "image/png": "[encoded data removed]",
      "text/plain": [
       "<IPython.core.display.Image object>"
      ]
     },
     "metadata": {},
     "output_type": "display_data"
    }
   ],
   "source": [
    "h.afficher_arbre_binaire(L)"
   ]
  },
  {
   "cell_type": "code",
   "execution_count": 14,
   "metadata": {},
   "outputs": [],
   "source": [
    "RG , L = arboriser(L,(n-1)//2)"
   ]
  },
  {
   "cell_type": "code",
   "execution_count": 15,
   "metadata": {
    "slideshow": {
     "slide_type": "subslide"
    }
   },
   "outputs": [
    {
     "name": "stdout",
     "output_type": "stream",
     "text": [
      "3\n"
     ]
    },
    {
     "data": {
      "image/png": "[encoded data removed]",
      "text/plain": [
       "<IPython.core.display.Image object>"
      ]
     },
     "metadata": {},
     "output_type": "display_data"
    }
   ],
   "source": [
    "print((n-1)//2); h.afficher_arbre_binaire(RG)"
   ]
  },
  {
   "cell_type": "code",
   "execution_count": 16,
   "metadata": {},
   "outputs": [
    {
     "data": {
      "image/png": "[encoded data removed]",
      "text/plain": [
       "<IPython.core.display.Image object>"
      ]
     },
     "metadata": {},
     "output_type": "display_data"
    }
   ],
   "source": [
    "h.afficher_arbre_binaire(L)"
   ]
  },
  {
   "cell_type": "code",
   "execution_count": 17,
   "metadata": {},
   "outputs": [],
   "source": [
    "R = L; R.gauche = RG; L = L.droite"
   ]
  },
  {
   "cell_type": "code",
   "execution_count": 18,
   "metadata": {
    "slideshow": {
     "slide_type": "subslide"
    }
   },
   "outputs": [
    {
     "data": {
      "image/png": "[encoded data removed]",
      "text/plain": [
       "<IPython.core.display.Image object>"
      ]
     },
     "metadata": {},
     "output_type": "display_data"
    }
   ],
   "source": [
    "# R = L; R.gauche = RG; L = L.droite\n",
    "h.afficher_arbre_binaire(R)\n",
    "# L pointe vers l'élément de clef 5"
   ]
  },
  {
   "cell_type": "code",
   "execution_count": 19,
   "metadata": {},
   "outputs": [],
   "source": [
    "R.droite , L = arboriser(L,n//2)"
   ]
  },
  {
   "cell_type": "code",
   "execution_count": 20,
   "metadata": {
    "slideshow": {
     "slide_type": "subslide"
    }
   },
   "outputs": [
    {
     "name": "stdout",
     "output_type": "stream",
     "text": [
      "4\n"
     ]
    },
    {
     "data": {
      "image/png": "[encoded data removed]",
      "text/plain": [
       "<IPython.core.display.Image object>"
      ]
     },
     "metadata": {},
     "output_type": "display_data"
    },
    {
     "name": "stdout",
     "output_type": "stream",
     "text": [
      "None\n"
     ]
    }
   ],
   "source": [
    "# R.droite , L = arboriser(L,n//2)\n",
    "print(n//2)\n",
    "h.afficher_arbre_binaire(R)\n",
    "print(L)"
   ]
  },
  {
   "cell_type": "markdown",
   "metadata": {
    "slideshow": {
     "slide_type": "slide"
    }
   },
   "source": [
    "## Equilibrage\n",
    "\n",
    "L'opération d'équilibrage consiste simplement à réaliser linéarisation puis arborisation"
   ]
  },
  {
   "cell_type": "code",
   "execution_count": 21,
   "metadata": {},
   "outputs": [],
   "source": [
    "def equilibrer(R):\n",
    "    L, n = lineariser(R) \n",
    "    A, L = arboriser(L,n)\n",
    "    return A"
   ]
  },
  {
   "cell_type": "markdown",
   "metadata": {
    "slideshow": {
     "slide_type": "-"
    }
   },
   "source": [
    "Visualisons-le sur un arbre semi-aléatoire"
   ]
  },
  {
   "cell_type": "code",
   "execution_count": 22,
   "metadata": {
    "slideshow": {
     "slide_type": "subslide"
    }
   },
   "outputs": [
    {
     "data": {
      "image/png": "[encoded data removed]",
      "text/plain": [
       "<IPython.core.display.Image object>"
      ]
     },
     "metadata": {},
     "output_type": "display_data"
    }
   ],
   "source": [
    "R = None\n",
    "for t in range(15): R = inserer(R,1+(7+t*11)%15)\n",
    "h.afficher_arbre_binaire(R)"
   ]
  },
  {
   "cell_type": "code",
   "execution_count": 23,
   "metadata": {
    "slideshow": {
     "slide_type": "subslide"
    }
   },
   "outputs": [
    {
     "data": {
      "image/png": "[encoded data removed]",
      "text/plain": [
       "<IPython.core.display.Image object>"
      ]
     },
     "metadata": {},
     "output_type": "display_data"
    }
   ],
   "source": [
    "R = equilibrer(R)\n",
    "h.afficher_arbre_binaire(R)"
   ]
  },
  {
   "cell_type": "markdown",
   "metadata": {
    "slideshow": {
     "slide_type": "slide"
    }
   },
   "source": [
    "## Quand équilibrer ?\n",
    "\n",
    "Il faut équilibrer l'arbre quand sa hauteur devient excessive.\n",
    "\n",
    "Calculer la hauteur est opération de complexité $\\Theta(n)$. Il est exclus de le faire à chaque opération.\n",
    "\n",
    "Ce n'est pas nécessaire. L'opération d'insertion peut nous retourner la profondeur à laquelle elle a inséré l'élément. Si elle est excessive, il faut équilibrer. "
   ]
  },
  {
   "cell_type": "code",
   "execution_count": 24,
   "metadata": {},
   "outputs": [],
   "source": [
    "def inserer(R,val):\n",
    "    H = 0\n",
    "    if R == None:      R = Noeud(val);        \n",
    "    elif val < R.clef: R.gauche, H = inserer(R.gauche,val)    \n",
    "    elif val > R.clef: R.droite, H = inserer(R.droite,val)\n",
    "    else:              pass\n",
    "    return R, H + 1"
   ]
  },
  {
   "cell_type": "markdown",
   "metadata": {
    "slideshow": {
     "slide_type": "subslide"
    }
   },
   "source": [
    "Par exemple, si l'on veut limiter la profondeur à 3 fois le logarithme de la taille de l'arbre, on pourrait écrire"
   ]
  },
  {
   "cell_type": "code",
   "execution_count": 25,
   "metadata": {
    "slideshow": {
     "slide_type": "-"
    }
   },
   "outputs": [
    {
     "name": "stdout",
     "output_type": "stream",
     "text": [
      "equilibrer @ i =  0\n",
      "equilibrer @ i =  4\n",
      "equilibrer @ i =  8\n",
      "equilibrer @ i =  12\n"
     ]
    }
   ],
   "source": [
    "import numpy as np\n",
    "R = None; tailleR = 0\n",
    "for i in range(0,16):\n",
    "    R, H = inserer(R,i); tailleR+= 1\n",
    "    if H > 3 * np.log(tailleR):\n",
    "        print(\"equilibrer @ i = \",i)\n",
    "        R = equilibrer(R)"
   ]
  },
  {
   "cell_type": "code",
   "execution_count": 26,
   "metadata": {
    "slideshow": {
     "slide_type": "subslide"
    }
   },
   "outputs": [
    {
     "data": {
      "image/png": "[encoded data removed]",
      "text/plain": [
       "<IPython.core.display.Image object>"
      ]
     },
     "metadata": {},
     "output_type": "display_data"
    }
   ],
   "source": [
    "h.afficher_arbre_binaire(R)"
   ]
  },
  {
   "cell_type": "markdown",
   "metadata": {
    "slideshow": {
     "slide_type": "slide"
    }
   },
   "source": [
    "En conclusion, **linéariser** un ABR\n",
    "\n",
    "* le réorganise en ABR dégénéré sans enfant gauche\n",
    "* sans créer ni effacer de noeuds\n",
    "* compte le nombre de ses éléments\n",
    "* effectue un parcours décroissant, de complexité $\\Theta(n)$"
   ]
  },
  {
   "cell_type": "markdown",
   "metadata": {
    "slideshow": {
     "slide_type": "fragment"
    }
   },
   "source": [
    "**Arboriser** cet ABR dégénéré \n",
    "\n",
    "* le réorganise  en ABR équilibré\n",
    "* dont la racine est l'élément médian, et récursivement\n",
    "* sans créer ni effacer de noeuds\n",
    "* effectue un parcours croissant, de complexité $\\Theta(n)$"
   ]
  },
  {
   "cell_type": "markdown",
   "metadata": {
    "slideshow": {
     "slide_type": "fragment"
    }
   },
   "source": [
    "Les techniques que vous étudierez en ASD2 sont plus efficaces"
   ]
  },
  {
   "cell_type": "markdown",
   "metadata": {
    "slideshow": {
     "slide_type": "slide"
    }
   },
   "source": [
    "<table style=\"width: 100%; border: 0px\">\n",
    "<tr style=\"background-color:white; border:0px\">\n",
    "<td style=\"width: 120px; border: 0px\">\n",
    "    <img src=\"https://heig-vd.ch/ResourcePackages/WhiteFox/assets/images/logo-heig-vd.svg\" height=200px align=left >\n",
    "    </td>\n",
    "    <td style=\"vertical-align: middle; border: 0px\" height=200px>\n",
    "    <p style=\"text-align: left\">\n",
    "        <a href=\"https://ocuisenaire.github.io/ASD1-notebooks/\">ASD1 Notebooks on GitHub.io</a>\n",
    " </p>        \n",
    "<p style=\"text-align: left\">\n",
    "© Olivier Cuisenaire, 2018 </p>\n",
    "</td>\n",
    "</tr>\n",
    "</table>"
   ]
  },
  {
   "cell_type": "raw",
   "metadata": {},
   "source": [
    "<style type=\"text/css\">\n",
    ".reveal {\n",
    "font-size: 200%;\n",
    "}</style>"
   ]
  }
 ],
 "metadata": {
  "celltoolbar": "Slideshow",
  "kernelspec": {
   "display_name": "Python 3",
   "language": "python",
   "name": "python3"
  },
  "language_info": {
   "codemirror_mode": {
    "name": "ipython",
    "version": 3
   },
   "file_extension": ".py",
   "mimetype": "text/x-python",
   "name": "python",
   "nbconvert_exporter": "python",
   "pygments_lexer": "ipython3",
   "version": "3.6.5"
  }
 },
 "nbformat": 4,
 "nbformat_minor": 2
}
