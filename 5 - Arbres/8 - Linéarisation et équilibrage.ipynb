{
 "cells": [
  {
   "cell_type": "markdown",
   "metadata": {},
   "source": [
    "# Linéarisation et équilibrage d'un ABR"
   ]
  },
  {
   "cell_type": "code",
   "execution_count": 2,
   "metadata": {},
   "outputs": [],
   "source": [
    "class Node:\n",
    "    def __init__(self,val):\n",
    "        self.val = val\n",
    "        self.droite = None\n",
    "        self.gauche = None"
   ]
  },
  {
   "cell_type": "code",
   "execution_count": 4,
   "metadata": {},
   "outputs": [],
   "source": [
    "def linearisation(racine):\n",
    "    if racine == None:\n",
    "        return None, None, 0\n",
    "    tete, queue, cnt = linearisation(racine.gauche)\n",
    "    \n",
    "    if cnt == 0:\n",
    "        tete = queue = racine\n",
    "    else:\n",
    "        queue.droite = racine\n",
    "        queue = queue.droite\n",
    "    cnt += 1\n",
    "    \n",
    "    t2,q2,cnt2 = linearisation(racine.droite)\n",
    "    queue.droite = t2\n",
    "    queue = q2\n",
    "    cnt += cnt2\n",
    "    \n",
    "    return tete, queue, cnt"
   ]
  },
  {
   "cell_type": "code",
   "execution_count": null,
   "metadata": {},
   "outputs": [],
   "source": []
  }
 ],
 "metadata": {
  "kernelspec": {
   "display_name": "Python 3",
   "language": "python",
   "name": "python3"
  },
  "language_info": {
   "codemirror_mode": {
    "name": "ipython",
    "version": 3
   },
   "file_extension": ".py",
   "mimetype": "text/x-python",
   "name": "python",
   "nbconvert_exporter": "python",
   "pygments_lexer": "ipython3",
   "version": "3.6.5"
  }
 },
 "nbformat": 4,
 "nbformat_minor": 2
}
