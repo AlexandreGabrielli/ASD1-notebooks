{
 "cells": [
  {
   "cell_type": "markdown",
   "metadata": {
    "slideshow": {
     "slide_type": "slide"
    }
   },
   "source": [
    "# Le Type de Donnée Abstrait<BR>Carte (Map)"
   ]
  },
  {
   "cell_type": "code",
   "execution_count": 1,
   "metadata": {
    "slideshow": {
     "slide_type": "skip"
    }
   },
   "outputs": [],
   "source": [
    "import include.helpers as h"
   ]
  },
  {
   "cell_type": "code",
   "execution_count": 13,
   "metadata": {},
   "outputs": [],
   "source": [
    "class Noeud:\n",
    "    def __init__(self,clef,valeur):\n",
    "        self.clef = clef\n",
    "        self.valeur = valeur\n",
    "        self.gauche = None\n",
    "        self.droite = None   \n",
    "    def __str__(self): \n",
    "        return \"{}-{}\".format(self.clef,self.valeur)\n",
    "    \n",
    "def inserer(R,clef,valeur):\n",
    "    if R == None:      R = Noeud(clef,valeur)      \n",
    "    elif clef < R.clef: R.gauche = inserer(R.gauche,clef,valeur)    \n",
    "    elif clef > R.clef: R.droite = inserer(R.droite,clef,valeur)\n",
    "    else:              pass\n",
    "    return R\n",
    "\n",
    "def chercher(R,clef):\n",
    "    if R == None:      return None      \n",
    "    elif clef < R.clef: return chercher(R.gauche,clef)    \n",
    "    elif clef > R.clef: return chercher(R.droite,clef)\n",
    "    else:              return R\n",
    "\n",
    "def creer_ABR(T):\n",
    "    R = None\n",
    "    for (clef,valeur) in T: R = inserer(R,clef,valeur)\n",
    "    return R"
   ]
  },
  {
   "cell_type": "code",
   "execution_count": 16,
   "metadata": {},
   "outputs": [],
   "source": [
    "class Carte:\n",
    "    def __init__(self,T = []):\n",
    "        self.R = creer_ABR(T)\n",
    "        self.taille = len(T)\n",
    "    def __setitem__(self,clef,valeur):\n",
    "        self.R = inserer(self.R,clef,valeur)\n",
    "    def __getitem__(self,clef):\n",
    "        n = chercher(self.R,clef)\n",
    "        if n: return n.valeur\n",
    "        else: raise IndexError()"
   ]
  },
  {
   "cell_type": "code",
   "execution_count": 19,
   "metadata": {},
   "outputs": [
    {
     "name": "stdout",
     "output_type": "stream",
     "text": [
      "1\n"
     ]
    }
   ],
   "source": [
    "C = Carte()\n",
    "C[\"Hello\"] = 1\n",
    "C[\"World\"] = 2\n",
    "C[\"!\"] = 3\n",
    "C[\"ASD\"] = 4\n",
    "print(C[\"Hello\"])"
   ]
  },
  {
   "cell_type": "markdown",
   "metadata": {},
   "source": [
    "<table style=\"width: 100%; border: 0px\">\n",
    "<tr style=\"background-color:white; border:0px\">\n",
    "<td style=\"width: 120px; border: 0px\">\n",
    "    <img src=\"https://heig-vd.ch/ResourcePackages/WhiteFox/assets/images/logo-heig-vd.svg\" height=200px align=left >\n",
    "    </td>\n",
    "    <td style=\"vertical-align: middle; border: 0px\" height=200px>\n",
    "    <p style=\"text-align: left\">\n",
    "        <a href=\"https://ocuisenaire.github.io/ASD1-notebooks/\">ASD1 Notebooks on GitHub.io</a>\n",
    " </p>        \n",
    "<p style=\"text-align: left\">\n",
    "© Olivier Cuisenaire, 2018 </p>\n",
    "</td>\n",
    "</tr>\n",
    "</table>"
   ]
  },
  {
   "cell_type": "raw",
   "metadata": {},
   "source": [
    "<style type=\"text/css\">\n",
    ".reveal {\n",
    "font-size: 200%;\n",
    "}</style>"
   ]
  }
 ],
 "metadata": {
  "celltoolbar": "Slideshow",
  "kernelspec": {
   "display_name": "Python 3",
   "language": "python",
   "name": "python3"
  },
  "language_info": {
   "codemirror_mode": {
    "name": "ipython",
    "version": 3
   },
   "file_extension": ".py",
   "mimetype": "text/x-python",
   "name": "python",
   "nbconvert_exporter": "python",
   "pygments_lexer": "ipython3",
   "version": "3.6.5"
  }
 },
 "nbformat": 4,
 "nbformat_minor": 2
}
