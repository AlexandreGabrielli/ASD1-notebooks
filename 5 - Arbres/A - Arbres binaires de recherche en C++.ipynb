{
 "cells": [
  {
   "cell_type": "markdown",
   "metadata": {},
   "source": [
    "# Arbres binaires de recherche en C++"
   ]
  },
  {
   "cell_type": "code",
   "execution_count": 1,
   "metadata": {},
   "outputs": [
    {
     "name": "stdout",
     "output_type": "stream",
     "text": [
      " bdejlmnoru"
     ]
    }
   ],
   "source": [
    "#include <iostream>\n",
    "#include <string>\n",
    "#include <set>\n",
    "#include <algorithm>\n",
    "#include <vector>    \n",
    "\n",
    "std::string hello = \"bonjour le monde\";\n",
    "std::set<char> s;\n",
    "\n",
    "for(char c : hello)\n",
    "    s.insert(c);\n",
    "\n",
    "for(char c : s)\n",
    "    std::cout << c;"
   ]
  },
  {
   "cell_type": "markdown",
   "metadata": {},
   "source": [
    "Complexité constructeur:\n",
    "\n",
    "* Constant for the empty constructors (1), and for the move constructors (4) \n",
    "* For all other cases, linear in the distance between the iterators (copy constructions) if the elements are already sorted according to the same criterion. \n",
    "* For unsorted sequences, linearithmic (N*logN) in that distance (sorting,copy constructions)."
   ]
  },
  {
   "cell_type": "code",
   "execution_count": 2,
   "metadata": {},
   "outputs": [
    {
     "name": "stdout",
     "output_type": "stream",
     "text": [
      "m[ ]=10\n",
      "m[b]=0\n",
      "m[d]=14\n",
      "m[e]=15\n",
      "m[j]=3\n",
      "m[l]=8\n",
      "m[m]=11\n",
      "m[n]=13\n",
      "m[o]=12\n",
      "m[r]=6\n",
      "m[u]=5\n"
     ]
    }
   ],
   "source": [
    "#include <iostream>\n",
    "#include <map>\n",
    "\n",
    "std::map<char,size_t> m;\n",
    "\n",
    "size_t i = 0;\n",
    "for(char c : hello)\n",
    "    m[c] = i++;\n",
    "\n",
    "for(auto p : m)\n",
    "    std::cout << \"m[\" << p.first << \"]=\" << p.second << \"\\n\";"
   ]
  },
  {
   "cell_type": "code",
   "execution_count": 3,
   "metadata": {},
   "outputs": [
    {
     "name": "stdout",
     "output_type": "stream",
     "text": [
      "11\n",
      "m[a]=0\n",
      "m[b]=0\n",
      "m[c]=0\n",
      "m[d]=14\n",
      "m[e]=15\n",
      "13\n"
     ]
    }
   ],
   "source": [
    "std::cout << m.size() << \"\\n\"; \n",
    "\n",
    "for(char c = 'a'; c <= 'e'; ++c)\n",
    "    std::cout << \"m[\" << c << \"]=\" << m[c] << \"\\n\";\n",
    "\n",
    "std::cout << m.size() << \"\\n\";"
   ]
  },
  {
   "cell_type": "code",
   "execution_count": 4,
   "metadata": {},
   "outputs": [
    {
     "name": "stdout",
     "output_type": "stream",
     "text": [
      "13\n",
      "m[i] est absent\n",
      "m[j]=3\n",
      "m[k] est absent\n",
      "m[l]=8\n",
      "m[m]=11\n",
      "13\n"
     ]
    }
   ],
   "source": [
    "std::cout << m.size() << \"\\n\"; \n",
    "\n",
    "for(char c = 'i'; c <= 'm'; ++c)\n",
    "    if(m.find(c) != m.end())\n",
    "        std::cout << \"m[\" << c << \"]=\" << m[c] << \"\\n\";\n",
    "    else \n",
    "        std::cout << \"m[\" << c << \"] est absent\\n\";\n",
    "\n",
    "\n",
    "std::cout << m.size() << \"\\n\";"
   ]
  },
  {
   "cell_type": "code",
   "execution_count": 5,
   "metadata": {},
   "outputs": [],
   "source": [
    "template <class InputIterator>\n",
    "std::string convert_to_string(InputIterator first, InputIterator last) {\n",
    "    std::string s = \"[ \";\n",
    "    while( first != last ) {\n",
    "        s += std::to_string(*first);\n",
    "        if( next(first) != last )\n",
    "            s += \", \";\n",
    "        ++first;\n",
    "    }\n",
    "    s += \"]\";\n",
    "    return s;\n",
    "} "
   ]
  },
  {
   "cell_type": "code",
   "execution_count": 6,
   "metadata": {},
   "outputs": [],
   "source": [
    "template <class InputIterator1, class InputIterator2, class OutputIterator>\n",
    "  OutputIterator set_union (InputIterator1 first1, InputIterator1 last1,\n",
    "                            InputIterator2 first2, InputIterator2 last2,\n",
    "                            OutputIterator result)\n",
    "{\n",
    "  while (true)\n",
    "  {\n",
    "    if (first1==last1) return std::copy(first2,last2,result);\n",
    "    if (first2==last2) return std::copy(first1,last1,result);\n",
    "\n",
    "    if (*first1<*first2) { *result = *first1; ++first1; }\n",
    "    else if (*first2<*first1) { *result = *first2; ++first2; }\n",
    "    else { *result = *first1; ++first1; ++first2; }\n",
    "    ++result;\n",
    "  }\n",
    "}"
   ]
  },
  {
   "cell_type": "code",
   "execution_count": 7,
   "metadata": {},
   "outputs": [],
   "source": [
    "template <class InputIterator1, class InputIterator2, class OutputIterator>\n",
    "  OutputIterator set_intersection (InputIterator1 first1, InputIterator1 last1,\n",
    "                                   InputIterator2 first2, InputIterator2 last2,\n",
    "                                   OutputIterator result)\n",
    "{\n",
    "  while (first1!=last1 && first2!=last2)\n",
    "  {\n",
    "    if (*first1<*first2) ++first1;\n",
    "    else if (*first2<*first1) ++first2;\n",
    "    else {\n",
    "      *result = *first1;\n",
    "      ++result; ++first1; ++first2;\n",
    "    }\n",
    "  }\n",
    "  return result;\n",
    "}"
   ]
  },
  {
   "cell_type": "code",
   "execution_count": 8,
   "metadata": {},
   "outputs": [],
   "source": [
    "template <class InputIterator1, class InputIterator2, class OutputIterator>\n",
    "  OutputIterator set_difference (InputIterator1 first1, InputIterator1 last1,\n",
    "                                 InputIterator2 first2, InputIterator2 last2,\n",
    "                                 OutputIterator result)\n",
    "{\n",
    "  while (first1!=last1 && first2!=last2)\n",
    "  {\n",
    "    if (*first1<*first2) { *result = *first1; ++result; ++first1; }\n",
    "    else if (*first2<*first1) ++first2;\n",
    "    else { ++first1; ++first2; }\n",
    "  }\n",
    "  return std::copy(first1,last1,result);\n",
    "}"
   ]
  },
  {
   "cell_type": "code",
   "execution_count": 9,
   "metadata": {},
   "outputs": [
    {
     "name": "stdout",
     "output_type": "stream",
     "text": [
      "Union(E1,E2): [ 5, 10, 15, 20, 25, 30, 40, 50]\n",
      "Intersection(E1,E2): [ 10, 20]\n",
      "Difference(E1,E2): [ 5, 15, 25]\n"
     ]
    }
   ],
   "source": [
    "#define ranges(x,y) x.begin(),x.end(),y.begin(),y.end()\n",
    "#define str(x) convert_to_string(x.begin(),x.end())\n",
    "\n",
    "void set_examples () {\n",
    "  std::set<int> E1 = {5,10,15,20,25};\n",
    "  std::set<int> E2 = {50,40,30,20,10};\n",
    "  std::vector<int> U(10), I(10), D(10);  \n",
    "\n",
    "  auto it = std::set_union(ranges(E1,E2),U.begin());\n",
    "  U.resize(it-U.begin());                      \n",
    "  std::cout << \"Union(E1,E2): \" << str(U) << \"\\n\";\n",
    "\n",
    "  it = std::set_intersection(ranges(E1,E2), I.begin());\n",
    "  I.resize(it-I.begin());                      \n",
    "  std::cout << \"Intersection(E1,E2): \" << str(I) << \"\\n\";\n",
    "\n",
    "  it = std::set_difference(ranges(E1,E2), D.begin());\n",
    "  D.resize(it-D.begin());                      \n",
    "  std::cout << \"Difference(E1,E2): \" << str(D) << \"\\n\";\n",
    "}\n",
    "\n",
    "set_examples()"
   ]
  },
  {
   "cell_type": "code",
   "execution_count": null,
   "metadata": {},
   "outputs": [],
   "source": []
  }
 ],
 "metadata": {
  "kernelspec": {
   "display_name": "C++14",
   "language": "C++14",
   "name": "xeus-cling-cpp14"
  },
  "language_info": {
   "codemirror_mode": "text/x-c++src",
   "file_extension": ".cpp",
   "mimetype": "text/x-c++src",
   "name": "c++",
   "version": "-std=c++14"
  }
 },
 "nbformat": 4,
 "nbformat_minor": 2
}
