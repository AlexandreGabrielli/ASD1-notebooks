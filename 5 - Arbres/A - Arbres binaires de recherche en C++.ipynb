{
 "cells": [
  {
   "cell_type": "markdown",
   "metadata": {
    "slideshow": {
     "slide_type": "slide"
    }
   },
   "source": [
    "# Arbres binaires de recherche en C++"
   ]
  },
  {
   "cell_type": "markdown",
   "metadata": {
    "slideshow": {
     "slide_type": "slide"
    }
   },
   "source": [
    "La Standard Template Library utilise les arbres binaires de recherche pour mettre en oeuvre les **conteneurs associatifs** suivants\n",
    "\n",
    "| Conteneur | Description |\n",
    "| :--- | :--- |\n",
    "| [std::set](http://www.cplusplus.com/reference/set/set/) | Ensemble trié d'éléments uniques | \n",
    "| [std::multiset](http://www.cplusplus.com/reference/set/multiset/) | Ensemble trié d'éléments pouvant être présents plusieurs fois |\n",
    "| [std::map](http://www.cplusplus.com/reference/map/map/) | Tableau associatif utiliant des clés triées uniques associées à des valeurs |\n",
    "| [std::multimap](http://www.cplusplus.com/reference/map/multimap/) | Tableau associatif utiliant des clés triées non-uniques associées à des valeurs |\n",
    "\n",
    "Dans tous les cas, les éléments / clés doivent être comparables, soit par l'opérateur `<`, soit par une fonction de comparaison fournie explicitement à la construction. "
   ]
  },
  {
   "cell_type": "markdown",
   "metadata": {
    "slideshow": {
     "slide_type": "subslide"
    }
   },
   "source": [
    "Depuis C++11, ces quatre conteneurs précédés de `unordered_` fournissent les même fonctionnalités - mais sans trier le contenu - au moyen de tables de hachage (cfr. ASD2)\n",
    "\n",
    "* [std::unordered_set](http://www.cplusplus.com/reference/unordered_set/unordered_set/) \n",
    "\n",
    "* [std::unordered_multiset](http://www.cplusplus.com/reference/unordered_set/unordered_multiset/) \n",
    "\n",
    "* [std::unordered_map](http://www.cplusplus.com/reference/unordered_map/unordered_map/)\n",
    "\n",
    "* [std::unordered_multimap](http://www.cplusplus.com/reference/unordered_map/unordered_multimap/) \n",
    "\n",
    "Il n'est pas nécessaire que les éléments soient comparables."
   ]
  },
  {
   "cell_type": "markdown",
   "metadata": {
    "slideshow": {
     "slide_type": "subslide"
    }
   },
   "source": [
    "La STL fournit aussi des fonctions de la librairie `<algorithm>` mettant en oeuvre la théorie des ensembles de Cantor.\n",
    "\n",
    "| Fonction | Description |\n",
    "| :--- | :--- |\n",
    "| [std::set_union](http://www.cplusplus.com/reference/algorithm/set_union/) | $A \\cup B = \\{ x : x \\in A \\lor x \\in B \\}$ |\n",
    "| [std::set_intersection](http://www.cplusplus.com/reference/algorithm/set_intersection/)  | $A \\cap B = \\{ x : x \\in A \\land x \\in B \\}$ |\n",
    "| [std::set_difference](http://www.cplusplus.com/reference/algorithm/set_difference/) | $A \\setminus B = \\{ x : x \\in A \\land x \\notin B \\}$ |\n",
    "| [std::set_symmetric_difference](http://www.cplusplus.com/reference/algorithm/set_symmetric_difference/) | $A \\triangle B = (A \\cup B) \\setminus (A \\cap B)$ |\n",
    "\n",
    "ces fonctions ont besoin d'entrées triées, et ne fonctionnent donc pas avec le conteneur `unordered_set`."
   ]
  },
  {
   "cell_type": "markdown",
   "metadata": {
    "slideshow": {
     "slide_type": "slide"
    }
   },
   "source": [
    "## `std::set`\n",
    "\n",
    "met en oeuvre le TDA ensemble. Les éléments ne peuvent être modifiés, mais seulement insérés ou supprimés. Les opérations sont\n",
    "\n",
    "| Opération | Méthode(s) |\n",
    "| :--- | :--- |\n",
    "| Insertion | `set::insert`<br>`set::emplace`<br>`set::emplace_hint` |\n",
    "| Construction | `set::set` |\n",
    "| Suppression | `set::erase` |\n",
    "| Recherche | `set::find` <br>`set::lower_bound`<br>`set::upper_bound`|\n",
    "| Itération ordonnée | `set::(c)(r)begin`<br>`set::(c)(r)end`|"
   ]
  },
  {
   "cell_type": "markdown",
   "metadata": {
    "slideshow": {
     "slide_type": "subslide"
    }
   },
   "source": [
    "L'**insertion d'un élément** peut se faire selon deux méthodes\n",
    "\n",
    "* `insert (const value_type& val);`\n",
    "    * recherche l'élément en $\\Theta( \\log n)$, \n",
    "    * l'insère s'il est absent, \n",
    "    * retourne `pair<iterator,bool>` dont le second terme indique s'il y a eu insertion, \n",
    "    * et le premier élément est un itérateur vers l'élément trouvé ou inséré.\n",
    "\n",
    "\n",
    "* `insert (const_iterator position, const value_type& val);`\n",
    "    * utilise l'itérateur `position` comme indice,\n",
    "    * a une complexité moyenne $\\Theta(1)$ si l'indice itère sur l'élément précédent `val`.\n",
    "    \n",
    "Il est également possible d'insérer plusieurs éléments à la fois"
   ]
  },
  {
   "cell_type": "markdown",
   "metadata": {
    "slideshow": {
     "slide_type": "subslide"
    }
   },
   "source": [
    "`std::set` dispose des **constructeurs** habituels \n",
    "\n",
    "* par défaut\n",
    "* par déplacement\n",
    "* par copie\n",
    "* depuis une séquence d'éléments ou une liste d'initialisation\n",
    "\n",
    "Les deux premiers sont de complexité constante $\\Theta(1)$.\n",
    "\n",
    "Les autres sont de **complexité** \n",
    "\n",
    "* $\\Theta(n)$, i.e. linéaire si les éléments à insérer sont triés\n",
    "* donc linéaire pour le constructeur de copie\n",
    "* $\\Theta(n \\log n)$ , i.e. linéarithmique sinon"
   ]
  },
  {
   "cell_type": "markdown",
   "metadata": {
    "slideshow": {
     "slide_type": "subslide"
    }
   },
   "source": [
    "La **suppression** se fait au moyen de la méthode `erase`. Sa complexité dépend de l'argument fourni en entrée\n",
    "\n",
    "| Argument | Complexité |\n",
    "| :--- | :--- |\n",
    "| un itérateur | $\\Theta(1)$, constante en moyenne | \n",
    "| une valeur  | $\\Theta(\\log n)$, logarithmique  | \n",
    "| une plage `[first,last[`  | $\\Theta(d)$, linéaire en la distance $d$ entre `first` et `last`  | \n"
   ]
  },
  {
   "cell_type": "markdown",
   "metadata": {
    "slideshow": {
     "slide_type": "subslide"
    }
   },
   "source": [
    "La **recherche** peut se faire via trois méthodes. \n",
    "    \n",
    "| Méthode | Retourne |\n",
    "| :--- | :--- |\n",
    "| `find(val)` | un itérateur vers l'élément trouvé, `set::end()` sinon | \n",
    "| `lower_bound(val)` | un itérateur vers le premier élément plus grand ou égal à `val`  | \n",
    "| `upper_bound(val)` | un itérateur vers le premier élément strictement plus grand que `val` |\n",
    "\n",
    "Toutes ces recherches se font en temps logarithmique $\\Theta(n)$"
   ]
  },
  {
   "cell_type": "markdown",
   "metadata": {
    "slideshow": {
     "slide_type": "subslide"
    }
   },
   "source": [
    "Enfin, il propose des **itérateurs bi-directionnels** parcourant l'ensemble trié. Les 4 versions sont disponibles \n",
    "    \n",
    "* `begin() → end()`\n",
    "* `cbegin() → cend()`\n",
    "* `rbegin() → rend()`\n",
    "* `crbegin() → crend()`\n",
    "\n",
    "Parcourir tout l'arbre avec ces itérateurs à une complexité linéaire $\\Theta(n)$ pour $n$ éléments. \n",
    "\n",
    "La complexité d'un `operator++` est en moyenne $\\Theta(1)$, mais au pire $\\Theta(\\log n)$.rs \n",
    "\n",
    "Ces itérateurs n'offrent pas d'accès aléatoire, la STL ayant choisi de ne pas stocker d'attibut `taille` en chaque noeud."
   ]
  },
  {
   "cell_type": "code",
   "execution_count": 1,
   "metadata": {
    "slideshow": {
     "slide_type": "skip"
    }
   },
   "outputs": [],
   "source": [
    "#include <iostream>\n",
    "#include <string>\n",
    "#include <vector>    "
   ]
  },
  {
   "cell_type": "code",
   "execution_count": 2,
   "metadata": {
    "slideshow": {
     "slide_type": "subslide"
    }
   },
   "outputs": [
    {
     "name": "stdout",
     "output_type": "stream",
     "text": [
      " bdejlmnoru"
     ]
    }
   ],
   "source": [
    "// Exemple d'utilisation de std::set\n",
    "#include <set>\n",
    "using namespace std; \n",
    "\n",
    "string hello = \"bonjour le monde\";\n",
    "set<char> s;                       // constructeur par défaut\n",
    "for(char c : hello) s.insert(c);   // insertion\n",
    "for(char c : s) cout << c;         // parcours ordonné"
   ]
  },
  {
   "cell_type": "code",
   "execution_count": 3,
   "metadata": {
    "slideshow": {
     "slide_type": "fragment"
    }
   },
   "outputs": [
    {
     "name": "stdout",
     "output_type": "stream",
     "text": [
      " bdejlmnoru"
     ]
    }
   ],
   "source": [
    "set<char> s2(hello.begin(),hello.end()); // construction en \n",
    "       // O(n log m) avec n = hello.size() et m = s2.size()\n",
    "\n",
    "for(char c : s2) cout << c;             // parcours ordonné"
   ]
  },
  {
   "cell_type": "code",
   "execution_count": 4,
   "metadata": {
    "slideshow": {
     "slide_type": "fragment"
    }
   },
   "outputs": [
    {
     "name": "stdout",
     "output_type": "stream",
     "text": [
      " bdejlmnoru"
     ]
    }
   ],
   "source": [
    "set<char> s3(s.begin(),s.end());  // construction en \n",
    "        // O(n) depuis une plage triée de n éléments \n",
    "\n",
    "for(char c : s3) cout << c;       // parcours ordonné"
   ]
  },
  {
   "cell_type": "code",
   "execution_count": 5,
   "metadata": {
    "slideshow": {
     "slide_type": "subslide"
    }
   },
   "outputs": [
    {
     "name": "stdout",
     "output_type": "stream",
     "text": [
      " dejlmnoru"
     ]
    }
   ],
   "source": [
    "s2.erase(next(s2.begin()));  // suppression du deuxième élément\n",
    "\n",
    "for(char c : s2) cout << c;  // parcours ordonné"
   ]
  },
  {
   "cell_type": "code",
   "execution_count": 6,
   "metadata": {
    "slideshow": {
     "slide_type": "fragment"
    }
   },
   "outputs": [
    {
     "name": "stdout",
     "output_type": "stream",
     "text": [
      " dejlnoru"
     ]
    }
   ],
   "source": [
    "s2.erase('m');               // suppression de l'élément 'm'\n",
    "\n",
    "for(char c : s2) cout << c;  // parcours ordonné"
   ]
  },
  {
   "cell_type": "code",
   "execution_count": 7,
   "metadata": {
    "slideshow": {
     "slide_type": "fragment"
    }
   },
   "outputs": [
    {
     "name": "stdout",
     "output_type": "stream",
     "text": [
      " dru"
     ]
    }
   ],
   "source": [
    "s2.erase(s2.lower_bound('e'), s2.upper_bound('o'));\n",
    "                // lower_bound: recherche de 'e' ou plus grand\n",
    "                // upper_bound: recherche de plus grand que 'o'\n",
    "                // erase: suppression d'une plage d'éléments\n",
    "\n",
    "for(char c : s2) cout << c;                // parcours ordonné"
   ]
  },
  {
   "cell_type": "markdown",
   "metadata": {
    "slideshow": {
     "slide_type": "slide"
    }
   },
   "source": [
    "## `std::map<Key,Value>` \n",
    "\n",
    "met en oeuvre le TDA tableau associatif dont les clés sont uniques. Une `map` est essentiellement un `set` dont les éléments sont de type `std::pair<const Key, Value>`, et dont la fonction de comparaison n'utilise que la clé et pas la valeur"
   ]
  },
  {
   "cell_type": "code",
   "execution_count": 8,
   "metadata": {},
   "outputs": [],
   "source": [
    "template <typename K, typename V>\n",
    "bool compare(const pair<const K,V>& a, \n",
    "             const pair<const K,V>& b) \n",
    "{\n",
    "    return a.first < b.first; \n",
    "}"
   ]
  },
  {
   "cell_type": "markdown",
   "metadata": {
    "slideshow": {
     "slide_type": "-"
    }
   },
   "source": [
    "On peut en gérer le contenu via des méthodes similaires à celles de `set` et ces paires, mais il est plus pratique de ce servir de `map<K,T>::operator[]`. \n",
    "\n",
    "\n"
   ]
  },
  {
   "cell_type": "markdown",
   "metadata": {
    "slideshow": {
     "slide_type": "subslide"
    }
   },
   "source": [
    "L'opérateur crochet a comme prototype\n",
    "\n",
    "`V& map<K,T>::operator[](const K& k)`\n",
    "\n",
    "Il reçoit une clé en paramètre et retourne une référence à la valeur associée. "
   ]
  },
  {
   "cell_type": "markdown",
   "metadata": {
    "slideshow": {
     "slide_type": "fragment"
    }
   },
   "source": [
    "Selon la documentation, il est équivalent à \n",
    "\n",
    "`(*((this->insert(make_pair(k,V()))).first)).second`\n",
    "\n",
    "Décomposons cette expression pour la comprendre. "
   ]
  },
  {
   "cell_type": "code",
   "execution_count": null,
   "metadata": {
    "slideshow": {
     "slide_type": "subslide"
    }
   },
   "outputs": [],
   "source": [
    "// (*((this->insert(make_pair(k,V()))).first)).second\n",
    "\n",
    "template <typename K, typename V> \n",
    "V& map<K,V>::operator[](const K& k) \n",
    "{\n",
    "    V                             v = V();\n",
    "    \n",
    "    pair<K,V>                     p = make_pair(k,v);\n",
    "    \n",
    "    pair<map<K,V>::iterator,bool> r = this->insert(p);\n",
    "    \n",
    "    map<K,V>::iterator            i = r.first;\n",
    "    \n",
    "    pair<K,V>&                    q = *i;\n",
    "    \n",
    "    V&                            w = q.second;\n",
    "    \n",
    "    return w; \n",
    "}"
   ]
  },
  {
   "cell_type": "markdown",
   "metadata": {
    "slideshow": {
     "slide_type": "subslide"
    }
   },
   "source": [
    "Il y a deux cas possibles selon que la clé `k` est déjà présente ou pas dans la map `m`. \n",
    "\n",
    "\n",
    "* si `k` est absente, l'expression `m[k]` insère la paire `make_pair(k,V())` qui associe la valeur par défaut `V()` à la clé `k`. \n",
    "\n",
    "\n",
    "* si `k` est présente, l'expression `m[k]` n'insère rien\n",
    "\n",
    "\n",
    "Dans les deux cas, elle retourne une référence à la valeur associée à `k`, ce qui permet de la modifier par affectation, i.e. `m[k] = v;`\n",
    "\n",
    "Attention, l'expression `cout << m[k];` modifie la map `m` en y ajoutant `make_pair(k,V())` si `k` était absent.  "
   ]
  },
  {
   "cell_type": "code",
   "execution_count": 9,
   "metadata": {
    "slideshow": {
     "slide_type": "subslide"
    }
   },
   "outputs": [
    {
     "name": "stdout",
     "output_type": "stream",
     "text": [
      "m[a]=10\n",
      "m[b]=8\n",
      "m[c]=4\n",
      "m[d]=6\n",
      "m[r]=9\n"
     ]
    }
   ],
   "source": [
    "// Exemple d'utilisation\n",
    "\n",
    "#include <map>\n",
    "\n",
    "hello = \"abracadabra\";\n",
    "std::map<char,size_t> m;\n",
    "\n",
    "size_t i = 0;\n",
    "for(char c : hello)\n",
    "    m[c] = i++;\n",
    "\n",
    "for(auto p : m)\n",
    "    cout << \"m[\" << p.first << \"]=\" << p.second << \"\\n\";"
   ]
  },
  {
   "cell_type": "code",
   "execution_count": 10,
   "metadata": {
    "slideshow": {
     "slide_type": "subslide"
    }
   },
   "outputs": [
    {
     "name": "stdout",
     "output_type": "stream",
     "text": [
      "5\n",
      "m[c]=4\n",
      "m[d]=6\n",
      "m[e]=0\n",
      "6\n"
     ]
    }
   ],
   "source": [
    "// Attention, cout << m[c] modifie m si la clé était absente\n",
    "\n",
    "cout << m.size() << \"\\n\"; \n",
    "\n",
    "for(char c = 'c'; c <= 'e'; ++c)\n",
    "    cout << \"m[\" << c << \"]=\" << m[c] << \"\\n\";\n",
    "\n",
    "cout << m.size() << \"\\n\";"
   ]
  },
  {
   "cell_type": "code",
   "execution_count": 11,
   "metadata": {
    "slideshow": {
     "slide_type": "subslide"
    }
   },
   "outputs": [
    {
     "name": "stdout",
     "output_type": "stream",
     "text": [
      "6\n",
      "m[d]=6\n",
      "m[e]=0\n",
      "m[f] est absent\n",
      "6\n"
     ]
    }
   ],
   "source": [
    "// On peut l'éviter en utilisant la fonction find.\n",
    "\n",
    "std::cout << m.size() << \"\\n\"; \n",
    "\n",
    "for(char c = 'd'; c <= 'f'; ++c) \n",
    "{ \n",
    "    auto it = m.find(c);\n",
    "    if(it != m.end())\n",
    "        std::cout << \"m[\" << c << \"]=\" << (*it).second << \"\\n\";\n",
    "    else \n",
    "        std::cout << \"m[\" << c << \"] est absent\\n\";\n",
    "}\n",
    "\n",
    "std::cout << m.size() << \"\\n\";"
   ]
  },
  {
   "cell_type": "markdown",
   "metadata": {
    "slideshow": {
     "slide_type": "slide"
    }
   },
   "source": [
    "## `std::multiset` et `std::multimap` \n",
    "\n",
    "offrent essentiellement les mêmes méthodes que `std::set` et `std::map` mais permettent de stocker plusieurs fois la même clé. \n",
    "\n",
    "Dès lors, `std::multimap` n'offre pas d'`operator[]` qui serait équivoque. \n",
    "\n",
    "Ils fournissent tous deux une méthode `equal_range` qui retourne la plage de tous les éléments de clés équivalentes. Son implantation utilise `lower_bound` et `upper_bound`"
   ]
  },
  {
   "cell_type": "code",
   "execution_count": null,
   "metadata": {},
   "outputs": [],
   "source": [
    "template <typename T>\n",
    "pair<multiset<T>::iterator,multiset<T>::iterator> \n",
    "multiset<T>::equal_range (const T& k) \n",
    "{\n",
    "    return make_pair(lower_bound(k),upper_bound(k));\n",
    "}"
   ]
  },
  {
   "cell_type": "markdown",
   "metadata": {
    "slideshow": {
     "slide_type": "slide"
    }
   },
   "source": [
    "## Opérations sur les ensembles \n",
    "\n",
    "Les fonctions \n",
    "\n",
    "* `set_union`\n",
    "* `set_intersection`\n",
    "* `set_difference`\n",
    "* `set_symmetric_difference` \n",
    "\n",
    "de la librairie `<algorithm>` prennent en entrée des **plages d'éléments triés** et écrivent le résultat trié dans un **itérateur de sortie**. \n",
    "\n",
    "Voyons les codes équivalents"
   ]
  },
  {
   "cell_type": "code",
   "execution_count": 12,
   "metadata": {
    "slideshow": {
     "slide_type": "skip"
    }
   },
   "outputs": [],
   "source": [
    "template <class InputIterator>\n",
    "std::string convert_to_string(InputIterator first, InputIterator last) {\n",
    "    std::string s = \"[ \";\n",
    "    while( first != last ) {\n",
    "        s += std::to_string(*first);\n",
    "        if( next(first) != last )\n",
    "            s.append(\", \");\n",
    "        ++first;\n",
    "    }\n",
    "    s += \"]\";\n",
    "    return s;\n",
    "} \n",
    "\n",
    "#define str(x) convert_to_string(x.begin(),x.end())"
   ]
  },
  {
   "cell_type": "code",
   "execution_count": 13,
   "metadata": {
    "slideshow": {
     "slide_type": "subslide"
    }
   },
   "outputs": [],
   "source": [
    "template <class InputIter1, class InputIter2,\n",
    "          class OutputIter>\n",
    "OutputIter set_union (\n",
    "              InputIter1 first1, InputIter1 last1,\n",
    "              InputIter2 first2, InputIter2 last2,\n",
    "              OutputIter result)\n",
    "{\n",
    "  while (true)\n",
    "  {\n",
    "    if (first1==last1) return std::copy(first2,last2,result);\n",
    "    if (first2==last2) return std::copy(first1,last1,result);\n",
    "\n",
    "    if (*first1<*first2) { *result = *first1; ++first1; }\n",
    "    else if (*first2<*first1) { *result = *first2; ++first2; }\n",
    "    else { *result = *first1; ++first1; ++first2; }\n",
    "    ++result;\n",
    "  }\n",
    "}"
   ]
  },
  {
   "cell_type": "code",
   "execution_count": 14,
   "metadata": {
    "slideshow": {
     "slide_type": "subslide"
    }
   },
   "outputs": [],
   "source": [
    "template <class InputIter1, class InputIter2,\n",
    "          class OutputIter>\n",
    "OutputIter set_intersection (\n",
    "              InputIter1 first1, InputIter1 last1,\n",
    "              InputIter2 first2, InputIter2 last2,\n",
    "              OutputIter result)\n",
    "{\n",
    "  while (first1!=last1 && first2!=last2)\n",
    "  {\n",
    "    if (*first1<*first2) ++first1;\n",
    "    else if (*first2<*first1) ++first2;\n",
    "    else {\n",
    "      *result = *first1;\n",
    "      ++result; ++first1; ++first2;\n",
    "    }\n",
    "  }\n",
    "  return result;\n",
    "}"
   ]
  },
  {
   "cell_type": "code",
   "execution_count": 15,
   "metadata": {
    "slideshow": {
     "slide_type": "subslide"
    }
   },
   "outputs": [],
   "source": [
    "template <class InputIter1, class InputIter2,\n",
    "          class OutputIter>\n",
    "OutputIter set_difference (\n",
    "              InputIter1 first1, InputIter1 last1,\n",
    "              InputIter2 first2, InputIter2 last2,\n",
    "              OutputIter result)\n",
    "{\n",
    "  while (first1!=last1 && first2!=last2)\n",
    "  {\n",
    "    if (*first1<*first2) { \n",
    "        *result = *first1; ++result; ++first1; \n",
    "    }\n",
    "    else if (*first2<*first1) ++first2;\n",
    "    else { ++first1; ++first2; }\n",
    "  }\n",
    "  return std::copy(first1,last1,result);\n",
    "}"
   ]
  },
  {
   "cell_type": "code",
   "execution_count": 16,
   "metadata": {
    "slideshow": {
     "slide_type": "subslide"
    }
   },
   "outputs": [],
   "source": [
    "template <class InputIter1, class InputIter2,\n",
    "          class OutputIter>\n",
    "OutputIter set_symmetric_difference (\n",
    "              InputIter1 first1, InputIter1 last1,\n",
    "              InputIter2 first2, InputIter2 last2,\n",
    "              OutputIter result)\n",
    "{\n",
    "  while (true)\n",
    "  {\n",
    "    if (first1==last1) return std::copy(first2,last2,result);\n",
    "    if (first2==last2) return std::copy(first1,last1,result);\n",
    "\n",
    "    if (*first1<*first2) { \n",
    "        *result=*first1; ++result; ++first1; \n",
    "    }\n",
    "    else if (*first2<*first1) { \n",
    "        *result = *first2; ++result; ++first2; \n",
    "    }\n",
    "    else { ++first1; ++first2; }\n",
    "  }\n",
    "}"
   ]
  },
  {
   "cell_type": "code",
   "execution_count": 17,
   "metadata": {
    "slideshow": {
     "slide_type": "subslide"
    }
   },
   "outputs": [
    {
     "name": "stdout",
     "output_type": "stream",
     "text": [
      "U:  [ 5, 10, 15, 20, 25, 30, 40, 50]\n",
      "I:  [ 10, 20]\n",
      "D:  [ 5, 15, 25]\n",
      "SD: [ 5, 15, 25, 30, 40, 50]\n"
     ]
    }
   ],
   "source": [
    "#include <iterator> // pour back_inserter \n",
    "\n",
    "set<int> E1 = {5,10,15,20,25}; \n",
    "set<int> E2 = {50,40,30,20,10};\n",
    "vector<int> U, I, D, SD;  \n",
    "\n",
    "std::set_union(E1.begin(), E1.end(), \n",
    "               E2.begin(), E2.end(), back_inserter(U));\n",
    "\n",
    "std::set_intersection(E1.begin(), E1.end(), \n",
    "               E2.begin(), E2.end(), back_inserter(I));\n",
    "\n",
    "std::set_difference(E1.begin(), E1.end(), \n",
    "               E2.begin(), E2.end(), back_inserter(D));\n",
    "    \n",
    "std::set_symmetric_difference(E1.begin(), E1.end(), \n",
    "               E2.begin(), E2.end(), back_inserter(SD));\n",
    "\n",
    "cout << \"U:  \" << str(U) << \"\\n\";\n",
    "cout << \"I:  \" << str(I) << \"\\n\";\n",
    "cout << \"D:  \" << str(D) << \"\\n\";\n",
    "cout << \"SD: \" << str(SD) << \"\\n\";"
   ]
  },
  {
   "cell_type": "markdown",
   "metadata": {
    "slideshow": {
     "slide_type": "slide"
    }
   },
   "source": [
    "<table style=\"width: 100%; border: 0px\">\n",
    "<tr style=\"background-color:white; border:0px\">\n",
    "<td style=\"width: 120px; border: 0px\">\n",
    "    <img src=\"https://heig-vd.ch/ResourcePackages/WhiteFox/assets/images/logo-heig-vd.svg\" height=200px align=left >\n",
    "    </td>\n",
    "    <td style=\"vertical-align: middle; border: 0px\" height=200px>\n",
    "    <p style=\"text-align: left\">\n",
    "        <a href=\"https://ocuisenaire.github.io/ASD1-notebooks/\">ASD1 Notebooks on GitHub.io</a>\n",
    " </p>        \n",
    "<p style=\"text-align: left\">\n",
    "© Olivier Cuisenaire, 2018 </p>\n",
    "</td>\n",
    "</tr>\n",
    "</table>"
   ]
  },
  {
   "cell_type": "raw",
   "metadata": {},
   "source": [
    "<style type=\"text/css\">\n",
    ".reveal {\n",
    "font-size: 200%;\n",
    "}</style>"
   ]
  }
 ],
 "metadata": {
  "celltoolbar": "Slideshow",
  "kernelspec": {
   "display_name": "C++14",
   "language": "C++14",
   "name": "xeus-cling-cpp14"
  },
  "language_info": {
   "codemirror_mode": "text/x-c++src",
   "file_extension": ".cpp",
   "mimetype": "text/x-c++src",
   "name": "c++",
   "version": "-std=c++14"
  }
 },
 "nbformat": 4,
 "nbformat_minor": 2
}
