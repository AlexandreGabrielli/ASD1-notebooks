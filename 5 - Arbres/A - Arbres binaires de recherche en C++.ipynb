{
 "cells": [
  {
   "cell_type": "markdown",
   "metadata": {},
   "source": [
    "# Arbres binaires de recherche en C++"
   ]
  },
  {
   "cell_type": "code",
   "execution_count": 1,
   "metadata": {},
   "outputs": [
    {
     "name": "stdout",
     "output_type": "stream",
     "text": [
      " bdejlmnoru"
     ]
    }
   ],
   "source": [
    "#include <iostream>\n",
    "#include <string>\n",
    "#include <set>\n",
    "\n",
    "std::string hello = \"bonjour le monde\";\n",
    "std::set<char> s;\n",
    "\n",
    "for(char c : hello)\n",
    "    s.insert(c);\n",
    "\n",
    "for(char c : s)\n",
    "    std::cout << c;"
   ]
  },
  {
   "cell_type": "code",
   "execution_count": 2,
   "metadata": {},
   "outputs": [
    {
     "name": "stdout",
     "output_type": "stream",
     "text": [
      "m[ ]=10\n",
      "m[b]=0\n",
      "m[d]=14\n",
      "m[e]=15\n",
      "m[j]=3\n",
      "m[l]=8\n",
      "m[m]=11\n",
      "m[n]=13\n",
      "m[o]=12\n",
      "m[r]=6\n",
      "m[u]=5\n"
     ]
    }
   ],
   "source": [
    "#include <iostream>\n",
    "#include <map>\n",
    "\n",
    "std::map<char,size_t> m;\n",
    "\n",
    "size_t i = 0;\n",
    "for(char c : hello)\n",
    "    m[c] = i++;\n",
    "\n",
    "for(auto p : m)\n",
    "    std::cout << \"m[\" << p.first << \"]=\" << p.second << \"\\n\";"
   ]
  },
  {
   "cell_type": "code",
   "execution_count": 3,
   "metadata": {},
   "outputs": [
    {
     "name": "stdout",
     "output_type": "stream",
     "text": [
      "11\n",
      "m[a]=0\n",
      "m[b]=0\n",
      "m[c]=0\n",
      "m[d]=14\n",
      "m[e]=15\n",
      "13\n"
     ]
    }
   ],
   "source": [
    "std::cout << m.size() << \"\\n\"; \n",
    "\n",
    "for(char c = 'a'; c <= 'e'; ++c)\n",
    "    std::cout << \"m[\" << c << \"]=\" << m[c] << \"\\n\";\n",
    "\n",
    "std::cout << m.size() << \"\\n\";"
   ]
  },
  {
   "cell_type": "code",
   "execution_count": 6,
   "metadata": {},
   "outputs": [
    {
     "name": "stdout",
     "output_type": "stream",
     "text": [
      "13\n",
      "m[i] est absent\n",
      "m[j]=3\n",
      "m[k] est absent\n",
      "m[l]=8\n",
      "m[m]=11\n",
      "13\n"
     ]
    }
   ],
   "source": [
    "std::cout << m.size() << \"\\n\"; \n",
    "\n",
    "for(char c = 'i'; c <= 'm'; ++c)\n",
    "    if(m.find(c) != m.end())\n",
    "        std::cout << \"m[\" << c << \"]=\" << m[c] << \"\\n\";\n",
    "    else \n",
    "        std::cout << \"m[\" << c << \"] est absent\\n\";\n",
    "\n",
    "\n",
    "std::cout << m.size() << \"\\n\";"
   ]
  },
  {
   "cell_type": "code",
   "execution_count": null,
   "metadata": {},
   "outputs": [],
   "source": []
  }
 ],
 "metadata": {
  "kernelspec": {
   "display_name": "C++14",
   "language": "C++14",
   "name": "xeus-cling-cpp14"
  },
  "language_info": {
   "codemirror_mode": "text/x-c++src",
   "file_extension": ".cpp",
   "mimetype": "text/x-c++src",
   "name": "c++",
   "version": "-std=c++14"
  }
 },
 "nbformat": 4,
 "nbformat_minor": 2
}
