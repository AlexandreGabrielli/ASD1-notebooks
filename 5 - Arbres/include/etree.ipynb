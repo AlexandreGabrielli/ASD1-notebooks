{
 "cells": [
  {
   "cell_type": "code",
   "execution_count": 1,
   "metadata": {},
   "outputs": [],
   "source": [
    "from ete3 import Tree\n",
    "\n",
    "# Loads a tree structure from a newick string. The returned variable ’t’ is the root node for the tree.\n",
    "t = Tree(\"((D,F)E,(B,H)A)C;\",format=8 )"
   ]
  },
  {
   "cell_type": "code",
   "execution_count": 2,
   "metadata": {},
   "outputs": [
    {
     "data": {
      "image/png": "[encoded data removed]",
      "text/plain": [
       "<IPython.core.display.Image object>"
      ]
     },
     "execution_count": 2,
     "metadata": {},
     "output_type": "execute_result"
    }
   ],
   "source": [
    "from ete3 import Tree, TreeStyle, TextFace, add_face_to_node\n",
    "\n",
    "ts = TreeStyle()\n",
    "ts.show_leaf_name = False\n",
    "ts.show_scale = False\n",
    "ts.branch_vertical_margin = 15\n",
    "def my_layout(node):\n",
    "    F = TextFace(\" \" + node.name + \" \", tight_text=False,fsize=15)\n",
    "    add_face_to_node(F, node, column=0, position=\"branch-right\")\n",
    "ts.layout_fn = my_layout\n",
    "t.render(\"%%inline\", tree_style=ts)"
   ]
  },
  {
   "cell_type": "code",
   "execution_count": 3,
   "metadata": {},
   "outputs": [],
   "source": [
    "class Node:\n",
    "    def __init__(self,val):\n",
    "        self.data = val\n",
    "        self.children = []\n",
    "        \n",
    "    def add_child(self,val):\n",
    "        self.children.append(Node(val))\n",
    "        return self.children[len(self.children)-1]"
   ]
  },
  {
   "cell_type": "code",
   "execution_count": 4,
   "metadata": {},
   "outputs": [],
   "source": [
    "racine = Node('A')\n",
    "b = racine.add_child('B')\n",
    "c = racine.add_child('C')\n",
    "d = racine.add_child('D')\n",
    "e = racine.add_child('E')\n",
    "f = b.add_child('F')\n",
    "g = b.add_child('G')\n",
    "h = d.add_child('H')\n",
    "i = e.add_child('I')\n",
    "j = e.add_child('J')\n",
    "k = e.add_child('K')"
   ]
  },
  {
   "cell_type": "code",
   "execution_count": 5,
   "metadata": {},
   "outputs": [],
   "source": [
    "def newick8_from_generic_tree(R):\n",
    "    s = \"\"\n",
    "    if R:\n",
    "        if len(R.children) > 0:\n",
    "            s += \"(\"\n",
    "            for i,r in enumerate(R.children):\n",
    "                if i > 0:\n",
    "                    s += \",\"\n",
    "                s += newick8_from_generic_tree(r)\n",
    "            s += \")\"\n",
    "        s += \"{0}\".format(R.data)\n",
    "    return s"
   ]
  },
  {
   "cell_type": "code",
   "execution_count": 6,
   "metadata": {},
   "outputs": [
    {
     "data": {
      "image/png": "[encoded data removed]",
      "text/plain": [
       "<IPython.core.display.Image object>"
      ]
     },
     "execution_count": 6,
     "metadata": {},
     "output_type": "execute_result"
    }
   ],
   "source": [
    "t = Tree(newick8_from_generic_tree(racine)+\";\",format=8)\n",
    "t.render(\"%%inline\", tree_style=ts)"
   ]
  },
  {
   "cell_type": "code",
   "execution_count": 7,
   "metadata": {},
   "outputs": [],
   "source": [
    "def newick8_from_binary_tree(R):\n",
    "    s = \"\"\n",
    "    if R:\n",
    "        s += \"(\"\n",
    "        s += newick8_from_binary_tree(R.gauche)\n",
    "        s += \",\"\n",
    "        s += newick8_from_binary_tree(R.droite)\n",
    "        s += \")\"\n",
    "        s += \"{0}\".format(R.data)\n",
    "    else:\n",
    "        s += \"⌀\"\n",
    "    return s"
   ]
  },
  {
   "cell_type": "code",
   "execution_count": 8,
   "metadata": {},
   "outputs": [
    {
     "name": "stdout",
     "output_type": "stream",
     "text": [
      "(((⌀,⌀)D,(⌀,⌀)E)B,((⌀,⌀)F,⌀)C)A;\n"
     ]
    },
    {
     "data": {
      "image/png": "[encoded data removed]",
      "text/plain": [
       "<IPython.core.display.Image object>"
      ]
     },
     "execution_count": 8,
     "metadata": {},
     "output_type": "execute_result"
    }
   ],
   "source": [
    "class Node:\n",
    "    def __init__(self,val):\n",
    "        self.data = val\n",
    "        self.gauche = None\n",
    "        self.droite = None\n",
    "        \n",
    "racine  = a = Node('A')\n",
    "a.gauche  = b = Node('B')\n",
    "a.droite = c = Node('C')\n",
    "b.gauche  = d = Node('D')\n",
    "b.droite = e = Node('E')\n",
    "c.gauche  = f = Node('F')\n",
    "\n",
    "n = newick8_from_binary_tree(racine)+\";\"\n",
    "print(n)\n",
    "t = Tree(n,format=8)\n",
    "t.render(\"%%inline\", tree_style=ts)"
   ]
  },
  {
   "cell_type": "code",
   "execution_count": 11,
   "metadata": {},
   "outputs": [],
   "source": [
    "def afficher_arbre_binaire(R):\n",
    "    n = newick8_from_binary_tree(R)+\";\"\n",
    "    t = Tree(n,format=8)\n",
    "    return t.render(\"%%inline\", tree_style=ts)"
   ]
  },
  {
   "cell_type": "code",
   "execution_count": 12,
   "metadata": {},
   "outputs": [
    {
     "data": {
      "image/png": "[encoded data removed]",
      "text/plain": [
       "<IPython.core.display.Image object>"
      ]
     },
     "execution_count": 12,
     "metadata": {},
     "output_type": "execute_result"
    }
   ],
   "source": [
    "afficher_arbre_binaire(racine)"
   ]
  },
  {
   "cell_type": "code",
   "execution_count": null,
   "metadata": {},
   "outputs": [],
   "source": []
  }
 ],
 "metadata": {
  "kernelspec": {
   "display_name": "Python 3",
   "language": "python",
   "name": "python3"
  },
  "language_info": {
   "codemirror_mode": {
    "name": "ipython",
    "version": 3
   },
   "file_extension": ".py",
   "mimetype": "text/x-python",
   "name": "python",
   "nbconvert_exporter": "python",
   "pygments_lexer": "ipython3",
   "version": "3.6.5"
  }
 },
 "nbformat": 4,
 "nbformat_minor": 2
}
