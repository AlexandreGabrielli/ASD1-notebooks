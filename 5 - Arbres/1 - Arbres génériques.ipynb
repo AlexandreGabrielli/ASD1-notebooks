{
 "cells": [
  {
   "cell_type": "code",
   "execution_count": 33,
   "metadata": {},
   "outputs": [],
   "source": [
    "class Node:\n",
    "    def __init__(self,val):\n",
    "        self.data = val\n",
    "        self.children = []\n",
    "        \n",
    "    def add_child(self,val):\n",
    "        self.children.append(Node(val))\n",
    "        return self.children[len(self.children)-1]"
   ]
  },
  {
   "cell_type": "code",
   "execution_count": 35,
   "metadata": {},
   "outputs": [],
   "source": [
    "racine = Node('A')\n",
    "b = racine.add_child('B')\n",
    "c = racine.add_child('C')\n",
    "d = racine.add_child('D')\n",
    "e = racine.add_child('E')\n",
    "f = b.add_child('F')\n",
    "g = b.add_child('G')\n",
    "h = d.add_child('H')\n",
    "i = e.add_child('I')\n",
    "j = e.add_child('J')\n",
    "k = e.add_child('K')\n"
   ]
  },
  {
   "cell_type": "markdown",
   "metadata": {},
   "source": [
    "![arbre generique](illustrations/arbre_generique.png)"
   ]
  },
  {
   "cell_type": "code",
   "execution_count": 36,
   "metadata": {},
   "outputs": [],
   "source": [
    "def parcoursEnProfondeur(R):\n",
    "    if R:\n",
    "        print(R.data)\n",
    "        for r in R.children:\n",
    "            parcoursEnProfondeur(r)"
   ]
  },
  {
   "cell_type": "code",
   "execution_count": 37,
   "metadata": {},
   "outputs": [
    {
     "name": "stdout",
     "output_type": "stream",
     "text": [
      "A\n",
      "B\n",
      "F\n",
      "G\n",
      "C\n",
      "D\n",
      "H\n",
      "E\n",
      "I\n",
      "J\n",
      "K\n"
     ]
    }
   ],
   "source": [
    "parcoursEnProfondeur(racine)"
   ]
  },
  {
   "cell_type": "code",
   "execution_count": 38,
   "metadata": {},
   "outputs": [],
   "source": [
    "def affichage(R,level):\n",
    "    if R:\n",
    "        print(''.rjust(level*2),R.data)\n",
    "        for r in R.children:\n",
    "            affichage(r,level+1)"
   ]
  },
  {
   "cell_type": "code",
   "execution_count": 39,
   "metadata": {},
   "outputs": [
    {
     "name": "stdout",
     "output_type": "stream",
     "text": [
      " A\n",
      "   B\n",
      "     F\n",
      "     G\n",
      "   C\n",
      "   D\n",
      "     H\n",
      "   E\n",
      "     I\n",
      "     J\n",
      "     K\n"
     ]
    }
   ],
   "source": [
    "affichage(racine,0)"
   ]
  },
  {
   "cell_type": "code",
   "execution_count": 40,
   "metadata": {},
   "outputs": [],
   "source": [
    "def affichage2(R):\n",
    "    if R:\n",
    "        print(R.data,end=\"\")\n",
    "        if len(R.children) > 0:\n",
    "            print(\"(\",end=\"\")\n",
    "            for i,r in enumerate(R.children):\n",
    "                if i > 0:\n",
    "                    print(\",\",end=\"\")\n",
    "                affichage2(r)\n",
    "            print(\")\",end =\"\")\n",
    "    "
   ]
  },
  {
   "cell_type": "code",
   "execution_count": 41,
   "metadata": {},
   "outputs": [
    {
     "name": "stdout",
     "output_type": "stream",
     "text": [
      "A(B(F,G),C,D(H),E(I,J,K))"
     ]
    }
   ],
   "source": [
    "affichage2(racine)"
   ]
  },
  {
   "cell_type": "code",
   "execution_count": 42,
   "metadata": {},
   "outputs": [],
   "source": [
    "from collections import deque\n",
    "# deque est utilisée comme une queue \n",
    "\n",
    "def parcoursEnLargeur(R):\n",
    "    Q = deque()\n",
    "    Q.appendleft(R)             # enqueue\n",
    "    while len(Q) != 0:\n",
    "        n = Q.pop()             # dequeue\n",
    "        print(n.data)\n",
    "        for c in n.children:\n",
    "            Q.appendleft(c)     # enqueue"
   ]
  },
  {
   "cell_type": "code",
   "execution_count": 43,
   "metadata": {},
   "outputs": [
    {
     "name": "stdout",
     "output_type": "stream",
     "text": [
      "A\n",
      "B\n",
      "C\n",
      "D\n",
      "E\n",
      "F\n",
      "G\n",
      "H\n",
      "I\n",
      "J\n",
      "K\n"
     ]
    }
   ],
   "source": [
    "parcoursEnLargeur(racine)"
   ]
  },
  {
   "cell_type": "code",
   "execution_count": 44,
   "metadata": {},
   "outputs": [],
   "source": [
    "def degreArbre(R):\n",
    "    if R:\n",
    "        d = len(R.children)\n",
    "        for c in R.children:\n",
    "            d = max(d,degreArbre(c))\n",
    "        return d\n",
    "    else:\n",
    "        return 0"
   ]
  },
  {
   "cell_type": "code",
   "execution_count": 45,
   "metadata": {},
   "outputs": [
    {
     "data": {
      "text/plain": [
       "4"
      ]
     },
     "execution_count": 45,
     "metadata": {},
     "output_type": "execute_result"
    }
   ],
   "source": [
    "degreArbre(racine)"
   ]
  },
  {
   "cell_type": "code",
   "execution_count": 46,
   "metadata": {},
   "outputs": [],
   "source": [
    "def hauteur(R):\n",
    "    if R:\n",
    "        h = 1\n",
    "        for c in R.children:\n",
    "            h = max(h,hauteur(c)+1)\n",
    "        return h\n",
    "    else:\n",
    "        return 0"
   ]
  },
  {
   "cell_type": "code",
   "execution_count": 47,
   "metadata": {},
   "outputs": [
    {
     "data": {
      "text/plain": [
       "3"
      ]
     },
     "execution_count": 47,
     "metadata": {},
     "output_type": "execute_result"
    }
   ],
   "source": [
    "hauteur(racine)"
   ]
  },
  {
   "cell_type": "code",
   "execution_count": 49,
   "metadata": {},
   "outputs": [],
   "source": [
    "def taille(R):\n",
    "    if R:\n",
    "        t = 1\n",
    "        for c in R.children:\n",
    "            t += taille(c)\n",
    "        return t\n",
    "    else:\n",
    "        return 0"
   ]
  },
  {
   "cell_type": "code",
   "execution_count": 50,
   "metadata": {},
   "outputs": [
    {
     "data": {
      "text/plain": [
       "11"
      ]
     },
     "execution_count": 50,
     "metadata": {},
     "output_type": "execute_result"
    }
   ],
   "source": [
    "taille(racine)"
   ]
  },
  {
   "cell_type": "code",
   "execution_count": 54,
   "metadata": {},
   "outputs": [],
   "source": [
    "def feuilles(R):\n",
    "    if R:\n",
    "        if len(R.children) == 0:\n",
    "            print(R.data)\n",
    "        else:\n",
    "            for c in R.children:\n",
    "                feuilles(c)"
   ]
  },
  {
   "cell_type": "code",
   "execution_count": 55,
   "metadata": {},
   "outputs": [
    {
     "name": "stdout",
     "output_type": "stream",
     "text": [
      "F\n",
      "G\n",
      "C\n",
      "H\n",
      "I\n",
      "J\n",
      "K\n"
     ]
    }
   ],
   "source": [
    "feuilles(racine)"
   ]
  },
  {
   "cell_type": "code",
   "execution_count": null,
   "metadata": {},
   "outputs": [],
   "source": []
  }
 ],
 "metadata": {
  "kernelspec": {
   "display_name": "Python 3",
   "language": "python",
   "name": "python3"
  },
  "language_info": {
   "codemirror_mode": {
    "name": "ipython",
    "version": 3
   },
   "file_extension": ".py",
   "mimetype": "text/x-python",
   "name": "python",
   "nbconvert_exporter": "python",
   "pygments_lexer": "ipython3",
   "version": "3.6.5"
  }
 },
 "nbformat": 4,
 "nbformat_minor": 2
}
