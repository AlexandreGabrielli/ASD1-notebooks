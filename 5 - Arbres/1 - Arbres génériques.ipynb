{
 "cells": [
  {
   "cell_type": "markdown",
   "metadata": {
    "slideshow": {
     "slide_type": "slide"
    }
   },
   "source": [
    "# Arbres"
   ]
  },
  {
   "cell_type": "markdown",
   "metadata": {
    "slideshow": {
     "slide_type": "slide"
    }
   },
   "source": [
    "## Principe\n",
    "\n",
    "La structure d'arbre étend le concept de liste en admettant plusieurs éléments suivants plutôt qu'un seul. \n",
    "\n",
    "Cela s'accompagne d'un changement de vocabulaire\n",
    "\n",
    "* le premier élément s'appelle la **racine** et pas la tête.\n",
    "\n",
    "\n",
    "* les éléments suivants un élément s'appellent les **enfants**\n",
    "\n",
    "\n",
    "* l'élément précédent s'appelle le **parent**"
   ]
  },
  {
   "cell_type": "markdown",
   "metadata": {
    "slideshow": {
     "slide_type": "subslide"
    }
   },
   "source": [
    "Les élément sont stockés dans des structures appelées **noeuds**. "
   ]
  },
  {
   "cell_type": "code",
   "execution_count": 1,
   "metadata": {},
   "outputs": [],
   "source": [
    "class Noeud:\n",
    "    def __init__(self,valeur):\n",
    "        self.etiquette = valeur\n",
    "        self.enfants = []\n",
    "        \n",
    "    def ajouter_enfant(self,valeur):\n",
    "        self.enfants.append(Noeud(valeur))\n",
    "        return self.enfants[len(self.enfants)-1]\n",
    "    \n",
    "    def __str__(self): \n",
    "        return \"{}\".format(self.etiquette)"
   ]
  },
  {
   "cell_type": "markdown",
   "metadata": {
    "slideshow": {
     "slide_type": "subslide"
    }
   },
   "source": [
    "Construisons manuellement un tel arbre"
   ]
  },
  {
   "cell_type": "code",
   "execution_count": 2,
   "metadata": {
    "slideshow": {
     "slide_type": "-"
    }
   },
   "outputs": [],
   "source": [
    "racine = Noeud('A')\n",
    "b = racine.ajouter_enfant('B')\n",
    "c = racine.ajouter_enfant('C')\n",
    "d = racine.ajouter_enfant('D')\n",
    "e = racine.ajouter_enfant('E')\n",
    "f = b.ajouter_enfant('F')\n",
    "g = b.ajouter_enfant('G')\n",
    "h = d.ajouter_enfant('H')\n",
    "i = e.ajouter_enfant('I')\n",
    "j = e.ajouter_enfant('J')\n",
    "k = e.ajouter_enfant('K')"
   ]
  },
  {
   "cell_type": "markdown",
   "metadata": {
    "slideshow": {
     "slide_type": "subslide"
    }
   },
   "source": [
    "Affichons cet arbre avec la racine `A` à gauche"
   ]
  },
  {
   "cell_type": "code",
   "execution_count": 3,
   "metadata": {},
   "outputs": [
    {
     "data": {
      "image/png": "[encoded data removed]",
      "text/plain": [
       "<IPython.core.display.Image object>"
      ]
     },
     "metadata": {},
     "output_type": "display_data"
    }
   ],
   "source": [
    "import include.helpers as h\n",
    "h.afficher_arbre(racine)"
   ]
  },
  {
   "cell_type": "markdown",
   "metadata": {
    "slideshow": {
     "slide_type": "slide"
    }
   },
   "source": [
    "## Parcours en profondeur \n",
    "\n",
    "Il est indispensable de pouvoir atteindre une et une seule fois tous les éléments d'un arbre. Pour cela, la méthode la plus simple est le parcours en profondeur. \n",
    "\n",
    "Il correspond à l'ordre de succession au trône dans la plupart des monarchies européennes: la **primogéniture**, i.e.   \n",
    "\n",
    "* d'abord l'enfant ainé, \n",
    "* puis toute sa descendance par ordre de primogéniture,\n",
    "* avant de passer à l'enfant puîné, \n",
    "* puis toute sa descendance par ordre de primogéniture,\n",
    "* ... \n",
    "* jusqu'à l'enfant cadet, \n",
    "* puis toute sa descendance par ordre de primogéniture."
   ]
  },
  {
   "cell_type": "markdown",
   "metadata": {
    "slideshow": {
     "slide_type": "subslide"
    }
   },
   "source": [
    "Il se définit récursivement"
   ]
  },
  {
   "cell_type": "code",
   "execution_count": 4,
   "metadata": {
    "slideshow": {
     "slide_type": "-"
    }
   },
   "outputs": [],
   "source": [
    "def parcoursEnProfondeur(R,action):\n",
    "    if R: \n",
    "        action(R)\n",
    "        for r in R.enfants:\n",
    "            parcoursEnProfondeur(r,action)"
   ]
  },
  {
   "cell_type": "code",
   "execution_count": 5,
   "metadata": {
    "slideshow": {
     "slide_type": "subslide"
    }
   },
   "outputs": [
    {
     "data": {
      "image/png": "[encoded data removed]",
      "text/plain": [
       "<IPython.core.display.Image object>"
      ]
     },
     "metadata": {},
     "output_type": "display_data"
    }
   ],
   "source": [
    "h.afficher_arbre(racine)\n",
    "\n",
    "# Effectuez le parcours en profondeur de cet arbre"
   ]
  },
  {
   "cell_type": "code",
   "execution_count": 6,
   "metadata": {
    "slideshow": {
     "slide_type": "fragment"
    }
   },
   "outputs": [
    {
     "name": "stdout",
     "output_type": "stream",
     "text": [
      "A B F G C D H E I J K "
     ]
    }
   ],
   "source": [
    "def afficher(R): print(R, end=\" \")\n",
    "parcoursEnProfondeur(racine, afficher)"
   ]
  },
  {
   "cell_type": "markdown",
   "metadata": {
    "slideshow": {
     "slide_type": "subslide"
    }
   },
   "source": [
    "Notons qu'il s'agit là d'un parcours pré-ordonné: l'action sur la racine s'effectue avant l'action sur ses enfants. On peut aussi définir un parcours post-ordonné"
   ]
  },
  {
   "cell_type": "code",
   "execution_count": 7,
   "metadata": {
    "slideshow": {
     "slide_type": "-"
    }
   },
   "outputs": [],
   "source": [
    "def parcoursPostOrdonne(R,action):\n",
    "    if R:\n",
    "        for r in R.enfants:\n",
    "            parcoursPostOrdonne(r,action)\n",
    "        action(R)"
   ]
  },
  {
   "cell_type": "code",
   "execution_count": 8,
   "metadata": {
    "slideshow": {
     "slide_type": "subslide"
    }
   },
   "outputs": [
    {
     "data": {
      "image/png": "[encoded data removed]",
      "text/plain": [
       "<IPython.core.display.Image object>"
      ]
     },
     "metadata": {},
     "output_type": "display_data"
    }
   ],
   "source": [
    "h.afficher_arbre(racine)\n",
    "\n",
    "# Parcourez l'arbre en profondeur et listez les noeuds en post-ordre "
   ]
  },
  {
   "cell_type": "code",
   "execution_count": 9,
   "metadata": {
    "slideshow": {
     "slide_type": "fragment"
    }
   },
   "outputs": [
    {
     "name": "stdout",
     "output_type": "stream",
     "text": [
      "F G B C H D I J K E A "
     ]
    }
   ],
   "source": [
    "parcoursPostOrdonne(racine, afficher)"
   ]
  },
  {
   "cell_type": "markdown",
   "metadata": {
    "slideshow": {
     "slide_type": "slide"
    }
   },
   "source": [
    "## Représentations linéaires d'un arbre\n",
    "\n",
    "L'affichage indenté effectue un parcours en profondeur tout en notant la profondeur de récursion. \n",
    "\n",
    "Il affiche un noeud par ligne, décalé de cette profondeur"
   ]
  },
  {
   "cell_type": "code",
   "execution_count": 10,
   "metadata": {},
   "outputs": [],
   "source": [
    "def affichage_indente(R,profondeur):\n",
    "    if R:\n",
    "        print(\" \"*profondeur*3,R)\n",
    "        for r in R.enfants:\n",
    "            affichage_indente(r,profondeur+1)"
   ]
  },
  {
   "cell_type": "code",
   "execution_count": 11,
   "metadata": {
    "slideshow": {
     "slide_type": "subslide"
    }
   },
   "outputs": [
    {
     "name": "stdout",
     "output_type": "stream",
     "text": [
      " A\n",
      "    B\n",
      "       F\n",
      "       G\n",
      "    C\n",
      "    D\n",
      "       H\n",
      "    E\n",
      "       I\n",
      "       J\n",
      "       K\n"
     ]
    }
   ],
   "source": [
    "affichage_indente(racine,0)"
   ]
  },
  {
   "cell_type": "markdown",
   "metadata": {
    "slideshow": {
     "slide_type": "subslide"
    }
   },
   "source": [
    "L'affichage sous forme de liste imbriquée utilise \n",
    "\n",
    "* les parenthèses pour entourer les enfants d'un noeud\n",
    "* les virgules pour séparer les frères"
   ]
  },
  {
   "cell_type": "code",
   "execution_count": 12,
   "metadata": {},
   "outputs": [],
   "source": [
    "def affichage_listes_imbriquees(R):\n",
    "    if R:\n",
    "        print(R,end=\"\")\n",
    "        if len(R.enfants) > 0:\n",
    "            print(\"(\",end=\"\")\n",
    "            for i,r in enumerate(R.enfants):\n",
    "                if i > 0: print(\",\",end=\"\")\n",
    "                affichage_listes_imbriquees(r)\n",
    "            print(\")\",end =\"\")"
   ]
  },
  {
   "cell_type": "code",
   "execution_count": 13,
   "metadata": {
    "slideshow": {
     "slide_type": "subslide"
    }
   },
   "outputs": [
    {
     "data": {
      "image/png": "[encoded data removed]",
      "text/plain": [
       "<IPython.core.display.Image object>"
      ]
     },
     "metadata": {},
     "output_type": "display_data"
    }
   ],
   "source": [
    "h.afficher_arbre(racine)\n",
    "\n",
    "# Représentez cet arbre sous forme de listes imbriquées"
   ]
  },
  {
   "cell_type": "code",
   "execution_count": 14,
   "metadata": {
    "slideshow": {
     "slide_type": "fragment"
    }
   },
   "outputs": [
    {
     "name": "stdout",
     "output_type": "stream",
     "text": [
      "A(B(F,G),C,D(H),E(I,J,K))"
     ]
    }
   ],
   "source": [
    "affichage_listes_imbriquees(racine)"
   ]
  },
  {
   "cell_type": "markdown",
   "metadata": {
    "slideshow": {
     "slide_type": "slide"
    }
   },
   "source": [
    "## Parcours en largeur\n",
    "\n",
    "Le parcours en largeur correspond lui à l'ordre de succession **adelphique**, comme par exemple pour le trône d'Arabie Saoudite. \n",
    "\n",
    "* d'abord tous les frères \n",
    "* ensuite la génération suivante"
   ]
  },
  {
   "cell_type": "code",
   "execution_count": 15,
   "metadata": {},
   "outputs": [],
   "source": [
    "from queue import Queue\n",
    "\n",
    "def parcoursEnLargeur(R):\n",
    "    Q = Queue()\n",
    "    Q.put(R)             \n",
    "    while not Q.empty():\n",
    "        n = Q.get()             \n",
    "        print(n, end=\" \")\n",
    "        for c in n.enfants:\n",
    "            Q.put(c)    "
   ]
  },
  {
   "cell_type": "code",
   "execution_count": 16,
   "metadata": {
    "slideshow": {
     "slide_type": "subslide"
    }
   },
   "outputs": [
    {
     "data": {
      "image/png": "[encoded data removed]",
      "text/plain": [
       "<IPython.core.display.Image object>"
      ]
     },
     "metadata": {},
     "output_type": "display_data"
    }
   ],
   "source": [
    "h.afficher_arbre(racine)\n",
    "\n",
    "# Effectuez le parcours en largeur de cet arbre "
   ]
  },
  {
   "cell_type": "code",
   "execution_count": 17,
   "metadata": {
    "slideshow": {
     "slide_type": "fragment"
    }
   },
   "outputs": [
    {
     "name": "stdout",
     "output_type": "stream",
     "text": [
      "A B C D E F G H I J K "
     ]
    }
   ],
   "source": [
    "parcoursEnLargeur(racine)"
   ]
  },
  {
   "cell_type": "markdown",
   "metadata": {
    "slideshow": {
     "slide_type": "slide"
    }
   },
   "source": [
    "### Degré"
   ]
  },
  {
   "cell_type": "markdown",
   "metadata": {},
   "source": [
    "Degré d'un noeud `:=` nombre de ses enfants"
   ]
  },
  {
   "cell_type": "code",
   "execution_count": 18,
   "metadata": {},
   "outputs": [],
   "source": [
    "def degreNoeud(R):\n",
    "    if R: return len(R.enfants)\n",
    "    else: return 0"
   ]
  },
  {
   "cell_type": "markdown",
   "metadata": {
    "slideshow": {
     "slide_type": "fragment"
    }
   },
   "source": [
    "Degré d'un arbre `:=` degré maximum de ses noeuds"
   ]
  },
  {
   "cell_type": "code",
   "execution_count": 19,
   "metadata": {
    "slideshow": {
     "slide_type": "-"
    }
   },
   "outputs": [],
   "source": [
    "def degreArbre(R):\n",
    "    d = degreNoeud(R)\n",
    "    if R: \n",
    "        for c in R.enfants:\n",
    "            d = max(d,degreArbre(c))\n",
    "    return d"
   ]
  },
  {
   "cell_type": "code",
   "execution_count": 20,
   "metadata": {
    "slideshow": {
     "slide_type": "subslide"
    }
   },
   "outputs": [
    {
     "data": {
      "image/png": "[encoded data removed]",
      "text/plain": [
       "<IPython.core.display.Image object>"
      ]
     },
     "metadata": {},
     "output_type": "display_data"
    }
   ],
   "source": [
    "h.afficher_arbre(racine)\n",
    "\n",
    "# Quel est le degré de cet arbre ?"
   ]
  },
  {
   "cell_type": "code",
   "execution_count": 21,
   "metadata": {
    "slideshow": {
     "slide_type": "fragment"
    }
   },
   "outputs": [
    {
     "data": {
      "text/plain": [
       "4"
      ]
     },
     "execution_count": 21,
     "metadata": {},
     "output_type": "execute_result"
    }
   ],
   "source": [
    "degreArbre(racine)"
   ]
  },
  {
   "cell_type": "markdown",
   "metadata": {
    "slideshow": {
     "slide_type": "slide"
    }
   },
   "source": [
    "### Feuilles \n",
    "\n",
    "noeuds n'ayant pas d'enfants"
   ]
  },
  {
   "cell_type": "code",
   "execution_count": 22,
   "metadata": {
    "slideshow": {
     "slide_type": "-"
    }
   },
   "outputs": [],
   "source": [
    "def feuilles(R):\n",
    "    if R:\n",
    "        if len(R.enfants) == 0: print(R, end=\" \")\n",
    "        for c in R.enfants:\n",
    "            feuilles(c)"
   ]
  },
  {
   "cell_type": "code",
   "execution_count": 23,
   "metadata": {
    "slideshow": {
     "slide_type": "subslide"
    }
   },
   "outputs": [
    {
     "data": {
      "image/png": "[encoded data removed]",
      "text/plain": [
       "<IPython.core.display.Image object>"
      ]
     },
     "metadata": {},
     "output_type": "display_data"
    }
   ],
   "source": [
    "h.afficher_arbre(racine)\n",
    "\n",
    "# Quelles sont les feuilles de cet arbre ? "
   ]
  },
  {
   "cell_type": "code",
   "execution_count": 24,
   "metadata": {
    "slideshow": {
     "slide_type": "fragment"
    }
   },
   "outputs": [
    {
     "name": "stdout",
     "output_type": "stream",
     "text": [
      "F G C H I J K "
     ]
    }
   ],
   "source": [
    "feuilles(racine)"
   ]
  },
  {
   "cell_type": "markdown",
   "metadata": {
    "slideshow": {
     "slide_type": "slide"
    }
   },
   "source": [
    "### Noeuds internes \n",
    "\n",
    "noeuds ayant des enfants "
   ]
  },
  {
   "cell_type": "code",
   "execution_count": 25,
   "metadata": {
    "slideshow": {
     "slide_type": "-"
    }
   },
   "outputs": [],
   "source": [
    "def noeuds_internes(R):\n",
    "    if R:\n",
    "        if len(R.enfants) != 0: print(R, end=\" \")\n",
    "        for c in R.enfants:\n",
    "            noeuds_internes(c)"
   ]
  },
  {
   "cell_type": "code",
   "execution_count": 26,
   "metadata": {
    "slideshow": {
     "slide_type": "subslide"
    }
   },
   "outputs": [
    {
     "data": {
      "image/png": "[encoded data removed]",
      "text/plain": [
       "<IPython.core.display.Image object>"
      ]
     },
     "metadata": {},
     "output_type": "display_data"
    }
   ],
   "source": [
    "h.afficher_arbre(racine)\n",
    "\n",
    "# Quels sont les noeuds internes de cet arbre ?"
   ]
  },
  {
   "cell_type": "code",
   "execution_count": 27,
   "metadata": {
    "slideshow": {
     "slide_type": "fragment"
    }
   },
   "outputs": [
    {
     "name": "stdout",
     "output_type": "stream",
     "text": [
      "A B D E "
     ]
    }
   ],
   "source": [
    "noeuds_internes(racine)"
   ]
  },
  {
   "cell_type": "markdown",
   "metadata": {
    "slideshow": {
     "slide_type": "slide"
    }
   },
   "source": [
    "### Ancêtres d'un noeud\n",
    "\n",
    "noeud parent et ses ancêtres jusqu'à la racine qui n'a pas de parent. "
   ]
  },
  {
   "cell_type": "code",
   "execution_count": 28,
   "metadata": {
    "slideshow": {
     "slide_type": "-"
    }
   },
   "outputs": [],
   "source": [
    "def ancetres(R,val):\n",
    "    if R:\n",
    "        if R.etiquette == val:\n",
    "            return True\n",
    "        else:\n",
    "            for e in R.enfants:\n",
    "                if(ancetres(e,val)):\n",
    "                    print(R, end=\" \")\n",
    "                    return True\n",
    "    return False"
   ]
  },
  {
   "cell_type": "code",
   "execution_count": 29,
   "metadata": {
    "slideshow": {
     "slide_type": "subslide"
    }
   },
   "outputs": [
    {
     "data": {
      "image/png": "[encoded data removed]",
      "text/plain": [
       "<IPython.core.display.Image object>"
      ]
     },
     "metadata": {},
     "output_type": "display_data"
    }
   ],
   "source": [
    "h.afficher_arbre(racine)\n",
    "\n",
    "# Quels sont les ancêtre de J"
   ]
  },
  {
   "cell_type": "code",
   "execution_count": 30,
   "metadata": {
    "slideshow": {
     "slide_type": "fragment"
    }
   },
   "outputs": [
    {
     "name": "stdout",
     "output_type": "stream",
     "text": [
      "E A "
     ]
    },
    {
     "data": {
      "text/plain": [
       "True"
      ]
     },
     "execution_count": 30,
     "metadata": {},
     "output_type": "execute_result"
    }
   ],
   "source": [
    "ancetres(racine,'J')"
   ]
  },
  {
   "cell_type": "code",
   "execution_count": 31,
   "metadata": {
    "slideshow": {
     "slide_type": "fragment"
    }
   },
   "outputs": [
    {
     "data": {
      "text/plain": [
       "False"
      ]
     },
     "execution_count": 31,
     "metadata": {},
     "output_type": "execute_result"
    }
   ],
   "source": [
    "ancetres(racine,'Z')"
   ]
  },
  {
   "cell_type": "markdown",
   "metadata": {
    "slideshow": {
     "slide_type": "slide"
    }
   },
   "source": [
    "### Hauteur d'un arbre \n",
    "\n",
    "plus grand nombre de noeuds sur le chemin allant d'une feuille à la racine\n",
    "\n",
    "* la hauteur d'un arbre vide est 0\n",
    "* celle d'une feuille est 1\n",
    "* celle d'un noeud interne est de 1 plus le maximum des hauteurs de ses enfants"
   ]
  },
  {
   "cell_type": "code",
   "execution_count": 32,
   "metadata": {
    "slideshow": {
     "slide_type": "-"
    }
   },
   "outputs": [],
   "source": [
    "def hauteur(R):\n",
    "    if R:\n",
    "        h = 1\n",
    "        for c in R.enfants:\n",
    "            h = max(h,hauteur(c)+1)\n",
    "        return h\n",
    "    else:\n",
    "        return 0"
   ]
  },
  {
   "cell_type": "code",
   "execution_count": 33,
   "metadata": {
    "slideshow": {
     "slide_type": "subslide"
    }
   },
   "outputs": [
    {
     "data": {
      "image/png": "[encoded data removed]",
      "text/plain": [
       "<IPython.core.display.Image object>"
      ]
     },
     "metadata": {},
     "output_type": "display_data"
    }
   ],
   "source": [
    "h.afficher_arbre(racine)\n",
    "\n",
    "# Quelle est la hauteur de cet arbre ? "
   ]
  },
  {
   "cell_type": "code",
   "execution_count": 34,
   "metadata": {
    "slideshow": {
     "slide_type": "fragment"
    }
   },
   "outputs": [
    {
     "data": {
      "text/plain": [
       "3"
      ]
     },
     "execution_count": 34,
     "metadata": {},
     "output_type": "execute_result"
    }
   ],
   "source": [
    "hauteur(racine)"
   ]
  },
  {
   "cell_type": "markdown",
   "metadata": {
    "slideshow": {
     "slide_type": "slide"
    }
   },
   "source": [
    "### Taille \n",
    "\n",
    "nombre de noeuds de l'arbre \n",
    "    \n",
    "* la taille d'un arbre vide est 0\n",
    "* la taille d'une feuille est 1\n",
    "* la taille du sous-arbre d'un noeud interne est la somme des tailles de ses enfants, plus 1. "
   ]
  },
  {
   "cell_type": "code",
   "execution_count": 35,
   "metadata": {
    "slideshow": {
     "slide_type": "-"
    }
   },
   "outputs": [],
   "source": [
    "def taille(R):\n",
    "    if R:\n",
    "        t = 1\n",
    "        for c in R.enfants:\n",
    "            t += taille(c)\n",
    "        return t\n",
    "    else:\n",
    "        return 0"
   ]
  },
  {
   "cell_type": "code",
   "execution_count": 36,
   "metadata": {
    "slideshow": {
     "slide_type": "subslide"
    }
   },
   "outputs": [
    {
     "data": {
      "image/png": "[encoded data removed]",
      "text/plain": [
       "<IPython.core.display.Image object>"
      ]
     },
     "metadata": {},
     "output_type": "display_data"
    }
   ],
   "source": [
    "h.afficher_arbre(racine)\n",
    "\n",
    "# Quelle est la taille de cette arbre ?"
   ]
  },
  {
   "cell_type": "code",
   "execution_count": 37,
   "metadata": {
    "slideshow": {
     "slide_type": "fragment"
    }
   },
   "outputs": [
    {
     "data": {
      "text/plain": [
       "11"
      ]
     },
     "execution_count": 37,
     "metadata": {},
     "output_type": "execute_result"
    }
   ],
   "source": [
    "taille(racine)"
   ]
  },
  {
   "cell_type": "markdown",
   "metadata": {
    "slideshow": {
     "slide_type": "slide"
    }
   },
   "source": [
    "<table style=\"width: 100%; border: 0px\">\n",
    "<tr style=\"background-color:white; border:0px\">\n",
    "<td style=\"width: 120px; border: 0px\">\n",
    "    <img src=\"https://heig-vd.ch/ResourcePackages/WhiteFox/assets/images/logo-heig-vd.svg\" height=200px align=left >\n",
    "    </td>\n",
    "    <td style=\"vertical-align: middle; border: 0px\" height=200px>\n",
    "    <p style=\"text-align: left\">\n",
    "        <a href=\"https://ocuisenaire.github.io/ASD1-notebooks/\">ASD1 Notebooks on GitHub.io</a>\n",
    " </p>        \n",
    "<p style=\"text-align: left\">\n",
    "© Olivier Cuisenaire, 2018 </p>\n",
    "</td>\n",
    "</tr>\n",
    "</table>"
   ]
  },
  {
   "cell_type": "raw",
   "metadata": {},
   "source": [
    "<style type=\"text/css\">\n",
    ".reveal {\n",
    "font-size: 200%;\n",
    "}</style>"
   ]
  },
  {
   "cell_type": "code",
   "execution_count": null,
   "metadata": {},
   "outputs": [],
   "source": []
  }
 ],
 "metadata": {
  "celltoolbar": "Slideshow",
  "kernelspec": {
   "display_name": "Python 3",
   "language": "python",
   "name": "python3"
  },
  "language_info": {
   "codemirror_mode": {
    "name": "ipython",
    "version": 3
   },
   "file_extension": ".py",
   "mimetype": "text/x-python",
   "name": "python",
   "nbconvert_exporter": "python",
   "pygments_lexer": "ipython3",
   "version": "3.6.5"
  }
 },
 "nbformat": 4,
 "nbformat_minor": 2
}
