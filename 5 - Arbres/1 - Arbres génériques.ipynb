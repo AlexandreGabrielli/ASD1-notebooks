{
 "cells": [
  {
   "cell_type": "code",
   "execution_count": 1,
   "metadata": {},
   "outputs": [],
   "source": [
    "class Node:\n",
    "    def __init__(self,val):\n",
    "        self.data = val\n",
    "        self.children = []\n",
    "        \n",
    "    def add_child(self,val):\n",
    "        self.children.append(Node(val))\n",
    "        return self.children[len(self.children)-1]"
   ]
  },
  {
   "cell_type": "code",
   "execution_count": 2,
   "metadata": {},
   "outputs": [],
   "source": [
    "racine = Node('A')\n",
    "b = racine.add_child('B')\n",
    "c = racine.add_child('C')\n",
    "d = racine.add_child('D')\n",
    "e = racine.add_child('E')\n",
    "f = b.add_child('F')\n",
    "g = b.add_child('G')\n",
    "h = d.add_child('H')\n",
    "i = e.add_child('I')\n",
    "j = e.add_child('J')\n",
    "k = e.add_child('K')\n"
   ]
  },
  {
   "cell_type": "markdown",
   "metadata": {},
   "source": [
    "![arbre generique](illustrations/arbre_generique.png)"
   ]
  },
  {
   "cell_type": "code",
   "execution_count": 3,
   "metadata": {},
   "outputs": [],
   "source": [
    "def parcoursEnProfondeur(R):\n",
    "    if R:\n",
    "        print(R.data, end=\" \")\n",
    "        for r in R.children:\n",
    "            parcoursEnProfondeur(r)"
   ]
  },
  {
   "cell_type": "code",
   "execution_count": 4,
   "metadata": {},
   "outputs": [
    {
     "name": "stdout",
     "output_type": "stream",
     "text": [
      "A B F G C D H E I J K "
     ]
    }
   ],
   "source": [
    "parcoursEnProfondeur(racine)"
   ]
  },
  {
   "cell_type": "code",
   "execution_count": 5,
   "metadata": {},
   "outputs": [],
   "source": [
    "def affichage_indente(R,level):\n",
    "    if R:\n",
    "        print(''.rjust(level*2),R.data)\n",
    "        for r in R.children:\n",
    "            affichage_indente(r,level+1)"
   ]
  },
  {
   "cell_type": "code",
   "execution_count": 6,
   "metadata": {},
   "outputs": [
    {
     "name": "stdout",
     "output_type": "stream",
     "text": [
      " A\n",
      "   B\n",
      "     F\n",
      "     G\n",
      "   C\n",
      "   D\n",
      "     H\n",
      "   E\n",
      "     I\n",
      "     J\n",
      "     K\n"
     ]
    }
   ],
   "source": [
    "affichage_indente(racine,0)"
   ]
  },
  {
   "cell_type": "code",
   "execution_count": 7,
   "metadata": {},
   "outputs": [],
   "source": [
    "def affichage_listes_imbriquees(R):\n",
    "    if R:\n",
    "        print(R.data,end=\"\")\n",
    "        if len(R.children) > 0:\n",
    "            print(\"(\",end=\"\")\n",
    "            for i,r in enumerate(R.children):\n",
    "                if i > 0:\n",
    "                    print(\",\",end=\"\")\n",
    "                affichage_listes_imbriquees(r)\n",
    "            print(\")\",end =\"\")\n",
    "    "
   ]
  },
  {
   "cell_type": "code",
   "execution_count": 8,
   "metadata": {},
   "outputs": [
    {
     "name": "stdout",
     "output_type": "stream",
     "text": [
      "A(B(F,G),C,D(H),E(I,J,K))"
     ]
    }
   ],
   "source": [
    "affichage_listes_imbriquees(racine)"
   ]
  },
  {
   "cell_type": "code",
   "execution_count": 9,
   "metadata": {},
   "outputs": [],
   "source": [
    "from collections import deque\n",
    "# deque est utilisée comme une queue \n",
    "\n",
    "def parcoursEnLargeur(R):\n",
    "    Q = deque()\n",
    "    Q.appendleft(R)             # enqueue\n",
    "    while len(Q) != 0:\n",
    "        n = Q.pop()             # dequeue\n",
    "        print(n.data, end=\" \")\n",
    "        for c in n.children:\n",
    "            Q.appendleft(c)     # enqueue"
   ]
  },
  {
   "cell_type": "code",
   "execution_count": 10,
   "metadata": {},
   "outputs": [
    {
     "name": "stdout",
     "output_type": "stream",
     "text": [
      "A B C D E F G H I J K "
     ]
    }
   ],
   "source": [
    "parcoursEnLargeur(racine)"
   ]
  },
  {
   "cell_type": "code",
   "execution_count": 11,
   "metadata": {},
   "outputs": [],
   "source": [
    "def degreArbre(R):\n",
    "    if R:\n",
    "        d = len(R.children)\n",
    "        for c in R.children:\n",
    "            d = max(d,degreArbre(c))\n",
    "        return d\n",
    "    else:\n",
    "        return 0"
   ]
  },
  {
   "cell_type": "code",
   "execution_count": 12,
   "metadata": {},
   "outputs": [
    {
     "data": {
      "text/plain": [
       "4"
      ]
     },
     "execution_count": 12,
     "metadata": {},
     "output_type": "execute_result"
    }
   ],
   "source": [
    "degreArbre(racine)"
   ]
  },
  {
   "cell_type": "code",
   "execution_count": 13,
   "metadata": {},
   "outputs": [],
   "source": [
    "def hauteur(R):\n",
    "    if R:\n",
    "        h = 1\n",
    "        for c in R.children:\n",
    "            h = max(h,hauteur(c)+1)\n",
    "        return h\n",
    "    else:\n",
    "        return 0"
   ]
  },
  {
   "cell_type": "code",
   "execution_count": 14,
   "metadata": {},
   "outputs": [
    {
     "data": {
      "text/plain": [
       "3"
      ]
     },
     "execution_count": 14,
     "metadata": {},
     "output_type": "execute_result"
    }
   ],
   "source": [
    "hauteur(racine)"
   ]
  },
  {
   "cell_type": "code",
   "execution_count": 15,
   "metadata": {},
   "outputs": [],
   "source": [
    "def taille(R):\n",
    "    if R:\n",
    "        t = 1\n",
    "        for c in R.children:\n",
    "            t += taille(c)\n",
    "        return t\n",
    "    else:\n",
    "        return 0"
   ]
  },
  {
   "cell_type": "code",
   "execution_count": 16,
   "metadata": {},
   "outputs": [
    {
     "data": {
      "text/plain": [
       "11"
      ]
     },
     "execution_count": 16,
     "metadata": {},
     "output_type": "execute_result"
    }
   ],
   "source": [
    "taille(racine)"
   ]
  },
  {
   "cell_type": "code",
   "execution_count": 17,
   "metadata": {},
   "outputs": [],
   "source": [
    "def feuilles(R):\n",
    "    if R:\n",
    "        if len(R.children) == 0:\n",
    "            print(R.data, end=\" \")\n",
    "        else:\n",
    "            for c in R.children:\n",
    "                feuilles(c)"
   ]
  },
  {
   "cell_type": "code",
   "execution_count": 18,
   "metadata": {},
   "outputs": [
    {
     "name": "stdout",
     "output_type": "stream",
     "text": [
      "F G C H I J K "
     ]
    }
   ],
   "source": [
    "feuilles(racine)"
   ]
  },
  {
   "cell_type": "code",
   "execution_count": null,
   "metadata": {},
   "outputs": [],
   "source": []
  }
 ],
 "metadata": {
  "kernelspec": {
   "display_name": "Python 3",
   "language": "python",
   "name": "python3"
  },
  "language_info": {
   "codemirror_mode": {
    "name": "ipython",
    "version": 3
   },
   "file_extension": ".py",
   "mimetype": "text/x-python",
   "name": "python",
   "nbconvert_exporter": "python",
   "pygments_lexer": "ipython3",
   "version": "3.6.5"
  }
 },
 "nbformat": 4,
 "nbformat_minor": 2
}
