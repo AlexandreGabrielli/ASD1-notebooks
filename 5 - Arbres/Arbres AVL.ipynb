{
 "cells": [
  {
   "cell_type": "code",
   "execution_count": 1,
   "metadata": {},
   "outputs": [],
   "source": [
    "class Node:\n",
    "    def __init__(self,val):\n",
    "        self.data = val\n",
    "        self.droite = None\n",
    "        self.gauche = None\n",
    "        self.hauteur = 1"
   ]
  },
  {
   "cell_type": "code",
   "execution_count": 2,
   "metadata": {},
   "outputs": [],
   "source": [
    "def hauteur(R):\n",
    "    return R.hauteur if R else 0"
   ]
  },
  {
   "cell_type": "code",
   "execution_count": 3,
   "metadata": {},
   "outputs": [],
   "source": [
    "def calculer_hauteur(R):\n",
    "    if R:\n",
    "        R.hauteur = max( hauteur(R.gauche), hauteur(R.droite)) + 1"
   ]
  },
  {
   "cell_type": "code",
   "execution_count": 4,
   "metadata": {},
   "outputs": [],
   "source": [
    "def equilibre(R):    \n",
    "    return hauteur(R.gauche) - hauteur(R.droite) if R else 0"
   ]
  },
  {
   "cell_type": "code",
   "execution_count": 5,
   "metadata": {},
   "outputs": [],
   "source": [
    "def rotation_droite(x):\n",
    "    y = x.gauche\n",
    "    x.gauche = y.droite\n",
    "    y.droite = x\n",
    "    calculer_hauteur(x)\n",
    "    calculer_hauteur(y)\n",
    "    return y"
   ]
  },
  {
   "cell_type": "code",
   "execution_count": 6,
   "metadata": {},
   "outputs": [],
   "source": [
    "def rotation_gauche(x):\n",
    "    y = x.droite\n",
    "    x.droite = y.gauche\n",
    "    y.gauche = x\n",
    "    calculer_hauteur(x)\n",
    "    calculer_hauteur(y)\n",
    "    return y"
   ]
  },
  {
   "cell_type": "code",
   "execution_count": 7,
   "metadata": {},
   "outputs": [],
   "source": [
    "def equilibrage(R):\n",
    "    assert(R != None)\n",
    "    eq = equilibre(R)\n",
    "    if eq < -1:\n",
    "        if equilibre(R.droite) > 0:\n",
    "            R.droite = rotation_droite( R.droite )\n",
    "        R = rotation_gauche(R)    \n",
    "    elif eq > 1:\n",
    "        if equilibre(R.gauche) < 0:\n",
    "            R.gauche = rotation_gauche(R.gauche)\n",
    "        R = rotation_droite(R)\n",
    "    else:\n",
    "        calculer_hauteur(R)\n",
    "    return R"
   ]
  },
  {
   "cell_type": "code",
   "execution_count": 8,
   "metadata": {},
   "outputs": [],
   "source": [
    "def inserer(R,val,equilibrer = True):\n",
    "    if R == None:\n",
    "        return Node(val)\n",
    "    else:\n",
    "        if val < R.data:\n",
    "            R.gauche = inserer(R.gauche,val,equilibrer)\n",
    "        elif val > R.data:\n",
    "            R.droite = inserer(R.droite,val,equilibrer)\n",
    "        else: # val == R.data\n",
    "            pass\n",
    "        return equilibrage(R) if equilibrer else R"
   ]
  },
  {
   "cell_type": "code",
   "execution_count": 9,
   "metadata": {},
   "outputs": [],
   "source": [
    "import include.helpers as h\n",
    "\n",
    "R = None"
   ]
  },
  {
   "cell_type": "code",
   "execution_count": 10,
   "metadata": {},
   "outputs": [
    {
     "data": {
      "image/png": "[encoded data removed]",
      "text/plain": [
       "<IPython.core.display.Image object>"
      ]
     },
     "metadata": {},
     "output_type": "display_data"
    },
    {
     "data": {
      "image/png": "[encoded data removed]",
      "text/plain": [
       "<IPython.core.display.Image object>"
      ]
     },
     "metadata": {},
     "output_type": "display_data"
    },
    {
     "data": {
      "image/png": "[encoded data removed]",
      "text/plain": [
       "<IPython.core.display.Image object>"
      ]
     },
     "metadata": {},
     "output_type": "display_data"
    },
    {
     "data": {
      "image/png": "[encoded data removed]",
      "text/plain": [
       "<IPython.core.display.Image object>"
      ]
     },
     "metadata": {},
     "output_type": "display_data"
    },
    {
     "data": {
      "image/png": "[encoded data removed]",
      "text/plain": [
       "<IPython.core.display.Image object>"
      ]
     },
     "metadata": {},
     "output_type": "display_data"
    },
    {
     "data": {
      "image/png": "[encoded data removed]",
      "text/plain": [
       "<IPython.core.display.Image object>"
      ]
     },
     "metadata": {},
     "output_type": "display_data"
    },
    {
     "data": {
      "image/png": "[encoded data removed]",
      "text/plain": [
       "<IPython.core.display.Image object>"
      ]
     },
     "metadata": {},
     "output_type": "display_data"
    }
   ],
   "source": [
    "for i in range(7):\n",
    "    R = inserer(R,i)\n",
    "    h.afficher_arbre_binaire(R)"
   ]
  },
  {
   "cell_type": "code",
   "execution_count": 11,
   "metadata": {},
   "outputs": [
    {
     "data": {
      "image/png": "[encoded data removed]",
      "text/plain": [
       "<IPython.core.display.Image object>"
      ]
     },
     "metadata": {},
     "output_type": "display_data"
    }
   ],
   "source": [
    "inserer(R,7)\n",
    "h.afficher_arbre_binaire(R)"
   ]
  },
  {
   "cell_type": "code",
   "execution_count": 12,
   "metadata": {},
   "outputs": [
    {
     "data": {
      "image/png": "[encoded data removed]",
      "text/plain": [
       "<IPython.core.display.Image object>"
      ]
     },
     "metadata": {},
     "output_type": "display_data"
    }
   ],
   "source": [
    "inserer(R,8,False)\n",
    "h.afficher_arbre_binaire(R)"
   ]
  },
  {
   "cell_type": "code",
   "execution_count": 13,
   "metadata": {},
   "outputs": [
    {
     "data": {
      "image/png": "[encoded data removed]",
      "text/plain": [
       "<IPython.core.display.Image object>"
      ]
     },
     "metadata": {},
     "output_type": "display_data"
    }
   ],
   "source": [
    "inserer(R,8)\n",
    "h.afficher_arbre_binaire(R)"
   ]
  },
  {
   "cell_type": "code",
   "execution_count": 19,
   "metadata": {},
   "outputs": [
    {
     "data": {
      "image/png": "[encoded data removed]",
      "text/plain": [
       "<IPython.core.display.Image object>"
      ]
     },
     "metadata": {},
     "output_type": "display_data"
    }
   ],
   "source": [
    "R = None\n",
    "R = inserer(R,5)\n",
    "R = inserer(R,2)\n",
    "R = inserer(R,8)\n",
    "R = inserer(R,3)\n",
    "R = inserer(R,1)\n",
    "R = inserer(R,7)\n",
    "R = inserer(R,10)\n",
    "R = inserer(R,4)\n",
    "R = inserer(R,9)\n",
    "R = inserer(R,6)\n",
    "R = inserer(R,11)\n",
    "R = inserer(R,12)\n",
    "h.afficher_arbre_binaire(R)"
   ]
  },
  {
   "cell_type": "code",
   "execution_count": null,
   "metadata": {},
   "outputs": [],
   "source": []
  }
 ],
 "metadata": {
  "kernelspec": {
   "display_name": "Python 3",
   "language": "python",
   "name": "python3"
  },
  "language_info": {
   "codemirror_mode": {
    "name": "ipython",
    "version": 3
   },
   "file_extension": ".py",
   "mimetype": "text/x-python",
   "name": "python",
   "nbconvert_exporter": "python",
   "pygments_lexer": "ipython3",
   "version": "3.6.5"
  }
 },
 "nbformat": 4,
 "nbformat_minor": 2
}
