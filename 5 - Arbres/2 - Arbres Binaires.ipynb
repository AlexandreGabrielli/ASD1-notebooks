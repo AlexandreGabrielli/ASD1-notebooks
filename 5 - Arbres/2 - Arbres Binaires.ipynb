{
 "cells": [
  {
   "cell_type": "code",
   "execution_count": 1,
   "metadata": {},
   "outputs": [],
   "source": [
    "class Node:\n",
    "    def __init__(self,val):\n",
    "        self.data = val\n",
    "        self.left = None\n",
    "        self.right = None"
   ]
  },
  {
   "cell_type": "code",
   "execution_count": 2,
   "metadata": {},
   "outputs": [],
   "source": [
    "racine  = a = Node('A')\n",
    "a.left  = b = Node('B')\n",
    "a.right = c = Node('C')\n",
    "b.left  = d = Node('D')\n",
    "b.right = e = Node('E')\n",
    "c.left  = f = Node('F')"
   ]
  },
  {
   "cell_type": "code",
   "execution_count": 3,
   "metadata": {},
   "outputs": [],
   "source": [
    "def affichage_indente(R,level):\n",
    "    if R:\n",
    "        print(''.rjust(level*2),R.data)\n",
    "        for r in ( R.left, R.right ):\n",
    "            affichage_indente(r,level+1)"
   ]
  },
  {
   "cell_type": "code",
   "execution_count": 4,
   "metadata": {},
   "outputs": [
    {
     "name": "stdout",
     "output_type": "stream",
     "text": [
      " A\n",
      "   B\n",
      "     D\n",
      "     E\n",
      "   C\n",
      "     F\n"
     ]
    }
   ],
   "source": [
    "affichage_indente(racine,0)"
   ]
  },
  {
   "cell_type": "code",
   "execution_count": 5,
   "metadata": {},
   "outputs": [],
   "source": [
    "def parcours_pre_ordonne(R):\n",
    "    if R:\n",
    "        print(R.data,end=\" \")\n",
    "        parcours_pre_ordonne(R.left)\n",
    "        parcours_pre_ordonne(R.right)"
   ]
  },
  {
   "cell_type": "code",
   "execution_count": 6,
   "metadata": {},
   "outputs": [
    {
     "name": "stdout",
     "output_type": "stream",
     "text": [
      "A B D E C F "
     ]
    }
   ],
   "source": [
    "parcours_pre_ordonne(racine)"
   ]
  },
  {
   "cell_type": "code",
   "execution_count": 7,
   "metadata": {},
   "outputs": [],
   "source": [
    "def parcours_symetrique(R):\n",
    "    if R:\n",
    "        parcours_pre_ordonne(R.left)\n",
    "        print(R.data,end=\" \")\n",
    "        parcours_pre_ordonne(R.right)"
   ]
  },
  {
   "cell_type": "code",
   "execution_count": 8,
   "metadata": {},
   "outputs": [
    {
     "name": "stdout",
     "output_type": "stream",
     "text": [
      "B D E A C F "
     ]
    }
   ],
   "source": [
    "parcours_symetrique(racine)"
   ]
  },
  {
   "cell_type": "code",
   "execution_count": 9,
   "metadata": {},
   "outputs": [],
   "source": [
    "def parcours_post_ordonne(R):\n",
    "    if R:\n",
    "        parcours_pre_ordonne(R.left)\n",
    "        parcours_pre_ordonne(R.right)\n",
    "        print(R.data,end=\" \")"
   ]
  },
  {
   "cell_type": "code",
   "execution_count": 10,
   "metadata": {},
   "outputs": [
    {
     "name": "stdout",
     "output_type": "stream",
     "text": [
      "B D E C F A "
     ]
    }
   ],
   "source": [
    "parcours_post_ordonne(racine)"
   ]
  },
  {
   "cell_type": "code",
   "execution_count": 11,
   "metadata": {},
   "outputs": [],
   "source": [
    "from collections import deque\n",
    "\n",
    "def parcoursEnLargeur(R):\n",
    "    Q = deque()\n",
    "    Q.appendleft(R)             # enqueue\n",
    "    while len(Q) != 0:\n",
    "        n = Q.pop()             # dequeue\n",
    "        if n:\n",
    "            print(n.data, end=\" \")\n",
    "            Q.appendleft(n.left) \n",
    "            Q.appendleft(n.right)   "
   ]
  },
  {
   "cell_type": "code",
   "execution_count": 12,
   "metadata": {},
   "outputs": [
    {
     "name": "stdout",
     "output_type": "stream",
     "text": [
      "A B C D E F "
     ]
    }
   ],
   "source": [
    "parcoursEnLargeur(racine)"
   ]
  },
  {
   "cell_type": "code",
   "execution_count": null,
   "metadata": {},
   "outputs": [],
   "source": []
  }
 ],
 "metadata": {
  "kernelspec": {
   "display_name": "Python 3",
   "language": "python",
   "name": "python3"
  },
  "language_info": {
   "codemirror_mode": {
    "name": "ipython",
    "version": 3
   },
   "file_extension": ".py",
   "mimetype": "text/x-python",
   "name": "python",
   "nbconvert_exporter": "python",
   "pygments_lexer": "ipython3",
   "version": "3.6.5"
  }
 },
 "nbformat": 4,
 "nbformat_minor": 2
}
