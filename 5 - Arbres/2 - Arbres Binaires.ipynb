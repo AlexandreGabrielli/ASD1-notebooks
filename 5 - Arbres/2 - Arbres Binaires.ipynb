{
 "cells": [
  {
   "cell_type": "markdown",
   "metadata": {
    "slideshow": {
     "slide_type": "slide"
    }
   },
   "source": [
    "# Arbres binaires"
   ]
  },
  {
   "cell_type": "markdown",
   "metadata": {
    "slideshow": {
     "slide_type": "slide"
    }
   },
   "source": [
    "## Introduction\n",
    "\n",
    "Un arbre binaire est un arbre de degré 2"
   ]
  },
  {
   "cell_type": "markdown",
   "metadata": {
    "slideshow": {
     "slide_type": "fragment"
    }
   },
   "source": [
    "On donne les noms `gauche` et `droite` aux enfants d’un noeud. \n",
    "\n",
    "Cette toponymie est importante. Si un noeud n'a qu'un enfant, il faut savoir si c'est l'enfant gauche ou droit. Cela influence par exemple les parcours."
   ]
  },
  {
   "cell_type": "markdown",
   "metadata": {
    "slideshow": {
     "slide_type": "subslide"
    }
   },
   "source": [
    "On s’y intéresse particulièrement car ils sont \n",
    "* les plus simples\n",
    "\n",
    "\n",
    "* souvent aussi performant que des structures plus complexes\n",
    "\n",
    "\n",
    "* à la base de la majorité des autres arbres \n",
    "    * tas\n",
    "    * arbre binaires de recherche\n",
    "    * arbres AVL\n",
    "    * arbres rouge-noir\n",
    "    * arbres d’Andersson\n",
    "    * …"
   ]
  },
  {
   "cell_type": "markdown",
   "metadata": {
    "slideshow": {
     "slide_type": "slide"
    }
   },
   "source": [
    "## Mise en oeuvre\n",
    "\n",
    "Les noeuds d'un arbre binaire sont typiquement de la forme"
   ]
  },
  {
   "cell_type": "code",
   "execution_count": 1,
   "metadata": {},
   "outputs": [],
   "source": [
    "class Noeud:\n",
    "    def __init__(self,val):\n",
    "        self.donnee = val\n",
    "        self.gauche = None\n",
    "        self.droite = None\n",
    "        \n",
    "    def __str__(self): return \"{}\".format(self.donnee)"
   ]
  },
  {
   "cell_type": "markdown",
   "metadata": {
    "slideshow": {
     "slide_type": "fragment"
    }
   },
   "source": [
    "On peut le construire manuellement "
   ]
  },
  {
   "cell_type": "code",
   "execution_count": 2,
   "metadata": {},
   "outputs": [],
   "source": [
    "racine  = a = Noeud('A')\n",
    "a.gauche = b = Noeud('B'); a.droite = c = Noeud('C')\n",
    "b.gauche = d = Noeud('D'); b.droite = e = Noeud('E')\n",
    "c.gauche = f = Noeud('F')"
   ]
  },
  {
   "cell_type": "markdown",
   "metadata": {
    "slideshow": {
     "slide_type": "subslide"
    }
   },
   "source": [
    "Pour l'affichage, il est important de pouvoir distinguer si un enfant unique est à gauche ou à droite. \n",
    "\n",
    "C'est pourquoi pour les enfants uniques nous affichons le symbole ⌀ pour les enfants absents. \n",
    "\n",
    "Pour simplifier la visualisation, nous ne le faisons pas pour les enfants des feuilles. "
   ]
  },
  {
   "cell_type": "code",
   "execution_count": 3,
   "metadata": {},
   "outputs": [
    {
     "data": {
      "image/png": "[encoded data removed]",
      "text/plain": [
       "<IPython.core.display.Image object>"
      ]
     },
     "metadata": {},
     "output_type": "display_data"
    }
   ],
   "source": [
    "import include.helpers as h\n",
    "h.afficher_arbre_binaire(racine)"
   ]
  },
  {
   "cell_type": "markdown",
   "metadata": {
    "slideshow": {
     "slide_type": "subslide"
    }
   },
   "source": [
    "Illustrons notre choix avec une fonction d'affichage indenté."
   ]
  },
  {
   "cell_type": "code",
   "execution_count": 4,
   "metadata": {},
   "outputs": [],
   "source": [
    "def affichage_complet(R,niveau):\n",
    "    if R:\n",
    "        print('\\t'*niveau,R.donnee)\n",
    "        for r in ( R.gauche, R.droite ):\n",
    "            affichage_complet(r,niveau+1)\n",
    "    else:\n",
    "        print('\\t'*niveau,\"-\")"
   ]
  },
  {
   "cell_type": "code",
   "execution_count": 5,
   "metadata": {
    "slideshow": {
     "slide_type": "subslide"
    }
   },
   "outputs": [
    {
     "name": "stdout",
     "output_type": "stream",
     "text": [
      " A\n",
      "\t B\n",
      "\t\t D\n",
      "\t\t\t -\n",
      "\t\t\t -\n",
      "\t\t E\n",
      "\t\t\t -\n",
      "\t\t\t -\n",
      "\t C\n",
      "\t\t F\n",
      "\t\t\t -\n",
      "\t\t\t -\n",
      "\t\t -\n"
     ]
    }
   ],
   "source": [
    "affichage_complet(racine,0)"
   ]
  },
  {
   "cell_type": "code",
   "execution_count": 6,
   "metadata": {
    "slideshow": {
     "slide_type": "subslide"
    }
   },
   "outputs": [],
   "source": [
    "def affichage_simplifie(R,niveau):\n",
    "    if R:\n",
    "        print('\\t'*niveau,R.donnee)\n",
    "        if R.gauche or R.droite:\n",
    "            for r in ( R.gauche, R.droite ):\n",
    "                affichage_simplifie(r,niveau+1)\n",
    "    else:\n",
    "        print('\\t'*niveau,\"-\")"
   ]
  },
  {
   "cell_type": "code",
   "execution_count": 7,
   "metadata": {
    "slideshow": {
     "slide_type": "fragment"
    }
   },
   "outputs": [
    {
     "name": "stdout",
     "output_type": "stream",
     "text": [
      " A\n",
      "\t B\n",
      "\t\t D\n",
      "\t\t E\n",
      "\t C\n",
      "\t\t F\n",
      "\t\t -\n"
     ]
    }
   ],
   "source": [
    "affichage_simplifie(racine,0)"
   ]
  },
  {
   "cell_type": "markdown",
   "metadata": {
    "slideshow": {
     "slide_type": "slide"
    }
   },
   "source": [
    "# Parcours en profondeur \n",
    "\n",
    "Il définit 3 ordres selon que l'on traite les éléments **avant**, **entre** ou **après** les 2 appels récursifs."
   ]
  },
  {
   "cell_type": "code",
   "execution_count": 8,
   "metadata": {},
   "outputs": [],
   "source": [
    "def parcours_pre_ordonne(R,fn):\n",
    "    if R:\n",
    "        fn(R)\n",
    "        parcours_pre_ordonne(R.gauche)\n",
    "        parcours_pre_ordonne(R.droite)\n",
    "\n",
    "def parcours_symetrique(R,fn):\n",
    "    if R:\n",
    "        parcours_symetrique(R.gauche)\n",
    "        fn(R)\n",
    "        parcours_symetrique(R.droite)\n",
    "        \n",
    "def parcours_post_ordonne(R,fn):\n",
    "    if R:\n",
    "        parcours_post_ordonne(R.gauche)\n",
    "        parcours_post_ordonne(R.droite)\n",
    "        fn(R)"
   ]
  },
  {
   "cell_type": "markdown",
   "metadata": {
    "slideshow": {
     "slide_type": "subslide"
    }
   },
   "source": [
    "On peut aussi écrire un parcours en profondeur plus général prenant 3 fonctions en paramètres d'entrée"
   ]
  },
  {
   "cell_type": "code",
   "execution_count": 9,
   "metadata": {},
   "outputs": [],
   "source": [
    "def parcours_en_profondeur(R,pre,sym,post):\n",
    "    if R:\n",
    "        pre(R)\n",
    "        parcours_en_profondeur(R.gauche,pre,sym,post)\n",
    "        sym(R)\n",
    "        parcours_en_profondeur(R.droite,pre,sym,post)\n",
    "        post(R)"
   ]
  },
  {
   "cell_type": "markdown",
   "metadata": {
    "slideshow": {
     "slide_type": "subslide"
    }
   },
   "source": [
    "Les parcours pré-ordonné, symétrique et post-ordonné s'écrivent alors"
   ]
  },
  {
   "cell_type": "code",
   "execution_count": 10,
   "metadata": {},
   "outputs": [],
   "source": [
    "def no_op(R): pass\n",
    "\n",
    "def parcours_pre_ordonne(R,fn): \n",
    "    parcours_en_profondeur(R,fn,no_op,no_op)\n",
    "\n",
    "def parcours_symetrique(R,fn): \n",
    "    parcours_en_profondeur(R,no_op,fn,no_op)\n",
    "\n",
    "def parcours_post_ordonne(R,fn): \n",
    "    parcours_en_profondeur(R,no_op,no_op,fn)"
   ]
  },
  {
   "cell_type": "code",
   "execution_count": 11,
   "metadata": {
    "slideshow": {
     "slide_type": "subslide"
    }
   },
   "outputs": [
    {
     "data": {
      "image/png": "[encoded data removed]",
      "text/plain": [
       "<IPython.core.display.Image object>"
      ]
     },
     "metadata": {},
     "output_type": "display_data"
    }
   ],
   "source": [
    "h.afficher_arbre_binaire(racine)\n",
    "\n",
    "# Effectuer le parcours pré-ordonné de cet arbre"
   ]
  },
  {
   "cell_type": "code",
   "execution_count": 12,
   "metadata": {
    "slideshow": {
     "slide_type": "fragment"
    }
   },
   "outputs": [
    {
     "name": "stdout",
     "output_type": "stream",
     "text": [
      "A B D E C F "
     ]
    }
   ],
   "source": [
    "def afficher_noeud(R): print(R,end = \" \")\n",
    "parcours_pre_ordonne(racine, afficher_noeud)"
   ]
  },
  {
   "cell_type": "code",
   "execution_count": 13,
   "metadata": {
    "slideshow": {
     "slide_type": "subslide"
    }
   },
   "outputs": [
    {
     "data": {
      "image/png": "[encoded data removed]",
      "text/plain": [
       "<IPython.core.display.Image object>"
      ]
     },
     "metadata": {},
     "output_type": "display_data"
    }
   ],
   "source": [
    "h.afficher_arbre_binaire(racine)\n",
    "\n",
    "# Effectuer le parcours symétrique de cet arbre"
   ]
  },
  {
   "cell_type": "code",
   "execution_count": 14,
   "metadata": {
    "slideshow": {
     "slide_type": "fragment"
    }
   },
   "outputs": [
    {
     "name": "stdout",
     "output_type": "stream",
     "text": [
      "D B E A F C "
     ]
    }
   ],
   "source": [
    "parcours_symetrique(racine, afficher_noeud)"
   ]
  },
  {
   "cell_type": "code",
   "execution_count": 15,
   "metadata": {
    "slideshow": {
     "slide_type": "subslide"
    }
   },
   "outputs": [
    {
     "data": {
      "image/png": "[encoded data removed]",
      "text/plain": [
       "<IPython.core.display.Image object>"
      ]
     },
     "metadata": {},
     "output_type": "display_data"
    }
   ],
   "source": [
    "h.afficher_arbre_binaire(racine)\n",
    "\n",
    "# Effectuer le parcours post-ordonné de cet arbre"
   ]
  },
  {
   "cell_type": "code",
   "execution_count": 16,
   "metadata": {
    "slideshow": {
     "slide_type": "fragment"
    }
   },
   "outputs": [
    {
     "name": "stdout",
     "output_type": "stream",
     "text": [
      "D E B F C A "
     ]
    }
   ],
   "source": [
    "parcours_post_ordonne(racine, afficher_noeud)"
   ]
  },
  {
   "cell_type": "markdown",
   "metadata": {
    "slideshow": {
     "slide_type": "slide"
    }
   },
   "source": [
    "## Parcours en largeur "
   ]
  },
  {
   "cell_type": "code",
   "execution_count": 17,
   "metadata": {},
   "outputs": [],
   "source": [
    "from queue import Queue\n",
    "\n",
    "def parcoursEnLargeur(R):\n",
    "    Q = Queue()\n",
    "    Q.put(R)             \n",
    "    while not Q.empty():\n",
    "        n = Q.get()           \n",
    "        if n:\n",
    "            print(n, end=\" \")\n",
    "            Q.put(n.gauche) \n",
    "            Q.put(n.droite)   "
   ]
  },
  {
   "cell_type": "code",
   "execution_count": 18,
   "metadata": {
    "slideshow": {
     "slide_type": "subslide"
    }
   },
   "outputs": [
    {
     "data": {
      "image/png": "[encoded data removed]",
      "text/plain": [
       "<IPython.core.display.Image object>"
      ]
     },
     "metadata": {},
     "output_type": "display_data"
    }
   ],
   "source": [
    "h.afficher_arbre_binaire(racine)\n",
    "\n",
    "# Effectuer le parcours en largeur de cet arbre"
   ]
  },
  {
   "cell_type": "code",
   "execution_count": 19,
   "metadata": {
    "slideshow": {
     "slide_type": "fragment"
    }
   },
   "outputs": [
    {
     "name": "stdout",
     "output_type": "stream",
     "text": [
      "A B C D E F "
     ]
    }
   ],
   "source": [
    "parcoursEnLargeur(racine)"
   ]
  },
  {
   "cell_type": "markdown",
   "metadata": {
    "slideshow": {
     "slide_type": "slide"
    }
   },
   "source": [
    "<table style=\"width: 100%; border: 0px\">\n",
    "<tr style=\"background-color:white; border:0px\">\n",
    "<td style=\"width: 120px; border: 0px\">\n",
    "    <img src=\"https://heig-vd.ch/ResourcePackages/WhiteFox/assets/images/logo-heig-vd.svg\" height=200px align=left >\n",
    "    </td>\n",
    "    <td style=\"vertical-align: middle; border: 0px\" height=200px>\n",
    "    <p style=\"text-align: left\">\n",
    "        <a href=\"https://ocuisenaire.github.io/ASD1-notebooks/\">ASD1 Notebooks on GitHub.io</a>\n",
    " </p>        \n",
    "<p style=\"text-align: left\">\n",
    "© Olivier Cuisenaire, 2018 </p>\n",
    "</td>\n",
    "</tr>\n",
    "</table>"
   ]
  },
  {
   "cell_type": "raw",
   "metadata": {},
   "source": [
    "<style type=\"text/css\">\n",
    ".reveal {\n",
    "font-size: 200%;\n",
    "}</style>"
   ]
  },
  {
   "cell_type": "code",
   "execution_count": null,
   "metadata": {},
   "outputs": [],
   "source": []
  }
 ],
 "metadata": {
  "celltoolbar": "Slideshow",
  "kernelspec": {
   "display_name": "Python 3",
   "language": "python",
   "name": "python3"
  },
  "language_info": {
   "codemirror_mode": {
    "name": "ipython",
    "version": 3
   },
   "file_extension": ".py",
   "mimetype": "text/x-python",
   "name": "python",
   "nbconvert_exporter": "python",
   "pygments_lexer": "ipython3",
   "version": "3.6.5"
  }
 },
 "nbformat": 4,
 "nbformat_minor": 2
}
