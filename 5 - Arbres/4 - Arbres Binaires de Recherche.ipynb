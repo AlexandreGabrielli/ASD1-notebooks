{
 "cells": [
  {
   "cell_type": "markdown",
   "metadata": {
    "slideshow": {
     "slide_type": "slide"
    }
   },
   "source": [
    "# Arbres binaires de recherche"
   ]
  },
  {
   "cell_type": "markdown",
   "metadata": {
    "slideshow": {
     "slide_type": "slide"
    }
   },
   "source": [
    "## Principe\n",
    "\n",
    "Un ABR est un arbre binaire dont les étiquettes, appelées clés\n",
    "\n",
    "* sont de type ordonné \n",
    "* satisfont la condition d'ABR: Pour tout noeud `R` de l'ABR, \n",
    "\n",
    "    * `G.clef < R.clef` , pour tout noeud G du sous-arbre de `R.gauche`\n",
    "    * `D.clef > R.clef` , pour tout noeud D du sous-arbre de `R.droite`\n"
   ]
  },
  {
   "cell_type": "code",
   "execution_count": 2,
   "metadata": {},
   "outputs": [],
   "source": [
    "class Noeud:\n",
    "    def __init__(self,val):\n",
    "        self.clef = val\n",
    "        self.gauche = None\n",
    "        self.droite = None"
   ]
  },
  {
   "cell_type": "markdown",
   "metadata": {
    "slideshow": {
     "slide_type": "subslide"
    }
   },
   "source": [
    "Par exemple, l'arbre suivant respecte la condition d'ABR"
   ]
  },
  {
   "cell_type": "code",
   "execution_count": 34,
   "metadata": {
    "slideshow": {
     "slide_type": "skip"
    }
   },
   "outputs": [],
   "source": [
    "R = Noeud(4)\n",
    "R.gauche = G = Noeud(2)\n",
    "G.gauche = Noeud(1); G.droite = Noeud(3)\n",
    "R.droite = D = Noeud(5)\n",
    "D.droite = DD = Noeud(7)\n",
    "DD.gauche = Noeud(6)\n",
    "import include.helpers as h"
   ]
  },
  {
   "cell_type": "code",
   "execution_count": 35,
   "metadata": {},
   "outputs": [
    {
     "data": {
      "image/png": "[encoded data removed]",
      "text/plain": [
       "<IPython.core.display.Image object>"
      ]
     },
     "metadata": {},
     "output_type": "display_data"
    }
   ],
   "source": [
    "h.afficher_ABR(R)"
   ]
  },
  {
   "cell_type": "markdown",
   "metadata": {
    "slideshow": {
     "slide_type": "slide"
    }
   },
   "source": [
    "## Recherche\n",
    "\n",
    "La condition d'ABR permet de recherche efficacement une clef dans l'arbre. \n",
    "\n",
    "En comparant la valeur cherchée à la clef de la racine `R` d'un sous-arbre, on a toujours 4 possibilités\n",
    "\n",
    "* Le sous-arbre `R` est vide → la valeur est absente\n",
    "* `valeur == R.clef` → on l'a trouvée\n",
    "* `valeur  < R.clef` → il faut chercher à gauche\n",
    "* `valeur  > R.clef` → il faut chercher à droite"
   ]
  },
  {
   "cell_type": "code",
   "execution_count": 36,
   "metadata": {
    "slideshow": {
     "slide_type": "subslide"
    }
   },
   "outputs": [],
   "source": [
    "def chercher(R,val): \n",
    "    # retourne le noeud de clé val ou None si absent\n",
    "    if R == None: \n",
    "        return None\n",
    "    print(R.clef, end=\" \") # pour la demo seulement\n",
    "    if val == R.clef: \n",
    "        return R\n",
    "    elif val < R.clef:\n",
    "        return chercher(R.gauche,val)\n",
    "    else: # val > R.clef:\n",
    "        return chercher(R.droite,val)\n",
    "\n",
    "def contient(R,val):\n",
    "    # retourne un booléen\n",
    "    return chercher(R,val) != None"
   ]
  },
  {
   "cell_type": "code",
   "execution_count": 37,
   "metadata": {
    "slideshow": {
     "slide_type": "subslide"
    }
   },
   "outputs": [
    {
     "data": {
      "image/png": "[encoded data removed]",
      "text/plain": [
       "<IPython.core.display.Image object>"
      ]
     },
     "metadata": {},
     "output_type": "display_data"
    }
   ],
   "source": [
    "h.afficher_ABR(R)\n",
    "\n",
    "# Tracez la recherche des clés 3, 6 et 8"
   ]
  },
  {
   "cell_type": "code",
   "execution_count": 38,
   "metadata": {
    "slideshow": {
     "slide_type": "fragment"
    }
   },
   "outputs": [
    {
     "name": "stdout",
     "output_type": "stream",
     "text": [
      "4 2 3 True\n"
     ]
    }
   ],
   "source": [
    "print(contient(R,3))"
   ]
  },
  {
   "cell_type": "code",
   "execution_count": 39,
   "metadata": {
    "slideshow": {
     "slide_type": "fragment"
    }
   },
   "outputs": [
    {
     "name": "stdout",
     "output_type": "stream",
     "text": [
      "4 5 7 6 True\n"
     ]
    }
   ],
   "source": [
    "print(contient(R,6))"
   ]
  },
  {
   "cell_type": "code",
   "execution_count": 40,
   "metadata": {
    "slideshow": {
     "slide_type": "fragment"
    }
   },
   "outputs": [
    {
     "name": "stdout",
     "output_type": "stream",
     "text": [
      "4 5 7 False\n"
     ]
    }
   ],
   "source": [
    "print(contient(R,8))"
   ]
  },
  {
   "cell_type": "markdown",
   "metadata": {
    "slideshow": {
     "slide_type": "subslide"
    }
   },
   "source": [
    "Notons que l'on peut aussi écrire la fonction sous forme itérative"
   ]
  },
  {
   "cell_type": "code",
   "execution_count": 42,
   "metadata": {},
   "outputs": [],
   "source": [
    "def chercher(R,val): \n",
    "    while R:\n",
    "        if val == R.clef: \n",
    "            break\n",
    "        elif val < R.clef:\n",
    "            R = R.gauche\n",
    "        else: # val > R.clef:\n",
    "            R = R.droite\n",
    "    return R"
   ]
  },
  {
   "cell_type": "markdown",
   "metadata": {
    "slideshow": {
     "slide_type": "slide"
    }
   },
   "source": [
    "## Insertion\n",
    "\n",
    "Il suffit de créer un nouveau noeud et de l'accrocher au bon endroit dans l'arbre... "
   ]
  },
  {
   "cell_type": "markdown",
   "metadata": {
    "slideshow": {
     "slide_type": "fragment"
    }
   },
   "source": [
    "Algorithme quasiment identique à celui de recherche, sauf\n",
    "\n",
    "* quand il trouve la clé, il n'insère rien. Un ABR ne contient normalement pas de clef dupliquée\n",
    "\n",
    "\n",
    "* quand il atteint `None`, il retourne le nouveau noeud dont il a trouvé l'emplacement\n",
    "\n",
    "\n",
    "* quand il récurse à gauche ou à droite, il raccroche la valeur retournée à l'arbre"
   ]
  },
  {
   "cell_type": "code",
   "execution_count": 110,
   "metadata": {
    "slideshow": {
     "slide_type": "subslide"
    }
   },
   "outputs": [],
   "source": [
    "def inserer(R,val):\n",
    "    if R == None:\n",
    "        R = Noeud(val)\n",
    "        \n",
    "    elif val < R.clef:\n",
    "        R.gauche = inserer(R.gauche,val)\n",
    "    \n",
    "    elif val > R.clef:\n",
    "        R.droite = inserer(R.droite,val)\n",
    "    \n",
    "    else: # val == R.clef\n",
    "        pass\n",
    "    \n",
    "    return R"
   ]
  },
  {
   "cell_type": "code",
   "execution_count": 113,
   "metadata": {
    "slideshow": {
     "slide_type": "subslide"
    }
   },
   "outputs": [],
   "source": [
    "T = [ 3, 4, 7, 6, 3, 5, 6, 1, 2 ]\n",
    "R = None\n",
    "for t in T: R = inserer(R,t)\n",
    "    \n",
    "# Dessinez l'ABR après les insertions"
   ]
  },
  {
   "cell_type": "code",
   "execution_count": 114,
   "metadata": {
    "slideshow": {
     "slide_type": "fragment"
    }
   },
   "outputs": [
    {
     "data": {
      "image/png": "[encoded data removed]",
      "text/plain": [
       "<IPython.core.display.Image object>"
      ]
     },
     "metadata": {},
     "output_type": "display_data"
    }
   ],
   "source": [
    "h.afficher_ABR(R)"
   ]
  },
  {
   "cell_type": "markdown",
   "metadata": {
    "slideshow": {
     "slide_type": "slide"
    }
   },
   "source": [
    "## Parcours ordonné\n",
    "\n",
    "La condition d'ABR implique que le parcours symétrique visite les noeuds par ordre croissants"
   ]
  },
  {
   "cell_type": "code",
   "execution_count": 115,
   "metadata": {
    "slideshow": {
     "slide_type": "-"
    }
   },
   "outputs": [
    {
     "name": "stdout",
     "output_type": "stream",
     "text": [
      "1 2 3 4 5 6 7 "
     ]
    }
   ],
   "source": [
    "def parcours_croissant(R):\n",
    "    if R:\n",
    "        parcours_croissant(R.gauche)\n",
    "        print(R.clef, end=\" \")\n",
    "        parcours_croissant(R.droite)\n",
    "        \n",
    "parcours_croissant(R)"
   ]
  },
  {
   "cell_type": "code",
   "execution_count": 116,
   "metadata": {
    "slideshow": {
     "slide_type": "fragment"
    }
   },
   "outputs": [
    {
     "name": "stdout",
     "output_type": "stream",
     "text": [
      "7 6 5 4 3 2 1 "
     ]
    }
   ],
   "source": [
    "def parcours_decroissant(R):\n",
    "    if R:\n",
    "        parcours_decroissant(R.droite)\n",
    "        print(R.clef, end=\" \")\n",
    "        parcours_decroissant(R.gauche)\n",
    "        \n",
    "parcours_decroissant(R)"
   ]
  },
  {
   "cell_type": "markdown",
   "metadata": {
    "slideshow": {
     "slide_type": "slide"
    }
   },
   "source": [
    "## Recherche des extrema\n",
    "\n",
    "Pour trouver le noeud de clef minimale, il suffit d'aller le plus à gauche possible. "
   ]
  },
  {
   "cell_type": "code",
   "execution_count": 117,
   "metadata": {
    "slideshow": {
     "slide_type": "-"
    }
   },
   "outputs": [],
   "source": [
    "def noeud_min(R):\n",
    "    if R == None: raise IndexError()\n",
    "    \n",
    "    if R.gauche: \n",
    "        return noeud_min(R.gauche)\n",
    "    else:\n",
    "        return R\n",
    "        \n",
    "def clef_min(R):\n",
    "    return noeud_min(R).clef"
   ]
  },
  {
   "cell_type": "markdown",
   "metadata": {
    "slideshow": {
     "slide_type": "subslide"
    }
   },
   "source": [
    "Pour le noeud de clef maximale, on fait de même vers la droite"
   ]
  },
  {
   "cell_type": "code",
   "execution_count": 118,
   "metadata": {
    "slideshow": {
     "slide_type": "-"
    }
   },
   "outputs": [],
   "source": [
    "def noeud_max(R):\n",
    "    if R == None: raise IndexError()\n",
    "    return noeud_max(R.droite) if R.droite else R\n",
    "        \n",
    "def clef_max(R):\n",
    "    return noeud_max(R).clef"
   ]
  },
  {
   "cell_type": "code",
   "execution_count": 119,
   "metadata": {
    "slideshow": {
     "slide_type": "subslide"
    }
   },
   "outputs": [
    {
     "data": {
      "image/png": "[encoded data removed]",
      "text/plain": [
       "<IPython.core.display.Image object>"
      ]
     },
     "metadata": {},
     "output_type": "display_data"
    }
   ],
   "source": [
    "h.afficher_ABR(R)\n",
    "\n",
    "# Trouvez les clés minimales et maximales de l'arbre"
   ]
  },
  {
   "cell_type": "code",
   "execution_count": 120,
   "metadata": {
    "slideshow": {
     "slide_type": "fragment"
    }
   },
   "outputs": [
    {
     "name": "stdout",
     "output_type": "stream",
     "text": [
      "clef min: 1\n",
      "clef max: 7\n"
     ]
    }
   ],
   "source": [
    "print(\"clef min:\",clef_min(R))\n",
    "print(\"clef max:\",clef_max(R))"
   ]
  },
  {
   "cell_type": "markdown",
   "metadata": {
    "slideshow": {
     "slide_type": "slide"
    }
   },
   "source": [
    "## Suppression d'un extremum\n",
    "\n",
    "Pour supprimer un élément, il faut \n",
    "\n",
    "* détruire son noeud\n",
    "* raccrocher ses enfants au reste de l'arbre en respectant la condition ABR. \n",
    "\n",
    "Dans le cas d'un extremum, c'est assez simple puisque les extrema ont toujours un enfant vide. Il suffit donc de raccrocher l'autre enfant à la place du noeud supprimé"
   ]
  },
  {
   "cell_type": "code",
   "execution_count": 121,
   "metadata": {
    "slideshow": {
     "slide_type": "subslide"
    }
   },
   "outputs": [],
   "source": [
    "def supprimer_min(R):\n",
    "    if R == None: raise IndexError()\n",
    "\n",
    "    if R.gauche:\n",
    "        R.gauche = supprimer_min(R.gauche)\n",
    "        return R\n",
    "    else:\n",
    "        return R.droite"
   ]
  },
  {
   "cell_type": "code",
   "execution_count": 122,
   "metadata": {
    "slideshow": {
     "slide_type": "subslide"
    }
   },
   "outputs": [
    {
     "data": {
      "image/png": "[encoded data removed]",
      "text/plain": [
       "<IPython.core.display.Image object>"
      ]
     },
     "metadata": {},
     "output_type": "display_data"
    }
   ],
   "source": [
    "h.afficher_ABR(R)\n",
    "\n",
    "# dessinez l'arbre dont on a supprimé le minimum"
   ]
  },
  {
   "cell_type": "code",
   "execution_count": 123,
   "metadata": {
    "slideshow": {
     "slide_type": "subslide"
    }
   },
   "outputs": [
    {
     "data": {
      "image/png": "[encoded data removed]",
      "text/plain": [
       "<IPython.core.display.Image object>"
      ]
     },
     "metadata": {},
     "output_type": "display_data"
    }
   ],
   "source": [
    "R = supprimer_min(R); h.afficher_ABR(R)\n",
    "\n",
    "# dessinez l'arbre dont on a supprimé le minimum"
   ]
  },
  {
   "cell_type": "code",
   "execution_count": 124,
   "metadata": {
    "slideshow": {
     "slide_type": "subslide"
    }
   },
   "outputs": [
    {
     "data": {
      "image/png": "[encoded data removed]",
      "text/plain": [
       "<IPython.core.display.Image object>"
      ]
     },
     "metadata": {},
     "output_type": "display_data"
    }
   ],
   "source": [
    "R = supprimer_min(R); h.afficher_ABR(R)\n",
    "\n",
    "# dessinez l'arbre dont on a supprimé le minimum"
   ]
  },
  {
   "cell_type": "code",
   "execution_count": 125,
   "metadata": {
    "slideshow": {
     "slide_type": "subslide"
    }
   },
   "outputs": [
    {
     "data": {
      "image/png": "[encoded data removed]",
      "text/plain": [
       "<IPython.core.display.Image object>"
      ]
     },
     "metadata": {},
     "output_type": "display_data"
    }
   ],
   "source": [
    "R = supprimer_min(R); h.afficher_ABR(R)"
   ]
  },
  {
   "cell_type": "markdown",
   "metadata": {
    "slideshow": {
     "slide_type": "slide"
    }
   },
   "source": [
    "## Suppression d'un élément quelconque\n",
    "\n",
    "Pour supprimer un noeud quelconque, il faut \n",
    "\n",
    "* le trouver \n",
    "* le détruire s'il est présent\n",
    "* raccrocher son / ses enfants au reste de l'arbre en respectant la condition ABR"
   ]
  },
  {
   "cell_type": "markdown",
   "metadata": {
    "slideshow": {
     "slide_type": "subslide"
    }
   },
   "source": [
    "Le nombre d'enfants d'un noeud d'ABR peut être de \n",
    "\n",
    "* zéro (2, 4, 8)\n",
    "* un (1, 5, 7)\n",
    "* ou deux (3, 6) "
   ]
  },
  {
   "cell_type": "code",
   "execution_count": 129,
   "metadata": {},
   "outputs": [
    {
     "data": {
      "image/png": "[encoded data removed]",
      "text/plain": [
       "<IPython.core.display.Image object>"
      ]
     },
     "metadata": {},
     "output_type": "display_data"
    }
   ],
   "source": [
    "T = [ 6, 3, 1, 2, 5, 4, 7, 8 ]; R = None\n",
    "for t in T: R = inserer(R,t)\n",
    "h.afficher_ABR(R)"
   ]
  },
  {
   "cell_type": "markdown",
   "metadata": {
    "slideshow": {
     "slide_type": "subslide"
    }
   },
   "source": [
    "Nous savons déjà comment \n",
    "\n",
    "* chercher un noeud (`chercher`)\n",
    "* supprimer un noeud ayant zéro ou un enfant (`supprimer_min`)\n",
    "\n",
    "Mais que faire si le noeud à supprimer a deux enfants ? "
   ]
  },
  {
   "cell_type": "markdown",
   "metadata": {
    "slideshow": {
     "slide_type": "subslide"
    }
   },
   "source": [
    "#### Suppression de Hibbard\n",
    "\n",
    "Créer un sous-arbre unique à raccrocher à la place du noeud supprimé.\n",
    "\n",
    "En modifiant le moins possible les 2 sous-arbres existants\n",
    "\n",
    "La racine de ce sous-arbre est extraite d'un des deux sous-arbres pour respecter la condition ABR\n",
    "\n",
    "* soit le minimum du sous-arbre droit\n",
    "* soit le maximum du sous-arbre gauche"
   ]
  },
  {
   "cell_type": "code",
   "execution_count": 132,
   "metadata": {
    "slideshow": {
     "slide_type": "subslide"
    }
   },
   "outputs": [],
   "source": [
    "def supprimer(R,val):\n",
    "    if R == None: \n",
    "        pass\n",
    "    elif val < R.clef: \n",
    "        R.gauche = supprimer(R.gauche,val)\n",
    "    elif val > R.clef:\n",
    "        R.droite = supprimer(R.droite,val)\n",
    "    else: # val == R.clef\n",
    "        if   R.gauche == None: return R.droite\n",
    "        elif R.droite == None: return R.gauche\n",
    "        else: # Hibbard\n",
    "            tmp = noeud_min(R.droite)\n",
    "            R.droite = supprimer_min(R.droite)\n",
    "            tmp.gauche = R.gauche;\n",
    "            tmp.droite = R.droite\n",
    "            R = tmp\n",
    "    return R   "
   ]
  },
  {
   "cell_type": "code",
   "execution_count": 133,
   "metadata": {
    "slideshow": {
     "slide_type": "subslide"
    }
   },
   "outputs": [
    {
     "data": {
      "image/png": "[encoded data removed]",
      "text/plain": [
       "<IPython.core.display.Image object>"
      ]
     },
     "metadata": {},
     "output_type": "display_data"
    }
   ],
   "source": [
    "h.afficher_ABR(R)\n",
    "\n",
    "# Supprimer le noeud de clé 3"
   ]
  },
  {
   "cell_type": "code",
   "execution_count": 134,
   "metadata": {
    "slideshow": {
     "slide_type": "subslide"
    }
   },
   "outputs": [
    {
     "data": {
      "image/png": "[encoded data removed]",
      "text/plain": [
       "<IPython.core.display.Image object>"
      ]
     },
     "metadata": {},
     "output_type": "display_data"
    }
   ],
   "source": [
    "R = supprimer(R,3); h.afficher_ABR(R)\n",
    "\n",
    "# Supprimer le noeud de clé 6"
   ]
  },
  {
   "cell_type": "code",
   "execution_count": 135,
   "metadata": {
    "slideshow": {
     "slide_type": "fragment"
    }
   },
   "outputs": [
    {
     "data": {
      "image/png": "[encoded data removed]",
      "text/plain": [
       "<IPython.core.display.Image object>"
      ]
     },
     "metadata": {},
     "output_type": "display_data"
    }
   ],
   "source": [
    "R = supprimer(R,6); h.afficher_ABR(R)"
   ]
  },
  {
   "cell_type": "markdown",
   "metadata": {
    "slideshow": {
     "slide_type": "slide"
    }
   },
   "source": [
    "<table style=\"width: 100%; border: 0px\">\n",
    "<tr style=\"background-color:white; border:0px\">\n",
    "<td style=\"width: 120px; border: 0px\">\n",
    "    <img src=\"https://heig-vd.ch/ResourcePackages/WhiteFox/assets/images/logo-heig-vd.svg\" height=200px align=left >\n",
    "    </td>\n",
    "    <td style=\"vertical-align: middle; border: 0px\" height=200px>\n",
    "    <p style=\"text-align: left\">\n",
    "        <a href=\"https://ocuisenaire.github.io/ASD1-notebooks/\">ASD1 Notebooks on GitHub.io</a>\n",
    " </p>        \n",
    "<p style=\"text-align: left\">\n",
    "© Olivier Cuisenaire, 2018 </p>\n",
    "</td>\n",
    "</tr>\n",
    "</table>"
   ]
  },
  {
   "cell_type": "raw",
   "metadata": {},
   "source": [
    "<style type=\"text/css\">\n",
    ".reveal {\n",
    "font-size: 200%;\n",
    "}</style>"
   ]
  },
  {
   "cell_type": "code",
   "execution_count": null,
   "metadata": {},
   "outputs": [],
   "source": []
  }
 ],
 "metadata": {
  "celltoolbar": "Slideshow",
  "kernelspec": {
   "display_name": "Python 3",
   "language": "python",
   "name": "python3"
  },
  "language_info": {
   "codemirror_mode": {
    "name": "ipython",
    "version": 3
   },
   "file_extension": ".py",
   "mimetype": "text/x-python",
   "name": "python",
   "nbconvert_exporter": "python",
   "pygments_lexer": "ipython3",
   "version": "3.6.5"
  }
 },
 "nbformat": 4,
 "nbformat_minor": 2
}
