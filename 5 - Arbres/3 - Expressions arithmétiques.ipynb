{
 "cells": [
  {
   "cell_type": "code",
   "execution_count": 1,
   "metadata": {},
   "outputs": [],
   "source": [
    "class Node:\n",
    "    def __init__(self,val):\n",
    "        self.data = val\n",
    "        self.left = None\n",
    "        self.right = None"
   ]
  },
  {
   "cell_type": "code",
   "execution_count": 2,
   "metadata": {},
   "outputs": [],
   "source": [
    "racine = t = Node('*')\n",
    "t.left = a = Node('a')\n",
    "t.right = m = Node('-')\n",
    "m.left = b = Node('b')\n",
    "m.right = c = Node('c')"
   ]
  },
  {
   "cell_type": "code",
   "execution_count": 3,
   "metadata": {},
   "outputs": [],
   "source": [
    "def affichage_indente(R,level):\n",
    "    if R:\n",
    "        print('\\t'*level,R.data)\n",
    "        for r in ( R.left, R.right ):\n",
    "            affichage_indente(r,level+1)"
   ]
  },
  {
   "cell_type": "code",
   "execution_count": 4,
   "metadata": {},
   "outputs": [
    {
     "name": "stdout",
     "output_type": "stream",
     "text": [
      " *\n",
      "\t a\n",
      "\t -\n",
      "\t\t b\n",
      "\t\t c\n"
     ]
    }
   ],
   "source": [
    "affichage_indente(racine,0)"
   ]
  },
  {
   "cell_type": "code",
   "execution_count": 5,
   "metadata": {},
   "outputs": [
    {
     "name": "stdout",
     "output_type": "stream",
     "text": [
      "a * b - c "
     ]
    }
   ],
   "source": [
    "def parcours_symetrique(R):\n",
    "    if R:\n",
    "        parcours_symetrique(R.left)\n",
    "        print(R.data,end=\" \")\n",
    "        parcours_symetrique(R.right)\n",
    "parcours_symetrique(racine)"
   ]
  },
  {
   "cell_type": "code",
   "execution_count": 6,
   "metadata": {},
   "outputs": [
    {
     "name": "stdout",
     "output_type": "stream",
     "text": [
      "(a*(b-c))\n"
     ]
    }
   ],
   "source": [
    "def expression_infixe(R):\n",
    "    str = \"\"\n",
    "    if R:\n",
    "        if R.left:\n",
    "            str += \"(\"\n",
    "            str += expression_infixe(R.left)\n",
    "        str += \"{}\".format(R.data)\n",
    "        if R.right:\n",
    "            str += expression_infixe(R.right)\n",
    "            str += \")\"\n",
    "    return str\n",
    "            \n",
    "expression = expression_infixe(racine)\n",
    "print(expression)"
   ]
  },
  {
   "cell_type": "code",
   "execution_count": 7,
   "metadata": {},
   "outputs": [
    {
     "name": "stdout",
     "output_type": "stream",
     "text": [
      "* a - b c "
     ]
    }
   ],
   "source": [
    "def parcours_pre_ordonne(R):\n",
    "    if R:\n",
    "        print(R.data,end=\" \")\n",
    "        parcours_pre_ordonne(R.left)\n",
    "        parcours_pre_ordonne(R.right)\n",
    "parcours_pre_ordonne(racine)"
   ]
  },
  {
   "cell_type": "code",
   "execution_count": 8,
   "metadata": {},
   "outputs": [
    {
     "name": "stdout",
     "output_type": "stream",
     "text": [
      "a b c - * "
     ]
    }
   ],
   "source": [
    "def parcours_post_ordonne(R):\n",
    "    if R:\n",
    "        parcours_post_ordonne(R.left)\n",
    "        parcours_post_ordonne(R.right)\n",
    "        print(R.data,end=\" \")\n",
    "parcours_post_ordonne(racine)"
   ]
  },
  {
   "cell_type": "code",
   "execution_count": 9,
   "metadata": {},
   "outputs": [],
   "source": [
    "def construire_arbre(str,n):\n",
    "    if str[n].isalpha():\n",
    "        return Node(str[n]),n+1\n",
    "    else:\n",
    "        left,n = construire_arbre(str,n+1)\n",
    "        racine = Node(str[n])\n",
    "        right,n = construire_arbre(str,n+1)\n",
    "        racine.left = left\n",
    "        racine.right = right\n",
    "        return racine,n+1"
   ]
  },
  {
   "cell_type": "code",
   "execution_count": 10,
   "metadata": {},
   "outputs": [
    {
     "name": "stdout",
     "output_type": "stream",
     "text": [
      " *\n",
      "\t a\n",
      "\t -\n",
      "\t\t b\n",
      "\t\t c\n"
     ]
    }
   ],
   "source": [
    "arbre,n = construire_arbre(expression,0)\n",
    "affichage_indente(arbre,0)"
   ]
  },
  {
   "cell_type": "code",
   "execution_count": null,
   "metadata": {},
   "outputs": [],
   "source": []
  }
 ],
 "metadata": {
  "kernelspec": {
   "display_name": "Python 3",
   "language": "python",
   "name": "python3"
  },
  "language_info": {
   "codemirror_mode": {
    "name": "ipython",
    "version": 3
   },
   "file_extension": ".py",
   "mimetype": "text/x-python",
   "name": "python",
   "nbconvert_exporter": "python",
   "pygments_lexer": "ipython3",
   "version": "3.6.5"
  }
 },
 "nbformat": 4,
 "nbformat_minor": 2
}
