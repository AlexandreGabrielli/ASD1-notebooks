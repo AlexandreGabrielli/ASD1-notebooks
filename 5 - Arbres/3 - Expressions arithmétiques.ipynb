{
 "cells": [
  {
   "cell_type": "markdown",
   "metadata": {
    "slideshow": {
     "slide_type": "slide"
    }
   },
   "source": [
    "# Expressions arithmétiques"
   ]
  },
  {
   "cell_type": "markdown",
   "metadata": {
    "slideshow": {
     "slide_type": "slide"
    }
   },
   "source": [
    "Les expressions arithmétiques sont équivalentes à des arbres binaires dont\n",
    "\n",
    "* les feuilles sont des valeurs\n",
    "* les noeuds internes sont des opérations binaires `(+,-,*,/)`\n",
    "* aucun noeud n'est de degré 1 "
   ]
  },
  {
   "cell_type": "code",
   "execution_count": 1,
   "metadata": {
    "slideshow": {
     "slide_type": "skip"
    }
   },
   "outputs": [],
   "source": [
    "class Noeud:\n",
    "    def __init__(self,val):\n",
    "        self.donnee = val\n",
    "        self.gauche = None\n",
    "        self.droite = None\n",
    "    def __str__(self): return \"{}\".format(self.donnee)"
   ]
  },
  {
   "cell_type": "code",
   "execution_count": 2,
   "metadata": {
    "slideshow": {
     "slide_type": "skip"
    }
   },
   "outputs": [],
   "source": [
    "import include.helpers as h"
   ]
  },
  {
   "cell_type": "code",
   "execution_count": 3,
   "metadata": {
    "slideshow": {
     "slide_type": "fragment"
    }
   },
   "outputs": [
    {
     "data": {
      "image/png": "[encoded data removed]",
      "text/plain": [
       "<IPython.core.display.Image object>"
      ]
     },
     "metadata": {},
     "output_type": "display_data"
    }
   ],
   "source": [
    "# Arbre équivalent à l'expression (a*(b+c))\n",
    "\n",
    "R        = t = Noeud('*')\n",
    "t.gauche = a = Noeud('a')\n",
    "t.droite = p = Noeud('+')\n",
    "p.gauche = b = Noeud('b')\n",
    "p.droite = c = Noeud('c')\n",
    "h.afficher_arbre_binaire(R)"
   ]
  },
  {
   "cell_type": "markdown",
   "metadata": {
    "slideshow": {
     "slide_type": "slide"
    }
   },
   "source": [
    "## Notation infixée\n",
    "\n",
    "Elle correspond à la manière usuelle d'écrire les expressions arithmétiques. \n",
    "\n",
    "Les **opérandes** d'une **opération** entourent son symbole. \n",
    "\n",
    "Cela correspond donc à un **parcours symétrique** de l'arbre."
   ]
  },
  {
   "cell_type": "code",
   "execution_count": 4,
   "metadata": {},
   "outputs": [],
   "source": [
    "def expr_infixe(R):\n",
    "    assert(R != None)\n",
    "    str = \"\"\n",
    "    if R.gauche: str += \"(\" + expr_infixe(R.gauche)\n",
    "    str += \"{}\".format(R.donnee)\n",
    "    if R.droite: str += expr_infixe(R.droite) + \")\"\n",
    "    return str"
   ]
  },
  {
   "cell_type": "code",
   "execution_count": 5,
   "metadata": {
    "slideshow": {
     "slide_type": "subslide"
    }
   },
   "outputs": [
    {
     "data": {
      "image/png": "[encoded data removed]",
      "text/plain": [
       "<IPython.core.display.Image object>"
      ]
     },
     "metadata": {},
     "output_type": "display_data"
    }
   ],
   "source": [
    "h.afficher_arbre_binaire(R)\n",
    "\n",
    "# Quelle est l'expression infixe correspondante?"
   ]
  },
  {
   "cell_type": "code",
   "execution_count": 6,
   "metadata": {
    "slideshow": {
     "slide_type": "fragment"
    }
   },
   "outputs": [
    {
     "name": "stdout",
     "output_type": "stream",
     "text": [
      "(a*(b+c))\n"
     ]
    }
   ],
   "source": [
    "infixe = expr_infixe(R); print(infixe)"
   ]
  },
  {
   "cell_type": "markdown",
   "metadata": {
    "slideshow": {
     "slide_type": "slide"
    }
   },
   "source": [
    "## Notation pré-fixée\n",
    "\n",
    "Cette notation correspond au parcours pré-ordonné de l'arbre de l'expression.\n",
    "\n",
    "Elle est aussi connue sous le nom de **notation de [Łukasiewicz](https://fr.wikipedia.org/wiki/Jan_Łukasiewicz)** ou **notation polonaise**. "
   ]
  },
  {
   "cell_type": "code",
   "execution_count": 7,
   "metadata": {},
   "outputs": [],
   "source": [
    "def expr_prefixe(R):\n",
    "    str = \"\"\n",
    "    if R:\n",
    "        str += \"{} \".format(R.donnee)\n",
    "        str += expr_prefixe(R.gauche)\n",
    "        str += expr_prefixe(R.droite)\n",
    "    return str"
   ]
  },
  {
   "cell_type": "code",
   "execution_count": 8,
   "metadata": {
    "slideshow": {
     "slide_type": "subslide"
    }
   },
   "outputs": [
    {
     "data": {
      "image/png": "[encoded data removed]",
      "text/plain": [
       "<IPython.core.display.Image object>"
      ]
     },
     "metadata": {},
     "output_type": "display_data"
    }
   ],
   "source": [
    "h.afficher_arbre_binaire(R)\n",
    "\n",
    "# Quelle est l'expression pré-fixée correspondante?"
   ]
  },
  {
   "cell_type": "code",
   "execution_count": 9,
   "metadata": {
    "slideshow": {
     "slide_type": "fragment"
    }
   },
   "outputs": [
    {
     "name": "stdout",
     "output_type": "stream",
     "text": [
      "* a + b c \n"
     ]
    }
   ],
   "source": [
    "prefixe = expr_prefixe(R); print(prefixe)"
   ]
  },
  {
   "cell_type": "markdown",
   "metadata": {
    "slideshow": {
     "slide_type": "fragment"
    }
   },
   "source": [
    "Elle ne nécessite pas de parenthèse dès lors que chaque opérateur a un nombre fixe d'opérandes.\n",
    "\n",
    "Elle est utilisée (avec parentèses) pour la syntaxe du langage [Common Lisp](https://en.wikipedia.org/wiki/Common_Lisp#Syntax)."
   ]
  },
  {
   "cell_type": "markdown",
   "metadata": {
    "slideshow": {
     "slide_type": "slide"
    }
   },
   "source": [
    "## Notation post-fixée\n",
    "\n",
    "Elle correspond au parcours post-ordonné de l'arbre de l'expression. \n",
    "\n",
    "Aussi connue sous le nom de **notation polonaise inverse**"
   ]
  },
  {
   "cell_type": "code",
   "execution_count": 10,
   "metadata": {},
   "outputs": [],
   "source": [
    "def expr_postfixe(R):\n",
    "    str = \"\"\n",
    "    if R:\n",
    "        str += expr_postfixe(R.gauche)\n",
    "        str += expr_postfixe(R.droite)\n",
    "        str += \"{} \".format(R.donnee)\n",
    "    return str"
   ]
  },
  {
   "cell_type": "code",
   "execution_count": 11,
   "metadata": {
    "slideshow": {
     "slide_type": "subslide"
    }
   },
   "outputs": [
    {
     "data": {
      "image/png": "[encoded data removed]",
      "text/plain": [
       "<IPython.core.display.Image object>"
      ]
     },
     "metadata": {},
     "output_type": "display_data"
    }
   ],
   "source": [
    "h.afficher_arbre_binaire(R)\n",
    "\n",
    "# Quelle est l'expression post-fixée correspondante?"
   ]
  },
  {
   "cell_type": "code",
   "execution_count": 12,
   "metadata": {
    "slideshow": {
     "slide_type": "fragment"
    }
   },
   "outputs": [
    {
     "name": "stdout",
     "output_type": "stream",
     "text": [
      "a b c + * \n"
     ]
    }
   ],
   "source": [
    "postfixe = expr_postfixe(R); print(postfixe)"
   ]
  },
  {
   "cell_type": "markdown",
   "metadata": {
    "slideshow": {
     "slide_type": "fragment"
    }
   },
   "source": [
    "Elle présente l'avantage par rapport à la notation infixe de toujours disposer des opérandes quand on atteint le symbole de l'opérateur, ce qui permet de l'évaluer directement.\n",
    "\n",
    "Elle est utilisée par exemple dans les [calculatrices HP](https://fr.wikipedia.org/wiki/Calculatrices_HP) ou dans le langage [PostScript](https://fr.wikipedia.org/wiki/PostScript). "
   ]
  },
  {
   "cell_type": "markdown",
   "metadata": {
    "slideshow": {
     "slide_type": "slide"
    }
   },
   "source": [
    "## Expression → arbre\n",
    "\n",
    "Il est évidemment possible d'effectuer l'opération inverse, qui convertit une expression préfixe, postfixe ou infixe en arbre. \n",
    "\n",
    "On lit depuis un flux de charactères en entrée et on retourne la racine de l'arbre généré. \n",
    "\n",
    "On utilise la fonction annexe suivante pour simplifier"
   ]
  },
  {
   "cell_type": "code",
   "execution_count": 13,
   "metadata": {},
   "outputs": [],
   "source": [
    "def est_un_operateur(c):\n",
    "    return \"+-*/\".find(c) != -1"
   ]
  },
  {
   "cell_type": "markdown",
   "metadata": {
    "slideshow": {
     "slide_type": "subslide"
    }
   },
   "source": [
    "Le flux d'un expression préfixe contient \n",
    "\n",
    "* pour les opérateurs `+-*/`: la racine, puis le sous-arbre gauche, puis le sous-arbre droit\n",
    "\n",
    "\n",
    "* pour les autres symboles: une feuille de l'arbre \n",
    "\n",
    "Cela définit les cas général et trivial de la récursion"
   ]
  },
  {
   "cell_type": "code",
   "execution_count": 14,
   "metadata": {},
   "outputs": [],
   "source": [
    "from io import StringIO\n",
    "def prefixe_vers_arbre_str(chaine):\n",
    "    s = chaine.replace(\" \",\"\")\n",
    "    return prefixe_vers_arbre(StringIO(s))\n",
    "\n",
    "def prefixe_vers_arbre(flux):\n",
    "    c = flux.read(1)\n",
    "    R = Noeud(c)\n",
    "    if est_un_operateur(c):\n",
    "        R.gauche = prefixe_vers_arbre(flux)\n",
    "        R.droite = prefixe_vers_arbre(flux)\n",
    "    return R"
   ]
  },
  {
   "cell_type": "code",
   "execution_count": 15,
   "metadata": {
    "slideshow": {
     "slide_type": "subslide"
    }
   },
   "outputs": [],
   "source": [
    "prefixe = \"* - + a b / c d + e f\"\n",
    "\n",
    "# Quel est l'arbre correspondant ? \n",
    "# Quel est l'expression infixe correspondante ?"
   ]
  },
  {
   "cell_type": "code",
   "execution_count": 16,
   "metadata": {
    "slideshow": {
     "slide_type": "fragment"
    }
   },
   "outputs": [
    {
     "data": {
      "image/png": "[encoded data removed]",
      "text/plain": [
       "<IPython.core.display.Image object>"
      ]
     },
     "metadata": {},
     "output_type": "display_data"
    },
    {
     "name": "stdout",
     "output_type": "stream",
     "text": [
      "(((a+b)-(c/d))*(e+f))\n"
     ]
    }
   ],
   "source": [
    "R2 = prefixe_vers_arbre_str(prefixe)\n",
    "h.afficher_arbre_binaire(R2)\n",
    "print(expr_infixe(R2))"
   ]
  },
  {
   "cell_type": "markdown",
   "metadata": {
    "slideshow": {
     "slide_type": "slide"
    }
   },
   "source": [
    "## Infixe → arbre \n",
    "\n",
    "On utilise le même prototype pour la conversion infixe vers arbre\n",
    "\n",
    "Le flux d'un expression infixe contient soit \n",
    "\n",
    "* une parenthèse `(`\n",
    "    * suivie d'une expression infixe\n",
    "    * suivie d'un opérateur `+-*/`\n",
    "    * suivie d'une expression infixe\n",
    "    * suivie d'une parenthèse `)`\n",
    "\n",
    "\n",
    "* une feuille de l'arbre\n",
    "\n",
    "Cela définit les cas général et trivial de la récursion"
   ]
  },
  {
   "cell_type": "code",
   "execution_count": 17,
   "metadata": {
    "slideshow": {
     "slide_type": "subslide"
    }
   },
   "outputs": [],
   "source": [
    "def infixe_vers_arbre_str(chaine):\n",
    "    s = chaine.replace(\" \",\"\")\n",
    "    return infixe_vers_arbre(StringIO(s))\n",
    "\n",
    "def infixe_vers_arbre(flux):\n",
    "    c = flux.read(1)\n",
    "    if c == \"(\":\n",
    "        R = Noeud(\"?\")\n",
    "        R.gauche = infixe_vers_arbre(flux) \n",
    "        R.donnee = flux.read(1); \n",
    "        assert(est_un_operateur(R.donnee))\n",
    "        R.droite = infixe_vers_arbre(flux)\n",
    "        c = flux.read(1);        \n",
    "        assert(c == \")\")\n",
    "    else:\n",
    "        R = Noeud(c)\n",
    "    return R"
   ]
  },
  {
   "cell_type": "code",
   "execution_count": 18,
   "metadata": {
    "slideshow": {
     "slide_type": "subslide"
    }
   },
   "outputs": [],
   "source": [
    "infixe = \"( (a*b) + ( (c*d) + (e/f) ) )\"\n",
    "# Quel est l'arbre correspondant ? \n",
    "# Quel est l'expression postfixe correspondante ?"
   ]
  },
  {
   "cell_type": "code",
   "execution_count": 19,
   "metadata": {
    "slideshow": {
     "slide_type": "fragment"
    }
   },
   "outputs": [
    {
     "data": {
      "image/png": "[encoded data removed]",
      "text/plain": [
       "<IPython.core.display.Image object>"
      ]
     },
     "metadata": {},
     "output_type": "display_data"
    },
    {
     "name": "stdout",
     "output_type": "stream",
     "text": [
      "a b * c d * e f / + + \n"
     ]
    }
   ],
   "source": [
    "R3 = infixe_vers_arbre_str(infixe)\n",
    "h.afficher_arbre_binaire(R3)\n",
    "print(expr_postfixe(R3))"
   ]
  },
  {
   "cell_type": "markdown",
   "metadata": {
    "slideshow": {
     "slide_type": "slide"
    }
   },
   "source": [
    "## Postfixe → arbre\n",
    "\n",
    "Cette conversion ne peut pas utiliser le même principe. Notamment parce qu'il n'y a pas de fin naturelle à une expression post-fixe. Il faut donc lire jusque la fin du flux.\n",
    "\n",
    "Par contre, on peut utiliser une simple pile. "
   ]
  },
  {
   "cell_type": "code",
   "execution_count": 20,
   "metadata": {
    "slideshow": {
     "slide_type": "subslide"
    }
   },
   "outputs": [],
   "source": [
    "def postfixe_vers_arbre_str(chaine):\n",
    "    s = chaine.replace(\" \",\"\")\n",
    "    return postfixe_vers_arbre(StringIO(s))\n",
    "\n",
    "def postfixe_vers_arbre(flux):\n",
    "    Pile = []\n",
    "    c = flux.read(1)\n",
    "    while c != \"\":\n",
    "        R = Noeud(c)\n",
    "        if est_un_operateur(c): \n",
    "            R.droite = Pile.pop()\n",
    "            R.gauche = Pile.pop()\n",
    "        Pile.append(R)\n",
    "        c = flux.read(1)\n",
    "    return R"
   ]
  },
  {
   "cell_type": "code",
   "execution_count": 21,
   "metadata": {
    "slideshow": {
     "slide_type": "subslide"
    }
   },
   "outputs": [],
   "source": [
    "postfixe = \"a b - c d e + * +\"\n",
    "# Quel est l'arbre correspondant ? \n",
    "# Quel est l'expression infixe correspondante ?"
   ]
  },
  {
   "cell_type": "code",
   "execution_count": 22,
   "metadata": {
    "slideshow": {
     "slide_type": "fragment"
    }
   },
   "outputs": [
    {
     "data": {
      "image/png": "[encoded data removed]",
      "text/plain": [
       "<IPython.core.display.Image object>"
      ]
     },
     "metadata": {},
     "output_type": "display_data"
    },
    {
     "name": "stdout",
     "output_type": "stream",
     "text": [
      "((a-b)+(c*(d+e)))\n"
     ]
    }
   ],
   "source": [
    "R4 = postfixe_vers_arbre_str(postfixe)\n",
    "h.afficher_arbre_binaire(R4)\n",
    "print(expr_infixe(R4))"
   ]
  },
  {
   "cell_type": "markdown",
   "metadata": {
    "slideshow": {
     "slide_type": "slide"
    }
   },
   "source": [
    "<table style=\"width: 100%; border: 0px\">\n",
    "<tr style=\"background-color:white; border:0px\">\n",
    "<td style=\"width: 120px; border: 0px\">\n",
    "    <img src=\"https://heig-vd.ch/ResourcePackages/WhiteFox/assets/images/logo-heig-vd.svg\" height=200px align=left >\n",
    "    </td>\n",
    "    <td style=\"vertical-align: middle; border: 0px\" height=200px>\n",
    "    <p style=\"text-align: left\">\n",
    "        <a href=\"https://ocuisenaire.github.io/ASD1-notebooks/\">ASD1 Notebooks on GitHub.io</a>\n",
    " </p>        \n",
    "<p style=\"text-align: left\">\n",
    "© Olivier Cuisenaire, 2018 </p>\n",
    "</td>\n",
    "</tr>\n",
    "</table>"
   ]
  },
  {
   "cell_type": "raw",
   "metadata": {},
   "source": [
    "<style type=\"text/css\">\n",
    ".reveal {\n",
    "font-size: 200%;\n",
    "}</style>"
   ]
  },
  {
   "cell_type": "code",
   "execution_count": null,
   "metadata": {},
   "outputs": [],
   "source": []
  }
 ],
 "metadata": {
  "celltoolbar": "Slideshow",
  "kernelspec": {
   "display_name": "Python 3",
   "language": "python",
   "name": "python3"
  },
  "language_info": {
   "codemirror_mode": {
    "name": "ipython",
    "version": 3
   },
   "file_extension": ".py",
   "mimetype": "text/x-python",
   "name": "python",
   "nbconvert_exporter": "python",
   "pygments_lexer": "ipython3",
   "version": "3.6.5"
  }
 },
 "nbformat": 4,
 "nbformat_minor": 2
}
