{
 "cells": [
  {
   "cell_type": "markdown",
   "metadata": {},
   "source": [
    "# Accès aléatoire"
   ]
  },
  {
   "cell_type": "code",
   "execution_count": 2,
   "metadata": {},
   "outputs": [],
   "source": [
    "class Node:\n",
    "    def __init__(self,valeur):\n",
    "        self.clef = valeur\n",
    "        self.gauche = None\n",
    "        self.droite = None\n",
    "        self.taille = 1"
   ]
  },
  {
   "cell_type": "code",
   "execution_count": null,
   "metadata": {},
   "outputs": [],
   "source": [
    "def taille(n):\n",
    "    if n:\n",
    "        return taille(n.gauche) + taille(n.droite) + 1\n",
    "    else:\n",
    "        return 0"
   ]
  },
  {
   "cell_type": "code",
   "execution_count": 3,
   "metadata": {},
   "outputs": [],
   "source": [
    "def taille(n):\n",
    "    return n.taille if n else 0\n",
    "\n",
    "def recalcule_taille(n):\n",
    "    n.taille = taille(gauche) + taille(droite) + 1"
   ]
  },
  {
   "cell_type": "code",
   "execution_count": null,
   "metadata": {},
   "outputs": [],
   "source": [
    "def getitem(n,indice):\n",
    "    if indice < 0 or indice >= taille(n):\n",
    "        raise IndexError(\"\")\n",
    "        \n",
    "    t = taille(n.gauche)\n",
    "    if indice < t:\n",
    "        return getitem(n.gauche,indice)\n",
    "    elif indice > t:\n",
    "        return getitem(n.droit,indice - t -1)\n",
    "    else:\n",
    "        return n"
   ]
  },
  {
   "cell_type": "code",
   "execution_count": 4,
   "metadata": {},
   "outputs": [],
   "source": [
    "def getindice(n,valeur):\n",
    "    if n == None:\n",
    "        return None\n",
    "\n",
    "    if valeur < n.clef:\n",
    "        return getindice(n.gauche,valeur)\n",
    "    elif valeur > n.clef:\n",
    "        return taille(n.gauche) + 1 + getindice(n.droit,valeur)\n",
    "    else:\n",
    "        return taille(n.gauche)"
   ]
  },
  {
   "cell_type": "code",
   "execution_count": null,
   "metadata": {},
   "outputs": [],
   "source": []
  }
 ],
 "metadata": {
  "kernelspec": {
   "display_name": "Python 3",
   "language": "python",
   "name": "python3"
  },
  "language_info": {
   "codemirror_mode": {
    "name": "ipython",
    "version": 3
   },
   "file_extension": ".py",
   "mimetype": "text/x-python",
   "name": "python",
   "nbconvert_exporter": "python",
   "pygments_lexer": "ipython3",
   "version": "3.6.5"
  }
 },
 "nbformat": 4,
 "nbformat_minor": 2
}
