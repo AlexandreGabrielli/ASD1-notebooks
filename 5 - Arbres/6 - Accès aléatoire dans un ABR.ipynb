{
 "cells": [
  {
   "cell_type": "markdown",
   "metadata": {
    "slideshow": {
     "slide_type": "slide"
    }
   },
   "source": [
    "# Accès aléatoire à un arbre <br>binaire de recherche"
   ]
  },
  {
   "cell_type": "markdown",
   "metadata": {
    "slideshow": {
     "slide_type": "slide"
    }
   },
   "source": [
    "## Principe \n",
    "\n",
    "Le but de cette section est d'accéder aléatoirement aux éléments qui sont stockés triés dans l'arbre.\n",
    "\n",
    "Pour cela, nous allons écrire les fonctions "
   ]
  },
  {
   "cell_type": "code",
   "execution_count": 1,
   "metadata": {},
   "outputs": [],
   "source": [
    "def element_d_indice_n(R,n): return # noeud  "
   ]
  },
  {
   "cell_type": "markdown",
   "metadata": {},
   "source": [
    "qui retourne le $(n+1)^{ieme}$ élément de plus petite clef de l'arbre, et "
   ]
  },
  {
   "cell_type": "code",
   "execution_count": 2,
   "metadata": {
    "slideshow": {
     "slide_type": "fragment"
    }
   },
   "outputs": [],
   "source": [
    "def indice_de_l_element(R,val): return # entier "
   ]
  },
  {
   "cell_type": "markdown",
   "metadata": {},
   "source": [
    "qui cherche l'élément de clef `val` et retourne son indice, i.e. le nombre d'éléments ayant de plus petites clefs que lui dans l'arbre. "
   ]
  },
  {
   "cell_type": "markdown",
   "metadata": {
    "slideshow": {
     "slide_type": "slide"
    }
   },
   "source": [
    "## Taille d'un sous-arbre\n",
    "\n",
    "Pour pouvoir mettre en oeuvre ces fonctions efficacement, il faut **ajouter un attribut** stockant la **taille des sous-arbres** dont ils sont la racine **à chaque noeud**. \n",
    "\n",
    "Pour rappel, la taille de l'arbre dont `R` est la racine peut être calculée récursivement pour tout arbre binaire via"
   ]
  },
  {
   "cell_type": "code",
   "execution_count": 3,
   "metadata": {},
   "outputs": [],
   "source": [
    "def taille(R):\n",
    "    if R:\n",
    "        return taille(R.gauche) + taille(R.droite) + 1\n",
    "    else: # arbre vide\n",
    "        return 0"
   ]
  },
  {
   "cell_type": "markdown",
   "metadata": {
    "slideshow": {
     "slide_type": "subslide"
    }
   },
   "source": [
    "La structure des noeuds avec cet attribut supplémentaire est donc "
   ]
  },
  {
   "cell_type": "code",
   "execution_count": 4,
   "metadata": {},
   "outputs": [],
   "source": [
    "class Noeud:\n",
    "    def __init__(self,valeur):\n",
    "        self.clef = valeur\n",
    "        self.gauche = None\n",
    "        self.droite = None\n",
    "        self.taille = 1\n",
    "        \n",
    "    def __str__(self): return \"{}\".format(self.clef)"
   ]
  },
  {
   "cell_type": "markdown",
   "metadata": {
    "slideshow": {
     "slide_type": "fragment"
    }
   },
   "source": [
    "Elle permet de simplifier la fonction `taille`"
   ]
  },
  {
   "cell_type": "code",
   "execution_count": 5,
   "metadata": {},
   "outputs": [],
   "source": [
    "def taille(R):\n",
    "    return R.taille if R else 0"
   ]
  },
  {
   "cell_type": "markdown",
   "metadata": {
    "slideshow": {
     "slide_type": "subslide"
    }
   },
   "source": [
    "Mais il est nécessaire de maintenir les attributs `taille` à jour quand une fonction les modifie via "
   ]
  },
  {
   "cell_type": "code",
   "execution_count": 6,
   "metadata": {},
   "outputs": [],
   "source": [
    "def recalculer_taille(R):\n",
    "    R.taille = taille(R.gauche) + taille(R.droite) + 1"
   ]
  },
  {
   "cell_type": "markdown",
   "metadata": {
    "slideshow": {
     "slide_type": "fragment"
    }
   },
   "source": [
    "Typiquement, on le fait en retour de récursion, quand on sait si un élément a été ajouté/retiré. L'insertion devient "
   ]
  },
  {
   "cell_type": "code",
   "execution_count": 7,
   "metadata": {},
   "outputs": [],
   "source": [
    "def inserer(R,val):\n",
    "    \n",
    "    if R == None:       R = Noeud(val)\n",
    "    elif val < R.clef:  R.gauche = inserer(R.gauche,val)\n",
    "    elif val > R.clef:  R.droite = inserer(R.droite,val) \n",
    "    else:               pass\n",
    "    \n",
    "    recalculer_taille(R)\n",
    "    return R"
   ]
  },
  {
   "cell_type": "code",
   "execution_count": 8,
   "metadata": {
    "slideshow": {
     "slide_type": "skip"
    }
   },
   "outputs": [],
   "source": [
    "import include.helpers as h"
   ]
  },
  {
   "cell_type": "code",
   "execution_count": 9,
   "metadata": {
    "slideshow": {
     "slide_type": "subslide"
    }
   },
   "outputs": [
    {
     "data": {
      "image/png": "[encoded data removed]",
      "text/plain": [
       "<IPython.core.display.Image object>"
      ]
     },
     "metadata": {},
     "output_type": "display_data"
    }
   ],
   "source": [
    "T = [ 'F', 'C', 'B', 'E', 'A', 'G', 'H', 'D' ]; R = None\n",
    "for t in T: R = inserer(R,t)\n",
    "h.afficher_arbre_binaire(R)\n",
    "\n",
    "# Quelles sont les tailles des noeuds de l'arbre ?"
   ]
  },
  {
   "cell_type": "code",
   "execution_count": 10,
   "metadata": {
    "slideshow": {
     "slide_type": "subslide"
    }
   },
   "outputs": [
    {
     "data": {
      "image/png": "[encoded data removed]",
      "text/plain": [
       "<IPython.core.display.Image object>"
      ]
     },
     "metadata": {},
     "output_type": "display_data"
    }
   ],
   "source": [
    "def afficher_clef_et_taille(R):\n",
    "    return \"[{}] T={}\".format(R.clef,R.taille)\n",
    "Noeud.__str__ = afficher_clef_et_taille\n",
    "h.afficher_arbre_binaire(R)"
   ]
  },
  {
   "cell_type": "markdown",
   "metadata": {
    "slideshow": {
     "slide_type": "slide"
    }
   },
   "source": [
    "## Element d'indice n\n",
    "\n",
    "On cherche l'élément qui a `n` éléments dans l'arbre plus petits que lui. \n",
    "\n",
    "Partant de la racine `R`, on compare cette valeur `n` au nombre d'éléments stockés dans le sous-arbre gauche, soit `t = taille(R.gauche)`. Il y a trois possibilités\n",
    "\n",
    "* `n == t`, on a trouvé l'élément cherché.\n",
    "\n",
    "\n",
    "* `n < t`, l'élément cherché est celui d'indice `n` dans le sous-arbre gauche\n",
    "\n",
    "\n",
    "* `n > t`, l'élément cherché est dans le sous-arbre droit. Comme il y a `t` éléments dans le sous-arbre gauche et `1` dans la racine R, il sera d'indice `n-t-1` dans le sous-arbre droit "
   ]
  },
  {
   "cell_type": "markdown",
   "metadata": {
    "slideshow": {
     "slide_type": "subslide"
    }
   },
   "source": [
    "la fonction s'écrit donc "
   ]
  },
  {
   "cell_type": "code",
   "execution_count": 34,
   "metadata": {
    "slideshow": {
     "slide_type": "-"
    }
   },
   "outputs": [],
   "source": [
    "def element_d_indice_n(R,n):\n",
    "    if n < 0 or n >= taille(R): raise IndexError()\n",
    "    \n",
    "    t = taille(R.gauche)\n",
    "    print(\"{}, t={}, n={}\".format(R,t,n))\n",
    "    if n == t:\n",
    "        return R\n",
    "    elif n < t:\n",
    "        return element_d_indice_n(R.gauche,n)\n",
    "    else: # n > t\n",
    "        return element_d_indice_n(R.droite,n-t-1)"
   ]
  },
  {
   "cell_type": "code",
   "execution_count": 44,
   "metadata": {
    "slideshow": {
     "slide_type": "subslide"
    }
   },
   "outputs": [
    {
     "data": {
      "image/png": "[encoded data removed]",
      "text/plain": [
       "<IPython.core.display.Image object>"
      ]
     },
     "metadata": {},
     "output_type": "display_data"
    }
   ],
   "source": [
    "h.afficher_arbre_binaire(R)\n",
    "\n",
    "# Quel est l'élément d'indice 4 ?"
   ]
  },
  {
   "cell_type": "code",
   "execution_count": 46,
   "metadata": {
    "slideshow": {
     "slide_type": "fragment"
    }
   },
   "outputs": [
    {
     "name": "stdout",
     "output_type": "stream",
     "text": [
      "[F] T=8, t=5, n=4\n",
      "[C] T=5, t=2, n=4\n",
      "[E] T=2, t=1, n=1\n",
      "[E] T=2\n"
     ]
    }
   ],
   "source": [
    "print(element_d_indice_n(R,4))"
   ]
  },
  {
   "cell_type": "markdown",
   "metadata": {
    "slideshow": {
     "slide_type": "slide"
    }
   },
   "source": [
    "## Indice de l'élément de clef `val`\n",
    "\n",
    "Cette fonction est l'inverse de la précédente. \n",
    "\n",
    "On cherche une clef, et donc les tests sont identiques à ceux de la fonction `chercher` vue précédemment:\n",
    "\n",
    "* `val < R.clef`\n",
    "* `val == R.clef`\n",
    "* `val > R.clef`."
   ]
  },
  {
   "cell_type": "markdown",
   "metadata": {
    "slideshow": {
     "slide_type": "fragment"
    }
   },
   "source": [
    "La différence réside dans la valeur retournée. \n",
    "\n",
    "* `chercher` retournait un noeud\n",
    "* `indice_de_l_element` retourne un entier, le nombre d'éléments plus petits que `val`. "
   ]
  },
  {
   "cell_type": "markdown",
   "metadata": {
    "slideshow": {
     "slide_type": "subslide"
    }
   },
   "source": [
    "* si `val == R.clef`, les éléments plus petits que `val` sont tous les éléments du sous-arbre gauche. Il y en a `taille(R.gauche)`.\n",
    "\n",
    "\n",
    "* si `val < R.clef`, racine et sous-arbre droit sont `> val`. L'élément de clef `val` et les éléments plus petits que lui sont tous dans le sous-arbre gauche. \n",
    "\n",
    "\n",
    "* si `val > R.clef`, racine et sous-arbre droit sont `< val`. On a donc déjà trouvé `taille(R.gauche) + 1` éléments plus petits. Reste à explorer le sous-arbre droit. "
   ]
  },
  {
   "cell_type": "markdown",
   "metadata": {
    "slideshow": {
     "slide_type": "subslide"
    }
   },
   "source": [
    "La fonction d'écrit dont "
   ]
  },
  {
   "cell_type": "code",
   "execution_count": 68,
   "metadata": {
    "slideshow": {
     "slide_type": "-"
    }
   },
   "outputs": [],
   "source": [
    "def indice_de_l_element(R,val):\n",
    "    if R == None: raise Exception(\"pas trouvé\")\n",
    "\n",
    "    t = taille(R.gauche)\n",
    "    if val == R.clef:\n",
    "        indice = t\n",
    "    elif val < R.clef:\n",
    "        indice = indice_de_l_element(R.gauche,val)\n",
    "    else: # val > R.clef\n",
    "        indice = indice_de_l_element(R.droite,val) + t + 1 \n",
    "    \n",
    "    print(\"{}, t={}, i={}\".format(R,t,indice))\n",
    "    return indice"
   ]
  },
  {
   "cell_type": "code",
   "execution_count": 69,
   "metadata": {
    "slideshow": {
     "slide_type": "subslide"
    }
   },
   "outputs": [
    {
     "data": {
      "image/png": "[encoded data removed]",
      "text/plain": [
       "<IPython.core.display.Image object>"
      ]
     },
     "metadata": {},
     "output_type": "display_data"
    }
   ],
   "source": [
    "h.afficher_arbre_binaire(R)\n",
    "\n",
    "# Quel est l'indice de l'élément de clé 'E' ?"
   ]
  },
  {
   "cell_type": "code",
   "execution_count": 70,
   "metadata": {
    "slideshow": {
     "slide_type": "fragment"
    }
   },
   "outputs": [
    {
     "name": "stdout",
     "output_type": "stream",
     "text": [
      "[E] T=2, t=1, i=1\n",
      "[C] T=5, t=2, i=4\n",
      "[F] T=8, t=5, i=4\n",
      "4\n"
     ]
    }
   ],
   "source": [
    "print(indice_de_l_element(R,'E'))"
   ]
  },
  {
   "cell_type": "markdown",
   "metadata": {
    "slideshow": {
     "slide_type": "slide"
    }
   },
   "source": [
    "<table style=\"width: 100%; border: 0px\">\n",
    "<tr style=\"background-color:white; border:0px\">\n",
    "<td style=\"width: 120px; border: 0px\">\n",
    "    <img src=\"https://heig-vd.ch/ResourcePackages/WhiteFox/assets/images/logo-heig-vd.svg\" height=200px align=left >\n",
    "    </td>\n",
    "    <td style=\"vertical-align: middle; border: 0px\" height=200px>\n",
    "    <p style=\"text-align: left\">\n",
    "        <a href=\"https://ocuisenaire.github.io/ASD1-notebooks/\">ASD1 Notebooks on GitHub.io</a>\n",
    " </p>        \n",
    "<p style=\"text-align: left\">\n",
    "© Olivier Cuisenaire, 2018 </p>\n",
    "</td>\n",
    "</tr>\n",
    "</table>"
   ]
  },
  {
   "cell_type": "raw",
   "metadata": {},
   "source": [
    "<style type=\"text/css\">\n",
    ".reveal {\n",
    "font-size: 200%;\n",
    "}</style>"
   ]
  },
  {
   "cell_type": "code",
   "execution_count": null,
   "metadata": {},
   "outputs": [],
   "source": []
  }
 ],
 "metadata": {
  "celltoolbar": "Slideshow",
  "kernelspec": {
   "display_name": "Python 3",
   "language": "python",
   "name": "python3"
  },
  "language_info": {
   "codemirror_mode": {
    "name": "ipython",
    "version": 3
   },
   "file_extension": ".py",
   "mimetype": "text/x-python",
   "name": "python",
   "nbconvert_exporter": "python",
   "pygments_lexer": "ipython3",
   "version": "3.6.5"
  }
 },
 "nbformat": 4,
 "nbformat_minor": 2
}
