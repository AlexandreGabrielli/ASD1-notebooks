{
 "cells": [
  {
   "cell_type": "markdown",
   "metadata": {
    "slideshow": {
     "slide_type": "slide"
    }
   },
   "source": [
    "# Accès aléatoire à un arbre <br>binaire de recherche"
   ]
  },
  {
   "cell_type": "markdown",
   "metadata": {
    "slideshow": {
     "slide_type": "slide"
    }
   },
   "source": [
    "## Principe \n",
    "\n",
    "Soit un ABR dans lequel sont stockés $n$ éléments distincts.\n",
    "\n",
    "Ils sont implicitement triés. Il suffit pour cela \n",
    "\n",
    "* d'effectuer un parcours en profondeur symétrique\n",
    "* ou d'itérer comme précédemment \n",
    "\n",
    "Le but de cette section est d'offrir un l'équivalent d'un `RandomAccessIterator` en C++, ce qui requiert de pouvoir \n",
    "\n",
    "* accèder au $k^{ieme}$ noeud par ordre trié\n",
    "* déterminer l'indice dans l'ordre trié d'une clé donnée\n",
    "\n",
    "le tout avec une complexité similaire à une simple recherche "
   ]
  },
  {
   "cell_type": "markdown",
   "metadata": {
    "slideshow": {
     "slide_type": "slide"
    }
   },
   "source": [
    "## Taille d'un sous-arbre"
   ]
  },
  {
   "cell_type": "code",
   "execution_count": 2,
   "metadata": {},
   "outputs": [],
   "source": [
    "class Node:\n",
    "    def __init__(self,valeur):\n",
    "        self.clef = valeur\n",
    "        self.gauche = None\n",
    "        self.droite = None\n",
    "        self.taille = 1"
   ]
  },
  {
   "cell_type": "code",
   "execution_count": null,
   "metadata": {},
   "outputs": [],
   "source": [
    "def taille(n):\n",
    "    if n:\n",
    "        return taille(n.gauche) + taille(n.droite) + 1\n",
    "    else:\n",
    "        return 0"
   ]
  },
  {
   "cell_type": "code",
   "execution_count": 3,
   "metadata": {},
   "outputs": [],
   "source": [
    "def taille(n):\n",
    "    return n.taille if n else 0\n",
    "\n",
    "def recalcule_taille(n):\n",
    "    n.taille = taille(gauche) + taille(droite) + 1"
   ]
  },
  {
   "cell_type": "code",
   "execution_count": null,
   "metadata": {
    "slideshow": {
     "slide_type": "slide"
    }
   },
   "outputs": [],
   "source": [
    "def getitem(n,indice):\n",
    "    if indice < 0 or indice >= taille(n):\n",
    "        raise IndexError(\"\")\n",
    "        \n",
    "    t = taille(n.gauche)\n",
    "    if indice < t:\n",
    "        return getitem(n.gauche,indice)\n",
    "    elif indice > t:\n",
    "        return getitem(n.droit,indice - t -1)\n",
    "    else:\n",
    "        return n"
   ]
  },
  {
   "cell_type": "code",
   "execution_count": 4,
   "metadata": {
    "slideshow": {
     "slide_type": "slide"
    }
   },
   "outputs": [],
   "source": [
    "def getindice(n,valeur):\n",
    "    if n == None:\n",
    "        return None\n",
    "\n",
    "    if valeur < n.clef:\n",
    "        return getindice(n.gauche,valeur)\n",
    "    elif valeur > n.clef:\n",
    "        return taille(n.gauche) + 1 + getindice(n.droit,valeur)\n",
    "    else:\n",
    "        return taille(n.gauche)"
   ]
  },
  {
   "cell_type": "markdown",
   "metadata": {
    "slideshow": {
     "slide_type": "slide"
    }
   },
   "source": [
    "<table style=\"width: 100%; border: 0px\">\n",
    "<tr style=\"background-color:white; border:0px\">\n",
    "<td style=\"width: 120px; border: 0px\">\n",
    "    <img src=\"https://heig-vd.ch/ResourcePackages/WhiteFox/assets/images/logo-heig-vd.svg\" height=200px align=left >\n",
    "    </td>\n",
    "    <td style=\"vertical-align: middle; border: 0px\" height=200px>\n",
    "    <p style=\"text-align: left\">\n",
    "        <a href=\"https://ocuisenaire.github.io/ASD1-notebooks/\">ASD1 Notebooks on GitHub.io</a>\n",
    " </p>        \n",
    "<p style=\"text-align: left\">\n",
    "© Olivier Cuisenaire, 2018 </p>\n",
    "</td>\n",
    "</tr>\n",
    "</table>"
   ]
  },
  {
   "cell_type": "raw",
   "metadata": {},
   "source": [
    "<style type=\"text/css\">\n",
    ".reveal {\n",
    "font-size: 200%;\n",
    "}</style>"
   ]
  },
  {
   "cell_type": "code",
   "execution_count": null,
   "metadata": {},
   "outputs": [],
   "source": []
  }
 ],
 "metadata": {
  "celltoolbar": "Slideshow",
  "kernelspec": {
   "display_name": "Python 3",
   "language": "python",
   "name": "python3"
  },
  "language_info": {
   "codemirror_mode": {
    "name": "ipython",
    "version": 3
   },
   "file_extension": ".py",
   "mimetype": "text/x-python",
   "name": "python",
   "nbconvert_exporter": "python",
   "pygments_lexer": "ipython3",
   "version": "3.6.5"
  }
 },
 "nbformat": 4,
 "nbformat_minor": 2
}
