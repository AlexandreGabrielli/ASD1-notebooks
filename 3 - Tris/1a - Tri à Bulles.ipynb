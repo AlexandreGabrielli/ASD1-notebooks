{
 "cells": [
  {
   "cell_type": "markdown",
   "metadata": {
    "slideshow": {
     "slide_type": "slide"
    }
   },
   "source": [
    "# Tri à Bulles"
   ]
  },
  {
   "cell_type": "markdown",
   "metadata": {
    "slideshow": {
     "slide_type": "slide"
    }
   },
   "source": [
    "## Principe\n",
    "\n",
    "Le tri à bulles consiste à comparer répétitivement les éléments consécutifs d'un tableau. Si une paire d'éléments consécutifs est mal ordonnée, on en permute les éléments. \n",
    "\n",
    "Il doit son nom au fait qu'il déplace rapidement les plus grands éléments en fin de tableau, comme des bulles d'air qui remonteraient rapidement à la surface d'un liquide."
   ]
  },
  {
   "cell_type": "markdown",
   "metadata": {
    "slideshow": {
     "slide_type": "skip"
    }
   },
   "source": [
    "\n",
    "Ce tri est mis en oeuvre avec deux boucles imbriquées. \n",
    "\n",
    "* La boucle interne itère par indice croissant sur les k-1 paires d'éléments consécutifs pour k éléments. La longueur de cette boucle interne va diminuer à chaque itération de la boucle externe. \n",
    "\n",
    "\n",
    "* La boucle externe s'effectue autant de fois que nécessaire pour que le tableau soit trié. Dans le pire des cas, l'élément minimum commence à droite, et ne recule que d'un indice par boucle interne. Il faut alors que la boucle externe s'effectue N-1 fois elle aussi.  "
   ]
  },
  {
   "cell_type": "markdown",
   "metadata": {
    "slideshow": {
     "slide_type": "skip"
    }
   },
   "source": [
    "## Mise en oeuvre"
   ]
  },
  {
   "cell_type": "markdown",
   "metadata": {
    "slideshow": {
     "slide_type": "slide"
    }
   },
   "source": [
    "Le coeur de l'algorithme consiste à échanger deux éléments consécutifs si le second est strictement plus grand que le premier"
   ]
  },
  {
   "cell_type": "code",
   "execution_count": 1,
   "metadata": {
    "slideshow": {
     "slide_type": "fragment"
    }
   },
   "outputs": [],
   "source": [
    "def echangeSiNecessaire( A, i):        \n",
    "    # Après cette fonction, A[i] <= A[i+1]    \n",
    "    if A[i] > A[i+1]:\n",
    "        A[i], A[i+1] = A[i+1], A[i]    # swap "
   ]
  },
  {
   "cell_type": "markdown",
   "metadata": {
    "slideshow": {
     "slide_type": "fragment"
    }
   },
   "source": [
    "Appliquons le par exemple aux troisièmes et quatrièmes éléments (d'indices 2 et 3)"
   ]
  },
  {
   "cell_type": "code",
   "execution_count": 2,
   "metadata": {
    "slideshow": {
     "slide_type": "fragment"
    }
   },
   "outputs": [
    {
     "name": "stdout",
     "output_type": "stream",
     "text": [
      "[5, 8, 3, 4, 2, 6, 7, 1]\n"
     ]
    }
   ],
   "source": [
    "T = [ 5, 8, 4, 3, 2, 6, 7, 1 ]\n",
    "echangeSiNecessaire(T,2);\n",
    "print(T)"
   ]
  },
  {
   "cell_type": "code",
   "execution_count": 3,
   "metadata": {
    "slideshow": {
     "slide_type": "fragment"
    }
   },
   "outputs": [
    {
     "name": "stdout",
     "output_type": "stream",
     "text": [
      "[5, 8, 3, 4, 2, 6, 7, 1]\n"
     ]
    }
   ],
   "source": [
    "echangeSiNecessaire(T,2);\n",
    "print(T)"
   ]
  },
  {
   "cell_type": "markdown",
   "metadata": {
    "slideshow": {
     "slide_type": "slide"
    }
   },
   "source": [
    "## Boucle interne\n",
    "\n",
    "La boucle interne du tri à bulles passe sur toutes les paires d'éléments et teste s'il est nécessaire de les échanger"
   ]
  },
  {
   "cell_type": "code",
   "execution_count": 4,
   "metadata": {
    "scrolled": true,
    "slideshow": {
     "slide_type": "fragment"
    }
   },
   "outputs": [],
   "source": [
    "def boucleInterne(A):\n",
    "    N = len(A)\n",
    "    for i in range(0,N-1):  \n",
    "        echangeSiNecessaire(A,i) \n",
    "        print(T)\n",
    "    return;"
   ]
  },
  {
   "cell_type": "code",
   "execution_count": 5,
   "metadata": {
    "slideshow": {
     "slide_type": "subslide"
    }
   },
   "outputs": [
    {
     "name": "stdout",
     "output_type": "stream",
     "text": [
      "[4, 5, 8, 3, 2, 6, 7, 1]\n",
      "[4, 5, 8, 3, 2, 6, 7, 1]\n",
      "[4, 5, 3, 8, 2, 6, 7, 1]\n",
      "[4, 5, 3, 2, 8, 6, 7, 1]\n",
      "[4, 5, 3, 2, 6, 8, 7, 1]\n",
      "[4, 5, 3, 2, 6, 7, 8, 1]\n",
      "[4, 5, 3, 2, 6, 7, 1, 8]\n"
     ]
    }
   ],
   "source": [
    "T = [ 4, 5, 8, 3, 2, 6, 7, 1 ]\n",
    "boucleInterne(T)"
   ]
  },
  {
   "cell_type": "markdown",
   "metadata": {
    "slideshow": {
     "slide_type": "subslide"
    }
   },
   "source": [
    "Notons qu'à la fin de cette boucle, le plus grand élément du tableau est à sa place finale, tout à droite. Un nouvel appel à cette boucle effectue donc un test inutile entre les deux élément de la dernière paire."
   ]
  },
  {
   "cell_type": "code",
   "execution_count": 6,
   "metadata": {
    "slideshow": {
     "slide_type": "fragment"
    }
   },
   "outputs": [
    {
     "name": "stdout",
     "output_type": "stream",
     "text": [
      "[4, 5, 3, 2, 6, 7, 1, 8]\n",
      "[4, 3, 5, 2, 6, 7, 1, 8]\n",
      "[4, 3, 2, 5, 6, 7, 1, 8]\n",
      "[4, 3, 2, 5, 6, 7, 1, 8]\n",
      "[4, 3, 2, 5, 6, 7, 1, 8]\n",
      "[4, 3, 2, 5, 6, 1, 7, 8]\n",
      "[4, 3, 2, 5, 6, 1, 7, 8]\n"
     ]
    }
   ],
   "source": [
    "boucleInterne(T)"
   ]
  },
  {
   "cell_type": "markdown",
   "metadata": {
    "slideshow": {
     "slide_type": "subslide"
    }
   },
   "source": [
    "De même, après ce second passage les deux éléments les plus grands sont maintenant en place. Il est donc plus pertinent de limiter l'effet de la boucle interne aux k premier éléments de tableau (k-1 paires)"
   ]
  },
  {
   "cell_type": "code",
   "execution_count": 7,
   "metadata": {
    "slideshow": {
     "slide_type": "fragment"
    }
   },
   "outputs": [],
   "source": [
    "def boucleInterne(A,k):\n",
    "    for i in range(0,k-1):           # paires (0,1), (1,2), ... (k-2,k-1)\n",
    "        echangeSiNecessaire(A,i) \n",
    "        print(T)\n",
    "    return;"
   ]
  },
  {
   "cell_type": "code",
   "execution_count": 8,
   "metadata": {
    "slideshow": {
     "slide_type": "fragment"
    }
   },
   "outputs": [
    {
     "name": "stdout",
     "output_type": "stream",
     "text": [
      "[3, 4, 2, 5, 6, 1, 7, 8]\n",
      "[3, 2, 4, 5, 6, 1, 7, 8]\n",
      "[3, 2, 4, 5, 6, 1, 7, 8]\n",
      "[3, 2, 4, 5, 6, 1, 7, 8]\n",
      "[3, 2, 4, 5, 1, 6, 7, 8]\n"
     ]
    }
   ],
   "source": [
    "boucleInterne(T,6)"
   ]
  },
  {
   "cell_type": "code",
   "execution_count": 9,
   "metadata": {
    "slideshow": {
     "slide_type": "fragment"
    }
   },
   "outputs": [
    {
     "name": "stdout",
     "output_type": "stream",
     "text": [
      "[2, 3, 4, 5, 1, 6, 7, 8]\n",
      "[2, 3, 4, 5, 1, 6, 7, 8]\n",
      "[2, 3, 4, 5, 1, 6, 7, 8]\n",
      "[2, 3, 4, 1, 5, 6, 7, 8]\n"
     ]
    }
   ],
   "source": [
    "boucleInterne(T,5)"
   ]
  },
  {
   "cell_type": "markdown",
   "metadata": {
    "slideshow": {
     "slide_type": "slide"
    }
   },
   "source": [
    "## Boucle externe\n",
    "\n",
    "Le tri complet consiste à appeler autant de fois que nécessaire cette boucle interne. Le premier appel lui demande de passer sur les N éléments du tableau, puis N-1, N-2, ... jusqu'au dernier appel qui demande d'en traiter 2. Il est en effet inutile de trier un tableau d'un seul élément. "
   ]
  },
  {
   "cell_type": "code",
   "execution_count": 10,
   "metadata": {
    "scrolled": true,
    "slideshow": {
     "slide_type": "fragment"
    }
   },
   "outputs": [],
   "source": [
    "def boucleInterne(A,k):\n",
    "    for i in range(0,k-1):           \n",
    "        echangeSiNecessaire(A,i) \n",
    "\n",
    "def boucleExterne(A):\n",
    "    N = len(T)\n",
    "    for k in range(N,1,-1):     # N, N-1, ... 3, 2 \n",
    "        boucleInterne(T,k)\n",
    "        print(T)"
   ]
  },
  {
   "cell_type": "code",
   "execution_count": 11,
   "metadata": {
    "slideshow": {
     "slide_type": "subslide"
    }
   },
   "outputs": [
    {
     "name": "stdout",
     "output_type": "stream",
     "text": [
      "[4, 5, 3, 2, 6, 7, 1, 8]\n",
      "[4, 3, 2, 5, 6, 1, 7, 8]\n",
      "[3, 2, 4, 5, 1, 6, 7, 8]\n",
      "[2, 3, 4, 1, 5, 6, 7, 8]\n",
      "[2, 3, 1, 4, 5, 6, 7, 8]\n",
      "[2, 1, 3, 4, 5, 6, 7, 8]\n",
      "[1, 2, 3, 4, 5, 6, 7, 8]\n"
     ]
    }
   ],
   "source": [
    "T = [ 4, 5, 8, 3, 2, 6, 7, 1 ]\n",
    "boucleExterne(T)"
   ]
  },
  {
   "cell_type": "markdown",
   "metadata": {
    "slideshow": {
     "slide_type": "slide"
    }
   },
   "source": [
    "## En résumé\n",
    "\n",
    "Le tri à bulles effectue deux boucles imbriquées. La boucle extene s'effectue N-1 fois, la boucle interne de N-1 à 1 fois. "
   ]
  },
  {
   "cell_type": "code",
   "execution_count": 12,
   "metadata": {
    "slideshow": {
     "slide_type": "fragment"
    }
   },
   "outputs": [],
   "source": [
    "def tri_a_bulles(T):\n",
    "    N = len(T)\n",
    "    for k in range(N,1,-1):                 # N, N-1, ... 2\n",
    "        for i in range(0,k-1):              # paires (0,1), (1,2), ... (k-1,k)\n",
    "            if T[i] > T[i+1]:\n",
    "                T[i],T[i+1] = T[i+1],T[i]   # swap"
   ]
  },
  {
   "cell_type": "code",
   "execution_count": 13,
   "metadata": {
    "slideshow": {
     "slide_type": "fragment"
    }
   },
   "outputs": [
    {
     "name": "stdout",
     "output_type": "stream",
     "text": [
      "[1, 2, 3, 4, 5, 6, 7, 8]\n"
     ]
    }
   ],
   "source": [
    "T = [5, 8, 4, 3, 2, 6, 7, 1]\n",
    "tri_a_bulles(T)\n",
    "print(T)"
   ]
  },
  {
   "cell_type": "markdown",
   "metadata": {
    "slideshow": {
     "slide_type": "slide"
    }
   },
   "source": [
    "## Visualisation"
   ]
  },
  {
   "cell_type": "markdown",
   "metadata": {
    "slideshow": {
     "slide_type": "skip"
    }
   },
   "source": [
    "Visualisons le tri étape par étape en appelant la fonction affiche ci-dessus à la fin de chaque itération de la boucle externe. "
   ]
  },
  {
   "cell_type": "code",
   "execution_count": 14,
   "metadata": {
    "scrolled": true,
    "slideshow": {
     "slide_type": "skip"
    }
   },
   "outputs": [],
   "source": [
    "import numpy as np\n",
    "import matplotlib\n",
    "import matplotlib.pyplot as plt\n",
    "\n",
    "def affiche(T,it):\n",
    "    plt.stem(T,markerfmt=',',linefmt='black',basefmt='black')\n",
    "    plt.title('Iteration {0}'.format(it))\n",
    "    plt.show()"
   ]
  },
  {
   "cell_type": "markdown",
   "metadata": {
    "slideshow": {
     "slide_type": "fragment"
    }
   },
   "source": [
    "Pour cette visualisation, trions 20 entiers entre 0 et 100 par ordre croissant"
   ]
  },
  {
   "cell_type": "code",
   "execution_count": 15,
   "metadata": {
    "slideshow": {
     "slide_type": "fragment"
    }
   },
   "outputs": [
    {
     "data": {
      "image/png": "[encoded data removed]",
      "text/plain": [
       "<Figure size 432x288 with 1 Axes>"
      ]
     },
     "metadata": {},
     "output_type": "display_data"
    }
   ],
   "source": [
    "T = np.random.randint(0,100,20)\n",
    "N = len(T)\n",
    "it = 0\n",
    "affiche(T,0)"
   ]
  },
  {
   "cell_type": "code",
   "execution_count": 16,
   "metadata": {
    "slideshow": {
     "slide_type": "subslide"
    }
   },
   "outputs": [
    {
     "data": {
      "image/png": "[encoded data removed]",
      "text/plain": [
       "<Figure size 432x288 with 1 Axes>"
      ]
     },
     "metadata": {},
     "output_type": "display_data"
    }
   ],
   "source": [
    "boucleInterne(T,20)\n",
    "affiche(T,1)"
   ]
  },
  {
   "cell_type": "code",
   "execution_count": 17,
   "metadata": {
    "slideshow": {
     "slide_type": "subslide"
    }
   },
   "outputs": [
    {
     "data": {
      "image/png": "[encoded data removed]",
      "text/plain": [
       "<Figure size 432x288 with 1 Axes>"
      ]
     },
     "metadata": {},
     "output_type": "display_data"
    }
   ],
   "source": [
    "boucleInterne(T,19)\n",
    "affiche(T,2)"
   ]
  },
  {
   "cell_type": "code",
   "execution_count": 18,
   "metadata": {
    "slideshow": {
     "slide_type": "subslide"
    }
   },
   "outputs": [
    {
     "data": {
      "image/png": "[encoded data removed]",
      "text/plain": [
       "<Figure size 432x288 with 1 Axes>"
      ]
     },
     "metadata": {},
     "output_type": "display_data"
    }
   ],
   "source": [
    "boucleInterne(T,18)\n",
    "affiche(T,3)"
   ]
  },
  {
   "cell_type": "code",
   "execution_count": 19,
   "metadata": {
    "slideshow": {
     "slide_type": "subslide"
    }
   },
   "outputs": [
    {
     "data": {
      "image/png": "[encoded data removed]",
      "text/plain": [
       "<Figure size 432x288 with 1 Axes>"
      ]
     },
     "metadata": {},
     "output_type": "display_data"
    }
   ],
   "source": [
    "for i in range(17,10,-1):\n",
    "    boucleInterne(T,i)\n",
    "affiche(T,10)"
   ]
  },
  {
   "cell_type": "code",
   "execution_count": 20,
   "metadata": {
    "slideshow": {
     "slide_type": "subslide"
    }
   },
   "outputs": [
    {
     "data": {
      "image/png": "[encoded data removed]",
      "text/plain": [
       "<Figure size 432x288 with 1 Axes>"
      ]
     },
     "metadata": {},
     "output_type": "display_data"
    }
   ],
   "source": [
    "for i in range(10,1,-1):\n",
    "    boucleInterne(T,i)\n",
    "affiche(T,19)"
   ]
  },
  {
   "cell_type": "markdown",
   "metadata": {
    "slideshow": {
     "slide_type": "slide"
    }
   },
   "source": [
    "[ASD1 Notebooks on GitHub.io](https://ocuisenaire.github.io/ASD1-notebooks/)\n",
    "\n",
    "© Olivier Cuisenaire, 2018"
   ]
  }
 ],
 "metadata": {
  "celltoolbar": "Slideshow",
  "kernelspec": {
   "display_name": "Python 3",
   "language": "python",
   "name": "python3"
  },
  "language_info": {
   "codemirror_mode": {
    "name": "ipython",
    "version": 3
   },
   "file_extension": ".py",
   "mimetype": "text/x-python",
   "name": "python",
   "nbconvert_exporter": "python",
   "pygments_lexer": "ipython3",
   "version": "3.6.5"
  }
 },
 "nbformat": 4,
 "nbformat_minor": 2
}
