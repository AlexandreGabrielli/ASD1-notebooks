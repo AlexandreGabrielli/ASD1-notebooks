{
 "cells": [
  {
   "cell_type": "code",
   "execution_count": 1,
   "metadata": {},
   "outputs": [],
   "source": [
    "import numpy as np\n",
    "import matplotlib\n",
    "import matplotlib.pyplot as plt\n",
    "   \n",
    "def comp_int(a,b):\n",
    "    return int(a) < int(b)\n",
    "\n",
    "def comp_frac(a,b):\n",
    "    return (a-int(a)) < (b - int(b))\n",
    "\n",
    "def test_stabilite(algorithme):\n",
    "    T = np.random.uniform(0,7,50)\n",
    "    N = len(T)\n",
    "    \n",
    "    algorithme(T,comp_frac)\n",
    "    algorithme(T,comp_int)\n",
    "    plt.stem(T,markerfmt=',',linefmt='black',basefmt='black')"
   ]
  },
  {
   "cell_type": "code",
   "execution_count": 2,
   "metadata": {
    "scrolled": true
   },
   "outputs": [
    {
     "data": {
      "image/png": "[encoded data removed]",
      "text/plain": [
       "<Figure size 432x288 with 1 Axes>"
      ]
     },
     "metadata": {},
     "output_type": "display_data"
    }
   ],
   "source": [
    "def tri_a_bulles(T,plus_petit):\n",
    "    N = len(T)\n",
    "    for k in range(N,1,-1): \n",
    "        for i in range(0,k-1):\n",
    "            if plus_petit( T[i+1], T[i] ):\n",
    "                T[i],T[i+1] = T[i+1],T[i]   \n",
    "                \n",
    "test_stabilite(tri_a_bulles)"
   ]
  },
  {
   "cell_type": "code",
   "execution_count": 3,
   "metadata": {},
   "outputs": [
    {
     "data": {
      "image/png": "[encoded data removed]",
      "text/plain": [
       "<Figure size 432x288 with 1 Axes>"
      ]
     },
     "metadata": {},
     "output_type": "display_data"
    }
   ],
   "source": [
    "def tri_par_selection(T,plus_petit):\n",
    "    N = len(T)\n",
    "    for i in range(0,N-1):\n",
    "        jMin = i\n",
    "        for j in range(i+1,N):\n",
    "            if plus_petit(T[j],T[jMin]):\n",
    "                jMin = j\n",
    "        T[jMin],T[i] = T[i],T[jMin]  \n",
    "                \n",
    "test_stabilite(tri_par_selection)"
   ]
  },
  {
   "cell_type": "code",
   "execution_count": 4,
   "metadata": {},
   "outputs": [
    {
     "data": {
      "image/png": "[encoded data removed]",
      "text/plain": [
       "<Figure size 432x288 with 1 Axes>"
      ]
     },
     "metadata": {},
     "output_type": "display_data"
    }
   ],
   "source": [
    "def tri_par_insertion(T,plus_petit):\n",
    "    N = len(T)\n",
    "    for i in range(1,N):\n",
    "        j = i\n",
    "        tmp = T[j]\n",
    "        while j > 0 and plus_petit(tmp,T[j-1]):\n",
    "            T[j] = T[j-1]\n",
    "            j -= 1\n",
    "        T[j] = tmp\n",
    "\n",
    "test_stabilite(tri_par_insertion)"
   ]
  },
  {
   "cell_type": "code",
   "execution_count": 5,
   "metadata": {},
   "outputs": [
    {
     "data": {
      "image/png": "[encoded data removed]",
      "text/plain": [
       "<Figure size 432x288 with 1 Axes>"
      ]
     },
     "metadata": {},
     "output_type": "display_data"
    }
   ],
   "source": [
    "def Fusion(T1,T2,plus_petit): \n",
    "    T = []\n",
    "    \n",
    "    i1 = i2 = 0\n",
    "    while i1 < len(T1) and i2 < len(T2):\n",
    "        if not plus_petit(T2[i2],T1[i1]):\n",
    "            T.append(T1[i1])\n",
    "            i1 += 1\n",
    "        else:\n",
    "            T.append(T2[i2])\n",
    "            i2 += 1\n",
    "\n",
    "    for j in range(i1,len(T1)):\n",
    "        T.append(T1[j])\n",
    "\n",
    "    for j in range(i2,len(T2)):\n",
    "        T.append(T2[j])\n",
    "        \n",
    "    return T\n",
    "\n",
    "def TriFusion(T,plus_petit):  \n",
    "    N = len(T)\n",
    "    if N >= 2:\n",
    "        milieu = int(N/2)\n",
    "        T1 = TriFusion(T[0:milieu],plus_petit)\n",
    "        T2 = TriFusion(T[milieu:N],plus_petit)\n",
    "        T  = Fusion(T1,T2,plus_petit)\n",
    "    return T\n",
    "\n",
    "def tri_fusion(T,plus_petit):\n",
    "    T2 = TriFusion(T,plus_petit)\n",
    "    for i in range(len(T)):\n",
    "        T[i] = T2[i]\n",
    "\n",
    "test_stabilite(tri_fusion)"
   ]
  },
  {
   "cell_type": "code",
   "execution_count": 6,
   "metadata": {},
   "outputs": [
    {
     "data": {
      "image/png": "[encoded data removed]",
      "text/plain": [
       "<Figure size 432x288 with 1 Axes>"
      ]
     },
     "metadata": {},
     "output_type": "display_data"
    }
   ],
   "source": [
    "def Partition(T,lo,hi,plus_petit):    \n",
    "    i = lo-1\n",
    "    j = hi\n",
    "    \n",
    "    while True:\n",
    "        while True:\n",
    "            i += 1\n",
    "            if not plus_petit(T[i],T[hi]):\n",
    "                break\n",
    "        while True:\n",
    "            j -= 1\n",
    "            if j < 0 or not plus_petit(T[hi],T[j]):\n",
    "                break\n",
    "\n",
    "        if j < i:\n",
    "            break\n",
    "            \n",
    "        T[i],T[j] = T[j],T[i]\n",
    "        \n",
    "    T[i],T[hi] = T[hi],T[i]\n",
    "        \n",
    "    return i\n",
    "\n",
    "def TriRapide(T,lo,hi,plus_petit):\n",
    "    if lo < hi:\n",
    "        pivot = hi;\n",
    "        T[hi],T[pivot] = T[pivot],T[hi]\n",
    "    \n",
    "        pivot = Partition(T,lo,hi,plus_petit)\n",
    "        TriRapide(T,lo,pivot-1,plus_petit)\n",
    "        TriRapide(T,pivot+1,hi,plus_petit)\n",
    "        \n",
    "def tri_rapide(T,plus_petit):\n",
    "    TriRapide(T,0,len(T)-1,plus_petit)\n",
    "    \n",
    "test_stabilite(tri_rapide)"
   ]
  },
  {
   "cell_type": "code",
   "execution_count": null,
   "metadata": {},
   "outputs": [],
   "source": []
  }
 ],
 "metadata": {
  "kernelspec": {
   "display_name": "Python 3",
   "language": "python",
   "name": "python3"
  },
  "language_info": {
   "codemirror_mode": {
    "name": "ipython",
    "version": 3
   },
   "file_extension": ".py",
   "mimetype": "text/x-python",
   "name": "python",
   "nbconvert_exporter": "python",
   "pygments_lexer": "ipython3",
   "version": "3.6.5"
  }
 },
 "nbformat": 4,
 "nbformat_minor": 2
}
