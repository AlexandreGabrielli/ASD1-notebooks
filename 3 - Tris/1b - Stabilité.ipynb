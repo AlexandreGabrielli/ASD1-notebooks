{
 "cells": [
  {
   "cell_type": "markdown",
   "metadata": {
    "slideshow": {
     "slide_type": "slide"
    }
   },
   "source": [
    "# Stabilité d'un tri"
   ]
  },
  {
   "cell_type": "markdown",
   "metadata": {
    "slideshow": {
     "slide_type": "slide"
    }
   },
   "source": [
    "Nous utilisons le tri à bulles pour illustrer une propriété importante des tris: la **stabilité**. \n",
    "\n",
    "Cette propriété s'intéresse à ce qu'il se passe lorsque l'algorithme de tri rencontre **deux éléments qu'il considère comme de même valeur**. <BR>"
   ]
  },
  {
   "cell_type": "markdown",
   "metadata": {
    "slideshow": {
     "slide_type": "skip"
    }
   },
   "source": [
    "Cette propriété n'est évidemment intéressante que si deux éléments objectivement différents sont considérés égaux par le tri. C'est par exemple le cas quand on n'utilise qu'une partie de l'information pour trier. Considérons par exemple la liste suivante de noms et prénoms "
   ]
  },
  {
   "cell_type": "code",
   "execution_count": 1,
   "metadata": {
    "slideshow": {
     "slide_type": "fragment"
    }
   },
   "outputs": [],
   "source": [
    "TAB = []\n",
    "TAB.append( (\"Aubert\",\"Beatrice\") )\n",
    "TAB.append( (\"Caron\",\"Alain\") )\n",
    "TAB.append( (\"Bonnet\",\"Christine\") )\n",
    "TAB.append( (\"Bonnet\",\"Anne\") )\n",
    "TAB.append( (\"Aubert\",\"Alexandre\") )\n",
    "TAB.append( (\"Caron\",\"Catherine\") )\n",
    "TAB.append( (\"Bonnet\",\"Benoit\") )\n",
    "TAB.append( (\"Aubert\",\"Denis\") )\n",
    "TAB.append( (\"Aubert\",\"Carole\") )\n",
    "TAB.append( (\"Caron\",\"Brigitte\") )"
   ]
  },
  {
   "cell_type": "markdown",
   "metadata": {
    "slideshow": {
     "slide_type": "slide"
    }
   },
   "source": [
    "On peut envisager de trier cette liste par \n",
    "\n",
    "* nom de famille\n",
    "* prénom\n",
    "* nom/prénom \n",
    "* prénom/nom\n",
    "* ... "
   ]
  },
  {
   "cell_type": "markdown",
   "metadata": {
    "slideshow": {
     "slide_type": "skip"
    }
   },
   "source": [
    "Pour mieux visualiser ces tris, écrivons la fonction d'affichage suivante."
   ]
  },
  {
   "cell_type": "code",
   "execution_count": 2,
   "metadata": {
    "slideshow": {
     "slide_type": "skip"
    }
   },
   "outputs": [
    {
     "name": "stdout",
     "output_type": "stream",
     "text": [
      "       Nom |     Prénom\n",
      "-----------+-----------\n",
      "    Aubert |   Beatrice\n",
      "     Caron |      Alain\n",
      "    Bonnet |  Christine\n",
      "    Bonnet |       Anne\n",
      "    Aubert |  Alexandre\n",
      "     Caron |  Catherine\n",
      "    Bonnet |     Benoit\n",
      "    Aubert |      Denis\n",
      "    Aubert |     Carole\n",
      "     Caron |   Brigitte\n"
     ]
    }
   ],
   "source": [
    "def afficher(T):\n",
    "    \n",
    "    print(\"{:>10}\".format(\"Nom\"),\"|\",\"{:>10}\".format(\"Prénom\"))\n",
    "    print(\"-----------+-----------\")\n",
    "    for nom,prenom in T:\n",
    "         print(\"{:>10}\".format(nom),\"|\",\"{:>10}\".format(prenom))\n",
    "\n",
    "\n",
    "afficher(TAB)"
   ]
  },
  {
   "cell_type": "markdown",
   "metadata": {
    "slideshow": {
     "slide_type": "fragment"
    }
   },
   "source": [
    "Pour le rendre plus **générique** - capable de trier selon divers critères - réécrivons notre tri à bulles avec une fonction de comparaison `plus_petit` passée en paramètre "
   ]
  },
  {
   "cell_type": "markdown",
   "metadata": {
    "slideshow": {
     "slide_type": "skip"
    }
   },
   "source": [
    "Cette fonction doit prendre deux éléments en paramètres et renvoyer `True` si le premier est plus petit que le second et `False` sinon. La foncton `tri_a_bulles` trie alors le tableau `T` par ordre croissant. "
   ]
  },
  {
   "cell_type": "code",
   "execution_count": 3,
   "metadata": {
    "slideshow": {
     "slide_type": "fragment"
    }
   },
   "outputs": [],
   "source": [
    "def tri_a_bulles(T,plus_petit):\n",
    "\n",
    "    N = len(T)\n",
    "    for k in range(N,1,-1): \n",
    "        for i in range(0,k-1):\n",
    "            if plus_petit( T[i+1], T[i] ):\n",
    "                T[i],T[i+1] = T[i+1],T[i]   "
   ]
  },
  {
   "cell_type": "markdown",
   "metadata": {
    "slideshow": {
     "slide_type": "slide"
    }
   },
   "source": [
    "Ainsi, si l'on veut trier la liste par ordre alphabétique des prénoms, il suffit d'écrire une fonction de comparaison ne prenant en compte que ceux-ci. "
   ]
  },
  {
   "cell_type": "code",
   "execution_count": 4,
   "metadata": {
    "slideshow": {
     "slide_type": "fragment"
    }
   },
   "outputs": [],
   "source": [
    "def compare_prenoms(a,b):\n",
    "    return a[1] < b[1]"
   ]
  },
  {
   "cell_type": "markdown",
   "metadata": {
    "slideshow": {
     "slide_type": "skip"
    }
   },
   "source": [
    "Visualisons-en le résultat"
   ]
  },
  {
   "cell_type": "code",
   "execution_count": 5,
   "metadata": {
    "slideshow": {
     "slide_type": "fragment"
    }
   },
   "outputs": [
    {
     "name": "stdout",
     "output_type": "stream",
     "text": [
      "       Nom |     Prénom\n",
      "-----------+-----------\n",
      "     Caron |      Alain\n",
      "    Aubert |  Alexandre\n",
      "    Bonnet |       Anne\n",
      "    Aubert |   Beatrice\n",
      "    Bonnet |     Benoit\n",
      "     Caron |   Brigitte\n",
      "    Aubert |     Carole\n",
      "     Caron |  Catherine\n",
      "    Bonnet |  Christine\n",
      "    Aubert |      Denis\n"
     ]
    }
   ],
   "source": [
    "T1 = TAB.copy()\n",
    "tri_a_bulles(T1,compare_prenoms)\n",
    "afficher(T1)"
   ]
  },
  {
   "cell_type": "markdown",
   "metadata": {
    "slideshow": {
     "slide_type": "slide"
    }
   },
   "source": [
    "De même, pour trier selon l'ordre alphabétique des noms, il suffit d'utiliser la fonction de comparaison suivante"
   ]
  },
  {
   "cell_type": "code",
   "execution_count": 6,
   "metadata": {
    "slideshow": {
     "slide_type": "fragment"
    }
   },
   "outputs": [],
   "source": [
    "def compare_noms(a,b):\n",
    "    return a[0] < b[0]"
   ]
  },
  {
   "cell_type": "markdown",
   "metadata": {
    "slideshow": {
     "slide_type": "skip"
    }
   },
   "source": [
    "Ce tri, appliqué à la liste originale, donne "
   ]
  },
  {
   "cell_type": "code",
   "execution_count": 7,
   "metadata": {
    "slideshow": {
     "slide_type": "fragment"
    }
   },
   "outputs": [
    {
     "name": "stdout",
     "output_type": "stream",
     "text": [
      "       Nom |     Prénom\n",
      "-----------+-----------\n",
      "    Aubert |   Beatrice\n",
      "    Aubert |  Alexandre\n",
      "    Aubert |      Denis\n",
      "    Aubert |     Carole\n",
      "    Bonnet |  Christine\n",
      "    Bonnet |       Anne\n",
      "    Bonnet |     Benoit\n",
      "     Caron |      Alain\n",
      "     Caron |  Catherine\n",
      "     Caron |   Brigitte\n"
     ]
    }
   ],
   "source": [
    "T2 = TAB.copy()\n",
    "tri_a_bulles(T2,compare_noms)\n",
    "afficher(T2)"
   ]
  },
  {
   "cell_type": "markdown",
   "metadata": {
    "slideshow": {
     "slide_type": "slide"
    }
   },
   "source": [
    "Mais appliquons maintenant le tri par nom de famille à la liste T1 que l'on a précédemment triée par prénom. "
   ]
  },
  {
   "cell_type": "code",
   "execution_count": 8,
   "metadata": {
    "slideshow": {
     "slide_type": "fragment"
    }
   },
   "outputs": [
    {
     "name": "stdout",
     "output_type": "stream",
     "text": [
      "       Nom |     Prénom\n",
      "-----------+-----------\n",
      "    Aubert |  Alexandre\n",
      "    Aubert |   Beatrice\n",
      "    Aubert |     Carole\n",
      "    Aubert |      Denis\n",
      "    Bonnet |       Anne\n",
      "    Bonnet |     Benoit\n",
      "    Bonnet |  Christine\n",
      "     Caron |      Alain\n",
      "     Caron |   Brigitte\n",
      "     Caron |  Catherine\n"
     ]
    }
   ],
   "source": [
    "T3 = T1.copy()\n",
    "tri_a_bulles(T3,compare_noms)\n",
    "afficher(T3)"
   ]
  },
  {
   "cell_type": "markdown",
   "metadata": {
    "slideshow": {
     "slide_type": "fragment"
    }
   },
   "source": [
    "On note alors que - pour chaque nom de famille - les personnes sont maintenant triées par ordre alphabétique des prénoms"
   ]
  },
  {
   "cell_type": "markdown",
   "metadata": {
    "slideshow": {
     "slide_type": "skip"
    }
   },
   "source": [
    "Plus exactement, lors du tri par nom de famille, les personnes qui ont le même nom de famille restent listées dans le même ordre qu'elles avaient avant ce tri. La liste ayant été préalablement triée par prénom, elle le reste pour chaque nom de famille. \n",
    "\n",
    "C'est la définition de la stabilité: "
   ]
  },
  {
   "cell_type": "markdown",
   "metadata": {
    "slideshow": {
     "slide_type": "slide"
    }
   },
   "source": [
    "**Un algorithme de tri est stable s'il ne modifie pas l'ordre initial des clés identiques**. <BR> "
   ]
  },
  {
   "cell_type": "markdown",
   "metadata": {
    "slideshow": {
     "slide_type": "slide"
    }
   },
   "source": [
    "## Déstabiliser un tri stable\n",
    "\n",
    "Notons qu'il est assez simple de déstabiliser un tri. \n",
    "\n",
    "Dans l'algoritme du tri à bulle, remplaçons simplement `if plus_petit( T[i+1], T[i] )` par `if not plus_petit( T[i], T[i+1] ):`. \n",
    "\n",
    "Donc, nous remplaçons le test $A > B$ par $\\neg( B > A )$, ce qui est équivalent à $A \\geq B$. "
   ]
  },
  {
   "cell_type": "code",
   "execution_count": 9,
   "metadata": {
    "slideshow": {
     "slide_type": "fragment"
    }
   },
   "outputs": [],
   "source": [
    "def tri_instable(T,plus_petit):\n",
    "\n",
    "    N = len(T)\n",
    "    for k in range(N,1,-1): \n",
    "        for i in range(0,k-1):\n",
    "            if not plus_petit( T[i], T[i+1] ):\n",
    "                T[i],T[i+1] = T[i+1],T[i]  "
   ]
  },
  {
   "cell_type": "markdown",
   "metadata": {
    "slideshow": {
     "slide_type": "skip"
    }
   },
   "source": [
    "Cela change uniquement le traitement des éléments égaux selon le critère de tri. Ils seront maintenant swappés alors qu'ils ne l'étaient pas. Cela rend le tri résultant instable, comme nous pouvons l'illustrer en triant par nom de famille la liste T1 triée par prénom."
   ]
  },
  {
   "cell_type": "code",
   "execution_count": 10,
   "metadata": {
    "slideshow": {
     "slide_type": "subslide"
    }
   },
   "outputs": [
    {
     "name": "stdout",
     "output_type": "stream",
     "text": [
      "       Nom |     Prénom\n",
      "-----------+-----------\n",
      "    Aubert |      Denis\n",
      "    Aubert |   Beatrice\n",
      "    Aubert |  Alexandre\n",
      "    Aubert |     Carole\n",
      "    Bonnet |  Christine\n",
      "    Bonnet |     Benoit\n",
      "    Bonnet |       Anne\n",
      "     Caron |  Catherine\n",
      "     Caron |   Brigitte\n",
      "     Caron |      Alain\n"
     ]
    }
   ],
   "source": [
    "T4 = T1.copy()\n",
    "tri_instable(T4,compare_noms)\n",
    "afficher(T4)"
   ]
  },
  {
   "cell_type": "markdown",
   "metadata": {
    "slideshow": {
     "slide_type": "subslide"
    }
   },
   "source": [
    "Il est également possible de déstabiliser la fonction `tri_a_bulles` sans la modifier mais en lui fournissant en paramètre une mauvaise fonction de comparaison. "
   ]
  },
  {
   "cell_type": "code",
   "execution_count": 11,
   "metadata": {
    "slideshow": {
     "slide_type": "fragment"
    }
   },
   "outputs": [
    {
     "name": "stdout",
     "output_type": "stream",
     "text": [
      "       Nom |     Prénom\n",
      "-----------+-----------\n",
      "    Aubert |      Denis\n",
      "    Aubert |   Beatrice\n",
      "    Aubert |  Alexandre\n",
      "    Aubert |     Carole\n",
      "    Bonnet |  Christine\n",
      "    Bonnet |     Benoit\n",
      "    Bonnet |       Anne\n",
      "     Caron |  Catherine\n",
      "     Caron |   Brigitte\n",
      "     Caron |      Alain\n"
     ]
    }
   ],
   "source": [
    "def compare_noms_instable(a,b):\n",
    "    return a[0] <= b[0]\n",
    "\n",
    "T5 = T1.copy()\n",
    "tri_a_bulles(T5,compare_noms_instable)\n",
    "afficher(T5)"
   ]
  },
  {
   "cell_type": "markdown",
   "metadata": {
    "slideshow": {
     "slide_type": "skip"
    }
   },
   "source": [
    "Notons que quand une librairie vous fournit une fonction de tri stable générique, le tri en question n'est donc stable que si vous mettez correctement en oeuvre la fonction de comparaison avec une inégalité stricte. C'est pas exemple le cas en C++ avec la fonction [std::stable_sort](http://www.cplusplus.com/reference/algorithm/stable_sort/)"
   ]
  },
  {
   "cell_type": "markdown",
   "metadata": {
    "slideshow": {
     "slide_type": "slide"
    }
   },
   "source": [
    "## Stabiliser un tri instable\n",
    "\n",
    "De même, il est toujours possible de stabiliser un algorithme de tri instable en procédant en trois étapes.\n",
    "\n",
    "* Ajouter un indice "
   ]
  },
  {
   "cell_type": "code",
   "execution_count": 12,
   "metadata": {
    "slideshow": {
     "slide_type": "fragment"
    }
   },
   "outputs": [
    {
     "name": "stdout",
     "output_type": "stream",
     "text": [
      "[('Caron', 'Alain', 0), ('Aubert', 'Alexandre', 1), ('Bonnet', 'Anne', 2), ('Aubert', 'Beatrice', 3), ('Bonnet', 'Benoit', 4), ('Caron', 'Brigitte', 5), ('Aubert', 'Carole', 6), ('Caron', 'Catherine', 7), ('Bonnet', 'Christine', 8), ('Aubert', 'Denis', 9)]\n"
     ]
    }
   ],
   "source": [
    "def ajoute_indice(T):\n",
    "    return [ (nom, prenom, indice) for indice, ( nom, prenom ) in enumerate(T)]\n",
    "\n",
    "T6 = ajoute_indice(T1)\n",
    "print(T6)"
   ]
  },
  {
   "cell_type": "markdown",
   "metadata": {
    "slideshow": {
     "slide_type": "subslide"
    }
   },
   "source": [
    "* Trier en utilisant l'indice pour différencier les éléments égaux par ailleurs. \n",
    "\n",
    "Les indices étant uniques, il n'y a plus aucun cas d'égalité lors du tri et l'instabilité de l'algorithme n'a donc aucune incidence."
   ]
  },
  {
   "cell_type": "code",
   "execution_count": 13,
   "metadata": {
    "slideshow": {
     "slide_type": "fragment"
    }
   },
   "outputs": [
    {
     "name": "stdout",
     "output_type": "stream",
     "text": [
      "[('Aubert', 'Alexandre', 1), ('Aubert', 'Beatrice', 3), ('Aubert', 'Carole', 6), ('Aubert', 'Denis', 9), ('Bonnet', 'Anne', 2), ('Bonnet', 'Benoit', 4), ('Bonnet', 'Christine', 8), ('Caron', 'Alain', 0), ('Caron', 'Brigitte', 5), ('Caron', 'Catherine', 7)]\n"
     ]
    }
   ],
   "source": [
    "def compare_noms_indices(a,b):\n",
    "    (nom_a, prenom_a, indice_a) = a;\n",
    "    (nom_b, prenom_b, indice_b) = b;\n",
    "    if(nom_a < nom_b):\n",
    "        return True\n",
    "    elif nom_a == nom_b:\n",
    "        return indice_a < indice_b\n",
    "    else:\n",
    "        return False\n",
    "    \n",
    "tri_instable(T6,compare_noms_indices)\n",
    "\n",
    "print(T6)"
   ]
  },
  {
   "cell_type": "markdown",
   "metadata": {
    "slideshow": {
     "slide_type": "subslide"
    }
   },
   "source": [
    "* Oter l'indice des éléments triés"
   ]
  },
  {
   "cell_type": "code",
   "execution_count": 14,
   "metadata": {
    "slideshow": {
     "slide_type": "fragment"
    }
   },
   "outputs": [
    {
     "name": "stdout",
     "output_type": "stream",
     "text": [
      "       Nom |     Prénom\n",
      "-----------+-----------\n",
      "    Aubert |  Alexandre\n",
      "    Aubert |   Beatrice\n",
      "    Aubert |     Carole\n",
      "    Aubert |      Denis\n",
      "    Bonnet |       Anne\n",
      "    Bonnet |     Benoit\n",
      "    Bonnet |  Christine\n",
      "     Caron |      Alain\n",
      "     Caron |   Brigitte\n",
      "     Caron |  Catherine\n"
     ]
    }
   ],
   "source": [
    "def retire_indice(T):\n",
    "    return [ (nom, prenom) for (nom, prenom, indice) in T ]\n",
    "\n",
    "T6 = retire_indice(T6)\n",
    "\n",
    "afficher(T6)"
   ]
  },
  {
   "cell_type": "markdown",
   "metadata": {
    "slideshow": {
     "slide_type": "skip"
    }
   },
   "source": [
    "Cette technique est couramment utilisée en C, langage dont la librairie standard ne fournit par défaut qu'un tri instable avec [qsort](http://www.cplusplus.com/reference/cstdlib/qsort/)"
   ]
  },
  {
   "cell_type": "markdown",
   "metadata": {
    "slideshow": {
     "slide_type": "slide"
    }
   },
   "source": [
    "# Visualisation\n",
    "\n",
    "Pour analyser la stabilité des tris suivants, nous utiliserons une technique plus visuelle. Elle consiste à trier une liste de 50 nombres réels aléatoires entre 0 et 7 avec trois critères de tris distincts qui comparent\n",
    "\n",
    "* les nombres originaux\n",
    "* leurs parties entières \n",
    "* leurs parties fractionnaires"
   ]
  },
  {
   "cell_type": "code",
   "execution_count": 15,
   "metadata": {
    "slideshow": {
     "slide_type": "fragment"
    }
   },
   "outputs": [],
   "source": [
    "def comp(a,b):\n",
    "    return a<b\n",
    "\n",
    "def comp_int(a,b):\n",
    "    return int(a) < int(b)\n",
    "\n",
    "def comp_frac(a,b):\n",
    "    return (a-int(a)) < (b - int(b))"
   ]
  },
  {
   "cell_type": "markdown",
   "metadata": {
    "slideshow": {
     "slide_type": "slide"
    }
   },
   "source": [
    "Visualisons le tri de 50 nombres aléatoires "
   ]
  },
  {
   "cell_type": "code",
   "execution_count": 22,
   "metadata": {
    "slideshow": {
     "slide_type": "fragment"
    }
   },
   "outputs": [
    {
     "data": {
      "image/png": "[encoded data removed]",
      "text/plain": [
       "<Figure size 432x288 with 1 Axes>"
      ]
     },
     "metadata": {},
     "output_type": "display_data"
    }
   ],
   "source": [
    "import numpy as np\n",
    "import matplotlib.pyplot as plt\n",
    "   \n",
    "def comp_frac(a,b):\n",
    "    return (a-int(a)) < (b - int(b))\n",
    "\n",
    "T = np.random.uniform(0,7,50)\n",
    "tri_a_bulles(T,comp_frac)\n",
    "plt.stem(T,markerfmt=',',linefmt='black',basefmt='black')\n",
    "plt.show()"
   ]
  },
  {
   "cell_type": "code",
   "execution_count": 17,
   "metadata": {
    "slideshow": {
     "slide_type": "subslide"
    }
   },
   "outputs": [
    {
     "data": {
      "image/png": "[encoded data removed]",
      "text/plain": [
       "<Figure size 432x288 with 1 Axes>"
      ]
     },
     "metadata": {},
     "output_type": "display_data"
    }
   ],
   "source": [
    "def comp_int(a,b):\n",
    "    return int(a) < int(b)\n",
    "   \n",
    "T = np.random.uniform(0,7,50)\n",
    "tri_a_bulles(T,comp_int)\n",
    "plt.stem(T,markerfmt=',',linefmt='black',basefmt='black')\n",
    "plt.show()"
   ]
  },
  {
   "cell_type": "code",
   "execution_count": 18,
   "metadata": {
    "slideshow": {
     "slide_type": "subslide"
    }
   },
   "outputs": [
    {
     "data": {
      "image/png": "[encoded data removed]",
      "text/plain": [
       "<Figure size 432x288 with 1 Axes>"
      ]
     },
     "metadata": {},
     "output_type": "display_data"
    }
   ],
   "source": [
    "T = np.random.uniform(0,7,50)\n",
    "tri_a_bulles(T,comp_frac)\n",
    "tri_a_bulles(T,comp_int)\n",
    "plt.stem(T,markerfmt=',',linefmt='black',basefmt='black')\n",
    "plt.show()"
   ]
  },
  {
   "cell_type": "markdown",
   "metadata": {
    "slideshow": {
     "slide_type": "skip"
    }
   },
   "source": [
    "Avec un tri stable, trier selon les parties fractionnaires puis entières est équivalent à trier selon les nombres originaux. Pour un tri instable, il est excessivement peu probable que ce soit le cas. \n",
    "\n",
    "La fonction `test_stabilite` suivante affiche le résultat de ce double tri et indique si le tri est stable. Elle sera utilisée sans autre explication pour les tris suivants de ce chapitre. "
   ]
  },
  {
   "cell_type": "code",
   "execution_count": 19,
   "metadata": {
    "slideshow": {
     "slide_type": "skip"
    }
   },
   "outputs": [],
   "source": [
    "def test_stabilite(algorithme):\n",
    "    T = np.random.uniform(0,7,50)\n",
    "    T2 = T.copy()\n",
    "    N = len(T)\n",
    "    \n",
    "    algorithme(T,comp_frac)\n",
    "    algorithme(T,comp_int)\n",
    "\n",
    "    algorithme(T2,comp)\n",
    "    \n",
    "    if (T == T2).all():\n",
    "        print(\"\\nLe tri est stable\")\n",
    "    else:\n",
    "        print(\"\\nLe tri n'est pas stable\")\n",
    "        \n",
    "    plt.stem(T,markerfmt=',',linefmt='black',basefmt='black')\n",
    "    plt.show()"
   ]
  },
  {
   "cell_type": "markdown",
   "metadata": {
    "slideshow": {
     "slide_type": "skip"
    }
   },
   "source": [
    "Pour tester la stabilité du tri à bulles, il suffit d'écrire "
   ]
  },
  {
   "cell_type": "code",
   "execution_count": 20,
   "metadata": {
    "slideshow": {
     "slide_type": "skip"
    }
   },
   "outputs": [
    {
     "name": "stdout",
     "output_type": "stream",
     "text": [
      "\n",
      "Le tri est stable\n"
     ]
    },
    {
     "data": {
      "image/png": "[encoded data removed]",
      "text/plain": [
       "<Figure size 432x288 with 1 Axes>"
      ]
     },
     "metadata": {},
     "output_type": "display_data"
    }
   ],
   "source": [
    "test_stabilite(tri_a_bulles)"
   ]
  },
  {
   "cell_type": "markdown",
   "metadata": {
    "slideshow": {
     "slide_type": "skip"
    }
   },
   "source": [
    "Par contre, avec la la version instable obtenue en remplaçant `plus_petit( T[i+1], T[i] )` par `not plus_petit( T[i], T[i+1] )`, on obtient "
   ]
  },
  {
   "cell_type": "code",
   "execution_count": 21,
   "metadata": {
    "slideshow": {
     "slide_type": "skip"
    }
   },
   "outputs": [
    {
     "name": "stdout",
     "output_type": "stream",
     "text": [
      "\n",
      "Le tri n'est pas stable\n"
     ]
    },
    {
     "data": {
      "image/png": "[encoded data removed]",
      "text/plain": [
       "<Figure size 432x288 with 1 Axes>"
      ]
     },
     "metadata": {},
     "output_type": "display_data"
    }
   ],
   "source": [
    "test_stabilite(tri_instable)"
   ]
  },
  {
   "cell_type": "markdown",
   "metadata": {
    "slideshow": {
     "slide_type": "skip"
    }
   },
   "source": [
    "Cette fonction `test_stabilite` sera importée pour la suite d'un fichier annexe pour les tris suivant. Elle prend en paramètre une version générique du tri dont le deuxième argument définit la fonction `plus_petit`"
   ]
  },
  {
   "cell_type": "markdown",
   "metadata": {
    "slideshow": {
     "slide_type": "slide"
    }
   },
   "source": [
    "[ASD1 Notebooks on GitHub.io](https://ocuisenaire.github.io/ASD1-notebooks/)\n",
    "\n",
    "© Olivier Cuisenaire, 2018"
   ]
  }
 ],
 "metadata": {
  "celltoolbar": "Slideshow",
  "kernelspec": {
   "display_name": "Python 3",
   "language": "python",
   "name": "python3"
  },
  "language_info": {
   "codemirror_mode": {
    "name": "ipython",
    "version": 3
   },
   "file_extension": ".py",
   "mimetype": "text/x-python",
   "name": "python",
   "nbconvert_exporter": "python",
   "pygments_lexer": "ipython3",
   "version": "3.6.5"
  }
 },
 "nbformat": 4,
 "nbformat_minor": 2
}
