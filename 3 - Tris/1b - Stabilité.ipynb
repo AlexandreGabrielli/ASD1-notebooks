{
 "cells": [
  {
   "cell_type": "markdown",
   "metadata": {},
   "source": [
    "Le tri à bulles nous permet d'illustrer une propriété importante des tris: la **stabilité**. Cette propriété s'intéresse à ce qu'il se passe lorsque l'algorithme de tri rencontre deux éléments qu'il considère comme de même valeur. <BR>\n",
    "    \n",
    "Cette propriété n'est évidemment intéressante que si deux éléments objectivement différents sont considérés égaux par le tri. C'est par exemple le cas quand on n'utilise qu'une partie de l'information pour trier. Considérons par exemple la liste suivante de noms et prénoms "
   ]
  },
  {
   "cell_type": "code",
   "execution_count": 1,
   "metadata": {},
   "outputs": [],
   "source": [
    "TAB = []\n",
    "TAB.append( (\"Aubert\",\"Beatrice\") )\n",
    "TAB.append( (\"Caron\",\"Alain\") )\n",
    "TAB.append( (\"Bonnet\",\"Christine\") )\n",
    "TAB.append( (\"Bonnet\",\"Anne\") )\n",
    "TAB.append( (\"Aubert\",\"Alexandre\") )\n",
    "TAB.append( (\"Caron\",\"Catherine\") )\n",
    "TAB.append( (\"Bonnet\",\"Benoit\") )\n",
    "TAB.append( (\"Aubert\",\"Denis\") )\n",
    "TAB.append( (\"Aubert\",\"Carole\") )\n",
    "TAB.append( (\"Caron\",\"Brigitte\") )"
   ]
  },
  {
   "cell_type": "markdown",
   "metadata": {},
   "source": [
    "On peut envisager de trier cette liste par nom de famille, par prénom, par nom/prénom ou par prénom/nom, ... Pour mieux visualiser ces tris, écrivons la fonction d'affichage suivante."
   ]
  },
  {
   "cell_type": "code",
   "execution_count": 2,
   "metadata": {},
   "outputs": [
    {
     "name": "stdout",
     "output_type": "stream",
     "text": [
      "       Nom |     Prénom\n",
      "-----------+-----------\n",
      "    Aubert |   Beatrice\n",
      "     Caron |      Alain\n",
      "    Bonnet |  Christine\n",
      "    Bonnet |       Anne\n",
      "    Aubert |  Alexandre\n",
      "     Caron |  Catherine\n",
      "    Bonnet |     Benoit\n",
      "    Aubert |      Denis\n",
      "    Aubert |     Carole\n",
      "     Caron |   Brigitte\n"
     ]
    }
   ],
   "source": [
    "def afficher(T):\n",
    "    \n",
    "    print(\"{:>10}\".format(\"Nom\"),\"|\",\"{:>10}\".format(\"Prénom\"))\n",
    "    print(\"-----------+-----------\")\n",
    "    for nom,prenom in T:\n",
    "         print(\"{:>10}\".format(nom),\"|\",\"{:>10}\".format(prenom))\n",
    "\n",
    "\n",
    "afficher(TAB)"
   ]
  },
  {
   "cell_type": "markdown",
   "metadata": {},
   "source": [
    "Pour le rendre plus générique, réécrivons notre tri à bulles avec une fonction de comparaison externe passée en paramètre. Cette fonction `plus_grand` doit prendre deux éléments en paramètres et renvoyer `True` si le premier est plus grand que le second et `False` sinon. La foncton `tri_a_bulles` trie alors le tableau `T` par ordre croissant. "
   ]
  },
  {
   "cell_type": "code",
   "execution_count": 3,
   "metadata": {},
   "outputs": [],
   "source": [
    "def tri_a_bulles(T,plus_grand):\n",
    "\n",
    "    N = len(T)\n",
    "    for k in range(N,1,-1): \n",
    "        for i in range(0,k-1):\n",
    "            if plus_grand( T[i], T[i+1] ):\n",
    "                T[i],T[i+1] = T[i+1],T[i]   "
   ]
  },
  {
   "cell_type": "markdown",
   "metadata": {},
   "source": [
    "Ainsi, si l'on veut trier la liste par ordre alphabétique des prénoms, il suffit d'écrire une fonction de comparaison ne prenant en compte que ceux-ci. "
   ]
  },
  {
   "cell_type": "code",
   "execution_count": 4,
   "metadata": {},
   "outputs": [],
   "source": [
    "def compare_prenoms(a,b):\n",
    "    return a[1] > b[1]"
   ]
  },
  {
   "cell_type": "markdown",
   "metadata": {},
   "source": [
    "Visualisons-en le résultat"
   ]
  },
  {
   "cell_type": "code",
   "execution_count": 5,
   "metadata": {},
   "outputs": [
    {
     "name": "stdout",
     "output_type": "stream",
     "text": [
      "       Nom |     Prénom\n",
      "-----------+-----------\n",
      "     Caron |      Alain\n",
      "    Aubert |  Alexandre\n",
      "    Bonnet |       Anne\n",
      "    Aubert |   Beatrice\n",
      "    Bonnet |     Benoit\n",
      "     Caron |   Brigitte\n",
      "    Aubert |     Carole\n",
      "     Caron |  Catherine\n",
      "    Bonnet |  Christine\n",
      "    Aubert |      Denis\n"
     ]
    }
   ],
   "source": [
    "T1 = TAB.copy()\n",
    "tri_a_bulles(T1,compare_prenoms)\n",
    "\n",
    "afficher(T1)"
   ]
  },
  {
   "cell_type": "markdown",
   "metadata": {},
   "source": [
    "De même, pour trier selon l'ordre alphabétique des noms, il suffit d'utiliser la fonction de comparaison suivante"
   ]
  },
  {
   "cell_type": "code",
   "execution_count": 6,
   "metadata": {},
   "outputs": [],
   "source": [
    "def compare_noms(a,b):\n",
    "    return a[0] > b[0]"
   ]
  },
  {
   "cell_type": "markdown",
   "metadata": {},
   "source": [
    "Ce tri, appliqué à la liste originale, donne "
   ]
  },
  {
   "cell_type": "code",
   "execution_count": 7,
   "metadata": {},
   "outputs": [
    {
     "name": "stdout",
     "output_type": "stream",
     "text": [
      "       Nom |     Prénom\n",
      "-----------+-----------\n",
      "    Aubert |   Beatrice\n",
      "    Aubert |  Alexandre\n",
      "    Aubert |      Denis\n",
      "    Aubert |     Carole\n",
      "    Bonnet |  Christine\n",
      "    Bonnet |       Anne\n",
      "    Bonnet |     Benoit\n",
      "     Caron |      Alain\n",
      "     Caron |  Catherine\n",
      "     Caron |   Brigitte\n"
     ]
    }
   ],
   "source": [
    "T2 = TAB.copy()\n",
    "tri_a_bulles(T2,compare_noms)\n",
    "afficher(T2)"
   ]
  },
  {
   "cell_type": "markdown",
   "metadata": {},
   "source": [
    "Mais appliquons maintenant le tri par nom de famille à la liste T1 que l'on a précédemment triée par prénom. "
   ]
  },
  {
   "cell_type": "code",
   "execution_count": 8,
   "metadata": {},
   "outputs": [
    {
     "name": "stdout",
     "output_type": "stream",
     "text": [
      "       Nom |     Prénom\n",
      "-----------+-----------\n",
      "    Aubert |  Alexandre\n",
      "    Aubert |   Beatrice\n",
      "    Aubert |     Carole\n",
      "    Aubert |      Denis\n",
      "    Bonnet |       Anne\n",
      "    Bonnet |     Benoit\n",
      "    Bonnet |  Christine\n",
      "     Caron |      Alain\n",
      "     Caron |   Brigitte\n",
      "     Caron |  Catherine\n"
     ]
    }
   ],
   "source": [
    "T3 = T1.copy()\n",
    "tri_a_bulles(T3,compare_noms)\n",
    "afficher(T3)"
   ]
  },
  {
   "cell_type": "markdown",
   "metadata": {},
   "source": [
    "On note alors que - pour chaque nom de famille - les personnes sont maintenant triées par ordre alphabétique des prénoms. <br>\n",
    "\n",
    "Plus exactement, lors du tri par nom de famille, les personnes qui ont le même nom de famille restent listées dans le même ordre qu'elles avaient avant ce tri. La liste ayant été préalablement triée par prénom, elle le reste pour chaque nom de famille. <BR>\n",
    "    \n",
    "C'est la définition de la stabilité: **un algorithme de tri est stable s'il ne modifie pas l'ordre initial des clés identiques**. <BR>"
   ]
  },
  {
   "cell_type": "markdown",
   "metadata": {},
   "source": [
    "## Déstabiliser un tri stable\n",
    "\n",
    "Notons qu'il est assez simple de déstabiliser un tri. Dans l'algoritme du tri à bulle, remplaçons simplement `if plus_grand( T[i], T[i+1] )` par `if not plus_grand( T[i+1], T[i] ):`. Donc, nous remlaçons le test $A > B$ par $\\neg( B > A )$, ce qui est équivalent à $A \\geq B$. "
   ]
  },
  {
   "cell_type": "code",
   "execution_count": 9,
   "metadata": {},
   "outputs": [],
   "source": [
    "def tri_instable(T,plus_grand):\n",
    "\n",
    "    N = len(T)\n",
    "    for k in range(N,1,-1): \n",
    "        for i in range(0,k-1):\n",
    "            if not plus_grand( T[i+1], T[i] ):\n",
    "                T[i],T[i+1] = T[i+1],T[i]  "
   ]
  },
  {
   "cell_type": "markdown",
   "metadata": {},
   "source": [
    "Cela change uniquement le traitement des éléments égaux selon le critère de tri. Ils seront maintenant swappés alors qu'ils ne l'étaient pas. Cela rend le tri résultant instable, comme nous pouvons l'illustrer en triant par nom de famille la liste T1 triée par prénom."
   ]
  },
  {
   "cell_type": "code",
   "execution_count": 10,
   "metadata": {},
   "outputs": [
    {
     "name": "stdout",
     "output_type": "stream",
     "text": [
      "       Nom |     Prénom\n",
      "-----------+-----------\n",
      "    Aubert |      Denis\n",
      "    Aubert |   Beatrice\n",
      "    Aubert |  Alexandre\n",
      "    Aubert |     Carole\n",
      "    Bonnet |  Christine\n",
      "    Bonnet |     Benoit\n",
      "    Bonnet |       Anne\n",
      "     Caron |  Catherine\n",
      "     Caron |   Brigitte\n",
      "     Caron |      Alain\n"
     ]
    }
   ],
   "source": [
    "T4 = T1.copy()\n",
    "tri_instable(T4,compare_noms)\n",
    "afficher(T4)"
   ]
  },
  {
   "cell_type": "markdown",
   "metadata": {},
   "source": [
    "Il est également possible de déstabiliser la fonction `tri_a_bulles` sans la modifier mais en lui fournissant en paramètre une mauvaise fonction de comparaison. "
   ]
  },
  {
   "cell_type": "code",
   "execution_count": 11,
   "metadata": {},
   "outputs": [
    {
     "name": "stdout",
     "output_type": "stream",
     "text": [
      "       Nom |     Prénom\n",
      "-----------+-----------\n",
      "    Aubert |      Denis\n",
      "    Aubert |   Beatrice\n",
      "    Aubert |  Alexandre\n",
      "    Aubert |     Carole\n",
      "    Bonnet |  Christine\n",
      "    Bonnet |     Benoit\n",
      "    Bonnet |       Anne\n",
      "     Caron |  Catherine\n",
      "     Caron |   Brigitte\n",
      "     Caron |      Alain\n"
     ]
    }
   ],
   "source": [
    "def compare_noms_instable(a,b):\n",
    "    return a[0] >= b[0]\n",
    "\n",
    "T5 = T1.copy()\n",
    "tri_a_bulles(T5,compare_noms_instable)\n",
    "afficher(T5)"
   ]
  },
  {
   "cell_type": "markdown",
   "metadata": {},
   "source": [
    "Notons que quand une librairie vous fournit une fonction de tri stable générique, le tri en question n'est donc stable que si vous mettez correctement en oeuvre la fonction de comparaison avec une inégalité stricte. C'est pas exemple le cas en C++ avec la fonction [std::stable_sort](http://www.cplusplus.com/reference/algorithm/stable_sort/)"
   ]
  },
  {
   "cell_type": "markdown",
   "metadata": {},
   "source": [
    "## Stabiliser un tri instable\n",
    "\n",
    "De même, il est toujours possible de stabiliser un algorithme de tri instable en procédant en trois étapes.\n",
    "\n",
    "* Ajouter un indice "
   ]
  },
  {
   "cell_type": "code",
   "execution_count": 12,
   "metadata": {},
   "outputs": [
    {
     "name": "stdout",
     "output_type": "stream",
     "text": [
      "[('Caron', 'Alain', 0), ('Aubert', 'Alexandre', 1), ('Bonnet', 'Anne', 2), ('Aubert', 'Beatrice', 3), ('Bonnet', 'Benoit', 4), ('Caron', 'Brigitte', 5), ('Aubert', 'Carole', 6), ('Caron', 'Catherine', 7), ('Bonnet', 'Christine', 8), ('Aubert', 'Denis', 9)]\n"
     ]
    }
   ],
   "source": [
    "def ajoute_index(T):\n",
    "    return [ (nom, prenom, indice) for indice, ( nom, prenom ) in enumerate(T)]\n",
    "\n",
    "T6 = ajoute_index(T1)\n",
    "print(T6)"
   ]
  },
  {
   "cell_type": "markdown",
   "metadata": {},
   "source": [
    "* Trier en utilisant l'indice pour différencier les éléments égaux par ailleurs. Les indices étant uniques, il n'y a aucun cas d'égalité lors du tri et l'instabilité de l'algorithme n'a donc aucune incidence."
   ]
  },
  {
   "cell_type": "code",
   "execution_count": 13,
   "metadata": {},
   "outputs": [
    {
     "name": "stdout",
     "output_type": "stream",
     "text": [
      "[('Aubert', 'Alexandre', 1), ('Aubert', 'Beatrice', 3), ('Aubert', 'Carole', 6), ('Aubert', 'Denis', 9), ('Bonnet', 'Anne', 2), ('Bonnet', 'Benoit', 4), ('Bonnet', 'Christine', 8), ('Caron', 'Alain', 0), ('Caron', 'Brigitte', 5), ('Caron', 'Catherine', 7)]\n"
     ]
    }
   ],
   "source": [
    "def compare_noms_indices(a,b):\n",
    "    (nom_a, prenom_a, indice_a) = a;\n",
    "    (nom_b, prenom_b, indice_b) = b;\n",
    "    if(nom_a > nom_b):\n",
    "        return True\n",
    "    elif nom_a == nom_b:\n",
    "        return indice_a > indice_b\n",
    "    else:\n",
    "        return False\n",
    "    \n",
    "tri_instable(T6,compare_noms_indices)\n",
    "\n",
    "print(T6)"
   ]
  },
  {
   "cell_type": "markdown",
   "metadata": {},
   "source": [
    "* Oter l'indice des éléments triés"
   ]
  },
  {
   "cell_type": "code",
   "execution_count": 14,
   "metadata": {},
   "outputs": [
    {
     "name": "stdout",
     "output_type": "stream",
     "text": [
      "       Nom |     Prénom\n",
      "-----------+-----------\n",
      "    Aubert |  Alexandre\n",
      "    Aubert |   Beatrice\n",
      "    Aubert |     Carole\n",
      "    Aubert |      Denis\n",
      "    Bonnet |       Anne\n",
      "    Bonnet |     Benoit\n",
      "    Bonnet |  Christine\n",
      "     Caron |      Alain\n",
      "     Caron |   Brigitte\n",
      "     Caron |  Catherine\n"
     ]
    }
   ],
   "source": [
    "def retire_index(T):\n",
    "    return [ (nom, prenom) for (nom, prenom, indice) in T ]\n",
    "\n",
    "T6 = retire_index(T6)\n",
    "\n",
    "afficher(T6)"
   ]
  },
  {
   "cell_type": "markdown",
   "metadata": {},
   "source": [
    "Cette technique est couramment utilisée en C, langage dont la librairie standard ne fournit par défaut qu'un tri instable avec [qsort](http://www.cplusplus.com/reference/cstdlib/qsort/)"
   ]
  }
 ],
 "metadata": {
  "kernelspec": {
   "display_name": "Python 3",
   "language": "python",
   "name": "python3"
  },
  "language_info": {
   "codemirror_mode": {
    "name": "ipython",
    "version": 3
   },
   "file_extension": ".py",
   "mimetype": "text/x-python",
   "name": "python",
   "nbconvert_exporter": "python",
   "pygments_lexer": "ipython3",
   "version": "3.6.5"
  }
 },
 "nbformat": 4,
 "nbformat_minor": 2
}
