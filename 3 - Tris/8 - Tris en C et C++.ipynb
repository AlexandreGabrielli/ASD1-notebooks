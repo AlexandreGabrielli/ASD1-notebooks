{
 "cells": [
  {
   "cell_type": "markdown",
   "metadata": {
    "slideshow": {
     "slide_type": "slide"
    }
   },
   "source": [
    "# Tris en C et C++"
   ]
  },
  {
   "cell_type": "markdown",
   "metadata": {
    "slideshow": {
     "slide_type": "slide"
    }
   },
   "source": [
    "Tous les langages de programmation fournissent des algorithmes de tri standard. Il est important d'en comprendre les propriétés."
   ]
  },
  {
   "cell_type": "markdown",
   "metadata": {
    "slideshow": {
     "slide_type": "slide"
    }
   },
   "source": [
    "## Langage C\n",
    "\n",
    "En C, la librairie `\"stdlib.h\"` fournit la fonction [`qsort`](http://www.cplusplus.com/reference/cstdlib/qsort/), dont le prototype est  "
   ]
  },
  {
   "cell_type": "code",
   "execution_count": 1,
   "metadata": {
    "slideshow": {
     "slide_type": "-"
    }
   },
   "outputs": [],
   "source": [
    "void qsort (void* base, \n",
    "             size_t num, \n",
    "             size_t size, \n",
    "             int (*comp)(const void*,const void*));"
   ]
  },
  {
   "cell_type": "markdown",
   "metadata": {
    "slideshow": {
     "slide_type": "fragment"
    }
   },
   "source": [
    "* `void *base  ` : adresse du premier élément du tableau \n",
    "\n",
    "\n",
    "* `size_t num  ` : nombre d'éléments à trier \n",
    "\n",
    "\n",
    "* `size_t size ` : taille d'un élément du tableau \n",
    "\n",
    "\n",
    "* `int (*comp) (void const *a, void const *b) `: adresse de la fonction de comparaison, fournie par l'utilisateur.\n"
   ]
  },
  {
   "cell_type": "markdown",
   "metadata": {
    "slideshow": {
     "slide_type": "subslide"
    }
   },
   "source": [
    "Ecrivons une fonction comparant deux entiers, de prototype "
   ]
  },
  {
   "cell_type": "code",
   "execution_count": 2,
   "metadata": {
    "slideshow": {
     "slide_type": "-"
    }
   },
   "outputs": [],
   "source": [
    "int plus_petit (const void * a, const void * b);"
   ]
  },
  {
   "cell_type": "markdown",
   "metadata": {
    "slideshow": {
     "slide_type": "fragment"
    }
   },
   "source": [
    "Elle doit \n",
    "* caster les pointeurs `void*` en pointeurs `int*`\n",
    "* comparer les deux valeurs entières\n",
    "* retourner un entier \n",
    "   * `<0` si `*a` est plus petit que `*b`\n",
    "   * `>0` si `*b` est plus petit que `*a`\n",
    "   * `0` s'ils sont égaux selon le critère choisi"
   ]
  },
  {
   "cell_type": "code",
   "execution_count": 3,
   "metadata": {
    "slideshow": {
     "slide_type": "fragment"
    }
   },
   "outputs": [],
   "source": [
    "int plus_petit (const void * a, const void * b)\n",
    "{\n",
    "  return ( *(const int*)a - *(const int*)b );\n",
    "}"
   ]
  },
  {
   "cell_type": "markdown",
   "metadata": {
    "slideshow": {
     "slide_type": "subslide"
    }
   },
   "source": [
    "Soit le tableau d'entiers "
   ]
  },
  {
   "cell_type": "code",
   "execution_count": 4,
   "metadata": {
    "slideshow": {
     "slide_type": "-"
    }
   },
   "outputs": [],
   "source": [
    "int values[] = { 40, 10, 100, 90, 20, 25 };\n",
    "int N = sizeof(values)/sizeof(int);"
   ]
  },
  {
   "cell_type": "markdown",
   "metadata": {
    "slideshow": {
     "slide_type": "fragment"
    }
   },
   "source": [
    "Pour le trier entièrement, il suffit d'écrire"
   ]
  },
  {
   "cell_type": "code",
   "execution_count": 5,
   "metadata": {
    "slideshow": {
     "slide_type": "-"
    }
   },
   "outputs": [],
   "source": [
    "#include \"stdlib.h\"\n",
    "qsort (values, N, sizeof(int), plus_petit);"
   ]
  },
  {
   "cell_type": "markdown",
   "metadata": {
    "slideshow": {
     "slide_type": "fragment"
    }
   },
   "source": [
    "Ce qui donne le tableau trié suivant"
   ]
  },
  {
   "cell_type": "code",
   "execution_count": 6,
   "metadata": {
    "slideshow": {
     "slide_type": "-"
    }
   },
   "outputs": [
    {
     "data": {
      "text/plain": [
       "{ 10, 20, 25, 40, 90, 100 }"
      ]
     },
     "execution_count": 6,
     "metadata": {},
     "output_type": "execute_result"
    }
   ],
   "source": [
    "values"
   ]
  },
  {
   "cell_type": "markdown",
   "metadata": {
    "slideshow": {
     "slide_type": "subslide"
    }
   },
   "source": [
    "### Propriétés\n",
    "\n",
    "Le langage C ne fournit pas de garantie sur la complexité de `qsort`, mais en pratique\n",
    "\n",
    "* `qsort` est le diminutif de Quick Sort, l'algorithme de tri rapide\n",
    "\n",
    "\n",
    "* Le tri a donc une complexité moyenne $\\Theta(n \\log n)$ \n",
    "\n",
    "\n",
    "* Il peut avoir une complexité quadratique $\\Theta(n^2)$ dans le pire des cas\n",
    "\n",
    "\n",
    "* Il n'est pas stable"
   ]
  },
  {
   "cell_type": "markdown",
   "metadata": {
    "slideshow": {
     "slide_type": "slide"
    }
   },
   "source": [
    "## Tri rapide en C++\n",
    "\n",
    "En C++, la librairie `<algorithm>` fournit la fonction [`std::sort`](http://www.cplusplus.com/reference/algorithm/sort/), dont les prototypes sont "
   ]
  },
  {
   "cell_type": "code",
   "execution_count": 7,
   "metadata": {
    "slideshow": {
     "slide_type": "-"
    }
   },
   "outputs": [],
   "source": [
    "template <class RandomAccessIterator>\n",
    "void sort (RandomAccessIterator first, \n",
    "           RandomAccessIterator last);"
   ]
  },
  {
   "cell_type": "markdown",
   "metadata": {
    "slideshow": {
     "slide_type": "-"
    }
   },
   "source": [
    "* `first  ` : itérateur vers le premier élément à trier\n",
    "\n",
    "\n",
    "* `last   ` : itérateur vers l'élément qui suit le dernier à trier. Ensemble, ils définissent une séquence `[first,last[`. "
   ]
  },
  {
   "cell_type": "code",
   "execution_count": 8,
   "metadata": {
    "slideshow": {
     "slide_type": "subslide"
    }
   },
   "outputs": [],
   "source": [
    "template <class RandomAccessIterator, class Compare>\n",
    "void sort (RandomAccessIterator first, \n",
    "           RandomAccessIterator last, \n",
    "           Compare comp);"
   ]
  },
  {
   "cell_type": "markdown",
   "metadata": {
    "slideshow": {
     "slide_type": "-"
    }
   },
   "source": [
    "* `first  ` : itérateur vers le premier élément à trier\n",
    "\n",
    "\n",
    "* `last   ` : itérateur vers l'élément qui suit le dernier à trier. Ensemble, ils définissent une séquence `[first,last[`. \n",
    "\n",
    "* `comp   ` : fonction de comparaison. Prend deux éléments en paramètres et retourne un `bool` qui vaut vrai si le premier est plus petit que le second. Si elle n'est pas spécifiée, le tri utilise l'opérateur `<` du type trié"
   ]
  },
  {
   "cell_type": "markdown",
   "metadata": {
    "slideshow": {
     "slide_type": "subslide"
    }
   },
   "source": [
    "Soit le vecteur v dont on veut trier les 4 premiers éléments"
   ]
  },
  {
   "cell_type": "code",
   "execution_count": 9,
   "metadata": {
    "slideshow": {
     "slide_type": "-"
    }
   },
   "outputs": [],
   "source": [
    "#include <vector>\n",
    "std::vector<int> v{ 32,71,12,45,26,80,53,33 };"
   ]
  },
  {
   "cell_type": "code",
   "execution_count": 10,
   "metadata": {
    "slideshow": {
     "slide_type": "fragment"
    }
   },
   "outputs": [
    {
     "data": {
      "text/plain": [
       "{ 12, 32, 45, 71, 26, 80, 53, 33 }"
      ]
     },
     "execution_count": 10,
     "metadata": {},
     "output_type": "execute_result"
    }
   ],
   "source": [
    "#include <algorithm>\n",
    "std::sort( v.begin(), v.begin()  + 4 );\n",
    "v"
   ]
  },
  {
   "cell_type": "markdown",
   "metadata": {
    "slideshow": {
     "slide_type": "fragment"
    }
   },
   "source": [
    "Pour trier tout le vecteur, on écrit"
   ]
  },
  {
   "cell_type": "code",
   "execution_count": 11,
   "metadata": {
    "slideshow": {
     "slide_type": "-"
    }
   },
   "outputs": [
    {
     "data": {
      "text/plain": [
       "{ 12, 26, 32, 33, 45, 53, 71, 80 }"
      ]
     },
     "execution_count": 11,
     "metadata": {},
     "output_type": "execute_result"
    }
   ],
   "source": [
    "std::sort( v.begin(), v.end() );\n",
    "v"
   ]
  },
  {
   "cell_type": "markdown",
   "metadata": {
    "slideshow": {
     "slide_type": "subslide"
    }
   },
   "source": [
    "La version avec comparaison générique peut prendre en paramètre une fonction,"
   ]
  },
  {
   "cell_type": "code",
   "execution_count": 12,
   "metadata": {
    "slideshow": {
     "slide_type": "-"
    }
   },
   "outputs": [],
   "source": [
    "bool plus_grand (int i,int j) { return (i>j); }"
   ]
  },
  {
   "cell_type": "code",
   "execution_count": 13,
   "metadata": {
    "slideshow": {
     "slide_type": "fragment"
    }
   },
   "outputs": [
    {
     "data": {
      "text/plain": [
       "{ 80, 71, 53, 45, 33, 32, 26, 12 }"
      ]
     },
     "execution_count": 13,
     "metadata": {},
     "output_type": "execute_result"
    }
   ],
   "source": [
    "std::sort(v.begin(), v.end(), plus_grand);\n",
    "v"
   ]
  },
  {
   "cell_type": "markdown",
   "metadata": {
    "slideshow": {
     "slide_type": "subslide"
    }
   },
   "source": [
    "un objet fonction, ou [foncteur](https://en.wikipedia.org/wiki/Function_object), c'est à dire une structure ou une classe qui définit l'opérateur `operator()`,"
   ]
  },
  {
   "cell_type": "code",
   "execution_count": 14,
   "metadata": {
    "slideshow": {
     "slide_type": "-"
    }
   },
   "outputs": [],
   "source": [
    "struct plus_petit_modulo {\n",
    "    int base; \n",
    "    bool operator() (int i,int j) { return (i%base < j%base );}\n",
    "};"
   ]
  },
  {
   "cell_type": "code",
   "execution_count": 15,
   "metadata": {
    "slideshow": {
     "slide_type": "fragment"
    }
   },
   "outputs": [
    {
     "data": {
      "text/plain": [
       "{ 80, 71, 32, 12, 53, 33, 45, 26 }"
      ]
     },
     "execution_count": 15,
     "metadata": {},
     "output_type": "execute_result"
    }
   ],
   "source": [
    "auto compare_dernier_chiffre = plus_petit_modulo{10};\n",
    "std::sort( v.begin(), v.end(), compare_dernier_chiffre );\n",
    "v"
   ]
  },
  {
   "cell_type": "code",
   "execution_count": 16,
   "metadata": {
    "slideshow": {
     "slide_type": "fragment"
    }
   },
   "outputs": [
    {
     "data": {
      "text/plain": [
       "{ 80, 32, 12, 26, 71, 53, 33, 45 }"
      ]
     },
     "execution_count": 16,
     "metadata": {},
     "output_type": "execute_result"
    }
   ],
   "source": [
    "auto compare_parite = plus_petit_modulo{2};\n",
    "std::sort( v.begin(), v.end(), compare_parite );\n",
    "v"
   ]
  },
  {
   "cell_type": "markdown",
   "metadata": {
    "slideshow": {
     "slide_type": "subslide"
    }
   },
   "source": [
    "ou une [expression lambda](https://en.wikipedia.org/wiki/Anonymous_function) (C++11), i.e. un objet fonction anonyme capable de capturer des variables dans la portée."
   ]
  },
  {
   "cell_type": "code",
   "execution_count": 17,
   "metadata": {
    "slideshow": {
     "slide_type": "-"
    }
   },
   "outputs": [
    {
     "data": {
      "text/plain": [
       "{ 80, 32, 12, 26, 71, 53, 33, 45 }"
      ]
     },
     "execution_count": 17,
     "metadata": {},
     "output_type": "execute_result"
    }
   ],
   "source": [
    "int B = 2;\n",
    "std::sort( v.begin(), v.end(), \n",
    "          [&B](int i, int j) { return i%B < j%B; } );\n",
    "v"
   ]
  },
  {
   "cell_type": "markdown",
   "metadata": {
    "slideshow": {
     "slide_type": "subslide"
    }
   },
   "source": [
    "### Propriétés\n",
    "\n",
    "La librairie standard garantit une **complexité moyenne** linéarithmique $\\Theta(n \\log n)$. \n",
    "\n",
    "En pratique, `std::sort` est toujours une variation de l'algorithme de **tri rapide**, éventuellement avec un tri par insertion pour les partitions les plus petites.\n",
    "\n",
    "Donc, \n",
    "* il n'est pas stable\n",
    "* c'est le plus rapide des tris proposés par la STL\n",
    "* on ne peut exclure une complexité quadratique dans le pire des cas\n",
    "\n",
    "Le tri rapide étant un tri par échange, il est important que la fonction `swap(T,T)` soit efficace pour le type `T` à trier. "
   ]
  },
  {
   "cell_type": "markdown",
   "metadata": {
    "slideshow": {
     "slide_type": "slide"
    }
   },
   "source": [
    "## Tri stable en C++\n",
    "\n",
    "La librairie `<algorithm>` fournit également la fonction [`std::stable_sort`](http://www.cplusplus.com/reference/algorithm/stable_sort/), dont les prototypes sont "
   ]
  },
  {
   "cell_type": "code",
   "execution_count": 18,
   "metadata": {
    "slideshow": {
     "slide_type": "-"
    }
   },
   "outputs": [],
   "source": [
    "template <class RandomAccessIterator>\n",
    "void stable_sort (RandomAccessIterator first, \n",
    "                  RandomAccessIterator last );"
   ]
  },
  {
   "cell_type": "markdown",
   "metadata": {
    "slideshow": {
     "slide_type": "-"
    }
   },
   "source": [
    "* `first  ` : itérateur vers le premier élément à trier\n",
    "\n",
    " \n",
    "* `last   ` : itérateur vers l'élément qui suit le dernier à trier. Ensemble, ils définissent une séquence `[first,last[`. "
   ]
  },
  {
   "cell_type": "code",
   "execution_count": 19,
   "metadata": {
    "slideshow": {
     "slide_type": "subslide"
    }
   },
   "outputs": [],
   "source": [
    "template <class RandomAccessIterator, class Compare>\n",
    "void stable_sort (RandomAccessIterator first, \n",
    "                  RandomAccessIterator last,\n",
    "                  Compare comp );"
   ]
  },
  {
   "cell_type": "markdown",
   "metadata": {
    "slideshow": {
     "slide_type": "-"
    }
   },
   "source": [
    "* `first  ` : itérateur vers le premier élément à trier\n",
    "\n",
    " \n",
    "* `last   ` : itérateur vers l'élément qui suit le dernier à trier. Ensemble, ils définissent une séquence `[first,last[`. \n",
    "\n",
    "\n",
    "* `comp   ` : fonction de comparaison. Prend deux éléments en paramètres et retourne un `bool` qui vaut vrai si le premier est plus petit que le second. "
   ]
  },
  {
   "cell_type": "markdown",
   "metadata": {
    "slideshow": {
     "slide_type": "subslide"
    }
   },
   "source": [
    "Trions par exemple en ne tenant compte que des parties entières avec la fonction "
   ]
  },
  {
   "cell_type": "code",
   "execution_count": 20,
   "metadata": {
    "slideshow": {
     "slide_type": "-"
    }
   },
   "outputs": [],
   "source": [
    "bool partie_entiere_plus_petite (double i,double j)\n",
    "{ return (int(i) < int(j)); }"
   ]
  },
  {
   "cell_type": "code",
   "execution_count": 21,
   "metadata": {
    "slideshow": {
     "slide_type": "fragment"
    }
   },
   "outputs": [
    {
     "data": {
      "text/plain": [
       "{ 1.41, 1.73, 1.32, 1.62, 2.72, 2.58, 3.14, 4.67 }"
      ]
     },
     "execution_count": 21,
     "metadata": {},
     "output_type": "execute_result"
    }
   ],
   "source": [
    "std::vector<double> v2 {3.14, 1.41, 2.72, 4.67, 1.73, 1.32, 1.62, 2.58};\n",
    "std::stable_sort(v2.begin(), v2.end(), partie_entiere_plus_petite);\n",
    "v2"
   ]
  },
  {
   "cell_type": "markdown",
   "metadata": {
    "slideshow": {
     "slide_type": "-"
    }
   },
   "source": [
    "On voit que pour une partie entiére donnée, l'ordre des éléments originaux est conservé. "
   ]
  },
  {
   "cell_type": "markdown",
   "metadata": {
    "slideshow": {
     "slide_type": "subslide"
    }
   },
   "source": [
    "Mais attention, il est indispensable que la fonction de tri mette en oeuvre une inégalité stricte. Sinon la stabilité n'est pas garantie."
   ]
  },
  {
   "cell_type": "code",
   "execution_count": 22,
   "metadata": {
    "slideshow": {
     "slide_type": "-"
    }
   },
   "outputs": [],
   "source": [
    "bool partie_entiere_plus_petite_ou_egale (double i,double j)\n",
    "{ return (int(i) <= int(j)); }"
   ]
  },
  {
   "cell_type": "code",
   "execution_count": 23,
   "metadata": {
    "slideshow": {
     "slide_type": "fragment"
    }
   },
   "outputs": [
    {
     "data": {
      "text/plain": [
       "{ 1.62, 1.32, 1.73, 1.41, 2.58, 2.72, 3.14, 4.67 }"
      ]
     },
     "execution_count": 23,
     "metadata": {},
     "output_type": "execute_result"
    }
   ],
   "source": [
    "std::vector<double> v3 {3.14, 1.41, 2.72, 4.67, 1.73, 1.32, 1.62, 2.58};\n",
    "std::stable_sort(v3.begin(), v3.end(), partie_entiere_plus_petite_ou_egale);\n",
    "v3"
   ]
  },
  {
   "cell_type": "markdown",
   "metadata": {
    "slideshow": {
     "slide_type": "subslide"
    }
   },
   "source": [
    "### Propriétés\n",
    "\n",
    "La librairie standard garantit \n",
    "\n",
    "* une complexité temporelle linéarithmique $\\Theta(n \\log n)$, si il y a assez de mémoire. \n",
    "* une complexité temporelle $\\Theta(n \\log^2 n)$ si le tri fusion doit être réalisé en place. "
   ]
  },
  {
   "cell_type": "markdown",
   "metadata": {
    "slideshow": {
     "slide_type": "subslide"
    }
   },
   "source": [
    "En pratique, `std::stable_sort` est toujours une variation de l'algorithme de **tri par fusion**.\n",
    "\n",
    "Donc, \n",
    "* il est stable\n",
    "* il est moins rapide `std::sort`\n",
    "* les complexités sont également garanties dans le pire des cas\n",
    "\n",
    "Le tri par fusion effectant de nombreux déplacements, il est important que l'affectation `T = std::move(T)` soit efficace pour le type `T` à trier. "
   ]
  },
  {
   "cell_type": "markdown",
   "metadata": {
    "slideshow": {
     "slide_type": "slide"
    }
   },
   "source": [
    "## $n^{ieme}$ élément en C++\n",
    "\n",
    "La librairie `<algorithm>` fournit aussi une fonction de sélection rapide sous le nom de [`nth_element`](http://www.cplusplus.com/reference/algorithm/nth_element/), dont le prototype est  "
   ]
  },
  {
   "cell_type": "code",
   "execution_count": 24,
   "metadata": {
    "slideshow": {
     "slide_type": "-"
    }
   },
   "outputs": [],
   "source": [
    "template <class RandomAccessIterator>\n",
    "void nth_element (RandomAccessIterator first, \n",
    "                  RandomAccessIterator nth,\n",
    "                  RandomAccessIterator last);"
   ]
  },
  {
   "cell_type": "markdown",
   "metadata": {
    "slideshow": {
     "slide_type": "-"
    }
   },
   "source": [
    "où les éléments à traiter sont dans l'intervalle `[first,last[` et la valeur de `n` est donnée par `n = nth - first`. "
   ]
  },
  {
   "cell_type": "markdown",
   "metadata": {
    "slideshow": {
     "slide_type": "subslide"
    }
   },
   "source": [
    "La fonction met le $n^{ieme}$ élément à sa place, \n",
    "\n",
    "mais a aussi pour effet de partitionner `[first,last[` autour de sa valeur. \n",
    "* `[first,nth[` ne contient que des éléments ≤ `*nth`\n",
    "* `[nth,last[` ne contient que des éléments ≥ `*nth`"
   ]
  },
  {
   "cell_type": "markdown",
   "metadata": {
    "slideshow": {
     "slide_type": "fragment"
    }
   },
   "source": [
    "Il existe évidemment aussi une version avec fonction de comparaison générique. "
   ]
  },
  {
   "cell_type": "code",
   "execution_count": 25,
   "metadata": {
    "slideshow": {
     "slide_type": "-"
    }
   },
   "outputs": [],
   "source": [
    "template <class RandomAccessIterator, class Compare>\n",
    "void nth_element (RandomAccessIterator first, \n",
    "                  RandomAccessIterator nth,\n",
    "                  RandomAccessIterator last, \n",
    "                  Compare comp);"
   ]
  },
  {
   "cell_type": "markdown",
   "metadata": {
    "slideshow": {
     "slide_type": "subslide"
    }
   },
   "source": [
    "Trouvons le $4^{ieme}$ élément (d'indice 3) du tableau v4 et partitionnons le autour de cette valeur"
   ]
  },
  {
   "cell_type": "code",
   "execution_count": 26,
   "metadata": {
    "slideshow": {
     "slide_type": "-"
    }
   },
   "outputs": [
    {
     "data": {
      "text/plain": [
       "{ 3, 1, 2, 4, 6, 5, 7, 8 }"
      ]
     },
     "execution_count": 26,
     "metadata": {},
     "output_type": "execute_result"
    }
   ],
   "source": [
    "std::vector<int> v4{ 3,5,2,6,8,1,7,4};\n",
    "std::nth_element(v4.begin(), v4.begin()+3, v4.end());\n",
    "v4"
   ]
  },
  {
   "cell_type": "markdown",
   "metadata": {
    "slideshow": {
     "slide_type": "subslide"
    }
   },
   "source": [
    "### Propriétés\n",
    "\n",
    "La STL garantit une complexité **moyenne** linéraire $\\Theta(n)$ pour `n = last - first`.\n",
    "\n",
    "Cela correspond à la complexité de l'algorithme de sélection rapide. "
   ]
  },
  {
   "cell_type": "markdown",
   "metadata": {
    "slideshow": {
     "slide_type": "slide"
    }
   },
   "source": [
    "## Tri partiel en C++\n",
    "\n",
    "Il est également possible de ne trier qu'une partie d'un tableau avec la fonction [`partial_sort`](http://www.cplusplus.com/reference/algorithm/partial_sort/) de la librairie `<algorithm>`. Le prototype en est "
   ]
  },
  {
   "cell_type": "code",
   "execution_count": 27,
   "metadata": {
    "slideshow": {
     "slide_type": "-"
    }
   },
   "outputs": [],
   "source": [
    "template <class RandomAccessIterator>\n",
    "void partial_sort (RandomAccessIterator first,\n",
    "                   RandomAccessIterator middle,\n",
    "                   RandomAccessIterator last );"
   ]
  },
  {
   "cell_type": "markdown",
   "metadata": {
    "slideshow": {
     "slide_type": "fragment"
    }
   },
   "source": [
    "* `[first,last[` est l'intervalle des valeurs à trier. \n",
    "\n",
    "* `middle` doit être dans cet intervalle. \n"
   ]
  },
  {
   "cell_type": "markdown",
   "metadata": {
    "slideshow": {
     "slide_type": "subslide"
    }
   },
   "source": [
    "En sortie, l'intervalle `[first,middle[` \n",
    "* contient les `middle-first` plus petites valeurs \n",
    "* est trié \n",
    "\n",
    "l'intervalle `[middle,last[` \n",
    "* ne contient que des valeurs plus grandes\n",
    "* dans un ordre quelconque. "
   ]
  },
  {
   "cell_type": "markdown",
   "metadata": {
    "slideshow": {
     "slide_type": "fragment"
    }
   },
   "source": [
    "La fonction de tri peut également être générique"
   ]
  },
  {
   "cell_type": "code",
   "execution_count": 28,
   "metadata": {
    "slideshow": {
     "slide_type": "-"
    }
   },
   "outputs": [],
   "source": [
    "template <class RandomAccessIterator, class Compare>\n",
    "void partial_sort (RandomAccessIterator first, \n",
    "                   RandomAccessIterator middle,\n",
    "                   RandomAccessIterator last,\n",
    "                   Compare comp );"
   ]
  },
  {
   "cell_type": "markdown",
   "metadata": {
    "slideshow": {
     "slide_type": "subslide"
    }
   },
   "source": [
    "Trions les 4 plus petits éléments du tableau v5."
   ]
  },
  {
   "cell_type": "code",
   "execution_count": 29,
   "metadata": {
    "slideshow": {
     "slide_type": "-"
    }
   },
   "outputs": [
    {
     "data": {
      "text/plain": [
       "{ 1, 2, 3, 4, 7, 6, 8, 5 }"
      ]
     },
     "execution_count": 29,
     "metadata": {},
     "output_type": "execute_result"
    }
   ],
   "source": [
    "std::vector<int> v5{ 4,3,6,2,7,1,8,5};\n",
    "std::partial_sort(v5.begin(), v5.begin()+4, v5.end());\n",
    "v5"
   ]
  },
  {
   "cell_type": "markdown",
   "metadata": {
    "slideshow": {
     "slide_type": "fragment"
    }
   },
   "source": [
    "Trions les 3 éléments du tableau v6 de plus grande valeur absolue."
   ]
  },
  {
   "cell_type": "code",
   "execution_count": 30,
   "metadata": {
    "slideshow": {
     "slide_type": "-"
    }
   },
   "outputs": [],
   "source": [
    "bool plus_grande_valeur_absolue(double a, double b) {\n",
    "    return abs(a) > abs(b);\n",
    "}   "
   ]
  },
  {
   "cell_type": "code",
   "execution_count": 31,
   "metadata": {
    "slideshow": {
     "slide_type": "fragment"
    }
   },
   "outputs": [
    {
     "data": {
      "text/plain": [
       "{ 8, -7, -6, 2, -3, -1, 4, 5 }"
      ]
     },
     "execution_count": 31,
     "metadata": {},
     "output_type": "execute_result"
    }
   ],
   "source": [
    "std::vector<double> v6{ 4, -3, -6, 2, -7, -1, 8, 5};\n",
    "std::partial_sort(v6.begin(), v6.begin()+3, v6.end(), plus_grande_valeur_absolue);\n",
    "v6"
   ]
  },
  {
   "cell_type": "markdown",
   "metadata": {
    "slideshow": {
     "slide_type": "subslide"
    }
   },
   "source": [
    "### Propriétés\n",
    "\n",
    "La librairie standard garantit une complexité $\\Theta(n\\log m)$ avec\n",
    "* `n = last - first` \n",
    "* `m = middle - first`. "
   ]
  },
  {
   "cell_type": "markdown",
   "metadata": {
    "slideshow": {
     "slide_type": "subslide"
    }
   },
   "source": [
    "Il existe plusieurs possibilités pour mettre en oeuvre ce tri partiel. \n",
    "\n",
    "* La complexité garantie suggère \n",
    "  * l'utilisation d'un tas de $m$ éléments \n",
    "  * dans lequel on insère les autres $n-m$ éléments\n",
    "  * en supprimant le maximum entre chaque insertion. "
   ]
  },
  {
   "cell_type": "markdown",
   "metadata": {
    "slideshow": {
     "slide_type": "fragment"
    }
   },
   "source": [
    "* Une approche alternative consiste à \n",
    "  * utiliser la sélection rapide pour trouver le $m^{ieme}$ élément\n",
    "  * ce qui paritionne aussi le tableau de sorte que les $m$ plus petits sont à gauche\n",
    "  * utiliser le tri rapide sur ces $m$ plus petits éléments\n",
    "\n",
    "Cette approche alternative a une complexité $\\Theta(n + m \\log m)$ en moyenne, ce qui est meilleur en moyenne, mais éventuellement moins bon dans le pire des cas."
   ]
  },
  {
   "cell_type": "markdown",
   "metadata": {
    "slideshow": {
     "slide_type": "slide"
    }
   },
   "source": [
    "<table style=\"width: 100%; border: 0px\">\n",
    "<tr style=\"background-color:white; border:0px\">\n",
    "<td style=\"width: 120px; border: 0px\">\n",
    "    <img src=\"https://heig-vd.ch/ResourcePackages/WhiteFox/assets/images/logo-heig-vd.svg\" height=200px align=left >\n",
    "    </td>\n",
    "    <td style=\"vertical-align: middle; border: 0px\" height=200px>\n",
    "    <p style=\"text-align: left\">\n",
    "        <a href=\"https://ocuisenaire.github.io/ASD1-notebooks/\">ASD1 Notebooks on GitHub.io</a>\n",
    " </p>        \n",
    "<p style=\"text-align: left\">\n",
    "© Olivier Cuisenaire, 2018 </p>\n",
    "</td>\n",
    "</tr>\n",
    "</table>"
   ]
  },
  {
   "cell_type": "raw",
   "metadata": {},
   "source": [
    "<style type=\"text/css\">\n",
    ".reveal {\n",
    "font-size: 200%;\n",
    "}</style>"
   ]
  }
 ],
 "metadata": {
  "celltoolbar": "Slideshow",
  "kernelspec": {
   "display_name": "C++14",
   "language": "C++14",
   "name": "xeus-cling-cpp14"
  },
  "language_info": {
   "codemirror_mode": "text/x-c++src",
   "file_extension": ".cpp",
   "mimetype": "text/x-c++src",
   "name": "c++",
   "version": "-std=c++14"
  }
 },
 "nbformat": 4,
 "nbformat_minor": 2
}
