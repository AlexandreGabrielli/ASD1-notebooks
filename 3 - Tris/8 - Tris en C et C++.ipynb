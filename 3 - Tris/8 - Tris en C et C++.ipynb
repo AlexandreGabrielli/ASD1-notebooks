{
 "cells": [
  {
   "cell_type": "markdown",
   "metadata": {
    "slideshow": {
     "slide_type": "slide"
    }
   },
   "source": [
    "# Tris en C et C++"
   ]
  },
  {
   "cell_type": "markdown",
   "metadata": {
    "slideshow": {
     "slide_type": "slide"
    }
   },
   "source": [
    "Tous les langages de programmation fournissent des algorithmes de tri standard. Il est important d'en comprendre les propriétés."
   ]
  },
  {
   "cell_type": "markdown",
   "metadata": {
    "slideshow": {
     "slide_type": "slide"
    }
   },
   "source": [
    "## Langage C\n",
    "\n",
    "En C, la librairie `\"stdlib.h\"` fournit la fonction `qsort`, dont le prototype est  \n",
    "\n",
    "`void qsort (void* base, \n",
    "             size_t num, \n",
    "             size_t size, \n",
    "             int (*compare)(const void*,const void*));`\n"
   ]
  },
  {
   "cell_type": "markdown",
   "metadata": {
    "slideshow": {
     "slide_type": "fragment"
    }
   },
   "source": [
    "* `void *base`: adresse du premier élément du tableau à trier. \n",
    "\n",
    "\n",
    "* `size_t num`: nombre d'éléments à trier \n",
    "\n",
    "\n",
    "* `size_t size` taille d'un élément du tableau \n",
    "\n",
    "\n",
    "* `int (*compare) (void const *a, void const *b`: adresse de la fonction de comparaison, fournie par l'utilisateur.\n"
   ]
  },
  {
   "cell_type": "markdown",
   "metadata": {
    "slideshow": {
     "slide_type": "subslide"
    }
   },
   "source": [
    "Ecrivons un fonction comparant deux entiers, de prototype \n",
    "\n",
    "`int compare (const void * a, const void * b);`\n",
    "\n",
    "Elle doit \n",
    "\n",
    "* caster les pointeurs `void*` en pointeurs `int*`\n",
    "\n",
    "* comparer les deux valeurs entières\n",
    "\n",
    "* retourner un entier \n",
    "   * `<0` si `*a` est plus petit que `*b`\n",
    "   * `>0` si `*b` est plus petit que `*a`\n",
    "   * `0` s'ils sont égaux selon le critère choisi"
   ]
  },
  {
   "cell_type": "code",
   "execution_count": 1,
   "metadata": {
    "slideshow": {
     "slide_type": "fragment"
    }
   },
   "outputs": [],
   "source": [
    "int compare (const void * a, const void * b)\n",
    "{\n",
    "  return ( *(const int*)a - *(const int*)b );\n",
    "}"
   ]
  },
  {
   "cell_type": "markdown",
   "metadata": {
    "slideshow": {
     "slide_type": "subslide"
    }
   },
   "source": [
    "Soit le tableau d'entiers "
   ]
  },
  {
   "cell_type": "code",
   "execution_count": 2,
   "metadata": {
    "slideshow": {
     "slide_type": "fragment"
    }
   },
   "outputs": [],
   "source": [
    "int values[] = { 40, 10, 100, 90, 20, 25 };\n",
    "int N = sizeof(values)/sizeof(int);"
   ]
  },
  {
   "cell_type": "markdown",
   "metadata": {
    "slideshow": {
     "slide_type": "fragment"
    }
   },
   "source": [
    "Pour le trier entièrement, il suffit d'écrire"
   ]
  },
  {
   "cell_type": "code",
   "execution_count": 3,
   "metadata": {
    "slideshow": {
     "slide_type": "fragment"
    }
   },
   "outputs": [],
   "source": [
    "#include \"stdlib.h\"\n",
    "qsort (values, N, sizeof(int), compare);"
   ]
  },
  {
   "cell_type": "markdown",
   "metadata": {
    "slideshow": {
     "slide_type": "fragment"
    }
   },
   "source": [
    "Ce qui donne le tableau trié suivant"
   ]
  },
  {
   "cell_type": "code",
   "execution_count": 4,
   "metadata": {
    "slideshow": {
     "slide_type": "fragment"
    }
   },
   "outputs": [
    {
     "data": {
      "text/plain": [
       "{ 10, 20, 25, 40, 90, 100 }"
      ]
     },
     "execution_count": 4,
     "metadata": {},
     "output_type": "execute_result"
    }
   ],
   "source": [
    "values"
   ]
  },
  {
   "cell_type": "markdown",
   "metadata": {
    "slideshow": {
     "slide_type": "subslide"
    }
   },
   "source": [
    "### Propriétés\n",
    "\n",
    "Le langage C ne fournit pas de garantie sur la complexité de `qsort`, mais en pratique\n",
    "\n",
    "* `qsort` est le diminutif de Quick Sort, l'algorithme de tri rapide\n",
    "\n",
    "\n",
    "* Le tri a donc une complexité moyenne $\\Theta(n \\log n)$ \n",
    "\n",
    "\n",
    "* Il peut avoir une complexité quadratique $\\Theta(n^2)$ dans le pire des cas\n",
    "\n",
    "\n",
    "* Il n'est pas stable"
   ]
  },
  {
   "cell_type": "markdown",
   "metadata": {
    "slideshow": {
     "slide_type": "slide"
    }
   },
   "source": [
    "## Tri rapide en C++\n",
    "\n",
    "En C++, la librairie `<algorithm>` fournit la fonction `std::sort`, dont les prototypes sont \n",
    "\n",
    "`template <class RandomAccessIterator>\n",
    " void sort (RandomAccessIterator first, RandomAccessIterator last);`\n",
    " \n",
    "et \n",
    "\n",
    "`template <class RandomAccessIterator, class Compare>\n",
    "void sort (RandomAccessIterator first, \n",
    "           RandomAccessIterator last, \n",
    "           Compare comp)``"
   ]
  },
  {
   "cell_type": "markdown",
   "metadata": {
    "slideshow": {
     "slide_type": "fragment"
    }
   },
   "source": [
    "* `first`: itérateur vers le premier élément à trier\n",
    "\n",
    "\n",
    "* `last`: itérateur vers l'élément qui suit le dernier à trier. Ensemble, ils définissent une séquence `[first,last[`. \n",
    "\n",
    "\n",
    "* `comp`: fonction de comparaison. Prend deux éléments en paramètres et retourne un `bool` qui vaut vrai si le premier est plus petit que le second. Si elle n'est pas spécifiée, le tri utilise l'opérateur `<` du type trié"
   ]
  },
  {
   "cell_type": "markdown",
   "metadata": {
    "slideshow": {
     "slide_type": "subslide"
    }
   },
   "source": [
    "Soit le vecteur suivant "
   ]
  },
  {
   "cell_type": "code",
   "execution_count": 5,
   "metadata": {
    "slideshow": {
     "slide_type": "fragment"
    }
   },
   "outputs": [],
   "source": [
    "#include <vector>\n",
    "std::vector<int> v{ 32,71,12,45,26,80,53,33 };"
   ]
  },
  {
   "cell_type": "markdown",
   "metadata": {
    "slideshow": {
     "slide_type": "fragment"
    }
   },
   "source": [
    "On peut en trier les 4 premiers éléments via "
   ]
  },
  {
   "cell_type": "code",
   "execution_count": 6,
   "metadata": {
    "slideshow": {
     "slide_type": "fragment"
    }
   },
   "outputs": [],
   "source": [
    "#include <algorithm>\n",
    "std::sort( v.begin(), v.begin()  + 4 );"
   ]
  },
  {
   "cell_type": "markdown",
   "metadata": {
    "slideshow": {
     "slide_type": "fragment"
    }
   },
   "source": [
    "ce qui donne"
   ]
  },
  {
   "cell_type": "code",
   "execution_count": 7,
   "metadata": {
    "slideshow": {
     "slide_type": "fragment"
    }
   },
   "outputs": [
    {
     "data": {
      "text/plain": [
       "{ 12, 32, 45, 71, 26, 80, 53, 33 }"
      ]
     },
     "execution_count": 7,
     "metadata": {},
     "output_type": "execute_result"
    }
   ],
   "source": [
    "v"
   ]
  },
  {
   "cell_type": "markdown",
   "metadata": {
    "slideshow": {
     "slide_type": "fragment"
    }
   },
   "source": [
    "Pour tout trier, il suffit évidemment d'écrire"
   ]
  },
  {
   "cell_type": "code",
   "execution_count": 8,
   "metadata": {
    "slideshow": {
     "slide_type": "fragment"
    }
   },
   "outputs": [
    {
     "data": {
      "text/plain": [
       "{ 12, 26, 32, 33, 45, 53, 71, 80 }"
      ]
     },
     "execution_count": 8,
     "metadata": {},
     "output_type": "execute_result"
    }
   ],
   "source": [
    "std::sort( v.begin(), v.end() );\n",
    "v"
   ]
  },
  {
   "cell_type": "markdown",
   "metadata": {
    "slideshow": {
     "slide_type": "subslide"
    }
   },
   "source": [
    "La version avec comparaison générique peut prendre en paramètre une fonction"
   ]
  },
  {
   "cell_type": "code",
   "execution_count": 9,
   "metadata": {
    "slideshow": {
     "slide_type": "fragment"
    }
   },
   "outputs": [],
   "source": [
    "bool comp_fn (int i,int j) { return (i>j); }"
   ]
  },
  {
   "cell_type": "code",
   "execution_count": 10,
   "metadata": {
    "slideshow": {
     "slide_type": "fragment"
    }
   },
   "outputs": [
    {
     "data": {
      "text/plain": [
       "{ 80, 71, 53, 45, 33, 32, 26, 12 }"
      ]
     },
     "execution_count": 10,
     "metadata": {},
     "output_type": "execute_result"
    }
   ],
   "source": [
    "std::sort( v.begin(), v.end(), comp_fn);\n",
    "v"
   ]
  },
  {
   "cell_type": "markdown",
   "metadata": {
    "slideshow": {
     "slide_type": "fragment"
    }
   },
   "source": [
    "un foncteur "
   ]
  },
  {
   "cell_type": "code",
   "execution_count": 11,
   "metadata": {
    "slideshow": {
     "slide_type": "fragment"
    }
   },
   "outputs": [],
   "source": [
    "struct comp_functor {\n",
    "    bool operator() (int i,int j) { return (i%2 < j%2 );}\n",
    "};"
   ]
  },
  {
   "cell_type": "code",
   "execution_count": 12,
   "metadata": {
    "slideshow": {
     "slide_type": "fragment"
    }
   },
   "outputs": [
    {
     "data": {
      "text/plain": [
       "{ 80, 32, 26, 12, 71, 53, 45, 33 }"
      ]
     },
     "execution_count": 12,
     "metadata": {},
     "output_type": "execute_result"
    }
   ],
   "source": [
    "comp_functor my_functor;\n",
    "std::sort( v.begin(), v.end(), my_functor );\n",
    "v"
   ]
  },
  {
   "cell_type": "markdown",
   "metadata": {
    "slideshow": {
     "slide_type": "fragment"
    }
   },
   "source": [
    "ou une fonction lambda"
   ]
  },
  {
   "cell_type": "code",
   "execution_count": 13,
   "metadata": {
    "slideshow": {
     "slide_type": "fragment"
    }
   },
   "outputs": [
    {
     "data": {
      "text/plain": [
       "{ 80, 71, 32, 12, 53, 33, 45, 26 }"
      ]
     },
     "execution_count": 13,
     "metadata": {},
     "output_type": "execute_result"
    }
   ],
   "source": [
    "std::sort( v.begin(), v.end(), \n",
    "          [](int i, int j) { return i%10 < j%10; } );\n",
    "v"
   ]
  },
  {
   "cell_type": "markdown",
   "metadata": {
    "slideshow": {
     "slide_type": "subslide"
    }
   },
   "source": [
    "### Propriétés\n",
    "\n",
    "La librairie standard garantit une **complexité moyenne** linéarithmique $\\Theta(n \\log n)$. \n",
    "\n",
    "En pratique, `std::sort` est toujours une variation de l'algorithme de **tri rapide**, éventuellement avec un tri par insertion pour les partitions les plus petites.\n",
    "\n",
    "Donc, \n",
    "\n",
    "* il n'est pas stable\n",
    "\n",
    "* c'est le plus rapide des tris proposés par la STL\n",
    "\n",
    "* on ne peut exclure une complexité quadratique dans le pire des cas\n",
    "\n"
   ]
  },
  {
   "cell_type": "markdown",
   "metadata": {
    "slideshow": {
     "slide_type": "slide"
    }
   },
   "source": [
    "[ASD1 Notebooks on GitHub.io](https://ocuisenaire.github.io/ASD1-notebooks/)\n",
    "\n",
    "© Olivier Cuisenaire, 2018"
   ]
  },
  {
   "cell_type": "code",
   "execution_count": null,
   "metadata": {},
   "outputs": [],
   "source": []
  }
 ],
 "metadata": {
  "celltoolbar": "Slideshow",
  "kernelspec": {
   "display_name": "C++14",
   "language": "C++14",
   "name": "xeus-cling-cpp14"
  },
  "language_info": {
   "codemirror_mode": "text/x-c++src",
   "file_extension": ".cpp",
   "mimetype": "text/x-c++src",
   "name": "c++",
   "version": "-std=c++14"
  }
 },
 "nbformat": 4,
 "nbformat_minor": 2
}
