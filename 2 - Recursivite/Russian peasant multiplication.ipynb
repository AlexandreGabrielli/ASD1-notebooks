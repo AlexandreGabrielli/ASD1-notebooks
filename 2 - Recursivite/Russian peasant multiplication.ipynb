{
 "cells": [
  {
   "cell_type": "markdown",
   "metadata": {},
   "source": [
    "# Multiplication russe\n",
    "\n",
    "[Ancient Egyptian Multiplication](https://en.wikipedia.org/wiki/Ancient_Egyptian_multiplication)"
   ]
  },
  {
   "cell_type": "code",
   "execution_count": 25,
   "metadata": {},
   "outputs": [],
   "source": [
    "def russian(a,b):\n",
    "    print(a,b)\n",
    "    if b == 0: return 0\n",
    "    elif b == 1: return a\n",
    "    else:\n",
    "        return a + russian(a+a,b//2) if b%2 == 1 else russian(a+a,b//2) "
   ]
  },
  {
   "cell_type": "code",
   "execution_count": 26,
   "metadata": {},
   "outputs": [
    {
     "name": "stdout",
     "output_type": "stream",
     "text": [
      "743 * 247 = 183521\n",
      "743 247\n",
      "1486 123\n",
      "2972 61\n",
      "5944 30\n",
      "11888 15\n",
      "23776 7\n",
      "47552 3\n",
      "95104 1\n"
     ]
    },
    {
     "data": {
      "text/plain": [
       "183521"
      ]
     },
     "execution_count": 26,
     "metadata": {},
     "output_type": "execute_result"
    }
   ],
   "source": [
    "a = 743\n",
    "b = 247\n",
    "print(\"{} * {} = {}\".format(a,b,a*b))\n",
    "russian(a,b) "
   ]
  },
  {
   "cell_type": "code",
   "execution_count": 27,
   "metadata": {},
   "outputs": [],
   "source": [
    "def russian(a,b):\n",
    "    print(a,b)\n",
    "    if b == 0: return 0\n",
    "    elif b == 1: return a\n",
    "    else:\n",
    "        return a + russian(a+a,b >> 1) if b & 1 else russian(a+a,b >> 1) "
   ]
  },
  {
   "cell_type": "code",
   "execution_count": 28,
   "metadata": {},
   "outputs": [
    {
     "name": "stdout",
     "output_type": "stream",
     "text": [
      "743 * 247 = 183521\n",
      "743 247\n",
      "1486 123\n",
      "2972 61\n",
      "5944 30\n",
      "11888 15\n",
      "23776 7\n",
      "47552 3\n",
      "95104 1\n"
     ]
    },
    {
     "data": {
      "text/plain": [
       "183521"
      ]
     },
     "execution_count": 28,
     "metadata": {},
     "output_type": "execute_result"
    }
   ],
   "source": [
    "a = 743\n",
    "b = 247\n",
    "print(\"{} * {} = {}\".format(a,b,a*b))\n",
    "russian(a,b) "
   ]
  },
  {
   "cell_type": "code",
   "execution_count": 50,
   "metadata": {},
   "outputs": [],
   "source": [
    "def russian(a,b):\n",
    "    if b == 0: return 0\n",
    "    elif a<b: a,b = b,a\n",
    "        \n",
    "    r = 0 \n",
    "    while b > 0:\n",
    "        if b&1: r += a\n",
    "        a += a\n",
    "        b >>= 1\n",
    "    return r"
   ]
  },
  {
   "cell_type": "code",
   "execution_count": 51,
   "metadata": {},
   "outputs": [
    {
     "name": "stdout",
     "output_type": "stream",
     "text": [
      "743 * 247 = 183521\n",
      "183521\n"
     ]
    }
   ],
   "source": [
    "a = 743\n",
    "b = 247\n",
    "print(\"{} * {} = {}\".format(a,b,a*b))\n",
    "print(russian(a,b)) "
   ]
  },
  {
   "cell_type": "code",
   "execution_count": 32,
   "metadata": {},
   "outputs": [
    {
     "data": {
      "text/plain": [
       "array([[1, 0],\n",
       "       [2, 1]])"
      ]
     },
     "execution_count": 32,
     "metadata": {},
     "output_type": "execute_result"
    }
   ],
   "source": [
    "import numpy as np\n",
    "\n",
    "a = [[1, 0], [1, 1]] \n",
    "np.matmul(a,a)"
   ]
  },
  {
   "cell_type": "code",
   "execution_count": 107,
   "metadata": {},
   "outputs": [],
   "source": [
    "def fibonacci(n): \n",
    "    a = np.array([[0, 1], [1, 1]]) \n",
    "    r = np.array([[1, 0], [0, 1]])\n",
    "    while n > 0:\n",
    "        if n&1: r = np.matmul(r,a)\n",
    "        a = np.matmul(a,a)\n",
    "        n >>= 1\n",
    "    return r[1,1]"
   ]
  },
  {
   "cell_type": "code",
   "execution_count": 108,
   "metadata": {},
   "outputs": [
    {
     "name": "stdout",
     "output_type": "stream",
     "text": [
      "1\n",
      "1\n",
      "2\n",
      "3\n",
      "5\n",
      "8\n",
      "13\n",
      "21\n",
      "34\n",
      "55\n"
     ]
    }
   ],
   "source": [
    "for i in range(10):\n",
    "    print(fibonacci(i))"
   ]
  },
  {
   "cell_type": "code",
   "execution_count": null,
   "metadata": {},
   "outputs": [],
   "source": []
  },
  {
   "cell_type": "code",
   "execution_count": null,
   "metadata": {},
   "outputs": [],
   "source": []
  }
 ],
 "metadata": {
  "kernelspec": {
   "display_name": "Python 3",
   "language": "python",
   "name": "python3"
  },
  "language_info": {
   "codemirror_mode": {
    "name": "ipython",
    "version": 3
   },
   "file_extension": ".py",
   "mimetype": "text/x-python",
   "name": "python",
   "nbconvert_exporter": "python",
   "pygments_lexer": "ipython3",
   "version": "3.6.5"
  }
 },
 "nbformat": 4,
 "nbformat_minor": 2
}
