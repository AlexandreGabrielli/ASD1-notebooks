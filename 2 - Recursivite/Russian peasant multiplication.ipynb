{
 "cells": [
  {
   "cell_type": "markdown",
   "metadata": {
    "slideshow": {
     "slide_type": "slide"
    }
   },
   "source": [
    "# Multiplication russe / d'Egypte antique\n",
    "\n",
    "[Ancient Egyptian Multiplication](https://en.wikipedia.org/wiki/Ancient_Egyptian_multiplication)\n",
    "\n",
    "[![Papyrus Rhind](include/Rhind_Papyrus.jpg)](https://fr.wikipedia.org/wiki/Papyrus_Rhind)"
   ]
  },
  {
   "cell_type": "markdown",
   "metadata": {
    "slideshow": {
     "slide_type": "slide"
    }
   },
   "source": [
    "## Principe\n",
    "\n",
    "Dans le papyrus Rhind, le scribe Ahmès liste 87 problèmes résolus d'arithmétique, certains depuis 2000 ans avant notre ère. \n",
    "\n",
    "Parmi eux, une technique de multiplication qui n'a besoin que de  \n",
    "\n",
    "* multiplication par deux\n",
    "* addition \n",
    "\n",
    "Elle consiste à \n",
    "\n",
    "* décomposer un nombre en une somme de puissances de 2\n",
    "* générer une table de puissances de 2 de l'autre nombre\n",
    "* additionner les nombres de cette table qui font partie de la décomposition du premier nombre\n",
    "\n",
    "La *méthode du paysan russe* améliore cette approche en calculant la décomposition en ligne plutôt qu'en utilisant une table de puissance"
   ]
  },
  {
   "cell_type": "markdown",
   "metadata": {
    "slideshow": {
     "slide_type": "subslide"
    }
   },
   "source": [
    "On veut calculer le produit $a \\cdot b$.\n",
    "\n",
    "Soit la décomposition binaire de $b = \\sum d_k 2^k $ avec $d_k=0$ ou $1$. \n",
    "\n",
    "Par exemple, $42 = 2 + 8 + 32 = 0 \\cdot 2^0 + 1 \\cdot 2^1 + 0 \\cdot 2^2 + 1 \\cdot 2^3 + 0 \\cdot 2^4 + 1 \\cdot 2^5$"
   ]
  },
  {
   "cell_type": "markdown",
   "metadata": {
    "slideshow": {
     "slide_type": "fragment"
    }
   },
   "source": [
    "Le produit devient \n",
    "\n",
    "$\\begin{aligned}\n",
    "a \\cdot b & = \\sum a \\cdot d_k \\cdot 2^k \\\\\n",
    "& = \\sum d_k \\cdot a_k \\text{ , avec  } a_k = a \\cdot 2^k \\end{aligned}$ "
   ]
  },
  {
   "cell_type": "markdown",
   "metadata": {
    "slideshow": {
     "slide_type": "fragment"
    }
   },
   "source": [
    "Les suites $a_k$ et $d_k$ se calculent aisément récursivement:\n",
    "\n",
    "* $\\left\\{ \\begin{aligned}  a_0 & = a \\\\\n",
    "a_k & = 2 \\cdot a_{k-1}\n",
    "   \\end{aligned} \\right. $\n",
    "\n",
    "\n",
    "* $\\left\\{ \\begin{aligned} b_0 & = b \\\\\n",
    "b_k & =  b_{k-1}\\ \\mathbf{div}\\ 2\n",
    "    \\end{aligned} \\right.$\n",
    "    \n",
    "\n",
    "* $d_k = b_k\\ \\mathbf{mod}\\ 2$"
   ]
  },
  {
   "cell_type": "markdown",
   "metadata": {
    "slideshow": {
     "slide_type": "slide"
    }
   },
   "source": [
    "## Mise en oeuvre\n",
    "\n",
    "Les relations récursives nous donnent le cas général. Le cas trivial est simplement $a \\cdot b = 0 \\ \\mathbf{si}\\ b = 0$. On en déduit le code"
   ]
  },
  {
   "cell_type": "code",
   "execution_count": 1,
   "metadata": {
    "slideshow": {
     "slide_type": "-"
    }
   },
   "outputs": [],
   "source": [
    "def multiplication_russe(a,b):\n",
    "    if b == 0: return 0\n",
    "    else:\n",
    "        if b % 2 :\n",
    "            return a + multiplication_russe(a+a,b//2)  \n",
    "        else: \n",
    "            return multiplication_russe(a+a,b//2)  "
   ]
  },
  {
   "cell_type": "code",
   "execution_count": 2,
   "metadata": {
    "slideshow": {
     "slide_type": "skip"
    }
   },
   "outputs": [],
   "source": [
    "# en affichant l'évolution des variables\n",
    "tab = \"{:<8}|{:<8}\"\n",
    "\n",
    "def multiplication_russe_rec(a,b):\n",
    "    print(tab.format(a,b))\n",
    "    if b == 0: return 0\n",
    "    else:\n",
    "        if b % 2 :\n",
    "            return a + multiplication_russe_rec(a+a,b//2)  \n",
    "        else: \n",
    "            return multiplication_russe_rec(a+a,b//2)  \n",
    "        \n",
    "def multiplication_russe(a,b):\n",
    "    print(tab.format(\"  a\",\"  b\"))\n",
    "    print(tab.format(\"-\"*8,\"-\"*8))\n",
    "    return multiplication_russe_rec(a,b)"
   ]
  },
  {
   "cell_type": "code",
   "execution_count": 3,
   "metadata": {
    "slideshow": {
     "slide_type": "fragment"
    }
   },
   "outputs": [
    {
     "name": "stdout",
     "output_type": "stream",
     "text": [
      "743 * 42 = 31206 \n",
      "\n",
      "  a     |  b     \n",
      "--------|--------\n",
      "743     |42      \n",
      "1486    |21      \n",
      "2972    |10      \n",
      "5944    |5       \n",
      "11888   |2       \n",
      "23776   |1       \n",
      "47552   |0       \n"
     ]
    },
    {
     "data": {
      "text/plain": [
       "31206"
      ]
     },
     "execution_count": 3,
     "metadata": {},
     "output_type": "execute_result"
    }
   ],
   "source": [
    "a = 743\n",
    "b = 42\n",
    "print(\"{} * {} = {} \\n\".format(a,b,a*b))\n",
    "multiplication_russe(a,b)"
   ]
  },
  {
   "cell_type": "markdown",
   "metadata": {
    "slideshow": {
     "slide_type": "subslide"
    }
   },
   "source": [
    "Sur un ordinateur utilisant une représentation binaire des nombres, les shifts et opérations logiques bit à bit permettent de calculer plus efficacement \n",
    "\n",
    "* multiplication par 2: `a * 2 == a << 1`\n",
    "* division entière par 2: `b // 2 == b >> 1`\n",
    "* modulo 2: `b % 2 == b & 1`\n",
    "\n"
   ]
  },
  {
   "cell_type": "code",
   "execution_count": 4,
   "metadata": {
    "slideshow": {
     "slide_type": "fragment"
    }
   },
   "outputs": [],
   "source": [
    "def multiplication_russe(a,b):\n",
    "    if b == 1: return a\n",
    "    else:\n",
    "        if b & 1 : \n",
    "            return a + multiplication_russe(a << 1,b >> 1) \n",
    "        else:\n",
    "            return multiplication_russe(a << 1,b >> 1) "
   ]
  },
  {
   "cell_type": "code",
   "execution_count": 5,
   "metadata": {
    "slideshow": {
     "slide_type": "skip"
    }
   },
   "outputs": [],
   "source": [
    "# en affichant l'évolution des variables\n",
    "\n",
    "tab = \"{:<8}|{:<8}\"\n",
    "\n",
    "def multiplication_russe_rec(a,b):\n",
    "    print(tab.format(a,b))\n",
    "    if b == 1: return a\n",
    "    else:\n",
    "        if b & 1 : \n",
    "            return a + multiplication_russe_rec(a << 1,b >> 1) \n",
    "        else:\n",
    "            return multiplication_russe_rec(a << 1,b >> 1) \n",
    "        \n",
    "def multiplication_russe(a,b):\n",
    "    print(tab.format(\"  a\",\"  b\"))\n",
    "    print(tab.format(\"-\"*8,\"-\"*8))\n",
    "    return multiplication_russe_rec(a,b)"
   ]
  },
  {
   "cell_type": "code",
   "execution_count": 6,
   "metadata": {
    "slideshow": {
     "slide_type": "fragment"
    }
   },
   "outputs": [
    {
     "name": "stdout",
     "output_type": "stream",
     "text": [
      "743 * 42 = 31206 \n",
      "\n",
      "  a     |  b     \n",
      "--------|--------\n",
      "743     |42      \n",
      "1486    |21      \n",
      "2972    |10      \n",
      "5944    |5       \n",
      "11888   |2       \n",
      "23776   |1       \n"
     ]
    },
    {
     "data": {
      "text/plain": [
       "31206"
      ]
     },
     "execution_count": 6,
     "metadata": {},
     "output_type": "execute_result"
    }
   ],
   "source": [
    "a = 743\n",
    "b = 42\n",
    "print(\"{} * {} = {} \\n\".format(a,b,a*b))\n",
    "multiplication_russe(a,b) "
   ]
  },
  {
   "cell_type": "markdown",
   "metadata": {
    "slideshow": {
     "slide_type": "subslide"
    }
   },
   "source": [
    "Cette procédure peut aussi être mise en oeuvre **itérativement**. Pour cela, on ajoute une troisième suite de nombres qui accumulent les éléments à sommer plutôt que d'effectuer la somme en retour de récursion. \n",
    "\n",
    "$\\left\\{ \\begin{aligned} r_0 & = 0 \\\\\n",
    "r_k & =  r_{k-1} + d_{k-1} \\cdot a_{k-1} \\\\\n",
    "& = \\begin{cases} r_{k-1} \\ \\mathbf{, si}\\ d_{k-1} = 0 \\\\\n",
    "r_{k-1} + a_{k-1} \\ \\mathbf{sinon} \\end{cases}\n",
    "    \\end{aligned} \\right.$"
   ]
  },
  {
   "cell_type": "code",
   "execution_count": 7,
   "metadata": {
    "slideshow": {
     "slide_type": "fragment"
    }
   },
   "outputs": [],
   "source": [
    "def multiplication_russe(a,b):\n",
    "    if b == 0: return 0\n",
    "    r = 0 \n",
    "    while b > 0:\n",
    "        if b&1: r += a\n",
    "        a <<= 1\n",
    "        b >>= 1\n",
    "    return r"
   ]
  },
  {
   "cell_type": "code",
   "execution_count": 8,
   "metadata": {
    "slideshow": {
     "slide_type": "skip"
    }
   },
   "outputs": [],
   "source": [
    "# en affichant l'évolution des variables\n",
    "tab = \"{:<8}|{:<8}|{:<8}\"\n",
    "\n",
    "def multiplication_russe(a,b):\n",
    "    if b == 0: return 0\n",
    "        \n",
    "    print(tab.format(\"  a\",\"  b\",\"  r\"))\n",
    "    print(tab.format(\"-\"*8,\"-\"*8,\"-\"*8))\n",
    "\n",
    "    r = 0 \n",
    "    while b > 0:\n",
    "        print(tab.format(a,b,r))\n",
    "        if b&1: r += a\n",
    "        a <<= 1\n",
    "        b >>= 1\n",
    "    print(tab.format(a,b,r))\n",
    "    return r"
   ]
  },
  {
   "cell_type": "code",
   "execution_count": 9,
   "metadata": {
    "slideshow": {
     "slide_type": "subslide"
    }
   },
   "outputs": [
    {
     "name": "stdout",
     "output_type": "stream",
     "text": [
      "743 * 42 = 31206 \n",
      "\n",
      "  a     |  b     |  r     \n",
      "--------|--------|--------\n",
      "743     |42      |0       \n",
      "1486    |21      |0       \n",
      "2972    |10      |1486    \n",
      "5944    |5       |1486    \n",
      "11888   |2       |7430    \n",
      "23776   |1       |7430    \n",
      "47552   |0       |31206   \n"
     ]
    },
    {
     "data": {
      "text/plain": [
       "31206"
      ]
     },
     "execution_count": 9,
     "metadata": {},
     "output_type": "execute_result"
    }
   ],
   "source": [
    "a = 743\n",
    "b = 42\n",
    "print(\"{} * {} = {} \\n\".format(a,b,a*b))\n",
    "multiplication_russe(a,b)"
   ]
  },
  {
   "cell_type": "markdown",
   "metadata": {},
   "source": [
    "## Reste de la division entière\n",
    "\n",
    "Cette procédure peut aussi être utilisée pour calculer les **modulos** en un temps logarithmique en n'utilisant que la soustraction et la multiplication par 2. \n",
    "\n",
    "Le cas général de la récursion calcule $u = a\\ \\mathbf{mod}\\ b$ à partir de $v = a\\ \\mathbf{mod}\\ 2 \\cdot b$. On montre aisément que \n",
    "\n",
    "$u = \\begin{cases} v & \\text{ si } 0 \\leq v < b \\\\ \n",
    "v - b & \\text{ si } b \\leq v < 2 \\cdot b \\end{cases}$ \n",
    "\n",
    "ce qui couvre toutes les valeurs possibles de $v$.\n",
    "\n",
    "Le cas trivial utilise quant à lui \n",
    "\n",
    "$u = a - b \\ \\ \\text{   si } b \\leq a < 2 \\cdot b$"
   ]
  },
  {
   "cell_type": "code",
   "execution_count": 10,
   "metadata": {
    "slideshow": {
     "slide_type": "fragment"
    }
   },
   "outputs": [],
   "source": [
    "def reste_division_entiere(a,b):\n",
    "    assert a >= b and b > 0\n",
    "    \n",
    "    if a - b >= b:\n",
    "        a = reste_division_entiere(a,b << 1) # b*2\n",
    "        if a < b: return a\n",
    "    return a-b"
   ]
  },
  {
   "cell_type": "code",
   "execution_count": 11,
   "metadata": {
    "slideshow": {
     "slide_type": "skip"
    }
   },
   "outputs": [],
   "source": [
    "# en affichant l'évolution des variables\n",
    "tab = \"{:<8}|{:<8}\"\n",
    "tab2 = \"{:<8}|{:<8}|{:<8}\"\n",
    "\n",
    "def reste_division_entiere_rec(a,b):\n",
    "    assert a >= b and b > 0\n",
    "    print(tab.format(a,b))\n",
    "    if a - b >= b:\n",
    "        a = reste_division_entiere_rec(a,b<<1)\n",
    "        if a < b:\n",
    "            print(tab2.format(a,b,a))\n",
    "            return a \n",
    "        print(tab2.format(a,b,a-b))\n",
    "        return a-b\n",
    "    print()\n",
    "    print(tab2.format(\"  a\",\"  b\",\" retour \"))\n",
    "    print(tab2.format(\"-\"*8,\"-\"*8,\"-\"*8))\n",
    "    print(tab2.format(a,b,a-b))\n",
    "    return a-b\n",
    "\n",
    "def reste_division_entiere(a,b):\n",
    "    print(tab.format(\"  a\",\"  b\"))\n",
    "    print(tab.format(\"-\"*8,\"-\"*8))\n",
    "    return reste_division_entiere_rec(a,b)"
   ]
  },
  {
   "cell_type": "code",
   "execution_count": 12,
   "metadata": {
    "slideshow": {
     "slide_type": "subslide"
    }
   },
   "outputs": [
    {
     "name": "stdout",
     "output_type": "stream",
     "text": [
      "  a     |  b     \n",
      "--------|--------\n",
      "743     |25      \n",
      "743     |50      \n",
      "743     |100     \n",
      "743     |200     \n",
      "743     |400     \n",
      "\n",
      "  a     |  b     | retour \n",
      "--------|--------|--------\n",
      "743     |400     |343     \n",
      "343     |200     |143     \n",
      "143     |100     |43      \n",
      "43      |50      |43      \n",
      "43      |25      |18      \n"
     ]
    },
    {
     "data": {
      "text/plain": [
       "18"
      ]
     },
     "execution_count": 12,
     "metadata": {},
     "output_type": "execute_result"
    }
   ],
   "source": [
    "reste_division_entiere(743,25)"
   ]
  },
  {
   "cell_type": "markdown",
   "metadata": {
    "slideshow": {
     "slide_type": "slide"
    }
   },
   "source": [
    "## Puissance de n\n",
    "\n",
    "La même technique s'utilise aussi pour calculer $b^n$ pour $n$ entier quelconque. "
   ]
  },
  {
   "cell_type": "code",
   "execution_count": 13,
   "metadata": {
    "slideshow": {
     "slide_type": "-"
    }
   },
   "outputs": [],
   "source": [
    "def puissance(b,n): \n",
    "    r = 1\n",
    "    a = b\n",
    "    while n > 0:\n",
    "        if n&1: r = r * a\n",
    "        a = a * a\n",
    "        n >>= 1\n",
    "    return r"
   ]
  },
  {
   "cell_type": "code",
   "execution_count": 14,
   "metadata": {
    "slideshow": {
     "slide_type": "fragment"
    }
   },
   "outputs": [
    {
     "name": "stdout",
     "output_type": "stream",
     "text": [
      "2^0 = 1\n",
      "2^1 = 2\n",
      "2^2 = 4\n",
      "2^3 = 8\n",
      "2^4 = 16\n",
      "2^5 = 32\n",
      "2^6 = 64\n",
      "2^7 = 128\n",
      "2^8 = 256\n",
      "2^9 = 512\n"
     ]
    }
   ],
   "source": [
    "for i in range(10):\n",
    "    print(\"2^{} = {}\".format(i,puissance(2,i)))"
   ]
  },
  {
   "cell_type": "markdown",
   "metadata": {
    "slideshow": {
     "slide_type": "slide"
    }
   },
   "source": [
    "## Fibonacci en temps logarithmique\n",
    "\n",
    "Notons enfin que cette même procédure peut être utilisée pour calculer un nombre de Fibonacci en un temps logarithmique. Pour cela, on utilise l'algèbre matriciel pour calculer \n",
    "\n",
    "$\\left( \\begin{aligned} & F_{n-1} \\\\ \n",
    "& F_n \\end{aligned} \\right)$ à partir de  $\\left( \\begin{aligned} & F_{n-2} \\\\ \n",
    "& F_{n-1} \\end{aligned} \\right)$\n",
    "\n",
    "On obtient la relation \n",
    "\n",
    "$\\left( \\begin{aligned} & F_{n-1} \\\\ \n",
    "& F_n \\end{aligned} \\right) = \\left( \\begin{aligned} 0 \\ 1 \\\\ 1 \\ 1 \\end{aligned} \\right) \\cdot \\left( \\begin{aligned} & F_{n-2} \\\\ \n",
    "& F_{n-1} \\end{aligned} \\right)$\n",
    "\n",
    "On peut la réécrire \n",
    "\n",
    "$\\begin{aligned} \n",
    "\\left( \\begin{aligned} & F_{n-1} \\\\ \n",
    "& F_n \\end{aligned} \\right) & = \\left( \\begin{aligned} 0 \\ 1 \\\\ 1 \\ 1 \\end{aligned} \\right)^{2} \\cdot \\left( \\begin{aligned} & F_{n-3} \\\\ \n",
    "& F_{n-2} \\end{aligned} \\right) = \\left( \\begin{aligned} 0 \\ 1 \\\\ 1 \\ 1 \\end{aligned} \\right)^{3} \\cdot \\left( \\begin{aligned} & F_{n-4} \\\\ \n",
    "& F_{n-3} \\end{aligned} \\right) = ... \\\\\n",
    " & = \\left( \\begin{aligned} 0 \\ 1 \\\\ 1 \\ 1 \\end{aligned} \\right)^{n-1} \\cdot \\left( \\begin{aligned} & F_{0} \\\\ \n",
    "& F_{1} \\end{aligned} \\right) = \\left( \\begin{aligned} 0 \\ 1 \\\\ 1 \\ 1 \\end{aligned} \\right)^{n-1} \\cdot \\left( \\begin{aligned} & 1 \\\\ \n",
    "& 1 \\end{aligned} \\right) \\end{aligned} $"
   ]
  },
  {
   "cell_type": "markdown",
   "metadata": {
    "slideshow": {
     "slide_type": "subslide"
    }
   },
   "source": [
    "Calculer le $n^{ieme}$ nombre de Fibonacci consiste donc simplement à calculer la $(n-1)^{ieme}$ puissance d'une matrice 2x2, ce que nous venons de voir à une complexité logarithmique. "
   ]
  },
  {
   "cell_type": "code",
   "execution_count": 15,
   "metadata": {
    "slideshow": {
     "slide_type": "-"
    }
   },
   "outputs": [],
   "source": [
    "import numpy as np\n",
    "def fibonacci(n): \n",
    "    a = np.array([[0, 1], [1, 1]]) \n",
    "    r = np.array([[1, 0], [0, 1]])\n",
    "    while n > 0:\n",
    "        if n&1: r = np.matmul(r,a)\n",
    "        a = np.matmul(a,a)\n",
    "        n >>= 1\n",
    "    return r[1,1]"
   ]
  },
  {
   "cell_type": "code",
   "execution_count": 16,
   "metadata": {
    "slideshow": {
     "slide_type": "fragment"
    }
   },
   "outputs": [
    {
     "name": "stdout",
     "output_type": "stream",
     "text": [
      "1\n",
      "1\n",
      "2\n",
      "3\n",
      "5\n",
      "8\n",
      "13\n",
      "21\n",
      "34\n",
      "55\n"
     ]
    }
   ],
   "source": [
    "for i in range(10):\n",
    "    print(fibonacci(i))"
   ]
  },
  {
   "cell_type": "markdown",
   "metadata": {
    "slideshow": {
     "slide_type": "slide"
    }
   },
   "source": [
    "<table style=\"width: 100%; border: 0px\">\n",
    "<tr style=\"background-color:white; border:0px\">\n",
    "<td style=\"width: 120px; border: 0px\">\n",
    "    <img src=\"https://heig-vd.ch/ResourcePackages/WhiteFox/assets/images/logo-heig-vd.svg\" height=200px align=left >\n",
    "    </td>\n",
    "    <td style=\"vertical-align: middle; border: 0px\" height=200px>\n",
    "    <p style=\"text-align: left\">\n",
    "        <a href=\"https://ocuisenaire.github.io/ASD1-notebooks/\">ASD1 Notebooks on GitHub.io</a>\n",
    " </p>        \n",
    "<p style=\"text-align: left\">\n",
    "© Olivier Cuisenaire, 2018 </p>\n",
    "</td>\n",
    "</tr>\n",
    "</table>"
   ]
  },
  {
   "cell_type": "code",
   "execution_count": null,
   "metadata": {},
   "outputs": [],
   "source": []
  }
 ],
 "metadata": {
  "celltoolbar": "Slideshow",
  "kernelspec": {
   "display_name": "Python 3",
   "language": "python",
   "name": "python3"
  },
  "language_info": {
   "codemirror_mode": {
    "name": "ipython",
    "version": 3
   },
   "file_extension": ".py",
   "mimetype": "text/x-python",
   "name": "python",
   "nbconvert_exporter": "python",
   "pygments_lexer": "ipython3",
   "version": "3.6.5"
  }
 },
 "nbformat": 4,
 "nbformat_minor": 2
}
