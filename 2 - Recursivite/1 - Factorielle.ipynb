{
 "cells": [
  {
   "cell_type": "markdown",
   "metadata": {},
   "source": [
    "# La fonction factorielle\n",
    "\n",
    "Elle est définie comme $!n = \\prod_{k=1}^{n}k$. Par convention, on y ajoute que $0! = 1$. Les premières valeurs sont donc <br>\n",
    "$1! = 1$ <br>\n",
    "$2! = 2 \\times 1 = 1$ <br>\n",
    "$3! = 3 \\times 2 \\times 1 = 6$ <br>\n",
    "$4! = 4 \\times 3 \\times 2 \\times 1 = 24$ <br>\n",
    "\n",
    "On note que pour calculer $4!$, il est inutile de refaire $3 \\times 2 \\times 1$ que l'on a déjà calculé pour $3!$. Il est plus simple d'écrire $4! = 4 \\times 3!$. De manière générale, on a <br>\n",
    "\n",
    "$n! = n \\times (n-1)!$ <br>\n",
    "\n",
    "C'est la base d'un calcul récursif de $n!$"
   ]
  },
  {
   "cell_type": "code",
   "execution_count": null,
   "metadata": {},
   "outputs": [],
   "source": [
    "def factorielle(n):\n",
    "    # décommenter la ligne suivante pour voir la pile d'appels\n",
    "    #print(n)    \n",
    "    \n",
    "    if n <= 1: \n",
    "        return 1\n",
    "    else:\n",
    "        return n * factorielle(n-1)"
   ]
  },
  {
   "cell_type": "code",
   "execution_count": null,
   "metadata": {},
   "outputs": [],
   "source": [
    "factorielle(5)"
   ]
  },
  {
   "cell_type": "code",
   "execution_count": null,
   "metadata": {},
   "outputs": [],
   "source": []
  }
 ],
 "metadata": {
  "kernelspec": {
   "display_name": "Python 3",
   "language": "python",
   "name": "python3"
  },
  "language_info": {
   "codemirror_mode": {
    "name": "ipython",
    "version": 3
   },
   "file_extension": ".py",
   "mimetype": "text/x-python",
   "name": "python",
   "nbconvert_exporter": "python",
   "pygments_lexer": "ipython3",
   "version": "3.6.5"
  }
 },
 "nbformat": 4,
 "nbformat_minor": 2
}
