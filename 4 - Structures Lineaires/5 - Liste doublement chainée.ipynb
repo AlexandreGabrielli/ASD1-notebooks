{
 "cells": [
  {
   "cell_type": "markdown",
   "metadata": {
    "slideshow": {
     "slide_type": "slide"
    }
   },
   "source": [
    "# Liste doublement chainée"
   ]
  },
  {
   "cell_type": "markdown",
   "metadata": {
    "slideshow": {
     "slide_type": "slide"
    }
   },
   "source": [
    "## Principe \n",
    "\n",
    "La liste doublement chainée étend le concept de liste en ajoutant un lien vers l'élément précédent à chaque maillon de la chaine."
   ]
  },
  {
   "cell_type": "code",
   "execution_count": 1,
   "metadata": {},
   "outputs": [],
   "source": [
    "class Maillon:\n",
    "    def __init__(self, v, s = None, p = None):\n",
    "        self.donnee = v\n",
    "        self.suivant = s \n",
    "        self.precedent = p \n",
    "\n",
    "        if s: s.precedent = self \n",
    "        if p: p.suivant = self\n",
    "            \n",
    "    def __str__(self): \n",
    "        return \"{}\".format(self.donnee)"
   ]
  },
  {
   "cell_type": "markdown",
   "metadata": {},
   "source": [
    "Les arguments optionnels `s` et `p` permettent de spécifier à la construction les éléments suivants et précédents. "
   ]
  },
  {
   "cell_type": "code",
   "execution_count": 2,
   "metadata": {
    "slideshow": {
     "slide_type": "skip"
    }
   },
   "outputs": [],
   "source": [
    "# caché dans les slides\n",
    "\n",
    "def __liste_double_str__(L):\n",
    "    if L.empty(): return \"⌀\"\n",
    "    m = L._Liste__tq.suivant\n",
    "    s = \"⌀ ← \"\n",
    "    while m != L._Liste__tq:\n",
    "        s += m.__str__()\n",
    "        s += \" ⇄ \" if m.suivant != L._Liste__tq else \" → ⌀\"\n",
    "        m = m.suivant\n",
    "    return s"
   ]
  },
  {
   "cell_type": "markdown",
   "metadata": {
    "slideshow": {
     "slide_type": "subslide"
    }
   },
   "source": [
    "Comme pour la liste simple, nous écrivons une classe `Liste` qui a pour attributs la tête et la queue de la liste, plus éventuellement la taille. On pourrait l'écrire"
   ]
  },
  {
   "cell_type": "code",
   "execution_count": 3,
   "metadata": {},
   "outputs": [],
   "source": [
    "class Liste:\n",
    "    def __init__(self):\n",
    "        self.tete = None\n",
    "        self.queue = None\n",
    "        self.N = 0"
   ]
  },
  {
   "cell_type": "markdown",
   "metadata": {
    "slideshow": {
     "slide_type": "subslide"
    }
   },
   "source": [
    "Mais comme pour la liste simple, on a avantage à utiliser des maillons vides aux extrémités. Il en suffit d'un que l'on appelle ici `__tq`. Dès lors, \n",
    "\n",
    "* l'élément de tête est `__tq.suivant`\n",
    "* l'élément de queue est `__tq.precedent`\n",
    "\n",
    "Dans une liste vide, `__tq.suivant = __tq.precedent = __tq`. "
   ]
  },
  {
   "cell_type": "code",
   "execution_count": 4,
   "metadata": {},
   "outputs": [],
   "source": [
    "class MaillonVide:\n",
    "    def __init__(self):\n",
    "        self.suivant = self\n",
    "        self.precedent = self\n",
    "        \n",
    "class Liste:\n",
    "    def __init__(self):\n",
    "        self.__tq = MaillonVide()\n",
    "        self.__N = 0\n",
    "        \n",
    "    __str__ = __liste_double_str__"
   ]
  },
  {
   "cell_type": "markdown",
   "metadata": {
    "slideshow": {
     "slide_type": "slide"
    }
   },
   "source": [
    "## Itérateur\n",
    "\n",
    "Avant toute chose, écrivons la classe d'itération."
   ]
  },
  {
   "cell_type": "code",
   "execution_count": 5,
   "metadata": {},
   "outputs": [],
   "source": [
    "class list_iterator:\n",
    "    def __init__(self,maillon): self.__M = maillon\n",
    "        \n",
    "    def suivant(self): return list_iterator(self.__M.suivant)\n",
    "    \n",
    "    def precedent(self): \n",
    "        return list_iterator(self.__M.precedent)\n",
    "    \n",
    "    def __str__(self): return self.__M.__str__()\n",
    "    \n",
    "    def get_val(self): return self.__M.donnee\n",
    "    \n",
    "    def set_val(self,val): self.__M.donnee = val\n",
    "        \n",
    "    def __eq__(self,other):\n",
    "        return isinstance(other,list_iterator) \\\n",
    "               and self.__M == other.__M"
   ]
  },
  {
   "cell_type": "markdown",
   "metadata": {
    "slideshow": {
     "slide_type": "subslide"
    }
   },
   "source": [
    "Et ajoutons les méthodes `begin()` et `end()` à la classe Liste"
   ]
  },
  {
   "cell_type": "code",
   "execution_count": 6,
   "metadata": {},
   "outputs": [],
   "source": [
    "def liste_begin(L): return list_iterator(L._Liste__tq.suivant)\n",
    "\n",
    "Liste.begin = liste_begin"
   ]
  },
  {
   "cell_type": "code",
   "execution_count": 7,
   "metadata": {},
   "outputs": [],
   "source": [
    "def liste_end(L):  return list_iterator(L._Liste__tq)\n",
    "\n",
    "Liste.end = liste_end"
   ]
  },
  {
   "cell_type": "markdown",
   "metadata": {
    "slideshow": {
     "slide_type": "fragment"
    }
   },
   "source": [
    "Par rapport à une liste simplement chainée, notons les différences\n",
    "\n",
    "* `end()` retourne un itérateur qui pointe vers le maillon vide et pas un lien nul. \n",
    "\n",
    "\n",
    "* `list_iterator.precedent()` permet d'itérer dans les deux sens. "
   ]
  },
  {
   "cell_type": "markdown",
   "metadata": {
    "slideshow": {
     "slide_type": "slide"
    }
   },
   "source": [
    "## Opérations\n",
    "\n",
    "Les opérations essentielles sont \n",
    "\n",
    "* indiquer la taille, indiquer si la liste est vide\n",
    "\n",
    "* insérer et supprimer en position quelconque\n",
    "\n",
    "* insérer et supprimer en tête\n",
    "\n",
    "* insérer et supprimer en queue\n",
    "\n",
    "* traverser et itérer en avant ou en arrière"
   ]
  },
  {
   "cell_type": "markdown",
   "metadata": {
    "slideshow": {
     "slide_type": "slide"
    }
   },
   "source": [
    "## Taille et vide \n",
    "\n",
    "Une liste est vide si `L.begin()` et `L.end()` sont identiques (`L.end()` n'est pas inclut dans la liste)"
   ]
  },
  {
   "cell_type": "code",
   "execution_count": 8,
   "metadata": {},
   "outputs": [],
   "source": [
    "def est_vide(L):\n",
    "    return L.begin() == L.end()\n",
    "Liste.empty = est_vide"
   ]
  },
  {
   "cell_type": "markdown",
   "metadata": {
    "slideshow": {
     "slide_type": "fragment"
    }
   },
   "source": [
    "Retourner la taille d'une liste requiert en général de parcourir toute la liste pour compter les maillons, une opération $\\Theta(n)$\n",
    "\n",
    "Ici on a choisi de stocker et maintenir cet information comme attribut de `Liste`"
   ]
  },
  {
   "cell_type": "code",
   "execution_count": 9,
   "metadata": {},
   "outputs": [],
   "source": [
    "def taille(L):\n",
    "    return L._Liste__N \n",
    "Liste.size = taille"
   ]
  },
  {
   "cell_type": "markdown",
   "metadata": {
    "slideshow": {
     "slide_type": "slide"
    }
   },
   "source": [
    "## Insertion avant un maillon `M`\n",
    "\n",
    "* créer un nouveau maillon `N` \n",
    "* relier `N` à gauche au maillon précédent `M`\n",
    "    * `N.precedent = M.precedent`\n",
    "    * `M.precedent.suivant = N`\n",
    "* relier `N` à droite à `M`\n",
    "    * `N.suivant = M`\n",
    "    * `M.precedent = N`"
   ]
  },
  {
   "cell_type": "code",
   "execution_count": 10,
   "metadata": {
    "slideshow": {
     "slide_type": "fragment"
    }
   },
   "outputs": [],
   "source": [
    "def inserer_avant(M,val):\n",
    "    N = Maillon(val,p = M.precedent, s = M)\n",
    "    \n",
    "def inserer_avant_en_liste(L,it,val):\n",
    "    inserer_avant(it._list_iterator__M,val)\n",
    "    L._Liste__N += 1\n",
    "    \n",
    "Liste.insert = inserer_avant_en_liste"
   ]
  },
  {
   "cell_type": "markdown",
   "metadata": {
    "slideshow": {
     "slide_type": "slide"
    }
   },
   "source": [
    "## Suppression d'un maillon M\n",
    "\n",
    "* relier `M.precedent` et `M.suivant`\n",
    "    * `M.precedent.suivant = M.suivant`\n",
    "    * `M.suivant.precedent = M.precedent`\n",
    "* selon le langage, détruire `M`\n"
   ]
  },
  {
   "cell_type": "code",
   "execution_count": 11,
   "metadata": {
    "slideshow": {
     "slide_type": "fragment"
    }
   },
   "outputs": [],
   "source": [
    "def supprimer(M):\n",
    "    assert(M and M.precedent and M.suivant)\n",
    "    M.precedent.suivant = M.suivant\n",
    "    M.suivant.precedent = M.precedent\n",
    "    \n",
    "def supprimer_en_liste(L,it):\n",
    "    supprimer(it._list_iterator__M)\n",
    "    L._Liste__N -= 1\n",
    "\n",
    "Liste.erase = supprimer_en_liste"
   ]
  },
  {
   "cell_type": "markdown",
   "metadata": {
    "slideshow": {
     "slide_type": "slide"
    }
   },
   "source": [
    "## Opérations en tête\n",
    "\n",
    "Elles peuvent être écrites en une ligne en utilisant les insertions et suppressions quelconques en lui donnant `L.begin()` en paramètre"
   ]
  },
  {
   "cell_type": "code",
   "execution_count": 12,
   "metadata": {
    "slideshow": {
     "slide_type": "-"
    }
   },
   "outputs": [],
   "source": [
    "def inserer_en_tete(L,val):\n",
    "    L.insert(L.begin(),val)  \n",
    "    \n",
    "Liste.push_front = inserer_en_tete"
   ]
  },
  {
   "cell_type": "code",
   "execution_count": 13,
   "metadata": {},
   "outputs": [],
   "source": [
    "def supprimer_en_tete(L):\n",
    "    if L.empty(): raise IndexError()\n",
    "    L.erase(L.begin())\n",
    "    \n",
    "Liste.pop_front = supprimer_en_tete"
   ]
  },
  {
   "cell_type": "markdown",
   "metadata": {
    "slideshow": {
     "slide_type": "subslide"
    }
   },
   "source": [
    "Testons leurs effets"
   ]
  },
  {
   "cell_type": "code",
   "execution_count": 14,
   "metadata": {
    "slideshow": {
     "slide_type": "-"
    }
   },
   "outputs": [
    {
     "name": "stdout",
     "output_type": "stream",
     "text": [
      "⌀\n",
      "⌀ ← 0 → ⌀\n",
      "⌀ ← 1 ⇄ 0 → ⌀\n",
      "⌀ ← 4 ⇄ 1 ⇄ 0 → ⌀\n"
     ]
    }
   ],
   "source": [
    "L = Liste(); print(L)\n",
    "for i in range(3):\n",
    "    L.push_front(i**2); print(L)"
   ]
  },
  {
   "cell_type": "code",
   "execution_count": 15,
   "metadata": {
    "slideshow": {
     "slide_type": "fragment"
    }
   },
   "outputs": [
    {
     "name": "stdout",
     "output_type": "stream",
     "text": [
      "⌀ ← 1 ⇄ 0 → ⌀\n",
      "⌀ ← 0 → ⌀\n",
      "⌀\n"
     ]
    },
    {
     "ename": "IndexError",
     "evalue": "",
     "output_type": "error",
     "traceback": [
      "\u001b[0;31m---------------------------------------------------------------------------\u001b[0m",
      "\u001b[0;31mIndexError\u001b[0m                                Traceback (most recent call last)",
      "\u001b[0;32m<ipython-input-15-90ff2e20060f>\u001b[0m in \u001b[0;36m<module>\u001b[0;34m()\u001b[0m\n\u001b[1;32m      1\u001b[0m \u001b[0;32mfor\u001b[0m \u001b[0mi\u001b[0m \u001b[0;32min\u001b[0m \u001b[0mrange\u001b[0m\u001b[0;34m(\u001b[0m\u001b[0;36m4\u001b[0m\u001b[0;34m)\u001b[0m\u001b[0;34m:\u001b[0m\u001b[0;34m\u001b[0m\u001b[0m\n\u001b[0;32m----> 2\u001b[0;31m     \u001b[0mL\u001b[0m\u001b[0;34m.\u001b[0m\u001b[0mpop_front\u001b[0m\u001b[0;34m(\u001b[0m\u001b[0;34m)\u001b[0m\u001b[0;34m;\u001b[0m \u001b[0mprint\u001b[0m\u001b[0;34m(\u001b[0m\u001b[0mL\u001b[0m\u001b[0;34m)\u001b[0m\u001b[0;34m\u001b[0m\u001b[0m\n\u001b[0m",
      "\u001b[0;32m<ipython-input-13-cf6441071455>\u001b[0m in \u001b[0;36msupprimer_en_tete\u001b[0;34m(L)\u001b[0m\n\u001b[1;32m      1\u001b[0m \u001b[0;32mdef\u001b[0m \u001b[0msupprimer_en_tete\u001b[0m\u001b[0;34m(\u001b[0m\u001b[0mL\u001b[0m\u001b[0;34m)\u001b[0m\u001b[0;34m:\u001b[0m\u001b[0;34m\u001b[0m\u001b[0m\n\u001b[0;32m----> 2\u001b[0;31m     \u001b[0;32mif\u001b[0m \u001b[0mL\u001b[0m\u001b[0;34m.\u001b[0m\u001b[0mempty\u001b[0m\u001b[0;34m(\u001b[0m\u001b[0;34m)\u001b[0m\u001b[0;34m:\u001b[0m \u001b[0;32mraise\u001b[0m \u001b[0mIndexError\u001b[0m\u001b[0;34m(\u001b[0m\u001b[0;34m)\u001b[0m\u001b[0;34m\u001b[0m\u001b[0m\n\u001b[0m\u001b[1;32m      3\u001b[0m     \u001b[0mL\u001b[0m\u001b[0;34m.\u001b[0m\u001b[0merase\u001b[0m\u001b[0;34m(\u001b[0m\u001b[0mL\u001b[0m\u001b[0;34m.\u001b[0m\u001b[0mbegin\u001b[0m\u001b[0;34m(\u001b[0m\u001b[0;34m)\u001b[0m\u001b[0;34m)\u001b[0m\u001b[0;34m\u001b[0m\u001b[0m\n\u001b[1;32m      4\u001b[0m \u001b[0;34m\u001b[0m\u001b[0m\n\u001b[1;32m      5\u001b[0m \u001b[0mListe\u001b[0m\u001b[0;34m.\u001b[0m\u001b[0mpop_front\u001b[0m \u001b[0;34m=\u001b[0m \u001b[0msupprimer_en_tete\u001b[0m\u001b[0;34m\u001b[0m\u001b[0m\n",
      "\u001b[0;31mIndexError\u001b[0m: "
     ]
    }
   ],
   "source": [
    "for i in range(4):\n",
    "    L.pop_front(); print(L)"
   ]
  },
  {
   "cell_type": "markdown",
   "metadata": {
    "slideshow": {
     "slide_type": "slide"
    }
   },
   "source": [
    "## Opérations en queue\n",
    "\n",
    "Elles peuvent être écrites en une ligne en utilisant les insertions et suppressions quelconques. On insère devant `L.end()` et on supprime le maillon précédent `L.end()`"
   ]
  },
  {
   "cell_type": "code",
   "execution_count": 16,
   "metadata": {},
   "outputs": [],
   "source": [
    "def inserer_en_queue(L,val):\n",
    "    L.insert(L.end(),val)\n",
    "    \n",
    "Liste.push_back = inserer_en_queue"
   ]
  },
  {
   "cell_type": "code",
   "execution_count": 17,
   "metadata": {},
   "outputs": [],
   "source": [
    "def supprimer_en_queue(L):\n",
    "    if L.empty(): raise IndexError()\n",
    "    L.erase(L.end().precedent())\n",
    "    \n",
    "Liste.pop_back = supprimer_en_queue"
   ]
  },
  {
   "cell_type": "markdown",
   "metadata": {
    "slideshow": {
     "slide_type": "subslide"
    }
   },
   "source": [
    "Testons leurs effets"
   ]
  },
  {
   "cell_type": "code",
   "execution_count": 18,
   "metadata": {
    "slideshow": {
     "slide_type": "-"
    }
   },
   "outputs": [
    {
     "name": "stdout",
     "output_type": "stream",
     "text": [
      "⌀\n",
      "⌀ ← 0 → ⌀\n",
      "⌀ ← 0 ⇄ 2 → ⌀\n",
      "⌀ ← 0 ⇄ 2 ⇄ 4 → ⌀\n"
     ]
    }
   ],
   "source": [
    "L = Liste(); print(L)\n",
    "for i in range(3):\n",
    "    L.push_back(i*2)\n",
    "    print(L)"
   ]
  },
  {
   "cell_type": "code",
   "execution_count": 19,
   "metadata": {
    "slideshow": {
     "slide_type": "fragment"
    }
   },
   "outputs": [
    {
     "name": "stdout",
     "output_type": "stream",
     "text": [
      "⌀ ← 0 ⇄ 2 → ⌀\n",
      "⌀ ← 0 → ⌀\n",
      "⌀\n"
     ]
    },
    {
     "ename": "IndexError",
     "evalue": "",
     "output_type": "error",
     "traceback": [
      "\u001b[0;31m---------------------------------------------------------------------------\u001b[0m",
      "\u001b[0;31mIndexError\u001b[0m                                Traceback (most recent call last)",
      "\u001b[0;32m<ipython-input-19-6f68728ecf5d>\u001b[0m in \u001b[0;36m<module>\u001b[0;34m()\u001b[0m\n\u001b[1;32m      1\u001b[0m \u001b[0;32mfor\u001b[0m \u001b[0mi\u001b[0m \u001b[0;32min\u001b[0m \u001b[0mrange\u001b[0m\u001b[0;34m(\u001b[0m\u001b[0;36m4\u001b[0m\u001b[0;34m)\u001b[0m\u001b[0;34m:\u001b[0m\u001b[0;34m\u001b[0m\u001b[0m\n\u001b[0;32m----> 2\u001b[0;31m     \u001b[0mL\u001b[0m\u001b[0;34m.\u001b[0m\u001b[0mpop_back\u001b[0m\u001b[0;34m(\u001b[0m\u001b[0;34m)\u001b[0m\u001b[0;34m\u001b[0m\u001b[0m\n\u001b[0m\u001b[1;32m      3\u001b[0m     \u001b[0mprint\u001b[0m\u001b[0;34m(\u001b[0m\u001b[0mL\u001b[0m\u001b[0;34m)\u001b[0m\u001b[0;34m\u001b[0m\u001b[0m\n",
      "\u001b[0;32m<ipython-input-17-93f6b9477d3f>\u001b[0m in \u001b[0;36msupprimer_en_queue\u001b[0;34m(L)\u001b[0m\n\u001b[1;32m      1\u001b[0m \u001b[0;32mdef\u001b[0m \u001b[0msupprimer_en_queue\u001b[0m\u001b[0;34m(\u001b[0m\u001b[0mL\u001b[0m\u001b[0;34m)\u001b[0m\u001b[0;34m:\u001b[0m\u001b[0;34m\u001b[0m\u001b[0m\n\u001b[0;32m----> 2\u001b[0;31m     \u001b[0;32mif\u001b[0m \u001b[0mL\u001b[0m\u001b[0;34m.\u001b[0m\u001b[0mempty\u001b[0m\u001b[0;34m(\u001b[0m\u001b[0;34m)\u001b[0m\u001b[0;34m:\u001b[0m \u001b[0;32mraise\u001b[0m \u001b[0mIndexError\u001b[0m\u001b[0;34m(\u001b[0m\u001b[0;34m)\u001b[0m\u001b[0;34m\u001b[0m\u001b[0m\n\u001b[0m\u001b[1;32m      3\u001b[0m     \u001b[0mL\u001b[0m\u001b[0;34m.\u001b[0m\u001b[0merase\u001b[0m\u001b[0;34m(\u001b[0m\u001b[0mL\u001b[0m\u001b[0;34m.\u001b[0m\u001b[0mend\u001b[0m\u001b[0;34m(\u001b[0m\u001b[0;34m)\u001b[0m\u001b[0;34m.\u001b[0m\u001b[0mprecedent\u001b[0m\u001b[0;34m(\u001b[0m\u001b[0;34m)\u001b[0m\u001b[0;34m)\u001b[0m\u001b[0;34m\u001b[0m\u001b[0m\n\u001b[1;32m      4\u001b[0m \u001b[0;34m\u001b[0m\u001b[0m\n\u001b[1;32m      5\u001b[0m \u001b[0mListe\u001b[0m\u001b[0;34m.\u001b[0m\u001b[0mpop_back\u001b[0m \u001b[0;34m=\u001b[0m \u001b[0msupprimer_en_queue\u001b[0m\u001b[0;34m\u001b[0m\u001b[0m\n",
      "\u001b[0;31mIndexError\u001b[0m: "
     ]
    }
   ],
   "source": [
    "for i in range(4):\n",
    "    L.pop_back()\n",
    "    print(L)"
   ]
  },
  {
   "cell_type": "markdown",
   "metadata": {
    "slideshow": {
     "slide_type": "slide"
    }
   },
   "source": [
    "## Itérer\n",
    "\n",
    "Nous avons fourni plus tôt les fonctions d'itération standards. La principale nouveauté est l'apparition d'une méthode `precedent` qui permet de se déplacer de droite à gauche. Voyons quelques exemples d'utilisation"
   ]
  },
  {
   "cell_type": "code",
   "execution_count": 20,
   "metadata": {},
   "outputs": [],
   "source": [
    "def afficher_liste(L):\n",
    "    it = L.begin()\n",
    "    while it != L.end():\n",
    "        print(it, end=\"\")\n",
    "        if it.suivant() != L.end(): \n",
    "            print(end = \" ⇄ \")\n",
    "        it = it.suivant()"
   ]
  },
  {
   "cell_type": "code",
   "execution_count": 21,
   "metadata": {
    "slideshow": {
     "slide_type": "fragment"
    }
   },
   "outputs": [
    {
     "name": "stdout",
     "output_type": "stream",
     "text": [
      "1 ⇄ 3 ⇄ 5 ⇄ 7"
     ]
    }
   ],
   "source": [
    "T = [ 1, 3, 5, 7 ]; L = Liste()\n",
    "for t in T: L.push_back(t)\n",
    "\n",
    "afficher_liste(L)"
   ]
  },
  {
   "cell_type": "code",
   "execution_count": 22,
   "metadata": {
    "slideshow": {
     "slide_type": "subslide"
    }
   },
   "outputs": [],
   "source": [
    "def supprimer_decroissances(L):\n",
    "    it = L.begin(); prec = it.get_val()\n",
    "    it = it.suivant()\n",
    "    \n",
    "    while it != L.end():\n",
    "        if it.get_val() < prec:\n",
    "            tmp = it.suivant()\n",
    "            L.erase(it); it = tmp\n",
    "        else:\n",
    "            prec = it.get_val()\n",
    "            it = it.suivant()"
   ]
  },
  {
   "cell_type": "code",
   "execution_count": 23,
   "metadata": {
    "slideshow": {
     "slide_type": "fragment"
    }
   },
   "outputs": [
    {
     "name": "stdout",
     "output_type": "stream",
     "text": [
      "⌀ ← 1 ⇄ 2 ⇄ 3 ⇄ 3 ⇄ 3 ⇄ 4 ⇄ 5 ⇄ 6 ⇄ 6 ⇄ 7 ⇄ 8 → ⌀\n"
     ]
    }
   ],
   "source": [
    "T = [ 1, 2, 3, 3, 2, 1, 2, 3, 4, 5, 6, 5, 4, 5, 6, 7, 8 ]; \n",
    "L = Liste()\n",
    "for t in T: L.push_back(t)\n",
    "\n",
    "supprimer_decroissances(L); print(L)"
   ]
  },
  {
   "cell_type": "code",
   "execution_count": 24,
   "metadata": {
    "slideshow": {
     "slide_type": "subslide"
    }
   },
   "outputs": [],
   "source": [
    "def tri_par_insertion(L):\n",
    "    if L.size() < 2: return\n",
    "    \n",
    "    k = L.begin().suivant()\n",
    "    while k != L.end():\n",
    "        tmp = k.get_val()\n",
    "        \n",
    "        j = k; i = j.precedent()\n",
    "        while j != L.begin() and tmp < i.get_val():\n",
    "            j.set_val(i.get_val())\n",
    "            j = i; i = j.precedent()\n",
    "            \n",
    "        j.set_val(tmp)\n",
    "        k = k.suivant()"
   ]
  },
  {
   "cell_type": "code",
   "execution_count": 25,
   "metadata": {
    "slideshow": {
     "slide_type": "fragment"
    }
   },
   "outputs": [
    {
     "name": "stdout",
     "output_type": "stream",
     "text": [
      "⌀ ← 1 ⇄ 2 ⇄ 3 ⇄ 4 ⇄ 5 ⇄ 6 ⇄ 7 ⇄ 8 ⇄ 9 → ⌀\n"
     ]
    }
   ],
   "source": [
    "T = [ 4, 2, 7, 5, 6, 9, 1, 3, 8 ]; L = Liste()\n",
    "for t in T: L.push_back(t)\n",
    "\n",
    "tri_par_insertion(L); print(L)"
   ]
  },
  {
   "cell_type": "markdown",
   "metadata": {
    "slideshow": {
     "slide_type": "slide"
    }
   },
   "source": [
    "## Conclusions\n",
    "\n",
    "Une liste doublement chainée utilise comme maillons des structures stockant individuellement\n",
    "\n",
    "* un élément\n",
    "* un lien vers l'élément suivant\n",
    "* un lien vers l'élément précédent\n",
    "\n",
    "Les opérations efficaces en Θ(1) sont\n",
    "\n",
    "* insertion et suppression en tête et en queue\n",
    "* insertion et suppression en une position connue\n",
    "\n",
    "Il n'y a ni pas d'accès indexé. \n",
    "\n",
    "L'utilisation d'un maillon vide qui boucle la liste en tête et en queue - ainsi que celle d'itérateurs - simplifie la mise en oeuvre et l'utilisation de la structure."
   ]
  },
  {
   "cell_type": "markdown",
   "metadata": {
    "slideshow": {
     "slide_type": "slide"
    }
   },
   "source": [
    "<table style=\"width: 100%; border: 0px\">\n",
    "<tr style=\"background-color:white; border:0px\">\n",
    "<td style=\"width: 120px; border: 0px\">\n",
    "    <img src=\"https://heig-vd.ch/ResourcePackages/WhiteFox/assets/images/logo-heig-vd.svg\" height=200px align=left >\n",
    "    </td>\n",
    "    <td style=\"vertical-align: middle; border: 0px\" height=200px>\n",
    "    <p style=\"text-align: left\">\n",
    "        <a href=\"https://ocuisenaire.github.io/ASD1-notebooks/\">ASD1 Notebooks on GitHub.io</a>\n",
    " </p>        \n",
    "<p style=\"text-align: left\">\n",
    "© Olivier Cuisenaire, 2018 </p>\n",
    "</td>\n",
    "</tr>\n",
    "</table>"
   ]
  },
  {
   "cell_type": "raw",
   "metadata": {},
   "source": [
    "<style type=\"text/css\">\n",
    ".reveal {\n",
    "font-size: 200%;\n",
    "}</style>"
   ]
  }
 ],
 "metadata": {
  "celltoolbar": "Slideshow",
  "kernelspec": {
   "display_name": "Python 3",
   "language": "python",
   "name": "python3"
  },
  "language_info": {
   "codemirror_mode": {
    "name": "ipython",
    "version": 3
   },
   "file_extension": ".py",
   "mimetype": "text/x-python",
   "name": "python",
   "nbconvert_exporter": "python",
   "pygments_lexer": "ipython3",
   "version": "3.6.5"
  }
 },
 "nbformat": 4,
 "nbformat_minor": 2
}
