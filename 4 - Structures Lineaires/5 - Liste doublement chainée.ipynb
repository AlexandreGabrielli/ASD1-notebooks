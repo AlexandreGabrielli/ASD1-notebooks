{
 "cells": [
  {
   "cell_type": "markdown",
   "metadata": {
    "slideshow": {
     "slide_type": "slide"
    }
   },
   "source": [
    "# Liste doublement chainée"
   ]
  },
  {
   "cell_type": "markdown",
   "metadata": {
    "slideshow": {
     "slide_type": "slide"
    }
   },
   "source": [
    "Chaque maillon pointe vers le précédent et le suivant"
   ]
  },
  {
   "cell_type": "code",
   "execution_count": 8,
   "metadata": {},
   "outputs": [],
   "source": [
    "class Maillon:\n",
    "    def __init__(self, valeur, \n",
    "                 suivant = None, \n",
    "                 precedent = None):\n",
    "        self.donnee = valeur\n",
    "        \n",
    "        self.suivant = suivant\n",
    "        if suivant: \n",
    "            suivant.precedent = self\n",
    "            \n",
    "        self.precedent = precedent\n",
    "        if precedent: \n",
    "            precedent.suivant = self"
   ]
  },
  {
   "cell_type": "code",
   "execution_count": 9,
   "metadata": {
    "slideshow": {
     "slide_type": "slide"
    }
   },
   "outputs": [],
   "source": [
    "class ListeDouble:\n",
    "    def __init__(self):\n",
    "        self.tete = None\n",
    "        self.queue = None\n",
    "        \n",
    "    def vide(self):\n",
    "        return self.tete == None\n",
    "    \n",
    "    def inserer_en_tete(self,valeur):\n",
    "        if self.vide():\n",
    "            self.tete = self.queue = Maillon(valeur)\n",
    "        else:\n",
    "            self.tete = Maillon(valeur, suivant = self.tete)\n",
    "            \n",
    "    def supprimer_en_tete(self):\n",
    "        if self.vide(): \n",
    "            raise IndexError()\n",
    "        self.tete = self.tete.suivant\n",
    "        self.tete.precedent = None\n",
    "                \n",
    "    def inserer_en_queue(self,valeur):\n",
    "        if self.vide():\n",
    "            self.tete = self.queue = Maillon(valeur)\n",
    "        else:\n",
    "            self.queue = Maillon(valeur, precedent = self.queue)\n",
    "    \n",
    "    def supprimer_en_queue(self):\n",
    "        if self.vide(): \n",
    "            raise IndexError()\n",
    "        self.queue = self.queue.precedent\n",
    "        self.queue.suivant = None\n",
    "            \n",
    "    def traverser(self):\n",
    "        m = self.tete\n",
    "        print(\"⌀\",end=\" ← \")\n",
    "        while m != None:\n",
    "            if m.suivant:\n",
    "                print(m.donnee, end = \" ⇄ \")    \n",
    "            else:\n",
    "                print(m.donnee, end = \" → ⌀\") \n",
    "            m = m.suivant\n",
    "            \n",
    "    def traverser_inverse(self):\n",
    "        m = self.queue\n",
    "        print(\"⌀\",end=\" ← \")\n",
    "        while m != None:\n",
    "            if m.precedent:\n",
    "                print(m.donnee, end = \" ⇄ \")    \n",
    "            else:\n",
    "                print(m.donnee, end = \" → ⌀\")\n",
    "            m = m.precedent   "
   ]
  },
  {
   "cell_type": "code",
   "execution_count": 10,
   "metadata": {},
   "outputs": [
    {
     "name": "stdout",
     "output_type": "stream",
     "text": [
      "⌀ ← 12 ⇄ 99 ⇄ 37 → ⌀"
     ]
    }
   ],
   "source": [
    "DL = ListeDouble()\n",
    "DL.inserer_en_queue(12)\n",
    "DL.inserer_en_queue(99)\n",
    "DL.inserer_en_queue(37)\n",
    "DL.traverser()"
   ]
  },
  {
   "cell_type": "code",
   "execution_count": 11,
   "metadata": {},
   "outputs": [
    {
     "name": "stdout",
     "output_type": "stream",
     "text": [
      "⌀ ← 37 ⇄ 99 ⇄ 12 → ⌀"
     ]
    }
   ],
   "source": [
    "DL.traverser_inverse()"
   ]
  },
  {
   "cell_type": "code",
   "execution_count": 5,
   "metadata": {},
   "outputs": [
    {
     "name": "stdout",
     "output_type": "stream",
     "text": [
      "⌀ ← 25 ⇄ 12 ⇄ 99 ⇄ 37 → ⌀\n",
      "⌀ ← 37 ⇄ 99 ⇄ 12 ⇄ 25 → ⌀"
     ]
    }
   ],
   "source": [
    "DL.inserer_en_tete(25)\n",
    "DL.traverser(); print(); DL.traverser_inverse()"
   ]
  },
  {
   "cell_type": "code",
   "execution_count": 6,
   "metadata": {},
   "outputs": [
    {
     "name": "stdout",
     "output_type": "stream",
     "text": [
      "⌀ ← 12 ⇄ 99 ⇄ 37 → ⌀\n",
      "⌀ ← 37 ⇄ 99 ⇄ 12 → ⌀"
     ]
    }
   ],
   "source": [
    "DL.supprimer_en_tete()\n",
    "DL.traverser(); print(); DL.traverser_inverse()"
   ]
  },
  {
   "cell_type": "code",
   "execution_count": 7,
   "metadata": {},
   "outputs": [
    {
     "name": "stdout",
     "output_type": "stream",
     "text": [
      "⌀ ← 12 ⇄ 99 → ⌀\n",
      "⌀ ← 99 ⇄ 12 → ⌀"
     ]
    }
   ],
   "source": [
    "DL.supprimer_en_queue()\n",
    "DL.traverser(); print(); DL.traverser_inverse()"
   ]
  },
  {
   "cell_type": "markdown",
   "metadata": {},
   "source": [
    "<table style=\"width: 100%; border: 0px\">\n",
    "<tr style=\"background-color:white; border:0px\">\n",
    "<td style=\"width: 120px; border: 0px\">\n",
    "    <img src=\"https://heig-vd.ch/ResourcePackages/WhiteFox/assets/images/logo-heig-vd.svg\" height=200px align=left >\n",
    "    </td>\n",
    "    <td style=\"vertical-align: middle; border: 0px\" height=200px>\n",
    "    <p style=\"text-align: left\">\n",
    "        <a href=\"https://ocuisenaire.github.io/ASD1-notebooks/\">ASD1 Notebooks on GitHub.io</a>\n",
    " </p>        \n",
    "<p style=\"text-align: left\">\n",
    "© Olivier Cuisenaire, 2018 </p>\n",
    "</td>\n",
    "</tr>\n",
    "</table>"
   ]
  },
  {
   "cell_type": "raw",
   "metadata": {},
   "source": [
    "<style type=\"text/css\">\n",
    ".reveal {\n",
    "font-size: 200%;\n",
    "}</style>"
   ]
  }
 ],
 "metadata": {
  "celltoolbar": "Slideshow",
  "kernelspec": {
   "display_name": "Python 3",
   "language": "python",
   "name": "python3"
  },
  "language_info": {
   "codemirror_mode": {
    "name": "ipython",
    "version": 3
   },
   "file_extension": ".py",
   "mimetype": "text/x-python",
   "name": "python",
   "nbconvert_exporter": "python",
   "pygments_lexer": "ipython3",
   "version": "3.6.5"
  }
 },
 "nbformat": 4,
 "nbformat_minor": 2
}
