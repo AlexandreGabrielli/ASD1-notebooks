{
 "cells": [
  {
   "cell_type": "markdown",
   "metadata": {
    "slideshow": {
     "slide_type": "slide"
    }
   },
   "source": [
    "# Liste doublement chainée"
   ]
  },
  {
   "cell_type": "markdown",
   "metadata": {
    "slideshow": {
     "slide_type": "slide"
    }
   },
   "source": [
    "## Principe \n",
    "\n",
    "La liste doublement chainée étend le concept de liste en ajoutant un lien vers l'élément précédent à chaque maillon de la chaine."
   ]
  },
  {
   "cell_type": "code",
   "execution_count": 29,
   "metadata": {},
   "outputs": [],
   "source": [
    "class Maillon:\n",
    "    def __init__(self, v, s = None, p = None):\n",
    "        self.donnee = v\n",
    "        self.suivant = s \n",
    "        if s: s.precedent = self \n",
    "        self.precedent = p \n",
    "        if p: p.suivant = self\n",
    "            \n",
    "    def __str__(self): \n",
    "        return \"{}\".format(self.donnee)"
   ]
  },
  {
   "cell_type": "markdown",
   "metadata": {
    "slideshow": {
     "slide_type": "subslide"
    }
   },
   "source": [
    "La classe liste a au moins pour attributs les liens vers les maillons en tête et en queue de liste "
   ]
  },
  {
   "cell_type": "code",
   "execution_count": 30,
   "metadata": {
    "slideshow": {
     "slide_type": "skip"
    }
   },
   "outputs": [],
   "source": [
    "# caché dans les slides\n",
    "\n",
    "def __liste_double_str__(L):\n",
    "    if L.tete == None: return \"⌀\"\n",
    "    m = L.tete\n",
    "    s = \"⌀ ← \"\n",
    "    while m != None:\n",
    "        s += m.__str__()\n",
    "        s += \" ⇄ \" if m.suivant else \" → ⌀\"\n",
    "        m = m.suivant\n",
    "    return s"
   ]
  },
  {
   "cell_type": "code",
   "execution_count": 31,
   "metadata": {},
   "outputs": [],
   "source": [
    "class ListeDouble:\n",
    "    def __init__(self):\n",
    "        self.tete = None\n",
    "        self.queue = None\n",
    "    \n",
    "    __str__ = __liste_double_str__"
   ]
  },
  {
   "cell_type": "markdown",
   "metadata": {
    "slideshow": {
     "slide_type": "slide"
    }
   },
   "source": [
    "## Opérations\n",
    "\n",
    "Les opérations essentielles sont \n",
    "\n",
    "* indiquer la taille, indiquer si la liste est vide\n",
    "\n",
    "* insérer et supprimer en tête\n",
    "\n",
    "* insérer et supprimer en queue\n",
    "\n",
    "* traverser et itérer en avant ou en arrière\n",
    "\n",
    "* insérer et supprimer en position quelconque"
   ]
  },
  {
   "cell_type": "markdown",
   "metadata": {
    "slideshow": {
     "slide_type": "subslide"
    }
   },
   "source": [
    "### Taille et vide \n",
    "\n",
    "Une liste est vide si elle n'a pas de maillon en tête. "
   ]
  },
  {
   "cell_type": "code",
   "execution_count": 32,
   "metadata": {},
   "outputs": [],
   "source": [
    "def est_vide(L):\n",
    "    return L.tete == None\n",
    "    \n",
    "ListeDouble.empty = est_vide"
   ]
  },
  {
   "cell_type": "markdown",
   "metadata": {
    "slideshow": {
     "slide_type": "fragment"
    }
   },
   "source": [
    "Retourner la taille d'une liste requiert \n",
    "* soit de stocker et maintenir cet information comme attribut de `ListeDouble`\n",
    "* soit de parcourir toute la liste pour compter les maillons, une opération $\\Theta(n)$"
   ]
  },
  {
   "cell_type": "markdown",
   "metadata": {
    "slideshow": {
     "slide_type": "slide"
    }
   },
   "source": [
    "### Insertion en tête\n",
    "\n",
    "En général, insérer en tête requiert de\n",
    "\n",
    "* créer un nouveau maillon `M`\n",
    "* faire de `M` la nouvelle tête\n",
    "* lier `M.suivant` avec l'ancienne tête `T`\n",
    "* lier `T.precedent` avec le nouveau maillon `M`\n",
    "\n",
    "Dans le cas d'une liste vide, il n'y a pas d'ancienne tête. Il faut également modifier la queue qui est le même maillon que la queue pour la liste d'un seul élément créée.  "
   ]
  },
  {
   "cell_type": "code",
   "execution_count": 39,
   "metadata": {
    "slideshow": {
     "slide_type": "subslide"
    }
   },
   "outputs": [],
   "source": [
    "def inserer_en_tete(L,valeur):\n",
    "    if est_vide(L):\n",
    "        L.tete = L.queue = Maillon(valeur)\n",
    "    else:\n",
    "        L.tete = Maillon(valeur, s = L.tete)\n",
    "        \n",
    "ListeDouble.appendleft = inserer_en_tete"
   ]
  },
  {
   "cell_type": "code",
   "execution_count": 44,
   "metadata": {
    "slideshow": {
     "slide_type": "fragment"
    }
   },
   "outputs": [
    {
     "name": "stdout",
     "output_type": "stream",
     "text": [
      "⌀\n",
      "⌀ ← 0 → ⌀\n",
      "⌀ ← 1 ⇄ 0 → ⌀\n",
      "⌀ ← 4 ⇄ 1 ⇄ 0 → ⌀\n",
      "⌀ ← 9 ⇄ 4 ⇄ 1 ⇄ 0 → ⌀\n"
     ]
    }
   ],
   "source": [
    "L = ListeDouble(); print(L)\n",
    "for i in range(4):\n",
    "    L.appendleft(i**2)\n",
    "    print(L)"
   ]
  },
  {
   "cell_type": "markdown",
   "metadata": {
    "slideshow": {
     "slide_type": "subslide"
    }
   },
   "source": [
    "### Supprimer en tête\n",
    "\n",
    "On ne peut évidemment pas supprimer en tête d'une liste vide. \n",
    "\n",
    "Sinon, il faut  \n",
    "* remplacer la tête par le maillon suivant `M`\n",
    "* annuler le lien `M.precedent` qui pointait vers le maillon supprimé \n",
    "* selon le langage, détruire le maillon supprimé\n",
    "\n",
    "et vérifier si la suppression ne vide pas la liste"
   ]
  },
  {
   "cell_type": "code",
   "execution_count": 45,
   "metadata": {
    "slideshow": {
     "slide_type": "subslide"
    }
   },
   "outputs": [],
   "source": [
    "def supprimer_en_tete(L):\n",
    "    if est_vide(L): raise IndexError()\n",
    "        \n",
    "    L.tete = L.tete.suivant\n",
    "    if L.tete:\n",
    "        L.tete.precedent = None\n",
    "    else: # liste vide\n",
    "        L.queue = None\n",
    "\n",
    "ListeDouble.popleft = supprimer_en_tete"
   ]
  },
  {
   "cell_type": "code",
   "execution_count": 46,
   "metadata": {
    "slideshow": {
     "slide_type": "fragment"
    }
   },
   "outputs": [
    {
     "name": "stdout",
     "output_type": "stream",
     "text": [
      "⌀ ← 9 ⇄ 4 ⇄ 1 ⇄ 0 → ⌀\n",
      "⌀ ← 4 ⇄ 1 ⇄ 0 → ⌀\n",
      "⌀ ← 1 ⇄ 0 → ⌀\n",
      "⌀ ← 0 → ⌀\n",
      "⌀\n"
     ]
    },
    {
     "ename": "IndexError",
     "evalue": "",
     "output_type": "error",
     "traceback": [
      "\u001b[0;31m---------------------------------------------------------------------------\u001b[0m",
      "\u001b[0;31mIndexError\u001b[0m                                Traceback (most recent call last)",
      "\u001b[0;32m<ipython-input-46-fd6565ed7183>\u001b[0m in \u001b[0;36m<module>\u001b[0;34m()\u001b[0m\n\u001b[1;32m      1\u001b[0m \u001b[0mprint\u001b[0m\u001b[0;34m(\u001b[0m\u001b[0mL\u001b[0m\u001b[0;34m)\u001b[0m\u001b[0;34m\u001b[0m\u001b[0m\n\u001b[1;32m      2\u001b[0m \u001b[0;32mfor\u001b[0m \u001b[0mi\u001b[0m \u001b[0;32min\u001b[0m \u001b[0mrange\u001b[0m\u001b[0;34m(\u001b[0m\u001b[0;36m5\u001b[0m\u001b[0;34m)\u001b[0m\u001b[0;34m:\u001b[0m\u001b[0;34m\u001b[0m\u001b[0m\n\u001b[0;32m----> 3\u001b[0;31m     \u001b[0mL\u001b[0m\u001b[0;34m.\u001b[0m\u001b[0mpopleft\u001b[0m\u001b[0;34m(\u001b[0m\u001b[0;34m)\u001b[0m\u001b[0;34m\u001b[0m\u001b[0m\n\u001b[0m\u001b[1;32m      4\u001b[0m     \u001b[0mprint\u001b[0m\u001b[0;34m(\u001b[0m\u001b[0mL\u001b[0m\u001b[0;34m)\u001b[0m\u001b[0;34m\u001b[0m\u001b[0m\n",
      "\u001b[0;32m<ipython-input-45-4c415046b08f>\u001b[0m in \u001b[0;36msupprimer_en_tete\u001b[0;34m(L)\u001b[0m\n\u001b[1;32m      1\u001b[0m \u001b[0;32mdef\u001b[0m \u001b[0msupprimer_en_tete\u001b[0m\u001b[0;34m(\u001b[0m\u001b[0mL\u001b[0m\u001b[0;34m)\u001b[0m\u001b[0;34m:\u001b[0m\u001b[0;34m\u001b[0m\u001b[0m\n\u001b[0;32m----> 2\u001b[0;31m     \u001b[0;32mif\u001b[0m \u001b[0mest_vide\u001b[0m\u001b[0;34m(\u001b[0m\u001b[0mL\u001b[0m\u001b[0;34m)\u001b[0m\u001b[0;34m:\u001b[0m \u001b[0;32mraise\u001b[0m \u001b[0mIndexError\u001b[0m\u001b[0;34m(\u001b[0m\u001b[0;34m)\u001b[0m\u001b[0;34m\u001b[0m\u001b[0m\n\u001b[0m\u001b[1;32m      3\u001b[0m \u001b[0;34m\u001b[0m\u001b[0m\n\u001b[1;32m      4\u001b[0m     \u001b[0mL\u001b[0m\u001b[0;34m.\u001b[0m\u001b[0mtete\u001b[0m \u001b[0;34m=\u001b[0m \u001b[0mL\u001b[0m\u001b[0;34m.\u001b[0m\u001b[0mtete\u001b[0m\u001b[0;34m.\u001b[0m\u001b[0msuivant\u001b[0m\u001b[0;34m\u001b[0m\u001b[0m\n\u001b[1;32m      5\u001b[0m     \u001b[0;32mif\u001b[0m \u001b[0mL\u001b[0m\u001b[0;34m.\u001b[0m\u001b[0mtete\u001b[0m\u001b[0;34m:\u001b[0m\u001b[0;34m\u001b[0m\u001b[0m\n",
      "\u001b[0;31mIndexError\u001b[0m: "
     ]
    }
   ],
   "source": [
    "print(L)\n",
    "for i in range(5):\n",
    "    L.popleft()\n",
    "    print(L)"
   ]
  },
  {
   "cell_type": "markdown",
   "metadata": {
    "slideshow": {
     "slide_type": "slide"
    }
   },
   "source": [
    "### Opérations en queue\n",
    "\n",
    "Les opérations en queue s'écrire exactement pareil, en remplaçant `tete` par `queue` ainsi que `suivant` par `precedent` et réciproquement"
   ]
  },
  {
   "cell_type": "code",
   "execution_count": 47,
   "metadata": {},
   "outputs": [],
   "source": [
    "def inserer_en_queue(self,valeur):\n",
    "    if est_vide(L): L.queue = L.tete = Maillon(valeur)\n",
    "    else:           L.queue = Maillon(valeur, p = L.queue)\n",
    "        \n",
    "ListeDouble.append = inserer_en_queue"
   ]
  },
  {
   "cell_type": "code",
   "execution_count": 48,
   "metadata": {},
   "outputs": [],
   "source": [
    "def supprimer_en_queue(L):\n",
    "    if est_vide(L): raise IndexError()\n",
    "        \n",
    "    L.queue = L.queue.precedent\n",
    "    if L.queue: L.queue.suivant = None\n",
    "    else:       L.tete = None\n",
    "\n",
    "ListeDouble.pop = supprimer_en_queue"
   ]
  },
  {
   "cell_type": "code",
   "execution_count": 55,
   "metadata": {
    "slideshow": {
     "slide_type": "subslide"
    }
   },
   "outputs": [
    {
     "name": "stdout",
     "output_type": "stream",
     "text": [
      "⌀\n",
      "⌀ ← 0 → ⌀\n",
      "⌀ ← 0 ⇄ 2 → ⌀\n",
      "⌀ ← 0 ⇄ 2 ⇄ 4 → ⌀\n"
     ]
    }
   ],
   "source": [
    "L = ListeDouble(); print(L)\n",
    "for i in range(3):\n",
    "    L.append(i*2)\n",
    "    print(L)"
   ]
  },
  {
   "cell_type": "code",
   "execution_count": 56,
   "metadata": {},
   "outputs": [
    {
     "name": "stdout",
     "output_type": "stream",
     "text": [
      "⌀ ← 0 ⇄ 2 → ⌀\n",
      "⌀ ← 0 → ⌀\n",
      "⌀\n"
     ]
    },
    {
     "ename": "IndexError",
     "evalue": "",
     "output_type": "error",
     "traceback": [
      "\u001b[0;31m---------------------------------------------------------------------------\u001b[0m",
      "\u001b[0;31mIndexError\u001b[0m                                Traceback (most recent call last)",
      "\u001b[0;32m<ipython-input-56-b1c37ee4984c>\u001b[0m in \u001b[0;36m<module>\u001b[0;34m()\u001b[0m\n\u001b[1;32m      1\u001b[0m \u001b[0;32mfor\u001b[0m \u001b[0mi\u001b[0m \u001b[0;32min\u001b[0m \u001b[0mrange\u001b[0m\u001b[0;34m(\u001b[0m\u001b[0;36m4\u001b[0m\u001b[0;34m)\u001b[0m\u001b[0;34m:\u001b[0m\u001b[0;34m\u001b[0m\u001b[0m\n\u001b[0;32m----> 2\u001b[0;31m     \u001b[0mL\u001b[0m\u001b[0;34m.\u001b[0m\u001b[0mpop\u001b[0m\u001b[0;34m(\u001b[0m\u001b[0;34m)\u001b[0m\u001b[0;34m\u001b[0m\u001b[0m\n\u001b[0m\u001b[1;32m      3\u001b[0m     \u001b[0mprint\u001b[0m\u001b[0;34m(\u001b[0m\u001b[0mL\u001b[0m\u001b[0;34m)\u001b[0m\u001b[0;34m\u001b[0m\u001b[0m\n",
      "\u001b[0;32m<ipython-input-48-d0a809b2684e>\u001b[0m in \u001b[0;36msupprimer_en_queue\u001b[0;34m(L)\u001b[0m\n\u001b[1;32m      1\u001b[0m \u001b[0;32mdef\u001b[0m \u001b[0msupprimer_en_queue\u001b[0m\u001b[0;34m(\u001b[0m\u001b[0mL\u001b[0m\u001b[0;34m)\u001b[0m\u001b[0;34m:\u001b[0m\u001b[0;34m\u001b[0m\u001b[0m\n\u001b[0;32m----> 2\u001b[0;31m     \u001b[0;32mif\u001b[0m \u001b[0mest_vide\u001b[0m\u001b[0;34m(\u001b[0m\u001b[0mL\u001b[0m\u001b[0;34m)\u001b[0m\u001b[0;34m:\u001b[0m \u001b[0;32mraise\u001b[0m \u001b[0mIndexError\u001b[0m\u001b[0;34m(\u001b[0m\u001b[0;34m)\u001b[0m\u001b[0;34m\u001b[0m\u001b[0m\n\u001b[0m\u001b[1;32m      3\u001b[0m \u001b[0;34m\u001b[0m\u001b[0m\n\u001b[1;32m      4\u001b[0m     \u001b[0mL\u001b[0m\u001b[0;34m.\u001b[0m\u001b[0mqueue\u001b[0m \u001b[0;34m=\u001b[0m \u001b[0mL\u001b[0m\u001b[0;34m.\u001b[0m\u001b[0mqueue\u001b[0m\u001b[0;34m.\u001b[0m\u001b[0mprecedent\u001b[0m\u001b[0;34m\u001b[0m\u001b[0m\n\u001b[1;32m      5\u001b[0m     \u001b[0;32mif\u001b[0m \u001b[0mL\u001b[0m\u001b[0;34m.\u001b[0m\u001b[0mqueue\u001b[0m\u001b[0;34m:\u001b[0m \u001b[0mL\u001b[0m\u001b[0;34m.\u001b[0m\u001b[0mqueue\u001b[0m\u001b[0;34m.\u001b[0m\u001b[0msuivant\u001b[0m \u001b[0;34m=\u001b[0m \u001b[0;32mNone\u001b[0m\u001b[0;34m\u001b[0m\u001b[0m\n",
      "\u001b[0;31mIndexError\u001b[0m: "
     ]
    }
   ],
   "source": [
    "for i in range(4):\n",
    "    L.pop()\n",
    "    print(L)"
   ]
  },
  {
   "cell_type": "markdown",
   "metadata": {
    "slideshow": {
     "slide_type": "slide"
    }
   },
   "source": [
    "### Traverser\n",
    "\n",
    "La liste doublement chainée peut être traversée dans les deux sens"
   ]
  },
  {
   "cell_type": "code",
   "execution_count": 61,
   "metadata": {
    "slideshow": {
     "slide_type": "-"
    }
   },
   "outputs": [],
   "source": [
    "def traverser(L):\n",
    "    m = L.tete\n",
    "    while m != None:\n",
    "        print(m, end = \" \"); m = m.suivant\n",
    "            \n",
    "def traverser_inverse(L):\n",
    "    m = L.queue\n",
    "    while m != None:\n",
    "        print(m, end = \" \"); m = m.precedent "
   ]
  },
  {
   "cell_type": "code",
   "execution_count": 74,
   "metadata": {},
   "outputs": [
    {
     "name": "stdout",
     "output_type": "stream",
     "text": [
      "⌀ ← 0 ⇄ 3 ⇄ 6 ⇄ 9 → ⌀\n",
      "en avant:   0 3 6 9 \n",
      "en arrière: 9 6 3 0 "
     ]
    }
   ],
   "source": [
    "L = ListeDouble(); \n",
    "for i in range(4): L.append(i*3)\n",
    "print(L)\n",
    "print(\"en avant:   \",end=\"\"); traverser(L)\n",
    "print(\"\\nen arrière: \",end=\"\"); traverser_inverse(L)"
   ]
  },
  {
   "cell_type": "markdown",
   "metadata": {
    "slideshow": {
     "slide_type": "slide"
    }
   },
   "source": [
    "### Itérer\n",
    "\n",
    "Indépendamment des détails de langage du python, on peut fournir un interface d'itération élémentaire via trois fonctions"
   ]
  },
  {
   "cell_type": "code",
   "execution_count": 75,
   "metadata": {},
   "outputs": [],
   "source": [
    "def debut(L):   return L.tete\n",
    "def fin(L):     return None\n",
    "def suivant(m): return m.suivant"
   ]
  },
  {
   "cell_type": "markdown",
   "metadata": {},
   "source": [
    "elles nous permettent de traverser la liste avec une boucle `while` "
   ]
  },
  {
   "cell_type": "code",
   "execution_count": 76,
   "metadata": {},
   "outputs": [
    {
     "name": "stdout",
     "output_type": "stream",
     "text": [
      "⌀ ← 0 ⇄ 3 ⇄ 6 ⇄ 9 → ⌀\n",
      "0 3 6 9 "
     ]
    }
   ],
   "source": [
    "print(L)\n",
    "m = debut(L)\n",
    "while m != fin(L):\n",
    "    print(m, end=\" \")\n",
    "    m = suivant(m)"
   ]
  },
  {
   "cell_type": "markdown",
   "metadata": {
    "slideshow": {
     "slide_type": "subslide"
    }
   },
   "source": [
    "On peut aussi itérer en arrière via "
   ]
  },
  {
   "cell_type": "code",
   "execution_count": 77,
   "metadata": {},
   "outputs": [],
   "source": [
    "def r_debut(L): return L.queue\n",
    "def r_fin(L):   return None\n",
    "def r_suivant(m): return m.precedent"
   ]
  },
  {
   "cell_type": "code",
   "execution_count": 78,
   "metadata": {},
   "outputs": [
    {
     "name": "stdout",
     "output_type": "stream",
     "text": [
      "9 6 3 0 "
     ]
    }
   ],
   "source": [
    "m = r_debut(L)\n",
    "while m != r_fin(L):\n",
    "    print(m, end=\" \")\n",
    "    m = r_suivant(m)"
   ]
  },
  {
   "cell_type": "markdown",
   "metadata": {
    "slideshow": {
     "slide_type": "slide"
    }
   },
   "source": [
    "### Opérations en position quelconque\n",
    "\n",
    "On peut utiliser les itérateurs comme paramètres pour indiquer les positions d'insertion et de suppression. Par exemple, la fonction suivant insère devant l'itérateur `pos` fournit en paramètre. "
   ]
  },
  {
   "cell_type": "code",
   "execution_count": 102,
   "metadata": {},
   "outputs": [],
   "source": [
    "def inserer_devant(L,pos,val):\n",
    "    if pos == L.tete: inserer_en_tete(L,val)\n",
    "    else:\n",
    "        m = Maillon(val,p = pos.precedent, s = pos )\n",
    "        \n",
    "ListeDouble.inserer = inserer_devant"
   ]
  },
  {
   "cell_type": "markdown",
   "metadata": {
    "slideshow": {
     "slide_type": "subslide"
    }
   },
   "source": [
    "Le code qui suit insère la valeur -1 devant tous les éléments pairs"
   ]
  },
  {
   "cell_type": "code",
   "execution_count": 107,
   "metadata": {
    "scrolled": true,
    "slideshow": {
     "slide_type": "-"
    }
   },
   "outputs": [
    {
     "name": "stdout",
     "output_type": "stream",
     "text": [
      "⌀ ← 0 ⇄ 3 ⇄ 6 ⇄ 9 → ⌀\n",
      "⌀ ← -1 ⇄ 0 ⇄ 3 ⇄ -1 ⇄ 6 ⇄ 9 → ⌀\n"
     ]
    }
   ],
   "source": [
    "L = ListeDouble(); \n",
    "for i in range(4): L.append(i*3)\n",
    "print(L)\n",
    "\n",
    "m = debut(L)\n",
    "while m != fin(L):\n",
    "    if m.donnee % 2 == 0:\n",
    "        L.inserer(m,-1)\n",
    "    m = suivant(m)\n",
    "    \n",
    "print(L)"
   ]
  },
  {
   "cell_type": "markdown",
   "metadata": {
    "slideshow": {
     "slide_type": "subslide"
    }
   },
   "source": [
    "Cependant, ce code a un défaut majeur, La fonction `inserer_devant` ne permet pas d'insérer en queue, même en écrivant `inserer_devant(L,fin(L),val)`. En effet, `fin(L)` retourne `None`\n",
    "\n",
    "Une solution fréquemment utilisée est de d'utiliser un maillon sentinelle."
   ]
  },
  {
   "cell_type": "markdown",
   "metadata": {},
   "source": [
    "## Liste double "
   ]
  },
  {
   "cell_type": "code",
   "execution_count": null,
   "metadata": {},
   "outputs": [],
   "source": [
    "class ListeDouble2:\n",
    "    def __init__(self):\n",
    "        self.sentinelle = Maillon(\"rien\")\n",
    "    \n",
    "    __str__ = __liste_double_str__"
   ]
  },
  {
   "cell_type": "code",
   "execution_count": null,
   "metadata": {},
   "outputs": [],
   "source": [
    "def est_vide2(L):\n",
    "    return L.tete == None\n",
    "    \n",
    "ListeDouble.empty = est_vide"
   ]
  },
  {
   "cell_type": "markdown",
   "metadata": {
    "slideshow": {
     "slide_type": "slide"
    }
   },
   "source": [
    "<table style=\"width: 100%; border: 0px\">\n",
    "<tr style=\"background-color:white; border:0px\">\n",
    "<td style=\"width: 120px; border: 0px\">\n",
    "    <img src=\"https://heig-vd.ch/ResourcePackages/WhiteFox/assets/images/logo-heig-vd.svg\" height=200px align=left >\n",
    "    </td>\n",
    "    <td style=\"vertical-align: middle; border: 0px\" height=200px>\n",
    "    <p style=\"text-align: left\">\n",
    "        <a href=\"https://ocuisenaire.github.io/ASD1-notebooks/\">ASD1 Notebooks on GitHub.io</a>\n",
    " </p>        \n",
    "<p style=\"text-align: left\">\n",
    "© Olivier Cuisenaire, 2018 </p>\n",
    "</td>\n",
    "</tr>\n",
    "</table>"
   ]
  },
  {
   "cell_type": "raw",
   "metadata": {},
   "source": [
    "<style type=\"text/css\">\n",
    ".reveal {\n",
    "font-size: 200%;\n",
    "}</style>"
   ]
  }
 ],
 "metadata": {
  "celltoolbar": "Slideshow",
  "kernelspec": {
   "display_name": "Python 3",
   "language": "python",
   "name": "python3"
  },
  "language_info": {
   "codemirror_mode": {
    "name": "ipython",
    "version": 3
   },
   "file_extension": ".py",
   "mimetype": "text/x-python",
   "name": "python",
   "nbconvert_exporter": "python",
   "pygments_lexer": "ipython3",
   "version": "3.6.5"
  }
 },
 "nbformat": 4,
 "nbformat_minor": 2
}
