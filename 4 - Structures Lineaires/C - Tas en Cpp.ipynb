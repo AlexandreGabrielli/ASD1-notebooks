{
 "cells": [
  {
   "cell_type": "markdown",
   "metadata": {
    "slideshow": {
     "slide_type": "slide"
    }
   },
   "source": [
    "# Tas (`heap`) en C++"
   ]
  },
  {
   "cell_type": "markdown",
   "metadata": {
    "slideshow": {
     "slide_type": "slide"
    }
   },
   "source": [
    "La standard template library (STL) fournit les fonctionalités d'un tas via un ensemble de fonctions de la librairie [`<algorithm>`](http://www.cplusplus.com/reference/algorithm/)\n",
    "\n",
    "| Fonction | Description |\n",
    "| :--- | :--- |\n",
    "| [`std::push_heap`](http://www.cplusplus.com/reference/algorithm/push_heap/) | ajoute un élément dans un tas |\n",
    "| [`std::pop_heap`](http://www.cplusplus.com/reference/algorithm/pop_heap/) | supprime l'élément au sommet d'un tas |\n",
    "| [`std::make_heap`](http://www.cplusplus.com/reference/algorithm/make_heap/) | crée un tas à partir d'un tableau quelconque |\n",
    "| [`std::sort_heap`](http://www.cplusplus.com/reference/algorithm/sort_heap/) | trie les éléments à partir d'un tas |\n",
    "| [`std::is_heap`](http://www.cplusplus.com/reference/algorithm/is_heap/) | vérifie si les éléments respectent la condition de tas  |\n",
    "| [`std::is_heap_until`](http://www.cplusplus.com/reference/algorithm/is_heap_until/) | trouve le premier élément ne respectant pas la condition de tas |\n",
    "\n"
   ]
  },
  {
   "cell_type": "markdown",
   "metadata": {
    "slideshow": {
     "slide_type": "subslide"
    }
   },
   "source": [
    "Ces fonctions ont toutes le même prototype. \n",
    "\n",
    "Soit la version générale "
   ]
  },
  {
   "cell_type": "code",
   "execution_count": 1,
   "metadata": {},
   "outputs": [],
   "source": [
    "template <class RandomAccessIterator, class Compare>\n",
    "void xxx_heap (RandomAccessIterator first, \n",
    "               RandomAccessIterator last,\n",
    "               Compare comp);"
   ]
  },
  {
   "cell_type": "markdown",
   "metadata": {},
   "source": [
    "qui prend en entrée \n",
    "* une séquence d'éléments dans l'intervalle `[first,last[` \n",
    "* une fonction de comparaison de type "
   ]
  },
  {
   "cell_type": "code",
   "execution_count": 2,
   "metadata": {},
   "outputs": [],
   "source": [
    "template <typename T> \n",
    "bool comp(const T& a, const T& b) {\n",
    "    return a < b; \n",
    "}"
   ]
  },
  {
   "cell_type": "markdown",
   "metadata": {
    "slideshow": {
     "slide_type": "subslide"
    }
   },
   "source": [
    "Soit la version simple  "
   ]
  },
  {
   "cell_type": "code",
   "execution_count": 3,
   "metadata": {},
   "outputs": [],
   "source": [
    "template <class RandomAccessIterator>\n",
    "void xxx_heap (RandomAccessIterator first, \n",
    "               RandomAccessIterator last);"
   ]
  },
  {
   "cell_type": "markdown",
   "metadata": {},
   "source": [
    "qui utilise `T::operator<(const T&)` pour comparer des éléments de type `T`. \n",
    "\n",
    "La fonction `is_heap` retourne évidemment un `bool`,\n",
    "\n",
    "et `is_heap_until` retourne un itérateur."
   ]
  },
  {
   "cell_type": "markdown",
   "metadata": {
    "slideshow": {
     "slide_type": "slide"
    }
   },
   "source": [
    "## En pratique...\n",
    "\n",
    "L'interface basé sur des itérateurs a comme conséquence que \n",
    "\n",
    "* les fonctions n'ont pas accès aux conteneurs\n",
    "\n",
    "\n",
    "* elles ne peuvent pas ajouter au supprimer d'éléments\n",
    "\n",
    "\n",
    "* elles ne peuvent que ré-ordonner les éléments \n",
    "\n",
    "Observons leurs effets "
   ]
  },
  {
   "cell_type": "code",
   "execution_count": 4,
   "metadata": {
    "slideshow": {
     "slide_type": "skip"
    }
   },
   "outputs": [],
   "source": [
    "#include <vector>\n",
    "#include <algorithm>\n",
    "#include <iostream>\n",
    "std::cout << std::boolalpha;"
   ]
  },
  {
   "cell_type": "code",
   "execution_count": 5,
   "metadata": {
    "slideshow": {
     "slide_type": "subslide"
    }
   },
   "outputs": [
    {
     "data": {
      "text/plain": [
       "{ 8, 5, 7, 4, 1, 6, 3, 2 }"
      ]
     },
     "execution_count": 5,
     "metadata": {},
     "output_type": "execute_result"
    }
   ],
   "source": [
    "// Créer le tas \n",
    "\n",
    "std::vector<int> v { 1, 2, 3, 4, 5, 6, 7, 8 };\n",
    "std::make_heap(v.begin(),v.end());\n",
    "v"
   ]
  },
  {
   "cell_type": "code",
   "execution_count": 6,
   "metadata": {
    "slideshow": {
     "slide_type": "fragment"
    }
   },
   "outputs": [
    {
     "data": {
      "text/plain": [
       "{ 8, 5, 7, 4, 1, 6, 3, 2, 9 }"
      ]
     },
     "execution_count": 6,
     "metadata": {},
     "output_type": "execute_result"
    }
   ],
   "source": [
    "// Ajouter l'élément 9 au vecteur\n",
    "\n",
    "v.push_back(9);\n",
    "v"
   ]
  },
  {
   "cell_type": "code",
   "execution_count": 7,
   "metadata": {
    "slideshow": {
     "slide_type": "fragment"
    }
   },
   "outputs": [
    {
     "data": {
      "text/plain": [
       "{ 9, 8, 7, 5, 1, 6, 3, 2, 4 }"
      ]
     },
     "execution_count": 7,
     "metadata": {},
     "output_type": "execute_result"
    }
   ],
   "source": [
    "// Placer le dernier élément dans le tas \n",
    "\n",
    "std::push_heap(v.begin(),v.end());\n",
    "v"
   ]
  },
  {
   "cell_type": "code",
   "execution_count": 8,
   "metadata": {
    "slideshow": {
     "slide_type": "subslide"
    }
   },
   "outputs": [
    {
     "data": {
      "text/plain": [
       "{ 8, 5, 7, 4, 1, 6, 3, 2, 9 }"
      ]
     },
     "execution_count": 8,
     "metadata": {},
     "output_type": "execute_result"
    }
   ],
   "source": [
    "// Placer le sommet en queue du tas et rétablir le tas pour les autres éléments\n",
    "\n",
    "std::pop_heap(v.begin(),v.end());\n",
    "v"
   ]
  },
  {
   "cell_type": "code",
   "execution_count": 9,
   "metadata": {
    "slideshow": {
     "slide_type": "fragment"
    }
   },
   "outputs": [
    {
     "data": {
      "text/plain": [
       "{ 8, 5, 7, 4, 1, 6, 3, 2 }"
      ]
     },
     "execution_count": 9,
     "metadata": {},
     "output_type": "execute_result"
    }
   ],
   "source": [
    "// supprimer le dernier élément \n",
    "\n",
    "v.pop_back();\n",
    "v"
   ]
  },
  {
   "cell_type": "code",
   "execution_count": 10,
   "metadata": {
    "slideshow": {
     "slide_type": "subslide"
    }
   },
   "outputs": [
    {
     "data": {
      "text/plain": [
       "{ 1, 2, 3, 4, 5, 6, 7, 8 }"
      ]
     },
     "execution_count": 10,
     "metadata": {},
     "output_type": "execute_result"
    }
   ],
   "source": [
    "// Trier à partir du tas v\n",
    "\n",
    "std::sort_heap(v.begin(),v.end());\n",
    "v"
   ]
  },
  {
   "cell_type": "code",
   "execution_count": 11,
   "metadata": {
    "slideshow": {
     "slide_type": "fragment"
    }
   },
   "outputs": [
    {
     "name": "stdout",
     "output_type": "stream",
     "text": [
      "false"
     ]
    }
   ],
   "source": [
    "// vérifier si c'est un tas \n",
    "\n",
    "std::cout << std::is_heap(v.begin(),v.end());"
   ]
  },
  {
   "cell_type": "code",
   "execution_count": 12,
   "metadata": {
    "slideshow": {
     "slide_type": "fragment"
    }
   },
   "outputs": [
    {
     "name": "stdout",
     "output_type": "stream",
     "text": [
      "2"
     ]
    }
   ],
   "source": [
    "// Trouver le premier élément plus grand que son parent \n",
    "\n",
    "std::cout << *(std::is_heap_until(v.begin(),v.end()));"
   ]
  },
  {
   "cell_type": "markdown",
   "metadata": {
    "slideshow": {
     "slide_type": "slide"
    }
   },
   "source": [
    "## Attention\n",
    "\n",
    "Pour que ces fonctions s'exécutent correctement, il est essentiel que les pré-conditions soient respectées. \n",
    "\n",
    "| Fonctions | Pré-condition |\n",
    "| :--- | :--- |\n",
    "| `std::pop_heap(first,last)` <br> `std::sort_heap(first,last)` | `[first,last[` respecte la condition de tas |\n",
    "| `std::push_heap(first,last)` | `[first,last-1[` respecte la condition de tas |"
   ]
  },
  {
   "cell_type": "markdown",
   "metadata": {
    "slideshow": {
     "slide_type": "subslide"
    }
   },
   "source": [
    "Sinon, l'algorithme  est appliqué\n",
    "\n",
    "* montée dans un tas (`push_heap`) \n",
    "\n",
    "\n",
    "* échange(s) et descente(s) dans un tas (`pop_heap` et `sort_heap`)\n",
    "\n",
    "mais le résultat final n'est pas nécessairement \n",
    "\n",
    "* un tas (`push_heap` et `pop_heap`)\n",
    "\n",
    "\n",
    "* trié (`sort_heap`)"
   ]
  },
  {
   "cell_type": "code",
   "execution_count": 13,
   "metadata": {
    "slideshow": {
     "slide_type": "subslide"
    }
   },
   "outputs": [
    {
     "name": "stdout",
     "output_type": "stream",
     "text": [
      "false"
     ]
    },
    {
     "data": {
      "text/plain": [
       "{ 7, 2, 1, 4, 5, 6, 3 }"
      ]
     },
     "execution_count": 13,
     "metadata": {},
     "output_type": "execute_result"
    }
   ],
   "source": [
    "// ajout dans un tas incorrect\n",
    "\n",
    "v.assign({ 1, 2, 3, 4, 5, 6, 7 });\n",
    "std::push_heap(v.begin(),v.end());\n",
    "std::cout << std::is_heap(v.begin(),v.end());\n",
    "v"
   ]
  },
  {
   "cell_type": "code",
   "execution_count": 14,
   "metadata": {
    "slideshow": {
     "slide_type": "fragment"
    }
   },
   "outputs": [
    {
     "name": "stdout",
     "output_type": "stream",
     "text": [
      "false"
     ]
    },
    {
     "data": {
      "text/plain": [
       "{ 7, 2, 3, 4, 5, 6, 1 }"
      ]
     },
     "execution_count": 14,
     "metadata": {},
     "output_type": "execute_result"
    }
   ],
   "source": [
    "// suppression d'un tas incorrect\n",
    "\n",
    "v.assign({ 1, 2, 3, 4, 5, 6, 7 });\n",
    "std::pop_heap(v.begin(),v.end());\n",
    "std::cout << std::is_heap(v.begin(),v.end()-1);\n",
    "v"
   ]
  },
  {
   "cell_type": "code",
   "execution_count": 15,
   "metadata": {
    "slideshow": {
     "slide_type": "subslide"
    }
   },
   "outputs": [
    {
     "data": {
      "text/plain": [
       "{ 2, 3, 4, 5, 6, 7, 1 }"
      ]
     },
     "execution_count": 15,
     "metadata": {},
     "output_type": "execute_result"
    }
   ],
   "source": [
    "// tri à partir d'une séquence pas en tas \n",
    "\n",
    "v.assign({ 1, 2, 3, 4, 5, 6, 7 });\n",
    "std::sort_heap(v.begin(),v.end());\n",
    "v"
   ]
  },
  {
   "cell_type": "markdown",
   "metadata": {
    "slideshow": {
     "slide_type": "slide"
    }
   },
   "source": [
    "<table style=\"width: 100%; border: 0px\">\n",
    "<tr style=\"background-color:white; border:0px\">\n",
    "<td style=\"width: 120px; border: 0px\">\n",
    "    <img src=\"https://heig-vd.ch/ResourcePackages/WhiteFox/assets/images/logo-heig-vd.svg\" height=200px align=left >\n",
    "    </td>\n",
    "    <td style=\"vertical-align: middle; border: 0px\" height=200px>\n",
    "    <p style=\"text-align: left\">\n",
    "        <a href=\"https://ocuisenaire.github.io/ASD1-notebooks/\">ASD1 Notebooks on GitHub.io</a>\n",
    " </p>        \n",
    "<p style=\"text-align: left\">\n",
    "© Olivier Cuisenaire, 2018 </p>\n",
    "</td>\n",
    "</tr>\n",
    "</table>"
   ]
  },
  {
   "cell_type": "raw",
   "metadata": {},
   "source": [
    "<style type=\"text/css\">\n",
    ".reveal {\n",
    "font-size: 200%;\n",
    "}</style>"
   ]
  }
 ],
 "metadata": {
  "celltoolbar": "Slideshow",
  "kernelspec": {
   "display_name": "C++14",
   "language": "C++14",
   "name": "xeus-cling-cpp14"
  },
  "language_info": {
   "codemirror_mode": "text/x-c++src",
   "file_extension": ".cpp",
   "mimetype": "text/x-c++src",
   "name": "c++",
   "version": "-std=c++14"
  }
 },
 "nbformat": 4,
 "nbformat_minor": 2
}
