{
 "cells": [
  {
   "cell_type": "code",
   "execution_count": 1,
   "metadata": {},
   "outputs": [],
   "source": [
    "import include.buffer_circulaire as h"
   ]
  },
  {
   "cell_type": "code",
   "execution_count": 2,
   "metadata": {},
   "outputs": [],
   "source": [
    "class BufferCirculaire:\n",
    "    def __init__(self,capacite):\n",
    "        self.data = [None]*capacite\n",
    "        self.capacite = capacite\n",
    "        self.taille = 0\n",
    "        self.debut = 0\n",
    "    \n",
    "    __str__     = h.convertir_en_texte"
   ]
  },
  {
   "cell_type": "code",
   "execution_count": 3,
   "metadata": {},
   "outputs": [],
   "source": [
    "def indice_precedent(B,i):\n",
    "    return (i - 1 + B.capacite) % B.capacite\n",
    "\n",
    "def indice_suivant(B,i):\n",
    "    return (i + 1) % B.capacite\n",
    "\n",
    "def indice_fin(B): \n",
    "    return ( B.debut + B.taille - 1 ) % B.capacite\n",
    "\n",
    "def indice_apres_fin(B):      \n",
    "    return ( B.debut + B.taille ) % B.capacite"
   ]
  },
  {
   "cell_type": "code",
   "execution_count": 4,
   "metadata": {},
   "outputs": [],
   "source": [
    "def inserer_en_queue(B,valeur):\n",
    "    if B.taille >= B.capacite: raise IndexError(\"\")\n",
    "        \n",
    "    B.data[indice_apres_fin(B)] = valeur\n",
    "    B.taille += 1"
   ]
  },
  {
   "cell_type": "code",
   "execution_count": 5,
   "metadata": {},
   "outputs": [],
   "source": [
    "def inserer_en_tete(B,valeur):\n",
    "    if B.taille >= B.capacite: raise IndexError(\"\")\n",
    "        \n",
    "    B.debut = indice_precedent(B,B.debut)\n",
    "    B.data[B.debut] = valeur\n",
    "    B.taille += 1"
   ]
  },
  {
   "cell_type": "code",
   "execution_count": 6,
   "metadata": {},
   "outputs": [],
   "source": [
    "def tete(B):\n",
    "    if B.taille <= 0: raise IndexError(\"\")\n",
    "        \n",
    "    return B.data[B.debut]"
   ]
  },
  {
   "cell_type": "code",
   "execution_count": 7,
   "metadata": {},
   "outputs": [],
   "source": [
    "def queue(B):\n",
    "    if B.taille <= 0: raise IndexError(\"\")\n",
    "        \n",
    "    return B.data[indice_fin(B)]"
   ]
  },
  {
   "cell_type": "code",
   "execution_count": 8,
   "metadata": {},
   "outputs": [],
   "source": [
    "def supprimer_en_queue(B):\n",
    "    if B.taille <= 0: raise IndexError(\"\")\n",
    "        \n",
    "    B.data[indice_fin(B)] = None\n",
    "    B.taille -= 1"
   ]
  },
  {
   "cell_type": "code",
   "execution_count": 9,
   "metadata": {},
   "outputs": [],
   "source": [
    "def supprimer_en_tete(B):\n",
    "    if B.taille <= 0: raise IndexError(\"\")\n",
    "        \n",
    "    B.data[B.debut] = None\n",
    "    B.debut = indice_suivant(B,B.debut)\n",
    "    B.taille -= 1"
   ]
  },
  {
   "cell_type": "code",
   "execution_count": 10,
   "metadata": {},
   "outputs": [
    {
     "name": "stdout",
     "output_type": "stream",
     "text": [
      "Rien         | debut: 0 | taille: (0/6) | [None, None, None, None, None, None]\n"
     ]
    }
   ],
   "source": [
    "B = BufferCirculaire(6)\n",
    "print(B)"
   ]
  },
  {
   "cell_type": "code",
   "execution_count": 11,
   "metadata": {},
   "outputs": [
    {
     "name": "stdout",
     "output_type": "stream",
     "text": [
      "1 2          | debut: 0 | taille: (2/6) | [1, 2, None, None, None, None]\n"
     ]
    }
   ],
   "source": [
    "for i in range(1,3):\n",
    "    inserer_en_queue(B,i)\n",
    "print(B)"
   ]
  },
  {
   "cell_type": "code",
   "execution_count": 12,
   "metadata": {},
   "outputs": [
    {
     "name": "stdout",
     "output_type": "stream",
     "text": [
      "-2 -1 1 2    | debut: 4 | taille: (4/6) | [1, 2, None, None, -2, -1]\n"
     ]
    }
   ],
   "source": [
    "for i in range(-1,-3,-1):\n",
    "    inserer_en_tete(B,i)\n",
    "print(B)"
   ]
  },
  {
   "cell_type": "code",
   "execution_count": 13,
   "metadata": {},
   "outputs": [
    {
     "name": "stdout",
     "output_type": "stream",
     "text": [
      "-2 -1 1      | debut: 4 | taille: (3/6) | [1, None, None, None, -2, -1]\n"
     ]
    }
   ],
   "source": [
    "supprimer_en_queue(B)\n",
    "print(B)"
   ]
  },
  {
   "cell_type": "code",
   "execution_count": 14,
   "metadata": {},
   "outputs": [
    {
     "name": "stdout",
     "output_type": "stream",
     "text": [
      "-1 1         | debut: 5 | taille: (2/6) | [1, None, None, None, None, -1]\n"
     ]
    }
   ],
   "source": [
    "supprimer_en_tete(B)\n",
    "print(B)"
   ]
  },
  {
   "cell_type": "code",
   "execution_count": 15,
   "metadata": {},
   "outputs": [
    {
     "data": {
      "text/plain": [
       "-1"
      ]
     },
     "execution_count": 15,
     "metadata": {},
     "output_type": "execute_result"
    }
   ],
   "source": [
    "tete(B)"
   ]
  },
  {
   "cell_type": "code",
   "execution_count": 16,
   "metadata": {},
   "outputs": [
    {
     "data": {
      "text/plain": [
       "1"
      ]
     },
     "execution_count": 16,
     "metadata": {},
     "output_type": "execute_result"
    }
   ],
   "source": [
    "queue(B)"
   ]
  },
  {
   "cell_type": "code",
   "execution_count": 17,
   "metadata": {},
   "outputs": [],
   "source": [
    "class BufferCirculaire:\n",
    "    def __init__(self,capacite):\n",
    "        self.data = [None]*capacite\n",
    "        self.capacite = capacite\n",
    "        self.taille = 0\n",
    "        self.debut = 0\n",
    "    \n",
    "    __str__     = h.convertir_en_texte\n",
    "    append      = inserer_en_queue\n",
    "    appendleft  = inserer_en_tete\n",
    "    \n",
    "    def __len__(self):\n",
    "        return self.taille\n",
    "    \n",
    "    def pop(self):\n",
    "        tmp = queue(self)\n",
    "        supprimer_en_queue(self)\n",
    "        return tmp; \n",
    "    \n",
    "    def popleft(self):\n",
    "        tmp = tete(self)\n",
    "        supprimer_en_tete(self)\n",
    "        return tmp;\n",
    "    \n",
    "    def maxlen(self): return self.capacite"
   ]
  },
  {
   "cell_type": "code",
   "execution_count": 18,
   "metadata": {},
   "outputs": [
    {
     "name": "stdout",
     "output_type": "stream",
     "text": [
      "0\n",
      "1\n",
      "2\n",
      "3\n",
      "4\n",
      "5 6 7 8 9    | debut: 5 | taille: (5/6) | [6, 7, 8, 9, None, 5]\n"
     ]
    }
   ],
   "source": [
    "B = BufferCirculaire(6)\n",
    "for i in range(10):\n",
    "    B.append(i)\n",
    "    if i%2 == 1:\n",
    "        print(B.popleft())\n",
    "\n",
    "print(B)"
   ]
  }
 ],
 "metadata": {
  "kernelspec": {
   "display_name": "Python 3",
   "language": "python",
   "name": "python3"
  },
  "language_info": {
   "codemirror_mode": {
    "name": "ipython",
    "version": 3
   },
   "file_extension": ".py",
   "mimetype": "text/x-python",
   "name": "python",
   "nbconvert_exporter": "python",
   "pygments_lexer": "ipython3",
   "version": "3.6.5"
  }
 },
 "nbformat": 4,
 "nbformat_minor": 2
}
