{
 "cells": [
  {
   "cell_type": "code",
   "execution_count": 1,
   "metadata": {},
   "outputs": [],
   "source": [
    "def affiche_buffer_circulaire(B):\n",
    "    s = \"{0} ({1}->{2}/{3})\\n\".format(B.data,B.debut,B.fin,B.capacite)\n",
    "    \n",
    "    if B.debut <= B.fin:\n",
    "        r = range(B.debut,B.fin)\n",
    "    else:\n",
    "        r = [ i % B.capacite for i in range(B.debut,B.fin+B.capacite)]\n",
    "    for i in r:\n",
    "        s += \"{0} \".format(B.data[i])\n",
    "    return s "
   ]
  },
  {
   "cell_type": "code",
   "execution_count": 2,
   "metadata": {},
   "outputs": [],
   "source": [
    "class BufferCirculaire:\n",
    "    def __init__(self,capacite):\n",
    "        self.data = [None]*capacite\n",
    "        self.capacite = capacite\n",
    "        self.debut = 0\n",
    "        self.fin = 0\n",
    "    \n",
    "    def __str__(self):\n",
    "        return affiche_buffer_circulaire(self)"
   ]
  },
  {
   "cell_type": "code",
   "execution_count": 3,
   "metadata": {},
   "outputs": [
    {
     "name": "stdout",
     "output_type": "stream",
     "text": [
      "[None, None, None, None, None, None] (0->0/6)\n",
      "\n"
     ]
    }
   ],
   "source": [
    "B = BufferCirculaire(6)\n",
    "print(B)"
   ]
  },
  {
   "cell_type": "code",
   "execution_count": 4,
   "metadata": {},
   "outputs": [],
   "source": [
    "def taille(B):\n",
    "    return ( B.fin - B.debut + B.capacite ) % B.capacite"
   ]
  },
  {
   "cell_type": "code",
   "execution_count": 5,
   "metadata": {},
   "outputs": [
    {
     "data": {
      "text/plain": [
       "0"
      ]
     },
     "execution_count": 5,
     "metadata": {},
     "output_type": "execute_result"
    }
   ],
   "source": [
    "taille(B)"
   ]
  },
  {
   "cell_type": "code",
   "execution_count": 6,
   "metadata": {},
   "outputs": [],
   "source": [
    "def precedent(B,i):\n",
    "    return (i - 1 + B.capacite) % B.capacite\n",
    "\n",
    "def suivant(B,i):\n",
    "    return (i + 1) % B.capacite"
   ]
  },
  {
   "cell_type": "code",
   "execution_count": 7,
   "metadata": {},
   "outputs": [],
   "source": [
    "def insere_en_queue(B,valeur):\n",
    "    if taille(B) >= B.capacite:\n",
    "        raise Exception(\"capacité insuffisante\")\n",
    "    B.data[B.fin] = valeur\n",
    "    B.fin = suivant(B,B.fin)"
   ]
  },
  {
   "cell_type": "code",
   "execution_count": 8,
   "metadata": {},
   "outputs": [
    {
     "name": "stdout",
     "output_type": "stream",
     "text": [
      "[1, 2, None, None, None, None] (0->2/6)\n",
      "1 2 \n"
     ]
    }
   ],
   "source": [
    "for i in range(1,3):\n",
    "    insere_en_queue(B,i)\n",
    "print(B)"
   ]
  },
  {
   "cell_type": "code",
   "execution_count": 9,
   "metadata": {},
   "outputs": [],
   "source": [
    "def insere_en_tete(B,valeur):\n",
    "    if taille(B) >= B.capacite:\n",
    "        raise Exception(\"capacité insuffisante\")\n",
    "    B.debut = precedent(B,B.debut)\n",
    "    B.data[B.debut] = valeur"
   ]
  },
  {
   "cell_type": "code",
   "execution_count": 10,
   "metadata": {},
   "outputs": [
    {
     "name": "stdout",
     "output_type": "stream",
     "text": [
      "[1, 2, None, None, -2, -1] (4->2/6)\n",
      "-2 -1 1 2 \n"
     ]
    }
   ],
   "source": [
    "for i in range(-1,-3,-1):\n",
    "    insere_en_tete(B,i)\n",
    "print(B)"
   ]
  },
  {
   "cell_type": "code",
   "execution_count": 11,
   "metadata": {},
   "outputs": [],
   "source": [
    "def efface_en_queue(B):\n",
    "    if taille(B) <= 0:\n",
    "        raise Exception(\"buffer vide\")\n",
    "    B.fin = precedent(B,B.fin)\n",
    "    B.data[B.fin] = None"
   ]
  },
  {
   "cell_type": "code",
   "execution_count": 12,
   "metadata": {},
   "outputs": [
    {
     "name": "stdout",
     "output_type": "stream",
     "text": [
      "[1, None, None, None, -2, -1] (4->1/6)\n",
      "-2 -1 1 \n"
     ]
    }
   ],
   "source": [
    "efface_en_queue(B)\n",
    "print(B)"
   ]
  },
  {
   "cell_type": "code",
   "execution_count": 13,
   "metadata": {},
   "outputs": [],
   "source": [
    "def efface_en_tete(B):\n",
    "    if taille(B) <= 0:\n",
    "        raise Exception(\"buffer vide\")\n",
    "    B.data[B.debut] = None\n",
    "    B.debut = suivant(B,B.debut)"
   ]
  },
  {
   "cell_type": "code",
   "execution_count": 14,
   "metadata": {},
   "outputs": [
    {
     "name": "stdout",
     "output_type": "stream",
     "text": [
      "[1, None, None, None, None, -1] (5->1/6)\n",
      "-1 1 \n"
     ]
    }
   ],
   "source": [
    "efface_en_tete(B)\n",
    "print(B)"
   ]
  },
  {
   "cell_type": "code",
   "execution_count": 15,
   "metadata": {},
   "outputs": [],
   "source": [
    "def tete(B):\n",
    "    if taille(B) <= 0:\n",
    "        raise Exception(\"buffer vide\")\n",
    "    return B.data[B.debut]"
   ]
  },
  {
   "cell_type": "code",
   "execution_count": 16,
   "metadata": {},
   "outputs": [
    {
     "data": {
      "text/plain": [
       "-1"
      ]
     },
     "execution_count": 16,
     "metadata": {},
     "output_type": "execute_result"
    }
   ],
   "source": [
    "tete(B)"
   ]
  },
  {
   "cell_type": "code",
   "execution_count": 17,
   "metadata": {},
   "outputs": [],
   "source": [
    "def queue(B):\n",
    "    if taille(B) <= 0:\n",
    "        raise Exception(\"buffer vide\")\n",
    "    return B.data[precedent(B,B.fin)]"
   ]
  },
  {
   "cell_type": "code",
   "execution_count": 18,
   "metadata": {},
   "outputs": [
    {
     "data": {
      "text/plain": [
       "1"
      ]
     },
     "execution_count": 18,
     "metadata": {},
     "output_type": "execute_result"
    }
   ],
   "source": [
    "queue(B)"
   ]
  }
 ],
 "metadata": {
  "kernelspec": {
   "display_name": "Python 3",
   "language": "python",
   "name": "python3"
  },
  "language_info": {
   "codemirror_mode": {
    "name": "ipython",
    "version": 3
   },
   "file_extension": ".py",
   "mimetype": "text/x-python",
   "name": "python",
   "nbconvert_exporter": "python",
   "pygments_lexer": "ipython3",
   "version": "3.6.5"
  }
 },
 "nbformat": 4,
 "nbformat_minor": 2
}
