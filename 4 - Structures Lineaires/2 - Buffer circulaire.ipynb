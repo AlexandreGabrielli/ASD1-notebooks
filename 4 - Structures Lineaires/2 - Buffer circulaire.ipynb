{
 "cells": [
  {
   "cell_type": "markdown",
   "metadata": {
    "slideshow": {
     "slide_type": "slide"
    }
   },
   "source": [
    "# Buffer circulaire"
   ]
  },
  {
   "cell_type": "markdown",
   "metadata": {
    "slideshow": {
     "slide_type": "skip"
    }
   },
   "source": [
    "Si l'insertion en queue d'un tableau de capacité fixe est efficace, c'est parce que la position de la fin du tableau est variable. Elle est contrôlée par la variable `taille`.\n",
    "\n",
    "Par contre, le début est fixe en position `0`, ce qui rend l'insertion en tête coûteuse. "
   ]
  },
  {
   "cell_type": "markdown",
   "metadata": {
    "slideshow": {
     "slide_type": "slide"
    }
   },
   "source": [
    "## Principe \n",
    "\n",
    "On étend la notion de tableau de capacité fixe en rendant la position du début variable.\n",
    "\n",
    "Quatre attributs sont alors nécessaires à cette structure\n",
    "\n",
    "* l'addresse _constante_ de début de mémoire allouée\n",
    "* la capacité _constante_\n",
    "* la taille _variable_\n",
    "* la position de début _variable_"
   ]
  },
  {
   "cell_type": "code",
   "execution_count": 1,
   "metadata": {
    "slideshow": {
     "slide_type": "skip"
    }
   },
   "outputs": [],
   "source": [
    "import include.buffer_circulaire as h"
   ]
  },
  {
   "cell_type": "code",
   "execution_count": 2,
   "metadata": {
    "slideshow": {
     "slide_type": "fragment"
    }
   },
   "outputs": [],
   "source": [
    "class BufferCirculaire:\n",
    "    def __init__(self,capacite):\n",
    "        self.data = [None]*capacite\n",
    "        self.capacite = capacite\n",
    "        self.taille = 0\n",
    "        self.debut = 0\n",
    "    \n",
    "    __str__     = h.convertir_en_texte"
   ]
  },
  {
   "cell_type": "markdown",
   "metadata": {
    "slideshow": {
     "slide_type": "slide"
    }
   },
   "source": [
    "## Indices \n",
    "\n",
    "Chaque emplacement en mémoire a 2 indices distincts\n",
    "* un indice **physique** qui donne sa position em mémoire\n",
    "* un indice **logique** qui donne sa position depuis `self.debut`.\n",
    "![buffer circulaire](include/circulaire_1.png)"
   ]
  },
  {
   "cell_type": "code",
   "execution_count": 3,
   "metadata": {
    "slideshow": {
     "slide_type": "fragment"
    }
   },
   "outputs": [],
   "source": [
    "def indice_physique(B,i_logique): return B.debut + i_logique\n",
    "\n",
    "def indice_logique(B,i_physique): return i_physique - B.debut "
   ]
  },
  {
   "cell_type": "markdown",
   "metadata": {
    "slideshow": {
     "slide_type": "subslide"
    }
   },
   "source": [
    "Mieux, on utilise la mémoire allouée de manière cyclique, en calculant les indices physiques modulo la capacité.\n",
    "\n",
    "![buffer circulaire](include/circulaire_2.png)"
   ]
  },
  {
   "cell_type": "code",
   "execution_count": 4,
   "metadata": {
    "slideshow": {
     "slide_type": "fragment"
    }
   },
   "outputs": [],
   "source": [
    "def indice_physique(B,i_logique):\n",
    "    return ( B.debut + i_logique ) % B.capacite\n",
    "\n",
    "def indice_logique(B,i_physique):\n",
    "    return ( B.capacite + i_physique - B.debut ) % B.capacite"
   ]
  },
  {
   "cell_type": "markdown",
   "metadata": {
    "slideshow": {
     "slide_type": "subslide"
    }
   },
   "source": [
    "Cela permet d'utiliser toute la mémoire allouée. \n",
    "\n",
    "Si nécessaire, i.e. quand `debut + taille >= capacite`, \n",
    "\n",
    "Les indices logiques `[0,taille[` correspondent\n",
    "\n",
    "aux indices physiques `[debut,capacite[`, \n",
    "\n",
    "suivis de `[0,debut + taille - capacite[`"
   ]
  },
  {
   "cell_type": "code",
   "execution_count": 5,
   "metadata": {
    "slideshow": {
     "slide_type": "subslide"
    }
   },
   "outputs": [
    {
     "name": "stdout",
     "output_type": "stream",
     "text": [
      "capacité:          6\n",
      "taille:            5\n",
      "debut:             4\n",
      "tableau physique:  [4, 9, 16, None, 0, 1]\n",
      "tableau logique:   0 1 4 9 16 "
     ]
    }
   ],
   "source": [
    "B = h.BufferDemo()\n",
    "print(\"capacité:         \",B.capacite)\n",
    "print(\"taille:           \",B.taille)\n",
    "print(\"debut:            \",B.debut)\n",
    "print(\"tableau physique: \",B.data)\n",
    "print(\"tableau logique:  \", end=\" \")\n",
    "\n",
    "for i in range(B.taille):\n",
    "    print(B.data[indice_physique(B,i)],end=\" \")"
   ]
  },
  {
   "cell_type": "code",
   "execution_count": 6,
   "metadata": {
    "slideshow": {
     "slide_type": "fragment"
    }
   },
   "outputs": [
    {
     "name": "stdout",
     "output_type": "stream",
     "text": [
      "0 1 4 9 16  | d: 4 | t/c: (5/6) | [4, 9, 16, None, 0, 1]\n"
     ]
    }
   ],
   "source": [
    "print(B)"
   ]
  },
  {
   "cell_type": "markdown",
   "metadata": {
    "slideshow": {
     "slide_type": "slide"
    }
   },
   "source": [
    "## Opérations\n",
    "\n",
    "Ces fonctions de traduction entre indices logiques et physiques nous permettent d'écrire aisément les opérations essentielles du buffer circulaire, toutes de complexité $\\Theta(1)$\n",
    "\n",
    "* Insertion en tête et en queue\n",
    "\n",
    "\n",
    "* Suppression en tête et en queue\n",
    "\n",
    "\n",
    "* Accès à la tête, la queue, un élément quelconque"
   ]
  },
  {
   "cell_type": "markdown",
   "metadata": {
    "slideshow": {
     "slide_type": "slide"
    }
   },
   "source": [
    "### Insertions\n",
    "\n",
    "Pour insérer en queue, il suffit d'écrire à l'emplacement d'indice logique `B.taille` et d'incrémenter la taille"
   ]
  },
  {
   "cell_type": "code",
   "execution_count": 7,
   "metadata": {
    "slideshow": {
     "slide_type": "-"
    }
   },
   "outputs": [],
   "source": [
    "def inserer_en_queue(B,valeur):\n",
    "    if B.taille >= B.capacite: raise IndexError(\"\")\n",
    "        \n",
    "    B.data[indice_physique(B,B.taille)] = valeur\n",
    "    B.taille += 1"
   ]
  },
  {
   "cell_type": "markdown",
   "metadata": {
    "slideshow": {
     "slide_type": "fragment"
    }
   },
   "source": [
    "Pour insérer en tête, il faut écrire à l'indice logique `-1` et déplacer le `debut` en plus d'incrémenter la taille"
   ]
  },
  {
   "cell_type": "code",
   "execution_count": 8,
   "metadata": {},
   "outputs": [],
   "source": [
    "def inserer_en_tete(B,valeur):\n",
    "    if B.taille >= B.capacite: raise IndexError(\"\")\n",
    "        \n",
    "    B.debut = indice_physique(B,-1)\n",
    "    B.data[B.debut] = valeur\n",
    "    B.taille += 1"
   ]
  },
  {
   "cell_type": "code",
   "execution_count": 9,
   "metadata": {
    "slideshow": {
     "slide_type": "subslide"
    }
   },
   "outputs": [
    {
     "name": "stdout",
     "output_type": "stream",
     "text": [
      "Rien       | d: 0 | t/c: (0/4) | [None, None, None, None]\n",
      "0          | d: 3 | t/c: (1/4) | [None, None, None, 0]\n",
      "0 1        | d: 3 | t/c: (2/4) | [1, None, None, 0]\n",
      "2 0 1      | d: 2 | t/c: (3/4) | [1, None, 2, 0]\n",
      "2 0 1 3    | d: 2 | t/c: (4/4) | [1, 3, 2, 0]\n"
     ]
    }
   ],
   "source": [
    "B = BufferCirculaire(4)\n",
    "print(B)\n",
    "for i in range(4):\n",
    "    if i%2:\n",
    "        inserer_en_queue(B,i)\n",
    "    else:\n",
    "        inserer_en_tete(B,i)\n",
    "    print(B)"
   ]
  },
  {
   "cell_type": "markdown",
   "metadata": {
    "slideshow": {
     "slide_type": "slide"
    }
   },
   "source": [
    "### Suppressions\n",
    "\n",
    "Les suppressions fonctionnent de manière similaire. Elles \n",
    "\n",
    "* détruisent l'élément en tête ou en queue\n",
    "* décrémentent la taille\n",
    "\n",
    "et la suppression en tête incrémente l'indice physique du `debut`."
   ]
  },
  {
   "cell_type": "code",
   "execution_count": 10,
   "metadata": {
    "slideshow": {
     "slide_type": "fragment"
    }
   },
   "outputs": [],
   "source": [
    "def supprimer_en_queue(B):\n",
    "    if B.taille <= 0: raise IndexError(\"\")\n",
    "        \n",
    "    B.data[indice_physique(B,B.taille-1)] = None\n",
    "    B.taille -= 1"
   ]
  },
  {
   "cell_type": "code",
   "execution_count": 11,
   "metadata": {
    "slideshow": {
     "slide_type": "fragment"
    }
   },
   "outputs": [],
   "source": [
    "def supprimer_en_tete(B):\n",
    "    if B.taille <= 0: raise IndexError(\"\")\n",
    "        \n",
    "    B.data[B.debut] = None\n",
    "    B.debut = indice_physique(B,1)\n",
    "    B.taille -= 1"
   ]
  },
  {
   "cell_type": "code",
   "execution_count": 12,
   "metadata": {
    "slideshow": {
     "slide_type": "subslide"
    }
   },
   "outputs": [
    {
     "name": "stdout",
     "output_type": "stream",
     "text": [
      "Rien       | d: 0 | t/c: (0/3) | [None, None, None]\n",
      "0          | d: 0 | t/c: (1/3) | [0, None, None]\n",
      "0 1        | d: 0 | t/c: (2/3) | [0, 1, None]\n",
      "1          | d: 1 | t/c: (1/3) | [None, 1, None]\n",
      "1 2        | d: 1 | t/c: (2/3) | [None, 1, 2]\n",
      "1 2 3      | d: 1 | t/c: (3/3) | [3, 1, 2]\n",
      "2 3        | d: 2 | t/c: (2/3) | [3, None, 2]\n"
     ]
    }
   ],
   "source": [
    "B = BufferCirculaire(3)\n",
    "print(B)\n",
    "for i in range(4):\n",
    "    inserer_en_queue(B,i)\n",
    "    print(B)\n",
    "    if i%2:\n",
    "        supprimer_en_tete(B)\n",
    "        print(B)"
   ]
  },
  {
   "cell_type": "code",
   "execution_count": 13,
   "metadata": {
    "slideshow": {
     "slide_type": "subslide"
    }
   },
   "outputs": [
    {
     "name": "stdout",
     "output_type": "stream",
     "text": [
      "Rien       | d: 0 | t/c: (0/3) | [None, None, None]\n",
      "0          | d: 2 | t/c: (1/3) | [None, None, 0]\n",
      "1 0        | d: 1 | t/c: (2/3) | [None, 1, 0]\n",
      "1          | d: 1 | t/c: (1/3) | [None, 1, None]\n",
      "2 1        | d: 0 | t/c: (2/3) | [2, 1, None]\n",
      "3 2 1      | d: 2 | t/c: (3/3) | [2, 1, 3]\n",
      "3 2        | d: 2 | t/c: (2/3) | [2, None, 3]\n"
     ]
    }
   ],
   "source": [
    "B = BufferCirculaire(3)\n",
    "print(B)\n",
    "for i in range(4):\n",
    "    inserer_en_tete(B,i)\n",
    "    print(B)\n",
    "    if i%2:\n",
    "        supprimer_en_queue(B)\n",
    "        print(B)"
   ]
  },
  {
   "cell_type": "markdown",
   "metadata": {
    "slideshow": {
     "slide_type": "slide"
    }
   },
   "source": [
    "### Accès aux éléments"
   ]
  },
  {
   "cell_type": "code",
   "execution_count": 14,
   "metadata": {},
   "outputs": [],
   "source": [
    "def getitem(B,i):\n",
    "    if i >= B.taille or i < 0: \n",
    "        raise IndexError(\"\")\n",
    "    return B.data[indice_physique(B,i)]"
   ]
  },
  {
   "cell_type": "code",
   "execution_count": 15,
   "metadata": {
    "slideshow": {
     "slide_type": "fragment"
    }
   },
   "outputs": [],
   "source": [
    "def setitem(B,i,valeur):\n",
    "    if i >= B.taille or i < 0: \n",
    "        raise IndexError(\"\")\n",
    "    B.data[indice_physique(B,i)] = valeur "
   ]
  },
  {
   "cell_type": "code",
   "execution_count": 16,
   "metadata": {
    "slideshow": {
     "slide_type": "fragment"
    }
   },
   "outputs": [],
   "source": [
    "def tete(B):   \n",
    "    return getitem(B,0)"
   ]
  },
  {
   "cell_type": "code",
   "execution_count": 17,
   "metadata": {
    "slideshow": {
     "slide_type": "-"
    }
   },
   "outputs": [],
   "source": [
    "def queue(B):\n",
    "     return getitem(B,B.taille-1)"
   ]
  },
  {
   "cell_type": "markdown",
   "metadata": {
    "slideshow": {
     "slide_type": "slide"
    }
   },
   "source": [
    "## Classe python"
   ]
  },
  {
   "cell_type": "code",
   "execution_count": 18,
   "metadata": {},
   "outputs": [],
   "source": [
    "class BufferCirculaire:\n",
    "    def __init__(self,capacite):\n",
    "        self.data = [None]*capacite; self.capacite = capacite\n",
    "        self.taille = 0; self.debut = 0\n",
    "    \n",
    "    __str__     = h.convertir_en_texte\n",
    "    __getitem__ = getitem\n",
    "    __setitem__ = setitem\n",
    "    append      = inserer_en_queue\n",
    "    appendleft  = inserer_en_tete\n",
    "    \n",
    "    def __len__(self): return self.taille\n",
    "    def maxlen(self):  return self.capacite\n",
    "    def pop(self): \n",
    "        tmp = queue(self)\n",
    "        supprimer_en_queue(self)\n",
    "        return tmp; \n",
    "    def popleft(self):\n",
    "        tmp = tete(self)\n",
    "        supprimer_en_tete(self)\n",
    "        return tmp;"
   ]
  },
  {
   "cell_type": "markdown",
   "metadata": {
    "slideshow": {
     "slide_type": "subslide"
    }
   },
   "source": [
    "Cette classe peut-être utilisée comme une queue FIFO ou comme une queue à deux fins."
   ]
  },
  {
   "cell_type": "code",
   "execution_count": 19,
   "metadata": {
    "slideshow": {
     "slide_type": "-"
    }
   },
   "outputs": [
    {
     "name": "stdout",
     "output_type": "stream",
     "text": [
      "0 1 2 3 4 10 11 12 13 14 \n",
      "15 16 17 18 19 "
     ]
    }
   ],
   "source": [
    "B = BufferCirculaire(6)\n",
    "for i in range(5):\n",
    "    B.append(i)\n",
    "\n",
    "for i in range(10):\n",
    "    print(B.popleft(), end = \" \")\n",
    "    B.append(i+10)\n",
    "\n",
    "print()\n",
    "for i in B:\n",
    "    print(i, end = \" \")"
   ]
  },
  {
   "cell_type": "markdown",
   "metadata": {
    "slideshow": {
     "slide_type": "slide"
    }
   },
   "source": [
    "<table style=\"width: 100%; border: 0px\">\n",
    "<tr style=\"background-color:white; border:0px\">\n",
    "<td style=\"width: 120px; border: 0px\">\n",
    "    <img src=\"https://heig-vd.ch/ResourcePackages/WhiteFox/assets/images/logo-heig-vd.svg\" height=200px align=left >\n",
    "    </td>\n",
    "    <td style=\"vertical-align: middle; border: 0px\" height=200px>\n",
    "    <p style=\"text-align: left\">\n",
    "        <a href=\"https://ocuisenaire.github.io/ASD1-notebooks/\">ASD1 Notebooks on GitHub.io</a>\n",
    " </p>        \n",
    "<p style=\"text-align: left\">\n",
    "© Olivier Cuisenaire, 2018 </p>\n",
    "</td>\n",
    "</tr>\n",
    "</table>"
   ]
  },
  {
   "cell_type": "raw",
   "metadata": {},
   "source": [
    "<style type=\"text/css\">\n",
    ".reveal {\n",
    "font-size: 200%;\n",
    "}</style>"
   ]
  }
 ],
 "metadata": {
  "celltoolbar": "Slideshow",
  "kernelspec": {
   "display_name": "Python 3",
   "language": "python",
   "name": "python3"
  },
  "language_info": {
   "codemirror_mode": {
    "name": "ipython",
    "version": 3
   },
   "file_extension": ".py",
   "mimetype": "text/x-python",
   "name": "python",
   "nbconvert_exporter": "python",
   "pygments_lexer": "ipython3",
   "version": "3.6.5"
  }
 },
 "nbformat": 4,
 "nbformat_minor": 2
}
