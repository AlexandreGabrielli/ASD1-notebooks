{
 "cells": [
  {
   "cell_type": "markdown",
   "metadata": {
    "slideshow": {
     "slide_type": "slide"
    }
   },
   "source": [
    "# Buffer circulaire"
   ]
  },
  {
   "cell_type": "markdown",
   "metadata": {},
   "source": [
    "![](include/circ1.png)"
   ]
  },
  {
   "cell_type": "markdown",
   "metadata": {
    "slideshow": {
     "slide_type": "notes"
    }
   },
   "source": [
    "Si l'insertion en queue d'un tableau de capacité fixe est efficace, c'est parce que la position de la fin du tableau est variable. Elle est contrôlée par la variable `taille`.\n",
    "\n",
    "Par contre, le début est fixe en position `0`, ce qui rend l'insertion en tête coûteuse. "
   ]
  },
  {
   "cell_type": "markdown",
   "metadata": {
    "slideshow": {
     "slide_type": "skip"
    }
   },
   "source": [
    "## Principe \n",
    "\n",
    "On étend la notion de tableau de capacité fixe en rendant la position du début variable.\n",
    "\n",
    "Quatre attributs sont alors nécessaires à cette structure\n",
    "\n",
    "* l'addresse _constante_ de début de mémoire allouée\n",
    "* la capacité _constante_\n",
    "* la taille _variable_\n",
    "* la position de début _variable_"
   ]
  },
  {
   "cell_type": "code",
   "execution_count": 1,
   "metadata": {
    "slideshow": {
     "slide_type": "skip"
    }
   },
   "outputs": [],
   "source": [
    "import include.buffer_circulaire as h"
   ]
  },
  {
   "cell_type": "code",
   "execution_count": 2,
   "metadata": {
    "slideshow": {
     "slide_type": "subslide"
    }
   },
   "outputs": [],
   "source": [
    "class BufferCirculaire:\n",
    "    def __init__(self,capacite):\n",
    "        \n",
    "        self.data = [None]*capacite\n",
    "        \n",
    "        self.capacite = capacite\n",
    "        \n",
    "        self.taille = 0\n",
    "        \n",
    "        self.debut = 0"
   ]
  },
  {
   "cell_type": "code",
   "execution_count": 3,
   "metadata": {
    "slideshow": {
     "slide_type": "skip"
    }
   },
   "outputs": [],
   "source": [
    "BufferCirculaire.__str__ = h.convertir_en_texte"
   ]
  },
  {
   "cell_type": "markdown",
   "metadata": {
    "slideshow": {
     "slide_type": "slide"
    }
   },
   "source": [
    "## Deux indices par emplacement\n",
    "\n",
    "* l'indice **physique** donne sa position en mémoire\n",
    "* l'indice **logique** donne sa position depuis `self.debut`."
   ]
  },
  {
   "cell_type": "code",
   "execution_count": 4,
   "metadata": {
    "slideshow": {
     "slide_type": "fragment"
    }
   },
   "outputs": [],
   "source": [
    "def i_physique(B,i_logique): \n",
    "    return B.debut + i_logique"
   ]
  },
  {
   "cell_type": "markdown",
   "metadata": {
    "slideshow": {
     "slide_type": "subslide"
    }
   },
   "source": [
    "On rend le buffer cyclique en calculant les indices physiques modulo la capacité.\n",
    "\n",
    "![buffer circulaire](include/circulaire_2.png)"
   ]
  },
  {
   "cell_type": "code",
   "execution_count": 5,
   "metadata": {
    "slideshow": {
     "slide_type": "fragment"
    }
   },
   "outputs": [],
   "source": [
    "def i_physique(B,i_logic):\n",
    "    return (B.debut + i_logic) % B.capacite"
   ]
  },
  {
   "cell_type": "markdown",
   "metadata": {
    "slideshow": {
     "slide_type": "skip"
    }
   },
   "source": [
    "Cela permet d'utiliser toute la mémoire allouée. \n",
    "\n",
    "Si nécessaire, i.e. quand `debut + taille >= capacite`, \n",
    "\n",
    "Les indices logiques `[0,taille[` correspondent\n",
    "\n",
    "aux indices physiques `[debut,capacite[`, \n",
    "\n",
    "suivis de `[0,debut + taille - capacite[`"
   ]
  },
  {
   "cell_type": "code",
   "execution_count": 6,
   "metadata": {
    "slideshow": {
     "slide_type": "subslide"
    }
   },
   "outputs": [
    {
     "name": "stdout",
     "output_type": "stream",
     "text": [
      "Capacité:  6\n",
      "Taille:    5\n",
      "Début:     4\n",
      "Physique:  [4, 9, 16, None, 0, 1]\n",
      "Logique:   0 1 4 9 16   \n"
     ]
    }
   ],
   "source": [
    "B = h.BufferDemo()\n",
    "print(\"Capacité: \",B.capacite)\n",
    "print(\"Taille:   \",B.taille)\n",
    "print(\"Début:    \",B.debut)\n",
    "print(\"Physique: \",B.data)\n",
    "print(\"Logique:  \",B)"
   ]
  },
  {
   "cell_type": "markdown",
   "metadata": {
    "slideshow": {
     "slide_type": "slide"
    }
   },
   "source": [
    "## Opérations"
   ]
  },
  {
   "cell_type": "markdown",
   "metadata": {
    "slideshow": {
     "slide_type": "skip"
    }
   },
   "source": [
    "Ces fonctions de traduction entre indices logiques et physiques nous permettent d'écrire aisément les opérations essentielles du buffer circulaire, toutes de complexité $\\Theta(1)$"
   ]
  },
  {
   "cell_type": "markdown",
   "metadata": {},
   "source": [
    "* Insertion en tête et en queue\n",
    "\n",
    "\n",
    "* Suppression en tête et en queue\n",
    "\n",
    "\n",
    "* Accès à la tête, la queue, un élément quelconque"
   ]
  },
  {
   "cell_type": "markdown",
   "metadata": {
    "slideshow": {
     "slide_type": "slide"
    }
   },
   "source": [
    "### Insertions\n",
    "\n",
    "Pour insérer en queue, il faut écrire à l'indice logique `B.taille` et incrémenter la taille"
   ]
  },
  {
   "cell_type": "code",
   "execution_count": 7,
   "metadata": {
    "slideshow": {
     "slide_type": "-"
    }
   },
   "outputs": [],
   "source": [
    "def inserer_en_queue(B,valeur):\n",
    "    if B.taille >= B.capacite: \n",
    "        raise Exception(\"\")\n",
    "        \n",
    "    B.data[i_physique(B,B.taille)] = valeur\n",
    "    B.taille += 1"
   ]
  },
  {
   "cell_type": "markdown",
   "metadata": {
    "slideshow": {
     "slide_type": "subslide"
    }
   },
   "source": [
    "Pour insérer en tête, il faut écrire à l'indice logique `-1`,  déplacer le `debut` et incrémenter la taille"
   ]
  },
  {
   "cell_type": "code",
   "execution_count": 8,
   "metadata": {},
   "outputs": [],
   "source": [
    "def inserer_en_tete(B,valeur):\n",
    "    if B.taille >= B.capacite: \n",
    "        raise Exception(\"\")\n",
    "        \n",
    "    B.debut = i_physique(B,-1)\n",
    "    B.data[B.debut] = valeur\n",
    "    B.taille += 1"
   ]
  },
  {
   "cell_type": "code",
   "execution_count": 9,
   "metadata": {
    "slideshow": {
     "slide_type": "subslide"
    }
   },
   "outputs": [
    {
     "name": "stdout",
     "output_type": "stream",
     "text": [
      "         [None, None, None, None]\n",
      "0        [None, None, None, 0] 3\n",
      "0 1      [1, None, None, 0] 3\n",
      "2 0 1    [1, None, 2, 0] 2\n",
      "2 0 1 3  [1, 3, 2, 0] 2\n"
     ]
    }
   ],
   "source": [
    "B = BufferCirculaire(4)\n",
    "print(B,B.data)\n",
    "for i in range(4):\n",
    "    if i%2: inserer_en_queue(B,i)\n",
    "    else:   inserer_en_tete(B,i)\n",
    "    print(B,B.data,B.debut) "
   ]
  },
  {
   "cell_type": "markdown",
   "metadata": {
    "slideshow": {
     "slide_type": "slide"
    }
   },
   "source": [
    "### Suppressions"
   ]
  },
  {
   "cell_type": "markdown",
   "metadata": {
    "slideshow": {
     "slide_type": "skip"
    }
   },
   "source": [
    "Les suppressions fonctionnent de manière similaire. Il faut donc "
   ]
  },
  {
   "cell_type": "markdown",
   "metadata": {},
   "source": [
    "* vérifier si le buffer est non vide\n",
    "* détruire l'élément en tête ou en queue\n",
    "* décrémenter la taille\n",
    "\n",
    "pour la suppression en tête,\n",
    "\n",
    "* déplacer l'indice physique du `debut`."
   ]
  },
  {
   "cell_type": "code",
   "execution_count": 10,
   "metadata": {
    "slideshow": {
     "slide_type": "subslide"
    }
   },
   "outputs": [],
   "source": [
    "def supprimer_en_queue(B):\n",
    "    if B.taille <= 0: \n",
    "        raise IndexError(\"\")\n",
    "        \n",
    "    B.data[i_physique(B,B.taille-1)] = None\n",
    "    B.taille -= 1"
   ]
  },
  {
   "cell_type": "code",
   "execution_count": 11,
   "metadata": {
    "slideshow": {
     "slide_type": "-"
    }
   },
   "outputs": [],
   "source": [
    "def supprimer_en_tete(B):\n",
    "    if B.taille <= 0: \n",
    "        raise IndexError(\"\")\n",
    "        \n",
    "    B.data[B.debut] = None\n",
    "    B.debut = i_physique(B,1)\n",
    "    B.taille -= 1"
   ]
  },
  {
   "cell_type": "code",
   "execution_count": 23,
   "metadata": {
    "slideshow": {
     "slide_type": "subslide"
    }
   },
   "outputs": [
    {
     "name": "stdout",
     "output_type": "stream",
     "text": [
      "0      [0, None, None] 0\n",
      "0 1    [0, 1, None] 0\n",
      "1      [None, 1, None] 1\n",
      "1 2    [None, 1, 2] 1\n",
      "1 2 3  [3, 1, 2] 1\n",
      "2 3    [3, None, 2] 2\n"
     ]
    }
   ],
   "source": [
    "B = BufferCirculaire(3)\n",
    "for i in range(2):\n",
    "    inserer_en_queue(B,2*i)\n",
    "    print(B,B.data,B.debut)\n",
    "    inserer_en_queue(B,2*i+1)\n",
    "    print(B,B.data,B.debut)\n",
    "    supprimer_en_tete(B)\n",
    "    print(B,B.data,B.debut)"
   ]
  },
  {
   "cell_type": "markdown",
   "metadata": {
    "slideshow": {
     "slide_type": "slide"
    }
   },
   "source": [
    "### Accès aux éléments"
   ]
  },
  {
   "cell_type": "code",
   "execution_count": 14,
   "metadata": {},
   "outputs": [],
   "source": [
    "def getitem(B,i):\n",
    "    if i >= B.taille or i < 0: \n",
    "        raise IndexError(\"\")\n",
    "        \n",
    "    return B.data[i_physique(B,i)]"
   ]
  },
  {
   "cell_type": "code",
   "execution_count": 15,
   "metadata": {
    "slideshow": {
     "slide_type": "fragment"
    }
   },
   "outputs": [],
   "source": [
    "def setitem(B,i,valeur):\n",
    "    if i >= B.taille or i < 0: \n",
    "        raise IndexError(\"\")\n",
    "        \n",
    "    B.data[i_physique(B,i)] = valeur "
   ]
  },
  {
   "cell_type": "code",
   "execution_count": 16,
   "metadata": {
    "slideshow": {
     "slide_type": "subslide"
    }
   },
   "outputs": [],
   "source": [
    "def tete(B):   \n",
    "    return getitem(B,0)"
   ]
  },
  {
   "cell_type": "code",
   "execution_count": 17,
   "metadata": {
    "slideshow": {
     "slide_type": "-"
    }
   },
   "outputs": [],
   "source": [
    "def queue(B):\n",
    "     return getitem(B,B.taille-1)"
   ]
  },
  {
   "cell_type": "markdown",
   "metadata": {
    "slideshow": {
     "slide_type": "skip"
    }
   },
   "source": [
    "## Classe python"
   ]
  },
  {
   "cell_type": "code",
   "execution_count": 18,
   "metadata": {
    "slideshow": {
     "slide_type": "skip"
    }
   },
   "outputs": [],
   "source": [
    "class BufferCirculaire:\n",
    "    def __init__(self,capacite):\n",
    "        self.data = [None]*capacite; self.capacite = capacite\n",
    "        self.taille = 0; self.debut = 0\n",
    "    \n",
    "    __str__     = h.convertir_en_texte\n",
    "    __getitem__ = getitem\n",
    "    __setitem__ = setitem\n",
    "    append      = inserer_en_queue\n",
    "    appendleft  = inserer_en_tete\n",
    "    \n",
    "    def __len__(self): return self.taille\n",
    "    def maxlen(self):  return self.capacite\n",
    "    def pop(self): \n",
    "        tmp = queue(self)\n",
    "        supprimer_en_queue(self)\n",
    "        return tmp; \n",
    "    def popleft(self):\n",
    "        tmp = tete(self)\n",
    "        supprimer_en_tete(self)\n",
    "        return tmp;"
   ]
  },
  {
   "cell_type": "markdown",
   "metadata": {
    "slideshow": {
     "slide_type": "skip"
    }
   },
   "source": [
    "Cette classe peut-être utilisée comme une queue FIFO ou comme une queue à deux fins."
   ]
  },
  {
   "cell_type": "code",
   "execution_count": 19,
   "metadata": {
    "slideshow": {
     "slide_type": "skip"
    }
   },
   "outputs": [
    {
     "name": "stdout",
     "output_type": "stream",
     "text": [
      "0 1 2 3 4 10 11 12 13 14 \n",
      "15 16 17 18 19 "
     ]
    }
   ],
   "source": [
    "B = BufferCirculaire(6)\n",
    "for i in range(5):\n",
    "    B.append(i)\n",
    "\n",
    "for i in range(10):\n",
    "    print(B.popleft(), end = \" \")\n",
    "    B.append(i+10)\n",
    "\n",
    "print()\n",
    "for i in B:\n",
    "    print(i, end = \" \")"
   ]
  },
  {
   "cell_type": "markdown",
   "metadata": {
    "slideshow": {
     "slide_type": "slide"
    }
   },
   "source": [
    "<table style=\"width: 100%; border: 0px\">\n",
    "<tr style=\"background-color:white; border:0px\">\n",
    "<td style=\"width: 120px; border: 0px\">\n",
    "    <img src=\"https://heig-vd.ch/ResourcePackages/WhiteFox/assets/images/logo-heig-vd.svg\" height=200px align=left >\n",
    "    </td>\n",
    "    <td style=\"vertical-align: middle; border: 0px\" height=200px>\n",
    "    <p style=\"text-align: left\">\n",
    "        <a href=\"https://ocuisenaire.github.io/ASD1-notebooks/\">ASD1 Notebooks on GitHub.io</a>\n",
    " </p>        \n",
    "<p style=\"text-align: left\">\n",
    "© Olivier Cuisenaire, 2018 </p>\n",
    "</td>\n",
    "</tr>\n",
    "</table>"
   ]
  }
 ],
 "metadata": {
  "celltoolbar": "Slideshow",
  "kernelspec": {
   "display_name": "Python 3",
   "language": "python",
   "name": "python3"
  },
  "language_info": {
   "codemirror_mode": {
    "name": "ipython",
    "version": 3
   },
   "file_extension": ".py",
   "mimetype": "text/x-python",
   "name": "python",
   "nbconvert_exporter": "python",
   "pygments_lexer": "ipython3",
   "version": "3.6.5"
  }
 },
 "nbformat": 4,
 "nbformat_minor": 2
}
