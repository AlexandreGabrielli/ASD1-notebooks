{
 "cells": [
  {
   "cell_type": "markdown",
   "metadata": {
    "slideshow": {
     "slide_type": "slide"
    }
   },
   "source": [
    "# Double-ended queue"
   ]
  },
  {
   "cell_type": "markdown",
   "metadata": {
    "slideshow": {
     "slide_type": "slide"
    }
   },
   "source": [
    "# Principe\n",
    "\n",
    "Formellement, une \"double-ended queue\" ou **deque** est un type de donnée abstrait qui permet insertion et suppression de données à chaque bout (tête et queue).\n",
    "\n",
    "Plusieurs mises en oeuvres sont possibles parmi celles vues précédemment\n",
    "\n",
    "* liste doublement chainée\n",
    "* tableau circulaire\n",
    "* tableau circulaire dynamique\n",
    "\n",
    "Ici, on s'intéresse plus particulièrement à l'approche mise en oeuvre par `std::deque<T>` en C++: un **tableau dynamique de tableaux** "
   ]
  },
  {
   "cell_type": "markdown",
   "metadata": {
    "slideshow": {
     "slide_type": "subslide"
    }
   },
   "source": [
    "Les données sont stockées dans plusieurs petits tableaux de capacité fixe `chunk_cap` alloués dynamiquement: les **chunks**\n",
    "    \n",
    "Les addresses de ces chunks sont elles-même stockées dans un buffer circulaire, la **map**, de capacité variable `map_cap`. \n",
    "\n",
    "Le premier élément est stocké à l'indice `chunk_debut` du chunk dont l'addresse est stockée dans l'emplacement `map_debut` de la map. \n",
    "\n",
    "Les suivants sont stockés aux indices suivants de ce chunk, puis dans les chunks suivants à partir de l'indice 0. \n",
    "\n",
    "Enfin, le nombre total d'éléments de la deque est stocké dans `taille`.\n",
    "\n",
    "Ces 5 attributs et l'addresse du début du tableau `map` alloué dynamiquement suffisent à localiser tout élément en mémoire. "
   ]
  },
  {
   "cell_type": "markdown",
   "metadata": {
    "slideshow": {
     "slide_type": "subslide"
    }
   },
   "source": [
    "Ecrivons cette classe `DeQue`. Le constructeur prend en paramètre la capacité fixe des chunks et la capacité de départ de la map. "
   ]
  },
  {
   "cell_type": "code",
   "execution_count": 28,
   "metadata": {
    "slideshow": {
     "slide_type": "-"
    }
   },
   "outputs": [],
   "source": [
    "class DeQue:\n",
    "    def __init__(self,chunk_cap,map_cap):\n",
    "        self.map = [None]*map_cap\n",
    "        self.map_cap = map_cap \n",
    "        self.chunk_cap = chunk_cap\n",
    "        self.map_debut = 0\n",
    "        self.taille = 0\n",
    "        self.chunk_debut = 0"
   ]
  },
  {
   "cell_type": "markdown",
   "metadata": {
    "slideshow": {
     "slide_type": "slide"
    }
   },
   "source": [
    "## Indices physiques\n",
    "\n",
    "Comme dans la mise en oeuvre du buffer circulaire, il est essentiel de pouvoir calculer les indices physiques à partir de l'indice logique `i` dans `[0,n-1]` pour `n` éléments.\n",
    "\n",
    "Il y en a ici deux\n",
    "\n",
    "* `i_chunk`, la position de `i` dans son chunk. \n",
    "\n",
    "* `i_map`, le position du chunk de `i` dans la map\n",
    "\n",
    "On calcule ce dernier en passant par le résultat intermédiaire `i_logique_map`, l'indice logique du chunk dans le buffer circulaire `map`."
   ]
  },
  {
   "cell_type": "code",
   "execution_count": 29,
   "metadata": {
    "slideshow": {
     "slide_type": "subslide"
    }
   },
   "outputs": [],
   "source": [
    "def indices_physiques(deq,i):\n",
    "    \n",
    "    i_chunk = ( i + deq.chunk_debut ) % deq.chunk_cap\n",
    "  \n",
    "    i_logique_map = ( i + deq.chunk_debut ) // deq.chunk_cap\n",
    "    \n",
    "    i_map = ( i_logique_map + deq.map_debut ) % deq.map_cap \n",
    "    \n",
    "    return i_chunk, i_map "
   ]
  },
  {
   "cell_type": "markdown",
   "metadata": {
    "slideshow": {
     "slide_type": "slide"
    }
   },
   "source": [
    "## Insertion en queue\n",
    "\n",
    "Ignorons pour le moment le problème de gestion de la capacité de `map`"
   ]
  },
  {
   "cell_type": "code",
   "execution_count": 30,
   "metadata": {},
   "outputs": [],
   "source": [
    "def check_capacite(deq,taille_demandee): pass"
   ]
  },
  {
   "cell_type": "markdown",
   "metadata": {},
   "source": [
    "pour insérer en queue, il faut \n",
    "\n",
    "* calculer les indices physiques\n",
    "* allouer le chunk si nécessaire\n",
    "* écrire à l'emplacement `.map[i_map][i_chunk]`"
   ]
  },
  {
   "cell_type": "code",
   "execution_count": 31,
   "metadata": {
    "slideshow": {
     "slide_type": "subslide"
    }
   },
   "outputs": [],
   "source": [
    "def inserer_en_queue(deq,val):\n",
    "    check_capacite(deq,deq.taille+1)\n",
    "    \n",
    "    i_chunk, i_map = indices_physiques(deq,deq.taille)\n",
    "    if deq.map[i_map] == None: \n",
    "        deq.map[i_map] = [None] * deq.chunk_cap\n",
    "    deq.map[i_map][i_chunk] = val\n",
    "    deq.taille += 1\n",
    "    \n",
    "DeQue.append = inserer_en_queue"
   ]
  },
  {
   "cell_type": "markdown",
   "metadata": {
    "slideshow": {
     "slide_type": "subslide"
    }
   },
   "source": [
    "Pour observer comment la `DeQue` se remplit, écrivons une fonction affichant son contenu physique."
   ]
  },
  {
   "cell_type": "code",
   "execution_count": 32,
   "metadata": {
    "slideshow": {
     "slide_type": "-"
    }
   },
   "outputs": [],
   "source": [
    "def afficher_deque(deq):\n",
    "    \n",
    "    str = \"cc:{} mc:{} cd:{} md:{} t:{} \\n\".format(\n",
    "                         deq.chunk_cap, deq.map_cap, \n",
    "                         deq.chunk_debut, deq.map_debut, \n",
    "                         deq.taille)\n",
    "    \n",
    "    for i in range(deq.map_cap):\n",
    "        if deq.map[i] == None:\n",
    "            str += \"None\\n\"\n",
    "        else:\n",
    "            str += deq.map[i].__str__() + \"\\n\"\n",
    "            \n",
    "    return str\n",
    "        \n",
    "DeQue.__str__ = afficher_deque"
   ]
  },
  {
   "cell_type": "code",
   "execution_count": 46,
   "metadata": {
    "slideshow": {
     "slide_type": "subslide"
    }
   },
   "outputs": [
    {
     "name": "stdout",
     "output_type": "stream",
     "text": [
      "cc:8 mc:6 cd:0 md:0 t:12 \n",
      "[0, 2, 4, 6, 8, 10, 12, 14]\n",
      "[16, 18, 20, 22, None, None, None, None]\n",
      "None\n",
      "None\n",
      "None\n",
      "None\n",
      "\n"
     ]
    }
   ],
   "source": [
    "D = DeQue(8,6)\n",
    "for i in range(12):\n",
    "    inserer_en_queue(D,i*2)\n",
    "print(D)"
   ]
  },
  {
   "cell_type": "markdown",
   "metadata": {
    "slideshow": {
     "slide_type": "slide"
    }
   },
   "source": [
    "## Insertion en tête\n",
    "\n",
    "L'insertion en tête fonctionne de manière similaire. La principale différence est qu'il faut mettre à jour `map_debut` et `chunk_debut`"
   ]
  },
  {
   "cell_type": "code",
   "execution_count": 47,
   "metadata": {
    "slideshow": {
     "slide_type": "-"
    }
   },
   "outputs": [],
   "source": [
    "def inserer_en_tete(deq,val):\n",
    "    check_capacite(deq,deq.taille+1)\n",
    "    \n",
    "    i_chunk, i_map = indices_physiques(deq,-1)\n",
    "    if deq.map[i_map] == None: \n",
    "        deq.map[i_map] = [None] * deq.chunk_cap\n",
    "    deq.map[i_map][i_chunk] = val\n",
    "    deq.map_debut = i_map\n",
    "    deq.chunk_debut = i_chunk\n",
    "    deq.taille += 1\n",
    "    \n",
    "DeQue.append_left = inserer_en_tete"
   ]
  },
  {
   "cell_type": "markdown",
   "metadata": {
    "slideshow": {
     "slide_type": "subslide"
    }
   },
   "source": [
    "Observons son effet sur le contenu de la deque"
   ]
  },
  {
   "cell_type": "code",
   "execution_count": 48,
   "metadata": {
    "slideshow": {
     "slide_type": "-"
    }
   },
   "outputs": [
    {
     "name": "stdout",
     "output_type": "stream",
     "text": [
      "cc:8 mc:6 cd:2 md:4 t:26 \n",
      "[0, 2, 4, 6, 8, 10, 12, 14]\n",
      "[16, 18, 20, 22, None, None, None, None]\n",
      "None\n",
      "None\n",
      "[None, None, -14, -13, -12, -11, -10, -9]\n",
      "[-8, -7, -6, -5, -4, -3, -2, -1]\n",
      "\n"
     ]
    }
   ],
   "source": [
    "for i in range(1,15):\n",
    "    D.append_left(-i)\n",
    "print(D)"
   ]
  },
  {
   "cell_type": "markdown",
   "metadata": {
    "slideshow": {
     "slide_type": "slide"
    }
   },
   "source": [
    "## Accès indexé\n",
    "\n",
    "L'accès indexé est immédiat à partir du calcul des indices physiques"
   ]
  },
  {
   "cell_type": "code",
   "execution_count": 49,
   "metadata": {
    "slideshow": {
     "slide_type": "-"
    }
   },
   "outputs": [],
   "source": [
    "def get_item(deq,i):\n",
    "    if i < 0 or i >= deq.taille: raise IndexError()\n",
    "        \n",
    "    i_chunk, i_map = indices_physiques(deq,i)\n",
    "    return deq.map[i_map][i_chunk]\n",
    "DeQue.__getitem__ = get_item"
   ]
  },
  {
   "cell_type": "code",
   "execution_count": 50,
   "metadata": {
    "slideshow": {
     "slide_type": "-"
    }
   },
   "outputs": [],
   "source": [
    "def set_item(deq,i,val):\n",
    "    if i < 0 or i >= deq.taille: raise IndexError()\n",
    "        \n",
    "    i_chunk, i_map = indices_physiques(deq,i)\n",
    "    deq.map[i_map][i_chunk] = val\n",
    "DeQue.__setitem__ = set_item"
   ]
  },
  {
   "cell_type": "code",
   "execution_count": 59,
   "metadata": {
    "slideshow": {
     "slide_type": "subslide"
    }
   },
   "outputs": [
    {
     "name": "stdout",
     "output_type": "stream",
     "text": [
      "D[0] = -14   D[1] = -13   D[2] = -12   D[3] = -11   \n",
      "D[4] = -10   D[5] = -9    D[6] = -8    D[7] = -7    \n",
      "D[8] = -6    D[9] = -5    D[10] = -4   D[11] = -3   \n",
      "D[12] = -2   D[13] = -1   D[14] = 0    D[15] = 2    \n",
      "D[16] = 4    D[17] = 6    D[18] = 8    D[19] = 10   \n",
      "D[20] = 12   D[21] = 14   D[22] = 16   D[23] = 18   \n",
      "D[24] = 20   D[25] = 22   "
     ]
    }
   ],
   "source": [
    "for i,v in enumerate(D):\n",
    "    print(\"D[{}] = {}\".format(i,v).ljust(13), end = \"\")\n",
    "    if i % 4 == 3: print()"
   ]
  },
  {
   "cell_type": "code",
   "execution_count": 10,
   "metadata": {
    "slideshow": {
     "slide_type": "slide"
    }
   },
   "outputs": [
    {
     "name": "stdout",
     "output_type": "stream",
     "text": [
      "D[0] = 20\n",
      "D[1] = 18\n",
      "D[2] = 16\n",
      "D[3] = 14\n",
      "D[4] = 12\n",
      "D[5] = 10\n"
     ]
    }
   ],
   "source": [
    "for i,v in enumerate(D):\n",
    "    D[i] = 20-v\n",
    "for i,v in enumerate(D):\n",
    "    print(\"D[{}] = {}\".format(i,v))"
   ]
  },
  {
   "cell_type": "code",
   "execution_count": 37,
   "metadata": {
    "slideshow": {
     "slide_type": "slide"
    }
   },
   "outputs": [],
   "source": [
    "def check_capacite(deq,taille_demandee):\n",
    "    if taille_demandee <= (deq.map_cap-1) * deq.chunk_cap: \n",
    "        return \n",
    "    nouvelle_map_cap = deq.map_cap * 2 if deq.map_cap != 0 else 1\n",
    "    while (nouvelle_map_cap-1) * deq.chunk_cap < taille_demandee:\n",
    "        nouvelle_map_cap *= 2\n",
    "    augmente_map_cap(deq,nouvelle_map_cap)    \n",
    "        \n",
    "def augmente_map_cap(deq,nouvelle_map_cap):\n",
    "    nouvelle_map = [None] * nouvelle_map_cap\n",
    "    nouveau_debut = nouvelle_map_cap-deq.map_cap+deq.map_debut\n",
    "    \n",
    "    nouvelle_map[0:deq.map_debut] = deq.map[0:deq.map_debut]\n",
    "    nouvelle_map[nouveau_debut:nouvelle_map_cap] = deq.map[deq.map_debut:deq.map_cap]\n",
    "\n",
    "    deq.map = nouvelle_map\n",
    "    deq.map_cap = nouvelle_map_cap\n",
    "    deq.map_debut = nouveau_debut"
   ]
  },
  {
   "cell_type": "code",
   "execution_count": 13,
   "metadata": {
    "slideshow": {
     "slide_type": "slide"
    }
   },
   "outputs": [
    {
     "name": "stdout",
     "output_type": "stream",
     "text": [
      "D[0] = -5\n",
      "D[1] = -4\n",
      "D[2] = -3\n",
      "D[3] = -2\n",
      "D[4] = -1\n",
      "D[5] = 20\n",
      "D[6] = 18\n",
      "D[7] = 16\n",
      "D[8] = 14\n",
      "D[9] = 12\n",
      "D[10] = 10\n"
     ]
    }
   ],
   "source": [
    "for i,v in enumerate(D):\n",
    "    print(\"D[{}] = {}\".format(i,v))"
   ]
  },
  {
   "cell_type": "code",
   "execution_count": 14,
   "metadata": {
    "slideshow": {
     "slide_type": "slide"
    }
   },
   "outputs": [
    {
     "name": "stdout",
     "output_type": "stream",
     "text": [
      "cc:4 mc:8 cd:3 md:6 t:16 \n",
      "[20, 18, 16, 14]\n",
      "[12, 10, 1, 2]\n",
      "[3, 4, 5, None]\n",
      "None\n",
      "None\n",
      "None\n",
      "[None, None, None, -5]\n",
      "[-4, -3, -2, -1]\n",
      "\n"
     ]
    }
   ],
   "source": [
    "for i in range(1,6):\n",
    "    D.append(i)\n",
    "print(D)"
   ]
  },
  {
   "cell_type": "code",
   "execution_count": 15,
   "metadata": {
    "slideshow": {
     "slide_type": "slide"
    }
   },
   "outputs": [
    {
     "name": "stdout",
     "output_type": "stream",
     "text": [
      "D[0] = -5\n",
      "D[1] = -4\n",
      "D[2] = -3\n",
      "D[3] = -2\n",
      "D[4] = -1\n",
      "D[5] = 20\n",
      "D[6] = 18\n",
      "D[7] = 16\n",
      "D[8] = 14\n",
      "D[9] = 12\n",
      "D[10] = 10\n",
      "D[11] = 1\n",
      "D[12] = 2\n",
      "D[13] = 3\n",
      "D[14] = 4\n",
      "D[15] = 5\n"
     ]
    }
   ],
   "source": [
    "for i,v in enumerate(D):\n",
    "    print(\"D[{}] = {}\".format(i,v))"
   ]
  },
  {
   "cell_type": "code",
   "execution_count": 16,
   "metadata": {
    "slideshow": {
     "slide_type": "slide"
    }
   },
   "outputs": [],
   "source": [
    "def supprimer_en_queue(deq):\n",
    "    if deq.taille < 1: raise IndexError()\n",
    "    i_chunk, i_map = indices_physiques(deq,deq.taille-1)\n",
    "    deq.map[i_map][i_chunk] = None\n",
    "    deq.taille -= 1\n",
    "    \n",
    "DeQue.pop = supprimer_en_queue"
   ]
  },
  {
   "cell_type": "code",
   "execution_count": 17,
   "metadata": {
    "slideshow": {
     "slide_type": "slide"
    }
   },
   "outputs": [
    {
     "name": "stdout",
     "output_type": "stream",
     "text": [
      "cc:4 mc:8 cd:3 md:6 t:16 \n",
      "[20, 18, 16, 14]\n",
      "[12, 10, 1, 2]\n",
      "[3, 4, 5, None]\n",
      "None\n",
      "None\n",
      "None\n",
      "[None, None, None, -5]\n",
      "[-4, -3, -2, -1]\n",
      "\n",
      "-5 -4 -3 -2 -1 20 18 16 14 12 10 1 2 3 4 5 \n",
      "\n",
      "cc:4 mc:8 cd:3 md:6 t:13 \n",
      "[20, 18, 16, 14]\n",
      "[12, 10, 1, 2]\n",
      "[None, None, None, None]\n",
      "None\n",
      "None\n",
      "None\n",
      "[None, None, None, -5]\n",
      "[-4, -3, -2, -1]\n",
      "\n",
      "-5 -4 -3 -2 -1 20 18 16 14 12 10 1 2 \n",
      "\n"
     ]
    }
   ],
   "source": [
    "print(D)\n",
    "for v in D: print(v,end=\" \")\n",
    "print(\"\\n\")\n",
    "for i in range(3):\n",
    "    D.pop()\n",
    "print(D)\n",
    "for v in D: print(v,end=\" \")\n",
    "print(\"\\n\")"
   ]
  },
  {
   "cell_type": "code",
   "execution_count": 18,
   "metadata": {
    "slideshow": {
     "slide_type": "slide"
    }
   },
   "outputs": [],
   "source": [
    "def supprimer_en_tete(deq):\n",
    "    if deq.taille < 1: raise IndexError()\n",
    "    i_chunk, i_map = indices_physiques(deq,0)\n",
    "    deq.map[i_map][i_chunk] = None\n",
    "    i_chunk, i_map = indices_physiques(deq,1)\n",
    "    deq.taille -= 1\n",
    "    deq.map_debut = i_map\n",
    "    deq.chunk_debut = i_chunk\n",
    "    \n",
    "DeQue.popleft = supprimer_en_tete"
   ]
  },
  {
   "cell_type": "code",
   "execution_count": 19,
   "metadata": {
    "slideshow": {
     "slide_type": "slide"
    }
   },
   "outputs": [
    {
     "name": "stdout",
     "output_type": "stream",
     "text": [
      "cc:4 mc:8 cd:3 md:6 t:13 \n",
      "[20, 18, 16, 14]\n",
      "[12, 10, 1, 2]\n",
      "[None, None, None, None]\n",
      "None\n",
      "None\n",
      "None\n",
      "[None, None, None, -5]\n",
      "[-4, -3, -2, -1]\n",
      "\n",
      "-5 -4 -3 -2 -1 20 18 16 14 12 10 1 2 \n",
      "\n",
      "cc:4 mc:8 cd:2 md:7 t:10 \n",
      "[20, 18, 16, 14]\n",
      "[12, 10, 1, 2]\n",
      "[None, None, None, None]\n",
      "None\n",
      "None\n",
      "None\n",
      "[None, None, None, None]\n",
      "[None, None, -2, -1]\n",
      "\n",
      "-2 -1 20 18 16 14 12 10 1 2 \n",
      "\n"
     ]
    }
   ],
   "source": [
    "print(D)\n",
    "for v in D: print(v,end=\" \")\n",
    "print(\"\\n\")\n",
    "for i in range(3):\n",
    "    D.popleft()\n",
    "print(D)\n",
    "for v in D: print(v,end=\" \")\n",
    "print(\"\\n\")"
   ]
  },
  {
   "cell_type": "markdown",
   "metadata": {
    "slideshow": {
     "slide_type": "slide"
    }
   },
   "source": [
    "## Complexités \n",
    "\n",
    "temporelle et spatiale"
   ]
  },
  {
   "cell_type": "markdown",
   "metadata": {},
   "source": [
    "## Conclusion"
   ]
  },
  {
   "cell_type": "markdown",
   "metadata": {
    "slideshow": {
     "slide_type": "slide"
    }
   },
   "source": [
    "<table style=\"width: 100%; border: 0px\">\n",
    "<tr style=\"background-color:white; border:0px\">\n",
    "<td style=\"width: 120px; border: 0px\">\n",
    "    <img src=\"https://heig-vd.ch/ResourcePackages/WhiteFox/assets/images/logo-heig-vd.svg\" height=200px align=left >\n",
    "    </td>\n",
    "    <td style=\"vertical-align: middle; border: 0px\" height=200px>\n",
    "    <p style=\"text-align: left\">\n",
    "        <a href=\"https://ocuisenaire.github.io/ASD1-notebooks/\">ASD1 Notebooks on GitHub.io</a>\n",
    " </p>        \n",
    "<p style=\"text-align: left\">\n",
    "© Olivier Cuisenaire, 2018 </p>\n",
    "</td>\n",
    "</tr>\n",
    "</table>"
   ]
  },
  {
   "cell_type": "raw",
   "metadata": {},
   "source": [
    "<style type=\"text/css\">\n",
    ".reveal {\n",
    "font-size: 200%;\n",
    "}</style>"
   ]
  }
 ],
 "metadata": {
  "celltoolbar": "Slideshow",
  "kernelspec": {
   "display_name": "Python 3",
   "language": "python",
   "name": "python3"
  },
  "language_info": {
   "codemirror_mode": {
    "name": "ipython",
    "version": 3
   },
   "file_extension": ".py",
   "mimetype": "text/x-python",
   "name": "python",
   "nbconvert_exporter": "python",
   "pygments_lexer": "ipython3",
   "version": "3.6.5"
  }
 },
 "nbformat": 4,
 "nbformat_minor": 2
}
