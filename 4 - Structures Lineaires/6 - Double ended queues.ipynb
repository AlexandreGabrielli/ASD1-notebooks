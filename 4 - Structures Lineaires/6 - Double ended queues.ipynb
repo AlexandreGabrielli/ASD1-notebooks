{
 "cells": [
  {
   "cell_type": "markdown",
   "metadata": {
    "slideshow": {
     "slide_type": "slide"
    }
   },
   "source": [
    "# Double-ended queue"
   ]
  },
  {
   "cell_type": "markdown",
   "metadata": {
    "slideshow": {
     "slide_type": "slide"
    }
   },
   "source": [
    "# Principe\n",
    "\n",
    "Formellement, une \"double-ended queue\" ou **deque** est un type de donnée abstrait qui permet insertion et suppression de données à chaque bout (tête et queue).\n",
    "\n",
    "Plusieurs mises en oeuvres sont possibles parmi celles vues précédemment\n",
    "\n",
    "* liste doublement chainée\n",
    "* tableau circulaire\n",
    "* tableau circulaire dynamique\n",
    "\n",
    "Ici, on s'intéresse plus particulièrement à l'approche mise en oeuvre par `std::deque<T>` en C++: un **tableau dynamique de tableaux** "
   ]
  },
  {
   "cell_type": "markdown",
   "metadata": {
    "slideshow": {
     "slide_type": "subslide"
    }
   },
   "source": [
    "Les données sont stockées dans plusieurs petits tableaux de capacité fixe `chunk_cap` alloués dynamiquement: les **chunks**\n",
    "    \n",
    "Les addresses de ces chunks sont elles-même stockées dans un buffer circulaire, la **map**, de capacité variable `map_cap`. \n",
    "\n",
    "Le premier élément est stocké à l'indice `chunk_debut` du chunk dont l'addresse est stockée dans l'emplacement `map_debut` de la map. \n",
    "\n",
    "Les suivants sont stockés aux indices suivants de ce chunk, puis dans les chunks suivants à partir de l'indice 0. \n",
    "\n",
    "Enfin, le nombre total d'éléments de la deque est stocké dans `taille`.\n",
    "\n",
    "Ces 5 attributs et l'addresse du début du tableau `map` alloué dynamiquement suffisent à localiser tout élément en mémoire. "
   ]
  },
  {
   "cell_type": "markdown",
   "metadata": {
    "slideshow": {
     "slide_type": "subslide"
    }
   },
   "source": [
    "![](include/deque.png)"
   ]
  },
  {
   "cell_type": "markdown",
   "metadata": {
    "slideshow": {
     "slide_type": "subslide"
    }
   },
   "source": [
    "Ecrivons cette classe `DeQue`. Le constructeur prend en paramètre la capacité fixe des chunks et la capacité de départ de la map. "
   ]
  },
  {
   "cell_type": "code",
   "execution_count": 1,
   "metadata": {
    "slideshow": {
     "slide_type": "-"
    }
   },
   "outputs": [],
   "source": [
    "class DeQue:\n",
    "    def __init__(self,chunk_cap,map_cap):\n",
    "        self.map = [None]*map_cap\n",
    "        self.map_cap = map_cap if map_cap >= 2 else 2\n",
    "        self.chunk_cap = chunk_cap\n",
    "        self.map_debut = 0\n",
    "        self.taille = 0\n",
    "        self.chunk_debut = 0"
   ]
  },
  {
   "cell_type": "markdown",
   "metadata": {
    "slideshow": {
     "slide_type": "slide"
    }
   },
   "source": [
    "## Indices physiques\n",
    "\n",
    "Comme dans la mise en oeuvre du buffer circulaire, il est essentiel de pouvoir calculer les indices physiques à partir de l'indice logique `i` dans `[0,n-1]` pour `n` éléments.\n",
    "\n",
    "Il y en a ici deux\n",
    "\n",
    "* `i_chunk`, la position de `i` dans son chunk. \n",
    "\n",
    "* `i_map`, le position du chunk de `i` dans la map\n",
    "\n",
    "On calcule ce dernier en passant par le résultat intermédiaire `i_logique_map`, l'indice logique du chunk dans le buffer circulaire `map`."
   ]
  },
  {
   "cell_type": "code",
   "execution_count": 2,
   "metadata": {
    "slideshow": {
     "slide_type": "subslide"
    }
   },
   "outputs": [],
   "source": [
    "def indices_physiques(deq,i):\n",
    "    \n",
    "    i_chunk = ( i + deq.chunk_debut ) % deq.chunk_cap\n",
    "  \n",
    "    i_logique_map = ( i + deq.chunk_debut ) // deq.chunk_cap\n",
    "    \n",
    "    i_map = ( i_logique_map + deq.map_debut ) % deq.map_cap \n",
    "    \n",
    "    return i_chunk, i_map "
   ]
  },
  {
   "cell_type": "markdown",
   "metadata": {
    "slideshow": {
     "slide_type": "slide"
    }
   },
   "source": [
    "## Insertion en queue\n",
    "\n",
    "Ignorons pour le moment le problème de gestion de la capacité de `map`"
   ]
  },
  {
   "cell_type": "code",
   "execution_count": 3,
   "metadata": {},
   "outputs": [],
   "source": [
    "def check_capacite(deq,taille_demandee): pass"
   ]
  },
  {
   "cell_type": "markdown",
   "metadata": {},
   "source": [
    "pour insérer en queue, il faut \n",
    "\n",
    "* calculer les indices physiques\n",
    "* allouer le chunk si nécessaire\n",
    "* écrire à l'emplacement `.map[i_map][i_chunk]`"
   ]
  },
  {
   "cell_type": "code",
   "execution_count": 4,
   "metadata": {
    "slideshow": {
     "slide_type": "subslide"
    }
   },
   "outputs": [],
   "source": [
    "def inserer_en_queue(deq,val):\n",
    "    check_capacite(deq,deq.taille+1)\n",
    "    \n",
    "    i_chunk, i_map = indices_physiques(deq,deq.taille)\n",
    "    \n",
    "    if deq.map[i_map] == None: \n",
    "        deq.map[i_map] = [None] * deq.chunk_cap\n",
    "        \n",
    "    deq.map[i_map][i_chunk] = val\n",
    "    deq.taille += 1\n",
    "    \n",
    "DeQue.append = inserer_en_queue"
   ]
  },
  {
   "cell_type": "markdown",
   "metadata": {
    "slideshow": {
     "slide_type": "subslide"
    }
   },
   "source": [
    "Pour observer comment la `DeQue` se remplit, écrivons une fonction affichant son contenu physique."
   ]
  },
  {
   "cell_type": "code",
   "execution_count": 5,
   "metadata": {
    "slideshow": {
     "slide_type": "-"
    }
   },
   "outputs": [],
   "source": [
    "def afficher_deque(deq):\n",
    "    \n",
    "    str = \"cc:{} mc:{} cd:{} md:{} t:{} \\n\".format(\n",
    "                         deq.chunk_cap, deq.map_cap, \n",
    "                         deq.chunk_debut, deq.map_debut, \n",
    "                         deq.taille)\n",
    "    \n",
    "    for i in range(deq.map_cap):\n",
    "        if deq.map[i] == None:\n",
    "            str += \"None\\n\"\n",
    "        else:\n",
    "            str += deq.map[i].__str__() + \"\\n\"\n",
    "            \n",
    "    return str\n",
    "        \n",
    "DeQue.__str__ = afficher_deque"
   ]
  },
  {
   "cell_type": "code",
   "execution_count": 6,
   "metadata": {
    "slideshow": {
     "slide_type": "subslide"
    }
   },
   "outputs": [
    {
     "name": "stdout",
     "output_type": "stream",
     "text": [
      "cc:8 mc:6 cd:0 md:0 t:12 \n",
      "[0, 2, 4, 6, 8, 10, 12, 14]\n",
      "[16, 18, 20, 22, None, None, None, None]\n",
      "None\n",
      "None\n",
      "None\n",
      "None\n",
      "\n"
     ]
    }
   ],
   "source": [
    "D = DeQue(8,6)\n",
    "for i in range(12):\n",
    "    inserer_en_queue(D,i*2)\n",
    "print(D)"
   ]
  },
  {
   "cell_type": "markdown",
   "metadata": {
    "slideshow": {
     "slide_type": "slide"
    }
   },
   "source": [
    "## Insertion en tête\n",
    "\n",
    "L'insertion en tête fonctionne de manière similaire. La principale différence est qu'il faut mettre à jour `map_debut` et `chunk_debut`"
   ]
  },
  {
   "cell_type": "code",
   "execution_count": 7,
   "metadata": {
    "slideshow": {
     "slide_type": "-"
    }
   },
   "outputs": [],
   "source": [
    "def inserer_en_tete(deq,val):\n",
    "    check_capacite(deq,deq.taille+1)\n",
    "    \n",
    "    i_chunk, i_map = indices_physiques(deq,-1)\n",
    "    \n",
    "    if deq.map[i_map] == None: \n",
    "        deq.map[i_map] = [None] * deq.chunk_cap\n",
    "        \n",
    "    deq.map[i_map][i_chunk] = val\n",
    "\n",
    "    deq.map_debut = i_map\n",
    "    deq.chunk_debut = i_chunk\n",
    "    deq.taille += 1\n",
    "    \n",
    "DeQue.appendleft = inserer_en_tete"
   ]
  },
  {
   "cell_type": "markdown",
   "metadata": {
    "slideshow": {
     "slide_type": "subslide"
    }
   },
   "source": [
    "Observons son effet sur le contenu de la deque"
   ]
  },
  {
   "cell_type": "code",
   "execution_count": 8,
   "metadata": {
    "slideshow": {
     "slide_type": "-"
    }
   },
   "outputs": [
    {
     "name": "stdout",
     "output_type": "stream",
     "text": [
      "cc:8 mc:6 cd:2 md:4 t:26 \n",
      "[0, 2, 4, 6, 8, 10, 12, 14]\n",
      "[16, 18, 20, 22, None, None, None, None]\n",
      "None\n",
      "None\n",
      "[None, None, -14, -13, -12, -11, -10, -9]\n",
      "[-8, -7, -6, -5, -4, -3, -2, -1]\n",
      "\n"
     ]
    }
   ],
   "source": [
    "for i in range(1,15):\n",
    "    D.appendleft(-i)\n",
    "print(D)"
   ]
  },
  {
   "cell_type": "markdown",
   "metadata": {
    "slideshow": {
     "slide_type": "slide"
    }
   },
   "source": [
    "## Suppressions\n",
    "\n",
    "Les méthodes de suppression en queue et en tête suivent le même principe. \n",
    "\n",
    "La suppression en queue est plus simple puisqu'il ne faut modifier que l'attribut `taille`"
   ]
  },
  {
   "cell_type": "code",
   "execution_count": 9,
   "metadata": {
    "slideshow": {
     "slide_type": "-"
    }
   },
   "outputs": [],
   "source": [
    "def supprimer_en_queue(deq):\n",
    "    if deq.taille < 1: raise IndexError()\n",
    "        \n",
    "    i_chunk, i_map = indices_physiques(deq,deq.taille-1)\n",
    "    deq.map[i_map][i_chunk] = None\n",
    "    \n",
    "    deq.taille -= 1\n",
    "    \n",
    "DeQue.pop = supprimer_en_queue"
   ]
  },
  {
   "cell_type": "markdown",
   "metadata": {
    "slideshow": {
     "slide_type": "subslide"
    }
   },
   "source": [
    "Pour la suppression en queue, il faut également modifer les attributs de début de `map` et de `chunk`"
   ]
  },
  {
   "cell_type": "code",
   "execution_count": 10,
   "metadata": {
    "slideshow": {
     "slide_type": "-"
    }
   },
   "outputs": [],
   "source": [
    "def supprimer_en_tete(deq):\n",
    "    if deq.taille < 1: raise IndexError()\n",
    "        \n",
    "    i_chunk, i_map = indices_physiques(deq,0)\n",
    "    deq.map[i_map][i_chunk] = None\n",
    "    \n",
    "    i_chunk, i_map = indices_physiques(deq,1)\n",
    "    deq.map_debut = i_map\n",
    "    deq.chunk_debut = i_chunk\n",
    "    \n",
    "    deq.taille -= 1\n",
    "      \n",
    "DeQue.popleft = supprimer_en_tete"
   ]
  },
  {
   "cell_type": "markdown",
   "metadata": {
    "slideshow": {
     "slide_type": "fragment"
    }
   },
   "source": [
    "Observons leurs effets sur le contenu de la deque"
   ]
  },
  {
   "cell_type": "code",
   "execution_count": 11,
   "metadata": {
    "slideshow": {
     "slide_type": "subslide"
    }
   },
   "outputs": [
    {
     "name": "stdout",
     "output_type": "stream",
     "text": [
      "cc:8 mc:6 cd:2 md:4 t:12 \n",
      "[None, None, None, None, None, None, None, None]\n",
      "[None, None, None, None, None, None, None, None]\n",
      "None\n",
      "None\n",
      "[None, None, -14, -13, -12, -11, -10, -9]\n",
      "[-8, -7, -6, -5, -4, -3, None, None]\n",
      "\n"
     ]
    }
   ],
   "source": [
    "for i in range(14): D.pop()\n",
    "print(D)"
   ]
  },
  {
   "cell_type": "code",
   "execution_count": 12,
   "metadata": {
    "slideshow": {
     "slide_type": "fragment"
    }
   },
   "outputs": [
    {
     "name": "stdout",
     "output_type": "stream",
     "text": [
      "cc:8 mc:6 cd:6 md:4 t:8 \n",
      "[None, None, None, None, None, None, None, None]\n",
      "[None, None, None, None, None, None, None, None]\n",
      "None\n",
      "None\n",
      "[None, None, None, None, None, None, -10, -9]\n",
      "[-8, -7, -6, -5, -4, -3, None, None]\n",
      "\n"
     ]
    }
   ],
   "source": [
    "for i in range(4): D.popleft()\n",
    "print(D)"
   ]
  },
  {
   "cell_type": "markdown",
   "metadata": {
    "slideshow": {
     "slide_type": "slide"
    }
   },
   "source": [
    "## Accès indexé\n",
    "\n",
    "L'accès indexé est immédiat à partir du calcul des indices physiques"
   ]
  },
  {
   "cell_type": "code",
   "execution_count": 13,
   "metadata": {
    "slideshow": {
     "slide_type": "-"
    }
   },
   "outputs": [],
   "source": [
    "def get_item(deq,i):\n",
    "    if i < 0 or i >= deq.taille: raise IndexError()\n",
    "        \n",
    "    i_chunk, i_map = indices_physiques(deq,i)\n",
    "    return deq.map[i_map][i_chunk]\n",
    "DeQue.__getitem__ = get_item"
   ]
  },
  {
   "cell_type": "code",
   "execution_count": 14,
   "metadata": {
    "slideshow": {
     "slide_type": "-"
    }
   },
   "outputs": [],
   "source": [
    "def set_item(deq,i,val):\n",
    "    if i < 0 or i >= deq.taille: raise IndexError()\n",
    "        \n",
    "    i_chunk, i_map = indices_physiques(deq,i)\n",
    "    deq.map[i_map][i_chunk] = val\n",
    "DeQue.__setitem__ = set_item"
   ]
  },
  {
   "cell_type": "code",
   "execution_count": 15,
   "metadata": {
    "slideshow": {
     "slide_type": "subslide"
    }
   },
   "outputs": [
    {
     "name": "stdout",
     "output_type": "stream",
     "text": [
      "D[0] = -10   D[1] = -9    D[2] = -8    D[3] = -7    \n",
      "D[4] = -6    D[5] = -5    D[6] = -4    D[7] = -3    \n"
     ]
    }
   ],
   "source": [
    "for i,v in enumerate(D):\n",
    "    print(\"D[{}] = {}\".format(i,v).ljust(13), end = \"\")\n",
    "    if i % 4 == 3: print()"
   ]
  },
  {
   "cell_type": "markdown",
   "metadata": {
    "slideshow": {
     "slide_type": "slide"
    }
   },
   "source": [
    "## Gestion de la capacité\n",
    "\n",
    "Reste à considérer le point laisser en suspens. Que doit faire la fonction `check_capacite(deq,taille_demandee)` ? \n",
    "\n",
    "* vérifier si la capacité est suffisante. \n",
    "    * début et fin ne doivent pas partage le même chunk\n",
    "    * la capacité réelle est donc `(map_cap - 1) * chunk_cap`\n",
    "    \n",
    "* calculer la nouvelle capacité à allouer. Typiquement en doublant la capacité actuelle de la map.\n",
    "\n",
    "* augmenter la capacité de la map. \n",
    "    * allouer la nouvelle map\n",
    "    * copier les pointeurs vers les chunks en s'assurant de la continuité des chunks courament alloués"
   ]
  },
  {
   "cell_type": "code",
   "execution_count": 16,
   "metadata": {
    "slideshow": {
     "slide_type": "subslide"
    }
   },
   "outputs": [],
   "source": [
    "def check_capacite(deq,taille_demandee):\n",
    "    if taille_demandee <= (deq.map_cap-1) * deq.chunk_cap: \n",
    "        return\n",
    "    \n",
    "    new_map_cap = deq.map_cap * 2 \n",
    "    while (new_map_cap-1)*deq.chunk_cap < taille_demandee:\n",
    "        new_map_cap *= 2\n",
    "        \n",
    "    augmente_map_cap(deq,new_map_cap)  "
   ]
  },
  {
   "cell_type": "code",
   "execution_count": 17,
   "metadata": {
    "slideshow": {
     "slide_type": "fragment"
    }
   },
   "outputs": [],
   "source": [
    "def augmente_map_cap(deq,new_map_cap):\n",
    "    new_map = [None] * new_map_cap\n",
    "    new_debut = new_map_cap-deq.map_cap+deq.map_debut\n",
    "    \n",
    "    new_map[0:deq.map_debut] = deq.map[0:deq.map_debut]\n",
    "    new_map[new_debut:new_map_cap] = \\\n",
    "        deq.map[deq.map_debut:deq.map_cap]\n",
    "\n",
    "    deq.map = new_map\n",
    "    deq.map_cap = new_map_cap\n",
    "    deq.map_debut = new_debut"
   ]
  },
  {
   "cell_type": "code",
   "execution_count": 18,
   "metadata": {
    "slideshow": {
     "slide_type": "subslide"
    }
   },
   "outputs": [
    {
     "name": "stdout",
     "output_type": "stream",
     "text": [
      "cc:8 mc:3 cd:2 md:2 t:16 \n",
      "[1, 2, 5, 10, 17, 26, 37, 50]\n",
      "[65, 82, None, None, None, None, None, None]\n",
      "[None, None, -25, -16, -9, -4, -1, 0]\n",
      "\n"
     ]
    }
   ],
   "source": [
    "D = DeQue(8,3)\n",
    "for i in range(10): D.append(i**2+1)\n",
    "for i in range(6):  D.appendleft(-i**2)\n",
    "print(D)"
   ]
  },
  {
   "cell_type": "code",
   "execution_count": 19,
   "metadata": {
    "slideshow": {
     "slide_type": "fragment"
    }
   },
   "outputs": [
    {
     "name": "stdout",
     "output_type": "stream",
     "text": [
      "cc:8 mc:6 cd:1 md:5 t:17 \n",
      "[1, 2, 5, 10, 17, 26, 37, 50]\n",
      "[65, 82, None, None, None, None, None, None]\n",
      "None\n",
      "None\n",
      "None\n",
      "[None, 42, -25, -16, -9, -4, -1, 0]\n",
      "\n"
     ]
    }
   ],
   "source": [
    "D.appendleft(42)\n",
    "print(D)"
   ]
  },
  {
   "cell_type": "markdown",
   "metadata": {
    "slideshow": {
     "slide_type": "slide"
    }
   },
   "source": [
    "## Complexités \n",
    "\n",
    "Considérons une DeQue avec une capacité de chunk fixée à $C$, dans laquelle on insère $n$ éléments, avec $n >> C$ pour simplifier. Considérons tout d'abord la complexité spatiale.\n",
    "\n",
    "La mémoire requise est de l'ordre de de \n",
    "\n",
    "* $n + C$ éléments pour les chunks\n",
    "* $n/C$ pointeurs pour la map \n",
    "\n",
    "Avec $n >> C$, c'est proche de $n$ éléments en tout. C'est donc  \n",
    "\n",
    "* meilleur qu'un tableau à capacité variable qui utilise une capacité jusqu'à $2 n$\n",
    "* meilleur qu'une liste doublement chainée qui utilise $n$ éléments et $2 n$ pointeurs"
   ]
  },
  {
   "cell_type": "markdown",
   "metadata": {
    "slideshow": {
     "slide_type": "subslide"
    }
   },
   "source": [
    "Quand la capacité n'est pas modifiée, la complexité temporelle des opérations est constante. Le calcul des indices physiques est plus complexe que pour un tableau, mais n'utilise que \n",
    "\n",
    "* additions\n",
    "* division entière\n",
    "* modulo\n",
    "\n",
    "en prenant une capacité de chunk exponentielle de 2, divisions et modulo s'effectuent par shift et masquage bit à bit. "
   ]
  },
  {
   "cell_type": "code",
   "execution_count": 20,
   "metadata": {},
   "outputs": [
    {
     "name": "stdout",
     "output_type": "stream",
     "text": [
      "b = 8 , 2**b = 256 , n = 12345\n",
      "n//(2**b) = 48 == 48 = n>>b\n",
      "n % C = 57 == 57 = n&(2**b - 1) \n"
     ]
    }
   ],
   "source": [
    "b = 8; C = 2**b; n = 12345;\n",
    "print(\"b =\",b,\", 2**b =\",C,\", n =\",n,)\n",
    "print(\"n//(2**b) =\",n//C,\"==\",n>>b,\"= n>>b\")\n",
    "print(\"n % C =\",n % C,\"==\",n&(C-1),\"= n&(2**b - 1) \")"
   ]
  },
  {
   "cell_type": "markdown",
   "metadata": {
    "slideshow": {
     "slide_type": "subslide"
    }
   },
   "source": [
    "Modifier la capacité ne requiert que de réallouer et déplacer la map, pas les chunks. La complexité temporelle est donc en $O(n/C)$, ce qui est $C$ fois mieux que pour un tableau simple. \n",
    "\n",
    "Par contre, l'allocation / initialisation des chunks sera vraisemblablement $O(C)$. \n",
    "\n",
    "En tout, on a dont une complexité $O( C + n/C )$. Pour $n$ donné, le $C$ optimal est donc de l'ordre de $\\sqrt{n}$. "
   ]
  },
  {
   "cell_type": "markdown",
   "metadata": {
    "slideshow": {
     "slide_type": "slide"
    }
   },
   "source": [
    "<table style=\"width: 100%; border: 0px\">\n",
    "<tr style=\"background-color:white; border:0px\">\n",
    "<td style=\"width: 120px; border: 0px\">\n",
    "    <img src=\"https://heig-vd.ch/ResourcePackages/WhiteFox/assets/images/logo-heig-vd.svg\" height=200px align=left >\n",
    "    </td>\n",
    "    <td style=\"vertical-align: middle; border: 0px\" height=200px>\n",
    "    <p style=\"text-align: left\">\n",
    "        <a href=\"https://ocuisenaire.github.io/ASD1-notebooks/\">ASD1 Notebooks on GitHub.io</a>\n",
    " </p>        \n",
    "<p style=\"text-align: left\">\n",
    "© Olivier Cuisenaire, 2018 </p>\n",
    "</td>\n",
    "</tr>\n",
    "</table>"
   ]
  },
  {
   "cell_type": "raw",
   "metadata": {},
   "source": [
    "<style type=\"text/css\">\n",
    ".reveal {\n",
    "font-size: 200%;\n",
    "}</style>"
   ]
  }
 ],
 "metadata": {
  "celltoolbar": "Slideshow",
  "kernelspec": {
   "display_name": "Python 3",
   "language": "python",
   "name": "python3"
  },
  "language_info": {
   "codemirror_mode": {
    "name": "ipython",
    "version": 3
   },
   "file_extension": ".py",
   "mimetype": "text/x-python",
   "name": "python",
   "nbconvert_exporter": "python",
   "pygments_lexer": "ipython3",
   "version": "3.6.5"
  }
 },
 "nbformat": 4,
 "nbformat_minor": 2
}
