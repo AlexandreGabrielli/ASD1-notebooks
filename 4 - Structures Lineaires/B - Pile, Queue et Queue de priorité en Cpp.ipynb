{
 "cells": [
  {
   "cell_type": "markdown",
   "metadata": {
    "slideshow": {
     "slide_type": "slide"
    }
   },
   "source": [
    "# Container adaptors in C++ STL"
   ]
  },
  {
   "cell_type": "markdown",
   "metadata": {
    "slideshow": {
     "slide_type": "slide"
    }
   },
   "source": [
    "La standard template library (STL) met en oeuvre les types de données abstraits vus dans ce chapitre sous forme de *container adaptors*. Ils \n",
    "\n",
    "* utilisent un des *sequence container* vus précédemment pour gérer les éléments\n",
    "* fournissent un interface indépendant du conteneur utilisé\n",
    "\n",
    "La STL en fournit trois\n",
    "\n",
    "| Classe | Description |\n",
    "| :--- | :--- |\n",
    "| [`std::stack<T>`](http://www.cplusplus.com/reference/stack/stack/) <BR> | pile *Last In First Out* |\n",
    "| [`std::queue<T>`](http://www.cplusplus.com/reference/queue/queue/) | queue *First In First Out* |\n",
    "| [`std::priority_queue<T>`](http://www.cplusplus.com/reference/queue/priority_queue/) | queue de priorité |"
   ]
  },
  {
   "cell_type": "markdown",
   "metadata": {
    "slideshow": {
     "slide_type": "slide"
    }
   },
   "source": [
    "## `std::stack<T, Container>`\n",
    "\n",
    "fournit les méthodes essentielles au TDA *Pile*. \n",
    "\n",
    "| Méthode | Description |\n",
    "| :-----  | :----- |\n",
    "| `empty()` | le conteneur est-il vide? |\n",
    "| `size()` | nombre d'éléments |\n",
    "| `push(t)` <BR> `emplace(t)` | ajoute un élément au sommet |\n",
    "| `top()` | **référence** à l'élément au sommet |\n",
    "| `pop()` | supprime l'élément au sommet |\n",
    "\n",
    "Notons que `top()` et `pop()` sont séparés, ce qui permet de donner de bonnes garanties en cas d'exception. "
   ]
  },
  {
   "cell_type": "markdown",
   "metadata": {
    "slideshow": {
     "slide_type": "subslide"
    }
   },
   "source": [
    "En interne, l'adapteur `stack` utilise le type `Container` spécifié en paramètre générique. Par défaut, il utilise `std::deque<T>`. On peut choisir tout conteneur qui fournit les méthodes  \n",
    "\n",
    "* `empty()` , `size()`\n",
    "* `back()` , `push_back(t)` et `pop_back()`\n",
    "\n",
    "On peut donc utiliser soit une classe personalisée, soit les conteneurs \n",
    "\n",
    "* `std::vector<T>`\n",
    "* `std::list<T>`\n",
    "* `std::deque<T>`\n",
    "\n",
    "Bien qu'une liste simplement chainée puisse normalement servir pour mettre en oeuvre une pile, `std::stack<T>` ne permet pas d'utiliser `std::forward_list<T>`, les opérations se faisant du \"mauvais\" côté pour l'adapteur: `front()`"
   ]
  },
  {
   "cell_type": "markdown",
   "metadata": {
    "slideshow": {
     "slide_type": "slide"
    }
   },
   "source": [
    "## `std::queue<T, Container>`\n",
    "\n",
    "fournit les méthodes essentielles au TDA *Queue*. \n",
    "\n",
    "| Méthode | Description |\n",
    "| :-----  | :----- |\n",
    "| `empty()` | le conteneur est-il vide? |\n",
    "| `size()` | nombre d'éléments |\n",
    "| `push(t)` <BR> `emplace(t)` | insère un élément |\n",
    "| `front()` | **référence** au prochain élément |\n",
    "| `back()` | **référence** au dernier élément |\n",
    "| `pop()` | supprime l'élément suivant |\n",
    "\n",
    "Notons que `front()` et `pop()` sont séparés, ce qui permet de donner de bonnes garanties en cas d'exception. "
   ]
  },
  {
   "cell_type": "markdown",
   "metadata": {
    "slideshow": {
     "slide_type": "subslide"
    }
   },
   "source": [
    "En interne, l'adapteur `queue` utilise le type `Container` spécifié en paramètre générique. Par défaut, il utilise `std::deque<T>`. On peut choisir tout conteneur qui fournit les méthodes  \n",
    "\n",
    "* `empty()` , `size()`\n",
    "* `back()` , `push_back(t)` \n",
    "* `front()` , `pop_front()`\n",
    "\n",
    "On peut donc utiliser soit une classe personalisée, soit les conteneurs \n",
    "\n",
    "* `std::list<T>`\n",
    "* `std::deque<T>`\n",
    "\n",
    "Bien qu'une liste simplement chainée qui se souviendrait du maillon de queue pourrait normalement servir pour mettre en oeuvre une queue, `std::forward_list<T>` ne peut-être utilisée puisqu'elle ne fournit aucune méthode du coté `back()`."
   ]
  },
  {
   "cell_type": "markdown",
   "metadata": {
    "slideshow": {
     "slide_type": "slide"
    }
   },
   "source": [
    "## `std::priority_queue<T, Container, Compare>`\n",
    "\n",
    "fournit les méthodes essentielles au TDA *Queue de priorité*. \n",
    "\n",
    "| Méthode | Description |\n",
    "| :-----  | :----- |\n",
    "| `empty()` | le conteneur est-il vide? |\n",
    "| `size()` | nombre d'éléments |\n",
    "| `push(t)` <BR> `emplace(t)` | insère un élément |\n",
    "| `front()` | **référence** à l'élément le plus prioritaire |\n",
    "| `pop()` | supprime l'élément le plus prioritaire |\n",
    "\n",
    "Notons que `front()` et `pop()` sont séparés, ce qui permet de donner de bonnes garanties en cas d'exception. "
   ]
  },
  {
   "cell_type": "markdown",
   "metadata": {
    "slideshow": {
     "slide_type": "subslide"
    }
   },
   "source": [
    "En interne, l'adapteur `priority_queue` utilise le type `Container` spécifié en paramètre générique. Par défaut, il utilise `std::vector<T>`. On peut choisir tout conteneur qui fournit \n",
    "\n",
    "* `empty()` , `size()`\n",
    "* `back()` , `push_back(t)` , `pop_back()`\n",
    "* un *random access iterator*\n",
    "\n",
    "En effet, les données sont organisées sous forme d'un tas (*heap*), ce qui requiert un accès indexé. On peut donc utiliser soit une classe personalisée, soit les conteneurs \n",
    "\n",
    "* `std::vector<T>`\n",
    "* `std::deque<T>`"
   ]
  },
  {
   "cell_type": "markdown",
   "metadata": {
    "slideshow": {
     "slide_type": "slide"
    }
   },
   "source": [
    "<table style=\"width: 100%; border: 0px\">\n",
    "<tr style=\"background-color:white; border:0px\">\n",
    "<td style=\"width: 120px; border: 0px\">\n",
    "    <img src=\"https://heig-vd.ch/ResourcePackages/WhiteFox/assets/images/logo-heig-vd.svg\" height=200px align=left >\n",
    "    </td>\n",
    "    <td style=\"vertical-align: middle; border: 0px\" height=200px>\n",
    "    <p style=\"text-align: left\">\n",
    "        <a href=\"https://ocuisenaire.github.io/ASD1-notebooks/\">ASD1 Notebooks on GitHub.io</a>\n",
    " </p>        \n",
    "<p style=\"text-align: left\">\n",
    "© Olivier Cuisenaire, 2018 </p>\n",
    "</td>\n",
    "</tr>\n",
    "</table>"
   ]
  },
  {
   "cell_type": "raw",
   "metadata": {},
   "source": [
    "<style type=\"text/css\">\n",
    ".reveal {\n",
    "font-size: 200%;\n",
    "}</style>"
   ]
  }
 ],
 "metadata": {
  "celltoolbar": "Slideshow",
  "kernelspec": {
   "display_name": "C++14",
   "language": "C++14",
   "name": "xeus-cling-cpp14"
  },
  "language_info": {
   "codemirror_mode": "text/x-c++src",
   "file_extension": ".cpp",
   "mimetype": "text/x-c++src",
   "name": "c++",
   "version": "-std=c++14"
  }
 },
 "nbformat": 4,
 "nbformat_minor": 2
}
