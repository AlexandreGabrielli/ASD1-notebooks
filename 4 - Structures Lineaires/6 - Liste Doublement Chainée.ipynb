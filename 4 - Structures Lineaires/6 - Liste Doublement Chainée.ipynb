{
 "cells": [
  {
   "cell_type": "code",
   "execution_count": 1,
   "metadata": {},
   "outputs": [],
   "source": [
    "class DNode:\n",
    "    def __init__(self, val):\n",
    "        self.val = val\n",
    "        self.next = None\n",
    "        self.prev = None"
   ]
  },
  {
   "cell_type": "code",
   "execution_count": 5,
   "metadata": {},
   "outputs": [],
   "source": [
    "class DLinkedList(object):\n",
    "    def __init__(self):\n",
    "        self.head = None\n",
    "        self.rear = None\n",
    "        \n",
    "    def push_front(self,val):\n",
    "        if self.head == None:\n",
    "            self.head = self.rear = DNode(val)\n",
    "        else:\n",
    "            node = DNode(val)\n",
    "            node.next = self.head\n",
    "            self.head.prev = node\n",
    "            self.head = node\n",
    "            \n",
    "    def pop_front(self):\n",
    "        if self.head == self.rear:\n",
    "            self.head = self.rear = None\n",
    "        else:\n",
    "            self.head = self.head.next\n",
    "            self.head.prev = None\n",
    "                \n",
    "    def push_back(self,val):\n",
    "        if self.rear == None:\n",
    "            self.head = self.rear = DNode(val)\n",
    "        else:\n",
    "            node = DNode(val)\n",
    "            node.prev = self.rear\n",
    "            self.rear.next = node\n",
    "            self.rear = node\n",
    "    \n",
    "    def pop_back(self):\n",
    "        if self.head == self.rear:\n",
    "            self.head = self.rear = None\n",
    "        else:\n",
    "            self.rear = self.rear.prev\n",
    "            self.rear.next = None\n",
    "            \n",
    "    def traverse(self):\n",
    "        node = self.head\n",
    "        print(\"⌀\",end=\" ← \")\n",
    "        while node != None:\n",
    "            if node.next:\n",
    "                print(node.val, end = \" ⇄ \")    \n",
    "            else:\n",
    "                print(node.val, end = \" → ⌀\") \n",
    "            node = node.next  \n",
    "            \n",
    "    def reverse_traverse(self):\n",
    "        node = self.rear\n",
    "        print(\"⌀\",end=\" ← \")\n",
    "        while node != None:\n",
    "            if node.prev:\n",
    "                print(node.val, end = \" ⇄ \")    \n",
    "            else:\n",
    "                print(node.val, end = \" → ⌀\")\n",
    "            node = node.prev   "
   ]
  },
  {
   "cell_type": "code",
   "execution_count": 6,
   "metadata": {},
   "outputs": [
    {
     "name": "stdout",
     "output_type": "stream",
     "text": [
      "⌀ ← 12 ⇄ 99 ⇄ 37 → ⌀"
     ]
    }
   ],
   "source": [
    "DL = DLinkedList()\n",
    "DL.push_back(12)\n",
    "DL.push_back(99)\n",
    "DL.push_back(37)\n",
    "DL.traverse()"
   ]
  },
  {
   "cell_type": "code",
   "execution_count": 7,
   "metadata": {},
   "outputs": [
    {
     "name": "stdout",
     "output_type": "stream",
     "text": [
      "⌀ ← 37 ⇄ 99 ⇄ 12 → ⌀"
     ]
    }
   ],
   "source": [
    "DL.reverse_traverse()"
   ]
  },
  {
   "cell_type": "code",
   "execution_count": 8,
   "metadata": {},
   "outputs": [
    {
     "name": "stdout",
     "output_type": "stream",
     "text": [
      "⌀ ← 25 ⇄ 12 ⇄ 99 ⇄ 37 → ⌀\n",
      "⌀ ← 37 ⇄ 99 ⇄ 12 ⇄ 25 → ⌀"
     ]
    }
   ],
   "source": [
    "DL.push_front(25)\n",
    "DL.traverse(); print(); DL.reverse_traverse()"
   ]
  },
  {
   "cell_type": "code",
   "execution_count": 9,
   "metadata": {},
   "outputs": [
    {
     "name": "stdout",
     "output_type": "stream",
     "text": [
      "⌀ ← 12 ⇄ 99 ⇄ 37 → ⌀\n",
      "⌀ ← 37 ⇄ 99 ⇄ 12 → ⌀"
     ]
    }
   ],
   "source": [
    "DL.pop_front()\n",
    "DL.traverse(); print(); DL.reverse_traverse()"
   ]
  },
  {
   "cell_type": "code",
   "execution_count": 10,
   "metadata": {},
   "outputs": [
    {
     "name": "stdout",
     "output_type": "stream",
     "text": [
      "⌀ ← 12 ⇄ 99 → ⌀\n",
      "⌀ ← 99 ⇄ 12 → ⌀"
     ]
    }
   ],
   "source": [
    "DL.pop_back()\n",
    "DL.traverse(); print(); DL.reverse_traverse()"
   ]
  },
  {
   "cell_type": "code",
   "execution_count": null,
   "metadata": {},
   "outputs": [],
   "source": []
  }
 ],
 "metadata": {
  "kernelspec": {
   "display_name": "Python 3",
   "language": "python",
   "name": "python3"
  },
  "language_info": {
   "codemirror_mode": {
    "name": "ipython",
    "version": 3
   },
   "file_extension": ".py",
   "mimetype": "text/x-python",
   "name": "python",
   "nbconvert_exporter": "python",
   "pygments_lexer": "ipython3",
   "version": "3.6.5"
  }
 },
 "nbformat": 4,
 "nbformat_minor": 2
}
