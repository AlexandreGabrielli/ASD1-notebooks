{
 "cells": [
  {
   "cell_type": "markdown",
   "metadata": {},
   "source": [
    "# Tableau de capacité fixe"
   ]
  },
  {
   "cell_type": "code",
   "execution_count": 1,
   "metadata": {},
   "outputs": [],
   "source": [
    "class Tableau:   \n",
    "    def __init__(self,capacite):\n",
    "        self.data = [None]*capacite\n",
    "        self.capacite = capacite\n",
    "        self.taille = 0\n",
    "        \n",
    "    def __str__(self):\n",
    "        return \"{0} ({1}/{2})\".format(self.data,self.taille,self.capacite)"
   ]
  },
  {
   "cell_type": "code",
   "execution_count": 2,
   "metadata": {},
   "outputs": [
    {
     "name": "stdout",
     "output_type": "stream",
     "text": [
      "[None, None, None, None, None, None, None, None] (0/8)\n"
     ]
    }
   ],
   "source": [
    "T = Tableau(8)\n",
    "print(T)"
   ]
  },
  {
   "cell_type": "code",
   "execution_count": 3,
   "metadata": {},
   "outputs": [],
   "source": [
    "def insere_en_queue(T,valeur):\n",
    "    if T.taille >= T.capacite:\n",
    "        raise Exception(\"capacité insuffisante\")\n",
    "    T.data[T.taille] = valeur\n",
    "    T.taille += 1"
   ]
  },
  {
   "cell_type": "code",
   "execution_count": 4,
   "metadata": {},
   "outputs": [
    {
     "name": "stdout",
     "output_type": "stream",
     "text": [
      "[0, 1, 2, 3, 4, 5, None, None] (6/8)\n"
     ]
    }
   ],
   "source": [
    "for i in range(6):\n",
    "    insere_en_queue(T,i)\n",
    "print(T)"
   ]
  },
  {
   "cell_type": "code",
   "execution_count": 5,
   "metadata": {},
   "outputs": [],
   "source": [
    "def efface_en_queue(T):\n",
    "    if T.taille <= 0:\n",
    "        raise Exception(\"tableau vide\")\n",
    "    T.taille -= 1\n",
    "    T.data[T.taille] = None\n",
    "   "
   ]
  },
  {
   "cell_type": "code",
   "execution_count": 6,
   "metadata": {},
   "outputs": [
    {
     "name": "stdout",
     "output_type": "stream",
     "text": [
      "[0, 1, 2, 3, 4, None, None, None] (5/8)\n"
     ]
    }
   ],
   "source": [
    "efface_en_queue(T)\n",
    "print(T)"
   ]
  },
  {
   "cell_type": "code",
   "execution_count": 7,
   "metadata": {},
   "outputs": [],
   "source": [
    "def insere(T,index,valeur):\n",
    "    if T.taille >= T.capacite:\n",
    "        raise Exception(\"capacité insuffisante\")\n",
    "    for i in range(T.taille,index,-1):\n",
    "        T.data[i] = T.data[i-1]\n",
    "    T.data[index] = valeur\n",
    "    T.taille += 1"
   ]
  },
  {
   "cell_type": "code",
   "execution_count": 8,
   "metadata": {},
   "outputs": [
    {
     "name": "stdout",
     "output_type": "stream",
     "text": [
      "[0, 1, 4, 2, 3, 4, None, None] (6/8)\n"
     ]
    }
   ],
   "source": [
    "insere(T,2,4)\n",
    "print(T)"
   ]
  },
  {
   "cell_type": "code",
   "execution_count": 9,
   "metadata": {},
   "outputs": [],
   "source": [
    "def efface(T,index):\n",
    "    if index >= T.taille:\n",
    "        raise Exception(\"mauvais insuffisante\")\n",
    "    for i in range(index,T.taille):\n",
    "        T.data[i] = T.data[i+1]\n",
    "    T.taille -= 1\n",
    "    T.data[T.taille] = None"
   ]
  },
  {
   "cell_type": "code",
   "execution_count": 10,
   "metadata": {},
   "outputs": [
    {
     "name": "stdout",
     "output_type": "stream",
     "text": [
      "[0, 1, 4, 3, 4, None, None, None] (5/8)\n"
     ]
    }
   ],
   "source": [
    "efface(T,3)\n",
    "print(T)"
   ]
  },
  {
   "cell_type": "code",
   "execution_count": 11,
   "metadata": {},
   "outputs": [],
   "source": [
    "def insere_en_tete(T,valeur):\n",
    "    insere(T,0,valeur)"
   ]
  },
  {
   "cell_type": "code",
   "execution_count": 12,
   "metadata": {},
   "outputs": [
    {
     "name": "stdout",
     "output_type": "stream",
     "text": [
      "[-1, 0, 1, 4, 3, 4, None, None] (6/8)\n"
     ]
    }
   ],
   "source": [
    "insere_en_tete(T,-1)\n",
    "print(T)"
   ]
  },
  {
   "cell_type": "code",
   "execution_count": 13,
   "metadata": {},
   "outputs": [],
   "source": [
    "def efface_en_tete(T):\n",
    "    efface(T,0)"
   ]
  },
  {
   "cell_type": "code",
   "execution_count": 14,
   "metadata": {},
   "outputs": [
    {
     "name": "stdout",
     "output_type": "stream",
     "text": [
      "[0, 1, 4, 3, 4, None, None, None] (5/8)\n"
     ]
    }
   ],
   "source": [
    "efface_en_tete(T)\n",
    "print(T)"
   ]
  },
  {
   "cell_type": "code",
   "execution_count": 15,
   "metadata": {},
   "outputs": [],
   "source": [
    "def retaille(T,taille,valeur = 0):\n",
    "    if taille >= T.capacite:\n",
    "        raise Exception(\"capacité insuffisante\")\n",
    "    if taille < T.taille:\n",
    "        for i in range(taille,T.taille):\n",
    "            T.data[i] = None\n",
    "    elif taille > T.taille:\n",
    "        for i in range(T.taille,taille):\n",
    "            T.data[i] = valeur\n",
    "    T.taille = taille"
   ]
  },
  {
   "cell_type": "code",
   "execution_count": 16,
   "metadata": {},
   "outputs": [
    {
     "name": "stdout",
     "output_type": "stream",
     "text": [
      "[0, 1, 4, 3, 4, 10, 10, None] (7/8)\n"
     ]
    }
   ],
   "source": [
    "retaille(T,7,10)\n",
    "print(T)"
   ]
  },
  {
   "cell_type": "code",
   "execution_count": 17,
   "metadata": {},
   "outputs": [
    {
     "name": "stdout",
     "output_type": "stream",
     "text": [
      "[0, 1, 4, 3, None, None, None, None] (4/8)\n"
     ]
    }
   ],
   "source": [
    "retaille(T,4)\n",
    "print(T)"
   ]
  }
 ],
 "metadata": {
  "kernelspec": {
   "display_name": "Python 3",
   "language": "python",
   "name": "python3"
  },
  "language_info": {
   "codemirror_mode": {
    "name": "ipython",
    "version": 3
   },
   "file_extension": ".py",
   "mimetype": "text/x-python",
   "name": "python",
   "nbconvert_exporter": "python",
   "pygments_lexer": "ipython3",
   "version": "3.6.5"
  }
 },
 "nbformat": 4,
 "nbformat_minor": 2
}
