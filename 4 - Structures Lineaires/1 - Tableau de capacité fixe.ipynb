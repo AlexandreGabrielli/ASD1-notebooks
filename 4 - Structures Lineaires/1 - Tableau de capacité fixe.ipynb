{
 "cells": [
  {
   "cell_type": "markdown",
   "metadata": {
    "slideshow": {
     "slide_type": "slide"
    }
   },
   "source": [
    "# Tableau de capacité fixe"
   ]
  },
  {
   "cell_type": "markdown",
   "metadata": {
    "slideshow": {
     "slide_type": "-"
    }
   },
   "source": [
    "![Tableau de capacité fixe](include/tab2.png)"
   ]
  },
  {
   "cell_type": "markdown",
   "metadata": {
    "slideshow": {
     "slide_type": "notes"
    }
   },
   "source": [
    "On étend la notion de tableau en distinguant les notions de \n",
    "\n",
    "* **capacité**, i.e. le nombre d'éléments stockables dans la mémoire allouée\n",
    "* **taille**, i.e. le nombre d'éléments réellement stockés"
   ]
  },
  {
   "cell_type": "markdown",
   "metadata": {
    "slideshow": {
     "slide_type": "notes"
    }
   },
   "source": [
    "Trois attributs sont nécessaires à cette structure \n",
    "\n",
    "* l'addresse *constante* de début des données \n",
    "* la taille *variable*\n",
    "    * soit un entier\n",
    "    * soit l'adresse de fin de mémoire utilisée\n",
    "* la capacité *constante*\n",
    "    * soit un entier\n",
    "    * soit l'adresse de fin de mémoire allouée"
   ]
  },
  {
   "cell_type": "code",
   "execution_count": 1,
   "metadata": {
    "slideshow": {
     "slide_type": "skip"
    }
   },
   "outputs": [],
   "source": [
    "import include.tableau_capacite_fixe as h"
   ]
  },
  {
   "cell_type": "code",
   "execution_count": 2,
   "metadata": {
    "slideshow": {
     "slide_type": "slide"
    }
   },
   "outputs": [],
   "source": [
    "class Tableau:   \n",
    "    def __init__(self,capacite):\n",
    "        \n",
    "        self.data = [None]*capacite\n",
    "        \n",
    "        self.capacite = capacite\n",
    "        \n",
    "        self.taille = 0\n",
    "        \n",
    "# Methodes de tableau de taille fixe\n",
    "    __str__     = h.convertir_en_texte\n",
    "    __len__     = h.taille\n",
    "    __getitem__ = h.lire_valeur\n",
    "    __setitem__ = h.ecrire_valeur"
   ]
  },
  {
   "cell_type": "markdown",
   "metadata": {
    "slideshow": {
     "slide_type": "subslide"
    }
   },
   "source": [
    "La taille variable permet d'ajouter 4 **modificateurs**\n",
    "\n",
    "* `inserer_en_queue` \n",
    "\n",
    "\n",
    "* `supprimer_en_queue`\n",
    "\n",
    "\n",
    "* `inserer_en_position`\n",
    "\n",
    "\n",
    "* `supprimer_en_position`"
   ]
  },
  {
   "cell_type": "markdown",
   "metadata": {
    "slideshow": {
     "slide_type": "subslide"
    }
   },
   "source": [
    "Avant d'insérer, il faut vérifier si la capacité est suffisante pour insérer `n` éléments"
   ]
  },
  {
   "cell_type": "code",
   "execution_count": 3,
   "metadata": {},
   "outputs": [],
   "source": [
    "def capacite_suffisante(T,n = 1):\n",
    "    \n",
    "    return T.taille + n <= T.capacite"
   ]
  },
  {
   "cell_type": "markdown",
   "metadata": {
    "slideshow": {
     "slide_type": "slide"
    }
   },
   "source": [
    "## Insertion en queue\n",
    "\n",
    "* **vérifier** si la capacité est suffisante\n",
    "* **écrire** dans le premier emplacement libre\n",
    "* **incrémenter** la taille "
   ]
  },
  {
   "cell_type": "markdown",
   "metadata": {
    "slideshow": {
     "slide_type": "skip"
    }
   },
   "source": [
    "Comme les indices utilisés sont dans l'intervalle `[0,taille[`, le premier emplacement disponible est donc à l'indice `taille`, avant incrémentation"
   ]
  },
  {
   "cell_type": "code",
   "execution_count": 4,
   "metadata": {
    "slideshow": {
     "slide_type": "fragment"
    }
   },
   "outputs": [],
   "source": [
    "def inserer_en_queue(T,valeur): \n",
    "    if not capacite_suffisante(T):\n",
    "        raise Exception(\"\")\n",
    "        \n",
    "    T.data[T.taille] = valeur\n",
    "    T.taille += 1"
   ]
  },
  {
   "cell_type": "code",
   "execution_count": 5,
   "metadata": {
    "slideshow": {
     "slide_type": "subslide"
    }
   },
   "outputs": [
    {
     "name": "stdout",
     "output_type": "stream",
     "text": [
      "T(0/4): [None, None, None, None]\n",
      "T(1/4): [0, None, None, None]\n",
      "T(2/4): [0, 1, None, None]\n",
      "T(3/4): [0, 1, 2, None]\n",
      "T(4/4): [0, 1, 2, 3]\n",
      "Tableau plein\n"
     ]
    }
   ],
   "source": [
    "T = Tableau(4); print(T)\n",
    "\n",
    "try:\n",
    "    while True:\n",
    "        inserer_en_queue(T,T.taille)\n",
    "        print(T)\n",
    "\n",
    "except Exception: print(\"Tableau plein\")"
   ]
  },
  {
   "cell_type": "markdown",
   "metadata": {
    "slideshow": {
     "slide_type": "slide"
    }
   },
   "source": [
    "## Suppression en queue\n",
    "\n",
    "* **vérifier** que le tableau n'est pas vide\n",
    "* **retirer** l'élément en dernière position\n",
    "* **décrémenter** la taille"
   ]
  },
  {
   "cell_type": "markdown",
   "metadata": {
    "slideshow": {
     "slide_type": "notes"
    }
   },
   "source": [
    "la dernière position est à l'emplacement `taille-1`. La signification exacte de *retirer un élément* dépend du langage et des détails d'implantation. "
   ]
  },
  {
   "cell_type": "code",
   "execution_count": 6,
   "metadata": {
    "slideshow": {
     "slide_type": "fragment"
    }
   },
   "outputs": [],
   "source": [
    "def supprimer_en_queue(T): \n",
    "    if len(T)==0: \n",
    "        raise IndexError(\"\")\n",
    "        \n",
    "    T.taille -= 1\n",
    "    T.data[T.taille] = None"
   ]
  },
  {
   "cell_type": "code",
   "execution_count": 7,
   "metadata": {
    "slideshow": {
     "slide_type": "subslide"
    }
   },
   "outputs": [
    {
     "name": "stdout",
     "output_type": "stream",
     "text": [
      "T(4/4): [0, 1, 4, 9]\n",
      "T(3/4): [0, 1, 4, None]\n",
      "T(2/4): [0, 1, None, None]\n",
      "T(1/4): [0, None, None, None]\n",
      "T(0/4): [None, None, None, None]\n",
      "Tableau vide\n"
     ]
    }
   ],
   "source": [
    "T = Tableau(4)\n",
    "for i in range(4):\n",
    "    inserer_en_queue(T,i*i)\n",
    "print(T)\n",
    "\n",
    "try:\n",
    "    while True:\n",
    "        supprimer_en_queue(T); \n",
    "        print(T)\n",
    "except IndexError: print(\"Tableau vide\")"
   ]
  },
  {
   "cell_type": "markdown",
   "metadata": {
    "slideshow": {
     "slide_type": "slide"
    }
   },
   "source": [
    "## Suppression à l'indice `i`\n",
    "\n",
    "* **vérifier** si l'indice est valide  \n",
    "* **déplacer** vers la gauche les éléments suivants \n",
    "* **décrémenter** la taille\n",
    "\n",
    "Et selon le language de programmation, détruire l'élément excédentaire. "
   ]
  },
  {
   "cell_type": "markdown",
   "metadata": {
    "slideshow": {
     "slide_type": "subslide"
    }
   },
   "source": [
    "![](include/sup1.png)"
   ]
  },
  {
   "cell_type": "markdown",
   "metadata": {
    "slideshow": {
     "slide_type": "subslide"
    }
   },
   "source": [
    "![](include/sup2.png)"
   ]
  },
  {
   "cell_type": "markdown",
   "metadata": {
    "slideshow": {
     "slide_type": "subslide"
    }
   },
   "source": [
    "![](include/sup3.png)"
   ]
  },
  {
   "cell_type": "markdown",
   "metadata": {
    "slideshow": {
     "slide_type": "skip"
    }
   },
   "source": [
    "Pour rappel,  "
   ]
  },
  {
   "cell_type": "code",
   "execution_count": 8,
   "metadata": {
    "slideshow": {
     "slide_type": "subslide"
    }
   },
   "outputs": [],
   "source": [
    "def indice_valide(T,indice):\n",
    "    \n",
    "    return indice >= 0 and indice < T.taille"
   ]
  },
  {
   "cell_type": "markdown",
   "metadata": {
    "slideshow": {
     "slide_type": "skip"
    }
   },
   "source": [
    "Il n'est pas nécessaire de vérifier si le tableau est vide. Un tableau vide n'a pas de position valide. "
   ]
  },
  {
   "cell_type": "code",
   "execution_count": 9,
   "metadata": {
    "slideshow": {
     "slide_type": "-"
    }
   },
   "outputs": [],
   "source": [
    "def supprimer_en_position(T,ind):\n",
    "    if not indice_valide(T,ind):\n",
    "        raise IndexError(\"\")\n",
    "    \n",
    "    for i in range(ind,T.taille-1):\n",
    "        T.data[i] = T.data[i+1]\n",
    "        \n",
    "    T.taille -= 1\n",
    "    \n",
    "    T.data[T.taille] = None"
   ]
  },
  {
   "cell_type": "code",
   "execution_count": 25,
   "metadata": {
    "slideshow": {
     "slide_type": "subslide"
    }
   },
   "outputs": [
    {
     "name": "stdout",
     "output_type": "stream",
     "text": [
      "T(5/5): [0, 1, 4, 9, 16]\n",
      "T(4/5): [0, 4, 9, 16, None]\n",
      "T(3/5): [0, 4, 16, None, None]\n",
      "Indice invalide\n"
     ]
    }
   ],
   "source": [
    "T = Tableau(5)\n",
    "for i in range(5): inserer_en_queue(T,i*i)\n",
    "print(T)\n",
    "\n",
    "try:\n",
    "    supprimer_en_position(T,1); print(T)\n",
    "    supprimer_en_position(T,2); print(T)\n",
    "    supprimer_en_position(T,3); print(T)\n",
    "    \n",
    "except IndexError: print(\"Indice invalide\")"
   ]
  },
  {
   "cell_type": "markdown",
   "metadata": {
    "slideshow": {
     "slide_type": "slide"
    }
   },
   "source": [
    "## Insertion à l'indice `i`\n",
    "\n",
    "* **vérifier** si la capacité est suffisante\n",
    "* **vérifier** si la position est valide\n",
    "* **libérer** l'emplacement demandé\n",
    "* **écrire** dans l'emplacement libéré\n",
    "* **incrémenter** la taille"
   ]
  },
  {
   "cell_type": "markdown",
   "metadata": {
    "slideshow": {
     "slide_type": "subslide"
    }
   },
   "source": [
    "![](include/ins1.png)"
   ]
  },
  {
   "cell_type": "markdown",
   "metadata": {
    "slideshow": {
     "slide_type": "subslide"
    }
   },
   "source": [
    "![](include/ins2.png)"
   ]
  },
  {
   "cell_type": "markdown",
   "metadata": {
    "slideshow": {
     "slide_type": "subslide"
    }
   },
   "source": [
    "![](include/ins3.png)"
   ]
  },
  {
   "cell_type": "markdown",
   "metadata": {
    "slideshow": {
     "slide_type": "skip"
    }
   },
   "source": [
    "On peut insérer \n",
    "\n",
    "* de devant le premier élément (`i == 0`)\n",
    "\n",
    "\n",
    "* à derrière le dernier (`i == taille`) "
   ]
  },
  {
   "cell_type": "markdown",
   "metadata": {
    "slideshow": {
     "slide_type": "skip"
    }
   },
   "source": [
    "L'intervalle des positions d'insertion valides est donc plus grand de un que l'intervalle des indices valides. Il faut donc écrire une fonction de vérification distincte. "
   ]
  },
  {
   "cell_type": "code",
   "execution_count": 11,
   "metadata": {
    "slideshow": {
     "slide_type": "subslide"
    }
   },
   "outputs": [],
   "source": [
    "def indice_insertion_valide(T,indice):\n",
    "    return indice >= 0 and indice <= T.taille "
   ]
  },
  {
   "cell_type": "markdown",
   "metadata": {
    "slideshow": {
     "slide_type": "skip"
    }
   },
   "source": [
    "Ensuite, il faut déplacer les éléments de l'indice demandé à la fin de une position vers la droite. "
   ]
  },
  {
   "cell_type": "code",
   "execution_count": 12,
   "metadata": {
    "slideshow": {
     "slide_type": "-"
    }
   },
   "outputs": [],
   "source": [
    "def inserer_en_position(T,indice,valeur):\n",
    "    if not capacite_suffisante(T): \n",
    "        raise Exception(\"\")\n",
    "    if not indice_insertion_valide(T,indice):\n",
    "        raise IndexError(\"\")\n",
    "    \n",
    "    for i in range(T.taille,indice,-1):\n",
    "        T.data[i] = T.data[i-1]\n",
    "        \n",
    "    T.data[indice] = valeur\n",
    "    \n",
    "    T.taille += 1"
   ]
  },
  {
   "cell_type": "code",
   "execution_count": 13,
   "metadata": {
    "slideshow": {
     "slide_type": "subslide"
    }
   },
   "outputs": [
    {
     "name": "stdout",
     "output_type": "stream",
     "text": [
      "T(1/5): [1, None, None, None, None]\n",
      "T(2/5): [2, 1, None, None, None]\n",
      "T(3/5): [2, 1, 3, None, None]\n",
      "T(4/5): [2, 4, 1, 3, None]\n",
      "Indice invalide\n"
     ]
    }
   ],
   "source": [
    "try:\n",
    "    T = Tableau(5)\n",
    "    inserer_en_position(T,0,1); print(T)\n",
    "    inserer_en_position(T,0,2); print(T)\n",
    "    inserer_en_position(T,2,3); print(T)\n",
    "    inserer_en_position(T,1,4); print(T)\n",
    "    inserer_en_position(T,5,5); print(T)\n",
    "except IndexError: print(\"Indice invalide\")"
   ]
  },
  {
   "cell_type": "code",
   "execution_count": 14,
   "metadata": {
    "slideshow": {
     "slide_type": "subslide"
    }
   },
   "outputs": [
    {
     "name": "stdout",
     "output_type": "stream",
     "text": [
      "T(5/5): [2, 6, 4, 1, 3]\n",
      "Tableau plein\n"
     ]
    }
   ],
   "source": [
    "try: \n",
    "    while True:\n",
    "        inserer_en_position(T,1,6)\n",
    "        print(T)\n",
    "        \n",
    "except Exception: print(\"Tableau plein\")"
   ]
  },
  {
   "cell_type": "markdown",
   "metadata": {
    "slideshow": {
     "slide_type": "slide"
    }
   },
   "source": [
    "## Opérations en tête"
   ]
  },
  {
   "cell_type": "markdown",
   "metadata": {
    "slideshow": {
     "slide_type": "skip"
    }
   },
   "source": [
    "Il n'y a pas de raison de mettre en oeuvre les insertions et suppressions en tête séparément. \n",
    "\n",
    "Il suffit d'insérer ou supprimer en position 0. "
   ]
  },
  {
   "cell_type": "code",
   "execution_count": 15,
   "metadata": {},
   "outputs": [],
   "source": [
    "def inserer_en_tete(T,valeur):\n",
    "    \n",
    "    inserer_en_position(T,0,valeur)"
   ]
  },
  {
   "cell_type": "code",
   "execution_count": 16,
   "metadata": {},
   "outputs": [],
   "source": [
    "def supprimer_en_tete(T):\n",
    "    \n",
    "    supprimer_en_position(T,0)"
   ]
  },
  {
   "cell_type": "markdown",
   "metadata": {
    "slideshow": {
     "slide_type": "slide"
    }
   },
   "source": [
    "## Complexités\n",
    "\n",
    "* Opérations en queue: $\\Theta(1)$\n",
    "\n",
    "\n",
    "* Opérations en position quelconque: $\\Theta(m)$ avec $m$ la distance entre la position d'insertion et la taille. \n",
    "\n",
    "\n",
    "Insérer loin de la queue est donc très inefficace"
   ]
  },
  {
   "cell_type": "markdown",
   "metadata": {
    "slideshow": {
     "slide_type": "slide"
    }
   },
   "source": [
    "## En C++\n",
    "\n",
    "Ces opération s'appèlent `push_back`, `pop_back`, `insert` et `erase`. \n",
    "\n",
    "## En python\n",
    "\n",
    "Ces opérations s'appelent `append`, `insert` et `pop`. Cette dernière a pour valeur par défaut la queue du tableau"
   ]
  },
  {
   "cell_type": "code",
   "execution_count": 17,
   "metadata": {
    "slideshow": {
     "slide_type": "skip"
    }
   },
   "outputs": [],
   "source": [
    "class Tableau:   \n",
    "    def __init__(self,capacite):\n",
    "        self.data = [None]*capacite\n",
    "        self.capacite = capacite\n",
    "        self.taille = 0\n",
    "        \n",
    "# Methodes de tableau de taille fixe\n",
    "    __str__ = h.convertir_en_texte\n",
    "    __len__ = h.taille\n",
    "    __get__ = h.lire_valeur\n",
    "    __set__ = h.ecrire_valeur\n",
    "    \n",
    "# Nouvelles méthodes\n",
    "    append  = inserer_en_queue\n",
    "    insert  = inserer_en_position\n",
    "    pop     = supprimer_en_position"
   ]
  },
  {
   "cell_type": "markdown",
   "metadata": {
    "slideshow": {
     "slide_type": "skip"
    }
   },
   "source": [
    "Observons le comportement de cette classe"
   ]
  },
  {
   "cell_type": "code",
   "execution_count": 18,
   "metadata": {
    "slideshow": {
     "slide_type": "skip"
    }
   },
   "outputs": [
    {
     "name": "stdout",
     "output_type": "stream",
     "text": [
      "T(0/8): [None, None, None, None, None, None, None, None]\n",
      "T(1/8): [0, None, None, None, None, None, None, None]\n",
      "T(2/8): [0, 1, None, None, None, None, None, None]\n",
      "T(3/8): [0, 1, 2, None, None, None, None, None]\n",
      "T(4/8): [0, 1, 2, 3, None, None, None, None]\n",
      "T(5/8): [0, 1, 2, 3, 4, None, None, None]\n",
      "T(4/8): [0, 1, 3, 4, None, None, None, None]\n",
      "T(5/8): [0, 1, 3, 42, 4, None, None, None]\n"
     ]
    }
   ],
   "source": [
    "T = Tableau(8); print(T)\n",
    "\n",
    "for i in range(5):\n",
    "    T.append(i); print(T)\n",
    "\n",
    "T.pop(2); print(T)\n",
    "\n",
    "T.insert(3,42); print(T)"
   ]
  },
  {
   "cell_type": "markdown",
   "metadata": {
    "slideshow": {
     "slide_type": "skip"
    }
   },
   "source": [
    "Il est similaire au comportement du type natif `list` de python."
   ]
  },
  {
   "cell_type": "code",
   "execution_count": 19,
   "metadata": {
    "slideshow": {
     "slide_type": "subslide"
    }
   },
   "outputs": [
    {
     "name": "stdout",
     "output_type": "stream",
     "text": [
      "[1, 3, 5, 7, 9]\n",
      "[1, 3, 5, 7, 9, 11]\n",
      "[1, 3, 7, 9, 11]\n",
      "[1, 3, 7, 42, 9, 11]\n",
      "[1, 3, 7, 42, 9]\n"
     ]
    }
   ],
   "source": [
    "T = [ 1, 3, 5, 7, 9 ]; print(T)\n",
    "\n",
    "T.append(11); print(T)\n",
    "\n",
    "T.pop(2); print(T)\n",
    "\n",
    "T.insert(3,42); print(T)\n",
    "\n",
    "T.pop(); print(T)"
   ]
  },
  {
   "cell_type": "markdown",
   "metadata": {
    "slideshow": {
     "slide_type": "skip"
    }
   },
   "source": [
    "## Redimensionner\n"
   ]
  },
  {
   "cell_type": "code",
   "execution_count": 20,
   "metadata": {
    "slideshow": {
     "slide_type": "skip"
    }
   },
   "outputs": [],
   "source": [
    "def redimensionner(T,taille_demandee,valeur = 0): \n",
    "    \n",
    "    if taille_demandee < T.taille:\n",
    "        for i in range(taille_demandee,T.taille):\n",
    "            T.data[i] = None  \n",
    "            \n",
    "    elif taille_demandee > T.taille:\n",
    "        if taille_demandee > T.capacite:\n",
    "            raise Exception(\"\")       \n",
    "        for i in range(T.taille,taille_demandee):\n",
    "            T.data[i] = valeur\n",
    "            \n",
    "    else: pass # la taille ne change pas\n",
    "    \n",
    "    T.taille = taille_demandee"
   ]
  },
  {
   "cell_type": "code",
   "execution_count": 21,
   "metadata": {
    "slideshow": {
     "slide_type": "skip"
    }
   },
   "outputs": [
    {
     "name": "stdout",
     "output_type": "stream",
     "text": [
      "T(5/8): [0, 1, 4, 9, 16, None, None, None]\n"
     ]
    }
   ],
   "source": [
    "T = Tableau(8)\n",
    "for i in range(5): T.append(i*i)\n",
    "print(T)\n"
   ]
  },
  {
   "cell_type": "code",
   "execution_count": 22,
   "metadata": {
    "slideshow": {
     "slide_type": "skip"
    }
   },
   "outputs": [
    {
     "name": "stdout",
     "output_type": "stream",
     "text": [
      "T(7/8): [0, 1, 4, 9, 16, 10, 10, None]\n"
     ]
    }
   ],
   "source": [
    "redimensionner(T,7,10)    \n",
    "print(T)"
   ]
  },
  {
   "cell_type": "code",
   "execution_count": 23,
   "metadata": {
    "slideshow": {
     "slide_type": "skip"
    }
   },
   "outputs": [
    {
     "name": "stdout",
     "output_type": "stream",
     "text": [
      "T(3/8): [0, 1, 4, None, None, None, None, None]\n"
     ]
    }
   ],
   "source": [
    "redimensionner(T,3)\n",
    "print(T)"
   ]
  },
  {
   "cell_type": "markdown",
   "metadata": {
    "slideshow": {
     "slide_type": "slide"
    }
   },
   "source": [
    "<table style=\"width: 100%; border: 0px\">\n",
    "<tr style=\"background-color:white; border:0px\">\n",
    "<td style=\"width: 120px; border: 0px\">\n",
    "    <img src=\"https://heig-vd.ch/ResourcePackages/WhiteFox/assets/images/logo-heig-vd.svg\" height=200px align=left >\n",
    "    </td>\n",
    "    <td style=\"vertical-align: middle; border: 0px\" height=200px>\n",
    "    <p style=\"text-align: left\">\n",
    "        <a href=\"https://ocuisenaire.github.io/ASD1-notebooks/\">ASD1 Notebooks on GitHub.io</a>\n",
    " </p>        \n",
    "<p style=\"text-align: left\">\n",
    "© Olivier Cuisenaire, 2018 </p>\n",
    "</td>\n",
    "</tr>\n",
    "</table>"
   ]
  }
 ],
 "metadata": {
  "celltoolbar": "Slideshow",
  "kernelspec": {
   "display_name": "Python 3",
   "language": "python",
   "name": "python3"
  },
  "language_info": {
   "codemirror_mode": {
    "name": "ipython",
    "version": 3
   },
   "file_extension": ".py",
   "mimetype": "text/x-python",
   "name": "python",
   "nbconvert_exporter": "python",
   "pygments_lexer": "ipython3",
   "version": "3.6.5"
  }
 },
 "nbformat": 4,
 "nbformat_minor": 2
}
