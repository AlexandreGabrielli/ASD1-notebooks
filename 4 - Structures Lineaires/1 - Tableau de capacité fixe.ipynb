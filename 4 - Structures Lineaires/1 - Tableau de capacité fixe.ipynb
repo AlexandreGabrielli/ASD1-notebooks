{
 "cells": [
  {
   "cell_type": "markdown",
   "metadata": {},
   "source": [
    "# Tableau de capacité fixe"
   ]
  },
  {
   "cell_type": "code",
   "execution_count": 1,
   "metadata": {},
   "outputs": [],
   "source": [
    "import include.tableau_capacite_fixe as h"
   ]
  },
  {
   "cell_type": "code",
   "execution_count": 2,
   "metadata": {},
   "outputs": [],
   "source": [
    "class Tableau:   \n",
    "    def __init__(self,capacite):\n",
    "        self.data = [None]*capacite\n",
    "        self.capacite = capacite\n",
    "        self.taille = 0\n",
    "        \n",
    "# Methodes de tableau de taille fixe\n",
    "    __str__ = h.convertir_en_texte\n",
    "    __len__ = h.taille\n",
    "    __get__ = h.lire_valeur_indice\n",
    "    __set__ = h.ecrire_valeur_indice\n",
    "    \n",
    "# Nouvelles méthodes\n",
    "    append  = h.inserer_en_queue\n",
    "    insert  = h.inserer_en_position\n",
    "    pop     = h.supprimer_en_position"
   ]
  },
  {
   "cell_type": "code",
   "execution_count": 3,
   "metadata": {},
   "outputs": [
    {
     "name": "stdout",
     "output_type": "stream",
     "text": [
      "T(0/8): [None, None, None, None, None, None, None, None]\n",
      "T(5/8): [0, 1, 2, 3, 4, None, None, None]\n",
      "T(4/8): [0, 1, 2, 3, None, None, None, None]\n",
      "T(5/8): [0, 1, 2, 42, 3, None, None, None]\n"
     ]
    }
   ],
   "source": [
    "T = Tableau(8)\n",
    "print(T)\n",
    "\n",
    "for i in range(5): T.append(i)\n",
    "print(T)\n",
    "\n",
    "T.pop()\n",
    "print(T)\n",
    "\n",
    "T.insert(3,42)\n",
    "print(T)"
   ]
  },
  {
   "cell_type": "code",
   "execution_count": 4,
   "metadata": {},
   "outputs": [],
   "source": [
    "def calculer_indice(T,indice):\n",
    "    return indice if indice >= 0 else indice + T.taille\n",
    "\n",
    "def verifier_indice(T,indice):\n",
    "    if indice < 0 or indice >= T.taille: \n",
    "        raise IndexError(\"\")\n",
    "\n",
    "def verifier_indice_insertion(T,indice):\n",
    "    if indice < 0 or indice > T.taille: \n",
    "        raise IndexError(\"\")\n",
    "        \n",
    "def verifier_place_disponible(T,besoin = 1):\n",
    "    if T.taille + besoin > T.capacite:\n",
    "        raise Exception(\"capacité insuffisante\")"
   ]
  },
  {
   "cell_type": "code",
   "execution_count": 5,
   "metadata": {},
   "outputs": [],
   "source": [
    "try: verifier_indice_insertion(T,1) \n",
    "except(IndexError): print(\"bad index\") "
   ]
  },
  {
   "cell_type": "code",
   "execution_count": 6,
   "metadata": {},
   "outputs": [],
   "source": [
    "def inserer_en_queue(T,valeur): \n",
    "    verifier_place_disponible(T)\n",
    "    T.data[T.taille] = valeur\n",
    "    T.taille += 1\n",
    "\n",
    "Tableau.append = inserer_en_queue"
   ]
  },
  {
   "cell_type": "code",
   "execution_count": 7,
   "metadata": {},
   "outputs": [],
   "source": [
    "def supprimer_en_queue(T):\n",
    "    verifier_indice(T,0)\n",
    "    T.taille -= 1\n",
    "    T.data[T.taille] = None\n",
    "   "
   ]
  },
  {
   "cell_type": "code",
   "execution_count": 8,
   "metadata": {},
   "outputs": [
    {
     "name": "stdout",
     "output_type": "stream",
     "text": [
      "T(4/8): [0, 1, 2, 42, None, None, None, None]\n"
     ]
    }
   ],
   "source": [
    "supprimer_en_queue(T)\n",
    "print(T)"
   ]
  },
  {
   "cell_type": "code",
   "execution_count": 9,
   "metadata": {},
   "outputs": [],
   "source": [
    "def inserer_en_position(T,indice,valeur):\n",
    "    indice = calculer_indice(T,indice)\n",
    "    verifier_indice_insertion(T,indice)\n",
    "    \n",
    "    for i in range(T.taille,indice,-1):\n",
    "        T.data[i] = T.data[i-1]\n",
    "    T.data[indice] = valeur\n",
    "    T.taille += 1"
   ]
  },
  {
   "cell_type": "code",
   "execution_count": 10,
   "metadata": {},
   "outputs": [
    {
     "name": "stdout",
     "output_type": "stream",
     "text": [
      "T(5/8): [0, 1, 4, 2, 42, None, None, None]\n"
     ]
    }
   ],
   "source": [
    "inserer_en_position(T,2,4)\n",
    "print(T)"
   ]
  },
  {
   "cell_type": "code",
   "execution_count": 11,
   "metadata": {},
   "outputs": [],
   "source": [
    "def supprimer_en_position(T,ind):\n",
    "    ind = calculer_indice(T,ind)\n",
    "    verifier_indice(T,ind)\n",
    "    \n",
    "    for i in range(ind,T.taille):\n",
    "        T.data[i] = T.data[i+1]\n",
    "    T.taille -= 1\n",
    "    T.data[T.taille] = None"
   ]
  },
  {
   "cell_type": "code",
   "execution_count": 12,
   "metadata": {},
   "outputs": [
    {
     "name": "stdout",
     "output_type": "stream",
     "text": [
      "T(4/8): [0, 1, 4, 42, None, None, None, None]\n"
     ]
    }
   ],
   "source": [
    "supprimer_en_position(T,3)\n",
    "print(T)"
   ]
  },
  {
   "cell_type": "code",
   "execution_count": 13,
   "metadata": {},
   "outputs": [],
   "source": [
    "def inserer_en_tete(T,valeur):\n",
    "    inserer_en_position(T,0,valeur)"
   ]
  },
  {
   "cell_type": "code",
   "execution_count": 14,
   "metadata": {},
   "outputs": [
    {
     "name": "stdout",
     "output_type": "stream",
     "text": [
      "T(5/8): [-1, 0, 1, 4, 42, None, None, None]\n"
     ]
    }
   ],
   "source": [
    "inserer_en_tete(T,-1)\n",
    "print(T)"
   ]
  },
  {
   "cell_type": "code",
   "execution_count": 15,
   "metadata": {},
   "outputs": [],
   "source": [
    "def supprimer_en_tete(T):\n",
    "    supprimer_en_position(T,0)"
   ]
  },
  {
   "cell_type": "code",
   "execution_count": 16,
   "metadata": {},
   "outputs": [
    {
     "name": "stdout",
     "output_type": "stream",
     "text": [
      "T(4/8): [0, 1, 4, 42, None, None, None, None]\n"
     ]
    }
   ],
   "source": [
    "supprimer_en_tete(T)\n",
    "print(T)"
   ]
  },
  {
   "cell_type": "code",
   "execution_count": 17,
   "metadata": {},
   "outputs": [],
   "source": [
    "def redimensionner(T,taille,valeur = 0):\n",
    "    if taille >= T.capacite:\n",
    "        raise Exception(\"capacité insuffisante\")\n",
    "    if taille < T.taille:\n",
    "        for i in range(taille,T.taille):\n",
    "            T.data[i] = None\n",
    "    elif taille > T.taille:\n",
    "        for i in range(T.taille,taille):\n",
    "            T.data[i] = valeur\n",
    "    T.taille = taille"
   ]
  },
  {
   "cell_type": "code",
   "execution_count": 18,
   "metadata": {},
   "outputs": [
    {
     "name": "stdout",
     "output_type": "stream",
     "text": [
      "T(7/8): [0, 1, 4, 42, 10, 10, 10, None]\n"
     ]
    }
   ],
   "source": [
    "redimensionner(T,7,10)\n",
    "print(T)"
   ]
  },
  {
   "cell_type": "code",
   "execution_count": 19,
   "metadata": {},
   "outputs": [
    {
     "name": "stdout",
     "output_type": "stream",
     "text": [
      "T(3/8): [0, 1, 4, None, None, None, None, None]\n"
     ]
    }
   ],
   "source": [
    "redimensionner(T,3)\n",
    "print(T)"
   ]
  },
  {
   "cell_type": "code",
   "execution_count": null,
   "metadata": {},
   "outputs": [],
   "source": []
  }
 ],
 "metadata": {
  "kernelspec": {
   "display_name": "Python 3",
   "language": "python",
   "name": "python3"
  },
  "language_info": {
   "codemirror_mode": {
    "name": "ipython",
    "version": 3
   },
   "file_extension": ".py",
   "mimetype": "text/x-python",
   "name": "python",
   "nbconvert_exporter": "python",
   "pygments_lexer": "ipython3",
   "version": "3.6.5"
  }
 },
 "nbformat": 4,
 "nbformat_minor": 2
}
