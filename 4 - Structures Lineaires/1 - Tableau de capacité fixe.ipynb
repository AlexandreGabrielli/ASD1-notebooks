{
 "cells": [
  {
   "cell_type": "markdown",
   "metadata": {
    "slideshow": {
     "slide_type": "slide"
    }
   },
   "source": [
    "# Tableau de capacité fixe"
   ]
  },
  {
   "cell_type": "markdown",
   "metadata": {
    "slideshow": {
     "slide_type": "slide"
    }
   },
   "source": [
    "On étend la notion de tableau en distinguant les notions de \n",
    "\n",
    "* **capacité**, i.e. le nombre d'éléments stockables dans la mémoire allouée\n",
    "* **taille**, i.e. le nombre d'éléments réellement stockés"
   ]
  },
  {
   "cell_type": "markdown",
   "metadata": {
    "slideshow": {
     "slide_type": "fragment"
    }
   },
   "source": [
    "Trois attributs sont nécessaires à cette structure \n",
    "\n",
    "* l'addresse *constante* de début des données \n",
    "* la taille *variable*\n",
    "    * soit un entier\n",
    "    * soit l'adresse de fin de mémoire utilisée\n",
    "* la capacité *constante*\n",
    "    * soit un entier\n",
    "    * soit l'adresse de fin de mémoire allouée"
   ]
  },
  {
   "cell_type": "code",
   "execution_count": 1,
   "metadata": {
    "slideshow": {
     "slide_type": "skip"
    }
   },
   "outputs": [],
   "source": [
    "import include.tableau_capacite_fixe as h"
   ]
  },
  {
   "cell_type": "code",
   "execution_count": 2,
   "metadata": {
    "slideshow": {
     "slide_type": "subslide"
    }
   },
   "outputs": [],
   "source": [
    "class Tableau:   \n",
    "    def __init__(self,capacite):\n",
    "        self.data = [None]*capacite\n",
    "        self.capacite = capacite\n",
    "        self.taille = 0\n",
    "        \n",
    "# Methodes de tableau de taille fixe\n",
    "    __str__     = h.convertir_en_texte\n",
    "    __len__     = h.taille\n",
    "    __getitem__ = h.lire_valeur_indice\n",
    "    __setitem__ = h.ecrire_valeur_indice"
   ]
  },
  {
   "cell_type": "markdown",
   "metadata": {},
   "source": [
    "![tableau](include/capa_fixe.png)"
   ]
  },
  {
   "cell_type": "markdown",
   "metadata": {
    "slideshow": {
     "slide_type": "slide"
    }
   },
   "source": [
    "La taille variable nous permet d'ajouter quatre nouveaux modificateurs\n",
    "\n",
    "* `inserer_en_queue` \n",
    "* `supprimer_en_queue`\n",
    "* `inserer_en_position`\n",
    "* `supprimer_en_position`\n",
    "\n",
    "qui insèrent et suppriment des éléments. "
   ]
  },
  {
   "cell_type": "markdown",
   "metadata": {
    "slideshow": {
     "slide_type": "subslide"
    }
   },
   "source": [
    "Avant de pouvoir insérer, il faut vérifier si la capacité est suffisante"
   ]
  },
  {
   "cell_type": "code",
   "execution_count": 3,
   "metadata": {},
   "outputs": [],
   "source": [
    "def verifier_place_disponible(T,besoin = 1):\n",
    "    if T.taille + besoin > T.capacite:\n",
    "        raise Exception(\"capacité insuffisante\")"
   ]
  },
  {
   "cell_type": "markdown",
   "metadata": {
    "slideshow": {
     "slide_type": "slide"
    }
   },
   "source": [
    "## Insertion en queue\n",
    "\n",
    "Après avoir vérifier si la capacité le permet, il suffit d'\n",
    "\n",
    "* écrire dans le premier emplacement non utilisé\n",
    "* incrémenter la taille \n",
    "\n",
    "Comme les indices utilisés sont dans l'intervalle `[0,taille[`, le premier emplacement disponible est donc à l'indice `taille`, avant incrémentation"
   ]
  },
  {
   "cell_type": "code",
   "execution_count": 4,
   "metadata": {
    "slideshow": {
     "slide_type": "fragment"
    }
   },
   "outputs": [],
   "source": [
    "def inserer_en_queue(T,valeur): \n",
    "    verifier_place_disponible(T)\n",
    "    T.data[T.taille] = valeur\n",
    "    T.taille += 1"
   ]
  },
  {
   "cell_type": "code",
   "execution_count": 5,
   "metadata": {
    "slideshow": {
     "slide_type": "subslide"
    }
   },
   "outputs": [
    {
     "name": "stdout",
     "output_type": "stream",
     "text": [
      "T(1/4): [0, None, None, None]\n",
      "T(2/4): [0, 1, None, None]\n",
      "T(3/4): [0, 1, 4, None]\n",
      "T(4/4): [0, 1, 4, 9]\n",
      "Tableau plein\n"
     ]
    }
   ],
   "source": [
    "T = Tableau(4)\n",
    "\n",
    "try:\n",
    "    for i in range(10):\n",
    "        inserer_en_queue(T,i*i)\n",
    "        print(T)\n",
    "        \n",
    "except Exception:\n",
    "    print(\"Tableau plein\")"
   ]
  },
  {
   "cell_type": "markdown",
   "metadata": {
    "slideshow": {
     "slide_type": "slide"
    }
   },
   "source": [
    "## Suppression en queue\n",
    "\n",
    "Après avoir vérifié que la queue n'est pas vide, il faut\n",
    "\n",
    "* retirer l'élément en dernière position\n",
    "* décrémenter la taille\n",
    "\n",
    "la dernière position est à l'emplacement `taille-1`. La signification exacte de *retirer un élément* dépend du langage et des détails d'implantation. "
   ]
  },
  {
   "cell_type": "code",
   "execution_count": 6,
   "metadata": {
    "slideshow": {
     "slide_type": "fragment"
    }
   },
   "outputs": [],
   "source": [
    "def supprimer_en_queue(T):\n",
    "    if len(T)==0: raise IndexError(\"\")\n",
    "        \n",
    "    T.taille -= 1\n",
    "    T.data[T.taille] = None"
   ]
  },
  {
   "cell_type": "code",
   "execution_count": 7,
   "metadata": {
    "slideshow": {
     "slide_type": "subslide"
    }
   },
   "outputs": [
    {
     "name": "stdout",
     "output_type": "stream",
     "text": [
      "T(4/4): [0, 1, 4, 9]\n",
      "T(3/4): [0, 1, 4, None]\n",
      "T(2/4): [0, 1, None, None]\n",
      "T(1/4): [0, None, None, None]\n",
      "T(0/4): [None, None, None, None]\n",
      "Tableau vide\n"
     ]
    }
   ],
   "source": [
    "T = Tableau(4)\n",
    "\n",
    "for i in range(4):\n",
    "    inserer_en_queue(T,i*i)\n",
    "print(T)\n",
    "\n",
    "try:\n",
    "    for i in range(10):\n",
    "        supprimer_en_queue(T)\n",
    "        print(T)\n",
    "except IndexError:\n",
    "    print(\"Tableau vide\")"
   ]
  },
  {
   "cell_type": "markdown",
   "metadata": {
    "slideshow": {
     "slide_type": "slide"
    }
   },
   "source": [
    "## Insertion en position quelconque\n",
    "\n",
    "Il faut d'abord vérifier \n",
    "\n",
    "* si la capacité le permet\n",
    "* si la position d'insertion demandée est valide\n",
    "\n",
    "Les positions valables sont dans l'intervalle `[0,taille]`, `taille` y compris. "
   ]
  },
  {
   "cell_type": "code",
   "execution_count": 8,
   "metadata": {
    "slideshow": {
     "slide_type": "fragment"
    }
   },
   "outputs": [],
   "source": [
    "def verifier_indice_insertion(T,indice):\n",
    "    if indice < 0 or indice > T.taille: \n",
    "        raise IndexError(\"\")"
   ]
  },
  {
   "cell_type": "markdown",
   "metadata": {
    "slideshow": {
     "slide_type": "subslide"
    }
   },
   "source": [
    "Ensuite, il faut \n",
    "\n",
    "* libérer l'emplacement demandé en déplaçant vers la droite les éléments de la position demandée à la fin\n",
    "* écrire dans l'emplacement libéré\n",
    "* incrémenter la taille"
   ]
  },
  {
   "cell_type": "code",
   "execution_count": 9,
   "metadata": {
    "slideshow": {
     "slide_type": "fragment"
    }
   },
   "outputs": [],
   "source": [
    "def inserer_en_position(T,indice,valeur):\n",
    "    verifier_place_disponible(T)\n",
    "    verifier_indice_insertion(T,indice)\n",
    "    \n",
    "    for i in range(T.taille,indice,-1):\n",
    "        T.data[i] = T.data[i-1]\n",
    "    T.data[indice] = valeur\n",
    "    T.taille += 1"
   ]
  },
  {
   "cell_type": "code",
   "execution_count": 10,
   "metadata": {
    "slideshow": {
     "slide_type": "subslide"
    }
   },
   "outputs": [
    {
     "name": "stdout",
     "output_type": "stream",
     "text": [
      "T(1/6): [1, None, None, None, None, None]\n",
      "T(2/6): [1, 4, None, None, None, None]\n",
      "T(3/6): [-9, 1, 4, None, None, None]\n",
      "T(4/6): [-16, -9, 1, 4, None, None]\n"
     ]
    }
   ],
   "source": [
    "T = Tableau(6)\n",
    "for i in range(1,3): \n",
    "    inserer_en_position(T,len(T),i**2)\n",
    "    print(T)\n",
    "\n",
    "for i in range(3,5): \n",
    "    inserer_en_position(T,0,-i**2)\n",
    "    print(T)"
   ]
  },
  {
   "cell_type": "code",
   "execution_count": 11,
   "metadata": {
    "slideshow": {
     "slide_type": "subslide"
    }
   },
   "outputs": [
    {
     "name": "stdout",
     "output_type": "stream",
     "text": [
      "Indice erroné\n",
      "T(5/6): [-16, -1, -9, 1, 4, None]\n",
      "T(6/6): [-16, -2, -1, -9, 1, 4]\n",
      "Tableau plein\n"
     ]
    }
   ],
   "source": [
    "try: inserer_en_position(T,5,42)\n",
    "except IndexError: print(\"Indice erroné\")\n",
    "\n",
    "try: \n",
    "    for i in range(1,10):\n",
    "        inserer_en_position(T,1,-i)\n",
    "        print(T)\n",
    "except Exception: print(\"Tableau plein\")"
   ]
  },
  {
   "cell_type": "markdown",
   "metadata": {
    "slideshow": {
     "slide_type": "slide"
    }
   },
   "source": [
    "## Suppression en position quelconque\n",
    "\n",
    "On commence par verifier si la position demandée est valide, i.e. dans l'intervalle `[0,taille[`.  \n",
    "\n",
    "Il n'est pas nécessaire de vérifier si le tableau est vide. Un tableau vide n'a pas de position valide. "
   ]
  },
  {
   "cell_type": "code",
   "execution_count": 12,
   "metadata": {
    "slideshow": {
     "slide_type": "fragment"
    }
   },
   "outputs": [],
   "source": [
    "def verifier_indice(T,indice):\n",
    "    if indice < 0 or indice >= T.taille: \n",
    "        raise IndexError(\"\")"
   ]
  },
  {
   "cell_type": "markdown",
   "metadata": {
    "slideshow": {
     "slide_type": "subslide"
    }
   },
   "source": [
    "Ensuite, il faut \n",
    "\n",
    "* selon le langage, détruire l'élément à supprimer\n",
    "* déplacer vers la gauche les éléments de la position suivante à la fin\n",
    "* selon le langage, libérer le dernier emplacement \n",
    "* décrémenter la taille"
   ]
  },
  {
   "cell_type": "code",
   "execution_count": 13,
   "metadata": {
    "slideshow": {
     "slide_type": "fragment"
    }
   },
   "outputs": [],
   "source": [
    "def supprimer_en_position(T,ind):\n",
    "    verifier_indice(T,ind)\n",
    "    \n",
    "    for i in range(ind,T.taille):\n",
    "        T.data[i] = T.data[i+1]\n",
    "    T.taille -= 1\n",
    "    T.data[T.taille] = None"
   ]
  },
  {
   "cell_type": "code",
   "execution_count": 14,
   "metadata": {
    "slideshow": {
     "slide_type": "subslide"
    }
   },
   "outputs": [
    {
     "name": "stdout",
     "output_type": "stream",
     "text": [
      "T(5/6): [0, 1, 4, 9, 16, None]\n",
      "supprimer(0): T(4/6): [1, 4, 9, 16, None, None]\n",
      "supprimer(2): T(3/6): [1, 4, 16, None, None, None]\n",
      "supprimer(4): Indice erroné\n"
     ]
    }
   ],
   "source": [
    "T = Tableau(6)\n",
    "for i in range(5): \n",
    "    inserer_en_queue(T,i**2)\n",
    "print(T)\n",
    "\n",
    "try:\n",
    "    for i in range(0,6,2):\n",
    "        print(\"supprimer({}\".format(i),end=\"): \")\n",
    "        supprimer_en_position(T,i)\n",
    "        print(T)\n",
    "except IndexError:\n",
    "    print(\"Indice erroné\")"
   ]
  },
  {
   "cell_type": "markdown",
   "metadata": {
    "slideshow": {
     "slide_type": "slide"
    }
   },
   "source": [
    "## Opérations en tête\n",
    "\n",
    "Il n'y a pas de raison de mettre en oeuvre les insertions et suppressions en tête séparément. \n",
    "\n",
    "Il suffit d'insérer ou supprimer en position 0. "
   ]
  },
  {
   "cell_type": "code",
   "execution_count": 15,
   "metadata": {},
   "outputs": [],
   "source": [
    "def inserer_en_tete(T,valeur):\n",
    "    inserer_en_position(T,0,valeur)"
   ]
  },
  {
   "cell_type": "code",
   "execution_count": 16,
   "metadata": {},
   "outputs": [],
   "source": [
    "def supprimer_en_tete(T):\n",
    "    supprimer_en_position(T,0)"
   ]
  },
  {
   "cell_type": "markdown",
   "metadata": {
    "slideshow": {
     "slide_type": "slide"
    }
   },
   "source": [
    "## Complexités\n",
    "\n",
    "Les opérations en queue ont une complexité constante $\\Theta(1)$\n",
    "\n",
    "Les opérations en position quelconque ont une complexité linéaire $\\Theta(m)$ avec $m$ la distance entre la position d'insertion et la taille. \n",
    "\n",
    "Insérer loin de la queue est donc très inefficace"
   ]
  },
  {
   "cell_type": "markdown",
   "metadata": {
    "slideshow": {
     "slide_type": "slide"
    }
   },
   "source": [
    "## En python\n",
    "\n",
    "Ces opérations s'appelent `append`, `insert` et `pop`. Cette dernière méthode a comme valeur par défaut la queue du tableau"
   ]
  },
  {
   "cell_type": "code",
   "execution_count": 17,
   "metadata": {},
   "outputs": [],
   "source": [
    "class Tableau:   \n",
    "    def __init__(self,capacite):\n",
    "        self.data = [None]*capacite\n",
    "        self.capacite = capacite\n",
    "        self.taille = 0\n",
    "        \n",
    "# Methodes de tableau de taille fixe\n",
    "    __str__ = h.convertir_en_texte\n",
    "    __len__ = h.taille\n",
    "    __get__ = h.lire_valeur_indice\n",
    "    __set__ = h.ecrire_valeur_indice\n",
    "    \n",
    "# Nouvelles méthodes\n",
    "    append  = inserer_en_queue\n",
    "    insert  = inserer_en_position\n",
    "    pop     = supprimer_en_position"
   ]
  },
  {
   "cell_type": "code",
   "execution_count": 18,
   "metadata": {
    "slideshow": {
     "slide_type": "subslide"
    }
   },
   "outputs": [
    {
     "name": "stdout",
     "output_type": "stream",
     "text": [
      "T(0/6): [None, None, None, None, None, None]\n",
      "T(5/6): [0, 1, 4, 9, 16, None]\n",
      "T(4/6): [0, 1, 9, 16, None, None]\n",
      "T(5/6): [0, 1, 9, 42, 16, None]\n"
     ]
    }
   ],
   "source": [
    "T = Tableau(6)\n",
    "print(T)\n",
    "\n",
    "for i in range(5): T.append(i*i)\n",
    "print(T)\n",
    "\n",
    "T.pop(2)\n",
    "print(T)\n",
    "\n",
    "T.insert(3,42)\n",
    "print(T)"
   ]
  },
  {
   "cell_type": "markdown",
   "metadata": {
    "slideshow": {
     "slide_type": "slide"
    }
   },
   "source": [
    "## Redimensionner\n"
   ]
  },
  {
   "cell_type": "code",
   "execution_count": 19,
   "metadata": {},
   "outputs": [],
   "source": [
    "def redimensionner(T,taille_demandee,valeur = 0): \n",
    "    \n",
    "    if taille_demandee < T.taille:\n",
    "        for i in range(taille_demandee,T.taille):\n",
    "            T.data[i] = None  \n",
    "            \n",
    "    elif taille_demandee > T.taille:\n",
    "        if taille_demandee > T.capacite:\n",
    "            raise Exception(\"capacité insuffisante\")       \n",
    "        for i in range(T.taille,taille_demandee):\n",
    "            T.data[i] = valeur\n",
    "            \n",
    "    else: pass # la taille ne change pas\n",
    "    \n",
    "    T.taille = taille_demandee"
   ]
  },
  {
   "cell_type": "code",
   "execution_count": 20,
   "metadata": {
    "slideshow": {
     "slide_type": "subslide"
    }
   },
   "outputs": [
    {
     "name": "stdout",
     "output_type": "stream",
     "text": [
      "T(5/8): [0, 1, 4, 9, 16, None, None, None]\n"
     ]
    }
   ],
   "source": [
    "T = Tableau(8)\n",
    "for i in range(5): T.append(i*i)\n",
    "print(T)\n"
   ]
  },
  {
   "cell_type": "code",
   "execution_count": 21,
   "metadata": {
    "slideshow": {
     "slide_type": "fragment"
    }
   },
   "outputs": [
    {
     "name": "stdout",
     "output_type": "stream",
     "text": [
      "T(7/8): [0, 1, 4, 9, 16, 10, 10, None]\n"
     ]
    }
   ],
   "source": [
    "redimensionner(T,7,10)    \n",
    "print(T)"
   ]
  },
  {
   "cell_type": "code",
   "execution_count": 22,
   "metadata": {
    "slideshow": {
     "slide_type": "fragment"
    }
   },
   "outputs": [
    {
     "name": "stdout",
     "output_type": "stream",
     "text": [
      "T(3/8): [0, 1, 4, None, None, None, None, None]\n"
     ]
    }
   ],
   "source": [
    "redimensionner(T,3)\n",
    "print(T)"
   ]
  },
  {
   "cell_type": "markdown",
   "metadata": {
    "slideshow": {
     "slide_type": "slide"
    }
   },
   "source": [
    "<table style=\"width: 100%; border: 0px\">\n",
    "<tr style=\"background-color:white; border:0px\">\n",
    "<td style=\"width: 120px; border: 0px\">\n",
    "    <img src=\"https://heig-vd.ch/ResourcePackages/WhiteFox/assets/images/logo-heig-vd.svg\" height=200px align=left >\n",
    "    </td>\n",
    "    <td style=\"vertical-align: middle; border: 0px\" height=200px>\n",
    "    <p style=\"text-align: left\">\n",
    "        <a href=\"https://ocuisenaire.github.io/ASD1-notebooks/\">ASD1 Notebooks on GitHub.io</a>\n",
    " </p>        \n",
    "<p style=\"text-align: left\">\n",
    "© Olivier Cuisenaire, 2018 </p>\n",
    "</td>\n",
    "</tr>\n",
    "</table>"
   ]
  },
  {
   "cell_type": "raw",
   "metadata": {},
   "source": [
    "<style type=\"text/css\">\n",
    ".reveal {\n",
    "font-size: 200%;\n",
    "}</style>"
   ]
  },
  {
   "cell_type": "code",
   "execution_count": null,
   "metadata": {},
   "outputs": [],
   "source": []
  }
 ],
 "metadata": {
  "celltoolbar": "Slideshow",
  "kernelspec": {
   "display_name": "Python 3",
   "language": "python",
   "name": "python3"
  },
  "language_info": {
   "codemirror_mode": {
    "name": "ipython",
    "version": 3
   },
   "file_extension": ".py",
   "mimetype": "text/x-python",
   "name": "python",
   "nbconvert_exporter": "python",
   "pygments_lexer": "ipython3",
   "version": "3.6.5"
  }
 },
 "nbformat": 4,
 "nbformat_minor": 2
}
