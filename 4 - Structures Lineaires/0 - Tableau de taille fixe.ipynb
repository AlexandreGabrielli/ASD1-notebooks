{
 "cells": [
  {
   "cell_type": "markdown",
   "metadata": {},
   "source": [
    "# Tableau de taille fixe"
   ]
  },
  {
   "cell_type": "code",
   "execution_count": 14,
   "metadata": {},
   "outputs": [],
   "source": [
    "class Tableau:\n",
    "    \n",
    "    def __init__(self,taille):\n",
    "        self.data = [None]*taille\n",
    "        self.taille = taille\n",
    "        \n",
    "    \n",
    "    def __str__(self):\n",
    "        return \"data: {0} \\ntaille: {1}\".format(self.data,self.taille)\n",
    "    \n",
    "    def set_valeur(self,indice,valeur):\n",
    "        if indice >= self.taille:\n",
    "            raise Exception(\"mauvais indice\")\n",
    "        self.data[indice] = valeur\n",
    "                            \n",
    "    def get_valeur(self,indice):\n",
    "        if indice >= self.taille:\n",
    "            raise Exception(\"mauvais indice\")\n",
    "        return self.data[indice] "
   ]
  },
  {
   "cell_type": "code",
   "execution_count": 15,
   "metadata": {},
   "outputs": [
    {
     "name": "stdout",
     "output_type": "stream",
     "text": [
      "data: [None, None, None, None, None] \n",
      "taille: 5\n"
     ]
    }
   ],
   "source": [
    "T = Tableau(5)\n",
    "print(T)"
   ]
  },
  {
   "cell_type": "code",
   "execution_count": 17,
   "metadata": {},
   "outputs": [
    {
     "name": "stdout",
     "output_type": "stream",
     "text": [
      "data: [3, 2, 7, 8, 3] \n",
      "taille: 5\n"
     ]
    }
   ],
   "source": [
    "import numpy as np\n",
    "for i in range(T.taille):\n",
    "    T.set_valeur(i,np.random.randint(0,10))\n",
    "print(T)"
   ]
  },
  {
   "cell_type": "code",
   "execution_count": 18,
   "metadata": {},
   "outputs": [
    {
     "data": {
      "text/plain": [
       "7"
      ]
     },
     "execution_count": 18,
     "metadata": {},
     "output_type": "execute_result"
    }
   ],
   "source": [
    "T.get_valeur(2)"
   ]
  },
  {
   "cell_type": "code",
   "execution_count": null,
   "metadata": {},
   "outputs": [],
   "source": []
  }
 ],
 "metadata": {
  "kernelspec": {
   "display_name": "Python 3",
   "language": "python",
   "name": "python3"
  },
  "language_info": {
   "codemirror_mode": {
    "name": "ipython",
    "version": 3
   },
   "file_extension": ".py",
   "mimetype": "text/x-python",
   "name": "python",
   "nbconvert_exporter": "python",
   "pygments_lexer": "ipython3",
   "version": "3.6.5"
  }
 },
 "nbformat": 4,
 "nbformat_minor": 2
}
