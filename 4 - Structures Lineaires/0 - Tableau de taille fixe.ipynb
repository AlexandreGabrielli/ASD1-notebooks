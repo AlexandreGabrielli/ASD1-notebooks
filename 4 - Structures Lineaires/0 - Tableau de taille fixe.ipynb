{
 "cells": [
  {
   "cell_type": "markdown",
   "metadata": {
    "slideshow": {
     "slide_type": "slide"
    }
   },
   "source": [
    "# Tableau de taille fixe"
   ]
  },
  {
   "cell_type": "markdown",
   "metadata": {
    "slideshow": {
     "slide_type": "-"
    }
   },
   "source": [
    "![tableu de taille fixe](include/tab1.png)"
   ]
  },
  {
   "cell_type": "markdown",
   "metadata": {
    "slideshow": {
     "slide_type": "notes"
    }
   },
   "source": [
    "La structure de donnée la plus simple est un tableau de taille fixe. \n",
    "\n",
    "Il stocke les éléments dans des emplacements consécutifs en mémoire et est caractérisé par deux attributs\n",
    "\n",
    "* l'addresse de début des données \n",
    "* soit la taille, soit l'adresse de fin "
   ]
  },
  {
   "cell_type": "code",
   "execution_count": 1,
   "metadata": {
    "slideshow": {
     "slide_type": "slide"
    }
   },
   "outputs": [],
   "source": [
    "class Tableau:  \n",
    "    def __init__(self,N):\n",
    "        \n",
    "        self.data = [None]*N\n",
    "                \n",
    "        self.taille = N"
   ]
  },
  {
   "cell_type": "markdown",
   "metadata": {},
   "source": [
    "La taille est spécifiée à l'initialisation. "
   ]
  },
  {
   "cell_type": "code",
   "execution_count": 2,
   "metadata": {
    "slideshow": {
     "slide_type": "skip"
    }
   },
   "outputs": [],
   "source": [
    "import include.tableau_taille_fixe as h\n",
    "Tableau.__str__ = h.convertir_en_texte"
   ]
  },
  {
   "cell_type": "code",
   "execution_count": 3,
   "metadata": {
    "slideshow": {
     "slide_type": "skip"
    }
   },
   "outputs": [
    {
     "name": "stdout",
     "output_type": "stream",
     "text": [
      "taille: 5, data: [None, None, None, None, None]\n"
     ]
    }
   ],
   "source": [
    "T = Tableau(5)\n",
    "print(T)"
   ]
  },
  {
   "cell_type": "markdown",
   "metadata": {
    "slideshow": {
     "slide_type": "slide"
    }
   },
   "source": [
    "L'**indice d'un élément** permet de calculer son emplacement mémoire en utilisant \n",
    "\n",
    "\n",
    "* l'emplacement du début\n",
    "\n",
    "\n",
    "* la taille des éléments\n",
    "\n",
    " "
   ]
  },
  {
   "cell_type": "markdown",
   "metadata": {
    "slideshow": {
     "slide_type": "slide"
    }
   },
   "source": [
    "La plage des **indices valides** est l'intervalle `[0,taille[`. "
   ]
  },
  {
   "cell_type": "code",
   "execution_count": 4,
   "metadata": {
    "slideshow": {
     "slide_type": "-"
    }
   },
   "outputs": [],
   "source": [
    "def indice_valide(T,i):\n",
    "    \n",
    "    return i >= 0 and i < T.taille"
   ]
  },
  {
   "cell_type": "code",
   "execution_count": 5,
   "metadata": {
    "slideshow": {
     "slide_type": "skip"
    }
   },
   "outputs": [
    {
     "name": "stdout",
     "output_type": "stream",
     "text": [
      "5 hors borne\n"
     ]
    }
   ],
   "source": [
    "T = Tableau(5)\n",
    "for i in range(6):\n",
    "    if not indice_valide(T,i):\n",
    "        print(i,\"hors borne\")"
   ]
  },
  {
   "cell_type": "markdown",
   "metadata": {
    "slideshow": {
     "slide_type": "subslide"
    }
   },
   "source": [
    "Certains langages acceptent des **indices négatifs**."
   ]
  },
  {
   "cell_type": "markdown",
   "metadata": {
    "slideshow": {
     "slide_type": "skip"
    }
   },
   "source": [
    "La formule utilisée pour passer d'indices négatifs aux indices positifs est "
   ]
  },
  {
   "cell_type": "code",
   "execution_count": 6,
   "metadata": {
    "slideshow": {
     "slide_type": "-"
    }
   },
   "outputs": [],
   "source": [
    "def calculer_indice(T,i):\n",
    "    if i < 0: return T.taille+i\n",
    "    else:     return i"
   ]
  },
  {
   "cell_type": "code",
   "execution_count": 7,
   "metadata": {
    "slideshow": {
     "slide_type": "-"
    }
   },
   "outputs": [
    {
     "name": "stdout",
     "output_type": "stream",
     "text": [
      "-2 → 2\n",
      "-1 → 3\n",
      "0 → 0\n",
      "1 → 1\n"
     ]
    }
   ],
   "source": [
    "T = Tableau(4)\n",
    "for i in range(-2,2):\n",
    "    print(i,\"→\",calculer_indice(T,i))"
   ]
  },
  {
   "cell_type": "markdown",
   "metadata": {
    "slideshow": {
     "slide_type": "slide"
    }
   },
   "source": [
    "| Méthodes | Descriptions |\n",
    "| :--- | :--- | \n",
    "| `modifier` `_valeur(i,v)` | **modificateur**, écrit `v` dans l'élément d'indice `i` |\n",
    "| `lire_valeur(i)` | **sélecteur**, lit l'élément d'indice `i` |\n",
    "| `taille()` | **sélecteur**, retourne la taille du tableau |"
   ]
  },
  {
   "cell_type": "code",
   "execution_count": 8,
   "metadata": {
    "slideshow": {
     "slide_type": "subslide"
    }
   },
   "outputs": [],
   "source": [
    "def modifier_valeur(T,i,val):   \n",
    "    if not indice_valide(T,i):\n",
    "        raise IndexError(\"\")\n",
    "    \n",
    "    T.data[i] = val"
   ]
  },
  {
   "cell_type": "code",
   "execution_count": 9,
   "metadata": {
    "slideshow": {
     "slide_type": "skip"
    }
   },
   "outputs": [
    {
     "name": "stdout",
     "output_type": "stream",
     "text": [
      "taille: 5, data: [0, 1, 2, 3, 4]\n"
     ]
    }
   ],
   "source": [
    "T = Tableau(5)\n",
    "for i in range(5):\n",
    "    modifier_valeur(T,i,i)\n",
    "print(T)"
   ]
  },
  {
   "cell_type": "code",
   "execution_count": 10,
   "metadata": {
    "slideshow": {
     "slide_type": "-"
    }
   },
   "outputs": [],
   "source": [
    "def lire_valeur(T,i):\n",
    "    if not indice_valide(T,i):\n",
    "        raise IndexError(\"\")\n",
    "    \n",
    "    return T.data[i]"
   ]
  },
  {
   "cell_type": "code",
   "execution_count": 11,
   "metadata": {
    "slideshow": {
     "slide_type": "skip"
    }
   },
   "outputs": [
    {
     "name": "stdout",
     "output_type": "stream",
     "text": [
      "T[0] = 0\n",
      "T[1] = 1\n",
      "T[2] = 4\n",
      "T[3] = 9\n",
      "T[4] = 16\n"
     ]
    }
   ],
   "source": [
    "T = Tableau(5)\n",
    "for i in range(5):\n",
    "    modifier_valeur(T,i,i*i)\n",
    "for i in range(5):\n",
    "    print(\"T[{}] = {}\".format(i,lire_valeur(T,i)))"
   ]
  },
  {
   "cell_type": "code",
   "execution_count": 12,
   "metadata": {
    "slideshow": {
     "slide_type": "-"
    }
   },
   "outputs": [],
   "source": [
    "def taille(T):\n",
    "    \n",
    "    return T.taille"
   ]
  },
  {
   "cell_type": "code",
   "execution_count": 13,
   "metadata": {
    "slideshow": {
     "slide_type": "skip"
    }
   },
   "outputs": [
    {
     "name": "stdout",
     "output_type": "stream",
     "text": [
      "5\n"
     ]
    }
   ],
   "source": [
    "T = Tableau(5)\n",
    "print(taille(T))"
   ]
  },
  {
   "cell_type": "markdown",
   "metadata": {
    "slideshow": {
     "slide_type": "slide"
    }
   },
   "source": [
    "## En python"
   ]
  },
  {
   "cell_type": "markdown",
   "metadata": {
    "slideshow": {
     "slide_type": "skip"
    }
   },
   "source": [
    "Ces méthodes ont normalement un nom standard en python qui permet de définir la fonction `len` et l'accès via les crochets `[]`. "
   ]
  },
  {
   "cell_type": "code",
   "execution_count": 14,
   "metadata": {},
   "outputs": [],
   "source": [
    "class Tableau:    \n",
    "    def __init__(self,N):\n",
    "        self.data = [None]*N\n",
    "        self.taille = N\n",
    "    \n",
    "    __setitem__ = modifier_valeur\n",
    "    \n",
    "    __getitem__ = lire_valeur\n",
    "    \n",
    "    __len__     = taille\n",
    "    \n",
    "    __str__     = h.convertir_en_texte"
   ]
  },
  {
   "cell_type": "markdown",
   "metadata": {
    "slideshow": {
     "slide_type": "skip"
    }
   },
   "source": [
    "Les deux codes suivants sont alors synonymes"
   ]
  },
  {
   "cell_type": "code",
   "execution_count": 15,
   "metadata": {
    "slideshow": {
     "slide_type": "subslide"
    }
   },
   "outputs": [
    {
     "name": "stdout",
     "output_type": "stream",
     "text": [
      "3\n",
      "5\n",
      "taille: 5, data: [0, 1, 3, 6, 10]\n"
     ]
    }
   ],
   "source": [
    "T = Tableau(5)\n",
    "\n",
    "for i in range(T.__len__()):\n",
    "    T.__setitem__(i,i*(i+1)//2)\n",
    "    \n",
    "print(T.__getitem__(2)) \n",
    "print(T.__len__()) \n",
    "print(T.__str__())"
   ]
  },
  {
   "cell_type": "code",
   "execution_count": 16,
   "metadata": {
    "slideshow": {
     "slide_type": "subslide"
    }
   },
   "outputs": [
    {
     "name": "stdout",
     "output_type": "stream",
     "text": [
      "3\n",
      "5\n",
      "taille: 5, data: [0, 1, 3, 6, 10]\n"
     ]
    }
   ],
   "source": [
    "T = Tableau(5)\n",
    "\n",
    "for i in range(len(T)):\n",
    "    T[i] = i*(i+1)//2\n",
    "    \n",
    "print(T[2])\n",
    "print(len(T)) \n",
    "print(T)"
   ]
  },
  {
   "cell_type": "markdown",
   "metadata": {
    "slideshow": {
     "slide_type": "skip"
    }
   },
   "source": [
    "Définir `__len__`, `__setitem__` et `__getitem__` permet par ailleurs à python de rendre la classe itérable"
   ]
  },
  {
   "cell_type": "code",
   "execution_count": 17,
   "metadata": {
    "slideshow": {
     "slide_type": "skip"
    }
   },
   "outputs": [
    {
     "name": "stdout",
     "output_type": "stream",
     "text": [
      "0  1  3  6  10  "
     ]
    }
   ],
   "source": [
    "for t in T:\n",
    "    print(t, end=\"  \")"
   ]
  },
  {
   "cell_type": "code",
   "execution_count": 18,
   "metadata": {
    "slideshow": {
     "slide_type": "skip"
    }
   },
   "outputs": [
    {
     "name": "stdout",
     "output_type": "stream",
     "text": [
      "T[0]=0  T[1]=1  T[2]=3  T[3]=6  T[4]=10  "
     ]
    }
   ],
   "source": [
    "for i,t in enumerate(T):\n",
    "    print(\"T[{}]={}\".format(i,t), end = \"  \")"
   ]
  },
  {
   "cell_type": "markdown",
   "metadata": {
    "slideshow": {
     "slide_type": "slide"
    }
   },
   "source": [
    "<table style=\"width: 100%; border: 0px\">\n",
    "<tr style=\"background-color:white; border:0px\">\n",
    "<td style=\"width: 120px; border: 0px\">\n",
    "    <img src=\"https://heig-vd.ch/ResourcePackages/WhiteFox/assets/images/logo-heig-vd.svg\" height=200px align=left >\n",
    "    </td>\n",
    "    <td style=\"vertical-align: middle; border: 0px\" height=200px>\n",
    "    <p style=\"text-align: left\">\n",
    "        <a href=\"https://ocuisenaire.github.io/ASD1-notebooks/\">ASD1 Notebooks on GitHub.io</a>\n",
    " </p>        \n",
    "<p style=\"text-align: left\">\n",
    "© Olivier Cuisenaire, 2018 </p>\n",
    "</td>\n",
    "</tr>\n",
    "</table>"
   ]
  }
 ],
 "metadata": {
  "celltoolbar": "Slideshow",
  "kernelspec": {
   "display_name": "Python 3",
   "language": "python",
   "name": "python3"
  },
  "language_info": {
   "codemirror_mode": {
    "name": "ipython",
    "version": 3
   },
   "file_extension": ".py",
   "mimetype": "text/x-python",
   "name": "python",
   "nbconvert_exporter": "python",
   "pygments_lexer": "ipython3",
   "version": "3.6.5"
  }
 },
 "nbformat": 4,
 "nbformat_minor": 2
}
