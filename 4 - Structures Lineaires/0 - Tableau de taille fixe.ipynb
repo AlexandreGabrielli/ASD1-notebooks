{
 "cells": [
  {
   "cell_type": "markdown",
   "metadata": {},
   "source": [
    "# Tableau de taille fixe"
   ]
  },
  {
   "cell_type": "code",
   "execution_count": 1,
   "metadata": {},
   "outputs": [],
   "source": [
    "class Tableau:\n",
    "    \n",
    "    def __init__(self,taille):\n",
    "        self.data = [None]*taille\n",
    "        self.taille = taille\n",
    "        \n",
    "    \n",
    "    def __str__(self):\n",
    "        return \"data: {0} \\ntaille: {1}\".format(self.data,self.taille)\n",
    "    \n",
    "    def __setitem__(self,indice,valeur):\n",
    "        if indice < 0 or indice >= self.taille:\n",
    "            raise IndexError(\"mauvais indice\")\n",
    "        self.data[indice] = valeur\n",
    "                            \n",
    "    def __getitem__(self,indice):\n",
    "        if indice < 0 or indice >= self.taille:\n",
    "            raise IndexError(\"mauvais indice\")\n",
    "        return self.data[indice] \n",
    "    \n",
    "    def __len(self):\n",
    "        return self.taille\n",
    "    \n",
    " #   def __iter__(self):\n",
    " #       for d in self.data:\n",
    " #           yield d"
   ]
  },
  {
   "cell_type": "code",
   "execution_count": 2,
   "metadata": {},
   "outputs": [
    {
     "name": "stdout",
     "output_type": "stream",
     "text": [
      "data: [None, None, None, None, None] \n",
      "taille: 5\n"
     ]
    }
   ],
   "source": [
    "T = Tableau(5)\n",
    "print(T)"
   ]
  },
  {
   "cell_type": "code",
   "execution_count": 3,
   "metadata": {},
   "outputs": [
    {
     "name": "stdout",
     "output_type": "stream",
     "text": [
      "data: [1, 1, 2, 6, 5] \n",
      "taille: 5\n"
     ]
    }
   ],
   "source": [
    "import numpy as np\n",
    "for i in range(T.taille):\n",
    "    T.__setitem__(i,np.random.randint(0,10))\n",
    "print(T)"
   ]
  },
  {
   "cell_type": "code",
   "execution_count": 4,
   "metadata": {},
   "outputs": [
    {
     "data": {
      "text/plain": [
       "2"
      ]
     },
     "execution_count": 4,
     "metadata": {},
     "output_type": "execute_result"
    }
   ],
   "source": [
    "T.__getitem__(2)"
   ]
  },
  {
   "cell_type": "code",
   "execution_count": 5,
   "metadata": {},
   "outputs": [
    {
     "data": {
      "text/plain": [
       "2"
      ]
     },
     "execution_count": 5,
     "metadata": {},
     "output_type": "execute_result"
    }
   ],
   "source": [
    "T[2]"
   ]
  },
  {
   "cell_type": "code",
   "execution_count": 6,
   "metadata": {},
   "outputs": [
    {
     "name": "stdout",
     "output_type": "stream",
     "text": [
      "1\n",
      "1\n",
      "2\n",
      "6\n",
      "5\n"
     ]
    }
   ],
   "source": [
    "for i in T:\n",
    "    print(i)"
   ]
  },
  {
   "cell_type": "code",
   "execution_count": 7,
   "metadata": {},
   "outputs": [
    {
     "name": "stdout",
     "output_type": "stream",
     "text": [
      "0 1\n",
      "1 1\n",
      "2 2\n",
      "3 6\n",
      "4 5\n"
     ]
    }
   ],
   "source": [
    "for i,t in enumerate(T):\n",
    "    print(i,t)"
   ]
  },
  {
   "cell_type": "code",
   "execution_count": 9,
   "metadata": {},
   "outputs": [
    {
     "name": "stdout",
     "output_type": "stream",
     "text": [
      "[1, 2, 4, 5]\n"
     ]
    }
   ],
   "source": [
    "A = [ 1, 2, 3, 4, 5]\n",
    "del A[2]\n",
    "print(A)"
   ]
  },
  {
   "cell_type": "code",
   "execution_count": 10,
   "metadata": {},
   "outputs": [
    {
     "name": "stdout",
     "output_type": "stream",
     "text": [
      "[1, 2, 2, 4, 5]\n"
     ]
    }
   ],
   "source": [
    "A.insert(2,2)\n",
    "print(A)"
   ]
  },
  {
   "cell_type": "code",
   "execution_count": null,
   "metadata": {},
   "outputs": [],
   "source": []
  }
 ],
 "metadata": {
  "kernelspec": {
   "display_name": "Python 3",
   "language": "python",
   "name": "python3"
  },
  "language_info": {
   "codemirror_mode": {
    "name": "ipython",
    "version": 3
   },
   "file_extension": ".py",
   "mimetype": "text/x-python",
   "name": "python",
   "nbconvert_exporter": "python",
   "pygments_lexer": "ipython3",
   "version": "3.6.5"
  }
 },
 "nbformat": 4,
 "nbformat_minor": 2
}
