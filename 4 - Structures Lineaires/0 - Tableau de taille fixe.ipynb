{
 "cells": [
  {
   "cell_type": "markdown",
   "metadata": {
    "slideshow": {
     "slide_type": "slide"
    }
   },
   "source": [
    "# Tableau de taille fixe"
   ]
  },
  {
   "cell_type": "markdown",
   "metadata": {
    "slideshow": {
     "slide_type": "slide"
    }
   },
   "source": [
    "\n",
    "La structure de donnée la plus simple est un tableau \n",
    "\n",
    "* de taille fixe \n",
    "* stockant les éléments dans des emplacement consécutifs en mémoire. \n",
    "\n",
    "La taille est spécifiée à l'initialisation. "
   ]
  },
  {
   "cell_type": "code",
   "execution_count": 1,
   "metadata": {
    "slideshow": {
     "slide_type": "fragment"
    }
   },
   "outputs": [],
   "source": [
    "class Tableau:  \n",
    "    def __init__(self,taille):\n",
    "        self.data = [None]*taille\n",
    "        self.taille = taille\n",
    "        \n",
    "    def __str__(self):\n",
    "        return \" taille = {} | data = {}\".format(\n",
    "            self.taille, self.data)"
   ]
  },
  {
   "cell_type": "code",
   "execution_count": 2,
   "metadata": {
    "slideshow": {
     "slide_type": "fragment"
    }
   },
   "outputs": [
    {
     "name": "stdout",
     "output_type": "stream",
     "text": [
      " taille = 5 | data = [None, None, None, None, None]\n"
     ]
    }
   ],
   "source": [
    "T = Tableau(5)\n",
    "print(T)"
   ]
  },
  {
   "cell_type": "markdown",
   "metadata": {
    "slideshow": {
     "slide_type": "slide"
    }
   },
   "source": [
    "L'**indice** d'un élément permet de savoir où le trouver en mémoire par rapport au début du tableau. \n",
    "\n",
    "La plage des **indices valides** est l'intervalle $[0,N[$ pour un tableau de $N$ éléments. "
   ]
  },
  {
   "cell_type": "code",
   "execution_count": 3,
   "metadata": {
    "slideshow": {
     "slide_type": "-"
    }
   },
   "outputs": [],
   "source": [
    "def verifier_indice(T,i):\n",
    "    if i < 0 or i >= T.taille: raise IndexError(\"\")"
   ]
  },
  {
   "cell_type": "code",
   "execution_count": 4,
   "metadata": {
    "slideshow": {
     "slide_type": "fragment"
    }
   },
   "outputs": [
    {
     "name": "stdout",
     "output_type": "stream",
     "text": [
      "5 hors borne\n"
     ]
    }
   ],
   "source": [
    "T = Tableau(5)\n",
    "for i in range(6):\n",
    "    try:\n",
    "        verifier_indice(T,i)\n",
    "    except IndexError:\n",
    "        print(i,\"hors borne\")"
   ]
  },
  {
   "cell_type": "markdown",
   "metadata": {
    "slideshow": {
     "slide_type": "subslide"
    }
   },
   "source": [
    "Python accepte aussi les **indices négatifs**.\n",
    "\n",
    "La formule utilisée pour passer d'indices négatifs aux indices positifs est "
   ]
  },
  {
   "cell_type": "code",
   "execution_count": 5,
   "metadata": {},
   "outputs": [],
   "source": [
    "def calculer_indice(T,i):\n",
    "    return i if i >= 0 else T.taille+i"
   ]
  },
  {
   "cell_type": "code",
   "execution_count": 6,
   "metadata": {
    "slideshow": {
     "slide_type": "fragment"
    }
   },
   "outputs": [
    {
     "name": "stdout",
     "output_type": "stream",
     "text": [
      "-3 → 0\n",
      "-2 → 1\n",
      "-1 → 2\n",
      "0 → 0\n",
      "1 → 1\n",
      "2 → 2\n"
     ]
    }
   ],
   "source": [
    "T = Tableau(3)\n",
    "for i in range(-3,3):\n",
    "    print(i,\"→\",calculer_indice(T,i))"
   ]
  },
  {
   "cell_type": "markdown",
   "metadata": {
    "slideshow": {
     "slide_type": "slide"
    }
   },
   "source": [
    "Les méthodes essentielles sont un **modificateur** \n",
    "\n",
    "* `modifier_valeur`, qui écrit dans un élément via son indice. \n",
    "\n",
    "et deux **sélecteurs** \n",
    "\n",
    "* `lire_valeur`, qui lit un élément via son indice\n",
    "* `taille`, qui retourne la taille du tableau"
   ]
  },
  {
   "cell_type": "code",
   "execution_count": 7,
   "metadata": {
    "slideshow": {
     "slide_type": "subslide"
    }
   },
   "outputs": [],
   "source": [
    "def modifier_valeur(T,i,val):\n",
    "    verifier_indice(T,i)\n",
    "    T.data[i] = val"
   ]
  },
  {
   "cell_type": "code",
   "execution_count": 8,
   "metadata": {},
   "outputs": [
    {
     "name": "stdout",
     "output_type": "stream",
     "text": [
      " taille = 5 | data = [0, 1, 2, 3, 4]\n"
     ]
    }
   ],
   "source": [
    "T = Tableau(5)\n",
    "for i in range(5):\n",
    "    modifier_valeur(T,i,i)\n",
    "print(T)"
   ]
  },
  {
   "cell_type": "code",
   "execution_count": 9,
   "metadata": {
    "slideshow": {
     "slide_type": "subslide"
    }
   },
   "outputs": [],
   "source": [
    "def lire_valeur(T,i):\n",
    "    verifier_indice(T,i)\n",
    "    return T.data[i]"
   ]
  },
  {
   "cell_type": "code",
   "execution_count": 10,
   "metadata": {},
   "outputs": [
    {
     "name": "stdout",
     "output_type": "stream",
     "text": [
      "0 0\n",
      "1 1\n",
      "2 4\n",
      "3 9\n",
      "4 16\n"
     ]
    }
   ],
   "source": [
    "T = Tableau(5)\n",
    "for i in range(5):\n",
    "    modifier_valeur(T,i,i*i)\n",
    "for i in range(5):\n",
    "    print(i,lire_valeur(T,i))"
   ]
  },
  {
   "cell_type": "code",
   "execution_count": 11,
   "metadata": {
    "slideshow": {
     "slide_type": "subslide"
    }
   },
   "outputs": [],
   "source": [
    "def taille(T):\n",
    "    return T.taille"
   ]
  },
  {
   "cell_type": "code",
   "execution_count": 12,
   "metadata": {},
   "outputs": [
    {
     "name": "stdout",
     "output_type": "stream",
     "text": [
      "5\n"
     ]
    }
   ],
   "source": [
    "T = Tableau(5)\n",
    "print(taille(T))"
   ]
  },
  {
   "cell_type": "markdown",
   "metadata": {
    "slideshow": {
     "slide_type": "slide"
    }
   },
   "source": [
    "## En python\n",
    "\n",
    "ces méthodes ont normalement un nom standard en python qui permet de définir la fonction `len` et l'accès via les crochets `[]`. "
   ]
  },
  {
   "cell_type": "code",
   "execution_count": 13,
   "metadata": {},
   "outputs": [],
   "source": [
    "class Tableau:    \n",
    "    def __init__(self,taille):\n",
    "        self.data = [None]*taille\n",
    "        self.taille = taille\n",
    "   \n",
    "    def __str__(self):\n",
    "        return \" taille = {} | data = {}\".format(\n",
    "            self.taille, self.data)\n",
    "    \n",
    "    __setitem__ = modifier_valeur\n",
    "    __getitem__ = lire_valeur\n",
    "    __len__     = taille"
   ]
  },
  {
   "cell_type": "markdown",
   "metadata": {
    "slideshow": {
     "slide_type": "subslide"
    }
   },
   "source": [
    "Les deux codes suivants sont alors synonymes"
   ]
  },
  {
   "cell_type": "code",
   "execution_count": 14,
   "metadata": {
    "slideshow": {
     "slide_type": "-"
    }
   },
   "outputs": [
    {
     "name": "stdout",
     "output_type": "stream",
     "text": [
      "3 5  taille = 5 | data = [0, 1, 3, 6, 10]\n"
     ]
    }
   ],
   "source": [
    "T = Tableau(5)\n",
    "for i in range(T.__len__()):\n",
    "    T.__setitem__(i,i*(i+1)//2)\n",
    "print(T.__getitem__(2), T.__len__(), T.__str__())"
   ]
  },
  {
   "cell_type": "code",
   "execution_count": 15,
   "metadata": {
    "slideshow": {
     "slide_type": "-"
    }
   },
   "outputs": [
    {
     "name": "stdout",
     "output_type": "stream",
     "text": [
      "3 5  taille = 5 | data = [0, 1, 3, 6, 10]\n"
     ]
    }
   ],
   "source": [
    "T = Tableau(5)\n",
    "for i in range(len(T)):\n",
    "    T[i] = i*(i+1)//2\n",
    "print(T[2],len(T), T)"
   ]
  },
  {
   "cell_type": "markdown",
   "metadata": {
    "slideshow": {
     "slide_type": "subslide"
    }
   },
   "source": [
    "Définir `__len__`, `__setitem__` et `__getitem__` permet par ailleurs à python de rendre la classe itérable"
   ]
  },
  {
   "cell_type": "code",
   "execution_count": 16,
   "metadata": {
    "slideshow": {
     "slide_type": "fragment"
    }
   },
   "outputs": [
    {
     "name": "stdout",
     "output_type": "stream",
     "text": [
      "0  1  3  6  10  "
     ]
    }
   ],
   "source": [
    "for t in T:\n",
    "    print(t, end=\"  \")"
   ]
  },
  {
   "cell_type": "code",
   "execution_count": 17,
   "metadata": {
    "slideshow": {
     "slide_type": "fragment"
    }
   },
   "outputs": [
    {
     "name": "stdout",
     "output_type": "stream",
     "text": [
      "T[0]=0  T[1]=1  T[2]=3  T[3]=6  T[4]=10  "
     ]
    }
   ],
   "source": [
    "for i,t in enumerate(T):\n",
    "    print(\"T[{}]={}\".format(i,t), end = \"  \")"
   ]
  },
  {
   "cell_type": "markdown",
   "metadata": {
    "slideshow": {
     "slide_type": "slide"
    }
   },
   "source": [
    "<table style=\"width: 100%; border: 0px\">\n",
    "<tr style=\"background-color:white; border:0px\">\n",
    "<td style=\"width: 120px; border: 0px\">\n",
    "    <img src=\"https://heig-vd.ch/ResourcePackages/WhiteFox/assets/images/logo-heig-vd.svg\" height=200px align=left >\n",
    "    </td>\n",
    "    <td style=\"vertical-align: middle; border: 0px\" height=200px>\n",
    "    <p style=\"text-align: left\">\n",
    "        <a href=\"https://ocuisenaire.github.io/ASD1-notebooks/\">ASD1 Notebooks on GitHub.io</a>\n",
    " </p>        \n",
    "<p style=\"text-align: left\">\n",
    "© Olivier Cuisenaire, 2018 </p>\n",
    "</td>\n",
    "</tr>\n",
    "</table>"
   ]
  },
  {
   "cell_type": "raw",
   "metadata": {},
   "source": [
    "<style type=\"text/css\">\n",
    ".reveal {\n",
    "font-size: 200%;\n",
    "}</style>"
   ]
  }
 ],
 "metadata": {
  "celltoolbar": "Slideshow",
  "kernelspec": {
   "display_name": "Python 3",
   "language": "python",
   "name": "python3"
  },
  "language_info": {
   "codemirror_mode": {
    "name": "ipython",
    "version": 3
   },
   "file_extension": ".py",
   "mimetype": "text/x-python",
   "name": "python",
   "nbconvert_exporter": "python",
   "pygments_lexer": "ipython3",
   "version": "3.6.5"
  }
 },
 "nbformat": 4,
 "nbformat_minor": 2
}
