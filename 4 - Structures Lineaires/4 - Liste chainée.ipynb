{
 "cells": [
  {
   "cell_type": "markdown",
   "metadata": {
    "slideshow": {
     "slide_type": "slide"
    }
   },
   "source": [
    "# Liste Simplement Chainée"
   ]
  },
  {
   "cell_type": "markdown",
   "metadata": {},
   "source": [
    "![](include/folist_1.png)"
   ]
  },
  {
   "cell_type": "markdown",
   "metadata": {
    "slideshow": {
     "slide_type": "slide"
    }
   },
   "source": [
    "## Principe\n",
    "\n",
    "Les listes chainées se libèrent de la contrainte de stocker les éléments dans des emplacements contigus en mémoire."
   ]
  },
  {
   "cell_type": "markdown",
   "metadata": {
    "slideshow": {
     "slide_type": "subslide"
    }
   },
   "source": [
    "**Bénéfice:** Aucun déplacement nécessaire pour insérer ou supprimer\n",
    "\n",
    "**Coûts:**\n",
    "\n",
    "* stocker explicitement l'emplacement de l'élément suivant\n",
    "* avancer de $k$ positions = passer $k$ fois à l'élément suivant\n",
    "* utilisation moins efficace de la mémoire cache"
   ]
  },
  {
   "cell_type": "markdown",
   "metadata": {
    "slideshow": {
     "slide_type": "subslide"
    }
   },
   "source": [
    "Les éléments de la liste sont stockés indivuellement dans les maillons de la chaine. Chaque maillon stocke\n",
    "\n",
    "* l'élément\n",
    "* un pointeur vers le maillon suivant"
   ]
  },
  {
   "cell_type": "code",
   "execution_count": 1,
   "metadata": {},
   "outputs": [],
   "source": [
    "class Maillon:\n",
    "    def __init__(self,valeur):\n",
    "        \n",
    "        self.donnee = valeur       \n",
    "        \n",
    "        self.suivant = None "
   ]
  },
  {
   "cell_type": "code",
   "execution_count": 2,
   "metadata": {
    "slideshow": {
     "slide_type": "skip"
    }
   },
   "outputs": [],
   "source": [
    "def afficher(self):\n",
    "    return \"{}\".format(self.donnee)\n",
    "Maillon.__str__ = afficher; "
   ]
  },
  {
   "cell_type": "markdown",
   "metadata": {
    "slideshow": {
     "slide_type": "subslide"
    }
   },
   "source": [
    "Cette structure suffit à constuire une liste manuellement. Construisons \n",
    "\n",
    "![](include/folist_1.png)"
   ]
  },
  {
   "cell_type": "code",
   "execution_count": 3,
   "metadata": {
    "slideshow": {
     "slide_type": "-"
    }
   },
   "outputs": [],
   "source": [
    "tete = Maillon(12) \n",
    "tete.suivant = Maillon(99) \n",
    "tete.suivant.suivant = Maillon(37) "
   ]
  },
  {
   "cell_type": "markdown",
   "metadata": {
    "slideshow": {
     "slide_type": "slide"
    }
   },
   "source": [
    "## Parcours\n",
    "\n",
    "Pour traverser tous les éléments d'une liste, il faut \n",
    "\n",
    "* traiter le maillon courant\n",
    "* passer au maillon suivant\n",
    "* jusqu'à ce que l'on atteigne un maillon nul"
   ]
  },
  {
   "cell_type": "markdown",
   "metadata": {
    "slideshow": {
     "slide_type": "subslide"
    }
   },
   "source": [
    "On peut l'écrire récursivement"
   ]
  },
  {
   "cell_type": "code",
   "execution_count": 4,
   "metadata": {},
   "outputs": [],
   "source": [
    "def afficher(M):\n",
    "    if M != None:\n",
    "        print(M, end = \" → \")\n",
    "        afficher(M.suivant)\n",
    "    else:\n",
    "        print(\"⌀\")"
   ]
  },
  {
   "cell_type": "code",
   "execution_count": 5,
   "metadata": {
    "slideshow": {
     "slide_type": "-"
    }
   },
   "outputs": [
    {
     "name": "stdout",
     "output_type": "stream",
     "text": [
      "12 → 99 → 37 → ⌀\n"
     ]
    }
   ],
   "source": [
    "afficher(tete)"
   ]
  },
  {
   "cell_type": "markdown",
   "metadata": {
    "slideshow": {
     "slide_type": "subslide"
    }
   },
   "source": [
    "Mieux, on peut l'écrire itérativement "
   ]
  },
  {
   "cell_type": "code",
   "execution_count": 6,
   "metadata": {
    "slideshow": {
     "slide_type": "-"
    }
   },
   "outputs": [],
   "source": [
    "def afficher(M):\n",
    "    while M != None:\n",
    "        print(M, end = \" → \")\n",
    "        M = M.suivant\n",
    "    print(\"⌀\")"
   ]
  },
  {
   "cell_type": "code",
   "execution_count": 7,
   "metadata": {
    "slideshow": {
     "slide_type": "-"
    }
   },
   "outputs": [
    {
     "name": "stdout",
     "output_type": "stream",
     "text": [
      "12 → 99 → 37 → ⌀\n"
     ]
    }
   ],
   "source": [
    "afficher(tete)"
   ]
  },
  {
   "cell_type": "markdown",
   "metadata": {
    "slideshow": {
     "slide_type": "notes"
    }
   },
   "source": [
    "L'approche itérative est plus appropriée. Une liste peut contenir plus d'éléments que la profondeur de récursion maximale. Les approches récursives sont donc à proscrire. "
   ]
  },
  {
   "cell_type": "markdown",
   "metadata": {
    "slideshow": {
     "slide_type": "slide"
    }
   },
   "source": [
    "## Opérations en tête\n",
    "\n",
    "Insérer et supprimer en tête sont des opérations simples.\n",
    "\n",
    "Pour insérer, on doit\n",
    "\n",
    "* créer un nouveau maillon qui deviendra la tête\n",
    "* faire de l'ancienne tête le maillon suivant la nouvelle tête"
   ]
  },
  {
   "cell_type": "markdown",
   "metadata": {
    "slideshow": {
     "slide_type": "subslide"
    }
   },
   "source": [
    "![](include/folist_2.png)"
   ]
  },
  {
   "cell_type": "code",
   "execution_count": 8,
   "metadata": {
    "slideshow": {
     "slide_type": "-"
    }
   },
   "outputs": [],
   "source": [
    "def inserer_en_tete(ancienne_tete, valeur):\n",
    "    \n",
    "    nouvelle_tete = Maillon(valeur)\n",
    "    \n",
    "    nouvelle_tete.suivant = ancienne_tete\n",
    "    \n",
    "    return nouvelle_tete"
   ]
  },
  {
   "cell_type": "markdown",
   "metadata": {
    "slideshow": {
     "slide_type": "subslide"
    }
   },
   "source": [
    "![](include/folist_2.png)"
   ]
  },
  {
   "cell_type": "code",
   "execution_count": 9,
   "metadata": {
    "slideshow": {
     "slide_type": "-"
    }
   },
   "outputs": [
    {
     "name": "stdout",
     "output_type": "stream",
     "text": [
      "12 → 99 → 37 → ⌀\n"
     ]
    }
   ],
   "source": [
    "afficher(tete) "
   ]
  },
  {
   "cell_type": "code",
   "execution_count": 10,
   "metadata": {},
   "outputs": [
    {
     "name": "stdout",
     "output_type": "stream",
     "text": [
      "25 → 12 → 99 → 37 → ⌀\n"
     ]
    }
   ],
   "source": [
    "tete = inserer_en_tete(tete,25)\n",
    "afficher(tete) "
   ]
  },
  {
   "cell_type": "markdown",
   "metadata": {
    "slideshow": {
     "slide_type": "subslide"
    }
   },
   "source": [
    "Pour **supprimer en tête** il suffit de remplacer la tête par l'élément suivant\n",
    "\n",
    "![](include/folist_3.png)"
   ]
  },
  {
   "cell_type": "code",
   "execution_count": 11,
   "metadata": {
    "slideshow": {
     "slide_type": "-"
    }
   },
   "outputs": [],
   "source": [
    "def supprimer_en_tete(ancienne_tete):\n",
    "    assert(ancienne_tete)\n",
    "    \n",
    "    nouvelle_tete = ancienne_tete.suivant\n",
    "    \n",
    "    return nouvelle_tete"
   ]
  },
  {
   "cell_type": "markdown",
   "metadata": {
    "slideshow": {
     "slide_type": "subslide"
    }
   },
   "source": [
    "![](include/folist_3.png)"
   ]
  },
  {
   "cell_type": "code",
   "execution_count": 12,
   "metadata": {
    "slideshow": {
     "slide_type": "-"
    }
   },
   "outputs": [
    {
     "name": "stdout",
     "output_type": "stream",
     "text": [
      "25 → 12 → 99 → 37 → ⌀\n"
     ]
    }
   ],
   "source": [
    "afficher(tete) "
   ]
  },
  {
   "cell_type": "code",
   "execution_count": 13,
   "metadata": {},
   "outputs": [
    {
     "name": "stdout",
     "output_type": "stream",
     "text": [
      "12 → 99 → 37 → ⌀\n"
     ]
    }
   ],
   "source": [
    "tete = supprimer_en_tete(tete)\n",
    "afficher(tete)"
   ]
  },
  {
   "cell_type": "markdown",
   "metadata": {
    "slideshow": {
     "slide_type": "notes"
    }
   },
   "source": [
    "Attention, dans un langage où il faut détruire explicitement les objets alloués dynamiquement - comme le C++ - il ne faut pas oublier de détruire le maillon supprimé"
   ]
  },
  {
   "cell_type": "markdown",
   "metadata": {
    "slideshow": {
     "slide_type": "slide"
    }
   },
   "source": [
    "## Opérations en position quelconque\n",
    "\n",
    "Insérer ou supprimer après un maillon connu est également efficace. \n",
    "\n",
    "Pour insérer un élément derrière le maillon `M`, il faut\n",
    "\n",
    "* créer un nouveau maillon\n",
    "* insérer ce maillon entre `M` et `M.suivant`"
   ]
  },
  {
   "cell_type": "markdown",
   "metadata": {
    "slideshow": {
     "slide_type": "subslide"
    }
   },
   "source": [
    "![](include/folist_4.png)"
   ]
  },
  {
   "cell_type": "code",
   "execution_count": 14,
   "metadata": {
    "slideshow": {
     "slide_type": "-"
    }
   },
   "outputs": [],
   "source": [
    "def inserer_apres(M, valeur):\n",
    "    assert(M)\n",
    "    \n",
    "    nouveau = Maillon(valeur)\n",
    "    \n",
    "    nouveau.suivant = M.suivant\n",
    "    \n",
    "    M.suivant = nouveau"
   ]
  },
  {
   "cell_type": "markdown",
   "metadata": {
    "slideshow": {
     "slide_type": "subslide"
    }
   },
   "source": [
    "![](include/folist_4.png)"
   ]
  },
  {
   "cell_type": "code",
   "execution_count": 15,
   "metadata": {
    "slideshow": {
     "slide_type": "-"
    }
   },
   "outputs": [
    {
     "name": "stdout",
     "output_type": "stream",
     "text": [
      "12 → 99 → 37 → ⌀\n"
     ]
    }
   ],
   "source": [
    "afficher(tete) "
   ]
  },
  {
   "cell_type": "code",
   "execution_count": 16,
   "metadata": {
    "slideshow": {
     "slide_type": "-"
    }
   },
   "outputs": [
    {
     "name": "stdout",
     "output_type": "stream",
     "text": [
      "12 → 99 → 42 → 37 → ⌀\n"
     ]
    }
   ],
   "source": [
    "inserer_apres(tete.suivant,42)\n",
    "afficher(tete) "
   ]
  },
  {
   "cell_type": "markdown",
   "metadata": {
    "slideshow": {
     "slide_type": "subslide"
    }
   },
   "source": [
    "Pour supprimer l'élément suivant le maillon M, il suivit de faire pointer `M.suivant` vers l'élément suivant celui à supprimer\n",
    "\n",
    "![](include/folist_5.png)"
   ]
  },
  {
   "cell_type": "code",
   "execution_count": 17,
   "metadata": {
    "slideshow": {
     "slide_type": "-"
    }
   },
   "outputs": [],
   "source": [
    "def supprimer_apres(M):\n",
    "    \n",
    "    assert(M != None and M.suivant != None)\n",
    "    \n",
    "    M.suivant = M.suivant.suivant"
   ]
  },
  {
   "cell_type": "markdown",
   "metadata": {
    "slideshow": {
     "slide_type": "subslide"
    }
   },
   "source": [
    "![](include/folist_5.png)"
   ]
  },
  {
   "cell_type": "code",
   "execution_count": 18,
   "metadata": {},
   "outputs": [
    {
     "name": "stdout",
     "output_type": "stream",
     "text": [
      "12 → 99 → 42 → 37 → ⌀\n"
     ]
    }
   ],
   "source": [
    "afficher(tete)"
   ]
  },
  {
   "cell_type": "code",
   "execution_count": 19,
   "metadata": {},
   "outputs": [
    {
     "name": "stdout",
     "output_type": "stream",
     "text": [
      "12 → 42 → 37 → ⌀\n"
     ]
    }
   ],
   "source": [
    "supprimer_apres(tete)\n",
    "afficher(tete)"
   ]
  },
  {
   "cell_type": "markdown",
   "metadata": {
    "slideshow": {
     "slide_type": "subslide"
    }
   },
   "source": [
    "Cette opération nous permet de faire des traitement complexes comme ôter les éléments se répétant en positions successives (comme `std::unique` en C++)"
   ]
  },
  {
   "cell_type": "code",
   "execution_count": 20,
   "metadata": {
    "slideshow": {
     "slide_type": "-"
    }
   },
   "outputs": [],
   "source": [
    "def oter_repetitions(M):\n",
    "    while M != None and M.suivant != None:\n",
    "        if M.donnee == M.suivant.donnee:\n",
    "            supprimer_apres(M)\n",
    "        else:\n",
    "            M = M.suivant"
   ]
  },
  {
   "cell_type": "code",
   "execution_count": 21,
   "metadata": {
    "slideshow": {
     "slide_type": "skip"
    }
   },
   "outputs": [],
   "source": [
    "zeros_un_deux = None\n",
    "for i in range(5):\n",
    "    for j in range((i+3)//2):\n",
    "        zeros_un_deux = inserer_en_tete(zeros_un_deux,i%3)"
   ]
  },
  {
   "cell_type": "code",
   "execution_count": 22,
   "metadata": {
    "slideshow": {
     "slide_type": "subslide"
    }
   },
   "outputs": [
    {
     "name": "stdout",
     "output_type": "stream",
     "text": [
      "1 → 1 → 1 → 0 → 0 → 0 → 2 → 2 → 1 → 1 → 0 → ⌀\n"
     ]
    }
   ],
   "source": [
    "afficher(zeros_un_deux)"
   ]
  },
  {
   "cell_type": "code",
   "execution_count": 23,
   "metadata": {},
   "outputs": [
    {
     "name": "stdout",
     "output_type": "stream",
     "text": [
      "1 → 0 → 2 → 1 → 0 → ⌀\n"
     ]
    }
   ],
   "source": [
    "oter_repetitions(zeros_un_deux)\n",
    "afficher(zeros_un_deux)"
   ]
  },
  {
   "cell_type": "markdown",
   "metadata": {
    "slideshow": {
     "slide_type": "slide"
    }
   },
   "source": [
    "## Classe `forward_list`"
   ]
  },
  {
   "cell_type": "code",
   "execution_count": 24,
   "metadata": {},
   "outputs": [],
   "source": [
    "tete = inserer_en_tete(tete,25)"
   ]
  },
  {
   "cell_type": "markdown",
   "metadata": {},
   "source": [
    "\n",
    "pour l'insertion est source d'erreur. Il est trop facile d'oublier `tete =`\n",
    "\n",
    "La classe `forward_list` stocke et gère le **maillon de tête**, plus  éventuellement d'autre information comme le nombre d'éléments."
   ]
  },
  {
   "cell_type": "markdown",
   "metadata": {
    "slideshow": {
     "slide_type": "notes"
    }
   },
   "source": [
    "Sinon, calculer la taille d'une liste de $n$ éléments est un opération de complexité $\\Theta(n)$.\n",
    "\n",
    "Les noms de la classe et des méthodes singent ceux de la classe `std::forward_list` du C++. `"
   ]
  },
  {
   "cell_type": "code",
   "execution_count": 25,
   "metadata": {
    "slideshow": {
     "slide_type": "subslide"
    }
   },
   "outputs": [],
   "source": [
    "class forward_list:\n",
    "    def __init__(self):\n",
    "        self.t = None \n",
    "        \n",
    "    def push_front(self,val):\n",
    "        self.t = inserer_en_tete(self.t,val); \n",
    "\n",
    "    def pop_front(self):\n",
    "        self.t = supprimer_en_tete(self.t); \n",
    "        \n",
    "    def insert_after(self,m,val):\n",
    "        inserer_apres(m,val); \n",
    "\n",
    "    def erase_after(self,m):\n",
    "        supprimer_apres(m); \n",
    "        \n",
    "    def empty(self): return self.t == None"
   ]
  },
  {
   "cell_type": "code",
   "execution_count": 26,
   "metadata": {
    "slideshow": {
     "slide_type": "skip"
    }
   },
   "outputs": [],
   "source": [
    "import include.liste_simple as h\n",
    "def fl__str__(self): return h.to_string(self.t)\n",
    "forward_list.__str__ = fl__str__"
   ]
  },
  {
   "cell_type": "markdown",
   "metadata": {
    "slideshow": {
     "slide_type": "skip"
    }
   },
   "source": [
    "Exemples d'utilisation"
   ]
  },
  {
   "cell_type": "code",
   "execution_count": 27,
   "metadata": {
    "slideshow": {
     "slide_type": "subslide"
    }
   },
   "outputs": [
    {
     "name": "stdout",
     "output_type": "stream",
     "text": [
      "2 → 1 → 0 → 2 → 1 → 0 → ⌀\n"
     ]
    }
   ],
   "source": [
    "L = forward_list()\n",
    "for i in range(6):\n",
    "    L.push_front(i%3)\n",
    "print(L)"
   ]
  },
  {
   "cell_type": "code",
   "execution_count": 28,
   "metadata": {},
   "outputs": [
    {
     "name": "stdout",
     "output_type": "stream",
     "text": [
      "1 → 0 → 2 → 1 → 0 → ⌀\n"
     ]
    }
   ],
   "source": [
    "L.pop_front()\n",
    "print(L)"
   ]
  },
  {
   "cell_type": "markdown",
   "metadata": {
    "slideshow": {
     "slide_type": "slide"
    }
   },
   "source": [
    "## Itérer sur une liste \n",
    "\n",
    "Pour rendre cette classe réellement utile, il faut pouvoir **boucler sur ses éléments** indépendamment de sa structure interne. \n",
    "\n",
    "Pour cela, nous introduisons les fonctions suivantes qui cachent  les notions de maillon, de tête de chaine, ... "
   ]
  },
  {
   "cell_type": "code",
   "execution_count": 29,
   "metadata": {
    "slideshow": {
     "slide_type": "subslide"
    }
   },
   "outputs": [],
   "source": [
    "def debut(L):   return L.t\n",
    "\n",
    "def fin(L):     return None\n",
    "\n",
    "def suivant(m): return m.suivant\n",
    "\n",
    "def getv(m):    return m.donnee\n",
    "\n",
    "def setv(m,v):  m.donnee = v"
   ]
  },
  {
   "cell_type": "markdown",
   "metadata": {
    "slideshow": {
     "slide_type": "notes"
    }
   },
   "source": [
    "Ces fonctions correspondent à peu près en C++ à \n",
    "\n",
    "* `std::forward_list<T>::begin()` \n",
    "\n",
    "\n",
    "* `std::forward_list<T>::end()`\n",
    "\n",
    "\n",
    "* `std::forward_list<T>::iterator::operator++()`\n",
    "\n",
    "\n",
    "* `std::forward_list<T>::iterator::operator*()`\n"
   ]
  },
  {
   "cell_type": "markdown",
   "metadata": {
    "slideshow": {
     "slide_type": "subslide"
    }
   },
   "source": [
    "On peut ré-écrire la fonction d'affichage"
   ]
  },
  {
   "cell_type": "code",
   "execution_count": 30,
   "metadata": {},
   "outputs": [
    {
     "name": "stdout",
     "output_type": "stream",
     "text": [
      "1 → 0 → 2 → 1 → 0 → ⌀\n"
     ]
    }
   ],
   "source": [
    "def afficher(L):\n",
    "    m = debut(L)\n",
    "    while m != fin(L):\n",
    "        print(getv(m), end=\" → \")\n",
    "        m = suivant(m)\n",
    "    print(\"⌀\")\n",
    "    \n",
    "afficher(L)"
   ]
  },
  {
   "cell_type": "markdown",
   "metadata": {
    "slideshow": {
     "slide_type": "subslide"
    }
   },
   "source": [
    "Une fonction qui incrémente tous les éléments"
   ]
  },
  {
   "cell_type": "code",
   "execution_count": 31,
   "metadata": {
    "slideshow": {
     "slide_type": "-"
    }
   },
   "outputs": [
    {
     "name": "stdout",
     "output_type": "stream",
     "text": [
      "1 → 0 → 2 → 1 → 0 → ⌀\n",
      "2 → 1 → 3 → 2 → 1 → ⌀\n"
     ]
    }
   ],
   "source": [
    "def incrementer_tout(L):\n",
    "    m = debut(L)\n",
    "    while m != fin(L):\n",
    "        setv(m, getv(m)+1)\n",
    "        m = suivant(m)\n",
    "\n",
    "print(L); incrementer_tout(L); print(L)"
   ]
  },
  {
   "cell_type": "markdown",
   "metadata": {
    "slideshow": {
     "slide_type": "subslide"
    }
   },
   "source": [
    "Une fonction qui insère un zèro après chaque un."
   ]
  },
  {
   "cell_type": "code",
   "execution_count": 32,
   "metadata": {
    "slideshow": {
     "slide_type": "-"
    }
   },
   "outputs": [
    {
     "name": "stdout",
     "output_type": "stream",
     "text": [
      "2 → 1 → 3 → 2 → 1 → ⌀\n",
      "2 → 1 → 0 → 3 → 2 → 1 → 0 → ⌀\n"
     ]
    }
   ],
   "source": [
    "def inserer_zero_apres_un(L):\n",
    "    m = debut(L)\n",
    "    while m != fin(L):\n",
    "        if getv(m) == 1:\n",
    "            L.insert_after(m,0)\n",
    "        m = suivant(m)\n",
    "\n",
    "print(L); inserer_zero_apres_un(L); print(L)"
   ]
  },
  {
   "cell_type": "markdown",
   "metadata": {
    "slideshow": {
     "slide_type": "subslide"
    }
   },
   "source": [
    "Une fonction qui supprime tous les éléments de valeur 'val'"
   ]
  },
  {
   "cell_type": "code",
   "execution_count": 33,
   "metadata": {
    "slideshow": {
     "slide_type": "-"
    }
   },
   "outputs": [
    {
     "name": "stdout",
     "output_type": "stream",
     "text": [
      "2 → 1 → 0 → 3 → 2 → 1 → 0 → ⌀\n",
      "2 → 1 → 3 → 2 → 1 → ⌀\n"
     ]
    }
   ],
   "source": [
    "def supprimer_valeurs(L,val):\n",
    "    m = debut(L)\n",
    "    while m != fin(L):\n",
    "        if suivant(m) and getv(suivant(m)) == val:\n",
    "            L.erase_after(m)\n",
    "        else: m = suivant(m)\n",
    "            \n",
    "print(L); supprimer_valeurs(L,0); print(L)"
   ]
  },
  {
   "cell_type": "markdown",
   "metadata": {
    "slideshow": {
     "slide_type": "subslide"
    }
   },
   "source": [
    "Mais attention, cette fonction n'est pas correctement écrite. Essayons de supprimer la valeur 2"
   ]
  },
  {
   "cell_type": "code",
   "execution_count": 34,
   "metadata": {},
   "outputs": [
    {
     "name": "stdout",
     "output_type": "stream",
     "text": [
      "2 → 1 → 3 → 2 → 1 → ⌀\n",
      "2 → 1 → 3 → 1 → ⌀\n"
     ]
    }
   ],
   "source": [
    "print(L); supprimer_valeurs(L,2); print(L)"
   ]
  },
  {
   "cell_type": "markdown",
   "metadata": {
    "slideshow": {
     "slide_type": "subslide"
    }
   },
   "source": [
    "La valeur en tête n'est pas supprimée. \n",
    "\n",
    "Il est impossible avec le faire avec `erase_after`, puisqu'elle est en tête et pas après un autre maillon. \n",
    "\n",
    "Comment faire? \n",
    "\n",
    "* ré-écrire `supprimer_valeurs` ?\n",
    "\n",
    "\n",
    "* ré-écrire la classe `forward_list` ! "
   ]
  },
  {
   "cell_type": "markdown",
   "metadata": {
    "slideshow": {
     "slide_type": "slide"
    }
   },
   "source": [
    "## `forward_list` améliorée\n",
    "\n",
    "Le problème étant que l'on avait pas de maillon avant la tête, la solution est simple: placer un maillon **avant la tête** qui \n",
    "\n",
    "* ne stocke pas d'élément\n",
    "* stocke un lien vers le maillon de tête dans son attribut `suivant`. "
   ]
  },
  {
   "cell_type": "markdown",
   "metadata": {
    "slideshow": {
     "slide_type": "subslide"
    }
   },
   "source": [
    "Le plus proprement possible, il a son propre type"
   ]
  },
  {
   "cell_type": "code",
   "execution_count": 35,
   "metadata": {},
   "outputs": [],
   "source": [
    "class MaillonVide:\n",
    "    def __init__(self):\n",
    "        \n",
    "        self.suivant = None "
   ]
  },
  {
   "cell_type": "markdown",
   "metadata": {
    "slideshow": {
     "slide_type": "skip"
    }
   },
   "source": [
    "Réécrire le code de la classe est immédiat, et légèrement simplifié puisque `push_front` peut maintenant appeler `insert_after`"
   ]
  },
  {
   "cell_type": "code",
   "execution_count": 36,
   "metadata": {
    "slideshow": {
     "slide_type": "subslide"
    }
   },
   "outputs": [],
   "source": [
    "class forward_list:\n",
    "    def __init__(self):\n",
    "        self.av = MaillonVide() # avant tête\n",
    "                \n",
    "    def insert_after(self,m,val):\n",
    "        inserer_apres(m,val); \n",
    "                \n",
    "    def erase_after(self,m):\n",
    "        supprimer_apres(m); \n",
    "     \n",
    "    def push_front(self,val):\n",
    "        self.insert_after(self.av,val)\n",
    "\n",
    "    def pop_front(self):\n",
    "        self.erase_after(self.av)\n",
    "        \n",
    "    def empty(self): \n",
    "        return self.av.suivant == None"
   ]
  },
  {
   "cell_type": "code",
   "execution_count": 37,
   "metadata": {
    "slideshow": {
     "slide_type": "skip"
    }
   },
   "outputs": [],
   "source": [
    "def fl__str__(self): \n",
    "    return h.to_string(self.av.suivant)\n",
    "forward_list.__str__ = fl__str__"
   ]
  },
  {
   "cell_type": "markdown",
   "metadata": {
    "slideshow": {
     "slide_type": "subslide"
    }
   },
   "source": [
    "Pour itérer, on introduit une nouvelle fonction `avant_debut` et on redéfinit `debut`. Les autres sont inchangées\n",
    "\n",
    "![](include/folist_6.png)"
   ]
  },
  {
   "cell_type": "code",
   "execution_count": 38,
   "metadata": {
    "slideshow": {
     "slide_type": "subslide"
    }
   },
   "outputs": [],
   "source": [
    "def avant_debut(L): return L.av\n",
    "\n",
    "def debut(L):   return suivant(avant_debut(L))\n",
    "\n",
    "def fin(L):     return None\n",
    "\n",
    "def suivant(m): return m.suivant\n",
    "\n",
    "def getv(m):    return m.donnee\n",
    "\n",
    "def setv(m,v):  m.donnee = v"
   ]
  },
  {
   "cell_type": "markdown",
   "metadata": {
    "slideshow": {
     "slide_type": "notes"
    }
   },
   "source": [
    "*Note:* la fonction `avant_debut` correspond à `std::forward_list<T>::before_begin()` en C++"
   ]
  },
  {
   "cell_type": "markdown",
   "metadata": {
    "slideshow": {
     "slide_type": "subslide"
    }
   },
   "source": [
    "La fonction `supprimer_valeur` se réécrit en itérant depuis `avant_debut(L)`"
   ]
  },
  {
   "cell_type": "code",
   "execution_count": 39,
   "metadata": {},
   "outputs": [],
   "source": [
    "def supprimer_valeurs(L,val):\n",
    "    courant = avant_debut(L)\n",
    "    precedent = courant\n",
    "    while courant != fin(L):\n",
    "        courant = suivant(courant)\n",
    "        if courant and getv(courant) == val:\n",
    "            L.erase_after(precedent)\n",
    "        else:\n",
    "            precedent = courant"
   ]
  },
  {
   "cell_type": "code",
   "execution_count": 41,
   "metadata": {
    "slideshow": {
     "slide_type": "subslide"
    }
   },
   "outputs": [
    {
     "name": "stdout",
     "output_type": "stream",
     "text": [
      "1 → 0 → 2 → 1 → 0 → 2 → 1 → 0 → ⌀\n"
     ]
    }
   ],
   "source": [
    "L = forward_list()\n",
    "for i in range(8): \n",
    "    L.push_front(i%3)\n",
    "print(L)"
   ]
  },
  {
   "cell_type": "code",
   "execution_count": 42,
   "metadata": {},
   "outputs": [
    {
     "name": "stdout",
     "output_type": "stream",
     "text": [
      "0 → 2 → 0 → 2 → 0 → ⌀\n"
     ]
    }
   ],
   "source": [
    "supprimer_valeurs(L,1)\n",
    "print(L)"
   ]
  },
  {
   "cell_type": "markdown",
   "metadata": {
    "slideshow": {
     "slide_type": "slide"
    }
   },
   "source": [
    "## Classe `fl_iterator`\n",
    "\n",
    "Il est plus pratique d'utiliser des objets que des fonctions pour itérer. La classe `fl_iterator` \n",
    "\n",
    "* gère un pointeur vers un des maillons\n",
    "\n",
    "* met en oeuvre `getv` et `setv`\n",
    "\n",
    "* sépare la fonction `suivant` en `incr`, `copie` et `suivant`\n",
    "\n",
    "* met en oeuvre l'opérateur d'égalité pour pouvoir arrêter nos boucles."
   ]
  },
  {
   "cell_type": "markdown",
   "metadata": {
    "slideshow": {
     "slide_type": "notes"
    }
   },
   "source": [
    "*Note:* cette mise en oeuvre ressemble plus à la manière du C++ d'implanter les itérateurs qu'à celle de python. Elle me semble plus pédagogique"
   ]
  },
  {
   "cell_type": "code",
   "execution_count": 43,
   "metadata": {
    "slideshow": {
     "slide_type": "subslide"
    }
   },
   "outputs": [],
   "source": [
    "class fl_iterator:\n",
    "    def __init__(self,maillon):\n",
    "        self.M = maillon\n",
    "    def getv(self): \n",
    "        return self.M.donnee\n",
    "    def setv(self,val):\n",
    "        self.M.donnee = val   \n",
    "    def incr(self): \n",
    "        self.M = self.M.suivant\n",
    "    def copie(self): \n",
    "        return fl_iterator(self.M)  \n",
    "    def suivant(self, N = 1):\n",
    "        s = self.copie(); \n",
    "        for i in range(N): s.incr()\n",
    "        return s;  \n",
    "    def __eq__(self,other):\n",
    "        return isinstance(other,fl_iterator) \\\n",
    "               and self.M == other.M"
   ]
  },
  {
   "cell_type": "code",
   "execution_count": 44,
   "metadata": {
    "slideshow": {
     "slide_type": "skip"
    }
   },
   "outputs": [],
   "source": [
    "def fli__str__(self): return self.M.__str__()\n",
    "fl_iterator.__str__ = fli__str__"
   ]
  },
  {
   "cell_type": "markdown",
   "metadata": {
    "slideshow": {
     "slide_type": "skip"
    }
   },
   "source": [
    "Et l'on réécrit la classe `forward_list` en utilisant ces itérateurs. "
   ]
  },
  {
   "cell_type": "code",
   "execution_count": 56,
   "metadata": {
    "slideshow": {
     "slide_type": "subslide"
    }
   },
   "outputs": [],
   "source": [
    "class forward_list:\n",
    "    def __init__(self):\n",
    "        self.av = MaillonVide() \n",
    "    def before_begin(self):\n",
    "        return fl_iterator(self.av)\n",
    "    def begin(self):\n",
    "        return fl_iterator(self.av.suivant)\n",
    "    def end(self):\n",
    "        return fl_iterator(None)\n",
    "    def insert_after(self,it,v):\n",
    "        inserer_apres(it.M,v);         \n",
    "    def erase_after(self,it):\n",
    "        supprimer_apres(it.M); \n",
    "    def push_front(self,v):\n",
    "        self.insert_after(self.before_begin(),v)\n",
    "    def pop_front(self):\n",
    "        self.erase_after(self.before_begin())"
   ]
  },
  {
   "cell_type": "code",
   "execution_count": 57,
   "metadata": {
    "slideshow": {
     "slide_type": "skip"
    }
   },
   "outputs": [],
   "source": [
    "def fl__str__(self): \n",
    "    return h.to_string(self.av.suivant)\n",
    "forward_list.__str__ = fl__str__"
   ]
  },
  {
   "cell_type": "markdown",
   "metadata": {
    "slideshow": {
     "slide_type": "subslide"
    }
   },
   "source": [
    "La fonction `supprimer_valeur` précédente se réécrit alors"
   ]
  },
  {
   "cell_type": "code",
   "execution_count": 58,
   "metadata": {},
   "outputs": [],
   "source": [
    "def supprimer_valeurs(L,val):\n",
    "    prec = L.before_begin()\n",
    "    it = prec.suivant()\n",
    "    while it != L.end():\n",
    "        if it.getv() == val: \n",
    "            L.erase_after(prec)\n",
    "        else: \n",
    "            prec = it\n",
    "        it = prec.suivant()"
   ]
  },
  {
   "cell_type": "code",
   "execution_count": 59,
   "metadata": {
    "slideshow": {
     "slide_type": "subslide"
    }
   },
   "outputs": [
    {
     "name": "stdout",
     "output_type": "stream",
     "text": [
      "1 → 0 → 2 → 1 → 0 → 2 → 1 → 0 → ⌀\n"
     ]
    }
   ],
   "source": [
    "L = forward_list()\n",
    "for i in range(8):\n",
    "    L.push_front(i%3)\n",
    "print(L);"
   ]
  },
  {
   "cell_type": "code",
   "execution_count": 60,
   "metadata": {},
   "outputs": [
    {
     "name": "stdout",
     "output_type": "stream",
     "text": [
      "0 → 2 → 0 → 2 → 0 → ⌀\n"
     ]
    }
   ],
   "source": [
    "supprimer_valeurs(L,1); \n",
    "print(L)"
   ]
  },
  {
   "cell_type": "markdown",
   "metadata": {
    "slideshow": {
     "slide_type": "slide"
    }
   },
   "source": [
    "## Copie de liste\n",
    "\n",
    "La copie complète d'un liste peut paraitre simple, mais une approche naive ne fonctionne pas"
   ]
  },
  {
   "cell_type": "code",
   "execution_count": 61,
   "metadata": {},
   "outputs": [],
   "source": [
    "def copie_liste_naive(L):\n",
    "    C = forward_list()\n",
    "    it = L.begin();\n",
    "    while it != L.end():\n",
    "        C.push_front(it.getv())\n",
    "        it.incr()\n",
    "    return C"
   ]
  },
  {
   "cell_type": "code",
   "execution_count": 63,
   "metadata": {
    "slideshow": {
     "slide_type": "subslide"
    }
   },
   "outputs": [
    {
     "name": "stdout",
     "output_type": "stream",
     "text": [
      "1 → 0 → 2 → 1 → 0 → 2 → 1 → 0 → ⌀\n"
     ]
    }
   ],
   "source": [
    "L1 = forward_list()\n",
    "for i in range(8): \n",
    "    L1.push_front(i%3)\n",
    "print(L1);"
   ]
  },
  {
   "cell_type": "code",
   "execution_count": 64,
   "metadata": {},
   "outputs": [
    {
     "name": "stdout",
     "output_type": "stream",
     "text": [
      "0 → 1 → 2 → 0 → 1 → 2 → 0 → 1 → ⌀\n"
     ]
    }
   ],
   "source": [
    "L2 = copie_liste_naive(L1); \n",
    "print(L2)"
   ]
  },
  {
   "cell_type": "markdown",
   "metadata": {
    "slideshow": {
     "slide_type": "subslide"
    }
   },
   "source": [
    "Pour ne pas inverser, il faut insérer en queue - pas en tête - donc se souvenir du dernier élément de la liste en construction. "
   ]
  },
  {
   "cell_type": "code",
   "execution_count": 65,
   "metadata": {},
   "outputs": [],
   "source": [
    "def copie_liste(L):\n",
    "    C = forward_list()\n",
    "    it = L.begin();\n",
    "    last_of_C = C.before_begin()\n",
    "    while it != L.end():\n",
    "        C.insert_after(last_of_C,it.getv())\n",
    "        last_of_C.incr()\n",
    "        it.incr()\n",
    "    return C"
   ]
  },
  {
   "cell_type": "code",
   "execution_count": 67,
   "metadata": {
    "slideshow": {
     "slide_type": "subslide"
    }
   },
   "outputs": [
    {
     "name": "stdout",
     "output_type": "stream",
     "text": [
      "1 → 0 → 2 → 1 → 0 → 2 → 1 → 0 → ⌀\n"
     ]
    }
   ],
   "source": [
    "print(L1);"
   ]
  },
  {
   "cell_type": "code",
   "execution_count": 68,
   "metadata": {},
   "outputs": [
    {
     "name": "stdout",
     "output_type": "stream",
     "text": [
      "1 → 0 → 2 → 1 → 0 → 2 → 1 → 0 → ⌀\n"
     ]
    }
   ],
   "source": [
    "L2 = copie_liste(L1); \n",
    "print(L2)"
   ]
  },
  {
   "cell_type": "markdown",
   "metadata": {
    "slideshow": {
     "slide_type": "slide"
    }
   },
   "source": [
    "## Conclusions\n",
    "\n",
    "Une liste simplement chainée utilise comme maillons des structures stockant individuellement\n",
    "\n",
    "* un élément\n",
    "* un lien vers l'élément suivant\n",
    "\n",
    "Les opérations efficaces en $\\Theta(1)$ sont\n",
    "\n",
    "* insertion et suppression en tête\n",
    "* insertion et suppression après une position connue"
   ]
  },
  {
   "cell_type": "markdown",
   "metadata": {
    "slideshow": {
     "slide_type": "subslide"
    }
   },
   "source": [
    "Il n'y a ni pas d'accès indexé ou d'opération en queue. \n",
    "\n",
    "La mise en oeuvre de l'itération et l'utilisation d'un noeud vide en tête simplifient l'utilisation de la structure. "
   ]
  },
  {
   "cell_type": "markdown",
   "metadata": {
    "slideshow": {
     "slide_type": "slide"
    }
   },
   "source": [
    "<table style=\"width: 100%; border: 0px\">\n",
    "<tr style=\"background-color:white; border:0px\">\n",
    "<td style=\"width: 120px; border: 0px\">\n",
    "    <img src=\"https://heig-vd.ch/ResourcePackages/WhiteFox/assets/images/logo-heig-vd.svg\" height=200px align=left >\n",
    "    </td>\n",
    "    <td style=\"vertical-align: middle; border: 0px\" height=200px>\n",
    "    <p style=\"text-align: left\">\n",
    "        <a href=\"https://ocuisenaire.github.io/ASD1-notebooks/\">ASD1 Notebooks on GitHub.io</a>\n",
    " </p>        \n",
    "<p style=\"text-align: left\">\n",
    "© Olivier Cuisenaire, 2018 </p>\n",
    "</td>\n",
    "</tr>\n",
    "</table>"
   ]
  }
 ],
 "metadata": {
  "celltoolbar": "Slideshow",
  "kernelspec": {
   "display_name": "Python 3",
   "language": "python",
   "name": "python3"
  },
  "language_info": {
   "codemirror_mode": {
    "name": "ipython",
    "version": 3
   },
   "file_extension": ".py",
   "mimetype": "text/x-python",
   "name": "python",
   "nbconvert_exporter": "python",
   "pygments_lexer": "ipython3",
   "version": "3.6.5"
  }
 },
 "nbformat": 4,
 "nbformat_minor": 2
}
