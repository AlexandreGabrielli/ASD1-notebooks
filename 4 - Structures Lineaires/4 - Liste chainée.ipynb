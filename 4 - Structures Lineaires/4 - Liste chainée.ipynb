{
 "cells": [
  {
   "cell_type": "markdown",
   "metadata": {
    "slideshow": {
     "slide_type": "slide"
    }
   },
   "source": [
    "# Liste Simplement Chainée"
   ]
  },
  {
   "cell_type": "markdown",
   "metadata": {
    "slideshow": {
     "slide_type": "slide"
    }
   },
   "source": [
    "## Principe\n",
    "\n",
    "Les listes chainées se libèrent de la contrainte de stocker les éléments dans des emplacements contigus en mémoire."
   ]
  },
  {
   "cell_type": "markdown",
   "metadata": {
    "slideshow": {
     "slide_type": "fragment"
    }
   },
   "source": [
    "#### Bénéfice:\n",
    "\n",
    "Aucune déplacement d'élément n'est nécessaire pour \n",
    "\n",
    "* l'insertion \n",
    "* la suppression "
   ]
  },
  {
   "cell_type": "markdown",
   "metadata": {
    "slideshow": {
     "slide_type": "fragment"
    }
   },
   "source": [
    "#### Coûts:\n",
    "\n",
    "* stocker explicitement l'emplacement de l'élément suivant\n",
    "* avancer de $k$ positions = passer $k$ fois à l'élément suivant\n",
    "* utilisation moins efficace de la mémoire cache"
   ]
  },
  {
   "cell_type": "markdown",
   "metadata": {
    "slideshow": {
     "slide_type": "subslide"
    }
   },
   "source": [
    "Les éléments de la liste sont stockés indivuellement dans les maillons de la chaine. Chaque maillon stocke\n",
    "\n",
    "* l'élément\n",
    "* un pointeur vers le maillon suivant"
   ]
  },
  {
   "cell_type": "code",
   "execution_count": 1,
   "metadata": {},
   "outputs": [],
   "source": [
    "class Maillon:\n",
    "    def __init__(self,valeur):\n",
    "        self.donnee = valeur       \n",
    "        self.suivant = None "
   ]
  },
  {
   "cell_type": "markdown",
   "metadata": {
    "slideshow": {
     "slide_type": "subslide"
    }
   },
   "source": [
    "Cette structure suffit à constuire une liste manuellement "
   ]
  },
  {
   "cell_type": "code",
   "execution_count": 2,
   "metadata": {},
   "outputs": [],
   "source": [
    "tete = Maillon(12) \n",
    "tete.suivant = Maillon(99) \n",
    "tete.suivant.suivant = Maillon(37) "
   ]
  },
  {
   "cell_type": "markdown",
   "metadata": {
    "slideshow": {
     "slide_type": "fragment"
    }
   },
   "source": [
    "Nous utilisons une fonction annexe pour afficher cette liste"
   ]
  },
  {
   "cell_type": "code",
   "execution_count": 3,
   "metadata": {
    "slideshow": {
     "slide_type": "-"
    }
   },
   "outputs": [
    {
     "name": "stdout",
     "output_type": "stream",
     "text": [
      "12 → 99 → 37 → ⌀\n"
     ]
    }
   ],
   "source": [
    "import include.liste_simple as h; \n",
    "Maillon.__str__ = h.afficher_maillon\n",
    "print(tete) "
   ]
  },
  {
   "cell_type": "markdown",
   "metadata": {
    "slideshow": {
     "slide_type": "slide"
    }
   },
   "source": [
    "## Parcours\n",
    "\n",
    "Pour traverser tous les éléments d'une liste, il faut \n",
    "\n",
    "* traiter le maillon courant\n",
    "* passer au maillon suivant\n",
    "* jusqu'à ce que l'on atteigne un maillon nul"
   ]
  },
  {
   "cell_type": "markdown",
   "metadata": {
    "slideshow": {
     "slide_type": "subslide"
    }
   },
   "source": [
    "On peut l'écrire récursivement"
   ]
  },
  {
   "cell_type": "code",
   "execution_count": 4,
   "metadata": {},
   "outputs": [],
   "source": [
    "def traverser(M):\n",
    "    if M != None:\n",
    "        print(M.donnee, end = \" → \")\n",
    "        traverser(M.suivant)\n",
    "    else:\n",
    "        print(\"⌀\")"
   ]
  },
  {
   "cell_type": "code",
   "execution_count": 5,
   "metadata": {
    "slideshow": {
     "slide_type": "-"
    }
   },
   "outputs": [
    {
     "name": "stdout",
     "output_type": "stream",
     "text": [
      "12 → 99 → 37 → ⌀\n"
     ]
    }
   ],
   "source": [
    "traverser(tete)"
   ]
  },
  {
   "cell_type": "markdown",
   "metadata": {
    "slideshow": {
     "slide_type": "subslide"
    }
   },
   "source": [
    "on peut l'écrire itérativement "
   ]
  },
  {
   "cell_type": "code",
   "execution_count": 6,
   "metadata": {
    "slideshow": {
     "slide_type": "-"
    }
   },
   "outputs": [],
   "source": [
    "def traverser(M):\n",
    "    while M != None:\n",
    "        print(M.donnee, end = \" → \")\n",
    "        M = M.suivant\n",
    "    print(\"⌀\")"
   ]
  },
  {
   "cell_type": "code",
   "execution_count": 7,
   "metadata": {
    "slideshow": {
     "slide_type": "-"
    }
   },
   "outputs": [
    {
     "name": "stdout",
     "output_type": "stream",
     "text": [
      "12 → 99 → 37 → ⌀\n"
     ]
    }
   ],
   "source": [
    "traverser(tete)"
   ]
  },
  {
   "cell_type": "markdown",
   "metadata": {
    "slideshow": {
     "slide_type": "fragment"
    }
   },
   "source": [
    "L'approche itérative est plus appropriée. Une liste peut contenir plus d'éléments que la profondeur de récursion maximale. Les approches récursives sont donc à proscrire. "
   ]
  },
  {
   "cell_type": "markdown",
   "metadata": {
    "slideshow": {
     "slide_type": "slide"
    }
   },
   "source": [
    "## Opérations en tête\n",
    "\n",
    "Insérer et supprimer en tête sont des opérations simples.\n",
    "\n",
    "Pour insérer, on doit\n",
    "\n",
    "* créer un nouveau maillon qui deviendra la tête\n",
    "* faire de l'ancienne tête le maillon suivant la nouvelle tête"
   ]
  },
  {
   "cell_type": "code",
   "execution_count": 8,
   "metadata": {},
   "outputs": [],
   "source": [
    "def inserer_en_tete(ancienne_tete, valeur):\n",
    "    nouvelle_tete = Maillon(valeur)\n",
    "    nouvelle_tete.suivant = ancienne_tete\n",
    "    return nouvelle_tete"
   ]
  },
  {
   "cell_type": "code",
   "execution_count": 9,
   "metadata": {},
   "outputs": [
    {
     "name": "stdout",
     "output_type": "stream",
     "text": [
      "12 → 99 → 37 → ⌀\n",
      "25 → 12 → 99 → 37 → ⌀\n"
     ]
    }
   ],
   "source": [
    "print(tete)\n",
    "tete = inserer_en_tete(tete,25)\n",
    "print(tete)"
   ]
  },
  {
   "cell_type": "markdown",
   "metadata": {
    "slideshow": {
     "slide_type": "subslide"
    }
   },
   "source": [
    "Supprimer en tête est encore plus simple. Il suffit de remplacer la tête par l'élément suivant"
   ]
  },
  {
   "cell_type": "code",
   "execution_count": 10,
   "metadata": {
    "slideshow": {
     "slide_type": "-"
    }
   },
   "outputs": [],
   "source": [
    "def supprimer_en_tete(ancienne_tete):\n",
    "    assert(ancienne_tete)\n",
    "    nouvelle_tete = ancienne_tete.suivant\n",
    "    return nouvelle_tete"
   ]
  },
  {
   "cell_type": "code",
   "execution_count": 11,
   "metadata": {},
   "outputs": [
    {
     "name": "stdout",
     "output_type": "stream",
     "text": [
      "25 → 12 → 99 → 37 → ⌀\n",
      "12 → 99 → 37 → ⌀\n"
     ]
    }
   ],
   "source": [
    "print(tete)\n",
    "tete = supprimer_en_tete(tete)\n",
    "print(tete)"
   ]
  },
  {
   "cell_type": "markdown",
   "metadata": {
    "slideshow": {
     "slide_type": "fragment"
    }
   },
   "source": [
    "Attention, dans un langage où il faut détruire explicitement les objets allouées dynamiquement - comme le C++ - il ne faut pas oublier de détruire le maillon supprimé"
   ]
  },
  {
   "cell_type": "markdown",
   "metadata": {
    "slideshow": {
     "slide_type": "slide"
    }
   },
   "source": [
    "## Opérations en position quelconque\n",
    "\n",
    "Insérer ou supprimer après un maillon connu est également efficace. \n",
    "\n",
    "Pour insérer un élément derrière le maillon `M`, il faut\n",
    "\n",
    "* créer un nouveau maillon\n",
    "* insérer ce maillon entre `M` et `M.suivant`"
   ]
  },
  {
   "cell_type": "code",
   "execution_count": 12,
   "metadata": {},
   "outputs": [],
   "source": [
    "def inserer_apres(M, valeur):\n",
    "    assert(M)\n",
    "    nouveau = Maillon(valeur)\n",
    "    nouveau.suivant = M.suivant\n",
    "    M.suivant = nouveau"
   ]
  },
  {
   "cell_type": "code",
   "execution_count": 13,
   "metadata": {
    "slideshow": {
     "slide_type": "fragment"
    }
   },
   "outputs": [
    {
     "name": "stdout",
     "output_type": "stream",
     "text": [
      "12 → 99 → 37 → ⌀\n",
      "12 → 99 → 42 → 37 → ⌀\n"
     ]
    }
   ],
   "source": [
    "print(tete)\n",
    "inserer_apres(tete.suivant,42)\n",
    "print(tete)"
   ]
  },
  {
   "cell_type": "markdown",
   "metadata": {
    "slideshow": {
     "slide_type": "subslide"
    }
   },
   "source": [
    "Pour supprimer l'élément suivant le maillon M, il suivit de faire pointer `M.suivant` vers l'élément suivant celui à supprimer"
   ]
  },
  {
   "cell_type": "code",
   "execution_count": 14,
   "metadata": {
    "slideshow": {
     "slide_type": "-"
    }
   },
   "outputs": [],
   "source": [
    "def supprimer_apres(M):\n",
    "    assert(M != None and M.suivant != None)\n",
    "    M.suivant = M.suivant.suivant"
   ]
  },
  {
   "cell_type": "code",
   "execution_count": 15,
   "metadata": {},
   "outputs": [
    {
     "name": "stdout",
     "output_type": "stream",
     "text": [
      "12 → 99 → 42 → 37 → ⌀\n",
      "12 → 42 → 37 → ⌀\n"
     ]
    }
   ],
   "source": [
    "print(tete)\n",
    "supprimer_apres(tete)\n",
    "print(tete)"
   ]
  },
  {
   "cell_type": "markdown",
   "metadata": {
    "slideshow": {
     "slide_type": "subslide"
    }
   },
   "source": [
    "Cette opération nous permet de faire des traitement complexes comme d'ôter les éléments se répétants en positions successives (comme `std::unique` en C++)"
   ]
  },
  {
   "cell_type": "code",
   "execution_count": 20,
   "metadata": {
    "slideshow": {
     "slide_type": "skip"
    }
   },
   "outputs": [],
   "source": [
    "zeros_un_deux = None\n",
    "for i in range(5):\n",
    "    for j in range((i+3)//2):\n",
    "        zeros_un_deux = inserer_en_tete(zeros_un_deux,i%3)"
   ]
  },
  {
   "cell_type": "code",
   "execution_count": 21,
   "metadata": {},
   "outputs": [
    {
     "name": "stdout",
     "output_type": "stream",
     "text": [
      "1 → 1 → 1 → 0 → 0 → 0 → 2 → 2 → 1 → 1 → 0 → ⌀\n"
     ]
    }
   ],
   "source": [
    "print(zeros_un_deux)"
   ]
  },
  {
   "cell_type": "code",
   "execution_count": 22,
   "metadata": {
    "slideshow": {
     "slide_type": "fragment"
    }
   },
   "outputs": [],
   "source": [
    "def oter_repetitions(M):\n",
    "    while M != None and M.suivant != None:\n",
    "        if M.donnee == M.suivant.donnee:\n",
    "            supprimer_apres(M)\n",
    "        else:\n",
    "            M = M.suivant"
   ]
  },
  {
   "cell_type": "code",
   "execution_count": 23,
   "metadata": {
    "slideshow": {
     "slide_type": "fragment"
    }
   },
   "outputs": [
    {
     "name": "stdout",
     "output_type": "stream",
     "text": [
      "1 → 0 → 2 → 1 → 0 → ⌀\n"
     ]
    }
   ],
   "source": [
    "oter_repetitions(zeros_un_deux)\n",
    "print(zeros_un_deux)"
   ]
  },
  {
   "cell_type": "markdown",
   "metadata": {
    "slideshow": {
     "slide_type": "slide"
    }
   },
   "source": [
    "## Classe ListeSimple\n",
    "\n",
    "S'il est possible de se contenter de la classe (ou structure) `Maillon`, il peut être utile de définir une classe `ListeSimple` qui \n",
    "\n",
    "* se souvient de **quel maillon est la tête**. On évite ainsi de devoir écrire `tete = inserer_en_tete(tete,25)`, qui est source d'erreurs si l'on oublie d'affecter le résultat à `tete`\n",
    "\n",
    "\n",
    "\n",
    "* stocke éventuellement d'autres information comme la **taille de la liste**. Sinon, calculer la taille d'une liste de $n$ éléments est un opération de complexité $\\Theta(n)$\n"
   ]
  },
  {
   "cell_type": "code",
   "execution_count": 61,
   "metadata": {
    "slideshow": {
     "slide_type": "subslide"
    }
   },
   "outputs": [],
   "source": [
    "class ListeSimple:\n",
    "    \n",
    "    def __init__(self):\n",
    "        self.tete = None\n",
    "        self.taille = 0\n",
    "        \n",
    "    def __str__(self): \n",
    "        return h.afficher_maillon(self.tete)\n",
    "\n",
    "    def inserer_en_tete(self,valeur):\n",
    "        self.tete = inserer_en_tete(self.tete,valeur)\n",
    "        self.taille += 1\n",
    "\n",
    "    def supprimer_en_tete(self):\n",
    "        assert(self.taille > 0)\n",
    "        self.tete = supprimer_en_tete(self.tete)\n",
    "        self.taille -= 1"
   ]
  },
  {
   "cell_type": "code",
   "execution_count": 35,
   "metadata": {
    "slideshow": {
     "slide_type": "subslide"
    }
   },
   "outputs": [
    {
     "name": "stdout",
     "output_type": "stream",
     "text": [
      "1 → 0 → 3 → 2 → 1 → 0 → 3 → 2 → 1 → 0 → ⌀\n"
     ]
    }
   ],
   "source": [
    "L = ListeSimple()\n",
    "for i in range(10):\n",
    "    L.inserer_en_tete(i%4)\n",
    "print(L)"
   ]
  },
  {
   "cell_type": "code",
   "execution_count": 59,
   "metadata": {},
   "outputs": [
    {
     "name": "stdout",
     "output_type": "stream",
     "text": [
      "0 → 3 → 2 → 1 → 0 → 3 → 2 → 1 → 0 → ⌀\n"
     ]
    }
   ],
   "source": [
    "L.supprimer_en_tete()\n",
    "print(L)"
   ]
  },
  {
   "cell_type": "code",
   "execution_count": 60,
   "metadata": {},
   "outputs": [
    {
     "name": "stdout",
     "output_type": "stream",
     "text": [
      "9\n"
     ]
    }
   ],
   "source": [
    "print(L.taille)"
   ]
  },
  {
   "cell_type": "markdown",
   "metadata": {
    "slideshow": {
     "slide_type": "slide"
    }
   },
   "source": [
    "<table style=\"width: 100%; border: 0px\">\n",
    "<tr style=\"background-color:white; border:0px\">\n",
    "<td style=\"width: 120px; border: 0px\">\n",
    "    <img src=\"https://heig-vd.ch/ResourcePackages/WhiteFox/assets/images/logo-heig-vd.svg\" height=200px align=left >\n",
    "    </td>\n",
    "    <td style=\"vertical-align: middle; border: 0px\" height=200px>\n",
    "    <p style=\"text-align: left\">\n",
    "        <a href=\"https://ocuisenaire.github.io/ASD1-notebooks/\">ASD1 Notebooks on GitHub.io</a>\n",
    " </p>        \n",
    "<p style=\"text-align: left\">\n",
    "© Olivier Cuisenaire, 2018 </p>\n",
    "</td>\n",
    "</tr>\n",
    "</table>"
   ]
  },
  {
   "cell_type": "raw",
   "metadata": {},
   "source": [
    "<style type=\"text/css\">\n",
    ".reveal {\n",
    "font-size: 200%;\n",
    "}</style>"
   ]
  }
 ],
 "metadata": {
  "celltoolbar": "Slideshow",
  "kernelspec": {
   "display_name": "Python 3",
   "language": "python",
   "name": "python3"
  },
  "language_info": {
   "codemirror_mode": {
    "name": "ipython",
    "version": 3
   },
   "file_extension": ".py",
   "mimetype": "text/x-python",
   "name": "python",
   "nbconvert_exporter": "python",
   "pygments_lexer": "ipython3",
   "version": "3.6.5"
  }
 },
 "nbformat": 4,
 "nbformat_minor": 2
}
