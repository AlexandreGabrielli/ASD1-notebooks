{
 "cells": [
  {
   "cell_type": "code",
   "execution_count": 2,
   "metadata": {},
   "outputs": [],
   "source": [
    "class Node:\n",
    "    def __init__(self,val):\n",
    "        self.val = val       # valeur stockée\n",
    "        self.next = None     # pointeur vers l'élément suivant"
   ]
  },
  {
   "cell_type": "code",
   "execution_count": 3,
   "metadata": {},
   "outputs": [],
   "source": [
    "head = Node(12) \n",
    "head.next = Node(99) \n",
    "head.next.next = Node(37) \n",
    "\n",
    "# the entire linked list now looks like: 12->99->37"
   ]
  },
  {
   "cell_type": "code",
   "execution_count": 16,
   "metadata": {},
   "outputs": [],
   "source": [
    "def traverse(head):\n",
    "    node = head\n",
    "    while node != None:\n",
    "        print(node.val, end = \" → \")    # access the node value\n",
    "        node = node.next                # move on to the next node\n",
    "    print(\"⌀\")"
   ]
  },
  {
   "cell_type": "code",
   "execution_count": 17,
   "metadata": {},
   "outputs": [
    {
     "name": "stdout",
     "output_type": "stream",
     "text": [
      "12 → 99 → 42 → ⌀\n"
     ]
    }
   ],
   "source": [
    "traverse(head)"
   ]
  },
  {
   "cell_type": "code",
   "execution_count": 18,
   "metadata": {},
   "outputs": [],
   "source": [
    "def push_front(front, value):\n",
    "    node = Node(value)\n",
    "    node.next = front\n",
    "    return node"
   ]
  },
  {
   "cell_type": "code",
   "execution_count": 19,
   "metadata": {},
   "outputs": [
    {
     "name": "stdout",
     "output_type": "stream",
     "text": [
      "25 → 12 → 99 → 42 → ⌀\n"
     ]
    }
   ],
   "source": [
    "head = push_front(head,25)\n",
    "traverse(head)"
   ]
  },
  {
   "cell_type": "code",
   "execution_count": 20,
   "metadata": {},
   "outputs": [],
   "source": [
    "def pop_front(front):\n",
    "    return front.next"
   ]
  },
  {
   "cell_type": "code",
   "execution_count": 21,
   "metadata": {},
   "outputs": [
    {
     "name": "stdout",
     "output_type": "stream",
     "text": [
      "12 → 99 → 42 → ⌀\n"
     ]
    }
   ],
   "source": [
    "head = pop_front(head)\n",
    "traverse(head)"
   ]
  },
  {
   "cell_type": "code",
   "execution_count": 22,
   "metadata": {},
   "outputs": [],
   "source": [
    "def insert_after(before, value):\n",
    "    node = Node(value)\n",
    "    node.next = before.next\n",
    "    before.next = node"
   ]
  },
  {
   "cell_type": "code",
   "execution_count": 23,
   "metadata": {},
   "outputs": [
    {
     "name": "stdout",
     "output_type": "stream",
     "text": [
      "12 → 99 → 42 → 42 → ⌀\n"
     ]
    }
   ],
   "source": [
    "insert_after(head.next,42)\n",
    "traverse(head)"
   ]
  },
  {
   "cell_type": "code",
   "execution_count": 24,
   "metadata": {},
   "outputs": [],
   "source": [
    "def erase_after(before):\n",
    "    if before.next:\n",
    "        before.next = before.next.next"
   ]
  },
  {
   "cell_type": "code",
   "execution_count": 25,
   "metadata": {},
   "outputs": [
    {
     "name": "stdout",
     "output_type": "stream",
     "text": [
      "12 → 99 → 42 → ⌀\n"
     ]
    }
   ],
   "source": [
    "erase_after(head.next.next)\n",
    "traverse(head)"
   ]
  },
  {
   "cell_type": "code",
   "execution_count": null,
   "metadata": {},
   "outputs": [],
   "source": []
  }
 ],
 "metadata": {
  "kernelspec": {
   "display_name": "Python 3",
   "language": "python",
   "name": "python3"
  },
  "language_info": {
   "codemirror_mode": {
    "name": "ipython",
    "version": 3
   },
   "file_extension": ".py",
   "mimetype": "text/x-python",
   "name": "python",
   "nbconvert_exporter": "python",
   "pygments_lexer": "ipython3",
   "version": "3.6.5"
  }
 },
 "nbformat": 4,
 "nbformat_minor": 2
}
