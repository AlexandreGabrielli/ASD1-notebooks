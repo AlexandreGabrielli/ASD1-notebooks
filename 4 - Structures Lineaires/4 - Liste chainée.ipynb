{
 "cells": [
  {
   "cell_type": "markdown",
   "metadata": {
    "slideshow": {
     "slide_type": "slide"
    }
   },
   "source": [
    "# Liste Simplement Chainée"
   ]
  },
  {
   "cell_type": "markdown",
   "metadata": {
    "slideshow": {
     "slide_type": "slide"
    }
   },
   "source": [
    "## Principe\n",
    "\n",
    "Les listes chainées se libèrent de la contrainte de stocker les éléments dans des emplacements contigus en mémoire."
   ]
  },
  {
   "cell_type": "markdown",
   "metadata": {
    "slideshow": {
     "slide_type": "fragment"
    }
   },
   "source": [
    "#### Bénéfice:\n",
    "\n",
    "Aucune déplacement d'élément n'est nécessaire pour \n",
    "\n",
    "* l'insertion \n",
    "* la suppression "
   ]
  },
  {
   "cell_type": "markdown",
   "metadata": {
    "slideshow": {
     "slide_type": "fragment"
    }
   },
   "source": [
    "#### Coûts:\n",
    "\n",
    "* stocker explicitement l'emplacement de l'élément suivant\n",
    "* avancer de $k$ positions = passer $k$ fois à l'élément suivant\n",
    "* utilisation moins efficace de la mémoire cache"
   ]
  },
  {
   "cell_type": "markdown",
   "metadata": {
    "slideshow": {
     "slide_type": "subslide"
    }
   },
   "source": [
    "Les éléments de la liste sont stockés indivuellement dans les maillons de la chaine. Chaque maillon stocke\n",
    "\n",
    "* l'élément\n",
    "* un pointeur vers le maillon suivant"
   ]
  },
  {
   "cell_type": "code",
   "execution_count": 1,
   "metadata": {},
   "outputs": [],
   "source": [
    "class Maillon:\n",
    "    def __init__(self,valeur):\n",
    "        self.donnee = valeur       \n",
    "        self.suivant = None \n",
    "        \n",
    "    def __str__(self):\n",
    "        return \"{}\".format(self.donnee)"
   ]
  },
  {
   "cell_type": "markdown",
   "metadata": {
    "slideshow": {
     "slide_type": "subslide"
    }
   },
   "source": [
    "Cette structure suffit à constuire une liste manuellement "
   ]
  },
  {
   "cell_type": "code",
   "execution_count": 2,
   "metadata": {},
   "outputs": [],
   "source": [
    "tete = Maillon(12) \n",
    "tete.suivant = Maillon(99) \n",
    "tete.suivant.suivant = Maillon(37) "
   ]
  },
  {
   "cell_type": "markdown",
   "metadata": {
    "slideshow": {
     "slide_type": "fragment"
    }
   },
   "source": [
    "Nous utilisons une fonction annexe pour afficher cette liste"
   ]
  },
  {
   "cell_type": "code",
   "execution_count": 3,
   "metadata": {
    "slideshow": {
     "slide_type": "-"
    }
   },
   "outputs": [],
   "source": [
    "import include.liste_simple as h; \n",
    "print(h.to_string(tete)) "
   ]
  },
  {
   "cell_type": "markdown",
   "metadata": {
    "slideshow": {
     "slide_type": "slide"
    }
   },
   "source": [
    "## Parcours\n",
    "\n",
    "Pour traverser tous les éléments d'une liste, il faut \n",
    "\n",
    "* traiter le maillon courant\n",
    "* passer au maillon suivant\n",
    "* jusqu'à ce que l'on atteigne un maillon nul"
   ]
  },
  {
   "cell_type": "markdown",
   "metadata": {
    "slideshow": {
     "slide_type": "subslide"
    }
   },
   "source": [
    "On peut l'écrire récursivement"
   ]
  },
  {
   "cell_type": "code",
   "execution_count": 4,
   "metadata": {},
   "outputs": [],
   "source": [
    "def traverser(M):\n",
    "    if M != None:\n",
    "        print(M, end = \" → \")\n",
    "        traverser(M.suivant)\n",
    "    else:\n",
    "        print(\"⌀\")"
   ]
  },
  {
   "cell_type": "code",
   "execution_count": 5,
   "metadata": {
    "slideshow": {
     "slide_type": "-"
    }
   },
   "outputs": [
    {
     "name": "stdout",
     "output_type": "stream",
     "text": [
      "12 → 99 → 37 → ⌀\n"
     ]
    }
   ],
   "source": [
    "traverser(tete)"
   ]
  },
  {
   "cell_type": "markdown",
   "metadata": {
    "slideshow": {
     "slide_type": "subslide"
    }
   },
   "source": [
    "on peut l'écrire itérativement "
   ]
  },
  {
   "cell_type": "code",
   "execution_count": 6,
   "metadata": {
    "slideshow": {
     "slide_type": "-"
    }
   },
   "outputs": [],
   "source": [
    "def traverser(M):\n",
    "    while M != None:\n",
    "        print(M, end = \" → \")\n",
    "        M = M.suivant\n",
    "    print(\"⌀\")"
   ]
  },
  {
   "cell_type": "code",
   "execution_count": 7,
   "metadata": {
    "slideshow": {
     "slide_type": "-"
    }
   },
   "outputs": [
    {
     "name": "stdout",
     "output_type": "stream",
     "text": [
      "12 → 99 → 37 → ⌀\n"
     ]
    }
   ],
   "source": [
    "traverser(tete)"
   ]
  },
  {
   "cell_type": "markdown",
   "metadata": {
    "slideshow": {
     "slide_type": "fragment"
    }
   },
   "source": [
    "L'approche itérative est plus appropriée. Une liste peut contenir plus d'éléments que la profondeur de récursion maximale. Les approches récursives sont donc à proscrire. "
   ]
  },
  {
   "cell_type": "markdown",
   "metadata": {
    "slideshow": {
     "slide_type": "slide"
    }
   },
   "source": [
    "## Opérations en tête\n",
    "\n",
    "Insérer et supprimer en tête sont des opérations simples.\n",
    "\n",
    "Pour insérer, on doit\n",
    "\n",
    "* créer un nouveau maillon qui deviendra la tête\n",
    "* faire de l'ancienne tête le maillon suivant la nouvelle tête"
   ]
  },
  {
   "cell_type": "code",
   "execution_count": 8,
   "metadata": {},
   "outputs": [],
   "source": [
    "def inserer_en_tete(ancienne_tete, valeur):\n",
    "    nouvelle_tete = Maillon(valeur)\n",
    "    nouvelle_tete.suivant = ancienne_tete\n",
    "    return nouvelle_tete"
   ]
  },
  {
   "cell_type": "code",
   "execution_count": 9,
   "metadata": {},
   "outputs": [
    {
     "name": "stdout",
     "output_type": "stream",
     "text": [
      "12 → 99 → 37 → ⌀\n",
      "25 → 12 → 99 → 37 → ⌀\n"
     ]
    }
   ],
   "source": [
    "print(h.to_string(tete)) \n",
    "tete = inserer_en_tete(tete,25)\n",
    "print(h.to_string(tete)) "
   ]
  },
  {
   "cell_type": "markdown",
   "metadata": {
    "slideshow": {
     "slide_type": "subslide"
    }
   },
   "source": [
    "Supprimer en tête est encore plus simple. Il suffit de remplacer la tête par l'élément suivant"
   ]
  },
  {
   "cell_type": "code",
   "execution_count": 10,
   "metadata": {
    "slideshow": {
     "slide_type": "-"
    }
   },
   "outputs": [],
   "source": [
    "def supprimer_en_tete(ancienne_tete):\n",
    "    assert(ancienne_tete)\n",
    "    nouvelle_tete = ancienne_tete.suivant\n",
    "    return nouvelle_tete"
   ]
  },
  {
   "cell_type": "code",
   "execution_count": 11,
   "metadata": {},
   "outputs": [
    {
     "name": "stdout",
     "output_type": "stream",
     "text": [
      "25 → 12 → 99 → 37 → ⌀\n",
      "12 → 99 → 37 → ⌀\n"
     ]
    }
   ],
   "source": [
    "print(h.to_string(tete)) \n",
    "tete = supprimer_en_tete(tete)\n",
    "print(h.to_string(tete)) "
   ]
  },
  {
   "cell_type": "markdown",
   "metadata": {
    "slideshow": {
     "slide_type": "fragment"
    }
   },
   "source": [
    "Attention, dans un langage où il faut détruire explicitement les objets alloués dynamiquement - comme le C++ - il ne faut pas oublier de détruire le maillon supprimé"
   ]
  },
  {
   "cell_type": "markdown",
   "metadata": {
    "slideshow": {
     "slide_type": "slide"
    }
   },
   "source": [
    "## Opérations en position quelconque\n",
    "\n",
    "Insérer ou supprimer après un maillon connu est également efficace. \n",
    "\n",
    "Pour insérer un élément derrière le maillon `M`, il faut\n",
    "\n",
    "* créer un nouveau maillon\n",
    "* insérer ce maillon entre `M` et `M.suivant`"
   ]
  },
  {
   "cell_type": "code",
   "execution_count": 12,
   "metadata": {},
   "outputs": [],
   "source": [
    "def inserer_apres(M, valeur):\n",
    "    assert(M)\n",
    "    nouveau = Maillon(valeur)\n",
    "    nouveau.suivant = M.suivant\n",
    "    M.suivant = nouveau"
   ]
  },
  {
   "cell_type": "code",
   "execution_count": 13,
   "metadata": {
    "slideshow": {
     "slide_type": "fragment"
    }
   },
   "outputs": [
    {
     "name": "stdout",
     "output_type": "stream",
     "text": [
      "12 → 99 → 37 → ⌀\n",
      "12 → 99 → 42 → 37 → ⌀\n"
     ]
    }
   ],
   "source": [
    "print(h.to_string(tete)) \n",
    "inserer_apres(tete.suivant,42)\n",
    "print(h.to_string(tete)) "
   ]
  },
  {
   "cell_type": "markdown",
   "metadata": {
    "slideshow": {
     "slide_type": "subslide"
    }
   },
   "source": [
    "Pour supprimer l'élément suivant le maillon M, il suivit de faire pointer `M.suivant` vers l'élément suivant celui à supprimer"
   ]
  },
  {
   "cell_type": "code",
   "execution_count": 14,
   "metadata": {
    "slideshow": {
     "slide_type": "-"
    }
   },
   "outputs": [],
   "source": [
    "def supprimer_apres(M):\n",
    "    assert(M != None and M.suivant != None)\n",
    "    M.suivant = M.suivant.suivant"
   ]
  },
  {
   "cell_type": "code",
   "execution_count": 15,
   "metadata": {},
   "outputs": [
    {
     "name": "stdout",
     "output_type": "stream",
     "text": [
      "12 → 99 → 42 → 37 → ⌀\n",
      "12 → 42 → 37 → ⌀\n"
     ]
    }
   ],
   "source": [
    "print(h.to_string(tete)) \n",
    "supprimer_apres(tete)\n",
    "print(h.to_string(tete)) "
   ]
  },
  {
   "cell_type": "markdown",
   "metadata": {
    "slideshow": {
     "slide_type": "subslide"
    }
   },
   "source": [
    "Cette opération nous permet de faire des traitement complexes comme ôter les éléments se répétant en positions successives (comme `std::unique` en C++)"
   ]
  },
  {
   "cell_type": "code",
   "execution_count": 16,
   "metadata": {
    "slideshow": {
     "slide_type": "skip"
    }
   },
   "outputs": [],
   "source": [
    "zeros_un_deux = None\n",
    "for i in range(5):\n",
    "    for j in range((i+3)//2):\n",
    "        zeros_un_deux = inserer_en_tete(zeros_un_deux,i%3)"
   ]
  },
  {
   "cell_type": "code",
   "execution_count": 17,
   "metadata": {},
   "outputs": [
    {
     "name": "stdout",
     "output_type": "stream",
     "text": [
      "1 → 1 → 1 → 0 → 0 → 0 → 2 → 2 → 1 → 1 → 0 → ⌀\n"
     ]
    }
   ],
   "source": [
    "print(h.to_string(zeros_un_deux))"
   ]
  },
  {
   "cell_type": "code",
   "execution_count": 18,
   "metadata": {
    "slideshow": {
     "slide_type": "fragment"
    }
   },
   "outputs": [],
   "source": [
    "def oter_repetitions(M):\n",
    "    while M != None and M.suivant != None:\n",
    "        if M.donnee == M.suivant.donnee:\n",
    "            supprimer_apres(M)\n",
    "        else:\n",
    "            M = M.suivant"
   ]
  },
  {
   "cell_type": "code",
   "execution_count": 19,
   "metadata": {
    "slideshow": {
     "slide_type": "fragment"
    }
   },
   "outputs": [
    {
     "name": "stdout",
     "output_type": "stream",
     "text": [
      "1 → 0 → 2 → 1 → 0 → ⌀\n"
     ]
    }
   ],
   "source": [
    "oter_repetitions(zeros_un_deux)\n",
    "print(h.to_string(zeros_un_deux))"
   ]
  },
  {
   "cell_type": "markdown",
   "metadata": {
    "slideshow": {
     "slide_type": "slide"
    }
   },
   "source": [
    "## Classe `forward_list`\n",
    "\n",
    "S'il est possible de se contenter de la classe (ou structure) `Maillon`, il peut être utile de définir une classe `forward_list` qui \n",
    "\n",
    "* se souvient de **quel maillon est la tête**. On évite ainsi de devoir écrire `tete = inserer_en_tete(tete,25)`, qui est source d'erreurs si l'on oublie d'affecter le résultat à `tete`\n",
    "\n",
    "\n",
    "\n",
    "* stocke éventuellement d'autres informations comme la **taille de la liste**. Sinon, calculer la taille d'une liste de $n$ éléments est un opération de complexité $\\Theta(n)$\n",
    "\n",
    "\n",
    "Les noms de la classe et des méthodes singent ceux de la classe `std::forward_list` du C++. Mais attention, celle-ci ne stocke pas la taille et n'a donc pas de méthode `size()`"
   ]
  },
  {
   "cell_type": "code",
   "execution_count": 20,
   "metadata": {
    "slideshow": {
     "slide_type": "subslide"
    }
   },
   "outputs": [],
   "source": [
    "class forward_list:\n",
    "    def __init__(self):\n",
    "        self.__t = None # tête\n",
    "        self.__n = 0    # taille\n",
    "        \n",
    "    def __str__(self): return h.to_string(self.__t)\n",
    "    \n",
    "    def empty(self):   return self.__t == None\n",
    "    \n",
    "    def size(self):    return self.__n\n",
    "    \n",
    "    def push_front(self,valeur):\n",
    "        self.__t = inserer_en_tete(self.__t,valeur); \n",
    "        self.__n += 1\n",
    "\n",
    "    def pop_front(self):\n",
    "        self.__t = supprimer_en_tete(self.__t); \n",
    "        self.__n -= 1\n",
    "        \n",
    "    def insert_after(self,m,valeur):\n",
    "        inserer_apres(m,valeur); \n",
    "        self.__n += 1\n",
    "\n",
    "    def erase_after(self,m):\n",
    "        supprimer_apres(m); \n",
    "        self.__n -= 1"
   ]
  },
  {
   "cell_type": "markdown",
   "metadata": {
    "slideshow": {
     "slide_type": "subslide"
    }
   },
   "source": [
    "Exemples d'utilisation"
   ]
  },
  {
   "cell_type": "code",
   "execution_count": 21,
   "metadata": {
    "slideshow": {
     "slide_type": "-"
    }
   },
   "outputs": [
    {
     "name": "stdout",
     "output_type": "stream",
     "text": [
      "1 → 0 → 3 → 2 → 1 → 0 → 3 → 2 → 1 → 0 → ⌀\n"
     ]
    }
   ],
   "source": [
    "L = forward_list()\n",
    "for i in range(10):\n",
    "    L.push_front(i%4)\n",
    "print(L)"
   ]
  },
  {
   "cell_type": "code",
   "execution_count": 22,
   "metadata": {},
   "outputs": [
    {
     "name": "stdout",
     "output_type": "stream",
     "text": [
      "0 → 3 → 2 → 1 → 0 → 3 → 2 → 1 → 0 → ⌀\n"
     ]
    }
   ],
   "source": [
    "L.pop_front()\n",
    "print(L)"
   ]
  },
  {
   "cell_type": "code",
   "execution_count": 23,
   "metadata": {},
   "outputs": [
    {
     "name": "stdout",
     "output_type": "stream",
     "text": [
      "9\n"
     ]
    }
   ],
   "source": [
    "print(L.size())"
   ]
  },
  {
   "cell_type": "markdown",
   "metadata": {
    "slideshow": {
     "slide_type": "slide"
    }
   },
   "source": [
    "## Itérer sur une liste \n",
    "\n",
    "Pour rendre cette classe réellement utile, il faut pouvoir **boucler sur ses éléments** indépendamment de sa structure interne. \n",
    "\n",
    "Pour cela, nous introduisons les fonctions suivantes qui cachent entièrement les notions de maillon, de tête de chaine, ... "
   ]
  },
  {
   "cell_type": "code",
   "execution_count": 24,
   "metadata": {},
   "outputs": [],
   "source": [
    "def debut(L):     return L._forward_list__t\n",
    "\n",
    "def fin(L):       return None\n",
    "\n",
    "def suivant(m):   return m.suivant\n",
    "\n",
    "def get_val(m):   return m.donnee\n",
    "\n",
    "def set_val(m,v): m.donnee = v"
   ]
  },
  {
   "cell_type": "markdown",
   "metadata": {},
   "source": [
    "*Note:* ` L._forward_list__t` est le nom externe de l'attribut \"privé\" `__t` en python"
   ]
  },
  {
   "cell_type": "markdown",
   "metadata": {
    "slideshow": {
     "slide_type": "subslide"
    }
   },
   "source": [
    "Ces fonctions correspondent à peu près en C++ à \n",
    "\n",
    "* `std::forward_list<T>::begin()` \n",
    "\n",
    "\n",
    "* `std::forward_list<T>::end()`\n",
    "\n",
    "\n",
    "* `std::forward_list<T>::iterator::operator++()`\n",
    "\n",
    "\n",
    "* `std::forward_list<T>::iterator::operator*()`\n"
   ]
  },
  {
   "cell_type": "markdown",
   "metadata": {
    "slideshow": {
     "slide_type": "subslide"
    }
   },
   "source": [
    "Exemples d'utilisation"
   ]
  },
  {
   "cell_type": "code",
   "execution_count": 25,
   "metadata": {},
   "outputs": [
    {
     "name": "stdout",
     "output_type": "stream",
     "text": [
      "0 3 2 1 0 3 2 1 0 "
     ]
    }
   ],
   "source": [
    "def afficher(L):\n",
    "    m = debut(L)\n",
    "    while m != fin(L):\n",
    "        print(get_val(m), end=\" \")\n",
    "        m = suivant(m)\n",
    "        \n",
    "afficher(L)"
   ]
  },
  {
   "cell_type": "code",
   "execution_count": 26,
   "metadata": {
    "slideshow": {
     "slide_type": "fragment"
    }
   },
   "outputs": [
    {
     "name": "stdout",
     "output_type": "stream",
     "text": [
      "0 → 3 → 2 → 1 → 0 → 3 → 2 → 1 → 0 → ⌀\n",
      "1 → 4 → 3 → 2 → 1 → 4 → 3 → 2 → 1 → ⌀\n"
     ]
    }
   ],
   "source": [
    "def incrementer_tout(L):\n",
    "    m = debut(L)\n",
    "    while m != fin(L):\n",
    "        set_val(m, get_val(m)+1)\n",
    "        m = suivant(m)\n",
    "\n",
    "print(L); incrementer_tout(L); print(L)"
   ]
  },
  {
   "cell_type": "code",
   "execution_count": 27,
   "metadata": {
    "slideshow": {
     "slide_type": "subslide"
    }
   },
   "outputs": [
    {
     "name": "stdout",
     "output_type": "stream",
     "text": [
      "1 → 4 → 3 → 2 → 1 → 4 → 3 → 2 → 1 → ⌀\n",
      "1 → 0 → 4 → 3 → 2 → 1 → 0 → 4 → 3 → 2 → 1 → 0 → ⌀\n"
     ]
    }
   ],
   "source": [
    "def inserer_zero_apres_un(L):\n",
    "    m = debut(L)\n",
    "    while m != fin(L):\n",
    "        if get_val(m) == 1:\n",
    "            L.insert_after(m,0)\n",
    "        m = suivant(m)\n",
    "\n",
    "print(L); inserer_zero_apres_un(L); print(L)"
   ]
  },
  {
   "cell_type": "code",
   "execution_count": 28,
   "metadata": {
    "slideshow": {
     "slide_type": "fragment"
    }
   },
   "outputs": [
    {
     "name": "stdout",
     "output_type": "stream",
     "text": [
      "1 → 0 → 4 → 3 → 2 → 1 → 0 → 4 → 3 → 2 → 1 → 0 → ⌀\n",
      "1 → 4 → 3 → 2 → 1 → 4 → 3 → 2 → 1 → ⌀\n"
     ]
    }
   ],
   "source": [
    "def supprimer_valeurs(L,val):\n",
    "    m = debut(L)\n",
    "    while m != fin(L):\n",
    "        if suivant(m) and get_val(suivant(m)) == val:\n",
    "            L.erase_after(m)\n",
    "        else: m = suivant(m)\n",
    "            \n",
    "print(L); supprimer_valeurs(L,0); print(L)"
   ]
  },
  {
   "cell_type": "markdown",
   "metadata": {
    "slideshow": {
     "slide_type": "subslide"
    }
   },
   "source": [
    "Mais attention, cette fonction n'est pas correctement écrite. Essayons de supprimer la valeur 1"
   ]
  },
  {
   "cell_type": "code",
   "execution_count": 29,
   "metadata": {},
   "outputs": [
    {
     "name": "stdout",
     "output_type": "stream",
     "text": [
      "1 → 4 → 3 → 2 → 1 → 4 → 3 → 2 → 1 → ⌀\n",
      "1 → 4 → 3 → 2 → 4 → 3 → 2 → ⌀\n"
     ]
    }
   ],
   "source": [
    "print(L); supprimer_valeurs(L,1); print(L)"
   ]
  },
  {
   "cell_type": "markdown",
   "metadata": {
    "slideshow": {
     "slide_type": "fragment"
    }
   },
   "source": [
    "La valeur en tête n'est pas supprimée. \n",
    "\n",
    "Il est impossible avec le faire avec `erase_after`, puisqu'elle est en tête et pas après un autre maillon. \n",
    "\n",
    "Comment faire? \n",
    "\n",
    "* ré-écrire la fonction `supprimer_valeurs` ?\n",
    "\n",
    "\n",
    "* ré-écrire la classe `forward_list` ! "
   ]
  },
  {
   "cell_type": "markdown",
   "metadata": {
    "slideshow": {
     "slide_type": "slide"
    }
   },
   "source": [
    "## `forward_list` améliorée\n",
    "\n",
    "Le problème étant que l'on avait pas de maillon avant la tête,\n",
    "\n",
    "la solution est simple: plaçons un maillon **avant la tête**\n",
    "\n",
    "Ce maillon ne stocke pas d'élément, il sert uniquement à stocker le maillon de tête dans son attribut `suivant`. \n",
    "\n",
    "Le plus proprement possible, il a son propre type"
   ]
  },
  {
   "cell_type": "code",
   "execution_count": 30,
   "metadata": {},
   "outputs": [],
   "source": [
    "class MaillonVide:\n",
    "    def __init__(self):\n",
    "        self.suivant = None "
   ]
  },
  {
   "cell_type": "markdown",
   "metadata": {},
   "source": [
    "Réécrire le code de la classe est immédiat, et légèrement simplifié puisque `push_front` peut maintenant appeler `insert_after`"
   ]
  },
  {
   "cell_type": "code",
   "execution_count": 31,
   "metadata": {
    "slideshow": {
     "slide_type": "subslide"
    }
   },
   "outputs": [],
   "source": [
    "class forward_list:\n",
    "    def __init__(self):\n",
    "        self.__av = MaillonVide() # avant tête\n",
    "        self.__n = 0              # taille  \n",
    "        \n",
    "    def __str__(self): return h.to_string(self.__av.suivant)\n",
    "\n",
    "    def empty(self):   return self.__n == 0\n",
    "    \n",
    "    def size(self):    return self.__n\n",
    "    \n",
    "    def insert_after(self,m,val):\n",
    "        inserer_apres(m,val); \n",
    "        self.__n += 1\n",
    "        \n",
    "    def push_front(self,val):\n",
    "        self.insert_after(self.__av,val)\n",
    "        \n",
    "    def erase_after(self,m):\n",
    "        supprimer_apres(m); \n",
    "        self.__n -= 1\n",
    "        \n",
    "    def pop_front(self):\n",
    "        self.erase_after(self.__av)"
   ]
  },
  {
   "cell_type": "markdown",
   "metadata": {
    "slideshow": {
     "slide_type": "subslide"
    }
   },
   "source": [
    "Pour itérer, on introduit une nouvelle fonction `avant_debut` et on redéfinit `debut`. Les autres sont inchangées"
   ]
  },
  {
   "cell_type": "code",
   "execution_count": 32,
   "metadata": {
    "slideshow": {
     "slide_type": "-"
    }
   },
   "outputs": [],
   "source": [
    "def avant_debut(L): return L._forward_list__av\n",
    "\n",
    "def debut(L):       return suivant(avant_debut(L))\n",
    "\n",
    "def fin(L):         return None\n",
    "\n",
    "def suivant(m):     return m.suivant\n",
    "\n",
    "def get_val(m):     return m.donnee\n",
    "\n",
    "def set_val(m,v):   m.donnee = v"
   ]
  },
  {
   "cell_type": "markdown",
   "metadata": {},
   "source": [
    "*Note:* la fonction `avant_debut` correspond à `std::forward_list<T>::before_begin()` en C++"
   ]
  },
  {
   "cell_type": "markdown",
   "metadata": {
    "slideshow": {
     "slide_type": "subslide"
    }
   },
   "source": [
    "La fonction 'supprimer_valeur' se réécrit en itérant depuis `avant_debut(L)`"
   ]
  },
  {
   "cell_type": "code",
   "execution_count": 33,
   "metadata": {},
   "outputs": [],
   "source": [
    "def supprimer_valeurs(L,val):\n",
    "    courant = avant_debut(L)\n",
    "    precedent = courant\n",
    "    while courant != fin(L):\n",
    "        courant = suivant(courant)\n",
    "        if courant and get_val(courant) == val:\n",
    "            L.erase_after(precedent)\n",
    "        else:\n",
    "            precedent = courant"
   ]
  },
  {
   "cell_type": "code",
   "execution_count": 34,
   "metadata": {},
   "outputs": [
    {
     "name": "stdout",
     "output_type": "stream",
     "text": [
      "1 → 0 → 3 → 2 → 1 → 0 → 3 → 2 → 1 → 0 → ⌀\n",
      "1 → 3 → 2 → 1 → 3 → 2 → 1 → ⌀\n"
     ]
    }
   ],
   "source": [
    "L = forward_list()\n",
    "for i in range(10): L.push_front(i%4)\n",
    "print(L)\n",
    "supprimer_valeurs(L,0)\n",
    "print(L)"
   ]
  },
  {
   "cell_type": "markdown",
   "metadata": {
    "slideshow": {
     "slide_type": "slide"
    }
   },
   "source": [
    "## Copie de liste\n",
    "\n",
    "La copie complète d'un liste peut paraitre simple, mais une approche naive ne fonctionne pas"
   ]
  },
  {
   "cell_type": "code",
   "execution_count": 35,
   "metadata": {},
   "outputs": [],
   "source": [
    "def copie_liste_naive(L):\n",
    "    C = forward_list()\n",
    "    courant = debut(L);\n",
    "    while courant != fin(L):\n",
    "        C.push_front(get_val(courant))\n",
    "        courant = suivant(courant)\n",
    "    return C"
   ]
  },
  {
   "cell_type": "code",
   "execution_count": 36,
   "metadata": {
    "slideshow": {
     "slide_type": "-"
    }
   },
   "outputs": [
    {
     "name": "stdout",
     "output_type": "stream",
     "text": [
      "1 → 0 → 3 → 2 → 1 → 0 → 3 → 2 → 1 → 0 → ⌀\n",
      "0 → 1 → 2 → 3 → 0 → 1 → 2 → 3 → 0 → 1 → ⌀\n"
     ]
    }
   ],
   "source": [
    "L1 = forward_list()\n",
    "for i in range(10): L1.push_front(i%4)\n",
    "print(L1); L2 = copie_liste_naive(L1); print(L2)"
   ]
  },
  {
   "cell_type": "markdown",
   "metadata": {
    "slideshow": {
     "slide_type": "subslide"
    }
   },
   "source": [
    "Pour copier sans inverser, il faut insérer en queue et pas en tête. \n",
    "\n",
    "Cette opération n'est pas directement disponible, mais elle le devient si l'on se souvient du dernier élément de la liste en construction. "
   ]
  },
  {
   "cell_type": "code",
   "execution_count": 37,
   "metadata": {},
   "outputs": [],
   "source": [
    "def copie_liste(L):\n",
    "    C = forward_list()\n",
    "    courant = debut(L);\n",
    "    dernier_element_C = avant_debut(C)\n",
    "    while courant != fin(L):\n",
    "        C.insert_after(dernier_element_C,get_val(courant))\n",
    "        dernier_element_C = suivant(dernier_element_C)\n",
    "        courant = suivant(courant)\n",
    "    return C"
   ]
  },
  {
   "cell_type": "code",
   "execution_count": 38,
   "metadata": {},
   "outputs": [
    {
     "name": "stdout",
     "output_type": "stream",
     "text": [
      "1 → 0 → 3 → 2 → 1 → 0 → 3 → 2 → 1 → 0 → ⌀\n",
      "1 → 0 → 3 → 2 → 1 → 0 → 3 → 2 → 1 → 0 → ⌀\n"
     ]
    }
   ],
   "source": [
    "print(L1); L2 = copie_liste(L1); print(L2)"
   ]
  },
  {
   "cell_type": "markdown",
   "metadata": {
    "slideshow": {
     "slide_type": "slide"
    }
   },
   "source": [
    "## Conclusions\n",
    "\n",
    "Une liste simplement chainée utilise comme maillons des structures stockant individuellement\n",
    "\n",
    "* un élément\n",
    "* un lien vers l'élément suivant\n",
    "\n",
    "Les opérations efficaces en $\\Theta(1)$ sont\n",
    "\n",
    "* insertion et suppression en tête\n",
    "* insertion et suppression après une position connue\n",
    "\n",
    "Il n'y a ni pas d'accès indexé ou d'opération en queue. \n",
    "\n",
    "La mise en oeuvre de l'itération et l'utilisation d'un noeud vide en tête simplifient l'utilisation de la structure. "
   ]
  },
  {
   "cell_type": "markdown",
   "metadata": {
    "slideshow": {
     "slide_type": "slide"
    }
   },
   "source": [
    "<table style=\"width: 100%; border: 0px\">\n",
    "<tr style=\"background-color:white; border:0px\">\n",
    "<td style=\"width: 120px; border: 0px\">\n",
    "    <img src=\"https://heig-vd.ch/ResourcePackages/WhiteFox/assets/images/logo-heig-vd.svg\" height=200px align=left >\n",
    "    </td>\n",
    "    <td style=\"vertical-align: middle; border: 0px\" height=200px>\n",
    "    <p style=\"text-align: left\">\n",
    "        <a href=\"https://ocuisenaire.github.io/ASD1-notebooks/\">ASD1 Notebooks on GitHub.io</a>\n",
    " </p>        \n",
    "<p style=\"text-align: left\">\n",
    "© Olivier Cuisenaire, 2018 </p>\n",
    "</td>\n",
    "</tr>\n",
    "</table>"
   ]
  },
  {
   "cell_type": "raw",
   "metadata": {},
   "source": [
    "<style type=\"text/css\">\n",
    ".reveal {\n",
    "font-size: 200%;\n",
    "}</style>"
   ]
  },
  {
   "cell_type": "code",
   "execution_count": null,
   "metadata": {},
   "outputs": [],
   "source": []
  }
 ],
 "metadata": {
  "celltoolbar": "Slideshow",
  "kernelspec": {
   "display_name": "Python 3",
   "language": "python",
   "name": "python3"
  },
  "language_info": {
   "codemirror_mode": {
    "name": "ipython",
    "version": 3
   },
   "file_extension": ".py",
   "mimetype": "text/x-python",
   "name": "python",
   "nbconvert_exporter": "python",
   "pygments_lexer": "ipython3",
   "version": "3.6.5"
  }
 },
 "nbformat": 4,
 "nbformat_minor": 2
}
