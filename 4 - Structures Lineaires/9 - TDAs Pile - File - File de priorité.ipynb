{
 "cells": [
  {
   "cell_type": "markdown",
   "metadata": {
    "slideshow": {
     "slide_type": "slide"
    }
   },
   "source": [
    "# Types de données abstraits <br><br> Pile - File - File de priorité"
   ]
  },
  {
   "cell_type": "markdown",
   "metadata": {
    "slideshow": {
     "slide_type": "slide"
    }
   },
   "source": [
    "En plus des structures de données concrètes vues jusqu'ici, on considère trois **types de données abstraits (TDA)** qui décrivent un comportement particulier.\n",
    "\n",
    "* Pile (**stack**)\n",
    "* File (**queue**)\n",
    "* File de priorité (**priority queue**)\n",
    "\n",
    "Ces types restreignent la manière dont les éléments peuvent être \n",
    "\n",
    "* insérés \n",
    "* accédés \n",
    "* supprimés "
   ]
  },
  {
   "cell_type": "markdown",
   "metadata": {
    "slideshow": {
     "slide_type": "slide"
    }
   },
   "source": [
    "## Pile\n",
    "\n",
    "Une pile (**stack** en anglais) est une structure linéaire qui ne permet d'insérer / d'accéder à / de supprimer que d'un seul coté appelé sommet. \n",
    "\n",
    "Elle suit le principe *dernier entré, premier sorti* ou **Last In, First Out (LIFO)** \n",
    "\n",
    "Les opérations de bases sont \n",
    "\n",
    "* empiler (`push`)\n",
    "* dépiler (`pop`)\n",
    "* accéder à / modifier le sommet (`top`) \n",
    "\n",
    "auxquelles s'ajoutent en général copier, comparer l'égalité ou l'équivalence, déterminer si la pile est vide, la vider, ...  "
   ]
  },
  {
   "cell_type": "markdown",
   "metadata": {
    "slideshow": {
     "slide_type": "subslide"
    }
   },
   "source": [
    "Une pile peut être **mise en oeuvre** par presque toutes les structures concrètes vues ici\n",
    "\n",
    "| Structure | Sommet |\n",
    "| :--- | :--- |\n",
    "| tableau de taille variable | queue |\n",
    "| tableau de capacité variable | queue |\n",
    "| liste simplement chainée | tête |\n",
    "| liste doublement chainée | tête ou queue |\n",
    "| deque | tête ou queue |  \n",
    " \n",
    "Les structures les plus naturelles sont les tableaux et la liste simplement chainée."
   ]
  },
  {
   "cell_type": "markdown",
   "metadata": {
    "slideshow": {
     "slide_type": "subslide"
    }
   },
   "source": [
    "Les piles ont de nombreuses **applications**\n",
    "\n",
    "* Bouton undo dans un traitement de texte\n",
    "\n",
    "\n",
    "* Bouton back dans un browser web\n",
    "\n",
    "\n",
    "* Stockage des addresses de retour lors d'appels de fonctions \n",
    "\n",
    "\n",
    "* Dérécursification explicite d’un algorithme récursif\n",
    "\n",
    "\n",
    "* Evaluation d'expressions (voir la suite)"
   ]
  },
  {
   "cell_type": "markdown",
   "metadata": {
    "slideshow": {
     "slide_type": "slide"
    }
   },
   "source": [
    "## File\n",
    "\n",
    "Une file (**queue** en anglais) est une structure linéaire qui insère d'un coté (queue) et supprime de l'autre (tête). \n",
    "\n",
    "Elle suit le principe *premier entré, premier sorti* ou **First In, First Out (FIFO)** \n",
    "\n",
    "Les opérations de bases sont \n",
    "\n",
    "* enfiler en queue (`push`) \n",
    "* défiler en tête (`pop`)\n",
    "* accéder à / modifier la tête (`front`) \n",
    "* accéder à / modifier la queue (`back`) \n",
    "\n",
    "auxquelles s'ajoutent en général copier, comparer l'égalité ou l'équivalence, déterminer si la file est vide, la vider, ...  "
   ]
  },
  {
   "cell_type": "markdown",
   "metadata": {
    "slideshow": {
     "slide_type": "subslide"
    }
   },
   "source": [
    "Une file peut être **mise en oeuvre** par les structures concrètes permettant insertion en queue et suppression en tête. \n",
    "\n",
    "* buffer circulaire \n",
    "\n",
    "\n",
    "* liste simplement chainée stockant deux pointeurs (tête et queue)\n",
    "\n",
    "\n",
    "* liste doublement chainée\n",
    "\n",
    "\n",
    "* deque"
   ]
  },
  {
   "cell_type": "markdown",
   "metadata": {
    "slideshow": {
     "slide_type": "subslide"
    }
   },
   "source": [
    "Les files ont de nombreuses **applications** \n",
    "\n",
    "* mémoriser temporairement des transactions en attente de traitement\n",
    "\n",
    "\n",
    "* tampon (**buffer**) pour les caractères entrés au clavier\n",
    "\n",
    "\n",
    "* file d'attente pour les serveurs d'impression\n",
    "\n",
    "\n",
    "* distribution équitable du temps-machine entre les tâches dans un système d'exploitation\n",
    "\n",
    "Nous l'utiliserons par la suite pour le *parcours en largeur* des structures d'arbre et de graphe"
   ]
  },
  {
   "cell_type": "markdown",
   "metadata": {
    "slideshow": {
     "slide_type": "slide"
    }
   },
   "source": [
    "## File de priorité\n",
    "\n",
    "Une file de priorité (**priority queue** en anglais) est une structure linéaire associée à un critère de priorité permettant d'ordonner les éléments. \n",
    "\n",
    "Les opérations de bases sont \n",
    "\n",
    "* insérer un élément (`push`)\n",
    "* accéder à l'élément le plus prioritaire (`top`) \n",
    "* supprimer l'élément le plus prioritaire (`pop`) \n",
    "\n",
    "auxquelles s'ajoutent en général copier, comparer l'égalité ou l'équivalence, déterminer si la file est vide, la vider, ...  \n",
    "\n",
    "La **mise en oeuvre** la plus efficace consiste à utiliser un tas (**heap**)"
   ]
  },
  {
   "cell_type": "markdown",
   "metadata": {
    "slideshow": {
     "slide_type": "subslide"
    }
   },
   "source": [
    "Les files de priorité ont de nombreuses **applications** \n",
    "\n",
    "* Compression de données - code de Huffman (PKZIP, JPEG, MP3)\n",
    "\n",
    "\n",
    "* Algorithmes sur les graphes - Dijkstra , Prim (ASD2)\n",
    "\n",
    "\n",
    "* Simulation à événements discrets - clients en attente, collision de particules, …\n",
    "\n",
    "\n",
    "* Statistiques - recherche de M plus grandes valeurs dans un ensemble\n",
    "\n",
    "\n",
    "* Système d’exploitation - balance de charge, gestion des interruptions"
   ]
  },
  {
   "cell_type": "markdown",
   "metadata": {
    "slideshow": {
     "slide_type": "slide"
    }
   },
   "source": [
    "## Application\n",
    "\n",
    "Une application classique du TDA pile consiste à évaluer une expression mathématique infixe telle que \n",
    "\n",
    "`( 1 + ( ( 2 + 3 ) * ( 4 * 5 ) ) )` \n",
    "\n",
    "Elle est basée sur l'[algorithme Shunting-yard](https://fr.wikipedia.org/wiki/Algorithme_Shunting-yard) de [Edsger Dijkstra](https://fr.wikipedia.org/wiki/Edsger_Dijkstra) qui convertit les expressions infixes en expressions postfixes (chapitre 5)\n",
    "\n",
    "Dans cette variante, nous utilisons 2 piles. \n",
    "\n",
    "* une pile de valeurs numériques\n",
    "* une pile d'opérateurs"
   ]
  },
  {
   "cell_type": "markdown",
   "metadata": {
    "slideshow": {
     "slide_type": "subslide"
    }
   },
   "source": [
    "Utilisons une classe `stack` simple pour nos piles "
   ]
  },
  {
   "cell_type": "code",
   "execution_count": 1,
   "metadata": {},
   "outputs": [],
   "source": [
    "class stack:\n",
    "    def __init__(self):\n",
    "        self.__T = []\n",
    "        \n",
    "    def push(self,val):\n",
    "        self.__T.append(val)\n",
    "    \n",
    "    def pop(self):\n",
    "        return self.__T.pop()\n",
    "    \n",
    "    def top(self):\n",
    "        return self.__T[len(self.__T)-1]\n",
    "    \n",
    "    def __str__(self):\n",
    "        s = \"\"\n",
    "        for el in self.__T: \n",
    "            s += el.__str__() + \" \"\n",
    "        return s"
   ]
  },
  {
   "cell_type": "markdown",
   "metadata": {
    "slideshow": {
     "slide_type": "subslide"
    }
   },
   "source": [
    "Définissons les opérateurs disponibles et leurs mises en oeuvres"
   ]
  },
  {
   "cell_type": "code",
   "execution_count": 2,
   "metadata": {},
   "outputs": [],
   "source": [
    "operateurs = [ \"+\", \"-\", \"*\", \"/\"]\n",
    "\n",
    "def appliquer_operateur(gauche,operateur,droite):\n",
    "    \n",
    "    if   operateur == \"+\": \n",
    "        return gauche + droite\n",
    "    \n",
    "    elif operateur == \"-\": \n",
    "        return gauche - droite\n",
    "    \n",
    "    elif operateur == \"*\":\n",
    "        return gauche * droite\n",
    "    \n",
    "    elif operateur == \"/\": \n",
    "        return gauche // droite\n",
    "    \n",
    "    raise ArithmeticError()"
   ]
  },
  {
   "cell_type": "markdown",
   "metadata": {
    "slideshow": {
     "slide_type": "subslide"
    }
   },
   "source": [
    "L'algorithme d'évaluation distingue les parenthèses, les opérateurs et les valeurs numériques. Les parenthèses droites évaluent les opérations"
   ]
  },
  {
   "cell_type": "code",
   "execution_count": 3,
   "metadata": {
    "slideshow": {
     "slide_type": "-"
    }
   },
   "outputs": [],
   "source": [
    "def evaluer_expression(expression):     \n",
    "    pileOp = stack(); pileVal = stack()\n",
    "    \n",
    "    for el in expression.split(\" \"):    \n",
    "        if el == \"(\": pass\n",
    "        \n",
    "        elif el in operateurs: pileOp.push(el)\n",
    "        \n",
    "        elif el != \")\":  pileVal.push(int(el))\n",
    "        \n",
    "        else: # el est une parenthèse droite     \n",
    "            droite = pileVal.pop()\n",
    "            gauche = pileVal.pop()\n",
    "            op = pileOp.pop()\n",
    "            resultat = appliquer_operateur(gauche,op,droite)\n",
    "            pileVal.push(resultat)\n",
    "    \n",
    "    return pileVal.pop()"
   ]
  },
  {
   "cell_type": "markdown",
   "metadata": {
    "slideshow": {
     "slide_type": "skip"
    }
   },
   "source": [
    "La même fonction avec affichage des éléments et du contenu des piles"
   ]
  },
  {
   "cell_type": "code",
   "execution_count": 4,
   "metadata": {
    "slideshow": {
     "slide_type": "skip"
    }
   },
   "outputs": [],
   "source": [
    "def evaluer_expression(expression):\n",
    "        \n",
    "    pileOp = stack()\n",
    "    pileVal = stack()\n",
    "        \n",
    "    print(\"el  | pileOp     | pileVal    \")\n",
    "    print(\"----|------------|------------\")\n",
    "\n",
    "    for el in expression.split(\" \"):       \n",
    "        if el == \"(\":\n",
    "            pass\n",
    "        elif el in operateurs:\n",
    "            pileOp.push(el)\n",
    "        elif el != \")\": # el est une valeur\n",
    "            pileVal.push(int(el))\n",
    "        else:           # el est \")\"     \n",
    "            droite = pileVal.pop()\n",
    "            gauche = pileVal.pop()\n",
    "            op = pileOp.pop()\n",
    "            resultat = appliquer_operateur(gauche,op,droite)\n",
    "            pileVal.push(resultat)\n",
    "            \n",
    "        print(\"{0:<4}| {1:<11}| {2:<11}\".format(el,\n",
    "                                    str(pileOp),\n",
    "                                    str(pileVal)))\n",
    "    \n",
    "    return pileVal.pop()"
   ]
  },
  {
   "cell_type": "code",
   "execution_count": 5,
   "metadata": {
    "slideshow": {
     "slide_type": "subslide"
    }
   },
   "outputs": [
    {
     "name": "stdout",
     "output_type": "stream",
     "text": [
      "el  | pileOp     | pileVal    \n",
      "----|------------|------------\n",
      "(   |            |            \n",
      "1   |            | 1          \n",
      "+   | +          | 1          \n",
      "(   | +          | 1          \n",
      "(   | +          | 1          \n",
      "2   | +          | 1 2        \n",
      "+   | + +        | 1 2        \n",
      "3   | + +        | 1 2 3      \n",
      ")   | +          | 1 5        \n",
      "*   | + *        | 1 5        \n",
      "(   | + *        | 1 5        \n",
      "4   | + *        | 1 5 4      \n",
      "*   | + * *      | 1 5 4      \n",
      "5   | + * *      | 1 5 4 5    \n",
      ")   | + *        | 1 5 20     \n",
      ")   | +          | 1 100      \n",
      ")   |            | 101        \n"
     ]
    },
    {
     "data": {
      "text/plain": [
       "101"
      ]
     },
     "execution_count": 5,
     "metadata": {},
     "output_type": "execute_result"
    }
   ],
   "source": [
    "evaluer_expression(\"( 1 + ( ( 2 + 3 ) * ( 4 * 5 ) ) )\")"
   ]
  },
  {
   "cell_type": "code",
   "execution_count": 6,
   "metadata": {
    "slideshow": {
     "slide_type": "subslide"
    }
   },
   "outputs": [
    {
     "name": "stdout",
     "output_type": "stream",
     "text": [
      "el  | pileOp     | pileVal    \n",
      "----|------------|------------\n",
      "(   |            |            \n",
      "(   |            |            \n",
      "2   |            | 2          \n",
      "+   | +          | 2          \n",
      "3   | +          | 2 3        \n",
      ")   |            | 5          \n",
      "*   | *          | 5          \n",
      "(   | *          | 5          \n",
      "4   | *          | 5 4        \n",
      "/   | * /        | 5 4        \n",
      "(   | * /        | 5 4        \n",
      "3   | * /        | 5 4 3      \n",
      "-   | * / -      | 5 4 3      \n",
      "1   | * / -      | 5 4 3 1    \n",
      ")   | * /        | 5 4 2      \n",
      ")   | *          | 5 2        \n",
      ")   |            | 10         \n"
     ]
    },
    {
     "data": {
      "text/plain": [
       "10"
      ]
     },
     "execution_count": 6,
     "metadata": {},
     "output_type": "execute_result"
    }
   ],
   "source": [
    "evaluer_expression(\"( ( 2 + 3 ) * ( 4 / ( 3 - 1 ) ) )\")"
   ]
  },
  {
   "cell_type": "markdown",
   "metadata": {
    "slideshow": {
     "slide_type": "slide"
    }
   },
   "source": [
    "<table style=\"width: 100%; border: 0px\">\n",
    "<tr style=\"background-color:white; border:0px\">\n",
    "<td style=\"width: 120px; border: 0px\">\n",
    "    <img src=\"https://heig-vd.ch/ResourcePackages/WhiteFox/assets/images/logo-heig-vd.svg\" height=200px align=left >\n",
    "    </td>\n",
    "    <td style=\"vertical-align: middle; border: 0px\" height=200px>\n",
    "    <p style=\"text-align: left\">\n",
    "        <a href=\"https://ocuisenaire.github.io/ASD1-notebooks/\">ASD1 Notebooks on GitHub.io</a>\n",
    " </p>        \n",
    "<p style=\"text-align: left\">\n",
    "© Olivier Cuisenaire, 2018 </p>\n",
    "</td>\n",
    "</tr>\n",
    "</table>"
   ]
  },
  {
   "cell_type": "raw",
   "metadata": {},
   "source": [
    "<style type=\"text/css\">\n",
    ".reveal {\n",
    "font-size: 200%;\n",
    "}</style>"
   ]
  },
  {
   "cell_type": "code",
   "execution_count": null,
   "metadata": {},
   "outputs": [],
   "source": []
  }
 ],
 "metadata": {
  "celltoolbar": "Slideshow",
  "kernelspec": {
   "display_name": "Python 3",
   "language": "python",
   "name": "python3"
  },
  "language_info": {
   "codemirror_mode": {
    "name": "ipython",
    "version": 3
   },
   "file_extension": ".py",
   "mimetype": "text/x-python",
   "name": "python",
   "nbconvert_exporter": "python",
   "pygments_lexer": "ipython3",
   "version": "3.6.5"
  }
 },
 "nbformat": 4,
 "nbformat_minor": 2
}
