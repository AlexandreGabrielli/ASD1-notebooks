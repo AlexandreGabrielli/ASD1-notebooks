{
 "cells": [
  {
   "cell_type": "markdown",
   "metadata": {},
   "source": [
    "# Tri de listes"
   ]
  },
  {
   "cell_type": "markdown",
   "metadata": {},
   "source": [
    "# Tri par insertion"
   ]
  },
  {
   "cell_type": "code",
   "execution_count": 1,
   "metadata": {},
   "outputs": [],
   "source": [
    "import include.liste_double as ld"
   ]
  },
  {
   "cell_type": "code",
   "execution_count": 5,
   "metadata": {},
   "outputs": [],
   "source": [
    "def tri_par_insertion(L):\n",
    "    if L.size() < 2: return\n",
    "    \n",
    "    k = ld.suivant(ld.debut(L))\n",
    "    while k != ld.fin(L):\n",
    "        tmp = ld.get_val(k)\n",
    "        i = k\n",
    "        while i != ld.debut(L) and tmp < ld.get_val(ld.precedent(i)):\n",
    "            ld.set_val(i,ld.get_val(ld.precedent(i)))\n",
    "            i = ld.precedent(i)\n",
    "        ld.set_val(i,tmp)\n",
    "        k = ld.suivant(k)"
   ]
  },
  {
   "cell_type": "code",
   "execution_count": 6,
   "metadata": {},
   "outputs": [
    {
     "name": "stdout",
     "output_type": "stream",
     "text": [
      "⌀ ← 6 ⇄ 3 ⇄ 5 ⇄ 4 ⇄ 1 ⇄ 2 ⇄ 8 ⇄ 7 ⇄ 9 → ⌀\n"
     ]
    }
   ],
   "source": [
    "T = [ 6, 3, 5, 4, 1, 2, 8, 7, 9 ]\n",
    "L = ld.Liste()\n",
    "for t in T: L.append(t)\n",
    "print(L)"
   ]
  },
  {
   "cell_type": "code",
   "execution_count": 8,
   "metadata": {},
   "outputs": [
    {
     "name": "stdout",
     "output_type": "stream",
     "text": [
      "⌀ ← 1 ⇄ 2 ⇄ 3 ⇄ 4 ⇄ 5 ⇄ 6 ⇄ 7 ⇄ 8 ⇄ 9 → ⌀\n"
     ]
    }
   ],
   "source": [
    "tri_par_insertion(L)\n",
    "print(L)"
   ]
  },
  {
   "cell_type": "markdown",
   "metadata": {},
   "source": [
    "Ce code est une transcription exacte de celui sur les tableaux. Mais ce n'est pas efficace. \n",
    "\n",
    "Le but de la boucle interne est de \n",
    "\n",
    "* trouver la position `i` où il faut insérer l'élément `k`\n",
    "* déplacer l'élément de `k` vers `i`\n",
    "\n",
    "Dans un tableau, cela requiert de déplacer tous les éléments entre `i` et `k-1` de 1 vers la droite. Mais dans une liste chainée, cela n'a pas de sens. Il suffit de retirer le maillon `k` et de l'insérer tel quel devant `i`,\n",
    "\n",
    "Ecrivons un telle fonction"
   ]
  },
  {
   "cell_type": "code",
   "execution_count": 19,
   "metadata": {},
   "outputs": [],
   "source": [
    "def deplacer_maillon(FROM,TO):\n",
    "    if FROM == TO: return\n",
    "    \n",
    "    FROM.precedent.suivant = FROM.suivant\n",
    "    FROM.suivant.precedent = FROM.precedent\n",
    "    \n",
    "    TO.precedent.suivant = FROM\n",
    "    FROM.precedent = TO.precedent\n",
    "    \n",
    "    TO.precedent = FROM\n",
    "    FROM.suivant = TO "
   ]
  },
  {
   "cell_type": "markdown",
   "metadata": {},
   "source": [
    "Elle nous permet de ré-écrire le tri par insertion"
   ]
  },
  {
   "cell_type": "code",
   "execution_count": 22,
   "metadata": {},
   "outputs": [],
   "source": [
    "def tri_par_insertion_optimise(L):\n",
    "    if L.size() < 2: return\n",
    "    \n",
    "    k = ld.suivant(ld.debut(L))\n",
    "    while k != ld.fin(L):\n",
    "        i = k\n",
    "        while i != ld.debut(L) and ld.get_val(k) < ld.get_val(ld.precedent(i)):\n",
    "            i = ld.precedent(i)\n",
    "        k_suivant = ld.suivant(k)\n",
    "        deplacer_maillon(k,i)\n",
    "        k = k_suivant"
   ]
  },
  {
   "cell_type": "code",
   "execution_count": 23,
   "metadata": {},
   "outputs": [
    {
     "name": "stdout",
     "output_type": "stream",
     "text": [
      "⌀ ← 1 ⇄ 2 ⇄ 3 ⇄ 4 ⇄ 5 ⇄ 6 ⇄ 7 ⇄ 8 ⇄ 9 → ⌀\n"
     ]
    }
   ],
   "source": [
    "T = [ 6, 3, 5, 4, 1, 2, 8, 7, 9 ]\n",
    "L = ld.Liste()\n",
    "for t in T: L.append(t)\n",
    "\n",
    "tri_par_insertion_optimise(L)\n",
    "print(L)"
   ]
  },
  {
   "cell_type": "code",
   "execution_count": null,
   "metadata": {},
   "outputs": [],
   "source": []
  }
 ],
 "metadata": {
  "kernelspec": {
   "display_name": "Python 3",
   "language": "python",
   "name": "python3"
  },
  "language_info": {
   "codemirror_mode": {
    "name": "ipython",
    "version": 3
   },
   "file_extension": ".py",
   "mimetype": "text/x-python",
   "name": "python",
   "nbconvert_exporter": "python",
   "pygments_lexer": "ipython3",
   "version": "3.6.5"
  }
 },
 "nbformat": 4,
 "nbformat_minor": 2
}
