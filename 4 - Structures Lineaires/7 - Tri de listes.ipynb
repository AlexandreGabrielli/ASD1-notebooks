{
 "cells": [
  {
   "cell_type": "markdown",
   "metadata": {
    "slideshow": {
     "slide_type": "slide"
    }
   },
   "source": [
    "# Tri de listes"
   ]
  },
  {
   "cell_type": "markdown",
   "metadata": {
    "slideshow": {
     "slide_type": "slide"
    }
   },
   "source": [
    "## Principe\n",
    "\n",
    "Les algorithmes vu au chapitre 3 ne sont pas directement applicables aux listes simplement ou doublement chainées\n",
    "\n",
    "Il n'y a pas d'accès indexé aux éléments\n",
    "\n",
    "Le fournir serait trop cher en terme de complexité\n",
    "\n",
    "Mais en a-t-on vraiment besoin ? \n",
    "\n",
    "Cela dépend des algorithmes"
   ]
  },
  {
   "cell_type": "markdown",
   "metadata": {
    "slideshow": {
     "slide_type": "slide"
    }
   },
   "source": [
    "## Tri à bulle et par sélection\n",
    "\n",
    "Pour rappel, en voici les codes du chapitre 3 pour trier des tableaux"
   ]
  },
  {
   "cell_type": "code",
   "execution_count": 1,
   "metadata": {},
   "outputs": [],
   "source": [
    "def tri_a_bulles(T):\n",
    "    N = len(T)\n",
    "    for k in range(N,1,-1):    \n",
    "        for i in range(0,k-1):  \n",
    "            if T[i] > T[i+1]: \n",
    "                T[i],T[i+1] = T[i+1],T[i]  "
   ]
  },
  {
   "cell_type": "code",
   "execution_count": 2,
   "metadata": {},
   "outputs": [],
   "source": [
    "def tri_par_selection(T):\n",
    "    N = len(T)\n",
    "    for i in range(0,N-1):\n",
    "        jMin = i\n",
    "        for j in range(i+1,N):\n",
    "            if T[j] < T[jMin]: jMin = j\n",
    "        T[i],T[jMin] = T[jMin],T[i]  "
   ]
  },
  {
   "cell_type": "markdown",
   "metadata": {
    "slideshow": {
     "slide_type": "subslide"
    }
   },
   "source": [
    "Dans les deux cas, il y a \n",
    "\n",
    "* deux parcours croissants\n",
    "* des échanges d'éléments \n",
    "\n",
    "Les parcours croissants peuvent aisément être effectués par les itérateurs sur listes simples ou doubles. Par exemple, pour le tri par sélection"
   ]
  },
  {
   "cell_type": "code",
   "execution_count": 3,
   "metadata": {},
   "outputs": [],
   "source": [
    "def tri_par_selection(L):\n",
    "    i = L.begin()\n",
    "    while i != L.end():\n",
    "        jMin = i.copie()\n",
    "        j = i.suivant(); \n",
    "        while j != L.end():\n",
    "            if j.get_val() < jMin.get_val():\n",
    "                jMin = j.copie()\n",
    "            j.incr()\n",
    "        echanger(i,jMin)\n",
    "        i.incr()"
   ]
  },
  {
   "cell_type": "markdown",
   "metadata": {
    "slideshow": {
     "slide_type": "subslide"
    }
   },
   "source": [
    "Avec une fonction d'échange standard entre les éléments itérés, on a"
   ]
  },
  {
   "cell_type": "code",
   "execution_count": 4,
   "metadata": {},
   "outputs": [],
   "source": [
    "def echanger(i,j):\n",
    "    tmp = i.get_val()\n",
    "    i.set_val(j.get_val())\n",
    "    j.set_val(tmp)"
   ]
  },
  {
   "cell_type": "code",
   "execution_count": 5,
   "metadata": {},
   "outputs": [],
   "source": [
    "import include.liste_double as ld\n",
    "def liste_demo():\n",
    "    T = [ 6, 3, 5, 4, 1, 2, 8, 7, 9 ]; \n",
    "    L = ld.Liste()\n",
    "    for t in T: \n",
    "        L.push_back(t)\n",
    "    return L"
   ]
  },
  {
   "cell_type": "code",
   "execution_count": 6,
   "metadata": {},
   "outputs": [
    {
     "name": "stdout",
     "output_type": "stream",
     "text": [
      "6 ⇄ 3 ⇄ 5 ⇄ 4 ⇄ 1 ⇄ 2 ⇄ 8 ⇄ 7 ⇄ 9\n",
      "1 ⇄ 2 ⇄ 3 ⇄ 4 ⇄ 5 ⇄ 6 ⇄ 7 ⇄ 8 ⇄ 9\n"
     ]
    }
   ],
   "source": [
    "L = liste_demo();     print(L); \n",
    "tri_par_selection(L); print(L)"
   ]
  },
  {
   "cell_type": "markdown",
   "metadata": {
    "slideshow": {
     "slide_type": "subslide"
    }
   },
   "source": [
    "Mais il y a une autre manière d'échanger les éléments sans devoir les copier: échanger la place de leurs maillons dans la chaine. \n",
    "\n",
    "Considérons la liste suivante dont on veut échanger les maillons 2 et 5\n",
    "\n",
    "![](include/echange_1.png)"
   ]
  },
  {
   "cell_type": "markdown",
   "metadata": {
    "slideshow": {
     "slide_type": "subslide"
    }
   },
   "source": [
    "Il va falloir modifier les liens colorés. \n",
    "\n",
    "![](include/echange_2.png)\n",
    "\n",
    "Les couleurs font correspondre les liens équivalents pour chacun des maillons à échanger \n",
    "\n",
    "* rose: `m.precedent.suivant`\n",
    "* noir: `m.precedent`\n",
    "* vert: `m.suivant`\n",
    "* bleu: `m.suivant.precedent`\n"
   ]
  },
  {
   "cell_type": "markdown",
   "metadata": {
    "slideshow": {
     "slide_type": "subslide"
    }
   },
   "source": [
    "Il suffit d'échanger ces liens correspondant 2 par 2 pour obtenir la liste modifiée.\n",
    "\n",
    "![](include/echange_3.png)"
   ]
  },
  {
   "cell_type": "markdown",
   "metadata": {
    "slideshow": {
     "slide_type": "subslide"
    }
   },
   "source": [
    "On procède en deux étapes. \n",
    "\n",
    "* indentifier `m1p`, `m1s`, `m2p`, `m2s`, les noeuds entourant `m1` et `m2`\n",
    "* effectuer les 4 échanges de liens équivalents"
   ]
  },
  {
   "cell_type": "code",
   "execution_count": 7,
   "metadata": {},
   "outputs": [],
   "source": [
    "def echanger_emplacement_des_maillons(m1,m2):\n",
    "    if m1 == m2: return\n",
    "    \n",
    "    m1p = m1.precedent; m1s = m1.suivant\n",
    "    m2p = m2.precedent; m2s = m2.suivant\n",
    "    \n",
    "    m1p.suivant, m2p.suivant = m2p.suivant, m1p.suivant\n",
    "    m1.suivant, m2.suivant = m2.suivant, m1.suivant\n",
    "    \n",
    "    m1s.precedent, m2s.precedent = m2s.precedent, m1s.precedent\n",
    "    m1.precedent, m2.precedent = m2.precedent, m1.precedent \n",
    "    \n",
    "def echanger_iterateurs(i,j):\n",
    "    if i == j: return \n",
    "    echanger_emplacement_des_maillons(i._list_iterator__M, \n",
    "                                      j._list_iterator__M)"
   ]
  },
  {
   "cell_type": "markdown",
   "metadata": {
    "slideshow": {
     "slide_type": "subslide"
    }
   },
   "source": [
    "Mais attention, après échange, les itérateurs pointent toujours sur les mêmes éléments, mais ne sont plus au même emplacement de la liste"
   ]
  },
  {
   "cell_type": "code",
   "execution_count": 8,
   "metadata": {},
   "outputs": [
    {
     "name": "stdout",
     "output_type": "stream",
     "text": [
      "6 1 6 ⇄ 3 ⇄ 5 ⇄ 4 ⇄ 1 ⇄ 2 ⇄ 8 ⇄ 7 ⇄ 9\n",
      "6 1 1 ⇄ 3 ⇄ 5 ⇄ 4 ⇄ 6 ⇄ 2 ⇄ 8 ⇄ 7 ⇄ 9\n"
     ]
    }
   ],
   "source": [
    "L = liste_demo()\n",
    "i = L.begin().suivant(0)\n",
    "j = L.begin().suivant(4)\n",
    "print(i,j,L)\n",
    "\n",
    "echanger_iterateurs(i,j)\n",
    "print(i,j,L)"
   ]
  },
  {
   "cell_type": "markdown",
   "metadata": {
    "slideshow": {
     "slide_type": "subslide"
    }
   },
   "source": [
    "Après échange des maillons, c'est `jMin` qui stocke maintenant l'emplacement dans la boucle sur `i`"
   ]
  },
  {
   "cell_type": "code",
   "execution_count": 9,
   "metadata": {},
   "outputs": [],
   "source": [
    "def tri_par_selection(L):\n",
    "    i = L.begin()\n",
    "    while i != L.end():\n",
    "        jMin = i.copie()\n",
    "        \n",
    "        j = i.suivant(); \n",
    "        while j != L.end():\n",
    "            if j.get_val() < jMin.get_val():\n",
    "                jMin = j.copie()\n",
    "            j.incr()\n",
    "            \n",
    "        echanger_iterateurs(i,jMin)\n",
    "        i = jMin.suivant()    # et pas i.incr()  "
   ]
  },
  {
   "cell_type": "code",
   "execution_count": 10,
   "metadata": {},
   "outputs": [
    {
     "name": "stdout",
     "output_type": "stream",
     "text": [
      "6 ⇄ 3 ⇄ 5 ⇄ 4 ⇄ 1 ⇄ 2 ⇄ 8 ⇄ 7 ⇄ 9\n",
      "1 ⇄ 2 ⇄ 3 ⇄ 4 ⇄ 5 ⇄ 6 ⇄ 7 ⇄ 8 ⇄ 9\n"
     ]
    }
   ],
   "source": [
    "L = liste_demo();     print(L); \n",
    "tri_par_selection(L); print(L)"
   ]
  },
  {
   "cell_type": "markdown",
   "metadata": {
    "slideshow": {
     "slide_type": "slide"
    }
   },
   "source": [
    "## Tri par insertion\n",
    "\n",
    "Nous avons déjà vu la traduction du tri par insertion en itérateurs dans la section sur les listes"
   ]
  },
  {
   "cell_type": "code",
   "execution_count": 11,
   "metadata": {},
   "outputs": [],
   "source": [
    "def tri_par_insertion(L):\n",
    "    if L.size() < 2: return\n",
    "    \n",
    "    k = L.begin().suivant()\n",
    "    while k != L.end():\n",
    "        tmp = k.get_val()\n",
    "        \n",
    "        j = k; i = j.precedent()\n",
    "        while j != L.begin() and tmp < i.get_val():\n",
    "            j.set_val(i.get_val())\n",
    "            j = i.copie() \n",
    "            i.decr()\n",
    "            \n",
    "        j.set_val(tmp)\n",
    "        k.incr()"
   ]
  },
  {
   "cell_type": "code",
   "execution_count": 12,
   "metadata": {
    "slideshow": {
     "slide_type": "skip"
    }
   },
   "outputs": [
    {
     "name": "stdout",
     "output_type": "stream",
     "text": [
      "6 ⇄ 3 ⇄ 5 ⇄ 4 ⇄ 1 ⇄ 2 ⇄ 8 ⇄ 7 ⇄ 9\n",
      "1 ⇄ 2 ⇄ 3 ⇄ 4 ⇄ 5 ⇄ 6 ⇄ 7 ⇄ 8 ⇄ 9\n"
     ]
    }
   ],
   "source": [
    "L = liste_demo();     print(L)\n",
    "tri_par_insertion(L); print(L)"
   ]
  },
  {
   "cell_type": "markdown",
   "metadata": {
    "slideshow": {
     "slide_type": "subslide"
    }
   },
   "source": [
    "Ce code est une transcription exacte de celui sur les tableaux. Mais ce n'est pas efficace. \n",
    "\n",
    "Le but de la boucle interne est de \n",
    "\n",
    "* trouver la position `i` où il faut insérer l'élément `k`\n",
    "* déplacer l'élément de `k` vers `i`\n",
    "\n",
    "Dans un tableau, cela requiert de déplacer tous les éléments entre `i` et `k-1` de 1 vers la droite. Mais dans une liste chainée, cela n'a pas de sens. Il suffit de retirer le maillon `k` et de l'insérer tel quel devant `i`,"
   ]
  },
  {
   "cell_type": "markdown",
   "metadata": {
    "slideshow": {
     "slide_type": "subslide"
    }
   },
   "source": [
    "Soit la liste suivante dont nous voulons insérer le maillon 2 devant le maillon 3\n",
    "\n",
    "![](include/insertion_1.png)"
   ]
  },
  {
   "cell_type": "markdown",
   "metadata": {
    "slideshow": {
     "slide_type": "fragment"
    }
   },
   "source": [
    "Il suffit de détruire les liens pointillés et d'écrire à la places les liens doubles bleu, vert et rose.\n",
    "\n",
    "![](include/insertion_2.png)"
   ]
  },
  {
   "cell_type": "code",
   "execution_count": 13,
   "metadata": {
    "slideshow": {
     "slide_type": "subslide"
    }
   },
   "outputs": [],
   "source": [
    "def deplacer_maillon(FROM,TO):\n",
    "    if FROM == TO: return\n",
    "\n",
    "    # rose \n",
    "    FROM.precedent.suivant = FROM.suivant    \n",
    "    FROM.suivant.precedent = FROM.precedent\n",
    "    \n",
    "    # vert\n",
    "    TO.precedent.suivant = FROM\n",
    "    FROM.precedent = TO.precedent\n",
    "    \n",
    "    # bleu\n",
    "    TO.precedent = FROM\n",
    "    FROM.suivant = TO \n",
    "    \n",
    "def deplacer_iterateur(FROM,TO):\n",
    "    deplacer_maillon(FROM._list_iterator__M,\n",
    "                     TO._list_iterator__M)"
   ]
  },
  {
   "cell_type": "markdown",
   "metadata": {
    "slideshow": {
     "slide_type": "subslide"
    }
   },
   "source": [
    "Elle nous permet de ré-écrire le tri par insertion"
   ]
  },
  {
   "cell_type": "code",
   "execution_count": 14,
   "metadata": {},
   "outputs": [],
   "source": [
    "def tri_par_insertion(L):\n",
    "    if L.size() < 2: return\n",
    "    \n",
    "    k = L.begin().suivant()\n",
    "    while k != L.end():    \n",
    "        i = k.copie()\n",
    "        while i != L.begin() and \\\n",
    "              k.get_val() < i.precedent().get_val():\n",
    "            i.decr()\n",
    "        n = k.suivant()\n",
    "        deplacer_iterateur(k,i)\n",
    "        k = n"
   ]
  },
  {
   "cell_type": "code",
   "execution_count": 15,
   "metadata": {
    "slideshow": {
     "slide_type": "fragment"
    }
   },
   "outputs": [
    {
     "name": "stdout",
     "output_type": "stream",
     "text": [
      "6 ⇄ 3 ⇄ 5 ⇄ 4 ⇄ 1 ⇄ 2 ⇄ 8 ⇄ 7 ⇄ 9\n",
      "1 ⇄ 2 ⇄ 3 ⇄ 4 ⇄ 5 ⇄ 6 ⇄ 7 ⇄ 8 ⇄ 9\n"
     ]
    }
   ],
   "source": [
    "L = liste_demo();     print(L)\n",
    "tri_par_insertion(L); print(L)"
   ]
  },
  {
   "cell_type": "markdown",
   "metadata": {
    "slideshow": {
     "slide_type": "slide"
    }
   },
   "source": [
    "## Episser (to splice)\n",
    "\n",
    "On peut généraliser l'opération de déplacement de maillons en déplaçant toute une sous-liste à un autre emplacement, voire à un emplacement d'un autre liste. \n",
    "\n",
    "Cette opération s'appelle l'épissure, `splice` en anglais. C'est un mot du vocabulaire marin, provenant etymologiquement du néerlandais *splitsen*: assembler deux cordes ou deux câbles mis bout à bout par l’entrelacement de leurs torons.\n",
    "\n",
    "[![épissure](include/epissure.png)](https://fr.wikipedia.org/wiki/Épissure_%28marine%29)\n"
   ]
  },
  {
   "cell_type": "markdown",
   "metadata": {
    "slideshow": {
     "slide_type": "subslide"
    }
   },
   "source": [
    "Le code est assez similaire à celui du déplacement d'un noeud. Il faut modifier 3 liens doubles, soit 6 liens. \n",
    "\n",
    "Pour insérer la sous-liste `[debut2,fin2[` devant le maillon `m1`, il faut supprimer les doubles liens pointillés et les remplacer par les doubles liens rose, vert, et bleu\n",
    "\n",
    "![](include/splice.png)"
   ]
  },
  {
   "cell_type": "code",
   "execution_count": 43,
   "metadata": {
    "slideshow": {
     "slide_type": "subslide"
    }
   },
   "outputs": [],
   "source": [
    "def splice_maillons(m1,debut2,fin2):\n",
    "    if debut2 == fin2: return    # rien à épisser\n",
    "    \n",
    "    m1p = m1.precedent \n",
    "    d2p = debut2.precedent\n",
    "    f2p = fin2.precedent \n",
    "        \n",
    "    # rose \n",
    "    d2p.suivant = fin2; fin2.precedent = d2p\n",
    "\n",
    "    # vert\n",
    "    m1p.suivant = debut2; debut2.precedent = m1p\n",
    "\n",
    "    # bleu\n",
    "    f2p.suivant = m1; m1.precedent = f2p"
   ]
  },
  {
   "cell_type": "markdown",
   "metadata": {
    "slideshow": {
     "slide_type": "subslide"
    }
   },
   "source": [
    "Si l'on permet de transférer des maillons d'une liste à l'autre, on ne peut pas se contenter d'une API basée sur les itérateurs. L'épissure modifie le nombre d'éléments des deux listes "
   ]
  },
  {
   "cell_type": "code",
   "execution_count": 44,
   "metadata": {},
   "outputs": [],
   "source": [
    "def splice(L1,it1,L2,begin2,end2):\n",
    "    if L1 != L2:\n",
    "        n = distance(begin2,end2)\n",
    "        L1._Liste__N += n; L2._Liste__N -= n\n",
    "\n",
    "    splice_maillons(it1._list_iterator__M,\n",
    "                   begin2._list_iterator__M,\n",
    "                   end2._list_iterator__M)"
   ]
  },
  {
   "cell_type": "code",
   "execution_count": 45,
   "metadata": {
    "slideshow": {
     "slide_type": "fragment"
    }
   },
   "outputs": [],
   "source": [
    "def distance(it1,it2):\n",
    "    cnt = 0; it = it1.copie()\n",
    "    while it != it2:\n",
    "        it.incr()\n",
    "        cnt += 1\n",
    "    return cnt"
   ]
  },
  {
   "cell_type": "code",
   "execution_count": 49,
   "metadata": {
    "slideshow": {
     "slide_type": "subslide"
    }
   },
   "outputs": [
    {
     "name": "stdout",
     "output_type": "stream",
     "text": [
      "-1 ⇄ -2 ⇄ -3 ⇄ -4 ⇄ -5 ⇄ -6\n"
     ]
    }
   ],
   "source": [
    "L1 = ld.Liste()\n",
    "for i in range(-1,-7,-1): L1.push_back(i)\n",
    "print(L1)"
   ]
  },
  {
   "cell_type": "code",
   "execution_count": 50,
   "metadata": {},
   "outputs": [
    {
     "name": "stdout",
     "output_type": "stream",
     "text": [
      "0 ⇄ 1 ⇄ 2 ⇄ 3 ⇄ 4 ⇄ 5 ⇄ 6\n"
     ]
    }
   ],
   "source": [
    "L2 = ld.Liste()\n",
    "for i in range(7): L2.push_back(i)\n",
    "print(L2)"
   ]
  },
  {
   "cell_type": "code",
   "execution_count": 51,
   "metadata": {
    "slideshow": {
     "slide_type": "-"
    }
   },
   "outputs": [],
   "source": [
    "i1 = L1.begin().suivant(2)\n",
    "b2 = L2.begin().suivant(1)\n",
    "e2 = L2.begin().suivant(4)\n",
    "splice(L1,i1,L2,b2,e2)"
   ]
  },
  {
   "cell_type": "code",
   "execution_count": 53,
   "metadata": {
    "slideshow": {
     "slide_type": "fragment"
    }
   },
   "outputs": [
    {
     "name": "stdout",
     "output_type": "stream",
     "text": [
      "9 :  -1 ⇄ -2 ⇄ 1 ⇄ 2 ⇄ 3 ⇄ -3 ⇄ -4 ⇄ -5 ⇄ -6\n",
      "4 :  0 ⇄ 4 ⇄ 5 ⇄ 6\n"
     ]
    }
   ],
   "source": [
    "print(L1.size(),\": \",L1)\n",
    "print(L2.size(),\": \",L2)"
   ]
  },
  {
   "cell_type": "markdown",
   "metadata": {
    "slideshow": {
     "slide_type": "slide"
    }
   },
   "source": [
    "## Tri fusion\n",
    "\n"
   ]
  },
  {
   "cell_type": "markdown",
   "metadata": {
    "slideshow": {
     "slide_type": "slide"
    }
   },
   "source": [
    "## Tri rapide"
   ]
  },
  {
   "cell_type": "markdown",
   "metadata": {
    "slideshow": {
     "slide_type": "slide"
    }
   },
   "source": [
    "## Tri par tas, tri de Shell\n",
    "\n",
    "ces tris ont intrinsèquement besoin d'un accés aléatoire aux données. Ils ne peuvent être mis en oeuvre efficacement sur des listes chainées."
   ]
  },
  {
   "cell_type": "markdown",
   "metadata": {
    "slideshow": {
     "slide_type": "slide"
    }
   },
   "source": [
    "<table style=\"width: 100%; border: 0px\">\n",
    "<tr style=\"background-color:white; border:0px\">\n",
    "<td style=\"width: 120px; border: 0px\">\n",
    "    <img src=\"https://heig-vd.ch/ResourcePackages/WhiteFox/assets/images/logo-heig-vd.svg\" height=200px align=left >\n",
    "    </td>\n",
    "    <td style=\"vertical-align: middle; border: 0px\" height=200px>\n",
    "    <p style=\"text-align: left\">\n",
    "        <a href=\"https://ocuisenaire.github.io/ASD1-notebooks/\">ASD1 Notebooks on GitHub.io</a>\n",
    " </p>        \n",
    "<p style=\"text-align: left\">\n",
    "© Olivier Cuisenaire, 2018 </p>\n",
    "</td>\n",
    "</tr>\n",
    "</table>"
   ]
  },
  {
   "cell_type": "raw",
   "metadata": {},
   "source": [
    "<style type=\"text/css\">\n",
    ".reveal {\n",
    "font-size: 200%;\n",
    "}</style>"
   ]
  },
  {
   "cell_type": "code",
   "execution_count": null,
   "metadata": {},
   "outputs": [],
   "source": []
  }
 ],
 "metadata": {
  "celltoolbar": "Slideshow",
  "kernelspec": {
   "display_name": "Python 3",
   "language": "python",
   "name": "python3"
  },
  "language_info": {
   "codemirror_mode": {
    "name": "ipython",
    "version": 3
   },
   "file_extension": ".py",
   "mimetype": "text/x-python",
   "name": "python",
   "nbconvert_exporter": "python",
   "pygments_lexer": "ipython3",
   "version": "3.6.5"
  }
 },
 "nbformat": 4,
 "nbformat_minor": 2
}
