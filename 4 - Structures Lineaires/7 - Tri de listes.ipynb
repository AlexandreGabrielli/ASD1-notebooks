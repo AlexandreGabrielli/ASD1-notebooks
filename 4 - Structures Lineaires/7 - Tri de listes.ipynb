{
 "cells": [
  {
   "cell_type": "markdown",
   "metadata": {
    "slideshow": {
     "slide_type": "slide"
    }
   },
   "source": [
    "# Tri de listes"
   ]
  },
  {
   "cell_type": "markdown",
   "metadata": {
    "slideshow": {
     "slide_type": "slide"
    }
   },
   "source": [
    "## Principe\n",
    "\n",
    "Les algorithmes vu au chapitre 3 ne sont pas directement applicables aux listes simplement ou doublement chainées\n",
    "\n",
    "Il n'y a pas d'accès indexé aux éléments\n",
    "\n",
    "Le fournir serait trop cher en terme de complexité\n",
    "\n",
    "Mais en a-t-on vraiment besoin ? \n",
    "\n",
    "Cela dépend des algorithmes"
   ]
  },
  {
   "cell_type": "markdown",
   "metadata": {
    "slideshow": {
     "slide_type": "slide"
    }
   },
   "source": [
    "## Tri à bulle et par sélection\n",
    "\n",
    "Pour rappel, en voici les codes du chapitre 3 pour trier des tableaux"
   ]
  },
  {
   "cell_type": "code",
   "execution_count": 1,
   "metadata": {},
   "outputs": [],
   "source": [
    "def tri_a_bulles(T):\n",
    "    N = len(T)\n",
    "    for k in range(N,1,-1):    \n",
    "        for i in range(0,k-1):  \n",
    "            if T[i] > T[i+1]: \n",
    "                T[i],T[i+1] = T[i+1],T[i]  "
   ]
  },
  {
   "cell_type": "code",
   "execution_count": 2,
   "metadata": {},
   "outputs": [],
   "source": [
    "def tri_par_selection(T):\n",
    "    N = len(T)\n",
    "    for i in range(0,N-1):\n",
    "        jMin = i\n",
    "        for j in range(i+1,N):\n",
    "            if T[j] < T[jMin]: jMin = j\n",
    "        T[i],T[jMin] = T[jMin],T[i]  "
   ]
  },
  {
   "cell_type": "markdown",
   "metadata": {
    "slideshow": {
     "slide_type": "subslide"
    }
   },
   "source": [
    "Dans les deux cas, il y a \n",
    "\n",
    "* deux parcours croissants\n",
    "* des échanges d'éléments \n",
    "\n",
    "Les parcours croissants peuvent aisément être effectués par les itérateurs sur listes simples ou doubles. Par exemple, pour le tri par sélection"
   ]
  },
  {
   "cell_type": "code",
   "execution_count": 3,
   "metadata": {},
   "outputs": [],
   "source": [
    "def tri_par_selection(L):\n",
    "    i = L.begin()\n",
    "    while i != L.end():\n",
    "        jMin = i.copie()\n",
    "        j = i.suivant(); \n",
    "        while j != L.end():\n",
    "            if j.get_val() < jMin.get_val():\n",
    "                jMin = j.copie()\n",
    "            j.incr()\n",
    "        echanger(i,jMin)\n",
    "        i.incr()"
   ]
  },
  {
   "cell_type": "markdown",
   "metadata": {
    "slideshow": {
     "slide_type": "subslide"
    }
   },
   "source": [
    "Avec une fonction d'échange standard entre les éléments itérés, on a"
   ]
  },
  {
   "cell_type": "code",
   "execution_count": 4,
   "metadata": {},
   "outputs": [],
   "source": [
    "def echanger(i,j):\n",
    "    tmp = i.get_val()\n",
    "    i.set_val(j.get_val())\n",
    "    j.set_val(tmp)"
   ]
  },
  {
   "cell_type": "code",
   "execution_count": 5,
   "metadata": {},
   "outputs": [
    {
     "name": "stdout",
     "output_type": "stream",
     "text": [
      "⌀ ← 1 ⇄ 2 ⇄ 3 ⇄ 4 ⇄ 5 ⇄ 6 ⇄ 7 ⇄ 8 ⇄ 9 → ⌀\n"
     ]
    }
   ],
   "source": [
    "import include.liste_double as ld\n",
    "T = [ 6, 3, 5, 4, 1, 2, 8, 7, 9 ]; \n",
    "\n",
    "L = ld.Liste()\n",
    "for t in T: L.push_back(t)\n",
    "\n",
    "tri_par_selection(L); print(L)"
   ]
  },
  {
   "cell_type": "markdown",
   "metadata": {
    "slideshow": {
     "slide_type": "subslide"
    }
   },
   "source": [
    "Mais il y a une autre manière d'échanger les éléments sans devoir les copier: échanger la place de leurs maillons dans la chaine. "
   ]
  },
  {
   "cell_type": "code",
   "execution_count": 6,
   "metadata": {},
   "outputs": [],
   "source": [
    "def echanger_emplacement_des_maillons(m1,m2):\n",
    "    if m1 == m2: return\n",
    "    \n",
    "    m1p = m1.precedent; m1s = m1.suivant\n",
    "    m2p = m2.precedent; m2s = m2.suivant\n",
    "    \n",
    "    m1p.suivant, m2p.suivant = m2p.suivant, m1p.suivant\n",
    "    m1.suivant, m2.suivant = m2.suivant, m1.suivant\n",
    "    \n",
    "    m1s.precedent, m2s.precedent = m2s.precedent, m1s.precedent\n",
    "    m1.precedent, m2.precedent = m2.precedent, m1.precedent \n",
    "    \n",
    "def echanger_iterateurs(i,j):\n",
    "    if i == j: return \n",
    "    echanger_emplacement_des_maillons(i._list_iterator__M, \n",
    "                                      j._list_iterator__M)"
   ]
  },
  {
   "cell_type": "markdown",
   "metadata": {
    "slideshow": {
     "slide_type": "subslide"
    }
   },
   "source": [
    "Mais attention, après échange, les itérateurs pointent toujours sur les mêmes éléments, mais ne sont plus au même emplacement de la liste"
   ]
  },
  {
   "cell_type": "code",
   "execution_count": 7,
   "metadata": {},
   "outputs": [
    {
     "name": "stdout",
     "output_type": "stream",
     "text": [
      "6 1 ⌀ ← 6 ⇄ 3 ⇄ 5 ⇄ 4 ⇄ 1 ⇄ 2 ⇄ 8 ⇄ 7 ⇄ 9 → ⌀\n",
      "6 1 ⌀ ← 1 ⇄ 3 ⇄ 5 ⇄ 4 ⇄ 6 ⇄ 2 ⇄ 8 ⇄ 7 ⇄ 9 → ⌀\n"
     ]
    }
   ],
   "source": [
    "L = ld.Liste()\n",
    "for t in T: L.push_back(t)\n",
    "i = L.begin().suivant(0)\n",
    "j = L.begin().suivant(4)\n",
    "\n",
    "print(i,j,L)\n",
    "\n",
    "echanger_iterateurs(i,j)\n",
    "\n",
    "print(i,j,L)"
   ]
  },
  {
   "cell_type": "markdown",
   "metadata": {
    "slideshow": {
     "slide_type": "subslide"
    }
   },
   "source": [
    "Après échange des maillons, c'est `jMin` qui stocke maintenant l'emplacement dans la boucle sur `i`"
   ]
  },
  {
   "cell_type": "code",
   "execution_count": 8,
   "metadata": {},
   "outputs": [],
   "source": [
    "def tri_par_selection(L):\n",
    "    i = L.begin()\n",
    "    while i != L.end():\n",
    "        jMin = i.copie()\n",
    "        \n",
    "        j = i.suivant(); \n",
    "        while j != L.end():\n",
    "            if j.get_val() < jMin.get_val():\n",
    "                jMin = j.copie()\n",
    "            j.incr()\n",
    "            \n",
    "        echanger_iterateurs(i,jMin)\n",
    "        i = jMin.suivant()    # et pas i.incr()  "
   ]
  },
  {
   "cell_type": "code",
   "execution_count": 9,
   "metadata": {},
   "outputs": [
    {
     "name": "stdout",
     "output_type": "stream",
     "text": [
      "⌀ ← 1 ⇄ 2 ⇄ 3 ⇄ 4 ⇄ 5 ⇄ 6 ⇄ 7 ⇄ 8 ⇄ 9 → ⌀\n"
     ]
    }
   ],
   "source": [
    "import include.liste_double as ld\n",
    "T = [ 6, 3, 5, 4, 1, 2, 8, 7, 9 ]; \n",
    "L = ld.Liste()\n",
    "for t in T: L.push_back(t)\n",
    "tri_par_selection(L); print(L)"
   ]
  },
  {
   "cell_type": "markdown",
   "metadata": {
    "slideshow": {
     "slide_type": "slide"
    }
   },
   "source": [
    "## Tri par insertion\n",
    "\n",
    "Nous avons déjà vu la traduction du tri par insertion en itérateurs dans la section sur les listes"
   ]
  },
  {
   "cell_type": "code",
   "execution_count": 10,
   "metadata": {},
   "outputs": [],
   "source": [
    "def tri_par_insertion(L):\n",
    "    if L.size() < 2: return\n",
    "    \n",
    "    k = L.begin().suivant()\n",
    "    while k != L.end():\n",
    "        tmp = k.get_val()\n",
    "        \n",
    "        j = k; i = j.precedent()\n",
    "        while j != L.begin() and tmp < i.get_val():\n",
    "            j.set_val(i.get_val())\n",
    "            j = i.copie() \n",
    "            i.decr()\n",
    "            \n",
    "        j.set_val(tmp)\n",
    "        k.incr()"
   ]
  },
  {
   "cell_type": "code",
   "execution_count": 11,
   "metadata": {
    "slideshow": {
     "slide_type": "skip"
    }
   },
   "outputs": [
    {
     "name": "stdout",
     "output_type": "stream",
     "text": [
      "⌀ ← 6 ⇄ 3 ⇄ 5 ⇄ 4 ⇄ 1 ⇄ 2 ⇄ 8 ⇄ 7 ⇄ 9 → ⌀\n"
     ]
    }
   ],
   "source": [
    "L = ld.Liste()\n",
    "for t in T: L.push_back(t)\n",
    "print(L)"
   ]
  },
  {
   "cell_type": "code",
   "execution_count": 12,
   "metadata": {
    "slideshow": {
     "slide_type": "skip"
    }
   },
   "outputs": [
    {
     "name": "stdout",
     "output_type": "stream",
     "text": [
      "⌀ ← 1 ⇄ 2 ⇄ 3 ⇄ 4 ⇄ 5 ⇄ 6 ⇄ 7 ⇄ 8 ⇄ 9 → ⌀\n"
     ]
    }
   ],
   "source": [
    "tri_par_insertion(L)\n",
    "print(L)"
   ]
  },
  {
   "cell_type": "markdown",
   "metadata": {
    "slideshow": {
     "slide_type": "subslide"
    }
   },
   "source": [
    "Ce code est une transcription exacte de celui sur les tableaux. Mais ce n'est pas efficace. \n",
    "\n",
    "Le but de la boucle interne est de \n",
    "\n",
    "* trouver la position `i` où il faut insérer l'élément `k`\n",
    "* déplacer l'élément de `k` vers `i`\n",
    "\n",
    "Dans un tableau, cela requiert de déplacer tous les éléments entre `i` et `k-1` de 1 vers la droite. Mais dans une liste chainée, cela n'a pas de sens. Il suffit de retirer le maillon `k` et de l'insérer tel quel devant `i`,\n",
    "\n",
    "Ecrivons un telle fonction"
   ]
  },
  {
   "cell_type": "code",
   "execution_count": 13,
   "metadata": {
    "slideshow": {
     "slide_type": "subslide"
    }
   },
   "outputs": [],
   "source": [
    "def deplacer_maillon(FROM,TO):\n",
    "    if FROM == TO: return\n",
    "    \n",
    "    FROM.precedent.suivant = FROM.suivant\n",
    "    FROM.suivant.precedent = FROM.precedent\n",
    "    \n",
    "    TO.precedent.suivant = FROM\n",
    "    FROM.precedent = TO.precedent\n",
    "    \n",
    "    TO.precedent = FROM\n",
    "    FROM.suivant = TO \n",
    "    \n",
    "def deplacer_iterateur(FROM,TO):\n",
    "    deplacer_maillon(FROM._list_iterator__M,\n",
    "                     TO._list_iterator__M)"
   ]
  },
  {
   "cell_type": "markdown",
   "metadata": {
    "slideshow": {
     "slide_type": "subslide"
    }
   },
   "source": [
    "Elle nous permet de ré-écrire le tri par insertion"
   ]
  },
  {
   "cell_type": "code",
   "execution_count": 14,
   "metadata": {},
   "outputs": [],
   "source": [
    "def tri_par_insertion_sans_copie(L):\n",
    "    if L.size() < 2: return\n",
    "    \n",
    "    k = L.begin().suivant()\n",
    "    while k != L.end():    \n",
    "        i = k.copie()\n",
    "        while i != L.begin() and \\\n",
    "              k.get_val() < i.precedent().get_val():\n",
    "            i.decr()\n",
    "        n = k.suivant()\n",
    "        deplacer_iterateur(k,i)\n",
    "        k = n"
   ]
  },
  {
   "cell_type": "code",
   "execution_count": 15,
   "metadata": {
    "slideshow": {
     "slide_type": "fragment"
    }
   },
   "outputs": [
    {
     "name": "stdout",
     "output_type": "stream",
     "text": [
      "⌀ ← 1 ⇄ 2 ⇄ 3 ⇄ 4 ⇄ 5 ⇄ 6 ⇄ 7 ⇄ 8 ⇄ 9 → ⌀\n"
     ]
    }
   ],
   "source": [
    "T = [ 6, 3, 5, 4, 1, 2, 8, 7, 9 ]\n",
    "L = ld.Liste()\n",
    "for t in T: L.push_back(t)\n",
    "\n",
    "tri_par_insertion_sans_copie(L)\n",
    "print(L)"
   ]
  },
  {
   "cell_type": "markdown",
   "metadata": {
    "slideshow": {
     "slide_type": "slide"
    }
   },
   "source": [
    "<table style=\"width: 100%; border: 0px\">\n",
    "<tr style=\"background-color:white; border:0px\">\n",
    "<td style=\"width: 120px; border: 0px\">\n",
    "    <img src=\"https://heig-vd.ch/ResourcePackages/WhiteFox/assets/images/logo-heig-vd.svg\" height=200px align=left >\n",
    "    </td>\n",
    "    <td style=\"vertical-align: middle; border: 0px\" height=200px>\n",
    "    <p style=\"text-align: left\">\n",
    "        <a href=\"https://ocuisenaire.github.io/ASD1-notebooks/\">ASD1 Notebooks on GitHub.io</a>\n",
    " </p>        \n",
    "<p style=\"text-align: left\">\n",
    "© Olivier Cuisenaire, 2018 </p>\n",
    "</td>\n",
    "</tr>\n",
    "</table>"
   ]
  },
  {
   "cell_type": "raw",
   "metadata": {},
   "source": [
    "<style type=\"text/css\">\n",
    ".reveal {\n",
    "font-size: 200%;\n",
    "}</style>"
   ]
  },
  {
   "cell_type": "code",
   "execution_count": null,
   "metadata": {},
   "outputs": [],
   "source": []
  }
 ],
 "metadata": {
  "celltoolbar": "Slideshow",
  "kernelspec": {
   "display_name": "Python 3",
   "language": "python",
   "name": "python3"
  },
  "language_info": {
   "codemirror_mode": {
    "name": "ipython",
    "version": 3
   },
   "file_extension": ".py",
   "mimetype": "text/x-python",
   "name": "python",
   "nbconvert_exporter": "python",
   "pygments_lexer": "ipython3",
   "version": "3.6.5"
  }
 },
 "nbformat": 4,
 "nbformat_minor": 2
}
