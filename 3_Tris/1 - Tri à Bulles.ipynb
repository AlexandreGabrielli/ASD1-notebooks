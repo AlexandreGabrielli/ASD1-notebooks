{
 "cells": [
  {
   "cell_type": "markdown",
   "metadata": {},
   "source": [
    "# Principe\n",
    "\n",
    "Le tri à bulles consiste à comparer répétitivement les éléments consécutifs d'un tableau. Si une paire d'éléments consécutifs est mal ordonnée, on en permute les éléments. \n",
    "\n",
    "Il doit son nom au fait qu'il déplace rapidement les plus grands éléments en fin de tableau, comme des bulles d'air qui remonteraient rapidement à la surface d'un liquide.\n",
    "\n",
    "Ce tri est mis en oeuvre avec deux boucles imbriquées. \n",
    "\n",
    "* La boucle interne itère par indice croissant sur les N-1 paires d'éléments consécutifs pour N éléments. \n",
    "* La boucle externe s'effectue autant de fois que nécessaire pour que le tableau soit trié. Dans le pire des cas, l'élément minimum commence à droite, et ne recule que d'un indice par boucle interne. Il faut alors que la boucle externe s'effectue N-1 fois elle aussi.  "
   ]
  },
  {
   "cell_type": "code",
   "execution_count": 1,
   "metadata": {},
   "outputs": [],
   "source": [
    "TAB = [ 5, 8, 4, 3, 2, 6, 7, 1 ]"
   ]
  },
  {
   "cell_type": "markdown",
   "metadata": {},
   "source": [
    "# Mise en oeuvre"
   ]
  },
  {
   "cell_type": "code",
   "execution_count": 2,
   "metadata": {},
   "outputs": [],
   "source": [
    "def echangeSiNecessaire( A, i, verbose = True):        \n",
    "    # Après cette fonction, A[i] <= A[i+1]\n",
    "    \n",
    "    print(A, end = \" => \")\n",
    "\n",
    "    if A[i] > A[i+1]:\n",
    "        A[i], A[i+1] = A[i+1], A[i]    # swap \n",
    "        print(A)\n",
    "    else:\n",
    "        print(\"Inchangé\")\n",
    "        \n",
    "    return;"
   ]
  },
  {
   "cell_type": "code",
   "execution_count": 3,
   "metadata": {},
   "outputs": [
    {
     "name": "stdout",
     "output_type": "stream",
     "text": [
      "[5, 8, 4, 3, 2, 6, 7, 1] => [5, 8, 3, 4, 2, 6, 7, 1]\n"
     ]
    }
   ],
   "source": [
    "T = TAB.copy()\n",
    "\n",
    "echangeSiNecessaire(T,2);"
   ]
  },
  {
   "cell_type": "code",
   "execution_count": 4,
   "metadata": {},
   "outputs": [
    {
     "name": "stdout",
     "output_type": "stream",
     "text": [
      "[5, 8, 3, 4, 2, 6, 7, 1] => Inchangé\n"
     ]
    }
   ],
   "source": [
    "echangeSiNecessaire(T,2);"
   ]
  },
  {
   "cell_type": "markdown",
   "metadata": {},
   "source": [
    "## Un passage sur toutes les paires d'éléments"
   ]
  },
  {
   "cell_type": "code",
   "execution_count": 5,
   "metadata": {
    "scrolled": true
   },
   "outputs": [],
   "source": [
    "def boucleInterne(A):\n",
    "    N = len(A)\n",
    "    for i in range(0,N-1):  \n",
    "        echangeSiNecessaire(A,i) \n",
    "    return;"
   ]
  },
  {
   "cell_type": "code",
   "execution_count": 6,
   "metadata": {},
   "outputs": [
    {
     "name": "stdout",
     "output_type": "stream",
     "text": [
      "[5, 8, 4, 3, 2, 6, 7, 1] => Inchangé\n",
      "[5, 8, 4, 3, 2, 6, 7, 1] => [5, 4, 8, 3, 2, 6, 7, 1]\n",
      "[5, 4, 8, 3, 2, 6, 7, 1] => [5, 4, 3, 8, 2, 6, 7, 1]\n",
      "[5, 4, 3, 8, 2, 6, 7, 1] => [5, 4, 3, 2, 8, 6, 7, 1]\n",
      "[5, 4, 3, 2, 8, 6, 7, 1] => [5, 4, 3, 2, 6, 8, 7, 1]\n",
      "[5, 4, 3, 2, 6, 8, 7, 1] => [5, 4, 3, 2, 6, 7, 8, 1]\n",
      "[5, 4, 3, 2, 6, 7, 8, 1] => [5, 4, 3, 2, 6, 7, 1, 8]\n"
     ]
    }
   ],
   "source": [
    "T = TAB.copy()\n",
    "\n",
    "boucleInterne(T);"
   ]
  },
  {
   "cell_type": "markdown",
   "metadata": {},
   "source": [
    "## Tous les passages"
   ]
  },
  {
   "cell_type": "code",
   "execution_count": 7,
   "metadata": {
    "scrolled": true
   },
   "outputs": [
    {
     "name": "stdout",
     "output_type": "stream",
     "text": [
      "[5, 8, 4, 3, 2, 6, 7, 1] => Inchangé\n",
      "[5, 8, 4, 3, 2, 6, 7, 1] => [5, 4, 8, 3, 2, 6, 7, 1]\n",
      "[5, 4, 8, 3, 2, 6, 7, 1] => [5, 4, 3, 8, 2, 6, 7, 1]\n",
      "[5, 4, 3, 8, 2, 6, 7, 1] => [5, 4, 3, 2, 8, 6, 7, 1]\n",
      "[5, 4, 3, 2, 8, 6, 7, 1] => [5, 4, 3, 2, 6, 8, 7, 1]\n",
      "[5, 4, 3, 2, 6, 8, 7, 1] => [5, 4, 3, 2, 6, 7, 8, 1]\n",
      "[5, 4, 3, 2, 6, 7, 8, 1] => [5, 4, 3, 2, 6, 7, 1, 8]\n",
      "\n",
      "[5, 4, 3, 2, 6, 7, 1, 8] => [4, 5, 3, 2, 6, 7, 1, 8]\n",
      "[4, 5, 3, 2, 6, 7, 1, 8] => [4, 3, 5, 2, 6, 7, 1, 8]\n",
      "[4, 3, 5, 2, 6, 7, 1, 8] => [4, 3, 2, 5, 6, 7, 1, 8]\n",
      "[4, 3, 2, 5, 6, 7, 1, 8] => Inchangé\n",
      "[4, 3, 2, 5, 6, 7, 1, 8] => Inchangé\n",
      "[4, 3, 2, 5, 6, 7, 1, 8] => [4, 3, 2, 5, 6, 1, 7, 8]\n",
      "[4, 3, 2, 5, 6, 1, 7, 8] => Inchangé\n",
      "\n",
      "[4, 3, 2, 5, 6, 1, 7, 8] => [3, 4, 2, 5, 6, 1, 7, 8]\n",
      "[3, 4, 2, 5, 6, 1, 7, 8] => [3, 2, 4, 5, 6, 1, 7, 8]\n",
      "[3, 2, 4, 5, 6, 1, 7, 8] => Inchangé\n",
      "[3, 2, 4, 5, 6, 1, 7, 8] => Inchangé\n",
      "[3, 2, 4, 5, 6, 1, 7, 8] => [3, 2, 4, 5, 1, 6, 7, 8]\n",
      "[3, 2, 4, 5, 1, 6, 7, 8] => Inchangé\n",
      "[3, 2, 4, 5, 1, 6, 7, 8] => Inchangé\n",
      "\n",
      "[3, 2, 4, 5, 1, 6, 7, 8] => [2, 3, 4, 5, 1, 6, 7, 8]\n",
      "[2, 3, 4, 5, 1, 6, 7, 8] => Inchangé\n",
      "[2, 3, 4, 5, 1, 6, 7, 8] => Inchangé\n",
      "[2, 3, 4, 5, 1, 6, 7, 8] => [2, 3, 4, 1, 5, 6, 7, 8]\n",
      "[2, 3, 4, 1, 5, 6, 7, 8] => Inchangé\n",
      "[2, 3, 4, 1, 5, 6, 7, 8] => Inchangé\n",
      "[2, 3, 4, 1, 5, 6, 7, 8] => Inchangé\n",
      "\n",
      "[2, 3, 4, 1, 5, 6, 7, 8] => Inchangé\n",
      "[2, 3, 4, 1, 5, 6, 7, 8] => Inchangé\n",
      "[2, 3, 4, 1, 5, 6, 7, 8] => [2, 3, 1, 4, 5, 6, 7, 8]\n",
      "[2, 3, 1, 4, 5, 6, 7, 8] => Inchangé\n",
      "[2, 3, 1, 4, 5, 6, 7, 8] => Inchangé\n",
      "[2, 3, 1, 4, 5, 6, 7, 8] => Inchangé\n",
      "[2, 3, 1, 4, 5, 6, 7, 8] => Inchangé\n",
      "\n",
      "[2, 3, 1, 4, 5, 6, 7, 8] => Inchangé\n",
      "[2, 3, 1, 4, 5, 6, 7, 8] => [2, 1, 3, 4, 5, 6, 7, 8]\n",
      "[2, 1, 3, 4, 5, 6, 7, 8] => Inchangé\n",
      "[2, 1, 3, 4, 5, 6, 7, 8] => Inchangé\n",
      "[2, 1, 3, 4, 5, 6, 7, 8] => Inchangé\n",
      "[2, 1, 3, 4, 5, 6, 7, 8] => Inchangé\n",
      "[2, 1, 3, 4, 5, 6, 7, 8] => Inchangé\n",
      "\n",
      "[2, 1, 3, 4, 5, 6, 7, 8] => [1, 2, 3, 4, 5, 6, 7, 8]\n",
      "[1, 2, 3, 4, 5, 6, 7, 8] => Inchangé\n",
      "[1, 2, 3, 4, 5, 6, 7, 8] => Inchangé\n",
      "[1, 2, 3, 4, 5, 6, 7, 8] => Inchangé\n",
      "[1, 2, 3, 4, 5, 6, 7, 8] => Inchangé\n",
      "[1, 2, 3, 4, 5, 6, 7, 8] => Inchangé\n",
      "[1, 2, 3, 4, 5, 6, 7, 8] => Inchangé\n",
      "\n"
     ]
    }
   ],
   "source": [
    "T = TAB.copy()\n",
    "\n",
    "N = len(T)\n",
    "for i in range(0,N-1): \n",
    "    boucleInterne(T)\n",
    "    print(\"\")"
   ]
  },
  {
   "cell_type": "markdown",
   "metadata": {},
   "source": [
    "## En résumé\n",
    "\n",
    "Le tri à bulles effectue deux boucles imbriquées de N-1 itérations. La boucle interne parcourt toutes les paires d'éléments consécutifs. La boucle externe s'effectue suffisamment de fois pour que le résultat soit trié"
   ]
  },
  {
   "cell_type": "code",
   "execution_count": 8,
   "metadata": {},
   "outputs": [
    {
     "name": "stdout",
     "output_type": "stream",
     "text": [
      "A trier:  [5, 8, 4, 3, 2, 6, 7, 1]\n",
      "Trié:  [1, 2, 3, 4, 5, 6, 7, 8]\n"
     ]
    }
   ],
   "source": [
    "T = TAB.copy()\n",
    "print(\"A trier: \",T)\n",
    "\n",
    "N = len(T)\n",
    "for j in range(0,N-1): \n",
    "    for i in range(0,N-1):\n",
    "        if T[i] > T[i+1]:\n",
    "            T[i],T[i+1] = T[i+1],T[i]   # swap\n",
    "            \n",
    "print(\"Trié: \",T)"
   ]
  },
  {
   "cell_type": "markdown",
   "metadata": {},
   "source": [
    "# Visualisation"
   ]
  },
  {
   "cell_type": "code",
   "execution_count": 9,
   "metadata": {
    "scrolled": true
   },
   "outputs": [],
   "source": [
    "import numpy as np\n",
    "import matplotlib\n",
    "import matplotlib.pyplot as plt\n",
    "\n",
    "def affiche(T,it):\n",
    "    plt.stem(T,markerfmt=',',linefmt='black',basefmt='black')\n",
    "    plt.title('Iteration {0}'.format(it))\n",
    "    plt.show()"
   ]
  },
  {
   "cell_type": "code",
   "execution_count": 10,
   "metadata": {},
   "outputs": [],
   "source": [
    "T = np.random.randint(0,100,30)\n",
    "\n",
    "N = len(T)\n",
    "it = 0"
   ]
  },
  {
   "cell_type": "code",
   "execution_count": 11,
   "metadata": {},
   "outputs": [
    {
     "data": {
      "image/png": "[encoded data removed]",
      "text/plain": [
       "<Figure size 432x288 with 1 Axes>"
      ]
     },
     "metadata": {},
     "output_type": "display_data"
    },
    {
     "data": {
      "image/png": "[encoded data removed]",
      "text/plain": [
       "<Figure size 432x288 with 1 Axes>"
      ]
     },
     "metadata": {},
     "output_type": "display_data"
    },
    {
     "data": {
      "image/png": "[encoded data removed]",
      "text/plain": [
       "<Figure size 432x288 with 1 Axes>"
      ]
     },
     "metadata": {},
     "output_type": "display_data"
    },
    {
     "data": {
      "image/png": "[encoded data removed]",
      "text/plain": [
       "<Figure size 432x288 with 1 Axes>"
      ]
     },
     "metadata": {},
     "output_type": "display_data"
    }
   ],
   "source": [
    "affiche(T,it)\n",
    "\n",
    "nombreIterations = 3\n",
    "\n",
    "for j in range(0,nombreIterations):\n",
    "\n",
    "    for i in range(0,N-1):\n",
    "        if T[i] > T[i+1]:\n",
    "            T[i],T[i+1] = T[i+1],T[i]   # swap        \n",
    "    it += 1\n",
    "    affiche(T,it)"
   ]
  },
  {
   "cell_type": "code",
   "execution_count": null,
   "metadata": {},
   "outputs": [],
   "source": []
  }
 ],
 "metadata": {
  "kernelspec": {
   "display_name": "Python 3",
   "language": "python",
   "name": "python3"
  },
  "language_info": {
   "codemirror_mode": {
    "name": "ipython",
    "version": 3
   },
   "file_extension": ".py",
   "mimetype": "text/x-python",
   "name": "python",
   "nbconvert_exporter": "python",
   "pygments_lexer": "ipython3",
   "version": "3.6.5"
  }
 },
 "nbformat": 4,
 "nbformat_minor": 2
}
