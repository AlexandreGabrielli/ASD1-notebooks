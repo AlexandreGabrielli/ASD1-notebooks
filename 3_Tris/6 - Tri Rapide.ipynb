{
 "cells": [
  {
   "cell_type": "code",
   "execution_count": 79,
   "metadata": {},
   "outputs": [],
   "source": [
    "def Partition(T,lo,hi):\n",
    "    \n",
    "    print(T,lo,hi,end=\" \")\n",
    "    \n",
    "    i = lo-1\n",
    "    j = hi\n",
    "    \n",
    "    while True:\n",
    "        while True:\n",
    "            i += 1\n",
    "            if T[i] >= T[hi]:\n",
    "                break\n",
    "        while True:\n",
    "            j -= 1\n",
    "            if j < 0 or T[j] <= T[hi]:\n",
    "                break\n",
    "\n",
    "        if j < i:\n",
    "            break\n",
    "            \n",
    "        T[i],T[j] = T[j],T[i]\n",
    "        \n",
    "    T[i],T[hi] = T[hi],T[i]\n",
    "        \n",
    "    print(T,i)\n",
    "    \n",
    "    return i"
   ]
  },
  {
   "cell_type": "code",
   "execution_count": 80,
   "metadata": {},
   "outputs": [
    {
     "name": "stdout",
     "output_type": "stream",
     "text": [
      "[7, 6, 1, 3, 2, 5, 8, 4] 0 7 [2, 3, 1, 4, 7, 5, 8, 6] 3\n",
      "[2, 3, 1, 4, 7, 5, 8, 6]\n"
     ]
    }
   ],
   "source": [
    "T = [ 7, 6, 1, 3, 2, 5, 8, 4 ]\n",
    "\n",
    "pivot = Partition(T,0,len(T)-1)\n",
    "\n",
    "print(T)"
   ]
  },
  {
   "cell_type": "code",
   "execution_count": 81,
   "metadata": {},
   "outputs": [
    {
     "name": "stdout",
     "output_type": "stream",
     "text": [
      "[2, 3, 1, 4, 7, 5, 8, 6] 0 2 [1, 3, 2, 4, 7, 5, 8, 6] 0\n",
      "[1, 3, 2, 4, 7, 5, 8, 6]\n"
     ]
    }
   ],
   "source": [
    "Partition(T,0,pivot-1)\n",
    "\n",
    "print(T)"
   ]
  },
  {
   "cell_type": "code",
   "execution_count": 82,
   "metadata": {},
   "outputs": [
    {
     "name": "stdout",
     "output_type": "stream",
     "text": [
      "[1, 3, 2, 4, 7, 5, 8, 6] 4 7 [1, 3, 2, 4, 5, 6, 8, 7] 5\n",
      "[1, 3, 2, 4, 5, 6, 8, 7]\n"
     ]
    }
   ],
   "source": [
    "Partition(T,pivot+1,len(T)-1)\n",
    "\n",
    "print(T)"
   ]
  },
  {
   "cell_type": "code",
   "execution_count": 94,
   "metadata": {},
   "outputs": [],
   "source": [
    "def TriRapide(T,lo,hi):\n",
    "    if lo < hi:\n",
    "        pivot = hi;\n",
    "        T[hi],T[pivot] = T[pivot],T[hi]\n",
    "    \n",
    "        pivot = Partition(T,lo,hi)\n",
    "        TriRapide(T,lo,pivot-1)\n",
    "        TriRapide(T,pivot+1,hi)"
   ]
  },
  {
   "cell_type": "code",
   "execution_count": 95,
   "metadata": {},
   "outputs": [
    {
     "name": "stdout",
     "output_type": "stream",
     "text": [
      "[7, 6, 1, 3, 2, 5, 8, 4] 0 7 [2, 3, 1, 4, 7, 5, 8, 6] 3\n",
      "[2, 3, 1, 4, 7, 5, 8, 6] 0 2 [1, 3, 2, 4, 7, 5, 8, 6] 0\n",
      "[1, 3, 2, 4, 7, 5, 8, 6] 1 2 [1, 2, 3, 4, 7, 5, 8, 6] 1\n",
      "[1, 2, 3, 4, 7, 5, 8, 6] 4 7 [1, 2, 3, 4, 5, 6, 8, 7] 5\n",
      "[1, 2, 3, 4, 5, 6, 8, 7] 6 7 [1, 2, 3, 4, 5, 6, 7, 8] 6\n"
     ]
    }
   ],
   "source": [
    "T = [ 7, 6, 1, 3, 2, 5, 8, 4 ]\n",
    "\n",
    "TriRapide(T,0,len(T)-1)"
   ]
  }
 ],
 "metadata": {
  "kernelspec": {
   "display_name": "Python 3",
   "language": "python",
   "name": "python3"
  },
  "language_info": {
   "codemirror_mode": {
    "name": "ipython",
    "version": 3
   },
   "file_extension": ".py",
   "mimetype": "text/x-python",
   "name": "python",
   "nbconvert_exporter": "python",
   "pygments_lexer": "ipython3",
   "version": "3.6.5"
  }
 },
 "nbformat": 4,
 "nbformat_minor": 2
}
