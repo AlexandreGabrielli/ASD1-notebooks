{
 "cells": [
  {
   "cell_type": "markdown",
   "metadata": {},
   "source": [
    "# Principe\n",
    "\n",
    "À partir de deux listes triées, on peut facilement construire une \n",
    "liste triée comportant les éléments issus de ces deux listes \n",
    "(leur fusion). Le principe de l'algorithme de tri fusion repose \n",
    "sur cette observation : le plus petit élément de la liste à \n",
    "construire est soit le plus petit élément de la première liste, \n",
    "soit le plus petit élément de la deuxième liste. Ainsi, on peut \n",
    "construire la liste élément par élément en retirant tantôt le premier \n",
    "élément de la première liste, tantôt le premier élément de la deuxième \n",
    "liste (en fait, le plus petit des deux, à supposer qu'aucune des deux \n",
    "listes ne soit vide, sinon la réponse est immédiate).\n",
    "\n",
    "Ce procédé est appelé fusion et est au cœur de l'algorithme de tri \n",
    "développé ci-après de façon récursive.\n",
    "\n",
    "* Si le tableau n'a qu'un élément, il est déjà trié.\n",
    "* Sinon, séparer le tableau en deux parties à peu près égales.\n",
    "* Trier récursivement les deux parties avec l'algorithme du tri fusion.\n",
    "* Fusionner les deux tableaux triés en un seul tableau trié.\n",
    "\n"
   ]
  },
  {
   "cell_type": "markdown",
   "metadata": {},
   "source": [
    "# Fusion de deux tableaux triés"
   ]
  },
  {
   "cell_type": "code",
   "execution_count": 101,
   "metadata": {},
   "outputs": [],
   "source": [
    "def Fusion(T1,T2): \n",
    "    # Entrées: T1 et T2, deux tableaux triés\n",
    "    T = []\n",
    "    \n",
    "    i1 = i2 = 0\n",
    "    while i1 < len(T1) and i2 < len(T2):\n",
    "        if(T1[i1] < T2[i2]):\n",
    "            T.append(T1[i1])\n",
    "            i1 += 1\n",
    "        else:\n",
    "            T.append(T2[i2])\n",
    "            i2 += 1\n",
    "\n",
    "    for j in range(i1,len(T1)):\n",
    "        T.append(T1[j])\n",
    "\n",
    "    for j in range(i2,len(T2)):\n",
    "        T.append(T2[j])\n",
    "\n",
    "    print(T1,\"+\",T2,\"=>\",T)\n",
    "    \n",
    "    return T"
   ]
  },
  {
   "cell_type": "code",
   "execution_count": 102,
   "metadata": {},
   "outputs": [
    {
     "name": "stdout",
     "output_type": "stream",
     "text": [
      "[1, 4, 6] + [2, 3, 5] => [1, 2, 3, 4, 5, 6]\n"
     ]
    },
    {
     "data": {
      "text/plain": [
       "[1, 2, 3, 4, 5, 6]"
      ]
     },
     "execution_count": 102,
     "metadata": {},
     "output_type": "execute_result"
    }
   ],
   "source": [
    "T = [ 1, 4, 6, 2, 3, 5 ]\n",
    "\n",
    "Fusion( T[0:3] , T[3:6] )\n"
   ]
  },
  {
   "cell_type": "markdown",
   "metadata": {},
   "source": [
    "# Récursion"
   ]
  },
  {
   "cell_type": "code",
   "execution_count": 110,
   "metadata": {},
   "outputs": [],
   "source": [
    "def TriFusion(T):  \n",
    "    print(\"TriFusion(\",T,\")\")\n",
    "    N = len(T)\n",
    "    if N >= 2:\n",
    "        milieu = int(N/2)\n",
    "        T1 = TriFusion(T[0:milieu])\n",
    "        T2 = TriFusion(T[milieu:N])\n",
    "        T  = Fusion(T1,T2)\n",
    "    return T"
   ]
  },
  {
   "cell_type": "code",
   "execution_count": 109,
   "metadata": {
    "scrolled": true
   },
   "outputs": [
    {
     "name": "stdout",
     "output_type": "stream",
     "text": [
      "TriFusion( [5, 8, 4, 3, 2, 6, 7, 1] )\n",
      "TriFusion( [5, 8, 4, 3] )\n",
      "TriFusion( [5, 8] )\n",
      "TriFusion( [5] )\n",
      "TriFusion( [8] )\n",
      "[5] + [8] => [5, 8]\n",
      "TriFusion( [4, 3] )\n",
      "TriFusion( [4] )\n",
      "TriFusion( [3] )\n",
      "[4] + [3] => [3, 4]\n",
      "[5, 8] + [3, 4] => [3, 4, 5, 8]\n",
      "TriFusion( [2, 6, 7, 1] )\n",
      "TriFusion( [2, 6] )\n",
      "TriFusion( [2] )\n",
      "TriFusion( [6] )\n",
      "[2] + [6] => [2, 6]\n",
      "TriFusion( [7, 1] )\n",
      "TriFusion( [7] )\n",
      "TriFusion( [1] )\n",
      "[7] + [1] => [1, 7]\n",
      "[2, 6] + [1, 7] => [1, 2, 6, 7]\n",
      "[3, 4, 5, 8] + [1, 2, 6, 7] => [1, 2, 3, 4, 5, 6, 7, 8]\n"
     ]
    }
   ],
   "source": [
    "TAB = [ 5, 8, 4, 3, 2, 6, 7, 1 ]\n",
    "\n",
    "TAB = TriFusion(TAB)"
   ]
  }
 ],
 "metadata": {
  "kernelspec": {
   "display_name": "Python 3",
   "language": "python",
   "name": "python3"
  },
  "language_info": {
   "codemirror_mode": {
    "name": "ipython",
    "version": 3
   },
   "file_extension": ".py",
   "mimetype": "text/x-python",
   "name": "python",
   "nbconvert_exporter": "python",
   "pygments_lexer": "ipython3",
   "version": "3.6.5"
  }
 },
 "nbformat": 4,
 "nbformat_minor": 2
}
