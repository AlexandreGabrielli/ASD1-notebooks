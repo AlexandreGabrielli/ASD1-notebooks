{
 "cells": [
  {
   "cell_type": "markdown",
   "metadata": {},
   "source": [
    "# Principe\n",
    "\n",
    "Sur un tableau de n éléments (numérotés de 0 à N-1), le tri par sélection \n",
    "\n",
    "* recherche le plus petit élément du tableau, et l'échange avec l'élément d'indice 0 \n",
    "* recherche le second plus petit élément du tableau, et l'échange avec l'élément d'indice 1 \n",
    "* continue jusqu'à l'indice N-2 jusqu'à ce que le tableau soit entièrement trié.\n",
    "\n",
    "Nous allons l'illustrer en triant le tableau TAB ci-dessous. Vous pouvez en changer le contenu et en visualiser l'effet en relançant \"Cell / Run All\" dans le menu ci-dessus."
   ]
  },
  {
   "cell_type": "code",
   "execution_count": 50,
   "metadata": {},
   "outputs": [],
   "source": [
    "TAB = [ 5, 8, 4, 3, 2, 1, 7, 6 ]"
   ]
  },
  {
   "cell_type": "markdown",
   "metadata": {},
   "source": [
    "# Recherche de l'indice du plus petit élément à partir d'une position donnée p\n",
    "\n",
    "Le coeur de l'algorithme consiste à trouver l'indice de l'élément le plus dans la partie du tableau pas encore triée. Ecrivons cette fonction"
   ]
  },
  {
   "cell_type": "code",
   "execution_count": 51,
   "metadata": {},
   "outputs": [],
   "source": [
    "def plusPetitElement(T,p):\n",
    "    N = len(T)\n",
    "    plusPetit = p\n",
    "    for i in range(p+1,N):\n",
    "        if T[i] < T[plusPetit]:\n",
    "            plusPetit = i\n",
    "    return plusPetit"
   ]
  },
  {
   "cell_type": "markdown",
   "metadata": {},
   "source": [
    "Testons la sur notre tableau en cherchant depuis le début (position 0)"
   ]
  },
  {
   "cell_type": "code",
   "execution_count": 52,
   "metadata": {},
   "outputs": [
    {
     "name": "stdout",
     "output_type": "stream",
     "text": [
      "[5, 8, 4, 3, 2, 1, 7, 6]\n",
      "Le plus petit élément est 1 , à l'indice 5\n"
     ]
    }
   ],
   "source": [
    "T = TAB.copy()\n",
    "\n",
    "print(T)\n",
    "\n",
    "iMin = plusPetitElement(T,0)\n",
    "\n",
    "print(\"Le plus petit élément est\",T[iMin],\", à l'indice\",iMin)\n"
   ]
  },
  {
   "cell_type": "markdown",
   "metadata": {},
   "source": [
    "# Echange avec le premier élément du tableau\n",
    "\n",
    "Une fois le plus petit élément trouvé, on le place en tête de tableau (ou de la partie du tableau qui reste à trier). Comme il faut bien conserver la valeur qui était en tête en non l'écraser, le plus simple consiste à échanger les éléments en tête et minimum. "
   ]
  },
  {
   "cell_type": "code",
   "execution_count": 53,
   "metadata": {},
   "outputs": [
    {
     "name": "stdout",
     "output_type": "stream",
     "text": [
      "[1, 8, 4, 3, 2, 5, 7, 6]\n"
     ]
    }
   ],
   "source": [
    "T[iMin],T[0] = T[0],T[iMin]   # swap\n",
    "\n",
    "print(T)"
   ]
  },
  {
   "cell_type": "markdown",
   "metadata": {},
   "source": [
    "Le premier élément est donc en place mais le reste du tableau, d'indices 1 à N-1, reste à trier. Répétons l'opération pour l'indice 1"
   ]
  },
  {
   "cell_type": "code",
   "execution_count": 54,
   "metadata": {},
   "outputs": [
    {
     "name": "stdout",
     "output_type": "stream",
     "text": [
      "[1, 2, 4, 3, 8, 5, 7, 6]\n"
     ]
    }
   ],
   "source": [
    "iMin = plusPetitElement(T,1)\n",
    "T[iMin],T[1] = T[1],T[iMin]   # swap\n",
    "print(T)"
   ]
  },
  {
   "cell_type": "markdown",
   "metadata": {},
   "source": [
    "# Boucle externe\n",
    "\n",
    "Il faut répéter ce processus pour toutes les positions de 0 à N-2. Il n'est pas nécessaire de le faire pour l'indice N-1, un tableau de 1 élément étant toujours trié. "
   ]
  },
  {
   "cell_type": "code",
   "execution_count": 57,
   "metadata": {},
   "outputs": [
    {
     "name": "stdout",
     "output_type": "stream",
     "text": [
      "[5, 8, 4, 3, 2, 1, 7, 6]\n",
      "[1, 8, 4, 3, 2, 5, 7, 6]\n",
      "[1, 2, 4, 3, 8, 5, 7, 6]\n",
      "[1, 2, 3, 4, 8, 5, 7, 6]\n",
      "[1, 2, 3, 4, 8, 5, 7, 6]\n",
      "[1, 2, 3, 4, 5, 8, 7, 6]\n",
      "[1, 2, 3, 4, 5, 6, 7, 8]\n",
      "[1, 2, 3, 4, 5, 6, 7, 8]\n"
     ]
    }
   ],
   "source": [
    "T = TAB.copy()\n",
    "print(T)\n",
    "N = len(T)\n",
    "\n",
    "for i in range(0,N-1):\n",
    "    iMin = plusPetitElement(T,i)\n",
    "    T[iMin],T[i] = T[i],T[iMin]   # swap\n",
    "    print(T)"
   ]
  },
  {
   "cell_type": "markdown",
   "metadata": {},
   "source": [
    "# En résumé\n",
    "\n",
    "Le tri par sélection effectue deux boucles imbiquées. La boucle interne recherche l'élément le plus petit dans la partie du tableau par encore trié. La boucle externe échange cet élément avec celui en tête de la partie du tableau non trié. "
   ]
  },
  {
   "cell_type": "code",
   "execution_count": 58,
   "metadata": {},
   "outputs": [],
   "source": [
    "def TriParSelection(T):\n",
    "    N = len(T)\n",
    "    for i in range(0,N-1):\n",
    "        jMin = i\n",
    "        for j in range(i+1,N):\n",
    "            if T[j] < T[jMin]:\n",
    "                jMin = j\n",
    "        T[jMin],T[i] = T[i],T[jMin]"
   ]
  },
  {
   "cell_type": "code",
   "execution_count": 59,
   "metadata": {},
   "outputs": [
    {
     "name": "stdout",
     "output_type": "stream",
     "text": [
      "[5, 8, 4, 3, 2, 1, 7, 6]\n",
      "[1, 2, 3, 4, 5, 6, 7, 8]\n"
     ]
    }
   ],
   "source": [
    "T = TAB.copy()\n",
    "print(T)\n",
    "TriParSelection(T)\n",
    "print(T)"
   ]
  }
 ],
 "metadata": {
  "kernelspec": {
   "display_name": "Python 3",
   "language": "python",
   "name": "python3"
  },
  "language_info": {
   "codemirror_mode": {
    "name": "ipython",
    "version": 3
   },
   "file_extension": ".py",
   "mimetype": "text/x-python",
   "name": "python",
   "nbconvert_exporter": "python",
   "pygments_lexer": "ipython3",
   "version": "3.6.5"
  }
 },
 "nbformat": 4,
 "nbformat_minor": 2
}
