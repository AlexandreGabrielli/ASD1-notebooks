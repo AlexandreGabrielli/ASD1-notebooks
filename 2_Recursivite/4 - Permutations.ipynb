{
 "cells": [
  {
   "cell_type": "code",
   "execution_count": 1,
   "metadata": {},
   "outputs": [],
   "source": [
    "T = [ 1, 2, 3 ]"
   ]
  },
  {
   "cell_type": "code",
   "execution_count": 2,
   "metadata": {},
   "outputs": [],
   "source": [
    "def permuter1(S,n):\n",
    "    if n == 1:\n",
    "        print(S)\n",
    "    else:\n",
    "        for i in range(0,n):\n",
    "            permuter1(S,n-1)\n",
    "            S[i],S[n-1] = S[n-1],S[i]"
   ]
  },
  {
   "cell_type": "code",
   "execution_count": 3,
   "metadata": {},
   "outputs": [
    {
     "name": "stdout",
     "output_type": "stream",
     "text": [
      "[1, 2, 3]\n",
      "[2, 1, 3]\n",
      "[3, 1, 2]\n",
      "[1, 3, 2]\n",
      "[1, 2, 3]\n",
      "[2, 1, 3]\n"
     ]
    }
   ],
   "source": [
    "permuter1(T.copy(),len(T))"
   ]
  },
  {
   "cell_type": "code",
   "execution_count": 4,
   "metadata": {},
   "outputs": [],
   "source": [
    "def permuter2(S,n):\n",
    "    if n == 1:\n",
    "        print(S)\n",
    "    else:\n",
    "        for i in range(0,n):\n",
    "            permuter2(S.copy(),n-1)\n",
    "            S[i],S[n-1] = S[n-1],S[i]"
   ]
  },
  {
   "cell_type": "code",
   "execution_count": 5,
   "metadata": {},
   "outputs": [
    {
     "name": "stdout",
     "output_type": "stream",
     "text": [
      "[1, 2, 3]\n",
      "[2, 1, 3]\n",
      "[3, 2, 1]\n",
      "[2, 3, 1]\n",
      "[3, 1, 2]\n",
      "[1, 3, 2]\n"
     ]
    }
   ],
   "source": [
    "permuter2(T.copy(),len(T))"
   ]
  },
  {
   "cell_type": "code",
   "execution_count": 6,
   "metadata": {},
   "outputs": [],
   "source": [
    "def permuter3(S,n):\n",
    "    if n == 1:\n",
    "        print(S)\n",
    "    else:\n",
    "        for i in range(0,n):\n",
    "            S[i],S[n-1] = S[n-1],S[i]\n",
    "            permuter3(S,n-1)\n",
    "            S[i],S[n-1] = S[n-1],S[i]"
   ]
  },
  {
   "cell_type": "code",
   "execution_count": 7,
   "metadata": {},
   "outputs": [
    {
     "name": "stdout",
     "output_type": "stream",
     "text": [
      "[2, 3, 1]\n",
      "[3, 2, 1]\n",
      "[3, 1, 2]\n",
      "[1, 3, 2]\n",
      "[2, 1, 3]\n",
      "[1, 2, 3]\n"
     ]
    }
   ],
   "source": [
    "permuter3(T.copy(),len(T))"
   ]
  },
  {
   "cell_type": "code",
   "execution_count": 8,
   "metadata": {},
   "outputs": [],
   "source": [
    "def permuter3c(S,n):\n",
    "    cnt = 0\n",
    "    if n == 1:\n",
    "        pass\n",
    "    else:\n",
    "        for i in range(0,n):\n",
    "            S[i],S[n-1] = S[n-1],S[i]\n",
    "            cnt += permuter3c(S.copy(),n-1) + 2\n",
    "            S[i],S[n-1] = S[n-1],S[i]\n",
    "    return cnt"
   ]
  },
  {
   "cell_type": "code",
   "execution_count": 9,
   "metadata": {},
   "outputs": [],
   "source": [
    "import numpy as np\n",
    "import matplotlib\n",
    "import matplotlib.pyplot as plt\n",
    "\n",
    "def grapheComplexite(func,N,title):\n",
    "    X = range(2,N)\n",
    "    XF = [ np.math.factorial(x) for x in X ]\n",
    "\n",
    "    C = []\n",
    "    for n in X:\n",
    "        TAB = np.random.uniform(0,1,n)\n",
    "        C.append(func(TAB,n))\n",
    "\n",
    "    plt.semilogy(X,C,label=title)\n",
    "    plt.semilogy(X,XF,label='n!')\n",
    "    plt.legend()\n",
    "    plt.title('Complexité')\n",
    "    plt.show()\n",
    "\n",
    "    i = len(X)-1\n",
    "    print('Echanges pour {0} éléments: {1}'.format(X[i],C[i]))\n",
    "    print('Factorielle({0}) :          {1}'.format(X[i],XF[i]))\n",
    "    print('Rapport C({0})/({0}!-1):      {1}'.format(X[i],C[i]/(XF[i]-1)))"
   ]
  },
  {
   "cell_type": "code",
   "execution_count": 10,
   "metadata": {},
   "outputs": [
    {
     "data": {
      "image/png": "[encoded data removed]",
      "text/plain": [
       "<Figure size 432x288 with 1 Axes>"
      ]
     },
     "metadata": {},
     "output_type": "display_data"
    },
    {
     "name": "stdout",
     "output_type": "stream",
     "text": [
      "Echanges pour 9 éléments: 1247058\n",
      "Factorielle(9) :          362880\n",
      "Rapport C(9)/(9!-1):      3.4365670099399526\n"
     ]
    }
   ],
   "source": [
    "grapheComplexite(permuter3c,10,'Permutation 3')"
   ]
  },
  {
   "cell_type": "code",
   "execution_count": 11,
   "metadata": {},
   "outputs": [],
   "source": [
    "def permuter4(S,n):\n",
    "    if n == 1:\n",
    "        print(S)\n",
    "    else:\n",
    "        for i in range(0,n-1):\n",
    "            S[i],S[n-1] = S[n-1],S[i]\n",
    "            permuter4(S,n-1) \n",
    "            S[i],S[n-1] = S[n-1],S[i]\n",
    "        permuter4(S,n-1)"
   ]
  },
  {
   "cell_type": "code",
   "execution_count": 12,
   "metadata": {},
   "outputs": [
    {
     "name": "stdout",
     "output_type": "stream",
     "text": [
      "[2, 3, 1]\n",
      "[3, 2, 1]\n",
      "[3, 1, 2]\n",
      "[1, 3, 2]\n",
      "[2, 1, 3]\n",
      "[1, 2, 3]\n"
     ]
    }
   ],
   "source": [
    "permuter4(T.copy(),len(T))"
   ]
  },
  {
   "cell_type": "code",
   "execution_count": 13,
   "metadata": {},
   "outputs": [],
   "source": [
    "def permuter4c(S,n):\n",
    "    cnt = 0\n",
    "    if n == 1:\n",
    "        pass\n",
    "    else:\n",
    "        for i in range(0,n-1):\n",
    "            S[i],S[n-1] = S[n-1],S[i]\n",
    "            cnt += permuter4c(S,n-1) + 2\n",
    "            S[i],S[n-1] = S[n-1],S[i]\n",
    "        cnt += permuter4c(S,n-1)\n",
    "    return cnt"
   ]
  },
  {
   "cell_type": "code",
   "execution_count": 14,
   "metadata": {},
   "outputs": [
    {
     "data": {
      "image/png": "[encoded data removed]",
      "text/plain": [
       "<Figure size 432x288 with 1 Axes>"
      ]
     },
     "metadata": {},
     "output_type": "display_data"
    },
    {
     "name": "stdout",
     "output_type": "stream",
     "text": [
      "Echanges pour 9 éléments: 725758\n",
      "Factorielle(9) :          362880\n",
      "Rapport C(9)/(9!-1):      2.0\n"
     ]
    }
   ],
   "source": [
    "grapheComplexite(permuter4c,10,'Permutation 4')"
   ]
  },
  {
   "cell_type": "code",
   "execution_count": 15,
   "metadata": {},
   "outputs": [],
   "source": [
    "def permuterHeap(S,n):\n",
    "    if n == 1:\n",
    "        print(S)\n",
    "    else:\n",
    "        permuterHeap(S,n-1)\n",
    "        for i in range(0,n-1):\n",
    "            if n % 2 == 0:\n",
    "                S[i],S[n-1] = S[n-1],S[i]\n",
    "            else:\n",
    "                S[1],S[n-1] = S[n-1],S[1]\n",
    "            permuterHeap(S,n-1)"
   ]
  },
  {
   "cell_type": "code",
   "execution_count": 16,
   "metadata": {},
   "outputs": [
    {
     "name": "stdout",
     "output_type": "stream",
     "text": [
      "[1, 2, 3]\n",
      "[2, 1, 3]\n",
      "[2, 3, 1]\n",
      "[3, 2, 1]\n",
      "[3, 1, 2]\n",
      "[1, 3, 2]\n"
     ]
    }
   ],
   "source": [
    "permuterHeap(T.copy(),len(T))"
   ]
  },
  {
   "cell_type": "code",
   "execution_count": 17,
   "metadata": {},
   "outputs": [],
   "source": [
    "def permuterHeapC(S,n):\n",
    "    cnt = 0\n",
    "    if n == 1:\n",
    "        pass\n",
    "    else:\n",
    "        cnt += permuterHeapC(S,n-1)\n",
    "        for i in range(0,n-1):\n",
    "            if n % 2 == 0:\n",
    "                S[i],S[n-1] = S[n-1],S[i]\n",
    "            else:\n",
    "                S[1],S[n-1] = S[n-1],S[1]\n",
    "            cnt += permuterHeapC(S,n-1) + 1\n",
    "    return cnt"
   ]
  },
  {
   "cell_type": "code",
   "execution_count": 18,
   "metadata": {},
   "outputs": [
    {
     "data": {
      "image/png": "[encoded data removed]",
      "text/plain": [
       "<Figure size 432x288 with 1 Axes>"
      ]
     },
     "metadata": {},
     "output_type": "display_data"
    },
    {
     "name": "stdout",
     "output_type": "stream",
     "text": [
      "Echanges pour 9 éléments: 362879\n",
      "Factorielle(9) :          362880\n",
      "Rapport C(9)/(9!-1):      1.0\n"
     ]
    }
   ],
   "source": [
    "grapheComplexite(permuterHeapC,10,'Permutation Heap')"
   ]
  },
  {
   "cell_type": "code",
   "execution_count": null,
   "metadata": {},
   "outputs": [],
   "source": []
  }
 ],
 "metadata": {
  "kernelspec": {
   "display_name": "Python 3",
   "language": "python",
   "name": "python3"
  },
  "language_info": {
   "codemirror_mode": {
    "name": "ipython",
    "version": 3
   },
   "file_extension": ".py",
   "mimetype": "text/x-python",
   "name": "python",
   "nbconvert_exporter": "python",
   "pygments_lexer": "ipython3",
   "version": "3.6.5"
  }
 },
 "nbformat": 4,
 "nbformat_minor": 2
}
