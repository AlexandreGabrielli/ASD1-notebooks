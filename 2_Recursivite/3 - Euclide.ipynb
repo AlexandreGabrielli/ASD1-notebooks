{
 "cells": [
  {
   "cell_type": "code",
   "execution_count": 1,
   "metadata": {},
   "outputs": [],
   "source": [
    "def pgcd(a,b):\n",
    "    r = a % b\n",
    "#   print('{:>5}{:>5}{:>5}'.format(a,b,r))\n",
    "    if r != 0:\n",
    "        return pgcd(b,r)\n",
    "    else:\n",
    "        return b"
   ]
  },
  {
   "cell_type": "code",
   "execution_count": 2,
   "metadata": {},
   "outputs": [
    {
     "data": {
      "text/plain": [
       "17"
      ]
     },
     "execution_count": 2,
     "metadata": {},
     "output_type": "execute_result"
    }
   ],
   "source": [
    "pgcd(731,204)"
   ]
  },
  {
   "cell_type": "code",
   "execution_count": 3,
   "metadata": {},
   "outputs": [],
   "source": [
    "def pgcdC(a,b): # compte le nombre d'appels de pgcd\n",
    "    r = a % b\n",
    "    if r != 0:\n",
    "        return 1 + pgcdC(b,r)\n",
    "    else:\n",
    "        return 1"
   ]
  },
  {
   "cell_type": "code",
   "execution_count": 4,
   "metadata": {},
   "outputs": [
    {
     "name": "stdout",
     "output_type": "stream",
     "text": [
      "2 1\n",
      "3 2\n",
      "5 3\n",
      "8 4\n",
      "13 5\n",
      "21 6\n",
      "34 7\n",
      "55 8\n",
      "89 9\n",
      "144 10\n",
      "233 11\n",
      "377 12\n",
      "610 13\n",
      "987 14\n"
     ]
    },
    {
     "data": {
      "image/png": "[encoded data removed]",
      "text/plain": [
       "<Figure size 432x288 with 1 Axes>"
      ]
     },
     "metadata": {},
     "output_type": "display_data"
    }
   ],
   "source": [
    "import numpy as np\n",
    "import matplotlib\n",
    "import matplotlib.pyplot as plt\n",
    "%matplotlib inline\n",
    "\n",
    "X = range(1,1000)\n",
    "C = []\n",
    "\n",
    "newmax = 0\n",
    "for i in X:\n",
    "    cmax = 0\n",
    "    for j in range(1,i):\n",
    "        if cmax < pgcdC(i,j):\n",
    "            cmax = pgcdC(i,j)\n",
    "    C.append(cmax)\n",
    "    \n",
    "    if cmax > newmax:\n",
    "        print(i,cmax)\n",
    "        newmax = cmax\n",
    "    \n",
    "plt.plot(X,C,label=\"Appels(x)\")\n",
    "plt.title('Complexité Algorithme d\\'Euclide')\n",
    "plt.show()"
   ]
  },
  {
   "cell_type": "code",
   "execution_count": null,
   "metadata": {},
   "outputs": [],
   "source": []
  }
 ],
 "metadata": {
  "kernelspec": {
   "display_name": "Python 3",
   "language": "python",
   "name": "python3"
  },
  "language_info": {
   "codemirror_mode": {
    "name": "ipython",
    "version": 3
   },
   "file_extension": ".py",
   "mimetype": "text/x-python",
   "name": "python",
   "nbconvert_exporter": "python",
   "pygments_lexer": "ipython3",
   "version": "3.6.5"
  }
 },
 "nbformat": 4,
 "nbformat_minor": 2
}
