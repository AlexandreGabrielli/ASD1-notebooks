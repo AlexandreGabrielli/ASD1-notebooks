{
 "cells": [
  {
   "cell_type": "markdown",
   "metadata": {},
   "source": [
    "# Nombres de Fibonacci\n",
    "\n",
    "La suite des nombres de Fibonacci est définie par <br>\n",
    "\n",
    "$F(0) = 1$ <br>\n",
    "$F(1) = 1$ <br>\n",
    "$F(k) = F(k-1) + F(k-2)$ <br>\n",
    "\n",
    "Cela donne la mise en oeuvre récursive suivante"
   ]
  },
  {
   "cell_type": "code",
   "execution_count": 1,
   "metadata": {},
   "outputs": [],
   "source": [
    "def Fib(n):\n",
    "    if n <= 1:\n",
    "        return 1\n",
    "    else:\n",
    "        return Fib(n-1) + Fib(n-2)"
   ]
  },
  {
   "cell_type": "code",
   "execution_count": 2,
   "metadata": {},
   "outputs": [
    {
     "name": "stdout",
     "output_type": "stream",
     "text": [
      "Fib( 0 ) = 1\n",
      "Fib( 1 ) = 1\n",
      "Fib( 2 ) = 2\n",
      "Fib( 3 ) = 3\n",
      "Fib( 4 ) = 5\n",
      "Fib( 5 ) = 8\n",
      "Fib( 6 ) = 13\n",
      "Fib( 7 ) = 21\n",
      "Fib( 8 ) = 34\n",
      "Fib( 9 ) = 55\n"
     ]
    }
   ],
   "source": [
    "for i in range(0,10):\n",
    "    print('Fib(',i,') =',Fib(i))"
   ]
  },
  {
   "cell_type": "markdown",
   "metadata": {},
   "source": [
    "Cette approche fonctionne, mais est-elle efficace? Visualisons les appels effectués en modifiant notre fonction Fib"
   ]
  },
  {
   "cell_type": "code",
   "execution_count": 3,
   "metadata": {},
   "outputs": [],
   "source": [
    "def FibVerbose(n):\n",
    "    print(n)\n",
    "    if n <= 1:\n",
    "        return 1\n",
    "    else:\n",
    "        return FibVerbose(n-1) + FibVerbose(n-2)"
   ]
  },
  {
   "cell_type": "code",
   "execution_count": 4,
   "metadata": {},
   "outputs": [
    {
     "name": "stdout",
     "output_type": "stream",
     "text": [
      "5\n",
      "4\n",
      "3\n",
      "2\n",
      "1\n",
      "0\n",
      "1\n",
      "2\n",
      "1\n",
      "0\n",
      "3\n",
      "2\n",
      "1\n",
      "0\n",
      "1\n"
     ]
    },
    {
     "data": {
      "text/plain": [
       "8"
      ]
     },
     "execution_count": 4,
     "metadata": {},
     "output_type": "execute_result"
    }
   ],
   "source": [
    "FibVerbose(5)"
   ]
  },
  {
   "cell_type": "markdown",
   "metadata": {},
   "source": [
    "La complexité de cet approche est en réalité exponentielle (la base de l'exposant étant le nombre d'or, soit $\\frac{1+\\sqrt{5}}{2}$. Une approche itérative est plus efficace (complexité linéaire) "
   ]
  },
  {
   "cell_type": "code",
   "execution_count": 5,
   "metadata": {},
   "outputs": [],
   "source": [
    "def FibIteratif(n):\n",
    "    f1 = 1\n",
    "    f2 = 1\n",
    "    for i in range(2,n+1):\n",
    "        fi = f1 + f2\n",
    "        f1 = f2\n",
    "        f2 = fi\n",
    "    return f2"
   ]
  },
  {
   "cell_type": "code",
   "execution_count": 6,
   "metadata": {},
   "outputs": [
    {
     "name": "stdout",
     "output_type": "stream",
     "text": [
      "Fib( 0 ) = 1\n",
      "Fib( 1 ) = 1\n",
      "Fib( 2 ) = 2\n",
      "Fib( 3 ) = 3\n",
      "Fib( 4 ) = 5\n",
      "Fib( 5 ) = 8\n",
      "Fib( 6 ) = 13\n",
      "Fib( 7 ) = 21\n",
      "Fib( 8 ) = 34\n",
      "Fib( 9 ) = 55\n"
     ]
    }
   ],
   "source": [
    "for i in range(0,10):\n",
    "    print('Fib(',i,') =',FibIteratif(i))"
   ]
  },
  {
   "cell_type": "code",
   "execution_count": null,
   "metadata": {},
   "outputs": [],
   "source": []
  }
 ],
 "metadata": {
  "kernelspec": {
   "display_name": "Python 3",
   "language": "python",
   "name": "python3"
  },
  "language_info": {
   "codemirror_mode": {
    "name": "ipython",
    "version": 3
   },
   "file_extension": ".py",
   "mimetype": "text/x-python",
   "name": "python",
   "nbconvert_exporter": "python",
   "pygments_lexer": "ipython3",
   "version": "3.6.5"
  }
 },
 "nbformat": 4,
 "nbformat_minor": 2
}
