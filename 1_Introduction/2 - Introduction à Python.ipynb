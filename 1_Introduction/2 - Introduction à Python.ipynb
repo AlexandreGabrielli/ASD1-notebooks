{
 "cells": [
  {
   "cell_type": "markdown",
   "metadata": {},
   "source": [
    "# Introduction\n",
    "\n",
    "Dans le cadre d'ASD1, vous ne devez pas écrire de code en python. Il est utilisé ici comme du pseudo-code permettant de décrire les algorithmes, avec l'avantage que ce code est exécutable, ce qui permet de mieux illuster les algorithmes présentés. \n",
    "\n",
    "Il convient cependant de vous présenter les bases du langages pour vous permettre de le lire."
   ]
  },
  {
   "cell_type": "markdown",
   "metadata": {},
   "source": [
    "# Variables\n",
    "\n",
    "python permet de créer des variables booléennes, entières, réelles, chaines de caractère, ... de la manière la plus simple. Pas besoin de connaitre le nom des types, celui-ci est défini à l'affectation. "
   ]
  },
  {
   "cell_type": "code",
   "execution_count": null,
   "metadata": {},
   "outputs": [],
   "source": [
    "x = 1\n",
    "type(x)"
   ]
  },
  {
   "cell_type": "code",
   "execution_count": null,
   "metadata": {},
   "outputs": [],
   "source": [
    "y = 3.1415\n",
    "type(y)"
   ]
  },
  {
   "cell_type": "code",
   "execution_count": null,
   "metadata": {},
   "outputs": [],
   "source": [
    "z = True\n",
    "type(z)"
   ]
  },
  {
   "cell_type": "code",
   "execution_count": null,
   "metadata": {},
   "outputs": [],
   "source": [
    "s = 'Hello'\n",
    "type(s)"
   ]
  },
  {
   "cell_type": "markdown",
   "metadata": {},
   "source": [
    "Pour plus d'information sur les types numériques, [lisez la doc](https://docs.python.org/3/library/stdtypes.html#numeric-types-int-float-complex). Afficher le contenu d'une variable s'effectue avec la fonction [print](https://docs.python.org/3/library/functions.html#print). Le format de sortie peut être maitrisé via la méthode [format](https://docs.python.org/3/library/string.html#format-string-syntax) des chaines de caractères. "
   ]
  },
  {
   "cell_type": "code",
   "execution_count": null,
   "metadata": {},
   "outputs": [],
   "source": [
    "print(x)\n",
    "print(y)\n",
    "print(x,y,z)\n",
    "print()\n",
    "print('{:>10}{:>10}{:>10}'.format('x','y','z'))\n",
    "print('{:>10}{:>10}{:>10}'.format(x,y,z))"
   ]
  },
  {
   "cell_type": "markdown",
   "metadata": {},
   "source": [
    "Notez que contrairement au C++, le type d'une variable peut changer par affectation. Une variable python est juste un nom qui pointe vers un objet. L'affectation le fait pointer vers un autre objet. Par exemple, pour `x` qui est jusqu'ici de type `int`"
   ]
  },
  {
   "cell_type": "code",
   "execution_count": null,
   "metadata": {},
   "outputs": [],
   "source": [
    "x = 3.14\n",
    "type(x)"
   ]
  },
  {
   "cell_type": "markdown",
   "metadata": {},
   "source": [
    "# Décisions\n",
    "\n",
    "Les décisions en python se font via l'instruction `if`, `elif`, `else` corresponant au `if`, `else if`, `else` du C++. L'expression booléenne testée est suivie de `:`, la branche de code à exécuter est écrite sur la/les lignes suivantes indentées."
   ]
  },
  {
   "cell_type": "code",
   "execution_count": null,
   "metadata": {},
   "outputs": [],
   "source": [
    "x = 1.4\n",
    "\n",
    "if x < 0:\n",
    "    print(x,'est négatif')\n",
    "elif x == 0:\n",
    "    print(x,'est nul')\n",
    "else:\n",
    "    print(x,'est positif')"
   ]
  },
  {
   "cell_type": "markdown",
   "metadata": {},
   "source": [
    "Notez que la définition des blocs de code se fait par indentation, contrairement au C++ qui utilise les accolades `{...}`"
   ]
  },
  {
   "cell_type": "code",
   "execution_count": null,
   "metadata": {},
   "outputs": [],
   "source": [
    "x = 1.4\n",
    "\n",
    "if x < 0:\n",
    "    print(x,'est négatif')\n",
    "elif x == 0:\n",
    "    print(x,'est nul')\n",
    "else:\n",
    "    print(x,'est positif')\n",
    "    if x > 2: \n",
    "        print('et plus grand que 2')\n",
    "        print('ça fait beaucoup')\n",
    "    print('mais pas trop')\n"
   ]
  },
  {
   "cell_type": "markdown",
   "metadata": {},
   "source": [
    "# Boucles\n",
    "\n",
    "python dispose de boucles `while` et `for` mais pas de boucle `do ... while`. La syntaxe des boucles while est quasi identique à celle des décisions ci-dessus"
   ]
  },
  {
   "cell_type": "code",
   "execution_count": null,
   "metadata": {},
   "outputs": [],
   "source": [
    "x = -5\n",
    "\n",
    "while x < 0: \n",
    "    print(x)\n",
    "    x += 1\n",
    "    \n",
    "print('fin de boucle: x vaut',x)"
   ]
  },
  {
   "cell_type": "markdown",
   "metadata": {},
   "source": [
    "La boucle `for` sert uniquement à itérer sur les éléments d'une séquence (tableau, liste, caractères d'une chaine), similairement à la syntaxe `for(auto c : s)` du C++ par exemple. "
   ]
  },
  {
   "cell_type": "code",
   "execution_count": null,
   "metadata": {},
   "outputs": [],
   "source": [
    "s = \"Hello\"\n",
    "for c in s:\n",
    "    print(c)"
   ]
  },
  {
   "cell_type": "markdown",
   "metadata": {},
   "source": [
    "Si l'on veut écrire l'équivalent du boucle `for(int i = 0; i < N; ++i)` en C++, il faut créer une séquence contenant les entiers de 0 à N-1. On utilise pour cela `range(0,N)`."
   ]
  },
  {
   "cell_type": "code",
   "execution_count": null,
   "metadata": {},
   "outputs": [],
   "source": [
    "for i in range(0,5):\n",
    "    print(i,i**2)"
   ]
  },
  {
   "cell_type": "code",
   "execution_count": null,
   "metadata": {},
   "outputs": [],
   "source": [
    "for i in range(0,10,2):\n",
    "    print(i,i**3)"
   ]
  },
  {
   "cell_type": "code",
   "execution_count": null,
   "metadata": {},
   "outputs": [],
   "source": [
    "for i in range(5,0,-1):\n",
    "    print(i,i**4)"
   ]
  },
  {
   "cell_type": "markdown",
   "metadata": {},
   "source": [
    "# Fonctions\n",
    "\n",
    "python permet de définir des fonctions avec le mot clé `def`"
   ]
  },
  {
   "cell_type": "code",
   "execution_count": null,
   "metadata": {},
   "outputs": [],
   "source": [
    "def hello(name, loud):\n",
    "    if loud:\n",
    "        print('HELLO', name.upper(), '!')\n",
    "    else:\n",
    "        print('Hello', name) "
   ]
  },
  {
   "cell_type": "code",
   "execution_count": null,
   "metadata": {},
   "outputs": [],
   "source": [
    "hello('Adam',False)\n",
    "hello('Bob',True)"
   ]
  },
  {
   "cell_type": "markdown",
   "metadata": {},
   "source": [
    "La fonction ci-dessus n'a pas de valeur de retour. Le mot clé `return` permet d'en retourner une ... ou plusieurs"
   ]
  },
  {
   "cell_type": "code",
   "execution_count": null,
   "metadata": {},
   "outputs": [],
   "source": [
    "def somme(a,b):\n",
    "    s = a+b\n",
    "    return s"
   ]
  },
  {
   "cell_type": "code",
   "execution_count": null,
   "metadata": {},
   "outputs": [],
   "source": [
    "x = 1\n",
    "y = 2\n",
    "s1 = somme(x,y)\n",
    "print('somme = ',s1)"
   ]
  },
  {
   "cell_type": "code",
   "execution_count": null,
   "metadata": {},
   "outputs": [],
   "source": [
    "def sommeEtDiff(a,b):\n",
    "    s = a+b\n",
    "    d = a-b\n",
    "    return s,d"
   ]
  },
  {
   "cell_type": "code",
   "execution_count": null,
   "metadata": {},
   "outputs": [],
   "source": [
    "s2,d2 = sommeEtDiff(x,y)\n",
    "print('somme = {0} et difference = {1}'.format(s2,d2))"
   ]
  },
  {
   "cell_type": "markdown",
   "metadata": {},
   "source": [
    "Les paramètres peuvent avoir des valeurs par défaut"
   ]
  },
  {
   "cell_type": "code",
   "execution_count": null,
   "metadata": {},
   "outputs": [],
   "source": [
    "def puissance(exp1,exp2,base=10,step=1):\n",
    "    for exp in range(exp1,exp2,step):\n",
    "        print(base**exp)"
   ]
  },
  {
   "cell_type": "code",
   "execution_count": null,
   "metadata": {},
   "outputs": [],
   "source": [
    "puissance(0,3)          # exp1 = 0 et exp2 = 3"
   ]
  },
  {
   "cell_type": "code",
   "execution_count": null,
   "metadata": {},
   "outputs": [],
   "source": [
    "puissance(0,3,2)        # exp1 = 0, exp2 = 3 et base = 2"
   ]
  },
  {
   "cell_type": "markdown",
   "metadata": {},
   "source": [
    "Il est aussi possible de passer les paramètres dans le désordre en spécifiant leurs noms. "
   ]
  },
  {
   "cell_type": "code",
   "execution_count": null,
   "metadata": {},
   "outputs": [],
   "source": [
    "puissance(0,10,step=3)  # exp1 = 0, exp2 = 10 et step = 3"
   ]
  },
  {
   "cell_type": "code",
   "execution_count": null,
   "metadata": {},
   "outputs": [],
   "source": [
    "puissance(base=2,exp2=10,exp1=0,step=3)  "
   ]
  },
  {
   "cell_type": "markdown",
   "metadata": {},
   "source": [
    "# Tableaux\n",
    "\n",
    "Les tableaux les plus utilisés sont de type `list`, même s'ils sont en pratique mis en oeuvre sous la forme de tableaux redimensionable, similairement à la classe `vector` en C++. "
   ]
  },
  {
   "cell_type": "code",
   "execution_count": null,
   "metadata": {},
   "outputs": [],
   "source": [
    "T = [ 6, 7, 3, 8, 5, 1, 2, 4 ]\n",
    "print(T)\n",
    "type(T)"
   ]
  },
  {
   "cell_type": "markdown",
   "metadata": {},
   "source": [
    "Parcourir tous les éléments du tableau se fait avec la boucle `for`"
   ]
  },
  {
   "cell_type": "code",
   "execution_count": null,
   "metadata": {},
   "outputs": [],
   "source": [
    "for t in T:\n",
    "    print(t)"
   ]
  },
  {
   "cell_type": "markdown",
   "metadata": {},
   "source": [
    "On dispose d'un accès par indice avec les crochets `[]`. Parcourir tout les indices du tableau utilise la séquence `range` vue plus haut et la fonction `len` qui retourne la taille de la liste  "
   ]
  },
  {
   "cell_type": "code",
   "execution_count": null,
   "metadata": {},
   "outputs": [],
   "source": [
    "for i in range(0,len(T)):\n",
    "    T[i] = T[i]**2\n",
    "print(T)"
   ]
  },
  {
   "cell_type": "markdown",
   "metadata": {},
   "source": [
    "Les tableaux sont redimensionables. En particulier on dispose de la méthode `append` qui correspond à `push_back` en C++. "
   ]
  },
  {
   "cell_type": "code",
   "execution_count": null,
   "metadata": {},
   "outputs": [],
   "source": [
    "T2 = [] \n",
    "for t in T:\n",
    "    T2.append(t+1)\n",
    "print(T2)"
   ]
  },
  {
   "cell_type": "markdown",
   "metadata": {},
   "source": [
    "Mais il y a une syntaxe plus élégante en python pour écrire la boucle ci-dessus. Elle sera utilisée dans ce cours."
   ]
  },
  {
   "cell_type": "code",
   "execution_count": null,
   "metadata": {},
   "outputs": [],
   "source": [
    "T3 = [ t+1 for t in T ]\n",
    "print(T3)"
   ]
  },
  {
   "cell_type": "markdown",
   "metadata": {},
   "source": [
    "# Librairies\n",
    "\n",
    "De très nombreuses librairies étendent les fonctionalités de python. Pour les utiliser, on utilise le mot clé `import` ou `import ... as ...` pour la renommer. Dans le cadre de ce cours, nous utiliserons essentiellement la librairie numérique [numpy](http://www.numpy.org) et celle de dessin de graphes 2d [matplotlib](https://matplotlib.org) . \n",
    "\n",
    "Voyons comment dessiner le graphe d'une fonction sinus"
   ]
  },
  {
   "cell_type": "code",
   "execution_count": null,
   "metadata": {},
   "outputs": [],
   "source": [
    "import numpy as np\n",
    "import matplotlib\n",
    "import matplotlib.pyplot as plt\n",
    "    \n",
    "x = np.linspace(0,10*np.pi,200)   \n",
    "y = np.sin(x)                    # équivalent à y = numpy.sin(x)      \n",
    "\n",
    "plt.plot(x,y)                    # équivalent à matplotlib.pyplot.plot(x,y)   \n",
    "plt.title('Fonction sinus')\n",
    "plt.xlabel('x (radians)')\n",
    "plt.ylabel('y = sin(x)')\n",
    "plt.show()"
   ]
  },
  {
   "cell_type": "markdown",
   "metadata": {},
   "source": [
    "# Graphes \n",
    "\n",
    "Une fonction particulièrement utile pour la suite est la possibilité d'afficher des graphes avec des échelles linéaires ou logarithmique pour chacun des axes."
   ]
  },
  {
   "cell_type": "code",
   "execution_count": null,
   "metadata": {},
   "outputs": [],
   "source": [
    "x = np.logspace(0,7,100)\n",
    "y = np.square(x)\n",
    "z = np.power(x,3)\n",
    "    \n",
    "plt.subplot(141)\n",
    "plt.plot(x,x,label='x')\n",
    "plt.plot(x,y,label='x^2')\n",
    "plt.plot(x,z,label='x^3')\n",
    "plt.legend()\n",
    "plt.title('linear')\n",
    "\n",
    "plt.subplot(142)\n",
    "plt.loglog(x,x,label='x')\n",
    "plt.loglog(x,y,label='x^2')\n",
    "plt.loglog(x,z,label='x^3')\n",
    "plt.legend()\n",
    "plt.title('loglog')\n",
    "\n",
    "plt.subplot(143)\n",
    "plt.semilogx(x,x,label='x')\n",
    "plt.semilogx(x,y,label='x^2')\n",
    "plt.semilogx(x,z,label='x^3')\n",
    "plt.legend()\n",
    "plt.title('semilogx')\n",
    "\n",
    "plt.subplot(144)\n",
    "plt.semilogy(x,x,label='x')\n",
    "plt.semilogy(x,y,label='x^2')\n",
    "plt.semilogy(x,z,label='x^3')\n",
    "plt.legend()\n",
    "plt.title('semilogy')\n",
    "\n",
    "plt.figure(1).set_figwidth(15)\n",
    "plt.show()"
   ]
  },
  {
   "cell_type": "markdown",
   "metadata": {},
   "source": [
    "# Nombres aléatoires"
   ]
  },
  {
   "cell_type": "code",
   "execution_count": null,
   "metadata": {},
   "outputs": [],
   "source": [
    "import random\n",
    "\n",
    "random.random()           # nombre aléatoire entre 0 et 1"
   ]
  },
  {
   "cell_type": "code",
   "execution_count": null,
   "metadata": {},
   "outputs": [],
   "source": [
    "random.randint(0,100)     # entier aléatoire entre 0 et 100 (100 y compris)"
   ]
  },
  {
   "cell_type": "code",
   "execution_count": null,
   "metadata": {},
   "outputs": [],
   "source": [
    "random.uniform(0,100)     # nombre aléatoire entre 0 et 100, distribution uniforme"
   ]
  },
  {
   "cell_type": "code",
   "execution_count": null,
   "metadata": {},
   "outputs": [],
   "source": [
    "T = np.random.uniform(0,10,100)    # 100 nombres aléatoires entre 0 et 10\n",
    "\n",
    "plt.stem(T,markerfmt=',',linefmt='black',basefmt='black')\n",
    "plt.show()"
   ]
  }
 ],
 "metadata": {
  "kernelspec": {
   "display_name": "Python 3",
   "language": "python",
   "name": "python3"
  },
  "language_info": {
   "codemirror_mode": {
    "name": "ipython",
    "version": 3
   },
   "file_extension": ".py",
   "mimetype": "text/x-python",
   "name": "python",
   "nbconvert_exporter": "python",
   "pygments_lexer": "ipython3",
   "version": "3.6.5"
  }
 },
 "nbformat": 4,
 "nbformat_minor": 2
}
