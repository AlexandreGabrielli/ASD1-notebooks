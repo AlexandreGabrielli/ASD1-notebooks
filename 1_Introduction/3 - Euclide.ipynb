{
 "cells": [
  {
   "cell_type": "markdown",
   "metadata": {},
   "source": [
    "# Algorithme d'Euclide\n",
    "\n"
   ]
  },
  {
   "cell_type": "code",
   "execution_count": null,
   "metadata": {},
   "outputs": [],
   "source": [
    "def pdcg(a,b):\n",
    "    \n",
    "    r = a % b\n",
    "    \n",
    "    while r != 0:\n",
    "                \n",
    "        a = b\n",
    "        b = r\n",
    "        r = a % b\n",
    "    \n",
    "    return b"
   ]
  },
  {
   "cell_type": "code",
   "execution_count": null,
   "metadata": {},
   "outputs": [],
   "source": [
    "pdcg(731,204)"
   ]
  },
  {
   "cell_type": "code",
   "execution_count": null,
   "metadata": {},
   "outputs": [],
   "source": [
    "def pdcg_verbose(a,b):\n",
    "    \n",
    "    print('{:>5}{:>5}{:>5}'.format('a','b','r'))\n",
    "    r = a % b\n",
    "    \n",
    "    while r != 0:\n",
    "        \n",
    "        print('{:>5}{:>5}{:>5}'.format(a,b,r))\n",
    "        \n",
    "        a = b\n",
    "        b = r\n",
    "        r = a % b\n",
    "    \n",
    "    return b"
   ]
  },
  {
   "cell_type": "code",
   "execution_count": null,
   "metadata": {},
   "outputs": [],
   "source": [
    "pdcg_verbose(731,204)"
   ]
  }
 ],
 "metadata": {
  "kernelspec": {
   "display_name": "Python 3",
   "language": "python",
   "name": "python3"
  },
  "language_info": {
   "codemirror_mode": {
    "name": "ipython",
    "version": 3
   },
   "file_extension": ".py",
   "mimetype": "text/x-python",
   "name": "python",
   "nbconvert_exporter": "python",
   "pygments_lexer": "ipython3",
   "version": "3.6.5"
  }
 },
 "nbformat": 4,
 "nbformat_minor": 2
}
