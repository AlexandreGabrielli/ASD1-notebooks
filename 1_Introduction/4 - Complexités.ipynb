{
 "cells": [
  {
   "cell_type": "code",
   "execution_count": null,
   "metadata": {},
   "outputs": [],
   "source": [
    "import numpy as np\n",
    "import matplotlib\n",
    "import matplotlib.pyplot as plt"
   ]
  },
  {
   "cell_type": "code",
   "execution_count": null,
   "metadata": {},
   "outputs": [],
   "source": [
    "def instructionSimple(n):\n",
    "    cnt = 0\n",
    "    cnt += 1\n",
    "    return cnt"
   ]
  },
  {
   "cell_type": "code",
   "execution_count": null,
   "metadata": {},
   "outputs": [],
   "source": [
    "samples = range(1,1000,10)\n",
    "C0 = [ instructionSimple(i) for i in samples]\n",
    "\n",
    "plt.title('Complexité constante')\n",
    "plt.plot(samples,C0)\n",
    "plt.show()"
   ]
  },
  {
   "cell_type": "code",
   "execution_count": null,
   "metadata": {},
   "outputs": [],
   "source": [
    "def boucleSimple(n):\n",
    "    cnt = 0\n",
    "    for i in range(0,n):\n",
    "        cnt += 1\n",
    "    return cnt"
   ]
  },
  {
   "cell_type": "code",
   "execution_count": null,
   "metadata": {},
   "outputs": [],
   "source": [
    "C1 = [ boucleSimple(i) for i in samples]\n",
    "\n",
    "plt.title('Complexité linéaire')\n",
    "plt.plot(samples,C1)\n",
    "plt.show()"
   ]
  },
  {
   "cell_type": "code",
   "execution_count": null,
   "metadata": {},
   "outputs": [],
   "source": [
    "def bouclesImbriquees(n):\n",
    "    cnt = 0\n",
    "    for i in range(0,n):\n",
    "        for j in range(0,n):\n",
    "            cnt += 1\n",
    "    return cnt"
   ]
  },
  {
   "cell_type": "code",
   "execution_count": null,
   "metadata": {},
   "outputs": [],
   "source": [
    "C2 = [ bouclesImbriquees(i) for i in samples]\n",
    "plt.title('Complexité quadratique')\n",
    "plt.plot(samples,C2)\n",
    "plt.show()"
   ]
  },
  {
   "cell_type": "code",
   "execution_count": null,
   "metadata": {},
   "outputs": [],
   "source": [
    "plt.title('Complexités constante, linéaire et quadratique')\n",
    "plt.loglog(samples,C2,label='boucles imbriquées')\n",
    "plt.loglog(samples,C1,label='boucle simple')\n",
    "plt.loglog(samples,C0,label='instruction simple')\n",
    "plt.legend()\n",
    "plt.show()"
   ]
  },
  {
   "cell_type": "code",
   "execution_count": null,
   "metadata": {},
   "outputs": [],
   "source": [
    "def enchainement(n):\n",
    "    cnt = 0\n",
    "    \n",
    "    cnt += 1\n",
    "    \n",
    "    for i in range(0,n):\n",
    "        cnt += 1\n",
    "    \n",
    "    for i in range(0,n):\n",
    "        for j in range(0,n):\n",
    "            cnt += 1\n",
    "    return cnt"
   ]
  },
  {
   "cell_type": "code",
   "execution_count": null,
   "metadata": {},
   "outputs": [],
   "source": [
    "C3 = [ enchainement(i) for i in samples ]\n",
    "\n",
    "plt.title('Complexité de l\\'enchainement')\n",
    "plt.loglog(samples,C3,label='enchainement')\n",
    "plt.loglog(samples,C2,label='boucles imbriquées')\n",
    "plt.loglog(samples,C1,label='boucle simple')\n",
    "plt.loglog(samples,C0,label='instruction simple')\n",
    "\n",
    "plt.legend()\n",
    "plt.show()"
   ]
  },
  {
   "cell_type": "code",
   "execution_count": null,
   "metadata": {},
   "outputs": [],
   "source": [
    "def triangle(n):\n",
    "    cnt = 0\n",
    "    for i in range(0,n):\n",
    "        for j in range(0,i):\n",
    "            cnt += 1\n",
    "    return cnt"
   ]
  },
  {
   "cell_type": "code",
   "execution_count": null,
   "metadata": {},
   "outputs": [],
   "source": [
    "C4 = [ triangle(i) for i in samples ]\n",
    "\n",
    "plt.title('Complexité de la boucle triangulaire')\n",
    "plt.loglog(samples,C4,label='triangle')\n",
    "plt.loglog(samples,C2,label='boucles imbriquées')\n",
    "plt.loglog(samples,C1,label='boucle simple')\n",
    "\n",
    "plt.legend()\n",
    "plt.show()"
   ]
  },
  {
   "cell_type": "code",
   "execution_count": null,
   "metadata": {},
   "outputs": [],
   "source": [
    "def logarithmique(n):\n",
    "    cnt = 0\n",
    "    while n >= 1:\n",
    "        cnt += 1\n",
    "        n /= 2\n",
    "    return cnt"
   ]
  },
  {
   "cell_type": "code",
   "execution_count": null,
   "metadata": {},
   "outputs": [],
   "source": [
    "C5 = [ logarithmique(i) for i in samples ]\n",
    "\n",
    "plt.title('Complexité logarithmique')\n",
    "plt.plot(samples,C5,label='logarithmique')\n",
    "plt.plot(samples,C1,label='linéaire')\n",
    "plt.plot(samples,C0,label='constante')\n",
    "plt.ylim(0,20)\n",
    "plt.legend()\n",
    "plt.show()\n"
   ]
  },
  {
   "cell_type": "code",
   "execution_count": null,
   "metadata": {},
   "outputs": [],
   "source": [
    "def linearithmique(n):\n",
    "    cnt = 0\n",
    "    for i in range(0,n):\n",
    "        j = n\n",
    "        while j >= 1:\n",
    "            cnt += 1\n",
    "            j /= 2\n",
    "    return cnt"
   ]
  },
  {
   "cell_type": "code",
   "execution_count": null,
   "metadata": {},
   "outputs": [],
   "source": [
    "C6 = [ linearithmique(i) for i in samples ]\n",
    "\n",
    "plt.title('Complexité linéarithmique')\n",
    "plt.loglog(samples,C6,label='linéarithmique')\n",
    "plt.loglog(samples,C2,label='quadratique')\n",
    "plt.loglog(samples,C1,label='linéaire')\n",
    "plt.loglog(samples,C0,label='constante')\n",
    "plt.legend()\n",
    "plt.show()"
   ]
  },
  {
   "cell_type": "code",
   "execution_count": null,
   "metadata": {},
   "outputs": [],
   "source": [
    "import random\n",
    "\n",
    "def alternatif(n):\n",
    "    cnt = 0\n",
    "    for i in range(n):\n",
    "        if random.randint(0,n) == 0:\n",
    "            for j in range(n):\n",
    "                cnt += 1\n",
    "        else:\n",
    "            cnt += 0\n",
    "    return cnt"
   ]
  },
  {
   "cell_type": "code",
   "execution_count": null,
   "metadata": {},
   "outputs": [],
   "source": [
    "C7 = [ 0 for i in samples ]\n",
    "nrTests = 20\n",
    "for test in range(0,nrTests):\n",
    "    C = [ alternatif(i) for i in samples ]\n",
    "    Tmp = [ c7 + c for c,c7 in zip(C,C7) ]\n",
    "    C7 = Tmp\n",
    "C7 = [ t/nrTests for t in Tmp ]\n",
    "\n",
    "plt.title('Complexité enchainement alternatif')\n",
    "plt.loglog(samples,C7,label='alternatif')\n",
    "plt.loglog(samples,C1,label='linéaire')\n",
    "plt.legend()\n",
    "plt.show()"
   ]
  },
  {
   "cell_type": "code",
   "execution_count": null,
   "metadata": {},
   "outputs": [],
   "source": []
  }
 ],
 "metadata": {
  "kernelspec": {
   "display_name": "Python 3",
   "language": "python",
   "name": "python3"
  },
  "language_info": {
   "codemirror_mode": {
    "name": "ipython",
    "version": 3
   },
   "file_extension": ".py",
   "mimetype": "text/x-python",
   "name": "python",
   "nbconvert_exporter": "python",
   "pygments_lexer": "ipython3",
   "version": "3.6.5"
  }
 },
 "nbformat": 4,
 "nbformat_minor": 2
}
