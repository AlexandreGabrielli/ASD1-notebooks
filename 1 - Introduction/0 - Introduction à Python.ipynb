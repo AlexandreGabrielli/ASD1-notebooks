{
 "cells": [
  {
   "cell_type": "markdown",
   "metadata": {
    "slideshow": {
     "slide_type": "slide"
    }
   },
   "source": [
    "# Introduction à Python"
   ]
  },
  {
   "cell_type": "markdown",
   "metadata": {
    "slideshow": {
     "slide_type": "skip"
    }
   },
   "source": [
    "Dans le cadre d'ASD1, vous ne devez pas écrire de code en python. Il est utilisé ici comme du pseudo-code permettant de décrire les algorithmes, avec l'avantage que ce code est exécutable, ce qui permet de mieux illuster les algorithmes présentés. \n",
    "\n",
    "Il convient cependant de vous présenter les bases du langages pour vous permettre de le lire."
   ]
  },
  {
   "cell_type": "markdown",
   "metadata": {
    "slideshow": {
     "slide_type": "slide"
    }
   },
   "source": [
    "## Variables\n",
    "\n",
    "python permet de créer des variables booléennes, entières, réelles, chaines de caractère, ... de la manière la plus simple. Pas besoin de connaitre le nom des types, celui-ci est défini à l'affectation. "
   ]
  },
  {
   "cell_type": "code",
   "execution_count": 3,
   "metadata": {
    "slideshow": {
     "slide_type": "fragment"
    }
   },
   "outputs": [
    {
     "data": {
      "text/plain": [
       "int"
      ]
     },
     "execution_count": 3,
     "metadata": {},
     "output_type": "execute_result"
    }
   ],
   "source": [
    "x = 1\n",
    "type(x)"
   ]
  },
  {
   "cell_type": "code",
   "execution_count": 4,
   "metadata": {
    "slideshow": {
     "slide_type": "fragment"
    }
   },
   "outputs": [
    {
     "data": {
      "text/plain": [
       "float"
      ]
     },
     "execution_count": 4,
     "metadata": {},
     "output_type": "execute_result"
    }
   ],
   "source": [
    "y = 3.1415\n",
    "type(y)"
   ]
  },
  {
   "cell_type": "code",
   "execution_count": 5,
   "metadata": {
    "slideshow": {
     "slide_type": "fragment"
    }
   },
   "outputs": [
    {
     "data": {
      "text/plain": [
       "bool"
      ]
     },
     "execution_count": 5,
     "metadata": {},
     "output_type": "execute_result"
    }
   ],
   "source": [
    "z = True\n",
    "type(z)"
   ]
  },
  {
   "cell_type": "code",
   "execution_count": 6,
   "metadata": {
    "slideshow": {
     "slide_type": "fragment"
    }
   },
   "outputs": [
    {
     "data": {
      "text/plain": [
       "str"
      ]
     },
     "execution_count": 6,
     "metadata": {},
     "output_type": "execute_result"
    }
   ],
   "source": [
    "s = 'Hello'\n",
    "type(s)"
   ]
  },
  {
   "cell_type": "markdown",
   "metadata": {
    "slideshow": {
     "slide_type": "skip"
    }
   },
   "source": [
    "Pour plus d'information sur les types numériques, [lisez la doc](https://docs.python.org/3/library/stdtypes.html#numeric-types-int-float-complex)."
   ]
  },
  {
   "cell_type": "markdown",
   "metadata": {
    "slideshow": {
     "slide_type": "slide"
    }
   },
   "source": [
    "## Affichage\n",
    "\n",
    "Afficher le contenu d'une variable s'effectue avec la fonction [print](https://docs.python.org/3/library/functions.html#print). Le format de sortie peut être maitrisé via la méthode [format](https://docs.python.org/3/library/string.html#format-string-syntax) des chaines de caractères. "
   ]
  },
  {
   "cell_type": "code",
   "execution_count": 7,
   "metadata": {
    "slideshow": {
     "slide_type": "fragment"
    }
   },
   "outputs": [
    {
     "name": "stdout",
     "output_type": "stream",
     "text": [
      "1\n",
      "3.1415\n"
     ]
    }
   ],
   "source": [
    "print(x)\n",
    "print(y)"
   ]
  },
  {
   "cell_type": "code",
   "execution_count": 8,
   "metadata": {
    "slideshow": {
     "slide_type": "fragment"
    }
   },
   "outputs": [
    {
     "name": "stdout",
     "output_type": "stream",
     "text": [
      "1 3.1415 True\n"
     ]
    }
   ],
   "source": [
    "print(x,y,z)"
   ]
  },
  {
   "cell_type": "code",
   "execution_count": 9,
   "metadata": {
    "slideshow": {
     "slide_type": "fragment"
    }
   },
   "outputs": [
    {
     "name": "stdout",
     "output_type": "stream",
     "text": [
      "         x         y         z\n",
      "         1    3.1415         1\n"
     ]
    }
   ],
   "source": [
    "print('{:>10}{:>10}{:>10}'.format('x','y','z'))\n",
    "print('{:>10}{:>10}{:>10}'.format(x,y,z))"
   ]
  },
  {
   "cell_type": "markdown",
   "metadata": {
    "slideshow": {
     "slide_type": "slide"
    }
   },
   "source": [
    "Notez que contrairement au C++, le type d'une variable peut changer par affectation. Une variable python est juste un nom qui pointe vers un objet. L'affectation le fait pointer vers un autre objet. Par exemple, pour `x` qui est jusqu'ici de type `int`"
   ]
  },
  {
   "cell_type": "code",
   "execution_count": 6,
   "metadata": {
    "slideshow": {
     "slide_type": "fragment"
    }
   },
   "outputs": [
    {
     "data": {
      "text/plain": [
       "float"
      ]
     },
     "execution_count": 6,
     "metadata": {},
     "output_type": "execute_result"
    }
   ],
   "source": [
    "x = 3.14\n",
    "type(x)"
   ]
  },
  {
   "cell_type": "markdown",
   "metadata": {
    "slideshow": {
     "slide_type": "slide"
    }
   },
   "source": [
    "## Décisions\n",
    "\n",
    "Les décisions en python se font via l'instruction `if`, `elif`, `else` corresponant au `if`, `else if`, `else` du C++. L'expression booléenne testée est suivie de `:`, la branche de code à exécuter est écrite sur la/les lignes suivantes indentées."
   ]
  },
  {
   "cell_type": "code",
   "execution_count": 7,
   "metadata": {
    "slideshow": {
     "slide_type": "fragment"
    }
   },
   "outputs": [
    {
     "name": "stdout",
     "output_type": "stream",
     "text": [
      "1.4 est positif\n"
     ]
    }
   ],
   "source": [
    "x = 1.4\n",
    "\n",
    "if x < 0:\n",
    "    print(x,'est négatif')\n",
    "elif x == 0:\n",
    "    print(x,'est nul')\n",
    "else:\n",
    "    print(x,'est positif')"
   ]
  },
  {
   "cell_type": "markdown",
   "metadata": {
    "slideshow": {
     "slide_type": "slide"
    }
   },
   "source": [
    "Notez que la définition des blocs de code se fait par indentation, contrairement au C++ qui utilise les accolades `{...}`"
   ]
  },
  {
   "cell_type": "code",
   "execution_count": 8,
   "metadata": {
    "slideshow": {
     "slide_type": "fragment"
    }
   },
   "outputs": [
    {
     "name": "stdout",
     "output_type": "stream",
     "text": [
      "1.4 est positif\n",
      "mais pas trop\n"
     ]
    }
   ],
   "source": [
    "x = 1.4\n",
    "\n",
    "if x < 0:\n",
    "    print(x,'est négatif')\n",
    "elif x == 0:\n",
    "    print(x,'est nul')\n",
    "else:\n",
    "    print(x,'est positif')\n",
    "    if x > 2: \n",
    "        print('et plus grand que 2')\n",
    "        print('ça fait beaucoup')\n",
    "    print('mais pas trop')\n"
   ]
  },
  {
   "cell_type": "markdown",
   "metadata": {
    "slideshow": {
     "slide_type": "slide"
    }
   },
   "source": [
    "## Boucles\n",
    "\n",
    "python dispose de boucles `while` et `for` mais pas de boucle `do ... while`. La syntaxe des boucles while est quasi identique à celle des décisions ci-dessus"
   ]
  },
  {
   "cell_type": "code",
   "execution_count": 9,
   "metadata": {
    "slideshow": {
     "slide_type": "fragment"
    }
   },
   "outputs": [
    {
     "name": "stdout",
     "output_type": "stream",
     "text": [
      "-5\n",
      "-4\n",
      "-3\n",
      "-2\n",
      "-1\n",
      "fin de boucle: x vaut 0\n"
     ]
    }
   ],
   "source": [
    "x = -5\n",
    "\n",
    "while x < 0: \n",
    "    print(x)\n",
    "    x += 1\n",
    "    \n",
    "print('fin de boucle: x vaut',x)"
   ]
  },
  {
   "cell_type": "markdown",
   "metadata": {
    "slideshow": {
     "slide_type": "slide"
    }
   },
   "source": [
    "La boucle `for` sert uniquement à itérer sur les éléments d'une séquence (tableau, liste, caractères d'une chaine), similairement à la syntaxe `for(auto c : s)` du C++ par exemple. "
   ]
  },
  {
   "cell_type": "code",
   "execution_count": 10,
   "metadata": {
    "slideshow": {
     "slide_type": "fragment"
    }
   },
   "outputs": [
    {
     "name": "stdout",
     "output_type": "stream",
     "text": [
      "H\n",
      "e\n",
      "l\n",
      "l\n",
      "o\n"
     ]
    }
   ],
   "source": [
    "s = \"Hello\"\n",
    "for c in s:\n",
    "    print(c)"
   ]
  },
  {
   "cell_type": "markdown",
   "metadata": {
    "slideshow": {
     "slide_type": "slide"
    }
   },
   "source": [
    "Si l'on veut écrire l'équivalent du boucle `for(int i = 0; i < N; ++i)` en C++, il faut créer une séquence contenant les entiers de 0 à N-1. On utilise pour cela `range(0,N)`."
   ]
  },
  {
   "cell_type": "code",
   "execution_count": 11,
   "metadata": {
    "slideshow": {
     "slide_type": "fragment"
    }
   },
   "outputs": [
    {
     "name": "stdout",
     "output_type": "stream",
     "text": [
      "0 0\n",
      "1 1\n",
      "2 4\n",
      "3 9\n",
      "4 16\n"
     ]
    }
   ],
   "source": [
    "for i in range(0,5):\n",
    "    print(i,i**2)"
   ]
  },
  {
   "cell_type": "code",
   "execution_count": 12,
   "metadata": {
    "slideshow": {
     "slide_type": "slide"
    }
   },
   "outputs": [
    {
     "name": "stdout",
     "output_type": "stream",
     "text": [
      "0 0\n",
      "2 8\n",
      "4 64\n",
      "6 216\n",
      "8 512\n"
     ]
    }
   ],
   "source": [
    "for i in range(0,10,2):\n",
    "    print(i,i**3)"
   ]
  },
  {
   "cell_type": "code",
   "execution_count": 13,
   "metadata": {
    "slideshow": {
     "slide_type": "fragment"
    }
   },
   "outputs": [
    {
     "name": "stdout",
     "output_type": "stream",
     "text": [
      "5 625\n",
      "4 256\n",
      "3 81\n",
      "2 16\n",
      "1 1\n"
     ]
    }
   ],
   "source": [
    "for i in range(5,0,-1):\n",
    "    print(i,i**4)"
   ]
  },
  {
   "cell_type": "markdown",
   "metadata": {
    "slideshow": {
     "slide_type": "slide"
    }
   },
   "source": [
    "## Fonctions\n",
    "\n",
    "python permet de définir des fonctions avec le mot clé `def`"
   ]
  },
  {
   "cell_type": "code",
   "execution_count": 14,
   "metadata": {
    "slideshow": {
     "slide_type": "fragment"
    }
   },
   "outputs": [],
   "source": [
    "def hello(name, loud):\n",
    "    if loud:\n",
    "        print('HELLO', name.upper(), '!')\n",
    "    else:\n",
    "        print('Hello', name) "
   ]
  },
  {
   "cell_type": "code",
   "execution_count": 15,
   "metadata": {
    "slideshow": {
     "slide_type": "fragment"
    }
   },
   "outputs": [
    {
     "name": "stdout",
     "output_type": "stream",
     "text": [
      "Hello Adam\n",
      "HELLO BOB !\n"
     ]
    }
   ],
   "source": [
    "hello('Adam',False)\n",
    "hello('Bob',True)"
   ]
  },
  {
   "cell_type": "markdown",
   "metadata": {
    "slideshow": {
     "slide_type": "slide"
    }
   },
   "source": [
    "La fonction précédente n'a pas de valeur de retour. Le mot clé `return` permet d'en retourner une ... ou plusieurs"
   ]
  },
  {
   "cell_type": "code",
   "execution_count": 16,
   "metadata": {
    "slideshow": {
     "slide_type": "fragment"
    }
   },
   "outputs": [],
   "source": [
    "def somme(a,b):\n",
    "    s = a+b\n",
    "    return s"
   ]
  },
  {
   "cell_type": "code",
   "execution_count": 17,
   "metadata": {
    "slideshow": {
     "slide_type": "fragment"
    }
   },
   "outputs": [
    {
     "name": "stdout",
     "output_type": "stream",
     "text": [
      "somme =  3\n"
     ]
    }
   ],
   "source": [
    "x = 1\n",
    "y = 2\n",
    "s1 = somme(x,y)\n",
    "print('somme = ',s1)"
   ]
  },
  {
   "cell_type": "code",
   "execution_count": 18,
   "metadata": {
    "slideshow": {
     "slide_type": "slide"
    }
   },
   "outputs": [],
   "source": [
    "def sommeEtDiff(a,b):\n",
    "    s = a+b\n",
    "    d = a-b\n",
    "    return s,d"
   ]
  },
  {
   "cell_type": "code",
   "execution_count": 19,
   "metadata": {
    "slideshow": {
     "slide_type": "fragment"
    }
   },
   "outputs": [
    {
     "name": "stdout",
     "output_type": "stream",
     "text": [
      "somme = 3 et difference = -1\n"
     ]
    }
   ],
   "source": [
    "s2,d2 = sommeEtDiff(x,y)\n",
    "print('somme = {0} et difference = {1}'.format(s2,d2))"
   ]
  },
  {
   "cell_type": "markdown",
   "metadata": {
    "slideshow": {
     "slide_type": "slide"
    }
   },
   "source": [
    "Les paramètres peuvent avoir des valeurs par défaut"
   ]
  },
  {
   "cell_type": "code",
   "execution_count": 20,
   "metadata": {
    "slideshow": {
     "slide_type": "fragment"
    }
   },
   "outputs": [],
   "source": [
    "def puissance(exp1,exp2,base=10,step=1):\n",
    "    for exp in range(exp1,exp2,step):\n",
    "        print(base**exp)"
   ]
  },
  {
   "cell_type": "code",
   "execution_count": 21,
   "metadata": {
    "slideshow": {
     "slide_type": "fragment"
    }
   },
   "outputs": [
    {
     "name": "stdout",
     "output_type": "stream",
     "text": [
      "1\n",
      "10\n",
      "100\n"
     ]
    }
   ],
   "source": [
    "puissance(0,3)          # exp1 = 0 et exp2 = 3"
   ]
  },
  {
   "cell_type": "code",
   "execution_count": 22,
   "metadata": {
    "slideshow": {
     "slide_type": "fragment"
    }
   },
   "outputs": [
    {
     "name": "stdout",
     "output_type": "stream",
     "text": [
      "1\n",
      "2\n",
      "4\n"
     ]
    }
   ],
   "source": [
    "puissance(0,3,2)        # exp1 = 0, exp2 = 3 et base = 2"
   ]
  },
  {
   "cell_type": "markdown",
   "metadata": {
    "slideshow": {
     "slide_type": "slide"
    }
   },
   "source": [
    "Il est aussi possible de passer les paramètres dans le désordre en spécifiant leurs noms. "
   ]
  },
  {
   "cell_type": "code",
   "execution_count": 23,
   "metadata": {
    "slideshow": {
     "slide_type": "fragment"
    }
   },
   "outputs": [
    {
     "name": "stdout",
     "output_type": "stream",
     "text": [
      "1\n",
      "1000\n",
      "1000000\n",
      "1000000000\n"
     ]
    }
   ],
   "source": [
    "puissance(0,10,step=3)  # exp1 = 0, exp2 = 10 et step = 3"
   ]
  },
  {
   "cell_type": "code",
   "execution_count": 24,
   "metadata": {
    "slideshow": {
     "slide_type": "fragment"
    }
   },
   "outputs": [
    {
     "name": "stdout",
     "output_type": "stream",
     "text": [
      "1\n",
      "8\n",
      "64\n",
      "512\n"
     ]
    }
   ],
   "source": [
    "puissance(base=2,exp2=10,exp1=0,step=3)  "
   ]
  },
  {
   "cell_type": "markdown",
   "metadata": {
    "slideshow": {
     "slide_type": "slide"
    }
   },
   "source": [
    "## Tableaux\n",
    "\n",
    "Les tableaux les plus utilisés sont de type `list`, même s'ils sont en pratique mis en oeuvre sous la forme de tableaux redimensionable, similairement à la classe `vector` en C++. "
   ]
  },
  {
   "cell_type": "code",
   "execution_count": 16,
   "metadata": {
    "slideshow": {
     "slide_type": "fragment"
    }
   },
   "outputs": [
    {
     "name": "stdout",
     "output_type": "stream",
     "text": [
      "[6, 3, 5, 1, 2, 4]\n"
     ]
    },
    {
     "data": {
      "text/plain": [
       "list"
      ]
     },
     "execution_count": 16,
     "metadata": {},
     "output_type": "execute_result"
    }
   ],
   "source": [
    "T = [ 6, 3, 5, 1, 2, 4 ]\n",
    "print(T)\n",
    "type(T)"
   ]
  },
  {
   "cell_type": "markdown",
   "metadata": {
    "slideshow": {
     "slide_type": "slide"
    }
   },
   "source": [
    "Parcourir tous les éléments du tableau se fait avec la boucle `for`"
   ]
  },
  {
   "cell_type": "code",
   "execution_count": 17,
   "metadata": {
    "slideshow": {
     "slide_type": "fragment"
    }
   },
   "outputs": [
    {
     "name": "stdout",
     "output_type": "stream",
     "text": [
      "6\n",
      "3\n",
      "5\n",
      "1\n",
      "2\n",
      "4\n"
     ]
    }
   ],
   "source": [
    "for t in T:\n",
    "    print(t)"
   ]
  },
  {
   "cell_type": "markdown",
   "metadata": {
    "slideshow": {
     "slide_type": "slide"
    }
   },
   "source": [
    "On dispose d'un accès par indice avec les crochets `[]`. Parcourir tout les indices du tableau utilise la séquence `range` vue plus haut et la fonction `len` qui retourne la taille de la liste  "
   ]
  },
  {
   "cell_type": "code",
   "execution_count": 18,
   "metadata": {
    "slideshow": {
     "slide_type": "fragment"
    }
   },
   "outputs": [
    {
     "name": "stdout",
     "output_type": "stream",
     "text": [
      "[36, 9, 25, 1, 4, 16]\n"
     ]
    }
   ],
   "source": [
    "for i in range(0,len(T)):\n",
    "    T[i] = T[i]**2\n",
    "print(T)"
   ]
  },
  {
   "cell_type": "markdown",
   "metadata": {
    "slideshow": {
     "slide_type": "slide"
    }
   },
   "source": [
    "Si nécessaire, la fonction `enumerate` permet un accès simultané aux indices et aux éléments"
   ]
  },
  {
   "cell_type": "code",
   "execution_count": 19,
   "metadata": {
    "slideshow": {
     "slide_type": "fragment"
    }
   },
   "outputs": [
    {
     "name": "stdout",
     "output_type": "stream",
     "text": [
      "T[ 0 ] = 36\n",
      "T[ 1 ] = 9\n",
      "T[ 2 ] = 25\n",
      "T[ 3 ] = 1\n",
      "T[ 4 ] = 4\n",
      "T[ 5 ] = 16\n"
     ]
    }
   ],
   "source": [
    "for i, t in enumerate(T):\n",
    "    print(\"T[\",i,\"] =\",t)"
   ]
  },
  {
   "cell_type": "markdown",
   "metadata": {
    "slideshow": {
     "slide_type": "slide"
    }
   },
   "source": [
    "Les tableaux sont redimensionables. En particulier on dispose de la méthode `append` qui correspond à `push_back` en C++. "
   ]
  },
  {
   "cell_type": "code",
   "execution_count": 20,
   "metadata": {
    "slideshow": {
     "slide_type": "fragment"
    }
   },
   "outputs": [
    {
     "name": "stdout",
     "output_type": "stream",
     "text": [
      "[37, 10, 26, 2, 5, 17]\n"
     ]
    }
   ],
   "source": [
    "T2 = [] \n",
    "for t in T:\n",
    "    T2.append(t+1)\n",
    "print(T2)"
   ]
  },
  {
   "cell_type": "markdown",
   "metadata": {
    "slideshow": {
     "slide_type": "fragment"
    }
   },
   "source": [
    "Mais il y a une syntaxe plus élégante en python pour écrire la boucle ci-dessus. Elle sera utilisée dans ce cours."
   ]
  },
  {
   "cell_type": "code",
   "execution_count": 29,
   "metadata": {
    "slideshow": {
     "slide_type": "fragment"
    }
   },
   "outputs": [
    {
     "name": "stdout",
     "output_type": "stream",
     "text": [
      "[37, 50, 10, 65, 26, 2, 5, 17]\n"
     ]
    }
   ],
   "source": [
    "T3 = [ t+1 for t in T ]\n",
    "print(T3)"
   ]
  },
  {
   "cell_type": "markdown",
   "metadata": {
    "slideshow": {
     "slide_type": "slide"
    }
   },
   "source": [
    "## Librairies\n",
    "\n",
    "De très nombreuses librairies étendent les fonctionalités de python. Pour les utiliser, on utilise le mot clé `import` ou `import ... as ...` pour la renommer. Dans le cadre de ce cours, nous utiliserons essentiellement la librairie numérique [numpy](http://www.numpy.org) et celle de dessin de graphes 2d [matplotlib](https://matplotlib.org) . "
   ]
  },
  {
   "cell_type": "markdown",
   "metadata": {
    "slideshow": {
     "slide_type": "slide"
    }
   },
   "source": [
    "Voyons comment dessiner le graphe d'une fonction sinus"
   ]
  },
  {
   "cell_type": "code",
   "execution_count": 23,
   "metadata": {
    "slideshow": {
     "slide_type": "fragment"
    }
   },
   "outputs": [
    {
     "data": {
      "image/png": "[encoded data removed]",
      "text/plain": [
       "<Figure size 432x288 with 1 Axes>"
      ]
     },
     "metadata": {},
     "output_type": "display_data"
    }
   ],
   "source": [
    "import numpy as np\n",
    "import matplotlib\n",
    "import matplotlib.pyplot as plt\n",
    "    \n",
    "x = np.linspace(0,10*np.pi,200)   \n",
    "y = np.sin(x)                    # équivalent à y = numpy.sin(x)      \n",
    "\n",
    "plt.plot(x,y)                    # équivalent à matplotlib.pyplot.plot(x,y)   \n",
    "plt.title('Fonction sinus')\n",
    "plt.xlabel('x (radians)')\n",
    "plt.ylabel('y = sin(x)')\n",
    "plt.show()"
   ]
  },
  {
   "cell_type": "markdown",
   "metadata": {
    "slideshow": {
     "slide_type": "slide"
    }
   },
   "source": [
    "## Graphes \n",
    "\n",
    "Une fonction particulièrement utile pour la suite est la possibilité d'afficher des graphes avec des échelles linéaires ou logarithmique pour chacun des axes."
   ]
  },
  {
   "cell_type": "code",
   "execution_count": 55,
   "metadata": {
    "slideshow": {
     "slide_type": "fragment"
    }
   },
   "outputs": [
    {
     "name": "stdout",
     "output_type": "stream",
     "text": [
      "[  0.  10.  20.  30.  40.  50.  60.  70.  80.  90. 100.]\n"
     ]
    }
   ],
   "source": [
    "x = np.linspace(0,100,11)\n",
    "print(x)"
   ]
  },
  {
   "cell_type": "code",
   "execution_count": 56,
   "metadata": {
    "slideshow": {
     "slide_type": "fragment"
    }
   },
   "outputs": [
    {
     "name": "stdout",
     "output_type": "stream",
     "text": [
      "[  1.           1.58489319   2.51188643   3.98107171   6.30957344\n",
      "  10.          15.84893192  25.11886432  39.81071706  63.09573445\n",
      " 100.        ]\n"
     ]
    }
   ],
   "source": [
    "x = np.logspace(0,2,11)\n",
    "print(x)"
   ]
  },
  {
   "cell_type": "code",
   "execution_count": 50,
   "metadata": {
    "slideshow": {
     "slide_type": "slide"
    }
   },
   "outputs": [
    {
     "data": {
      "image/png": "[encoded data removed]",
      "text/plain": [
       "<Figure size 432x288 with 1 Axes>"
      ]
     },
     "metadata": {},
     "output_type": "display_data"
    }
   ],
   "source": [
    "x = np.logspace(0,7,50)\n",
    "y = np.square(x)\n",
    "z = np.power(x,3)\n",
    "    \n",
    "plt.plot(x,x,label='x')\n",
    "plt.plot(x,y,label='x^2')\n",
    "plt.plot(x,z,label='x^3',marker='.')\n",
    "plt.legend()\n",
    "plt.title('linear')\n",
    "plt.show()"
   ]
  },
  {
   "cell_type": "code",
   "execution_count": 51,
   "metadata": {
    "slideshow": {
     "slide_type": "slide"
    }
   },
   "outputs": [
    {
     "data": {
      "image/png": "[encoded data removed]",
      "text/plain": [
       "<Figure size 432x288 with 1 Axes>"
      ]
     },
     "metadata": {},
     "output_type": "display_data"
    }
   ],
   "source": [
    "plt.loglog(x,x,label='x')\n",
    "plt.loglog(x,y,label='x^2')\n",
    "plt.loglog(x,z,label='x^3',marker='.')\n",
    "plt.legend()\n",
    "plt.title('loglog')\n",
    "plt.show()"
   ]
  },
  {
   "cell_type": "code",
   "execution_count": 52,
   "metadata": {
    "slideshow": {
     "slide_type": "slide"
    }
   },
   "outputs": [
    {
     "data": {
      "image/png": "[encoded data removed]",
      "text/plain": [
       "<Figure size 432x288 with 1 Axes>"
      ]
     },
     "metadata": {},
     "output_type": "display_data"
    }
   ],
   "source": [
    "plt.semilogx(x,x,label='x')\n",
    "plt.semilogx(x,y,label='x^2')\n",
    "plt.semilogx(x,z,label='x^3',marker='.')\n",
    "plt.legend()\n",
    "plt.title('semilogx')\n",
    "plt.show()"
   ]
  },
  {
   "cell_type": "code",
   "execution_count": 53,
   "metadata": {
    "slideshow": {
     "slide_type": "slide"
    }
   },
   "outputs": [
    {
     "data": {
      "image/png": "[encoded data removed]",
      "text/plain": [
       "<Figure size 432x288 with 1 Axes>"
      ]
     },
     "metadata": {},
     "output_type": "display_data"
    }
   ],
   "source": [
    "plt.semilogy(x,x,label='x')\n",
    "plt.semilogy(x,y,label='x^2')\n",
    "plt.semilogy(x,z,label='x^3',marker='.')\n",
    "plt.legend()\n",
    "plt.title('semilogy')\n",
    "plt.show()"
   ]
  },
  {
   "cell_type": "markdown",
   "metadata": {
    "slideshow": {
     "slide_type": "slide"
    }
   },
   "source": [
    "## Nombres aléatoires"
   ]
  },
  {
   "cell_type": "code",
   "execution_count": 41,
   "metadata": {
    "slideshow": {
     "slide_type": "fragment"
    }
   },
   "outputs": [
    {
     "data": {
      "text/plain": [
       "0.8904618826128218"
      ]
     },
     "execution_count": 41,
     "metadata": {},
     "output_type": "execute_result"
    }
   ],
   "source": [
    "import random\n",
    "\n",
    "random.random()           # nombre aléatoire entre 0 et 1"
   ]
  },
  {
   "cell_type": "code",
   "execution_count": 42,
   "metadata": {
    "slideshow": {
     "slide_type": "fragment"
    }
   },
   "outputs": [
    {
     "data": {
      "text/plain": [
       "51"
      ]
     },
     "execution_count": 42,
     "metadata": {},
     "output_type": "execute_result"
    }
   ],
   "source": [
    "random.randint(0,100)     # entier aléatoire entre 0 et 100 (100 y compris)"
   ]
  },
  {
   "cell_type": "code",
   "execution_count": 43,
   "metadata": {
    "slideshow": {
     "slide_type": "fragment"
    }
   },
   "outputs": [
    {
     "data": {
      "text/plain": [
       "22.854459721264774"
      ]
     },
     "execution_count": 43,
     "metadata": {},
     "output_type": "execute_result"
    }
   ],
   "source": [
    "random.uniform(0,100)     # nombre aléatoire entre 0 et 100, distribution uniforme"
   ]
  },
  {
   "cell_type": "code",
   "execution_count": 44,
   "metadata": {
    "slideshow": {
     "slide_type": "slide"
    }
   },
   "outputs": [
    {
     "data": {
      "image/png": "[encoded data removed]",
      "text/plain": [
       "<Figure size 432x288 with 1 Axes>"
      ]
     },
     "metadata": {},
     "output_type": "display_data"
    }
   ],
   "source": [
    "T = np.random.uniform(0,10,100)    # 100 nombres aléatoires entre 0 et 10\n",
    "\n",
    "plt.stem(T,markerfmt=',',linefmt='black',basefmt='black')\n",
    "plt.show()"
   ]
  },
  {
   "cell_type": "code",
   "execution_count": 45,
   "metadata": {
    "slideshow": {
     "slide_type": "skip"
    }
   },
   "outputs": [
    {
     "data": {
      "image/png": "[encoded data removed]",
      "text/plain": [
       "<Figure size 432x288 with 1 Axes>"
      ]
     },
     "metadata": {},
     "output_type": "display_data"
    }
   ],
   "source": [
    "with plt.xkcd():\n",
    "    plt.loglog(x,x,label='x')\n",
    "    plt.loglog(x,y,label='x^2')\n",
    "    plt.loglog(x,z,label='x^3')\n",
    "    plt.legend()\n",
    "    plt.title('loglog')\n",
    "plt.show()"
   ]
  },
  {
   "cell_type": "markdown",
   "metadata": {
    "slideshow": {
     "slide_type": "slide"
    }
   },
   "source": [
    "[ASD1 Notebooks on GitHub.io](https://ocuisenaire.github.io/ASD1-notebooks/)\n",
    "\n",
    "© Olivier Cuisenaire, 2018"
   ]
  }
 ],
 "metadata": {
  "celltoolbar": "Slideshow",
  "kernelspec": {
   "display_name": "Python 3",
   "language": "python",
   "name": "python3"
  },
  "language_info": {
   "codemirror_mode": {
    "name": "ipython",
    "version": 3
   },
   "file_extension": ".py",
   "mimetype": "text/x-python",
   "name": "python",
   "nbconvert_exporter": "python",
   "pygments_lexer": "ipython3",
   "version": "3.6.5"
  }
 },
 "nbformat": 4,
 "nbformat_minor": 2
}
