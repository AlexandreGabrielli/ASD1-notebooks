{
 "cells": [
  {
   "cell_type": "markdown",
   "metadata": {
    "slideshow": {
     "slide_type": "slide"
    }
   },
   "source": [
    "## Classes en python"
   ]
  },
  {
   "cell_type": "markdown",
   "metadata": {
    "slideshow": {
     "slide_type": "slide"
    }
   },
   "source": [
    "Le but de cette présentation est de présenter le minimum de syntaxe python nécessaire aux chapitres 4 et suivants de ce cours. Dès lors, ce n'est qu'une présentation très partielle de la partie orientée objet de python. \n",
    "\n",
    "Pour des questions plus pointues, vous référer à [la référence du langage](https://docs.python.org/3.7/reference/datamodel.html)."
   ]
  },
  {
   "cell_type": "markdown",
   "metadata": {
    "slideshow": {
     "slide_type": "slide"
    }
   },
   "source": [
    "On peut définir une classe élémentaire selon la syntaxe ci-dessous"
   ]
  },
  {
   "cell_type": "code",
   "execution_count": 1,
   "metadata": {},
   "outputs": [],
   "source": [
    "class Ma_Classe:\n",
    "    def __init__(self, param):       \n",
    "        print(\"Initialisation\")\n",
    "        self.attribut = param\n",
    "        self.__attribut_prive = \"privé\"\n",
    "        \n",
    "    def une_methode(self,param):\n",
    "        print(self.attribut, param)\n",
    "        \n",
    "    def une_methode_sans_parametre(self):\n",
    "        print(self.attribut, \"une_methode_sans_parametre\")"
   ]
  },
  {
   "cell_type": "markdown",
   "metadata": {},
   "source": [
    "Le premier paramètre de toutes les méthodes est l'objet lui même, i.e. l'instanciation de la classe qui appelle la méthode"
   ]
  },
  {
   "cell_type": "markdown",
   "metadata": {
    "slideshow": {
     "slide_type": "slide"
    }
   },
   "source": [
    "La méthode `__init__` correspond au constructeur en C++. Elle est appelée quand on crée un objet et sert à en initialiser les attributs"
   ]
  },
  {
   "cell_type": "code",
   "execution_count": 2,
   "metadata": {},
   "outputs": [],
   "source": [
    "mon_objet = Ma_Classe(\"Hello\")"
   ]
  },
  {
   "cell_type": "markdown",
   "metadata": {
    "slideshow": {
     "slide_type": "fragment"
    }
   },
   "source": [
    "On peut accéder aux attributs de l'objet directement "
   ]
  },
  {
   "cell_type": "code",
   "execution_count": 3,
   "metadata": {},
   "outputs": [],
   "source": [
    "print(mon_objet.attribut)"
   ]
  },
  {
   "cell_type": "markdown",
   "metadata": {
    "slideshow": {
     "slide_type": "subslide"
    }
   },
   "source": [
    "On peut même accéder aux attributs privés. `__NomAttribut` est décoré hors de la classe en `_NomClasse__NomAttribut`"
   ]
  },
  {
   "cell_type": "code",
   "execution_count": 4,
   "metadata": {},
   "outputs": [],
   "source": [
    "print(mon_objet._Ma_Classe__attribut_prive)"
   ]
  },
  {
   "cell_type": "markdown",
   "metadata": {
    "slideshow": {
     "slide_type": "subslide"
    }
   },
   "source": [
    "On peut appeler les méthodes via "
   ]
  },
  {
   "cell_type": "code",
   "execution_count": 5,
   "metadata": {},
   "outputs": [],
   "source": [
    "mon_objet.une_methode(\"World\")"
   ]
  },
  {
   "cell_type": "markdown",
   "metadata": {
    "slideshow": {
     "slide_type": "fragment"
    }
   },
   "source": [
    "qui est en fait du sucre syntactique sur l'appel de la fonction "
   ]
  },
  {
   "cell_type": "code",
   "execution_count": 6,
   "metadata": {},
   "outputs": [
    {
     "name": "stdout",
     "output_type": "stream",
     "text": [
      "Hello World\n"
     ]
    }
   ],
   "source": [
    "Ma_Classe.une_methode(mon_objet,\"World\")"
   ]
  },
  {
   "cell_type": "markdown",
   "metadata": {
    "slideshow": {
     "slide_type": "fragment"
    }
   },
   "source": [
    "Une méthode n'a pas nécessairement de paramètre"
   ]
  },
  {
   "cell_type": "code",
   "execution_count": 7,
   "metadata": {
    "slideshow": {
     "slide_type": "-"
    }
   },
   "outputs": [
    {
     "name": "stdout",
     "output_type": "stream",
     "text": [
      "Hello une_methode_sans_parametre\n"
     ]
    }
   ],
   "source": [
    "mon_objet.une_methode_sans_parametre()"
   ]
  },
  {
   "cell_type": "markdown",
   "metadata": {
    "slideshow": {
     "slide_type": "subslide"
    }
   },
   "source": [
    "Toute fonction peut devenir une méthode de la classe de son premier paramètre. Il suffit d'écrire"
   ]
  },
  {
   "cell_type": "code",
   "execution_count": 8,
   "metadata": {
    "slideshow": {
     "slide_type": "-"
    }
   },
   "outputs": [],
   "source": [
    "def une_fonction(obj):\n",
    "    print(obj.attribut,\"une fonction externe\")\n",
    "\n",
    "Ma_Classe.une_autre_methode = une_fonction"
   ]
  },
  {
   "cell_type": "code",
   "execution_count": 9,
   "metadata": {},
   "outputs": [
    {
     "name": "stdout",
     "output_type": "stream",
     "text": [
      "Hello une fonction externe\n"
     ]
    }
   ],
   "source": [
    "mon_objet.une_autre_methode()"
   ]
  },
  {
   "cell_type": "markdown",
   "metadata": {
    "slideshow": {
     "slide_type": "fragment"
    }
   },
   "source": [
    "qui, rappelons-le, n'est que du sucre autour de "
   ]
  },
  {
   "cell_type": "code",
   "execution_count": 10,
   "metadata": {},
   "outputs": [
    {
     "name": "stdout",
     "output_type": "stream",
     "text": [
      "Hello une fonction externe\n"
     ]
    }
   ],
   "source": [
    "Ma_Classe.une_autre_methode(mon_objet)"
   ]
  },
  {
   "cell_type": "markdown",
   "metadata": {
    "slideshow": {
     "slide_type": "slide"
    }
   },
   "source": [
    "On peut afficher un objet avec la fonction `print`, mais le résultat n'est pas très intéressant"
   ]
  },
  {
   "cell_type": "code",
   "execution_count": 11,
   "metadata": {},
   "outputs": [
    {
     "name": "stdout",
     "output_type": "stream",
     "text": [
      "<__main__.Ma_Classe object at 0x10dd4bd30>\n"
     ]
    }
   ],
   "source": [
    "print(mon_objet)"
   ]
  },
  {
   "cell_type": "markdown",
   "metadata": {
    "slideshow": {
     "slide_type": "fragment"
    }
   },
   "source": [
    "Mais on peut customiser l'affichage en définissant la *méthode magique* `__str__` qui doit retourner une string. Par exemple"
   ]
  },
  {
   "cell_type": "code",
   "execution_count": 12,
   "metadata": {},
   "outputs": [],
   "source": [
    "def maclasse_to_string(obj):\n",
    "    return \"Attribut: {}\".format(obj.attribut)\n",
    "\n",
    "Ma_Classe.__str__ = maclasse_to_string"
   ]
  },
  {
   "cell_type": "code",
   "execution_count": 13,
   "metadata": {},
   "outputs": [
    {
     "name": "stdout",
     "output_type": "stream",
     "text": [
      "Attribut: Hello\n"
     ]
    }
   ],
   "source": [
    "print(mon_objet)"
   ]
  },
  {
   "cell_type": "markdown",
   "metadata": {
    "slideshow": {
     "slide_type": "slide"
    }
   },
   "source": [
    "Il y a de nombreuses autres *fonctions magiques*, qui permettent entre autre de surcharger les opérateurs. Par exemple, pour émuler les \n",
    "[types numériques](https://docs.python.org/3.7/reference/datamodel.html#emulating-numeric-types), on peut surcharger l'opérateur `+` en définissant `__add__(self,other)`. \n",
    "\n",
    "Pour les [types conteneurs](https://docs.python.org/3.7/reference/datamodel.html#emulating-container-types) qui nous intéressent dans ce cours d'ASD, on notera entre autres\n",
    "\n",
    "* `__len__(self)` qui est appelé par la fonction `len(Conteneur)` et retourne le nombre d'éléments\n",
    "\n",
    "\n",
    "\n",
    "* `__getitem__(self)` et `__setitem__(self,val)` qui surchargent l'opérateur `[]` d'accès indexé\n"
   ]
  },
  {
   "cell_type": "markdown",
   "metadata": {
    "slideshow": {
     "slide_type": "slide"
    }
   },
   "source": [
    "<table style=\"width: 100%; border: 0px\">\n",
    "<tr style=\"background-color:white; border:0px\">\n",
    "<td style=\"width: 120px; border: 0px\">\n",
    "    <img src=\"https://heig-vd.ch/ResourcePackages/WhiteFox/assets/images/logo-heig-vd.svg\" height=200px align=left >\n",
    "    </td>\n",
    "    <td style=\"vertical-align: middle; border: 0px\" height=200px>\n",
    "    <p style=\"text-align: left\">\n",
    "        <a href=\"https://ocuisenaire.github.io/ASD1-notebooks/\">ASD1 Notebooks on GitHub.io</a>\n",
    " </p>        \n",
    "<p style=\"text-align: left\">\n",
    "© Olivier Cuisenaire, 2018 </p>\n",
    "</td>\n",
    "</tr>\n",
    "</table>"
   ]
  },
  {
   "cell_type": "raw",
   "metadata": {},
   "source": [
    "<style type=\"text/css\">\n",
    ".reveal {\n",
    "font-size: 200%;\n",
    "}</style>"
   ]
  },
  {
   "cell_type": "code",
   "execution_count": null,
   "metadata": {},
   "outputs": [],
   "source": []
  }
 ],
 "metadata": {
  "celltoolbar": "Slideshow",
  "kernelspec": {
   "display_name": "Python 3",
   "language": "python",
   "name": "python3"
  },
  "language_info": {
   "codemirror_mode": {
    "name": "ipython",
    "version": 3
   },
   "file_extension": ".py",
   "mimetype": "text/x-python",
   "name": "python",
   "nbconvert_exporter": "python",
   "pygments_lexer": "ipython3",
   "version": "3.6.5"
  }
 },
 "nbformat": 4,
 "nbformat_minor": 2
}
